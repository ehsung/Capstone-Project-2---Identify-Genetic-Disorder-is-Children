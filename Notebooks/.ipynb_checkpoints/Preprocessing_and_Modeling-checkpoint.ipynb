{
 "cells": [
  {
   "cell_type": "markdown",
   "id": "0063b215",
   "metadata": {},
   "source": [
    "### Packages"
   ]
  },
  {
   "cell_type": "code",
   "execution_count": 6,
   "id": "561263c0",
   "metadata": {},
   "outputs": [],
   "source": [
    "import pandas as pd\n",
    "import numpy as np\n",
    "import matplotlib.pyplot as plt\n",
    "import seaborn as sns\n",
    "import missingno as msno\n",
    "from sklearn.preprocessing import LabelEncoder, OneHotEncoder, OrdinalEncoder\n",
    "from sklearn.metrics import mean_absolute_error, accuracy_score, classification_report, confusion_matrix\n",
    "from sklearn.compose import ColumnTransformer\n",
    "from sklearn.pipeline import Pipeline\n",
    "from sklearn.impute import SimpleImputer\n",
    "from sklearn.model_selection import train_test_split, cross_val_score, RandomizedSearchCV, GridSearchCV, learning_curve\n",
    "from sklearn.feature_extraction import DictVectorizer\n",
    "from sklearn.utils.class_weight import compute_sample_weight\n",
    "\n",
    "\n",
    "import xgboost as xgb\n",
    "from sklearn.ensemble import RandomForestClassifier, GradientBoostingClassifier\n",
    "\n",
    "import warnings\n",
    "warnings.filterwarnings('ignore')"
   ]
  },
  {
   "cell_type": "markdown",
   "id": "f76606b6",
   "metadata": {},
   "source": [
    "### Load Cleaned Data Set"
   ]
  },
  {
   "cell_type": "code",
   "execution_count": 7,
   "id": "9df3d7c8",
   "metadata": {},
   "outputs": [],
   "source": [
    "train_data = pd.read_csv(\"..\\\\Data\\\\train_data_EDA_processed.csv\", index_col=0)"
   ]
  },
  {
   "cell_type": "code",
   "execution_count": 8,
   "id": "d4a905ad",
   "metadata": {},
   "outputs": [
    {
     "data": {
      "text/html": [
       "<div>\n",
       "<style scoped>\n",
       "    .dataframe tbody tr th:only-of-type {\n",
       "        vertical-align: middle;\n",
       "    }\n",
       "\n",
       "    .dataframe tbody tr th {\n",
       "        vertical-align: top;\n",
       "    }\n",
       "\n",
       "    .dataframe thead th {\n",
       "        text-align: right;\n",
       "    }\n",
       "</style>\n",
       "<table border=\"1\" class=\"dataframe\">\n",
       "  <thead>\n",
       "    <tr style=\"text-align: right;\">\n",
       "      <th></th>\n",
       "      <th>0</th>\n",
       "      <th>1</th>\n",
       "      <th>2</th>\n",
       "      <th>3</th>\n",
       "      <th>4</th>\n",
       "      <th>5</th>\n",
       "      <th>6</th>\n",
       "      <th>7</th>\n",
       "      <th>8</th>\n",
       "      <th>9</th>\n",
       "      <th>...</th>\n",
       "      <th>22073</th>\n",
       "      <th>22074</th>\n",
       "      <th>22075</th>\n",
       "      <th>22076</th>\n",
       "      <th>22077</th>\n",
       "      <th>22078</th>\n",
       "      <th>22079</th>\n",
       "      <th>22080</th>\n",
       "      <th>22081</th>\n",
       "      <th>22082</th>\n",
       "    </tr>\n",
       "  </thead>\n",
       "  <tbody>\n",
       "    <tr>\n",
       "      <th>Patient_Age</th>\n",
       "      <td>2.0</td>\n",
       "      <td>4.0</td>\n",
       "      <td>6.0</td>\n",
       "      <td>12.0</td>\n",
       "      <td>11.0</td>\n",
       "      <td>14.0</td>\n",
       "      <td>3.0</td>\n",
       "      <td>3.0</td>\n",
       "      <td>11.0</td>\n",
       "      <td>4.0</td>\n",
       "      <td>...</td>\n",
       "      <td>13.0</td>\n",
       "      <td>4.0</td>\n",
       "      <td>10.0</td>\n",
       "      <td>0.0</td>\n",
       "      <td>9.0</td>\n",
       "      <td>4.0</td>\n",
       "      <td>8.0</td>\n",
       "      <td>8.0</td>\n",
       "      <td>7.0</td>\n",
       "      <td>11.0</td>\n",
       "    </tr>\n",
       "    <tr>\n",
       "      <th>Mother_Gene</th>\n",
       "      <td>Yes</td>\n",
       "      <td>Yes</td>\n",
       "      <td>Yes</td>\n",
       "      <td>Yes</td>\n",
       "      <td>Yes</td>\n",
       "      <td>Yes</td>\n",
       "      <td>Yes</td>\n",
       "      <td>No</td>\n",
       "      <td>No</td>\n",
       "      <td>No</td>\n",
       "      <td>...</td>\n",
       "      <td>Yes</td>\n",
       "      <td>No</td>\n",
       "      <td>No</td>\n",
       "      <td>Yes</td>\n",
       "      <td>No</td>\n",
       "      <td>Yes</td>\n",
       "      <td>No</td>\n",
       "      <td>Yes</td>\n",
       "      <td>Yes</td>\n",
       "      <td>Yes</td>\n",
       "    </tr>\n",
       "    <tr>\n",
       "      <th>Father_Gene</th>\n",
       "      <td>No</td>\n",
       "      <td>Yes</td>\n",
       "      <td>No</td>\n",
       "      <td>No</td>\n",
       "      <td>No</td>\n",
       "      <td>No</td>\n",
       "      <td>No</td>\n",
       "      <td>No</td>\n",
       "      <td>No</td>\n",
       "      <td>Yes</td>\n",
       "      <td>...</td>\n",
       "      <td>Yes</td>\n",
       "      <td>No</td>\n",
       "      <td>No</td>\n",
       "      <td>No</td>\n",
       "      <td>Yes</td>\n",
       "      <td>Yes</td>\n",
       "      <td>Yes</td>\n",
       "      <td>No</td>\n",
       "      <td>No</td>\n",
       "      <td>No</td>\n",
       "    </tr>\n",
       "    <tr>\n",
       "      <th>Maternal_Gene</th>\n",
       "      <td>Yes</td>\n",
       "      <td>No</td>\n",
       "      <td>No</td>\n",
       "      <td>Yes</td>\n",
       "      <td>NaN</td>\n",
       "      <td>Yes</td>\n",
       "      <td>Yes</td>\n",
       "      <td>Yes</td>\n",
       "      <td>Yes</td>\n",
       "      <td>Yes</td>\n",
       "      <td>...</td>\n",
       "      <td>No</td>\n",
       "      <td>NaN</td>\n",
       "      <td>Yes</td>\n",
       "      <td>Yes</td>\n",
       "      <td>Yes</td>\n",
       "      <td>Yes</td>\n",
       "      <td>No</td>\n",
       "      <td>Yes</td>\n",
       "      <td>Yes</td>\n",
       "      <td>No</td>\n",
       "    </tr>\n",
       "    <tr>\n",
       "      <th>Paternal_Gene</th>\n",
       "      <td>No</td>\n",
       "      <td>No</td>\n",
       "      <td>No</td>\n",
       "      <td>No</td>\n",
       "      <td>Yes</td>\n",
       "      <td>No</td>\n",
       "      <td>Yes</td>\n",
       "      <td>Yes</td>\n",
       "      <td>No</td>\n",
       "      <td>Yes</td>\n",
       "      <td>...</td>\n",
       "      <td>Yes</td>\n",
       "      <td>No</td>\n",
       "      <td>Yes</td>\n",
       "      <td>No</td>\n",
       "      <td>Yes</td>\n",
       "      <td>No</td>\n",
       "      <td>Yes</td>\n",
       "      <td>No</td>\n",
       "      <td>Yes</td>\n",
       "      <td>No</td>\n",
       "    </tr>\n",
       "    <tr>\n",
       "      <th>Blood_Cell</th>\n",
       "      <td>4.760603</td>\n",
       "      <td>4.910669</td>\n",
       "      <td>4.893297</td>\n",
       "      <td>4.70528</td>\n",
       "      <td>4.720703</td>\n",
       "      <td>5.103188</td>\n",
       "      <td>4.90108</td>\n",
       "      <td>4.964816</td>\n",
       "      <td>5.209058</td>\n",
       "      <td>4.752272</td>\n",
       "      <td>...</td>\n",
       "      <td>4.874635</td>\n",
       "      <td>4.789307</td>\n",
       "      <td>4.64386</td>\n",
       "      <td>4.931758</td>\n",
       "      <td>5.012599</td>\n",
       "      <td>5.258298</td>\n",
       "      <td>4.97422</td>\n",
       "      <td>5.18647</td>\n",
       "      <td>4.858543</td>\n",
       "      <td>4.738067</td>\n",
       "    </tr>\n",
       "    <tr>\n",
       "      <th>Mother_Age</th>\n",
       "      <td>NaN</td>\n",
       "      <td>NaN</td>\n",
       "      <td>41.0</td>\n",
       "      <td>21.0</td>\n",
       "      <td>32.0</td>\n",
       "      <td>NaN</td>\n",
       "      <td>NaN</td>\n",
       "      <td>40.0</td>\n",
       "      <td>45.0</td>\n",
       "      <td>44.0</td>\n",
       "      <td>...</td>\n",
       "      <td>44.0</td>\n",
       "      <td>35.0</td>\n",
       "      <td>49.0</td>\n",
       "      <td>NaN</td>\n",
       "      <td>47.0</td>\n",
       "      <td>35.0</td>\n",
       "      <td>NaN</td>\n",
       "      <td>35.0</td>\n",
       "      <td>19.0</td>\n",
       "      <td>32.0</td>\n",
       "    </tr>\n",
       "    <tr>\n",
       "      <th>Father_Age</th>\n",
       "      <td>NaN</td>\n",
       "      <td>23.0</td>\n",
       "      <td>22.0</td>\n",
       "      <td>NaN</td>\n",
       "      <td>NaN</td>\n",
       "      <td>NaN</td>\n",
       "      <td>63.0</td>\n",
       "      <td>NaN</td>\n",
       "      <td>44.0</td>\n",
       "      <td>42.0</td>\n",
       "      <td>...</td>\n",
       "      <td>62.0</td>\n",
       "      <td>51.0</td>\n",
       "      <td>NaN</td>\n",
       "      <td>50.0</td>\n",
       "      <td>NaN</td>\n",
       "      <td>64.0</td>\n",
       "      <td>56.0</td>\n",
       "      <td>51.0</td>\n",
       "      <td>NaN</td>\n",
       "      <td>62.0</td>\n",
       "    </tr>\n",
       "    <tr>\n",
       "      <th>Status</th>\n",
       "      <td>Alive</td>\n",
       "      <td>Deceased</td>\n",
       "      <td>Alive</td>\n",
       "      <td>Deceased</td>\n",
       "      <td>Alive</td>\n",
       "      <td>Deceased</td>\n",
       "      <td>Alive</td>\n",
       "      <td>Alive</td>\n",
       "      <td>Alive</td>\n",
       "      <td>Alive</td>\n",
       "      <td>...</td>\n",
       "      <td>Alive</td>\n",
       "      <td>Alive</td>\n",
       "      <td>Deceased</td>\n",
       "      <td>Alive</td>\n",
       "      <td>Deceased</td>\n",
       "      <td>Deceased</td>\n",
       "      <td>Alive</td>\n",
       "      <td>Deceased</td>\n",
       "      <td>Alive</td>\n",
       "      <td>Deceased</td>\n",
       "    </tr>\n",
       "    <tr>\n",
       "      <th>Respiratory_Rate</th>\n",
       "      <td>Normal (30-60)</td>\n",
       "      <td>Tachypnea</td>\n",
       "      <td>Normal (30-60)</td>\n",
       "      <td>Tachypnea</td>\n",
       "      <td>Tachypnea</td>\n",
       "      <td>NaN</td>\n",
       "      <td>Normal (30-60)</td>\n",
       "      <td>Tachypnea</td>\n",
       "      <td>Tachypnea</td>\n",
       "      <td>Tachypnea</td>\n",
       "      <td>...</td>\n",
       "      <td>Tachypnea</td>\n",
       "      <td>Tachypnea</td>\n",
       "      <td>NaN</td>\n",
       "      <td>Normal (30-60)</td>\n",
       "      <td>NaN</td>\n",
       "      <td>Normal (30-60)</td>\n",
       "      <td>Normal (30-60)</td>\n",
       "      <td>Tachypnea</td>\n",
       "      <td>Tachypnea</td>\n",
       "      <td>Normal (30-60)</td>\n",
       "    </tr>\n",
       "    <tr>\n",
       "      <th>Heart_Rate</th>\n",
       "      <td>Normal</td>\n",
       "      <td>Normal</td>\n",
       "      <td>Tachycardia</td>\n",
       "      <td>Normal</td>\n",
       "      <td>Tachycardia</td>\n",
       "      <td>Normal</td>\n",
       "      <td>NaN</td>\n",
       "      <td>Normal</td>\n",
       "      <td>Tachycardia</td>\n",
       "      <td>Tachycardia</td>\n",
       "      <td>...</td>\n",
       "      <td>Tachycardia</td>\n",
       "      <td>Normal</td>\n",
       "      <td>Normal</td>\n",
       "      <td>Tachycardia</td>\n",
       "      <td>Normal</td>\n",
       "      <td>Tachycardia</td>\n",
       "      <td>Normal</td>\n",
       "      <td>Normal</td>\n",
       "      <td>Tachycardia</td>\n",
       "      <td>Normal</td>\n",
       "    </tr>\n",
       "    <tr>\n",
       "      <th>Follow_Up</th>\n",
       "      <td>High</td>\n",
       "      <td>High</td>\n",
       "      <td>Low</td>\n",
       "      <td>High</td>\n",
       "      <td>Low</td>\n",
       "      <td>Low</td>\n",
       "      <td>Low</td>\n",
       "      <td>Low</td>\n",
       "      <td>Low</td>\n",
       "      <td>Low</td>\n",
       "      <td>...</td>\n",
       "      <td>NaN</td>\n",
       "      <td>Low</td>\n",
       "      <td>Low</td>\n",
       "      <td>Low</td>\n",
       "      <td>NaN</td>\n",
       "      <td>High</td>\n",
       "      <td>High</td>\n",
       "      <td>High</td>\n",
       "      <td>High</td>\n",
       "      <td>High</td>\n",
       "    </tr>\n",
       "    <tr>\n",
       "      <th>Gender</th>\n",
       "      <td>NaN</td>\n",
       "      <td>NaN</td>\n",
       "      <td>NaN</td>\n",
       "      <td>Male</td>\n",
       "      <td>Male</td>\n",
       "      <td>Female</td>\n",
       "      <td>Male</td>\n",
       "      <td>NaN</td>\n",
       "      <td>Male</td>\n",
       "      <td>Male</td>\n",
       "      <td>...</td>\n",
       "      <td>NaN</td>\n",
       "      <td>Male</td>\n",
       "      <td>NaN</td>\n",
       "      <td>Female</td>\n",
       "      <td>NaN</td>\n",
       "      <td>Female</td>\n",
       "      <td>NaN</td>\n",
       "      <td>Male</td>\n",
       "      <td>Male</td>\n",
       "      <td>Female</td>\n",
       "    </tr>\n",
       "    <tr>\n",
       "      <th>Birth_Asphyxia</th>\n",
       "      <td>NaN</td>\n",
       "      <td>No</td>\n",
       "      <td>NaN</td>\n",
       "      <td>NaN</td>\n",
       "      <td>NaN</td>\n",
       "      <td>NaN</td>\n",
       "      <td>NaN</td>\n",
       "      <td>NaN</td>\n",
       "      <td>Yes</td>\n",
       "      <td>No</td>\n",
       "      <td>...</td>\n",
       "      <td>NaN</td>\n",
       "      <td>Yes</td>\n",
       "      <td>No</td>\n",
       "      <td>NaN</td>\n",
       "      <td>NaN</td>\n",
       "      <td>No</td>\n",
       "      <td>No</td>\n",
       "      <td>No</td>\n",
       "      <td>NaN</td>\n",
       "      <td>Yes</td>\n",
       "    </tr>\n",
       "    <tr>\n",
       "      <th>Autopsy_Birth_Defect</th>\n",
       "      <td>NaN</td>\n",
       "      <td>No</td>\n",
       "      <td>NaN</td>\n",
       "      <td>No</td>\n",
       "      <td>NaN</td>\n",
       "      <td>No</td>\n",
       "      <td>NaN</td>\n",
       "      <td>NaN</td>\n",
       "      <td>NaN</td>\n",
       "      <td>NaN</td>\n",
       "      <td>...</td>\n",
       "      <td>NaN</td>\n",
       "      <td>NaN</td>\n",
       "      <td>Yes</td>\n",
       "      <td>NaN</td>\n",
       "      <td>Yes</td>\n",
       "      <td>No</td>\n",
       "      <td>NaN</td>\n",
       "      <td>No</td>\n",
       "      <td>NaN</td>\n",
       "      <td>No</td>\n",
       "    </tr>\n",
       "    <tr>\n",
       "      <th>Birth_Place</th>\n",
       "      <td>Institute</td>\n",
       "      <td>NaN</td>\n",
       "      <td>NaN</td>\n",
       "      <td>Institute</td>\n",
       "      <td>Institute</td>\n",
       "      <td>Institute</td>\n",
       "      <td>Home</td>\n",
       "      <td>Home</td>\n",
       "      <td>Institute</td>\n",
       "      <td>Institute</td>\n",
       "      <td>...</td>\n",
       "      <td>Home</td>\n",
       "      <td>Institute</td>\n",
       "      <td>Home</td>\n",
       "      <td>Institute</td>\n",
       "      <td>Home</td>\n",
       "      <td>Institute</td>\n",
       "      <td>Institute</td>\n",
       "      <td>Home</td>\n",
       "      <td>Home</td>\n",
       "      <td>Institute</td>\n",
       "    </tr>\n",
       "    <tr>\n",
       "      <th>Folic_Acid_Details</th>\n",
       "      <td>No</td>\n",
       "      <td>Yes</td>\n",
       "      <td>Yes</td>\n",
       "      <td>No</td>\n",
       "      <td>No</td>\n",
       "      <td>No</td>\n",
       "      <td>NaN</td>\n",
       "      <td>Yes</td>\n",
       "      <td>Yes</td>\n",
       "      <td>Yes</td>\n",
       "      <td>...</td>\n",
       "      <td>No</td>\n",
       "      <td>No</td>\n",
       "      <td>No</td>\n",
       "      <td>No</td>\n",
       "      <td>Yes</td>\n",
       "      <td>NaN</td>\n",
       "      <td>Yes</td>\n",
       "      <td>No</td>\n",
       "      <td>Yes</td>\n",
       "      <td>Yes</td>\n",
       "    </tr>\n",
       "    <tr>\n",
       "      <th>Maternal_Illness</th>\n",
       "      <td>NaN</td>\n",
       "      <td>Yes</td>\n",
       "      <td>No</td>\n",
       "      <td>Yes</td>\n",
       "      <td>Yes</td>\n",
       "      <td>No</td>\n",
       "      <td>Yes</td>\n",
       "      <td>Yes</td>\n",
       "      <td>Yes</td>\n",
       "      <td>No</td>\n",
       "      <td>...</td>\n",
       "      <td>NaN</td>\n",
       "      <td>No</td>\n",
       "      <td>NaN</td>\n",
       "      <td>No</td>\n",
       "      <td>No</td>\n",
       "      <td>No</td>\n",
       "      <td>Yes</td>\n",
       "      <td>No</td>\n",
       "      <td>Yes</td>\n",
       "      <td>Yes</td>\n",
       "    </tr>\n",
       "    <tr>\n",
       "      <th>Radiation_Exposure</th>\n",
       "      <td>No</td>\n",
       "      <td>NaN</td>\n",
       "      <td>Yes</td>\n",
       "      <td>NaN</td>\n",
       "      <td>NaN</td>\n",
       "      <td>No</td>\n",
       "      <td>No</td>\n",
       "      <td>No</td>\n",
       "      <td>No</td>\n",
       "      <td>No</td>\n",
       "      <td>...</td>\n",
       "      <td>No</td>\n",
       "      <td>NaN</td>\n",
       "      <td>NaN</td>\n",
       "      <td>NaN</td>\n",
       "      <td>No</td>\n",
       "      <td>NaN</td>\n",
       "      <td>No</td>\n",
       "      <td>NaN</td>\n",
       "      <td>NaN</td>\n",
       "      <td>NaN</td>\n",
       "    </tr>\n",
       "    <tr>\n",
       "      <th>Substance_Abuse</th>\n",
       "      <td>No</td>\n",
       "      <td>NaN</td>\n",
       "      <td>NaN</td>\n",
       "      <td>NaN</td>\n",
       "      <td>NaN</td>\n",
       "      <td>No</td>\n",
       "      <td>NaN</td>\n",
       "      <td>NaN</td>\n",
       "      <td>No</td>\n",
       "      <td>No</td>\n",
       "      <td>...</td>\n",
       "      <td>No</td>\n",
       "      <td>No</td>\n",
       "      <td>NaN</td>\n",
       "      <td>No</td>\n",
       "      <td>NaN</td>\n",
       "      <td>No</td>\n",
       "      <td>NaN</td>\n",
       "      <td>No</td>\n",
       "      <td>Yes</td>\n",
       "      <td>No</td>\n",
       "    </tr>\n",
       "    <tr>\n",
       "      <th>Assisted_Conception</th>\n",
       "      <td>No</td>\n",
       "      <td>No</td>\n",
       "      <td>Yes</td>\n",
       "      <td>NaN</td>\n",
       "      <td>Yes</td>\n",
       "      <td>NaN</td>\n",
       "      <td>Yes</td>\n",
       "      <td>No</td>\n",
       "      <td>No</td>\n",
       "      <td>Yes</td>\n",
       "      <td>...</td>\n",
       "      <td>Yes</td>\n",
       "      <td>No</td>\n",
       "      <td>Yes</td>\n",
       "      <td>Yes</td>\n",
       "      <td>Yes</td>\n",
       "      <td>Yes</td>\n",
       "      <td>Yes</td>\n",
       "      <td>No</td>\n",
       "      <td>Yes</td>\n",
       "      <td>Yes</td>\n",
       "    </tr>\n",
       "    <tr>\n",
       "      <th>History_Pregnancies</th>\n",
       "      <td>Yes</td>\n",
       "      <td>Yes</td>\n",
       "      <td>Yes</td>\n",
       "      <td>Yes</td>\n",
       "      <td>No</td>\n",
       "      <td>No</td>\n",
       "      <td>No</td>\n",
       "      <td>Yes</td>\n",
       "      <td>Yes</td>\n",
       "      <td>Yes</td>\n",
       "      <td>...</td>\n",
       "      <td>No</td>\n",
       "      <td>No</td>\n",
       "      <td>Yes</td>\n",
       "      <td>Yes</td>\n",
       "      <td>Yes</td>\n",
       "      <td>No</td>\n",
       "      <td>No</td>\n",
       "      <td>No</td>\n",
       "      <td>No</td>\n",
       "      <td>Yes</td>\n",
       "    </tr>\n",
       "    <tr>\n",
       "      <th>Previous_Abortions</th>\n",
       "      <td>NaN</td>\n",
       "      <td>NaN</td>\n",
       "      <td>4.0</td>\n",
       "      <td>1.0</td>\n",
       "      <td>4.0</td>\n",
       "      <td>0.0</td>\n",
       "      <td>3.0</td>\n",
       "      <td>1.0</td>\n",
       "      <td>0.0</td>\n",
       "      <td>1.0</td>\n",
       "      <td>...</td>\n",
       "      <td>1.0</td>\n",
       "      <td>3.0</td>\n",
       "      <td>2.0</td>\n",
       "      <td>1.0</td>\n",
       "      <td>NaN</td>\n",
       "      <td>3.0</td>\n",
       "      <td>2.0</td>\n",
       "      <td>2.0</td>\n",
       "      <td>1.0</td>\n",
       "      <td>4.0</td>\n",
       "    </tr>\n",
       "    <tr>\n",
       "      <th>Birth_Defects</th>\n",
       "      <td>NaN</td>\n",
       "      <td>Multiple</td>\n",
       "      <td>Singular</td>\n",
       "      <td>Singular</td>\n",
       "      <td>Multiple</td>\n",
       "      <td>Multiple</td>\n",
       "      <td>Multiple</td>\n",
       "      <td>Singular</td>\n",
       "      <td>Multiple</td>\n",
       "      <td>Multiple</td>\n",
       "      <td>...</td>\n",
       "      <td>NaN</td>\n",
       "      <td>Multiple</td>\n",
       "      <td>Multiple</td>\n",
       "      <td>Singular</td>\n",
       "      <td>NaN</td>\n",
       "      <td>Multiple</td>\n",
       "      <td>Multiple</td>\n",
       "      <td>Singular</td>\n",
       "      <td>Multiple</td>\n",
       "      <td>Singular</td>\n",
       "    </tr>\n",
       "    <tr>\n",
       "      <th>White_Blood_Cell</th>\n",
       "      <td>9.857562</td>\n",
       "      <td>5.52256</td>\n",
       "      <td>NaN</td>\n",
       "      <td>7.919321</td>\n",
       "      <td>4.09821</td>\n",
       "      <td>10.27223</td>\n",
       "      <td>6.825974</td>\n",
       "      <td>9.836352</td>\n",
       "      <td>6.669552</td>\n",
       "      <td>6.397702</td>\n",
       "      <td>...</td>\n",
       "      <td>NaN</td>\n",
       "      <td>NaN</td>\n",
       "      <td>9.581455</td>\n",
       "      <td>11.649052</td>\n",
       "      <td>12.0</td>\n",
       "      <td>6.584811</td>\n",
       "      <td>7.041556</td>\n",
       "      <td>7.715464</td>\n",
       "      <td>8.43767</td>\n",
       "      <td>11.188371</td>\n",
       "    </tr>\n",
       "    <tr>\n",
       "      <th>Blood_Test</th>\n",
       "      <td>NaN</td>\n",
       "      <td>normal</td>\n",
       "      <td>normal</td>\n",
       "      <td>NaN</td>\n",
       "      <td>NaN</td>\n",
       "      <td>normal</td>\n",
       "      <td>normal</td>\n",
       "      <td>NaN</td>\n",
       "      <td>slightly abnormal</td>\n",
       "      <td>abnormal</td>\n",
       "      <td>...</td>\n",
       "      <td>normal</td>\n",
       "      <td>normal</td>\n",
       "      <td>abnormal</td>\n",
       "      <td>abnormal</td>\n",
       "      <td>slightly abnormal</td>\n",
       "      <td>NaN</td>\n",
       "      <td>NaN</td>\n",
       "      <td>normal</td>\n",
       "      <td>abnormal</td>\n",
       "      <td>normal</td>\n",
       "    </tr>\n",
       "    <tr>\n",
       "      <th>Symptom_1</th>\n",
       "      <td>1.0</td>\n",
       "      <td>1.0</td>\n",
       "      <td>0.0</td>\n",
       "      <td>0.0</td>\n",
       "      <td>0.0</td>\n",
       "      <td>1.0</td>\n",
       "      <td>0.0</td>\n",
       "      <td>0.0</td>\n",
       "      <td>1.0</td>\n",
       "      <td>0.0</td>\n",
       "      <td>...</td>\n",
       "      <td>0.0</td>\n",
       "      <td>0.0</td>\n",
       "      <td>1.0</td>\n",
       "      <td>1.0</td>\n",
       "      <td>NaN</td>\n",
       "      <td>0.0</td>\n",
       "      <td>1.0</td>\n",
       "      <td>0.0</td>\n",
       "      <td>1.0</td>\n",
       "      <td>1.0</td>\n",
       "    </tr>\n",
       "    <tr>\n",
       "      <th>Symptom_2</th>\n",
       "      <td>1.0</td>\n",
       "      <td>NaN</td>\n",
       "      <td>1.0</td>\n",
       "      <td>0.0</td>\n",
       "      <td>0.0</td>\n",
       "      <td>0.0</td>\n",
       "      <td>0.0</td>\n",
       "      <td>0.0</td>\n",
       "      <td>1.0</td>\n",
       "      <td>0.0</td>\n",
       "      <td>...</td>\n",
       "      <td>0.0</td>\n",
       "      <td>0.0</td>\n",
       "      <td>0.0</td>\n",
       "      <td>1.0</td>\n",
       "      <td>1.0</td>\n",
       "      <td>0.0</td>\n",
       "      <td>1.0</td>\n",
       "      <td>0.0</td>\n",
       "      <td>1.0</td>\n",
       "      <td>0.0</td>\n",
       "    </tr>\n",
       "    <tr>\n",
       "      <th>Symptom_3</th>\n",
       "      <td>1.0</td>\n",
       "      <td>1.0</td>\n",
       "      <td>1.0</td>\n",
       "      <td>1.0</td>\n",
       "      <td>0.0</td>\n",
       "      <td>0.0</td>\n",
       "      <td>0.0</td>\n",
       "      <td>1.0</td>\n",
       "      <td>1.0</td>\n",
       "      <td>1.0</td>\n",
       "      <td>...</td>\n",
       "      <td>0.0</td>\n",
       "      <td>1.0</td>\n",
       "      <td>0.0</td>\n",
       "      <td>0.0</td>\n",
       "      <td>0.0</td>\n",
       "      <td>1.0</td>\n",
       "      <td>1.0</td>\n",
       "      <td>0.0</td>\n",
       "      <td>1.0</td>\n",
       "      <td>1.0</td>\n",
       "    </tr>\n",
       "    <tr>\n",
       "      <th>Symptom_4</th>\n",
       "      <td>1.0</td>\n",
       "      <td>1.0</td>\n",
       "      <td>1.0</td>\n",
       "      <td>0.0</td>\n",
       "      <td>0.0</td>\n",
       "      <td>1.0</td>\n",
       "      <td>0.0</td>\n",
       "      <td>NaN</td>\n",
       "      <td>0.0</td>\n",
       "      <td>1.0</td>\n",
       "      <td>...</td>\n",
       "      <td>1.0</td>\n",
       "      <td>0.0</td>\n",
       "      <td>0.0</td>\n",
       "      <td>1.0</td>\n",
       "      <td>0.0</td>\n",
       "      <td>0.0</td>\n",
       "      <td>1.0</td>\n",
       "      <td>1.0</td>\n",
       "      <td>0.0</td>\n",
       "      <td>1.0</td>\n",
       "    </tr>\n",
       "    <tr>\n",
       "      <th>Symptom_5</th>\n",
       "      <td>1.0</td>\n",
       "      <td>0.0</td>\n",
       "      <td>1.0</td>\n",
       "      <td>0.0</td>\n",
       "      <td>NaN</td>\n",
       "      <td>0.0</td>\n",
       "      <td>0.0</td>\n",
       "      <td>0.0</td>\n",
       "      <td>1.0</td>\n",
       "      <td>1.0</td>\n",
       "      <td>...</td>\n",
       "      <td>1.0</td>\n",
       "      <td>0.0</td>\n",
       "      <td>NaN</td>\n",
       "      <td>0.0</td>\n",
       "      <td>0.0</td>\n",
       "      <td>0.0</td>\n",
       "      <td>0.0</td>\n",
       "      <td>NaN</td>\n",
       "      <td>0.0</td>\n",
       "      <td>1.0</td>\n",
       "    </tr>\n",
       "    <tr>\n",
       "      <th>Disorder_Subclass</th>\n",
       "      <td>Leber's hereditary optic neuropathy</td>\n",
       "      <td>Cystic fibrosis</td>\n",
       "      <td>Diabetes</td>\n",
       "      <td>Leigh syndrome</td>\n",
       "      <td>Cancer</td>\n",
       "      <td>Cystic fibrosis</td>\n",
       "      <td>Tay-Sachs</td>\n",
       "      <td>Tay-Sachs</td>\n",
       "      <td>Leigh syndrome</td>\n",
       "      <td>Diabetes</td>\n",
       "      <td>...</td>\n",
       "      <td>Leigh syndrome</td>\n",
       "      <td>Hemochromatosis</td>\n",
       "      <td>Mitochondrial myopathy</td>\n",
       "      <td>Leigh syndrome</td>\n",
       "      <td>Leigh syndrome</td>\n",
       "      <td>Leigh syndrome</td>\n",
       "      <td>Diabetes</td>\n",
       "      <td>Mitochondrial myopathy</td>\n",
       "      <td>Leigh syndrome</td>\n",
       "      <td>Diabetes</td>\n",
       "    </tr>\n",
       "  </tbody>\n",
       "</table>\n",
       "<p>32 rows × 19915 columns</p>\n",
       "</div>"
      ],
      "text/plain": [
       "                                                    0                1      \\\n",
       "Patient_Age                                           2.0              4.0   \n",
       "Mother_Gene                                           Yes              Yes   \n",
       "Father_Gene                                            No              Yes   \n",
       "Maternal_Gene                                         Yes               No   \n",
       "Paternal_Gene                                          No               No   \n",
       "Blood_Cell                                       4.760603         4.910669   \n",
       "Mother_Age                                            NaN              NaN   \n",
       "Father_Age                                            NaN             23.0   \n",
       "Status                                              Alive         Deceased   \n",
       "Respiratory_Rate                           Normal (30-60)        Tachypnea   \n",
       "Heart_Rate                                         Normal           Normal   \n",
       "Follow_Up                                            High             High   \n",
       "Gender                                                NaN              NaN   \n",
       "Birth_Asphyxia                                        NaN               No   \n",
       "Autopsy_Birth_Defect                                  NaN               No   \n",
       "Birth_Place                                     Institute              NaN   \n",
       "Folic_Acid_Details                                     No              Yes   \n",
       "Maternal_Illness                                      NaN              Yes   \n",
       "Radiation_Exposure                                     No              NaN   \n",
       "Substance_Abuse                                        No              NaN   \n",
       "Assisted_Conception                                    No               No   \n",
       "History_Pregnancies                                   Yes              Yes   \n",
       "Previous_Abortions                                    NaN              NaN   \n",
       "Birth_Defects                                         NaN         Multiple   \n",
       "White_Blood_Cell                                 9.857562          5.52256   \n",
       "Blood_Test                                            NaN           normal   \n",
       "Symptom_1                                             1.0              1.0   \n",
       "Symptom_2                                             1.0              NaN   \n",
       "Symptom_3                                             1.0              1.0   \n",
       "Symptom_4                                             1.0              1.0   \n",
       "Symptom_5                                             1.0              0.0   \n",
       "Disorder_Subclass     Leber's hereditary optic neuropathy  Cystic fibrosis   \n",
       "\n",
       "                               2               3            4      \\\n",
       "Patient_Age                      6.0            12.0         11.0   \n",
       "Mother_Gene                      Yes             Yes          Yes   \n",
       "Father_Gene                       No              No           No   \n",
       "Maternal_Gene                     No             Yes          NaN   \n",
       "Paternal_Gene                     No              No          Yes   \n",
       "Blood_Cell                  4.893297         4.70528     4.720703   \n",
       "Mother_Age                      41.0            21.0         32.0   \n",
       "Father_Age                      22.0             NaN          NaN   \n",
       "Status                         Alive        Deceased        Alive   \n",
       "Respiratory_Rate      Normal (30-60)       Tachypnea    Tachypnea   \n",
       "Heart_Rate               Tachycardia          Normal  Tachycardia   \n",
       "Follow_Up                        Low            High          Low   \n",
       "Gender                           NaN            Male         Male   \n",
       "Birth_Asphyxia                   NaN             NaN          NaN   \n",
       "Autopsy_Birth_Defect             NaN              No          NaN   \n",
       "Birth_Place                      NaN       Institute    Institute   \n",
       "Folic_Acid_Details               Yes              No           No   \n",
       "Maternal_Illness                  No             Yes          Yes   \n",
       "Radiation_Exposure               Yes             NaN          NaN   \n",
       "Substance_Abuse                  NaN             NaN          NaN   \n",
       "Assisted_Conception              Yes             NaN          Yes   \n",
       "History_Pregnancies              Yes             Yes           No   \n",
       "Previous_Abortions               4.0             1.0          4.0   \n",
       "Birth_Defects               Singular        Singular     Multiple   \n",
       "White_Blood_Cell                 NaN        7.919321      4.09821   \n",
       "Blood_Test                    normal             NaN          NaN   \n",
       "Symptom_1                        0.0             0.0          0.0   \n",
       "Symptom_2                        1.0             0.0          0.0   \n",
       "Symptom_3                        1.0             1.0          0.0   \n",
       "Symptom_4                        1.0             0.0          0.0   \n",
       "Symptom_5                        1.0             0.0          NaN   \n",
       "Disorder_Subclass           Diabetes  Leigh syndrome       Cancer   \n",
       "\n",
       "                                5               6          7      \\\n",
       "Patient_Age                      14.0             3.0        3.0   \n",
       "Mother_Gene                       Yes             Yes         No   \n",
       "Father_Gene                        No              No         No   \n",
       "Maternal_Gene                     Yes             Yes        Yes   \n",
       "Paternal_Gene                      No             Yes        Yes   \n",
       "Blood_Cell                   5.103188         4.90108   4.964816   \n",
       "Mother_Age                        NaN             NaN       40.0   \n",
       "Father_Age                        NaN            63.0        NaN   \n",
       "Status                       Deceased           Alive      Alive   \n",
       "Respiratory_Rate                  NaN  Normal (30-60)  Tachypnea   \n",
       "Heart_Rate                     Normal             NaN     Normal   \n",
       "Follow_Up                         Low             Low        Low   \n",
       "Gender                         Female            Male        NaN   \n",
       "Birth_Asphyxia                    NaN             NaN        NaN   \n",
       "Autopsy_Birth_Defect               No             NaN        NaN   \n",
       "Birth_Place                 Institute            Home       Home   \n",
       "Folic_Acid_Details                 No             NaN        Yes   \n",
       "Maternal_Illness                   No             Yes        Yes   \n",
       "Radiation_Exposure                 No              No         No   \n",
       "Substance_Abuse                    No             NaN        NaN   \n",
       "Assisted_Conception               NaN             Yes         No   \n",
       "History_Pregnancies                No              No        Yes   \n",
       "Previous_Abortions                0.0             3.0        1.0   \n",
       "Birth_Defects                Multiple        Multiple   Singular   \n",
       "White_Blood_Cell             10.27223        6.825974   9.836352   \n",
       "Blood_Test                     normal          normal        NaN   \n",
       "Symptom_1                         1.0             0.0        0.0   \n",
       "Symptom_2                         0.0             0.0        0.0   \n",
       "Symptom_3                         0.0             0.0        1.0   \n",
       "Symptom_4                         1.0             0.0        NaN   \n",
       "Symptom_5                         0.0             0.0        0.0   \n",
       "Disorder_Subclass     Cystic fibrosis       Tay-Sachs  Tay-Sachs   \n",
       "\n",
       "                                  8            9      ...           22073  \\\n",
       "Patient_Age                        11.0          4.0  ...            13.0   \n",
       "Mother_Gene                          No           No  ...             Yes   \n",
       "Father_Gene                          No          Yes  ...             Yes   \n",
       "Maternal_Gene                       Yes          Yes  ...              No   \n",
       "Paternal_Gene                        No          Yes  ...             Yes   \n",
       "Blood_Cell                     5.209058     4.752272  ...        4.874635   \n",
       "Mother_Age                         45.0         44.0  ...            44.0   \n",
       "Father_Age                         44.0         42.0  ...            62.0   \n",
       "Status                            Alive        Alive  ...           Alive   \n",
       "Respiratory_Rate              Tachypnea    Tachypnea  ...       Tachypnea   \n",
       "Heart_Rate                  Tachycardia  Tachycardia  ...     Tachycardia   \n",
       "Follow_Up                           Low          Low  ...             NaN   \n",
       "Gender                             Male         Male  ...             NaN   \n",
       "Birth_Asphyxia                      Yes           No  ...             NaN   \n",
       "Autopsy_Birth_Defect                NaN          NaN  ...             NaN   \n",
       "Birth_Place                   Institute    Institute  ...            Home   \n",
       "Folic_Acid_Details                  Yes          Yes  ...              No   \n",
       "Maternal_Illness                    Yes           No  ...             NaN   \n",
       "Radiation_Exposure                   No           No  ...              No   \n",
       "Substance_Abuse                      No           No  ...              No   \n",
       "Assisted_Conception                  No          Yes  ...             Yes   \n",
       "History_Pregnancies                 Yes          Yes  ...              No   \n",
       "Previous_Abortions                  0.0          1.0  ...             1.0   \n",
       "Birth_Defects                  Multiple     Multiple  ...             NaN   \n",
       "White_Blood_Cell               6.669552     6.397702  ...             NaN   \n",
       "Blood_Test            slightly abnormal     abnormal  ...          normal   \n",
       "Symptom_1                           1.0          0.0  ...             0.0   \n",
       "Symptom_2                           1.0          0.0  ...             0.0   \n",
       "Symptom_3                           1.0          1.0  ...             0.0   \n",
       "Symptom_4                           0.0          1.0  ...             1.0   \n",
       "Symptom_5                           1.0          1.0  ...             1.0   \n",
       "Disorder_Subclass        Leigh syndrome     Diabetes  ...  Leigh syndrome   \n",
       "\n",
       "                                22074                   22075           22076  \\\n",
       "Patient_Age                       4.0                    10.0             0.0   \n",
       "Mother_Gene                        No                      No             Yes   \n",
       "Father_Gene                        No                      No              No   \n",
       "Maternal_Gene                     NaN                     Yes             Yes   \n",
       "Paternal_Gene                      No                     Yes              No   \n",
       "Blood_Cell                   4.789307                 4.64386        4.931758   \n",
       "Mother_Age                       35.0                    49.0             NaN   \n",
       "Father_Age                       51.0                     NaN            50.0   \n",
       "Status                          Alive                Deceased           Alive   \n",
       "Respiratory_Rate            Tachypnea                     NaN  Normal (30-60)   \n",
       "Heart_Rate                     Normal                  Normal     Tachycardia   \n",
       "Follow_Up                         Low                     Low             Low   \n",
       "Gender                           Male                     NaN          Female   \n",
       "Birth_Asphyxia                    Yes                      No             NaN   \n",
       "Autopsy_Birth_Defect              NaN                     Yes             NaN   \n",
       "Birth_Place                 Institute                    Home       Institute   \n",
       "Folic_Acid_Details                 No                      No              No   \n",
       "Maternal_Illness                   No                     NaN              No   \n",
       "Radiation_Exposure                NaN                     NaN             NaN   \n",
       "Substance_Abuse                    No                     NaN              No   \n",
       "Assisted_Conception                No                     Yes             Yes   \n",
       "History_Pregnancies                No                     Yes             Yes   \n",
       "Previous_Abortions                3.0                     2.0             1.0   \n",
       "Birth_Defects                Multiple                Multiple        Singular   \n",
       "White_Blood_Cell                  NaN                9.581455       11.649052   \n",
       "Blood_Test                     normal                abnormal        abnormal   \n",
       "Symptom_1                         0.0                     1.0             1.0   \n",
       "Symptom_2                         0.0                     0.0             1.0   \n",
       "Symptom_3                         1.0                     0.0             0.0   \n",
       "Symptom_4                         0.0                     0.0             1.0   \n",
       "Symptom_5                         0.0                     NaN             0.0   \n",
       "Disorder_Subclass     Hemochromatosis  Mitochondrial myopathy  Leigh syndrome   \n",
       "\n",
       "                                  22077           22078           22079  \\\n",
       "Patient_Age                         9.0             4.0             8.0   \n",
       "Mother_Gene                          No             Yes              No   \n",
       "Father_Gene                         Yes             Yes             Yes   \n",
       "Maternal_Gene                       Yes             Yes              No   \n",
       "Paternal_Gene                       Yes              No             Yes   \n",
       "Blood_Cell                     5.012599        5.258298         4.97422   \n",
       "Mother_Age                         47.0            35.0             NaN   \n",
       "Father_Age                          NaN            64.0            56.0   \n",
       "Status                         Deceased        Deceased           Alive   \n",
       "Respiratory_Rate                    NaN  Normal (30-60)  Normal (30-60)   \n",
       "Heart_Rate                       Normal     Tachycardia          Normal   \n",
       "Follow_Up                           NaN            High            High   \n",
       "Gender                              NaN          Female             NaN   \n",
       "Birth_Asphyxia                      NaN              No              No   \n",
       "Autopsy_Birth_Defect                Yes              No             NaN   \n",
       "Birth_Place                        Home       Institute       Institute   \n",
       "Folic_Acid_Details                  Yes             NaN             Yes   \n",
       "Maternal_Illness                     No              No             Yes   \n",
       "Radiation_Exposure                   No             NaN              No   \n",
       "Substance_Abuse                     NaN              No             NaN   \n",
       "Assisted_Conception                 Yes             Yes             Yes   \n",
       "History_Pregnancies                 Yes              No              No   \n",
       "Previous_Abortions                  NaN             3.0             2.0   \n",
       "Birth_Defects                       NaN        Multiple        Multiple   \n",
       "White_Blood_Cell                   12.0        6.584811        7.041556   \n",
       "Blood_Test            slightly abnormal             NaN             NaN   \n",
       "Symptom_1                           NaN             0.0             1.0   \n",
       "Symptom_2                           1.0             0.0             1.0   \n",
       "Symptom_3                           0.0             1.0             1.0   \n",
       "Symptom_4                           0.0             0.0             1.0   \n",
       "Symptom_5                           0.0             0.0             0.0   \n",
       "Disorder_Subclass        Leigh syndrome  Leigh syndrome        Diabetes   \n",
       "\n",
       "                                       22080           22081           22082  \n",
       "Patient_Age                              8.0             7.0            11.0  \n",
       "Mother_Gene                              Yes             Yes             Yes  \n",
       "Father_Gene                               No              No              No  \n",
       "Maternal_Gene                            Yes             Yes              No  \n",
       "Paternal_Gene                             No             Yes              No  \n",
       "Blood_Cell                           5.18647        4.858543        4.738067  \n",
       "Mother_Age                              35.0            19.0            32.0  \n",
       "Father_Age                              51.0             NaN            62.0  \n",
       "Status                              Deceased           Alive        Deceased  \n",
       "Respiratory_Rate                   Tachypnea       Tachypnea  Normal (30-60)  \n",
       "Heart_Rate                            Normal     Tachycardia          Normal  \n",
       "Follow_Up                               High            High            High  \n",
       "Gender                                  Male            Male          Female  \n",
       "Birth_Asphyxia                            No             NaN             Yes  \n",
       "Autopsy_Birth_Defect                      No             NaN              No  \n",
       "Birth_Place                             Home            Home       Institute  \n",
       "Folic_Acid_Details                        No             Yes             Yes  \n",
       "Maternal_Illness                          No             Yes             Yes  \n",
       "Radiation_Exposure                       NaN             NaN             NaN  \n",
       "Substance_Abuse                           No             Yes              No  \n",
       "Assisted_Conception                       No             Yes             Yes  \n",
       "History_Pregnancies                       No              No             Yes  \n",
       "Previous_Abortions                       2.0             1.0             4.0  \n",
       "Birth_Defects                       Singular        Multiple        Singular  \n",
       "White_Blood_Cell                    7.715464         8.43767       11.188371  \n",
       "Blood_Test                            normal        abnormal          normal  \n",
       "Symptom_1                                0.0             1.0             1.0  \n",
       "Symptom_2                                0.0             1.0             0.0  \n",
       "Symptom_3                                0.0             1.0             1.0  \n",
       "Symptom_4                                1.0             0.0             1.0  \n",
       "Symptom_5                                NaN             0.0             1.0  \n",
       "Disorder_Subclass     Mitochondrial myopathy  Leigh syndrome        Diabetes  \n",
       "\n",
       "[32 rows x 19915 columns]"
      ]
     },
     "execution_count": 8,
     "metadata": {},
     "output_type": "execute_result"
    }
   ],
   "source": [
    "train_data.T"
   ]
  },
  {
   "cell_type": "code",
   "execution_count": 9,
   "id": "c8a72bb2",
   "metadata": {},
   "outputs": [
    {
     "name": "stdout",
     "output_type": "stream",
     "text": [
      "<class 'pandas.core.frame.DataFrame'>\n",
      "Int64Index: 19915 entries, 0 to 22082\n",
      "Data columns (total 32 columns):\n",
      " #   Column                Non-Null Count  Dtype  \n",
      "---  ------                --------------  -----  \n",
      " 0   Patient_Age           18672 non-null  float64\n",
      " 1   Mother_Gene           19915 non-null  object \n",
      " 2   Father_Gene           19652 non-null  object \n",
      " 3   Maternal_Gene         17510 non-null  object \n",
      " 4   Paternal_Gene         19915 non-null  object \n",
      " 5   Blood_Cell            19915 non-null  float64\n",
      " 6   Mother_Age            14719 non-null  float64\n",
      " 7   Father_Age            14796 non-null  float64\n",
      " 8   Status                19915 non-null  object \n",
      " 9   Respiratory_Rate      18058 non-null  object \n",
      " 10  Heart_Rate            18127 non-null  object \n",
      " 11  Follow_Up             18070 non-null  object \n",
      " 12  Gender                12008 non-null  object \n",
      " 13  Birth_Asphyxia        9060 non-null   object \n",
      " 14  Autopsy_Birth_Defect  9013 non-null   object \n",
      " 15  Birth_Place           18060 non-null  object \n",
      " 16  Folic_Acid_Details    18092 non-null  object \n",
      " 17  Maternal_Illness      18084 non-null  object \n",
      " 18  Radiation_Exposure    9077 non-null   object \n",
      " 19  Substance_Abuse       9068 non-null   object \n",
      " 20  Assisted_Conception   18085 non-null  object \n",
      " 21  History_Pregnancies   18070 non-null  object \n",
      " 22  Previous_Abortions    18080 non-null  float64\n",
      " 23  Birth_Defects         18070 non-null  object \n",
      " 24  White_Blood_Cell      18039 non-null  float64\n",
      " 25  Blood_Test            13593 non-null  object \n",
      " 26  Symptom_1             18062 non-null  float64\n",
      " 27  Symptom_2             17991 non-null  float64\n",
      " 28  Symptom_3             18129 non-null  float64\n",
      " 29  Symptom_4             18102 non-null  float64\n",
      " 30  Symptom_5             18034 non-null  float64\n",
      " 31  Disorder_Subclass     19915 non-null  object \n",
      "dtypes: float64(11), object(21)\n",
      "memory usage: 5.5+ MB\n"
     ]
    }
   ],
   "source": [
    "train_data.info()"
   ]
  },
  {
   "cell_type": "code",
   "execution_count": 10,
   "id": "0d2765f8",
   "metadata": {},
   "outputs": [
    {
     "data": {
      "image/png": "[encoded data removed]",
      "text/plain": [
       "<Figure size 1800x720 with 2 Axes>"
      ]
     },
     "metadata": {
      "needs_background": "light"
     },
     "output_type": "display_data"
    }
   ],
   "source": [
    "msno.matrix(train_data)\n",
    "plt.show()"
   ]
  },
  {
   "cell_type": "markdown",
   "id": "4441375f",
   "metadata": {},
   "source": [
    "### Road-Map Preprocessing "
   ]
  },
  {
   "cell_type": "markdown",
   "id": "21f213a2",
   "metadata": {},
   "source": [
    "Given the large amounts of missing data within certain columns and the misrepresentation effect that a mean or median imputation would have on the data when identifying disorder subclasses, I decided to go with constant imputation. Using constant imputation and creating missing values as its own catagorical group, I will have the model decide what information the missing values will be able to provide when classifying. Thus I will look into RandomForestClassifier, GradientBoostingClassifier and XGBoost, since they all use tree based modeling which are able to split on constant imputed missing values. These model algorithms also do not care and actually performs better without OneHotEncoding. This way, I will be able to keep track of my features."
   ]
  },
  {
   "cell_type": "markdown",
   "id": "7952066e",
   "metadata": {},
   "source": [
    "### Preprocessing Pipeline"
   ]
  },
  {
   "cell_type": "code",
   "execution_count": 11,
   "id": "0c479275",
   "metadata": {},
   "outputs": [],
   "source": [
    "# Split the data into feature X and target y\n",
    "X = train_data.drop(columns=\"Disorder_Subclass\")\n",
    "y = train_data.Disorder_Subclass\n",
    "\n",
    "# Label encode target y\n",
    "le = LabelEncoder()\n",
    "encoded_y = le.fit_transform(y)"
   ]
  },
  {
   "cell_type": "code",
   "execution_count": 12,
   "id": "6e9b7bc4",
   "metadata": {},
   "outputs": [],
   "source": [
    "# Train Test Split by 20%\n",
    "X_train, X_test, y_train, y_test = train_test_split(X, encoded_y, test_size = 0.2, random_state=123)"
   ]
  },
  {
   "cell_type": "code",
   "execution_count": 13,
   "id": "9f1d3bd8",
   "metadata": {},
   "outputs": [],
   "source": [
    "# Grouped numerical columns\n",
    "num_cols = train_data.select_dtypes('float64').columns\n",
    "\n",
    "# Grouped categorical columns\n",
    "cat_cols = train_data.select_dtypes('object').drop(columns=\"Disorder_Subclass\").columns\n",
    "\n",
    "# Preprocessing for numerical data\n",
    "num_preprocessor = SimpleImputer(strategy='constant', fill_value=-99)\n",
    "\n",
    "# Preprocessing for categorical data\n",
    "cat_preprocessor = Pipeline(steps=[('imputer', SimpleImputer(strategy='constant', fill_value=\"-99\")),\n",
    "                                   ('oe', OrdinalEncoder())])\n",
    "\n",
    "# Combine num and cat preprocessor for data frame transformation\n",
    "preprocessor = ColumnTransformer(\n",
    "    transformers=[('num_transformer', num_preprocessor, num_cols),\n",
    "                  ('cat_transformer', cat_preprocessor, cat_cols)])"
   ]
  },
  {
   "cell_type": "code",
   "execution_count": 14,
   "id": "c1e6fe8c",
   "metadata": {},
   "outputs": [
    {
     "data": {
      "text/html": [
       "<div>\n",
       "<style scoped>\n",
       "    .dataframe tbody tr th:only-of-type {\n",
       "        vertical-align: middle;\n",
       "    }\n",
       "\n",
       "    .dataframe tbody tr th {\n",
       "        vertical-align: top;\n",
       "    }\n",
       "\n",
       "    .dataframe thead th {\n",
       "        text-align: right;\n",
       "    }\n",
       "</style>\n",
       "<table border=\"1\" class=\"dataframe\">\n",
       "  <thead>\n",
       "    <tr style=\"text-align: right;\">\n",
       "      <th></th>\n",
       "      <th>Patient_Age</th>\n",
       "      <th>Mother_Gene</th>\n",
       "      <th>Father_Gene</th>\n",
       "      <th>Maternal_Gene</th>\n",
       "      <th>Paternal_Gene</th>\n",
       "      <th>Blood_Cell</th>\n",
       "      <th>Mother_Age</th>\n",
       "      <th>Father_Age</th>\n",
       "      <th>Status</th>\n",
       "      <th>Respiratory_Rate</th>\n",
       "      <th>...</th>\n",
       "      <th>History_Pregnancies</th>\n",
       "      <th>Previous_Abortions</th>\n",
       "      <th>Birth_Defects</th>\n",
       "      <th>White_Blood_Cell</th>\n",
       "      <th>Blood_Test</th>\n",
       "      <th>Symptom_1</th>\n",
       "      <th>Symptom_2</th>\n",
       "      <th>Symptom_3</th>\n",
       "      <th>Symptom_4</th>\n",
       "      <th>Symptom_5</th>\n",
       "    </tr>\n",
       "  </thead>\n",
       "  <tbody>\n",
       "    <tr>\n",
       "      <th>0</th>\n",
       "      <td>6.0</td>\n",
       "      <td>4.816182</td>\n",
       "      <td>23.0</td>\n",
       "      <td>32.0</td>\n",
       "      <td>4.0</td>\n",
       "      <td>5.321413</td>\n",
       "      <td>0.0</td>\n",
       "      <td>1.0</td>\n",
       "      <td>1.0</td>\n",
       "      <td>1.0</td>\n",
       "      <td>...</td>\n",
       "      <td>0.0</td>\n",
       "      <td>1.0</td>\n",
       "      <td>0.0</td>\n",
       "      <td>2.0</td>\n",
       "      <td>0.0</td>\n",
       "      <td>1.0</td>\n",
       "      <td>2.0</td>\n",
       "      <td>1.0</td>\n",
       "      <td>2.0</td>\n",
       "      <td>0.0</td>\n",
       "    </tr>\n",
       "    <tr>\n",
       "      <th>1</th>\n",
       "      <td>13.0</td>\n",
       "      <td>5.005324</td>\n",
       "      <td>28.0</td>\n",
       "      <td>44.0</td>\n",
       "      <td>-99.0</td>\n",
       "      <td>4.334729</td>\n",
       "      <td>1.0</td>\n",
       "      <td>1.0</td>\n",
       "      <td>1.0</td>\n",
       "      <td>-99.0</td>\n",
       "      <td>...</td>\n",
       "      <td>1.0</td>\n",
       "      <td>0.0</td>\n",
       "      <td>2.0</td>\n",
       "      <td>2.0</td>\n",
       "      <td>0.0</td>\n",
       "      <td>0.0</td>\n",
       "      <td>2.0</td>\n",
       "      <td>1.0</td>\n",
       "      <td>1.0</td>\n",
       "      <td>0.0</td>\n",
       "    </tr>\n",
       "    <tr>\n",
       "      <th>2</th>\n",
       "      <td>10.0</td>\n",
       "      <td>4.712737</td>\n",
       "      <td>26.0</td>\n",
       "      <td>-99.0</td>\n",
       "      <td>-99.0</td>\n",
       "      <td>8.649998</td>\n",
       "      <td>1.0</td>\n",
       "      <td>0.0</td>\n",
       "      <td>0.0</td>\n",
       "      <td>0.0</td>\n",
       "      <td>...</td>\n",
       "      <td>2.0</td>\n",
       "      <td>2.0</td>\n",
       "      <td>2.0</td>\n",
       "      <td>1.0</td>\n",
       "      <td>0.0</td>\n",
       "      <td>0.0</td>\n",
       "      <td>1.0</td>\n",
       "      <td>1.0</td>\n",
       "      <td>1.0</td>\n",
       "      <td>0.0</td>\n",
       "    </tr>\n",
       "    <tr>\n",
       "      <th>3</th>\n",
       "      <td>13.0</td>\n",
       "      <td>5.095956</td>\n",
       "      <td>-99.0</td>\n",
       "      <td>36.0</td>\n",
       "      <td>-99.0</td>\n",
       "      <td>7.548971</td>\n",
       "      <td>1.0</td>\n",
       "      <td>1.0</td>\n",
       "      <td>0.0</td>\n",
       "      <td>1.0</td>\n",
       "      <td>...</td>\n",
       "      <td>0.0</td>\n",
       "      <td>2.0</td>\n",
       "      <td>1.0</td>\n",
       "      <td>2.0</td>\n",
       "      <td>0.0</td>\n",
       "      <td>0.0</td>\n",
       "      <td>2.0</td>\n",
       "      <td>1.0</td>\n",
       "      <td>0.0</td>\n",
       "      <td>1.0</td>\n",
       "    </tr>\n",
       "    <tr>\n",
       "      <th>4</th>\n",
       "      <td>8.0</td>\n",
       "      <td>4.847835</td>\n",
       "      <td>28.0</td>\n",
       "      <td>56.0</td>\n",
       "      <td>4.0</td>\n",
       "      <td>6.962187</td>\n",
       "      <td>1.0</td>\n",
       "      <td>1.0</td>\n",
       "      <td>-99.0</td>\n",
       "      <td>1.0</td>\n",
       "      <td>...</td>\n",
       "      <td>0.0</td>\n",
       "      <td>2.0</td>\n",
       "      <td>1.0</td>\n",
       "      <td>2.0</td>\n",
       "      <td>2.0</td>\n",
       "      <td>0.0</td>\n",
       "      <td>2.0</td>\n",
       "      <td>1.0</td>\n",
       "      <td>2.0</td>\n",
       "      <td>1.0</td>\n",
       "    </tr>\n",
       "  </tbody>\n",
       "</table>\n",
       "<p>5 rows × 31 columns</p>\n",
       "</div>"
      ],
      "text/plain": [
       "   Patient_Age  Mother_Gene  Father_Gene  Maternal_Gene  Paternal_Gene  \\\n",
       "0          6.0     4.816182         23.0           32.0            4.0   \n",
       "1         13.0     5.005324         28.0           44.0          -99.0   \n",
       "2         10.0     4.712737         26.0          -99.0          -99.0   \n",
       "3         13.0     5.095956        -99.0           36.0          -99.0   \n",
       "4          8.0     4.847835         28.0           56.0            4.0   \n",
       "\n",
       "   Blood_Cell  Mother_Age  Father_Age  Status  Respiratory_Rate  ...  \\\n",
       "0    5.321413         0.0         1.0     1.0               1.0  ...   \n",
       "1    4.334729         1.0         1.0     1.0             -99.0  ...   \n",
       "2    8.649998         1.0         0.0     0.0               0.0  ...   \n",
       "3    7.548971         1.0         1.0     0.0               1.0  ...   \n",
       "4    6.962187         1.0         1.0   -99.0               1.0  ...   \n",
       "\n",
       "   History_Pregnancies  Previous_Abortions  Birth_Defects  White_Blood_Cell  \\\n",
       "0                  0.0                 1.0            0.0               2.0   \n",
       "1                  1.0                 0.0            2.0               2.0   \n",
       "2                  2.0                 2.0            2.0               1.0   \n",
       "3                  0.0                 2.0            1.0               2.0   \n",
       "4                  0.0                 2.0            1.0               2.0   \n",
       "\n",
       "   Blood_Test  Symptom_1  Symptom_2  Symptom_3  Symptom_4  Symptom_5  \n",
       "0         0.0        1.0        2.0        1.0        2.0        0.0  \n",
       "1         0.0        0.0        2.0        1.0        1.0        0.0  \n",
       "2         0.0        0.0        1.0        1.0        1.0        0.0  \n",
       "3         0.0        0.0        2.0        1.0        0.0        1.0  \n",
       "4         2.0        0.0        2.0        1.0        2.0        1.0  \n",
       "\n",
       "[5 rows x 31 columns]"
      ]
     },
     "execution_count": 14,
     "metadata": {},
     "output_type": "execute_result"
    }
   ],
   "source": [
    "# Preprocessor Test\n",
    "feature_col_names = train_data.drop(columns=\"Disorder_Subclass\").columns\n",
    "preprocessed_df = pd.DataFrame(preprocessor.fit_transform(X_train, y_train))\n",
    "preprocessed_df.columns = feature_col_names\n",
    "preprocessed_df.head()"
   ]
  },
  {
   "cell_type": "code",
   "execution_count": 15,
   "id": "6e370c53",
   "metadata": {},
   "outputs": [
    {
     "name": "stdout",
     "output_type": "stream",
     "text": [
      "<class 'pandas.core.frame.DataFrame'>\n",
      "RangeIndex: 15932 entries, 0 to 15931\n",
      "Data columns (total 31 columns):\n",
      " #   Column  Non-Null Count  Dtype  \n",
      "---  ------  --------------  -----  \n",
      " 0   0       15932 non-null  float64\n",
      " 1   1       15932 non-null  float64\n",
      " 2   2       15932 non-null  float64\n",
      " 3   3       15932 non-null  float64\n",
      " 4   4       15932 non-null  float64\n",
      " 5   5       15932 non-null  float64\n",
      " 6   6       15932 non-null  float64\n",
      " 7   7       15932 non-null  float64\n",
      " 8   8       15932 non-null  float64\n",
      " 9   9       15932 non-null  float64\n",
      " 10  10      15932 non-null  float64\n",
      " 11  11      15932 non-null  float64\n",
      " 12  12      15932 non-null  float64\n",
      " 13  13      15932 non-null  float64\n",
      " 14  14      15932 non-null  float64\n",
      " 15  15      15932 non-null  float64\n",
      " 16  16      15932 non-null  float64\n",
      " 17  17      15932 non-null  float64\n",
      " 18  18      15932 non-null  float64\n",
      " 19  19      15932 non-null  float64\n",
      " 20  20      15932 non-null  float64\n",
      " 21  21      15932 non-null  float64\n",
      " 22  22      15932 non-null  float64\n",
      " 23  23      15932 non-null  float64\n",
      " 24  24      15932 non-null  float64\n",
      " 25  25      15932 non-null  float64\n",
      " 26  26      15932 non-null  float64\n",
      " 27  27      15932 non-null  float64\n",
      " 28  28      15932 non-null  float64\n",
      " 29  29      15932 non-null  float64\n",
      " 30  30      15932 non-null  float64\n",
      "dtypes: float64(31)\n",
      "memory usage: 3.8 MB\n"
     ]
    }
   ],
   "source": [
    "pd.DataFrame(preprocessor.fit_transform(X_train, y_train)).info()"
   ]
  },
  {
   "cell_type": "markdown",
   "id": "69ede952",
   "metadata": {},
   "source": [
    "### Baseline Model Comparisons"
   ]
  },
  {
   "cell_type": "code",
   "execution_count": 16,
   "id": "660c1be2",
   "metadata": {},
   "outputs": [
    {
     "name": "stdout",
     "output_type": "stream",
     "text": [
      "100.0\n",
      "37.98644238011549\n",
      "Scores: [37.05679322 37.02541575 38.07281858 36.47206529 38.63779033]\n",
      "Mean: 37.45297663471601\n",
      "Standard Deviation: 0.007861226644058908\n"
     ]
    }
   ],
   "source": [
    "# RandomForestClassifier\n",
    "pipe_rf = Pipeline(steps=[('preprocessor', preprocessor),\n",
    "                          ('randomforest', RandomForestClassifier(random_state=123))])\n",
    "\n",
    "pipe_rf.fit(X_train, y_train)\n",
    "\n",
    "pred_tr = pipe_rf.predict(X_train)\n",
    "pred_te = pipe_rf.predict(X_test)\n",
    "\n",
    "print(accuracy_score(y_train, pred_tr) * 100)\n",
    "print(accuracy_score(y_test, pred_te) * 100)\n",
    "\n",
    "scores = cross_val_score(pipe_rf, X_train, y_train, cv=5, scoring=\"accuracy\")\n",
    "print(\"Scores:\", scores * 100)\n",
    "print(\"Mean:\", scores.mean() * 100)\n",
    "print(\"Standard Deviation:\", scores.std())"
   ]
  },
  {
   "cell_type": "code",
   "execution_count": 17,
   "id": "cb0be03e",
   "metadata": {},
   "outputs": [
    {
     "name": "stdout",
     "output_type": "stream",
     "text": [
      "48.70700477027366\n",
      "40.321365804669846\n",
      "Scores: [41.5123941  40.25729526 41.9648462  39.04582549 40.20715631]\n",
      "Mean: 40.597503472105274\n",
      "Standard Deviation: 0.01037542106070992\n"
     ]
    }
   ],
   "source": [
    "# GradientBoostingClassifier\n",
    "pipe_gb = Pipeline(steps=[('preprocessor', preprocessor),\n",
    "                          ('gradientboosting', GradientBoostingClassifier(random_state=123))])\n",
    "\n",
    "pipe_gb.fit(X_train, y_train)\n",
    "\n",
    "pred_tr = pipe_gb.predict(X_train)\n",
    "pred_te = pipe_gb.predict(X_test)\n",
    "\n",
    "print(accuracy_score(y_train, pred_tr) * 100)\n",
    "print(accuracy_score(y_test, pred_te) * 100)\n",
    "\n",
    "scores = cross_val_score(pipe_gb, X_train, y_train, cv=5, scoring=\"accuracy\")\n",
    "print(\"Scores:\", scores * 100)\n",
    "print(\"Mean:\", scores.mean() * 100)\n",
    "print(\"Standard Deviation:\", scores.std())"
   ]
  },
  {
   "cell_type": "code",
   "execution_count": 18,
   "id": "17b7c7e5",
   "metadata": {},
   "outputs": [
    {
     "name": "stdout",
     "output_type": "stream",
     "text": [
      "[22:10:54] WARNING: D:\\bld\\xgboost-split_1637426510059\\work\\src\\learner.cc:1115: Starting in XGBoost 1.3.0, the default evaluation metric used with the objective 'multi:softprob' was changed from 'merror' to 'mlogloss'. Explicitly set eval_metric if you'd like to restore the old behavior.\n",
      "95.93899071051972\n",
      "36.75621390911373\n",
      "[22:10:59] WARNING: D:\\bld\\xgboost-split_1637426510059\\work\\src\\learner.cc:1115: Starting in XGBoost 1.3.0, the default evaluation metric used with the objective 'multi:softprob' was changed from 'merror' to 'mlogloss'. Explicitly set eval_metric if you'd like to restore the old behavior.\n",
      "[22:11:03] WARNING: D:\\bld\\xgboost-split_1637426510059\\work\\src\\learner.cc:1115: Starting in XGBoost 1.3.0, the default evaluation metric used with the objective 'multi:softprob' was changed from 'merror' to 'mlogloss'. Explicitly set eval_metric if you'd like to restore the old behavior.\n",
      "[22:11:07] WARNING: D:\\bld\\xgboost-split_1637426510059\\work\\src\\learner.cc:1115: Starting in XGBoost 1.3.0, the default evaluation metric used with the objective 'multi:softprob' was changed from 'merror' to 'mlogloss'. Explicitly set eval_metric if you'd like to restore the old behavior.\n",
      "[22:11:11] WARNING: D:\\bld\\xgboost-split_1637426510059\\work\\src\\learner.cc:1115: Starting in XGBoost 1.3.0, the default evaluation metric used with the objective 'multi:softprob' was changed from 'merror' to 'mlogloss'. Explicitly set eval_metric if you'd like to restore the old behavior.\n",
      "[22:11:15] WARNING: D:\\bld\\xgboost-split_1637426510059\\work\\src\\learner.cc:1115: Starting in XGBoost 1.3.0, the default evaluation metric used with the objective 'multi:softprob' was changed from 'merror' to 'mlogloss'. Explicitly set eval_metric if you'd like to restore the old behavior.\n",
      "Scores: [37.15092564 37.6215877  39.98744507 37.22536095 36.34651601]\n",
      "Mean: 37.66636707386469\n",
      "Standard Deviation: 0.012321997709810498\n"
     ]
    }
   ],
   "source": [
    "# XGBClassifier\n",
    "pipe_xgb = Pipeline(steps=[('preprocessor', preprocessor),\n",
    "                           ('xgboost', xgb.XGBClassifier(random_state=123))])\n",
    "\n",
    "pipe_xgb.fit(X_train, y_train)\n",
    "\n",
    "pred_tr = pipe_xgb.predict(X_train)\n",
    "pred_te = pipe_xgb.predict(X_test)\n",
    "\n",
    "print(accuracy_score(y_train, pred_tr) * 100)\n",
    "print(accuracy_score(y_test, pred_te) * 100)\n",
    "\n",
    "scores = cross_val_score(pipe_xgb, X_train, y_train, cv=5, scoring=\"accuracy\")\n",
    "print(\"Scores:\", scores * 100)\n",
    "print(\"Mean:\", scores.mean() * 100)\n",
    "print(\"Standard Deviation:\", scores.std())"
   ]
  },
  {
   "cell_type": "markdown",
   "id": "bc340a44",
   "metadata": {},
   "source": [
    "Evaluating on the cross validated mean scores for each model, the GradientBoostingClassifier had the highest score with 40.6, but looking at its training score, it performed poorly at 48.7. For both the RandomForestClassifier and XGBClassifier, both have really high train score, showing that there is overfitting that can be regularized. But the XGBoost performed slightly better than the RandomForest.\n",
    "I will be following through with XGBoost since it can deal well with imbalanced classes in my data set, as well being robust in modeling large amounts of missing data."
   ]
  },
  {
   "cell_type": "markdown",
   "id": "5dfb415f",
   "metadata": {},
   "source": [
    "### Defining Baseline Model"
   ]
  },
  {
   "cell_type": "code",
   "execution_count": 76,
   "id": "e719a266",
   "metadata": {},
   "outputs": [],
   "source": [
    "# Adding Class Weight due to heavy imbalance of dataset seen in the EDA\n",
    "sample_weights = compute_sample_weight(\n",
    "    class_weight='balanced',\n",
    "    y=y_train\n",
    ")"
   ]
  },
  {
   "cell_type": "code",
   "execution_count": 77,
   "id": "ceac06dc",
   "metadata": {},
   "outputs": [],
   "source": [
    "# Default parameters set to multi-classification\n",
    "params = {\n",
    "    'objective':'multi:softmax',\n",
    "    'eval_metric':'mlogloss',\n",
    "    'seed':123\n",
    "}"
   ]
  },
  {
   "cell_type": "code",
   "execution_count": 87,
   "id": "0dd9be19",
   "metadata": {},
   "outputs": [
    {
     "name": "stdout",
     "output_type": "stream",
     "text": [
      "92.58096911875471\n",
      "35.32513181019332\n"
     ]
    }
   ],
   "source": [
    "pipe_initial = Pipeline(steps=[('preprocessor', preprocessor),\n",
    "                               ('xgboost', xgb.XGBClassifier(**params))])\n",
    "\n",
    "pipe_initial.fit(X_train, y_train, xgboost__sample_weight=sample_weights)\n",
    "\n",
    "pred_tr = pipe_initial.predict(X_train)\n",
    "pred_te = pipe_initial.predict(X_test)\n",
    "\n",
    "print(accuracy_score(y_train, pred_tr) * 100)\n",
    "print(accuracy_score(y_test, pred_te) * 100)"
   ]
  },
  {
   "cell_type": "code",
   "execution_count": 98,
   "id": "7b551955",
   "metadata": {},
   "outputs": [
    {
     "name": "stdout",
     "output_type": "stream",
     "text": [
      "Scores: [37.15092564 37.6215877  39.98744507 37.22536095 36.34651601]\n",
      "Mean: 37.66636707386469\n",
      "Standard Deviation: 0.012321997709810498\n"
     ]
    }
   ],
   "source": [
    "# Cross Validation Score\n",
    "scores = cross_val_score(pipe_initial, X_train, y_train, cv=5, scoring=\"accuracy\")\n",
    "print(\"Scores:\", scores * 100)\n",
    "print(\"Mean:\", scores.mean() * 100)\n",
    "print(\"Standard Deviation:\", scores.std())"
   ]
  },
  {
   "cell_type": "code",
   "execution_count": 99,
   "id": "53b31173",
   "metadata": {},
   "outputs": [
    {
     "name": "stdout",
     "output_type": "stream",
     "text": [
      "              precision    recall  f1-score   support\n",
      "\n",
      "           0       0.24      0.14      0.17        29\n",
      "           1       0.18      0.09      0.12        23\n",
      "           2       0.39      0.48      0.43       647\n",
      "           3       0.30      0.30      0.30       346\n",
      "           4       0.29      0.36      0.32       266\n",
      "           5       0.23      0.19      0.21       126\n",
      "           6       0.42      0.34      0.38      1072\n",
      "           7       0.36      0.33      0.34       901\n",
      "           8       0.30      0.35      0.32       573\n",
      "\n",
      "    accuracy                           0.35      3983\n",
      "   macro avg       0.30      0.29      0.29      3983\n",
      "weighted avg       0.36      0.35      0.35      3983\n",
      "\n"
     ]
    }
   ],
   "source": [
    "print(classification_report(y_test, pred_te))"
   ]
  },
  {
   "cell_type": "code",
   "execution_count": 41,
   "id": "96a61c8e",
   "metadata": {},
   "outputs": [
    {
     "name": "stdout",
     "output_type": "stream",
     "text": [
      "0 Alzheimer's\n",
      "1 Cancer\n",
      "2 Cystic fibrosis\n",
      "3 Diabetes\n",
      "4 Hemochromatosis\n",
      "5 Leber's hereditary optic neuropathy\n",
      "6 Leigh syndrome\n",
      "7 Mitochondrial myopathy\n",
      "8 Tay-Sachs\n"
     ]
    }
   ],
   "source": [
    "for i, val in enumerate(le.inverse_transform([0, 1, 2, 3, 4, 5, 6, 7, 8])):\n",
    "    print(i, val)"
   ]
  },
  {
   "cell_type": "markdown",
   "id": "a932cce0",
   "metadata": {},
   "source": [
    "The default parameters for XGBoost looks to be overfitting given that the score for the train split has a score around 96, while the test split has a score around 37. This is supported by the cross validation with a mean score of 37. Hyperparameter tuning will hopefully reduce the overfitting and increase the accuracy on the test split."
   ]
  },
  {
   "cell_type": "code",
   "execution_count": null,
   "id": "d1aa0542",
   "metadata": {},
   "outputs": [],
   "source": []
  },
  {
   "cell_type": "code",
   "execution_count": null,
   "id": "7aaaf560",
   "metadata": {},
   "outputs": [],
   "source": []
  },
  {
   "cell_type": "code",
   "execution_count": null,
   "id": "cae90549",
   "metadata": {},
   "outputs": [],
   "source": []
  },
  {
   "cell_type": "code",
   "execution_count": null,
   "id": "4d7fc5f3",
   "metadata": {},
   "outputs": [],
   "source": []
  },
  {
   "cell_type": "code",
   "execution_count": null,
   "id": "8f5c7adf",
   "metadata": {},
   "outputs": [],
   "source": [
    "### TO BE DELETED, PLACE HOLDER"
   ]
  },
  {
   "cell_type": "code",
   "execution_count": null,
   "id": "8d7f8d59",
   "metadata": {},
   "outputs": [],
   "source": [
    "hype_params = {\n",
    "    'xgb_model__learning_rate': [0.0001, 0.001, 0.01, 0.1, 0.2, 0.3, 0.4, 0.5],\n",
    "    'xgb_model__n_estimators': range(50, 500),\n",
    "    'xgb_model__max_depth': range(2, 16, 2),\n",
    "    'xgb_model__min_child_weight': range(1,6,2),\n",
    "    'xgb_model__gamma':[i/10.0 for i in range(0,5)],\n",
    "    'xgb_model__subsample':[i/10.0 for i in range(6,10)],\n",
    "    'xgb_model__colsample_bytree':[i/10.0 for i in range(6,10)],\n",
    "    lambda':[i/10.0 for i in range(7,16)]\n",
    "    'reg_alpha':[0, 0.001, 0.005, 0.01, 0.05]\n",
    "}"
   ]
  },
  {
   "cell_type": "markdown",
   "id": "b673de9c",
   "metadata": {},
   "source": [
    "### Random Search and Grid Search with CV Functions"
   ]
  },
  {
   "cell_type": "code",
   "execution_count": 122,
   "id": "332e69cf",
   "metadata": {},
   "outputs": [],
   "source": [
    "def rand_search_eval(hype_params):\n",
    "    \n",
    "    \"\"\"\n",
    "    Function performs RandomizedSearchCV on inputted hyper parameters.\n",
    "    After models are created, the mean score and standard deviation of each iteration is stored.\n",
    "    The model is graphed against F1_Macro score.\n",
    "    The top 5 models are listed with their scores and iteration number for identification\n",
    "    Best parameters and best score are printed too.\n",
    "    \"\"\"\n",
    "    \n",
    "    # Random Search with CV of the hyper parameters\n",
    "    rand_search = RandomizedSearchCV(\n",
    "        estimator=pipe_tuning,\n",
    "        param_distributions=hype_params,\n",
    "        scoring = 'f1_macro',\n",
    "        n_iter = 20,\n",
    "        cv = 5,\n",
    "        verbose=True,\n",
    "        random_state=123\n",
    "    )\n",
    "    \n",
    "    # Fit and CV models with hyper parameters\n",
    "    rand_search.fit(X_train, y_train, xgb_model__sample_weight=sample_weights)\n",
    "    \n",
    "    # Mean and Standard Deviation from iteration\n",
    "    mean_score = list(rand_search.cv_results_['mean_test_score'])\n",
    "    stds_score = list(rand_search.cv_results_['std_test_score'])\n",
    "    \n",
    "    # Graphs each iteration and its F1_Macro score\n",
    "    plt.errorbar(list(range(0,len(mean_score))), mean_score, yerr=stds_score)\n",
    "    plt.title(\"Rand_Search Iteration vs F1_Macro Score\")\n",
    "    plt.xlabel(\"Iteration\")\n",
    "    plt.ylabel(\"f1_score\")\n",
    "    plt.show()\n",
    "    \n",
    "    # Prints the top 5 scores with iteration number\n",
    "    print(sorted(list(enumerate(mean_score)), key=lambda x: x[1], reverse=True)[0:5])\n",
    "    \n",
    "    print(\"Best Parameters: \", rand_search.best_params_)\n",
    "    print(\"Best Score: \", rand_search.best_score_)\n",
    "    \n",
    "    return(rand_search)"
   ]
  },
  {
   "cell_type": "code",
   "execution_count": 123,
   "id": "0ac18e2d",
   "metadata": {},
   "outputs": [],
   "source": [
    "def grid_search_eval(hype_params):\n",
    "    \n",
    "    \"\"\"\n",
    "    Function performs GridSearchCV on inputted hyper parameters.\n",
    "    After models are created, the mean score and standard deviation of each iteration is stored.\n",
    "    The model is graphed against F1_Macro score.\n",
    "    The top 5 models are listed with their scores and iteration number for identification\n",
    "    Best parameters and best score are printed too.\n",
    "    \"\"\"\n",
    "    \n",
    "    # Grid Search with CV of the hyper parameters\n",
    "    grid_search = GridSearchCV(\n",
    "        estimator=pipe_tuning,\n",
    "        param_grid=hype_params,\n",
    "        scoring = 'f1_macro',\n",
    "        cv = 5,\n",
    "        verbose=True\n",
    "    )\n",
    "    \n",
    "    # Fit and CV models with hyper parameters\n",
    "    grid_search.fit(X_train, y_train, xgb_model__sample_weight=sample_weights)\n",
    "    \n",
    "    # Mean and Standard Deviation from iteration\n",
    "    mean_score = list(grid_search.cv_results_['mean_test_score'])\n",
    "    stds_score = list(grid_search.cv_results_['std_test_score'])\n",
    "    \n",
    "    # Graphs each iteration and its F1_Macro score\n",
    "    plt.errorbar(list(range(0,len(mean_score))), mean_score, yerr=stds_score)\n",
    "    plt.title(\"Grid_Search Iteration vs F1_Macro Score\")\n",
    "    plt.xlabel(\"Iteration\")\n",
    "    plt.ylabel(\"f1_score\")\n",
    "    plt.show()\n",
    "    \n",
    "    # Prints the top 5 scores with iteration number\n",
    "    print(sorted(list(enumerate(mean_score)), key=lambda x: x[1], reverse=True)[0:5])\n",
    "    \n",
    "    print(\"Best Parameters: \", rand_search.best_params_)\n",
    "    print(\"Best Score: \", rand_search.best_score_)\n",
    "    \n",
    "    return(grid_search)"
   ]
  },
  {
   "cell_type": "markdown",
   "id": "29de6f69",
   "metadata": {},
   "source": [
    "### Hyperparameter Tuning"
   ]
  },
  {
   "cell_type": "code",
   "execution_count": 124,
   "id": "780ceed8",
   "metadata": {},
   "outputs": [],
   "source": [
    "# Base model with weighted class for the imbalance data set to tune\n",
    "pipe_tuning = Pipeline(steps=[('preprocessor', preprocessor),\n",
    "                              ('xgb_model', xgb.XGBClassifier(**params))])"
   ]
  },
  {
   "cell_type": "markdown",
   "id": "d8e01a2e",
   "metadata": {},
   "source": [
    "Initial parameter ranges were chosen based on articles about tuning parameters as a starting point."
   ]
  },
  {
   "cell_type": "markdown",
   "id": "257bfe33",
   "metadata": {},
   "source": [
    "#### learning_rate and n_estimators"
   ]
  },
  {
   "cell_type": "code",
   "execution_count": 125,
   "id": "c9b93d5a",
   "metadata": {},
   "outputs": [],
   "source": [
    "# Finding initial learning_rate and n_estimators.\n",
    "hype_params = {\n",
    "    'xgb_model__learning_rate': [0.001, 0.01, 0.1, 0.2, 0.3, 0.4],\n",
    "    'xgb_model__n_estimators': range(50, 1000, 50),\n",
    "}"
   ]
  },
  {
   "cell_type": "code",
   "execution_count": 126,
   "id": "e9d8b16f",
   "metadata": {},
   "outputs": [
    {
     "name": "stdout",
     "output_type": "stream",
     "text": [
      "Fitting 5 folds for each of 20 candidates, totalling 100 fits\n"
     ]
    },
    {
     "ename": "KeyboardInterrupt",
     "evalue": "",
     "output_type": "error",
     "traceback": [
      "\u001b[1;31m---------------------------------------------------------------------------\u001b[0m",
      "\u001b[1;31mKeyboardInterrupt\u001b[0m                         Traceback (most recent call last)",
      "\u001b[1;32m~\\AppData\\Local\\Temp/ipykernel_17276/1439229199.py\u001b[0m in \u001b[0;36m<module>\u001b[1;34m\u001b[0m\n\u001b[1;32m----> 1\u001b[1;33m \u001b[0mrand_search\u001b[0m \u001b[1;33m=\u001b[0m \u001b[0mrand_search_eval\u001b[0m\u001b[1;33m(\u001b[0m\u001b[0mhype_params\u001b[0m\u001b[1;33m)\u001b[0m\u001b[1;33m\u001b[0m\u001b[1;33m\u001b[0m\u001b[0m\n\u001b[0m",
      "\u001b[1;32m~\\AppData\\Local\\Temp/ipykernel_17276/3204071095.py\u001b[0m in \u001b[0;36mrand_search_eval\u001b[1;34m(hype_params)\u001b[0m\n\u001b[0;32m     21\u001b[0m \u001b[1;33m\u001b[0m\u001b[0m\n\u001b[0;32m     22\u001b[0m     \u001b[1;31m# Fit and CV models with hyper parameters\u001b[0m\u001b[1;33m\u001b[0m\u001b[1;33m\u001b[0m\u001b[1;33m\u001b[0m\u001b[0m\n\u001b[1;32m---> 23\u001b[1;33m     \u001b[0mrand_search\u001b[0m\u001b[1;33m.\u001b[0m\u001b[0mfit\u001b[0m\u001b[1;33m(\u001b[0m\u001b[0mX_train\u001b[0m\u001b[1;33m,\u001b[0m \u001b[0my_train\u001b[0m\u001b[1;33m,\u001b[0m \u001b[0mxgb_model__sample_weight\u001b[0m\u001b[1;33m=\u001b[0m\u001b[0msample_weights\u001b[0m\u001b[1;33m)\u001b[0m\u001b[1;33m\u001b[0m\u001b[1;33m\u001b[0m\u001b[0m\n\u001b[0m\u001b[0;32m     24\u001b[0m \u001b[1;33m\u001b[0m\u001b[0m\n\u001b[0;32m     25\u001b[0m     \u001b[1;31m# Mean and Standard Deviation from iteration\u001b[0m\u001b[1;33m\u001b[0m\u001b[1;33m\u001b[0m\u001b[1;33m\u001b[0m\u001b[0m\n",
      "\u001b[1;32m~\\Anaconda-Python\\lib\\site-packages\\sklearn\\utils\\validation.py\u001b[0m in \u001b[0;36minner_f\u001b[1;34m(*args, **kwargs)\u001b[0m\n\u001b[0;32m     61\u001b[0m             \u001b[0mextra_args\u001b[0m \u001b[1;33m=\u001b[0m \u001b[0mlen\u001b[0m\u001b[1;33m(\u001b[0m\u001b[0margs\u001b[0m\u001b[1;33m)\u001b[0m \u001b[1;33m-\u001b[0m \u001b[0mlen\u001b[0m\u001b[1;33m(\u001b[0m\u001b[0mall_args\u001b[0m\u001b[1;33m)\u001b[0m\u001b[1;33m\u001b[0m\u001b[1;33m\u001b[0m\u001b[0m\n\u001b[0;32m     62\u001b[0m             \u001b[1;32mif\u001b[0m \u001b[0mextra_args\u001b[0m \u001b[1;33m<=\u001b[0m \u001b[1;36m0\u001b[0m\u001b[1;33m:\u001b[0m\u001b[1;33m\u001b[0m\u001b[1;33m\u001b[0m\u001b[0m\n\u001b[1;32m---> 63\u001b[1;33m                 \u001b[1;32mreturn\u001b[0m \u001b[0mf\u001b[0m\u001b[1;33m(\u001b[0m\u001b[1;33m*\u001b[0m\u001b[0margs\u001b[0m\u001b[1;33m,\u001b[0m \u001b[1;33m**\u001b[0m\u001b[0mkwargs\u001b[0m\u001b[1;33m)\u001b[0m\u001b[1;33m\u001b[0m\u001b[1;33m\u001b[0m\u001b[0m\n\u001b[0m\u001b[0;32m     64\u001b[0m \u001b[1;33m\u001b[0m\u001b[0m\n\u001b[0;32m     65\u001b[0m             \u001b[1;31m# extra_args > 0\u001b[0m\u001b[1;33m\u001b[0m\u001b[1;33m\u001b[0m\u001b[1;33m\u001b[0m\u001b[0m\n",
      "\u001b[1;32m~\\Anaconda-Python\\lib\\site-packages\\sklearn\\model_selection\\_search.py\u001b[0m in \u001b[0;36mfit\u001b[1;34m(self, X, y, groups, **fit_params)\u001b[0m\n\u001b[0;32m    839\u001b[0m                 \u001b[1;32mreturn\u001b[0m \u001b[0mresults\u001b[0m\u001b[1;33m\u001b[0m\u001b[1;33m\u001b[0m\u001b[0m\n\u001b[0;32m    840\u001b[0m \u001b[1;33m\u001b[0m\u001b[0m\n\u001b[1;32m--> 841\u001b[1;33m             \u001b[0mself\u001b[0m\u001b[1;33m.\u001b[0m\u001b[0m_run_search\u001b[0m\u001b[1;33m(\u001b[0m\u001b[0mevaluate_candidates\u001b[0m\u001b[1;33m)\u001b[0m\u001b[1;33m\u001b[0m\u001b[1;33m\u001b[0m\u001b[0m\n\u001b[0m\u001b[0;32m    842\u001b[0m \u001b[1;33m\u001b[0m\u001b[0m\n\u001b[0;32m    843\u001b[0m             \u001b[1;31m# multimetric is determined here because in the case of a callable\u001b[0m\u001b[1;33m\u001b[0m\u001b[1;33m\u001b[0m\u001b[1;33m\u001b[0m\u001b[0m\n",
      "\u001b[1;32m~\\Anaconda-Python\\lib\\site-packages\\sklearn\\model_selection\\_search.py\u001b[0m in \u001b[0;36m_run_search\u001b[1;34m(self, evaluate_candidates)\u001b[0m\n\u001b[0;32m   1631\u001b[0m     \u001b[1;32mdef\u001b[0m \u001b[0m_run_search\u001b[0m\u001b[1;33m(\u001b[0m\u001b[0mself\u001b[0m\u001b[1;33m,\u001b[0m \u001b[0mevaluate_candidates\u001b[0m\u001b[1;33m)\u001b[0m\u001b[1;33m:\u001b[0m\u001b[1;33m\u001b[0m\u001b[1;33m\u001b[0m\u001b[0m\n\u001b[0;32m   1632\u001b[0m         \u001b[1;34m\"\"\"Search n_iter candidates from param_distributions\"\"\"\u001b[0m\u001b[1;33m\u001b[0m\u001b[1;33m\u001b[0m\u001b[0m\n\u001b[1;32m-> 1633\u001b[1;33m         evaluate_candidates(ParameterSampler(\n\u001b[0m\u001b[0;32m   1634\u001b[0m             \u001b[0mself\u001b[0m\u001b[1;33m.\u001b[0m\u001b[0mparam_distributions\u001b[0m\u001b[1;33m,\u001b[0m \u001b[0mself\u001b[0m\u001b[1;33m.\u001b[0m\u001b[0mn_iter\u001b[0m\u001b[1;33m,\u001b[0m\u001b[1;33m\u001b[0m\u001b[1;33m\u001b[0m\u001b[0m\n\u001b[0;32m   1635\u001b[0m             random_state=self.random_state))\n",
      "\u001b[1;32m~\\Anaconda-Python\\lib\\site-packages\\sklearn\\model_selection\\_search.py\u001b[0m in \u001b[0;36mevaluate_candidates\u001b[1;34m(candidate_params, cv, more_results)\u001b[0m\n\u001b[0;32m    793\u001b[0m                               n_splits, n_candidates, n_candidates * n_splits))\n\u001b[0;32m    794\u001b[0m \u001b[1;33m\u001b[0m\u001b[0m\n\u001b[1;32m--> 795\u001b[1;33m                 out = parallel(delayed(_fit_and_score)(clone(base_estimator),\n\u001b[0m\u001b[0;32m    796\u001b[0m                                                        \u001b[0mX\u001b[0m\u001b[1;33m,\u001b[0m \u001b[0my\u001b[0m\u001b[1;33m,\u001b[0m\u001b[1;33m\u001b[0m\u001b[1;33m\u001b[0m\u001b[0m\n\u001b[0;32m    797\u001b[0m                                                        \u001b[0mtrain\u001b[0m\u001b[1;33m=\u001b[0m\u001b[0mtrain\u001b[0m\u001b[1;33m,\u001b[0m \u001b[0mtest\u001b[0m\u001b[1;33m=\u001b[0m\u001b[0mtest\u001b[0m\u001b[1;33m,\u001b[0m\u001b[1;33m\u001b[0m\u001b[1;33m\u001b[0m\u001b[0m\n",
      "\u001b[1;32m~\\Anaconda-Python\\lib\\site-packages\\joblib\\parallel.py\u001b[0m in \u001b[0;36m__call__\u001b[1;34m(self, iterable)\u001b[0m\n\u001b[0;32m   1039\u001b[0m             \u001b[1;31m# remaining jobs.\u001b[0m\u001b[1;33m\u001b[0m\u001b[1;33m\u001b[0m\u001b[1;33m\u001b[0m\u001b[0m\n\u001b[0;32m   1040\u001b[0m             \u001b[0mself\u001b[0m\u001b[1;33m.\u001b[0m\u001b[0m_iterating\u001b[0m \u001b[1;33m=\u001b[0m \u001b[1;32mFalse\u001b[0m\u001b[1;33m\u001b[0m\u001b[1;33m\u001b[0m\u001b[0m\n\u001b[1;32m-> 1041\u001b[1;33m             \u001b[1;32mif\u001b[0m \u001b[0mself\u001b[0m\u001b[1;33m.\u001b[0m\u001b[0mdispatch_one_batch\u001b[0m\u001b[1;33m(\u001b[0m\u001b[0miterator\u001b[0m\u001b[1;33m)\u001b[0m\u001b[1;33m:\u001b[0m\u001b[1;33m\u001b[0m\u001b[1;33m\u001b[0m\u001b[0m\n\u001b[0m\u001b[0;32m   1042\u001b[0m                 \u001b[0mself\u001b[0m\u001b[1;33m.\u001b[0m\u001b[0m_iterating\u001b[0m \u001b[1;33m=\u001b[0m \u001b[0mself\u001b[0m\u001b[1;33m.\u001b[0m\u001b[0m_original_iterator\u001b[0m \u001b[1;32mis\u001b[0m \u001b[1;32mnot\u001b[0m \u001b[1;32mNone\u001b[0m\u001b[1;33m\u001b[0m\u001b[1;33m\u001b[0m\u001b[0m\n\u001b[0;32m   1043\u001b[0m \u001b[1;33m\u001b[0m\u001b[0m\n",
      "\u001b[1;32m~\\Anaconda-Python\\lib\\site-packages\\joblib\\parallel.py\u001b[0m in \u001b[0;36mdispatch_one_batch\u001b[1;34m(self, iterator)\u001b[0m\n\u001b[0;32m    857\u001b[0m                 \u001b[1;32mreturn\u001b[0m \u001b[1;32mFalse\u001b[0m\u001b[1;33m\u001b[0m\u001b[1;33m\u001b[0m\u001b[0m\n\u001b[0;32m    858\u001b[0m             \u001b[1;32melse\u001b[0m\u001b[1;33m:\u001b[0m\u001b[1;33m\u001b[0m\u001b[1;33m\u001b[0m\u001b[0m\n\u001b[1;32m--> 859\u001b[1;33m                 \u001b[0mself\u001b[0m\u001b[1;33m.\u001b[0m\u001b[0m_dispatch\u001b[0m\u001b[1;33m(\u001b[0m\u001b[0mtasks\u001b[0m\u001b[1;33m)\u001b[0m\u001b[1;33m\u001b[0m\u001b[1;33m\u001b[0m\u001b[0m\n\u001b[0m\u001b[0;32m    860\u001b[0m                 \u001b[1;32mreturn\u001b[0m \u001b[1;32mTrue\u001b[0m\u001b[1;33m\u001b[0m\u001b[1;33m\u001b[0m\u001b[0m\n\u001b[0;32m    861\u001b[0m \u001b[1;33m\u001b[0m\u001b[0m\n",
      "\u001b[1;32m~\\Anaconda-Python\\lib\\site-packages\\joblib\\parallel.py\u001b[0m in \u001b[0;36m_dispatch\u001b[1;34m(self, batch)\u001b[0m\n\u001b[0;32m    775\u001b[0m         \u001b[1;32mwith\u001b[0m \u001b[0mself\u001b[0m\u001b[1;33m.\u001b[0m\u001b[0m_lock\u001b[0m\u001b[1;33m:\u001b[0m\u001b[1;33m\u001b[0m\u001b[1;33m\u001b[0m\u001b[0m\n\u001b[0;32m    776\u001b[0m             \u001b[0mjob_idx\u001b[0m \u001b[1;33m=\u001b[0m \u001b[0mlen\u001b[0m\u001b[1;33m(\u001b[0m\u001b[0mself\u001b[0m\u001b[1;33m.\u001b[0m\u001b[0m_jobs\u001b[0m\u001b[1;33m)\u001b[0m\u001b[1;33m\u001b[0m\u001b[1;33m\u001b[0m\u001b[0m\n\u001b[1;32m--> 777\u001b[1;33m             \u001b[0mjob\u001b[0m \u001b[1;33m=\u001b[0m \u001b[0mself\u001b[0m\u001b[1;33m.\u001b[0m\u001b[0m_backend\u001b[0m\u001b[1;33m.\u001b[0m\u001b[0mapply_async\u001b[0m\u001b[1;33m(\u001b[0m\u001b[0mbatch\u001b[0m\u001b[1;33m,\u001b[0m \u001b[0mcallback\u001b[0m\u001b[1;33m=\u001b[0m\u001b[0mcb\u001b[0m\u001b[1;33m)\u001b[0m\u001b[1;33m\u001b[0m\u001b[1;33m\u001b[0m\u001b[0m\n\u001b[0m\u001b[0;32m    778\u001b[0m             \u001b[1;31m# A job can complete so quickly than its callback is\u001b[0m\u001b[1;33m\u001b[0m\u001b[1;33m\u001b[0m\u001b[1;33m\u001b[0m\u001b[0m\n\u001b[0;32m    779\u001b[0m             \u001b[1;31m# called before we get here, causing self._jobs to\u001b[0m\u001b[1;33m\u001b[0m\u001b[1;33m\u001b[0m\u001b[1;33m\u001b[0m\u001b[0m\n",
      "\u001b[1;32m~\\Anaconda-Python\\lib\\site-packages\\joblib\\_parallel_backends.py\u001b[0m in \u001b[0;36mapply_async\u001b[1;34m(self, func, callback)\u001b[0m\n\u001b[0;32m    206\u001b[0m     \u001b[1;32mdef\u001b[0m \u001b[0mapply_async\u001b[0m\u001b[1;33m(\u001b[0m\u001b[0mself\u001b[0m\u001b[1;33m,\u001b[0m \u001b[0mfunc\u001b[0m\u001b[1;33m,\u001b[0m \u001b[0mcallback\u001b[0m\u001b[1;33m=\u001b[0m\u001b[1;32mNone\u001b[0m\u001b[1;33m)\u001b[0m\u001b[1;33m:\u001b[0m\u001b[1;33m\u001b[0m\u001b[1;33m\u001b[0m\u001b[0m\n\u001b[0;32m    207\u001b[0m         \u001b[1;34m\"\"\"Schedule a func to be run\"\"\"\u001b[0m\u001b[1;33m\u001b[0m\u001b[1;33m\u001b[0m\u001b[0m\n\u001b[1;32m--> 208\u001b[1;33m         \u001b[0mresult\u001b[0m \u001b[1;33m=\u001b[0m \u001b[0mImmediateResult\u001b[0m\u001b[1;33m(\u001b[0m\u001b[0mfunc\u001b[0m\u001b[1;33m)\u001b[0m\u001b[1;33m\u001b[0m\u001b[1;33m\u001b[0m\u001b[0m\n\u001b[0m\u001b[0;32m    209\u001b[0m         \u001b[1;32mif\u001b[0m \u001b[0mcallback\u001b[0m\u001b[1;33m:\u001b[0m\u001b[1;33m\u001b[0m\u001b[1;33m\u001b[0m\u001b[0m\n\u001b[0;32m    210\u001b[0m             \u001b[0mcallback\u001b[0m\u001b[1;33m(\u001b[0m\u001b[0mresult\u001b[0m\u001b[1;33m)\u001b[0m\u001b[1;33m\u001b[0m\u001b[1;33m\u001b[0m\u001b[0m\n",
      "\u001b[1;32m~\\Anaconda-Python\\lib\\site-packages\\joblib\\_parallel_backends.py\u001b[0m in \u001b[0;36m__init__\u001b[1;34m(self, batch)\u001b[0m\n\u001b[0;32m    570\u001b[0m         \u001b[1;31m# Don't delay the application, to avoid keeping the input\u001b[0m\u001b[1;33m\u001b[0m\u001b[1;33m\u001b[0m\u001b[1;33m\u001b[0m\u001b[0m\n\u001b[0;32m    571\u001b[0m         \u001b[1;31m# arguments in memory\u001b[0m\u001b[1;33m\u001b[0m\u001b[1;33m\u001b[0m\u001b[1;33m\u001b[0m\u001b[0m\n\u001b[1;32m--> 572\u001b[1;33m         \u001b[0mself\u001b[0m\u001b[1;33m.\u001b[0m\u001b[0mresults\u001b[0m \u001b[1;33m=\u001b[0m \u001b[0mbatch\u001b[0m\u001b[1;33m(\u001b[0m\u001b[1;33m)\u001b[0m\u001b[1;33m\u001b[0m\u001b[1;33m\u001b[0m\u001b[0m\n\u001b[0m\u001b[0;32m    573\u001b[0m \u001b[1;33m\u001b[0m\u001b[0m\n\u001b[0;32m    574\u001b[0m     \u001b[1;32mdef\u001b[0m \u001b[0mget\u001b[0m\u001b[1;33m(\u001b[0m\u001b[0mself\u001b[0m\u001b[1;33m)\u001b[0m\u001b[1;33m:\u001b[0m\u001b[1;33m\u001b[0m\u001b[1;33m\u001b[0m\u001b[0m\n",
      "\u001b[1;32m~\\Anaconda-Python\\lib\\site-packages\\joblib\\parallel.py\u001b[0m in \u001b[0;36m__call__\u001b[1;34m(self)\u001b[0m\n\u001b[0;32m    260\u001b[0m         \u001b[1;31m# change the default number of processes to -1\u001b[0m\u001b[1;33m\u001b[0m\u001b[1;33m\u001b[0m\u001b[1;33m\u001b[0m\u001b[0m\n\u001b[0;32m    261\u001b[0m         \u001b[1;32mwith\u001b[0m \u001b[0mparallel_backend\u001b[0m\u001b[1;33m(\u001b[0m\u001b[0mself\u001b[0m\u001b[1;33m.\u001b[0m\u001b[0m_backend\u001b[0m\u001b[1;33m,\u001b[0m \u001b[0mn_jobs\u001b[0m\u001b[1;33m=\u001b[0m\u001b[0mself\u001b[0m\u001b[1;33m.\u001b[0m\u001b[0m_n_jobs\u001b[0m\u001b[1;33m)\u001b[0m\u001b[1;33m:\u001b[0m\u001b[1;33m\u001b[0m\u001b[1;33m\u001b[0m\u001b[0m\n\u001b[1;32m--> 262\u001b[1;33m             return [func(*args, **kwargs)\n\u001b[0m\u001b[0;32m    263\u001b[0m                     for func, args, kwargs in self.items]\n\u001b[0;32m    264\u001b[0m \u001b[1;33m\u001b[0m\u001b[0m\n",
      "\u001b[1;32m~\\Anaconda-Python\\lib\\site-packages\\joblib\\parallel.py\u001b[0m in \u001b[0;36m<listcomp>\u001b[1;34m(.0)\u001b[0m\n\u001b[0;32m    260\u001b[0m         \u001b[1;31m# change the default number of processes to -1\u001b[0m\u001b[1;33m\u001b[0m\u001b[1;33m\u001b[0m\u001b[1;33m\u001b[0m\u001b[0m\n\u001b[0;32m    261\u001b[0m         \u001b[1;32mwith\u001b[0m \u001b[0mparallel_backend\u001b[0m\u001b[1;33m(\u001b[0m\u001b[0mself\u001b[0m\u001b[1;33m.\u001b[0m\u001b[0m_backend\u001b[0m\u001b[1;33m,\u001b[0m \u001b[0mn_jobs\u001b[0m\u001b[1;33m=\u001b[0m\u001b[0mself\u001b[0m\u001b[1;33m.\u001b[0m\u001b[0m_n_jobs\u001b[0m\u001b[1;33m)\u001b[0m\u001b[1;33m:\u001b[0m\u001b[1;33m\u001b[0m\u001b[1;33m\u001b[0m\u001b[0m\n\u001b[1;32m--> 262\u001b[1;33m             return [func(*args, **kwargs)\n\u001b[0m\u001b[0;32m    263\u001b[0m                     for func, args, kwargs in self.items]\n\u001b[0;32m    264\u001b[0m \u001b[1;33m\u001b[0m\u001b[0m\n",
      "\u001b[1;32m~\\Anaconda-Python\\lib\\site-packages\\sklearn\\utils\\fixes.py\u001b[0m in \u001b[0;36m__call__\u001b[1;34m(self, *args, **kwargs)\u001b[0m\n\u001b[0;32m    220\u001b[0m     \u001b[1;32mdef\u001b[0m \u001b[0m__call__\u001b[0m\u001b[1;33m(\u001b[0m\u001b[0mself\u001b[0m\u001b[1;33m,\u001b[0m \u001b[1;33m*\u001b[0m\u001b[0margs\u001b[0m\u001b[1;33m,\u001b[0m \u001b[1;33m**\u001b[0m\u001b[0mkwargs\u001b[0m\u001b[1;33m)\u001b[0m\u001b[1;33m:\u001b[0m\u001b[1;33m\u001b[0m\u001b[1;33m\u001b[0m\u001b[0m\n\u001b[0;32m    221\u001b[0m         \u001b[1;32mwith\u001b[0m \u001b[0mconfig_context\u001b[0m\u001b[1;33m(\u001b[0m\u001b[1;33m**\u001b[0m\u001b[0mself\u001b[0m\u001b[1;33m.\u001b[0m\u001b[0mconfig\u001b[0m\u001b[1;33m)\u001b[0m\u001b[1;33m:\u001b[0m\u001b[1;33m\u001b[0m\u001b[1;33m\u001b[0m\u001b[0m\n\u001b[1;32m--> 222\u001b[1;33m             \u001b[1;32mreturn\u001b[0m \u001b[0mself\u001b[0m\u001b[1;33m.\u001b[0m\u001b[0mfunction\u001b[0m\u001b[1;33m(\u001b[0m\u001b[1;33m*\u001b[0m\u001b[0margs\u001b[0m\u001b[1;33m,\u001b[0m \u001b[1;33m**\u001b[0m\u001b[0mkwargs\u001b[0m\u001b[1;33m)\u001b[0m\u001b[1;33m\u001b[0m\u001b[1;33m\u001b[0m\u001b[0m\n\u001b[0m",
      "\u001b[1;32m~\\Anaconda-Python\\lib\\site-packages\\sklearn\\model_selection\\_validation.py\u001b[0m in \u001b[0;36m_fit_and_score\u001b[1;34m(estimator, X, y, scorer, train, test, verbose, parameters, fit_params, return_train_score, return_parameters, return_n_test_samples, return_times, return_estimator, split_progress, candidate_progress, error_score)\u001b[0m\n\u001b[0;32m    596\u001b[0m             \u001b[0mestimator\u001b[0m\u001b[1;33m.\u001b[0m\u001b[0mfit\u001b[0m\u001b[1;33m(\u001b[0m\u001b[0mX_train\u001b[0m\u001b[1;33m,\u001b[0m \u001b[1;33m**\u001b[0m\u001b[0mfit_params\u001b[0m\u001b[1;33m)\u001b[0m\u001b[1;33m\u001b[0m\u001b[1;33m\u001b[0m\u001b[0m\n\u001b[0;32m    597\u001b[0m         \u001b[1;32melse\u001b[0m\u001b[1;33m:\u001b[0m\u001b[1;33m\u001b[0m\u001b[1;33m\u001b[0m\u001b[0m\n\u001b[1;32m--> 598\u001b[1;33m             \u001b[0mestimator\u001b[0m\u001b[1;33m.\u001b[0m\u001b[0mfit\u001b[0m\u001b[1;33m(\u001b[0m\u001b[0mX_train\u001b[0m\u001b[1;33m,\u001b[0m \u001b[0my_train\u001b[0m\u001b[1;33m,\u001b[0m \u001b[1;33m**\u001b[0m\u001b[0mfit_params\u001b[0m\u001b[1;33m)\u001b[0m\u001b[1;33m\u001b[0m\u001b[1;33m\u001b[0m\u001b[0m\n\u001b[0m\u001b[0;32m    599\u001b[0m \u001b[1;33m\u001b[0m\u001b[0m\n\u001b[0;32m    600\u001b[0m     \u001b[1;32mexcept\u001b[0m \u001b[0mException\u001b[0m \u001b[1;32mas\u001b[0m \u001b[0me\u001b[0m\u001b[1;33m:\u001b[0m\u001b[1;33m\u001b[0m\u001b[1;33m\u001b[0m\u001b[0m\n",
      "\u001b[1;32m~\\Anaconda-Python\\lib\\site-packages\\sklearn\\pipeline.py\u001b[0m in \u001b[0;36mfit\u001b[1;34m(self, X, y, **fit_params)\u001b[0m\n\u001b[0;32m    344\u001b[0m             \u001b[1;32mif\u001b[0m \u001b[0mself\u001b[0m\u001b[1;33m.\u001b[0m\u001b[0m_final_estimator\u001b[0m \u001b[1;33m!=\u001b[0m \u001b[1;34m'passthrough'\u001b[0m\u001b[1;33m:\u001b[0m\u001b[1;33m\u001b[0m\u001b[1;33m\u001b[0m\u001b[0m\n\u001b[0;32m    345\u001b[0m                 \u001b[0mfit_params_last_step\u001b[0m \u001b[1;33m=\u001b[0m \u001b[0mfit_params_steps\u001b[0m\u001b[1;33m[\u001b[0m\u001b[0mself\u001b[0m\u001b[1;33m.\u001b[0m\u001b[0msteps\u001b[0m\u001b[1;33m[\u001b[0m\u001b[1;33m-\u001b[0m\u001b[1;36m1\u001b[0m\u001b[1;33m]\u001b[0m\u001b[1;33m[\u001b[0m\u001b[1;36m0\u001b[0m\u001b[1;33m]\u001b[0m\u001b[1;33m]\u001b[0m\u001b[1;33m\u001b[0m\u001b[1;33m\u001b[0m\u001b[0m\n\u001b[1;32m--> 346\u001b[1;33m                 \u001b[0mself\u001b[0m\u001b[1;33m.\u001b[0m\u001b[0m_final_estimator\u001b[0m\u001b[1;33m.\u001b[0m\u001b[0mfit\u001b[0m\u001b[1;33m(\u001b[0m\u001b[0mXt\u001b[0m\u001b[1;33m,\u001b[0m \u001b[0my\u001b[0m\u001b[1;33m,\u001b[0m \u001b[1;33m**\u001b[0m\u001b[0mfit_params_last_step\u001b[0m\u001b[1;33m)\u001b[0m\u001b[1;33m\u001b[0m\u001b[1;33m\u001b[0m\u001b[0m\n\u001b[0m\u001b[0;32m    347\u001b[0m \u001b[1;33m\u001b[0m\u001b[0m\n\u001b[0;32m    348\u001b[0m         \u001b[1;32mreturn\u001b[0m \u001b[0mself\u001b[0m\u001b[1;33m\u001b[0m\u001b[1;33m\u001b[0m\u001b[0m\n",
      "\u001b[1;32m~\\Anaconda-Python\\lib\\site-packages\\xgboost\\core.py\u001b[0m in \u001b[0;36minner_f\u001b[1;34m(*args, **kwargs)\u001b[0m\n\u001b[0;32m    504\u001b[0m         \u001b[1;32mfor\u001b[0m \u001b[0mk\u001b[0m\u001b[1;33m,\u001b[0m \u001b[0marg\u001b[0m \u001b[1;32min\u001b[0m \u001b[0mzip\u001b[0m\u001b[1;33m(\u001b[0m\u001b[0msig\u001b[0m\u001b[1;33m.\u001b[0m\u001b[0mparameters\u001b[0m\u001b[1;33m,\u001b[0m \u001b[0margs\u001b[0m\u001b[1;33m)\u001b[0m\u001b[1;33m:\u001b[0m\u001b[1;33m\u001b[0m\u001b[1;33m\u001b[0m\u001b[0m\n\u001b[0;32m    505\u001b[0m             \u001b[0mkwargs\u001b[0m\u001b[1;33m[\u001b[0m\u001b[0mk\u001b[0m\u001b[1;33m]\u001b[0m \u001b[1;33m=\u001b[0m \u001b[0marg\u001b[0m\u001b[1;33m\u001b[0m\u001b[1;33m\u001b[0m\u001b[0m\n\u001b[1;32m--> 506\u001b[1;33m         \u001b[1;32mreturn\u001b[0m \u001b[0mf\u001b[0m\u001b[1;33m(\u001b[0m\u001b[1;33m**\u001b[0m\u001b[0mkwargs\u001b[0m\u001b[1;33m)\u001b[0m\u001b[1;33m\u001b[0m\u001b[1;33m\u001b[0m\u001b[0m\n\u001b[0m\u001b[0;32m    507\u001b[0m \u001b[1;33m\u001b[0m\u001b[0m\n\u001b[0;32m    508\u001b[0m     \u001b[1;32mreturn\u001b[0m \u001b[0minner_f\u001b[0m\u001b[1;33m\u001b[0m\u001b[1;33m\u001b[0m\u001b[0m\n",
      "\u001b[1;32m~\\Anaconda-Python\\lib\\site-packages\\xgboost\\sklearn.py\u001b[0m in \u001b[0;36mfit\u001b[1;34m(self, X, y, sample_weight, base_margin, eval_set, eval_metric, early_stopping_rounds, verbose, xgb_model, sample_weight_eval_set, base_margin_eval_set, feature_weights, callbacks)\u001b[0m\n\u001b[0;32m   1248\u001b[0m         )\n\u001b[0;32m   1249\u001b[0m \u001b[1;33m\u001b[0m\u001b[0m\n\u001b[1;32m-> 1250\u001b[1;33m         self._Booster = train(\n\u001b[0m\u001b[0;32m   1251\u001b[0m             \u001b[0mparams\u001b[0m\u001b[1;33m,\u001b[0m\u001b[1;33m\u001b[0m\u001b[1;33m\u001b[0m\u001b[0m\n\u001b[0;32m   1252\u001b[0m             \u001b[0mtrain_dmatrix\u001b[0m\u001b[1;33m,\u001b[0m\u001b[1;33m\u001b[0m\u001b[1;33m\u001b[0m\u001b[0m\n",
      "\u001b[1;32m~\\Anaconda-Python\\lib\\site-packages\\xgboost\\training.py\u001b[0m in \u001b[0;36mtrain\u001b[1;34m(params, dtrain, num_boost_round, evals, obj, feval, maximize, early_stopping_rounds, evals_result, verbose_eval, xgb_model, callbacks)\u001b[0m\n\u001b[0;32m    186\u001b[0m     \u001b[0mBooster\u001b[0m \u001b[1;33m:\u001b[0m \u001b[0ma\u001b[0m \u001b[0mtrained\u001b[0m \u001b[0mbooster\u001b[0m \u001b[0mmodel\u001b[0m\u001b[1;33m\u001b[0m\u001b[1;33m\u001b[0m\u001b[0m\n\u001b[0;32m    187\u001b[0m     \"\"\"\n\u001b[1;32m--> 188\u001b[1;33m     bst = _train_internal(params, dtrain,\n\u001b[0m\u001b[0;32m    189\u001b[0m                           \u001b[0mnum_boost_round\u001b[0m\u001b[1;33m=\u001b[0m\u001b[0mnum_boost_round\u001b[0m\u001b[1;33m,\u001b[0m\u001b[1;33m\u001b[0m\u001b[1;33m\u001b[0m\u001b[0m\n\u001b[0;32m    190\u001b[0m                           \u001b[0mevals\u001b[0m\u001b[1;33m=\u001b[0m\u001b[0mevals\u001b[0m\u001b[1;33m,\u001b[0m\u001b[1;33m\u001b[0m\u001b[1;33m\u001b[0m\u001b[0m\n",
      "\u001b[1;32m~\\Anaconda-Python\\lib\\site-packages\\xgboost\\training.py\u001b[0m in \u001b[0;36m_train_internal\u001b[1;34m(params, dtrain, num_boost_round, evals, obj, feval, xgb_model, callbacks, evals_result, maximize, verbose_eval, early_stopping_rounds)\u001b[0m\n\u001b[0;32m     79\u001b[0m         \u001b[1;32mif\u001b[0m \u001b[0mcallbacks\u001b[0m\u001b[1;33m.\u001b[0m\u001b[0mbefore_iteration\u001b[0m\u001b[1;33m(\u001b[0m\u001b[0mbst\u001b[0m\u001b[1;33m,\u001b[0m \u001b[0mi\u001b[0m\u001b[1;33m,\u001b[0m \u001b[0mdtrain\u001b[0m\u001b[1;33m,\u001b[0m \u001b[0mevals\u001b[0m\u001b[1;33m)\u001b[0m\u001b[1;33m:\u001b[0m\u001b[1;33m\u001b[0m\u001b[1;33m\u001b[0m\u001b[0m\n\u001b[0;32m     80\u001b[0m             \u001b[1;32mbreak\u001b[0m\u001b[1;33m\u001b[0m\u001b[1;33m\u001b[0m\u001b[0m\n\u001b[1;32m---> 81\u001b[1;33m         \u001b[0mbst\u001b[0m\u001b[1;33m.\u001b[0m\u001b[0mupdate\u001b[0m\u001b[1;33m(\u001b[0m\u001b[0mdtrain\u001b[0m\u001b[1;33m,\u001b[0m \u001b[0mi\u001b[0m\u001b[1;33m,\u001b[0m \u001b[0mobj\u001b[0m\u001b[1;33m)\u001b[0m\u001b[1;33m\u001b[0m\u001b[1;33m\u001b[0m\u001b[0m\n\u001b[0m\u001b[0;32m     82\u001b[0m         \u001b[1;32mif\u001b[0m \u001b[0mcallbacks\u001b[0m\u001b[1;33m.\u001b[0m\u001b[0mafter_iteration\u001b[0m\u001b[1;33m(\u001b[0m\u001b[0mbst\u001b[0m\u001b[1;33m,\u001b[0m \u001b[0mi\u001b[0m\u001b[1;33m,\u001b[0m \u001b[0mdtrain\u001b[0m\u001b[1;33m,\u001b[0m \u001b[0mevals\u001b[0m\u001b[1;33m)\u001b[0m\u001b[1;33m:\u001b[0m\u001b[1;33m\u001b[0m\u001b[1;33m\u001b[0m\u001b[0m\n\u001b[0;32m     83\u001b[0m             \u001b[1;32mbreak\u001b[0m\u001b[1;33m\u001b[0m\u001b[1;33m\u001b[0m\u001b[0m\n",
      "\u001b[1;32m~\\Anaconda-Python\\lib\\site-packages\\xgboost\\core.py\u001b[0m in \u001b[0;36mupdate\u001b[1;34m(self, dtrain, iteration, fobj)\u001b[0m\n\u001b[0;32m   1678\u001b[0m \u001b[1;33m\u001b[0m\u001b[0m\n\u001b[0;32m   1679\u001b[0m         \u001b[1;32mif\u001b[0m \u001b[0mfobj\u001b[0m \u001b[1;32mis\u001b[0m \u001b[1;32mNone\u001b[0m\u001b[1;33m:\u001b[0m\u001b[1;33m\u001b[0m\u001b[1;33m\u001b[0m\u001b[0m\n\u001b[1;32m-> 1680\u001b[1;33m             _check_call(_LIB.XGBoosterUpdateOneIter(self.handle,\n\u001b[0m\u001b[0;32m   1681\u001b[0m                                                     \u001b[0mctypes\u001b[0m\u001b[1;33m.\u001b[0m\u001b[0mc_int\u001b[0m\u001b[1;33m(\u001b[0m\u001b[0miteration\u001b[0m\u001b[1;33m)\u001b[0m\u001b[1;33m,\u001b[0m\u001b[1;33m\u001b[0m\u001b[1;33m\u001b[0m\u001b[0m\n\u001b[0;32m   1682\u001b[0m                                                     dtrain.handle))\n",
      "\u001b[1;31mKeyboardInterrupt\u001b[0m: "
     ]
    }
   ],
   "source": [
    "rand_search = rand_search_eval(hype_params)"
   ]
  },
  {
   "cell_type": "code",
   "execution_count": 121,
   "id": "74f058d9",
   "metadata": {},
   "outputs": [
    {
     "data": {
      "text/plain": [
       "{'xgb_model__n_estimators': 500, 'xgb_model__learning_rate': 0.4}"
      ]
     },
     "execution_count": 121,
     "metadata": {},
     "output_type": "execute_result"
    }
   ],
   "source": [
    "rand_search.cv_results_['params'][0]"
   ]
  },
  {
   "cell_type": "code",
   "execution_count": 288,
   "id": "5fbb8e71",
   "metadata": {},
   "outputs": [],
   "source": [
    "# Tuning the parameters based on the rand_search results\n",
    "hype_params = {\n",
    "    'xgb_model__learning_rate': [0.1],\n",
    "    'xgb_model__n_estimators': range(80, 130, 10),\n",
    "}"
   ]
  },
  {
   "cell_type": "code",
   "execution_count": 290,
   "id": "28f652ff",
   "metadata": {},
   "outputs": [],
   "source": [
    "grid_search_eval(hype_params)"
   ]
  },
  {
   "cell_type": "code",
   "execution_count": 308,
   "id": "c57eda40",
   "metadata": {},
   "outputs": [],
   "source": [
    "hype_params['xgb_model__learning_rate'] = [0.1]\n",
    "hype_params['xgb_model__n_estimators'] = [100]"
   ]
  },
  {
   "cell_type": "markdown",
   "id": "8db5560f",
   "metadata": {},
   "source": [
    "Set the initial tuned parameters for learning_rate and n_estimators, and then continue with tuning the tree parameters. I will come back to the learning_rate and n_estimator one more time at the end of the optimization."
   ]
  },
  {
   "cell_type": "markdown",
   "id": "b3c89551",
   "metadata": {},
   "source": [
    "#### Tree Parameters: max_depth, min_child_weight, gamma"
   ]
  },
  {
   "cell_type": "code",
   "execution_count": 309,
   "id": "d6e203f8",
   "metadata": {},
   "outputs": [],
   "source": [
    "hype_params['xgb_model__max_depth'] = range(2, 16, 2)\n",
    "hype_params['xgb_model__min_child_weight'] = range(1,6,2)\n",
    "hype_params['xgb_model__gamma'] = [i/10.0 for i in range(0,5)]"
   ]
  },
  {
   "cell_type": "code",
   "execution_count": 310,
   "id": "733e571d",
   "metadata": {},
   "outputs": [],
   "source": [
    "rand_search = RandomizedSearchCV(\n",
    "    estimator=pipe_2,\n",
    "    param_distributions=hype_params,\n",
    "    scoring = 'f1_macro',\n",
    "    n_iter = 10,\n",
    "    cv = 5,\n",
    "    verbose=True,\n",
    "    random_state=123\n",
    ")"
   ]
  },
  {
   "cell_type": "code",
   "execution_count": 311,
   "id": "7bde0c30",
   "metadata": {},
   "outputs": [
    {
     "name": "stdout",
     "output_type": "stream",
     "text": [
      "Fitting 5 folds for each of 10 candidates, totalling 50 fits\n"
     ]
    },
    {
     "data": {
      "text/plain": [
       "RandomizedSearchCV(cv=5,\n",
       "                   estimator=Pipeline(steps=[('preprocessor',\n",
       "                                              ColumnTransformer(transformers=[('num_transformer',\n",
       "                                                                               SimpleImputer(fill_value=-99,\n",
       "                                                                                             strategy='constant'),\n",
       "                                                                               Index(['Patient_Age', 'Blood_Cell', 'Mother_Age', 'Father_Age',\n",
       "       'Previous_Abortions', 'White_Blood_Cell', 'Symptom_1', 'Symptom_2',\n",
       "       'Symptom_3', 'Symptom_4', 'Symptom_5'],\n",
       "      dtype='object')),\n",
       "                                                                              ('cat...\n",
       "                                                            scale_pos_weight=None,\n",
       "                                                            seed=123,\n",
       "                                                            subsample=None,\n",
       "                                                            tree_method=None,\n",
       "                                                            use_label_encoder=False, ...))]),\n",
       "                   param_distributions={'xgb_model__gamma': [0.0, 0.1, 0.2, 0.3,\n",
       "                                                             0.4],\n",
       "                                        'xgb_model__learning_rate': [0.1],\n",
       "                                        'xgb_model__max_depth': range(2, 16, 2),\n",
       "                                        'xgb_model__min_child_weight': range(1, 6, 2),\n",
       "                                        'xgb_model__n_estimators': [100]},\n",
       "                   random_state=123, scoring='f1_macro', verbose=True)"
      ]
     },
     "execution_count": 311,
     "metadata": {},
     "output_type": "execute_result"
    }
   ],
   "source": [
    "rand_search.fit(X_train, y_train)"
   ]
  },
  {
   "cell_type": "code",
   "execution_count": 312,
   "id": "4feceb7c",
   "metadata": {},
   "outputs": [
    {
     "data": {
      "text/plain": [
       "{'xgb_model__n_estimators': 100,\n",
       " 'xgb_model__min_child_weight': 5,\n",
       " 'xgb_model__max_depth': 8,\n",
       " 'xgb_model__learning_rate': 0.1,\n",
       " 'xgb_model__gamma': 0.2}"
      ]
     },
     "execution_count": 312,
     "metadata": {},
     "output_type": "execute_result"
    }
   ],
   "source": [
    "rand_search.best_params_"
   ]
  },
  {
   "cell_type": "code",
   "execution_count": 315,
   "id": "43f4f493",
   "metadata": {},
   "outputs": [
    {
     "data": {
      "text/plain": [
       "0.2953408328269985"
      ]
     },
     "execution_count": 315,
     "metadata": {},
     "output_type": "execute_result"
    }
   ],
   "source": [
    "rand_search.best_score_"
   ]
  },
  {
   "cell_type": "code",
   "execution_count": 327,
   "id": "5996991b",
   "metadata": {},
   "outputs": [],
   "source": [
    "mean_score = list(rand_search.cv_results_['mean_test_score'])\n",
    "stds_score = list(rand_search.cv_results_['std_test_score'])"
   ]
  },
  {
   "cell_type": "code",
   "execution_count": 330,
   "id": "b993dc14",
   "metadata": {},
   "outputs": [
    {
     "data": {
      "image/png": "[encoded data removed]",
      "text/plain": [
       "<Figure size 432x288 with 1 Axes>"
      ]
     },
     "metadata": {
      "needs_background": "light"
     },
     "output_type": "display_data"
    }
   ],
   "source": [
    "plt.errorbar(list(range(0,len(mean_score))), mean_score, yerr=stds_score)\n",
    "plt.title(\"Rand_Search Iteration vs F1_Macro Score\")\n",
    "plt.xlabel(\"Iteration\")\n",
    "plt.ylabel(\"f1_score\")\n",
    "plt.show()"
   ]
  },
  {
   "cell_type": "markdown",
   "id": "1d7a2208",
   "metadata": {},
   "source": [
    "Iteration 0 and 6 looks to have the highest scores with their randomized parameters."
   ]
  },
  {
   "cell_type": "code",
   "execution_count": 337,
   "id": "1cbd9971",
   "metadata": {},
   "outputs": [
    {
     "data": {
      "text/plain": [
       "{'xgb_model__n_estimators': 100,\n",
       " 'xgb_model__min_child_weight': 5,\n",
       " 'xgb_model__max_depth': 8,\n",
       " 'xgb_model__learning_rate': 0.1,\n",
       " 'xgb_model__gamma': 0.2}"
      ]
     },
     "execution_count": 337,
     "metadata": {},
     "output_type": "execute_result"
    }
   ],
   "source": [
    "rand_search.cv_results_['params'][0]"
   ]
  },
  {
   "cell_type": "code",
   "execution_count": 338,
   "id": "601c7303",
   "metadata": {},
   "outputs": [
    {
     "data": {
      "text/plain": [
       "{'xgb_model__n_estimators': 100,\n",
       " 'xgb_model__min_child_weight': 5,\n",
       " 'xgb_model__max_depth': 6,\n",
       " 'xgb_model__learning_rate': 0.1,\n",
       " 'xgb_model__gamma': 0.0}"
      ]
     },
     "execution_count": 338,
     "metadata": {},
     "output_type": "execute_result"
    }
   ],
   "source": [
    "rand_search.cv_results_['params'][6]"
   ]
  },
  {
   "cell_type": "markdown",
   "id": "4a54c94a",
   "metadata": {},
   "source": [
    "My new grid_search parameters will include both rand_search parameters that had the best scores."
   ]
  },
  {
   "cell_type": "code",
   "execution_count": 358,
   "id": "7e57667a",
   "metadata": {},
   "outputs": [],
   "source": [
    "hype_params['xgb_model__max_depth'] = range(5, 10)\n",
    "hype_params['xgb_model__min_child_weight'] = range(4,7)\n",
    "hype_params['xgb_model__gamma'] = np.arange(0, 0.4, 0.1)"
   ]
  },
  {
   "cell_type": "code",
   "execution_count": 359,
   "id": "02c0e73f",
   "metadata": {},
   "outputs": [],
   "source": [
    "grid_search = GridSearchCV(\n",
    "    estimator=pipe_2,\n",
    "    param_grid=hype_params,\n",
    "    scoring = 'f1_macro',\n",
    "    cv = 5,\n",
    "    verbose=True,\n",
    ")"
   ]
  },
  {
   "cell_type": "code",
   "execution_count": 360,
   "id": "96180743",
   "metadata": {},
   "outputs": [
    {
     "name": "stdout",
     "output_type": "stream",
     "text": [
      "Fitting 5 folds for each of 60 candidates, totalling 300 fits\n"
     ]
    },
    {
     "data": {
      "text/plain": [
       "GridSearchCV(cv=5,\n",
       "             estimator=Pipeline(steps=[('preprocessor',\n",
       "                                        ColumnTransformer(transformers=[('num_transformer',\n",
       "                                                                         SimpleImputer(fill_value=-99,\n",
       "                                                                                       strategy='constant'),\n",
       "                                                                         Index(['Patient_Age', 'Blood_Cell', 'Mother_Age', 'Father_Age',\n",
       "       'Previous_Abortions', 'White_Blood_Cell', 'Symptom_1', 'Symptom_2',\n",
       "       'Symptom_3', 'Symptom_4', 'Symptom_5'],\n",
       "      dtype='object')),\n",
       "                                                                        ('cat_trans...\n",
       "                                                      reg_alpha=None,\n",
       "                                                      reg_lambda=None,\n",
       "                                                      scale_pos_weight=None,\n",
       "                                                      seed=123, subsample=None,\n",
       "                                                      tree_method=None,\n",
       "                                                      use_label_encoder=False, ...))]),\n",
       "             param_grid={'xgb_model__gamma': array([0. , 0.1, 0.2, 0.3]),\n",
       "                         'xgb_model__learning_rate': [0.1],\n",
       "                         'xgb_model__max_depth': range(5, 10),\n",
       "                         'xgb_model__min_child_weight': range(4, 7),\n",
       "                         'xgb_model__n_estimators': [100]},\n",
       "             scoring='f1_macro', verbose=True)"
      ]
     },
     "execution_count": 360,
     "metadata": {},
     "output_type": "execute_result"
    }
   ],
   "source": [
    "grid_search.fit(X_train, y_train)"
   ]
  },
  {
   "cell_type": "code",
   "execution_count": 364,
   "id": "f08029a3",
   "metadata": {},
   "outputs": [],
   "source": [
    "mean_score = list(grid_search.cv_results_['mean_test_score'])\n",
    "stds_score = list(grid_search.cv_results_['std_test_score'])"
   ]
  },
  {
   "cell_type": "code",
   "execution_count": 365,
   "id": "e328458e",
   "metadata": {},
   "outputs": [
    {
     "data": {
      "image/png": "[encoded data removed]",
      "text/plain": [
       "<Figure size 432x288 with 1 Axes>"
      ]
     },
     "metadata": {
      "needs_background": "light"
     },
     "output_type": "display_data"
    }
   ],
   "source": [
    "plt.errorbar(list(range(0,len(mean_score))), mean_score, yerr=stds_score)\n",
    "plt.title(\"Grid_Search Iteration vs F1_Macro Score\")\n",
    "plt.xlabel(\"Iteration\")\n",
    "plt.ylabel(\"f1_score\")\n",
    "plt.show()"
   ]
  },
  {
   "cell_type": "code",
   "execution_count": 377,
   "id": "a443ea43",
   "metadata": {},
   "outputs": [
    {
     "data": {
      "text/plain": [
       "[(7, 0.29850871072905855),\n",
       " (52, 0.2979692659309125),\n",
       " (53, 0.2978607889157467),\n",
       " (37, 0.2967703665223703),\n",
       " (38, 0.29646386364126975)]"
      ]
     },
     "execution_count": 377,
     "metadata": {},
     "output_type": "execute_result"
    }
   ],
   "source": [
    "sorted(list(enumerate(mean_score)), key=lambda x: x[1], reverse=True)[0:5]"
   ]
  },
  {
   "cell_type": "code",
   "execution_count": 378,
   "id": "40ba96ef",
   "metadata": {},
   "outputs": [
    {
     "data": {
      "text/plain": [
       "{'xgb_model__gamma': 0.0,\n",
       " 'xgb_model__learning_rate': 0.1,\n",
       " 'xgb_model__max_depth': 7,\n",
       " 'xgb_model__min_child_weight': 5,\n",
       " 'xgb_model__n_estimators': 100}"
      ]
     },
     "execution_count": 378,
     "metadata": {},
     "output_type": "execute_result"
    }
   ],
   "source": [
    "grid_search.cv_results_['params'][7]"
   ]
  },
  {
   "cell_type": "code",
   "execution_count": 379,
   "id": "5ce0c6a9",
   "metadata": {},
   "outputs": [
    {
     "data": {
      "text/plain": [
       "{'xgb_model__gamma': 0.30000000000000004,\n",
       " 'xgb_model__learning_rate': 0.1,\n",
       " 'xgb_model__max_depth': 7,\n",
       " 'xgb_model__min_child_weight': 5,\n",
       " 'xgb_model__n_estimators': 100}"
      ]
     },
     "execution_count": 379,
     "metadata": {},
     "output_type": "execute_result"
    }
   ],
   "source": [
    "grid_search.cv_results_['params'][52]"
   ]
  },
  {
   "cell_type": "code",
   "execution_count": 380,
   "id": "cca84951",
   "metadata": {},
   "outputs": [
    {
     "data": {
      "text/plain": [
       "{'xgb_model__gamma': 0.30000000000000004,\n",
       " 'xgb_model__learning_rate': 0.1,\n",
       " 'xgb_model__max_depth': 7,\n",
       " 'xgb_model__min_child_weight': 6,\n",
       " 'xgb_model__n_estimators': 100}"
      ]
     },
     "execution_count": 380,
     "metadata": {},
     "output_type": "execute_result"
    }
   ],
   "source": [
    "grid_search.cv_results_['params'][53]"
   ]
  },
  {
   "cell_type": "code",
   "execution_count": 381,
   "id": "6d2d1b84",
   "metadata": {},
   "outputs": [
    {
     "data": {
      "text/plain": [
       "{'xgb_model__gamma': 0.2,\n",
       " 'xgb_model__learning_rate': 0.1,\n",
       " 'xgb_model__max_depth': 7,\n",
       " 'xgb_model__min_child_weight': 5,\n",
       " 'xgb_model__n_estimators': 100}"
      ]
     },
     "execution_count": 381,
     "metadata": {},
     "output_type": "execute_result"
    }
   ],
   "source": [
    "grid_search.cv_results_['params'][37]"
   ]
  },
  {
   "cell_type": "code",
   "execution_count": 382,
   "id": "5779cb17",
   "metadata": {},
   "outputs": [
    {
     "data": {
      "text/plain": [
       "{'xgb_model__gamma': 0.2,\n",
       " 'xgb_model__learning_rate': 0.1,\n",
       " 'xgb_model__max_depth': 7,\n",
       " 'xgb_model__min_child_weight': 6,\n",
       " 'xgb_model__n_estimators': 100}"
      ]
     },
     "execution_count": 382,
     "metadata": {},
     "output_type": "execute_result"
    }
   ],
   "source": [
    "grid_search.cv_results_['params'][38]"
   ]
  },
  {
   "cell_type": "code",
   "execution_count": 361,
   "id": "85b82102",
   "metadata": {},
   "outputs": [
    {
     "data": {
      "text/plain": [
       "{'xgb_model__gamma': 0.0,\n",
       " 'xgb_model__learning_rate': 0.1,\n",
       " 'xgb_model__max_depth': 7,\n",
       " 'xgb_model__min_child_weight': 5,\n",
       " 'xgb_model__n_estimators': 100}"
      ]
     },
     "execution_count": 361,
     "metadata": {},
     "output_type": "execute_result"
    }
   ],
   "source": [
    "grid_search.best_params_"
   ]
  },
  {
   "cell_type": "code",
   "execution_count": 363,
   "id": "7dedd4f9",
   "metadata": {},
   "outputs": [
    {
     "data": {
      "text/plain": [
       "0.29850871072905855"
      ]
     },
     "execution_count": 363,
     "metadata": {},
     "output_type": "execute_result"
    }
   ],
   "source": [
    "grid_search.best_score_"
   ]
  },
  {
   "cell_type": "markdown",
   "id": "312af33c",
   "metadata": {},
   "source": [
    "The best model generated is only slightly better compared to the 2nd rate model, but is technicially better relativity when 2nd and 3rd rate models are compared."
   ]
  },
  {
   "cell_type": "code",
   "execution_count": 385,
   "id": "8e468623",
   "metadata": {},
   "outputs": [],
   "source": [
    "hype_params['xgb_model__learning_rate'] = [0.1]\n",
    "hype_params['xgb_model__n_estimators'] = [100]\n",
    "hype_params['xgb_model__gamma'] = [0.2]\n",
    "hype_params['xgb_model__max_depth'] = [7]\n",
    "hype_params['xgb_model__min_child_weight'] = [6]"
   ]
  },
  {
   "cell_type": "markdown",
   "id": "9866466a",
   "metadata": {},
   "source": [
    "The optimal parameters for gamma, max_depth, and min_child_weight are set for the hyperparameters. The next set of parameters to tune will be subsample and colsample_bytree."
   ]
  },
  {
   "cell_type": "markdown",
   "id": "16b4b9f0",
   "metadata": {},
   "source": [
    "#### subsample and colsample_bytree"
   ]
  },
  {
   "cell_type": "code",
   "execution_count": 386,
   "id": "48cdd5f9",
   "metadata": {},
   "outputs": [],
   "source": [
    "hype_params['xgb_model__subsample'] = [i/10.0 for i in range(6,10)]\n",
    "hype_params['xgb_model__colsample_bytree'] = [i/10.0 for i in range(6,10)]"
   ]
  },
  {
   "cell_type": "code",
   "execution_count": 387,
   "id": "3667a146",
   "metadata": {},
   "outputs": [],
   "source": [
    "rand_search = RandomizedSearchCV(\n",
    "    estimator=pipe_2,\n",
    "    param_distributions=hype_params,\n",
    "    scoring = 'f1_macro',\n",
    "    n_iter = 10,\n",
    "    cv = 5,\n",
    "    verbose=True,\n",
    "    random_state=123\n",
    ")"
   ]
  },
  {
   "cell_type": "code",
   "execution_count": 388,
   "id": "a5500d5c",
   "metadata": {},
   "outputs": [
    {
     "name": "stdout",
     "output_type": "stream",
     "text": [
      "Fitting 5 folds for each of 10 candidates, totalling 50 fits\n"
     ]
    },
    {
     "data": {
      "text/plain": [
       "RandomizedSearchCV(cv=5,\n",
       "                   estimator=Pipeline(steps=[('preprocessor',\n",
       "                                              ColumnTransformer(transformers=[('num_transformer',\n",
       "                                                                               SimpleImputer(fill_value=-99,\n",
       "                                                                                             strategy='constant'),\n",
       "                                                                               Index(['Patient_Age', 'Blood_Cell', 'Mother_Age', 'Father_Age',\n",
       "       'Previous_Abortions', 'White_Blood_Cell', 'Symptom_1', 'Symptom_2',\n",
       "       'Symptom_3', 'Symptom_4', 'Symptom_5'],\n",
       "      dtype='object')),\n",
       "                                                                              ('cat...\n",
       "                                                            tree_method=None,\n",
       "                                                            use_label_encoder=False, ...))]),\n",
       "                   param_distributions={'xgb_model__colsample_bytree': [0.6,\n",
       "                                                                        0.7,\n",
       "                                                                        0.8,\n",
       "                                                                        0.9],\n",
       "                                        'xgb_model__gamma': [0.2],\n",
       "                                        'xgb_model__learning_rate': [0.1],\n",
       "                                        'xgb_model__max_depth': [7],\n",
       "                                        'xgb_model__min_child_weight': [6],\n",
       "                                        'xgb_model__n_estimators': [100],\n",
       "                                        'xgb_model__subsample': [0.6, 0.7, 0.8,\n",
       "                                                                 0.9]},\n",
       "                   random_state=123, scoring='f1_macro', verbose=True)"
      ]
     },
     "execution_count": 388,
     "metadata": {},
     "output_type": "execute_result"
    }
   ],
   "source": [
    "rand_search.fit(X_train, y_train)"
   ]
  },
  {
   "cell_type": "code",
   "execution_count": 389,
   "id": "e193bfe0",
   "metadata": {},
   "outputs": [
    {
     "data": {
      "text/plain": [
       "{'xgb_model__subsample': 0.6,\n",
       " 'xgb_model__n_estimators': 100,\n",
       " 'xgb_model__min_child_weight': 6,\n",
       " 'xgb_model__max_depth': 7,\n",
       " 'xgb_model__learning_rate': 0.1,\n",
       " 'xgb_model__gamma': 0.2,\n",
       " 'xgb_model__colsample_bytree': 0.8}"
      ]
     },
     "execution_count": 389,
     "metadata": {},
     "output_type": "execute_result"
    }
   ],
   "source": [
    "rand_search.best_params_"
   ]
  },
  {
   "cell_type": "code",
   "execution_count": 390,
   "id": "ca256758",
   "metadata": {},
   "outputs": [
    {
     "data": {
      "text/plain": [
       "0.2921600581675424"
      ]
     },
     "execution_count": 390,
     "metadata": {},
     "output_type": "execute_result"
    }
   ],
   "source": [
    "rand_search.best_score_"
   ]
  },
  {
   "cell_type": "code",
   "execution_count": 391,
   "id": "44d66b39",
   "metadata": {},
   "outputs": [],
   "source": [
    "mean_score = list(rand_search.cv_results_['mean_test_score'])\n",
    "stds_score = list(rand_search.cv_results_['std_test_score'])"
   ]
  },
  {
   "cell_type": "code",
   "execution_count": 392,
   "id": "222ce19f",
   "metadata": {},
   "outputs": [
    {
     "data": {
      "image/png": "[encoded data removed]",
      "text/plain": [
       "<Figure size 432x288 with 1 Axes>"
      ]
     },
     "metadata": {
      "needs_background": "light"
     },
     "output_type": "display_data"
    }
   ],
   "source": [
    "plt.errorbar(list(range(0,len(mean_score))), mean_score, yerr=stds_score)\n",
    "plt.title(\"Rand_Search Iteration vs F1_Macro Score\")\n",
    "plt.xlabel(\"Iteration\")\n",
    "plt.ylabel(\"f1_score\")\n",
    "plt.show()"
   ]
  },
  {
   "cell_type": "code",
   "execution_count": 393,
   "id": "41865d1f",
   "metadata": {},
   "outputs": [
    {
     "data": {
      "text/plain": [
       "{'xgb_model__subsample': 0.8,\n",
       " 'xgb_model__n_estimators': 100,\n",
       " 'xgb_model__min_child_weight': 6,\n",
       " 'xgb_model__max_depth': 7,\n",
       " 'xgb_model__learning_rate': 0.1,\n",
       " 'xgb_model__gamma': 0.2,\n",
       " 'xgb_model__colsample_bytree': 0.8}"
      ]
     },
     "execution_count": 393,
     "metadata": {},
     "output_type": "execute_result"
    }
   ],
   "source": [
    "rand_search.cv_results_['params'][1]"
   ]
  },
  {
   "cell_type": "code",
   "execution_count": 394,
   "id": "07ab0a85",
   "metadata": {},
   "outputs": [
    {
     "data": {
      "text/plain": [
       "{'xgb_model__subsample': 0.7,\n",
       " 'xgb_model__n_estimators': 100,\n",
       " 'xgb_model__min_child_weight': 6,\n",
       " 'xgb_model__max_depth': 7,\n",
       " 'xgb_model__learning_rate': 0.1,\n",
       " 'xgb_model__gamma': 0.2,\n",
       " 'xgb_model__colsample_bytree': 0.8}"
      ]
     },
     "execution_count": 394,
     "metadata": {},
     "output_type": "execute_result"
    }
   ],
   "source": [
    "rand_search.cv_results_['params'][5]"
   ]
  },
  {
   "cell_type": "code",
   "execution_count": 395,
   "id": "464a1628",
   "metadata": {},
   "outputs": [
    {
     "data": {
      "text/plain": [
       "{'xgb_model__subsample': 0.6,\n",
       " 'xgb_model__n_estimators': 100,\n",
       " 'xgb_model__min_child_weight': 6,\n",
       " 'xgb_model__max_depth': 7,\n",
       " 'xgb_model__learning_rate': 0.1,\n",
       " 'xgb_model__gamma': 0.2,\n",
       " 'xgb_model__colsample_bytree': 0.8}"
      ]
     },
     "execution_count": 395,
     "metadata": {},
     "output_type": "execute_result"
    }
   ],
   "source": [
    "rand_search.cv_results_['params'][6]"
   ]
  },
  {
   "cell_type": "markdown",
   "id": "eb8538e9",
   "metadata": {},
   "source": [
    "My new grid_search parameters will cover the top 3 model parameters and a bit on either ends."
   ]
  },
  {
   "cell_type": "code",
   "execution_count": 415,
   "id": "ccc721b3",
   "metadata": {},
   "outputs": [],
   "source": [
    "hype_params['xgb_model__subsample'] = [0.4, 0.5, 0.6, 0.7, 0.8, 0.9, 1]\n",
    "hype_params['xgb_model__colsample_bytree'] = [0.6, 0.7, 0.8, 0.9, 1]"
   ]
  },
  {
   "cell_type": "code",
   "execution_count": 416,
   "id": "b792ea41",
   "metadata": {},
   "outputs": [],
   "source": [
    "grid_search = GridSearchCV(\n",
    "    estimator=pipe_2,\n",
    "    param_grid=hype_params,\n",
    "    scoring = 'f1_macro',\n",
    "    cv = 5,\n",
    "    verbose=True,\n",
    ")"
   ]
  },
  {
   "cell_type": "code",
   "execution_count": 417,
   "id": "1169dd88",
   "metadata": {},
   "outputs": [
    {
     "name": "stdout",
     "output_type": "stream",
     "text": [
      "Fitting 5 folds for each of 35 candidates, totalling 175 fits\n"
     ]
    },
    {
     "data": {
      "text/plain": [
       "GridSearchCV(cv=5,\n",
       "             estimator=Pipeline(steps=[('preprocessor',\n",
       "                                        ColumnTransformer(transformers=[('num_transformer',\n",
       "                                                                         SimpleImputer(fill_value=-99,\n",
       "                                                                                       strategy='constant'),\n",
       "                                                                         Index(['Patient_Age', 'Blood_Cell', 'Mother_Age', 'Father_Age',\n",
       "       'Previous_Abortions', 'White_Blood_Cell', 'Symptom_1', 'Symptom_2',\n",
       "       'Symptom_3', 'Symptom_4', 'Symptom_5'],\n",
       "      dtype='object')),\n",
       "                                                                        ('cat_trans...\n",
       "                                                      seed=123, subsample=None,\n",
       "                                                      tree_method=None,\n",
       "                                                      use_label_encoder=False, ...))]),\n",
       "             param_grid={'xgb_model__colsample_bytree': [0.6, 0.7, 0.8, 0.9, 1],\n",
       "                         'xgb_model__gamma': [0.2],\n",
       "                         'xgb_model__learning_rate': [0.1],\n",
       "                         'xgb_model__max_depth': [7],\n",
       "                         'xgb_model__min_child_weight': [6],\n",
       "                         'xgb_model__n_estimators': [100],\n",
       "                         'xgb_model__subsample': [0.4, 0.5, 0.6, 0.7, 0.8, 0.9,\n",
       "                                                  1]},\n",
       "             scoring='f1_macro', verbose=True)"
      ]
     },
     "execution_count": 417,
     "metadata": {},
     "output_type": "execute_result"
    }
   ],
   "source": [
    "grid_search.fit(X_train, y_train)"
   ]
  },
  {
   "cell_type": "code",
   "execution_count": 418,
   "id": "ad4af893",
   "metadata": {},
   "outputs": [],
   "source": [
    "\n",
    "mean_score = list(grid_search.cv_results_['mean_test_score'])\n",
    "stds_score = list(grid_search.cv_results_['std_test_score'])"
   ]
  },
  {
   "cell_type": "code",
   "execution_count": 419,
   "id": "087f60ba",
   "metadata": {},
   "outputs": [
    {
     "data": {
      "image/png": "[encoded data removed]",
      "text/plain": [
       "<Figure size 432x288 with 1 Axes>"
      ]
     },
     "metadata": {
      "needs_background": "light"
     },
     "output_type": "display_data"
    }
   ],
   "source": [
    "plt.errorbar(list(range(0,len(mean_score))), mean_score, yerr=stds_score)\n",
    "plt.title(\"Grid_Search Iteration vs F1_Macro Score\")\n",
    "plt.xlabel(\"Iteration\")\n",
    "plt.ylabel(\"f1_score\")\n",
    "plt.show()"
   ]
  },
  {
   "cell_type": "code",
   "execution_count": 420,
   "id": "23162f3f",
   "metadata": {},
   "outputs": [
    {
     "data": {
      "text/plain": [
       "[(34, 0.29646386364126975),\n",
       " (23, 0.29629694030904036),\n",
       " (33, 0.2957800749686245),\n",
       " (32, 0.2951665080024468),\n",
       " (30, 0.2948239103298115)]"
      ]
     },
     "execution_count": 420,
     "metadata": {},
     "output_type": "execute_result"
    }
   ],
   "source": [
    "sorted(list(enumerate(mean_score)), key=lambda x: x[1], reverse=True)[0:5]"
   ]
  },
  {
   "cell_type": "code",
   "execution_count": 421,
   "id": "eac1d329",
   "metadata": {},
   "outputs": [
    {
     "data": {
      "text/plain": [
       "{'xgb_model__colsample_bytree': 1,\n",
       " 'xgb_model__gamma': 0.2,\n",
       " 'xgb_model__learning_rate': 0.1,\n",
       " 'xgb_model__max_depth': 7,\n",
       " 'xgb_model__min_child_weight': 6,\n",
       " 'xgb_model__n_estimators': 100,\n",
       " 'xgb_model__subsample': 1}"
      ]
     },
     "execution_count": 421,
     "metadata": {},
     "output_type": "execute_result"
    }
   ],
   "source": [
    "grid_search.best_params_"
   ]
  },
  {
   "cell_type": "code",
   "execution_count": 426,
   "id": "f83cba08",
   "metadata": {},
   "outputs": [
    {
     "data": {
      "text/plain": [
       "0.29646386364126975"
      ]
     },
     "execution_count": 426,
     "metadata": {},
     "output_type": "execute_result"
    }
   ],
   "source": [
    "grid_search.best_score_"
   ]
  },
  {
   "cell_type": "markdown",
   "id": "7d93771e",
   "metadata": {},
   "source": [
    "Although there is a positive trend in the metric graph for increased colsample_bytree and subsample, both parameters are maximized at 1. So these will be my values for these parameters. This could be something to revisit if other parameters are adjusted."
   ]
  },
  {
   "cell_type": "code",
   "execution_count": 451,
   "id": "09a942db",
   "metadata": {},
   "outputs": [],
   "source": [
    "hype_params['xgb_model__subsample'] = [1]\n",
    "hype_params['xgb_model__colsample_bytree'] = [1]"
   ]
  },
  {
   "cell_type": "markdown",
   "id": "8b8f3f2e",
   "metadata": {},
   "source": [
    "#### Tuning Regularization: reg_lambda"
   ]
  },
  {
   "cell_type": "markdown",
   "id": "1e4ab921",
   "metadata": {},
   "source": [
    "I will be tuning lambda rather then alpha since the amount of features I have for my data is relatively small and does not need dimensional reduction."
   ]
  },
  {
   "cell_type": "code",
   "execution_count": 463,
   "id": "28da0973",
   "metadata": {},
   "outputs": [],
   "source": [
    "hype_params['xgb_model__reg_lambda'] = [i/10.0 for i in range(7,16)]"
   ]
  },
  {
   "cell_type": "code",
   "execution_count": 464,
   "id": "3acf0219",
   "metadata": {},
   "outputs": [],
   "source": [
    "rand_search = RandomizedSearchCV(\n",
    "    estimator=pipe_2,\n",
    "    param_distributions=hype_params,\n",
    "    scoring = 'f1_macro',\n",
    "    n_iter = 10,\n",
    "    cv = 5,\n",
    "    verbose=True,\n",
    "    random_state=123\n",
    ")"
   ]
  },
  {
   "cell_type": "code",
   "execution_count": 465,
   "id": "b1edc99f",
   "metadata": {},
   "outputs": [
    {
     "name": "stdout",
     "output_type": "stream",
     "text": [
      "Fitting 5 folds for each of 9 candidates, totalling 45 fits\n"
     ]
    },
    {
     "data": {
      "text/plain": [
       "RandomizedSearchCV(cv=5,\n",
       "                   estimator=Pipeline(steps=[('preprocessor',\n",
       "                                              ColumnTransformer(transformers=[('num_transformer',\n",
       "                                                                               SimpleImputer(fill_value=-99,\n",
       "                                                                                             strategy='constant'),\n",
       "                                                                               Index(['Patient_Age', 'Blood_Cell', 'Mother_Age', 'Father_Age',\n",
       "       'Previous_Abortions', 'White_Blood_Cell', 'Symptom_1', 'Symptom_2',\n",
       "       'Symptom_3', 'Symptom_4', 'Symptom_5'],\n",
       "      dtype='object')),\n",
       "                                                                              ('cat...\n",
       "                                                            use_label_encoder=False, ...))]),\n",
       "                   param_distributions={'xgb_model__colsample_bytree': [1],\n",
       "                                        'xgb_model__gamma': [0.2],\n",
       "                                        'xgb_model__learning_rate': [0.1],\n",
       "                                        'xgb_model__max_depth': [7],\n",
       "                                        'xgb_model__min_child_weight': [6],\n",
       "                                        'xgb_model__n_estimators': [100],\n",
       "                                        'xgb_model__reg_lambda': [0.7, 0.8, 0.9,\n",
       "                                                                  1.0, 1.1, 1.2,\n",
       "                                                                  1.3, 1.4,\n",
       "                                                                  1.5],\n",
       "                                        'xgb_model__subsample': [1]},\n",
       "                   random_state=123, scoring='f1_macro', verbose=True)"
      ]
     },
     "execution_count": 465,
     "metadata": {},
     "output_type": "execute_result"
    }
   ],
   "source": [
    "rand_search.fit(X_train, y_train)"
   ]
  },
  {
   "cell_type": "code",
   "execution_count": 466,
   "id": "5874bf0a",
   "metadata": {},
   "outputs": [
    {
     "data": {
      "text/plain": [
       "{'xgb_model__subsample': 1,\n",
       " 'xgb_model__reg_lambda': 1.2,\n",
       " 'xgb_model__n_estimators': 100,\n",
       " 'xgb_model__min_child_weight': 6,\n",
       " 'xgb_model__max_depth': 7,\n",
       " 'xgb_model__learning_rate': 0.1,\n",
       " 'xgb_model__gamma': 0.2,\n",
       " 'xgb_model__colsample_bytree': 1}"
      ]
     },
     "execution_count": 466,
     "metadata": {},
     "output_type": "execute_result"
    }
   ],
   "source": [
    "rand_search.best_params_"
   ]
  },
  {
   "cell_type": "code",
   "execution_count": 467,
   "id": "4161c362",
   "metadata": {},
   "outputs": [
    {
     "data": {
      "text/plain": [
       "0.2993398217140989"
      ]
     },
     "execution_count": 467,
     "metadata": {},
     "output_type": "execute_result"
    }
   ],
   "source": [
    "rand_search.best_score_"
   ]
  },
  {
   "cell_type": "code",
   "execution_count": 468,
   "id": "2bf0f0b9",
   "metadata": {},
   "outputs": [],
   "source": [
    "mean_score = list(rand_search.cv_results_['mean_test_score'])\n",
    "stds_score = list(rand_search.cv_results_['std_test_score'])"
   ]
  },
  {
   "cell_type": "code",
   "execution_count": 469,
   "id": "de28c607",
   "metadata": {},
   "outputs": [
    {
     "data": {
      "image/png": "[encoded data removed]",
      "text/plain": [
       "<Figure size 432x288 with 1 Axes>"
      ]
     },
     "metadata": {
      "needs_background": "light"
     },
     "output_type": "display_data"
    }
   ],
   "source": [
    "plt.errorbar(list(range(0,len(mean_score))), mean_score, yerr=stds_score)\n",
    "plt.title(\"Rand_Search Iteration vs F1_Macro Score\")\n",
    "plt.xlabel(\"Iteration\")\n",
    "plt.ylabel(\"f1_score\")\n",
    "plt.show()"
   ]
  },
  {
   "cell_type": "code",
   "execution_count": 470,
   "id": "db538c98",
   "metadata": {},
   "outputs": [],
   "source": [
    "hype_params['xgb_model__reg_lambda'] = [0.9, 1.0, 1.1, 1.2, 1.3, 1.4, 1.5, 1.6]"
   ]
  },
  {
   "cell_type": "code",
   "execution_count": 471,
   "id": "2bd5b568",
   "metadata": {},
   "outputs": [],
   "source": [
    "grid_search = GridSearchCV(\n",
    "    estimator=pipe_2,\n",
    "    param_grid=hype_params,\n",
    "    scoring = 'f1_macro',\n",
    "    cv = 5,\n",
    "    verbose=True,\n",
    ")"
   ]
  },
  {
   "cell_type": "code",
   "execution_count": 472,
   "id": "57147ec3",
   "metadata": {},
   "outputs": [
    {
     "name": "stdout",
     "output_type": "stream",
     "text": [
      "Fitting 5 folds for each of 8 candidates, totalling 40 fits\n"
     ]
    },
    {
     "data": {
      "text/plain": [
       "GridSearchCV(cv=5,\n",
       "             estimator=Pipeline(steps=[('preprocessor',\n",
       "                                        ColumnTransformer(transformers=[('num_transformer',\n",
       "                                                                         SimpleImputer(fill_value=-99,\n",
       "                                                                                       strategy='constant'),\n",
       "                                                                         Index(['Patient_Age', 'Blood_Cell', 'Mother_Age', 'Father_Age',\n",
       "       'Previous_Abortions', 'White_Blood_Cell', 'Symptom_1', 'Symptom_2',\n",
       "       'Symptom_3', 'Symptom_4', 'Symptom_5'],\n",
       "      dtype='object')),\n",
       "                                                                        ('cat_trans...\n",
       "                                                      tree_method=None,\n",
       "                                                      use_label_encoder=False, ...))]),\n",
       "             param_grid={'xgb_model__colsample_bytree': [1],\n",
       "                         'xgb_model__gamma': [0.2],\n",
       "                         'xgb_model__learning_rate': [0.1],\n",
       "                         'xgb_model__max_depth': [7],\n",
       "                         'xgb_model__min_child_weight': [6],\n",
       "                         'xgb_model__n_estimators': [100],\n",
       "                         'xgb_model__reg_lambda': [0.9, 1.0, 1.1, 1.2, 1.3, 1.4,\n",
       "                                                   1.5, 1.6],\n",
       "                         'xgb_model__subsample': [1]},\n",
       "             scoring='f1_macro', verbose=True)"
      ]
     },
     "execution_count": 472,
     "metadata": {},
     "output_type": "execute_result"
    }
   ],
   "source": [
    "grid_search.fit(X_train, y_train)"
   ]
  },
  {
   "cell_type": "code",
   "execution_count": 473,
   "id": "d0c3fa9f",
   "metadata": {},
   "outputs": [],
   "source": [
    "mean_score = list(grid_search.cv_results_['mean_test_score'])\n",
    "stds_score = list(grid_search.cv_results_['std_test_score'])"
   ]
  },
  {
   "cell_type": "code",
   "execution_count": 474,
   "id": "240f667b",
   "metadata": {},
   "outputs": [
    {
     "data": {
      "image/png": "[encoded data removed]",
      "text/plain": [
       "<Figure size 432x288 with 1 Axes>"
      ]
     },
     "metadata": {
      "needs_background": "light"
     },
     "output_type": "display_data"
    }
   ],
   "source": [
    "plt.errorbar(list(range(0,len(mean_score))), mean_score, yerr=stds_score)\n",
    "plt.title(\"Grid_Search Iteration vs F1_Macro Score\")\n",
    "plt.xlabel(\"Iteration\")\n",
    "plt.ylabel(\"f1_score\")\n",
    "plt.show()"
   ]
  },
  {
   "cell_type": "markdown",
   "id": "99090cae",
   "metadata": {},
   "source": [
    "Performing Gridsearch again, but with an increased upper limit."
   ]
  },
  {
   "cell_type": "code",
   "execution_count": 478,
   "id": "3145aede",
   "metadata": {},
   "outputs": [],
   "source": [
    "hype_params['xgb_model__reg_lambda'] = [1.2, 1.3, 1.4, 1.5, 1.6, 1.7, 1.8, 1.9, 2.0]"
   ]
  },
  {
   "cell_type": "code",
   "execution_count": 479,
   "id": "38e98d01",
   "metadata": {},
   "outputs": [],
   "source": [
    "grid_search = GridSearchCV(\n",
    "    estimator=pipe_2,\n",
    "    param_grid=hype_params,\n",
    "    scoring = 'f1_macro',\n",
    "    cv = 5,\n",
    "    verbose=True,\n",
    ")"
   ]
  },
  {
   "cell_type": "code",
   "execution_count": 480,
   "id": "bc5d2468",
   "metadata": {},
   "outputs": [
    {
     "name": "stdout",
     "output_type": "stream",
     "text": [
      "Fitting 5 folds for each of 9 candidates, totalling 45 fits\n"
     ]
    },
    {
     "data": {
      "text/plain": [
       "GridSearchCV(cv=5,\n",
       "             estimator=Pipeline(steps=[('preprocessor',\n",
       "                                        ColumnTransformer(transformers=[('num_transformer',\n",
       "                                                                         SimpleImputer(fill_value=-99,\n",
       "                                                                                       strategy='constant'),\n",
       "                                                                         Index(['Patient_Age', 'Blood_Cell', 'Mother_Age', 'Father_Age',\n",
       "       'Previous_Abortions', 'White_Blood_Cell', 'Symptom_1', 'Symptom_2',\n",
       "       'Symptom_3', 'Symptom_4', 'Symptom_5'],\n",
       "      dtype='object')),\n",
       "                                                                        ('cat_trans...\n",
       "                                                      use_label_encoder=False, ...))]),\n",
       "             param_grid={'xgb_model__colsample_bytree': [1],\n",
       "                         'xgb_model__gamma': [0.2],\n",
       "                         'xgb_model__learning_rate': [0.1],\n",
       "                         'xgb_model__max_depth': [7],\n",
       "                         'xgb_model__min_child_weight': [6],\n",
       "                         'xgb_model__n_estimators': [100],\n",
       "                         'xgb_model__reg_lambda': [1.2, 1.3, 1.4, 1.5, 1.6, 1.7,\n",
       "                                                   1.8, 1.9, 2.0],\n",
       "                         'xgb_model__subsample': [1]},\n",
       "             scoring='f1_macro', verbose=True)"
      ]
     },
     "execution_count": 480,
     "metadata": {},
     "output_type": "execute_result"
    }
   ],
   "source": [
    "grid_search.fit(X_train, y_train)"
   ]
  },
  {
   "cell_type": "code",
   "execution_count": 481,
   "id": "0c9dad36",
   "metadata": {},
   "outputs": [],
   "source": [
    "mean_score = list(grid_search.cv_results_['mean_test_score'])\n",
    "stds_score = list(grid_search.cv_results_['std_test_score'])"
   ]
  },
  {
   "cell_type": "code",
   "execution_count": 482,
   "id": "410c857b",
   "metadata": {},
   "outputs": [
    {
     "data": {
      "image/png": "[encoded data removed]",
      "text/plain": [
       "<Figure size 432x288 with 1 Axes>"
      ]
     },
     "metadata": {
      "needs_background": "light"
     },
     "output_type": "display_data"
    }
   ],
   "source": [
    "plt.errorbar(list(range(0,len(mean_score))), mean_score, yerr=stds_score)\n",
    "plt.title(\"Grid_Search Iteration vs F1_Macro Score\")\n",
    "plt.xlabel(\"Iteration\")\n",
    "plt.ylabel(\"f1_score\")\n",
    "plt.show()"
   ]
  },
  {
   "cell_type": "code",
   "execution_count": 483,
   "id": "9519ae52",
   "metadata": {},
   "outputs": [
    {
     "data": {
      "text/plain": [
       "[(0, 0.2993398217140989),\n",
       " (1, 0.2919537690629776),\n",
       " (2, 0.29188154860908266),\n",
       " (3, 0.2896231864394682),\n",
       " (4, 0.30099208953950723),\n",
       " (5, 0.290369422919334),\n",
       " (6, 0.2915137776739861),\n",
       " (7, 0.297255037997548),\n",
       " (8, 0.2988785625319179)]"
      ]
     },
     "execution_count": 483,
     "metadata": {},
     "output_type": "execute_result"
    }
   ],
   "source": [
    "list(enumerate(mean_score))"
   ]
  },
  {
   "cell_type": "code",
   "execution_count": 484,
   "id": "59367acc",
   "metadata": {},
   "outputs": [
    {
     "data": {
      "text/plain": [
       "0.30099208953950723"
      ]
     },
     "execution_count": 484,
     "metadata": {},
     "output_type": "execute_result"
    }
   ],
   "source": [
    "grid_search.best_score_"
   ]
  },
  {
   "cell_type": "code",
   "execution_count": 485,
   "id": "d61180b9",
   "metadata": {},
   "outputs": [
    {
     "data": {
      "text/plain": [
       "{'xgb_model__colsample_bytree': 1,\n",
       " 'xgb_model__gamma': 0.2,\n",
       " 'xgb_model__learning_rate': 0.1,\n",
       " 'xgb_model__max_depth': 7,\n",
       " 'xgb_model__min_child_weight': 6,\n",
       " 'xgb_model__n_estimators': 100,\n",
       " 'xgb_model__reg_lambda': 1.6,\n",
       " 'xgb_model__subsample': 1}"
      ]
     },
     "execution_count": 485,
     "metadata": {},
     "output_type": "execute_result"
    }
   ],
   "source": [
    "grid_search.best_params_"
   ]
  },
  {
   "cell_type": "code",
   "execution_count": 486,
   "id": "a0bb8846",
   "metadata": {},
   "outputs": [],
   "source": [
    "hype_params['xgb_model__reg_lambda'] = [1.6]"
   ]
  },
  {
   "cell_type": "markdown",
   "id": "8308169a",
   "metadata": {},
   "source": [
    "#### Checking back on learning_rate and n_estimator"
   ]
  },
  {
   "cell_type": "markdown",
   "id": "7fb41979",
   "metadata": {},
   "source": [
    "After all other parameters have been set to optimal values, I am going to re-evaluate the learning_rate and n_estimator to see if there are impovements with deeper learning parameters. Lower value for learning_rate and higher value for n_estimator. I will be going straight to GridSearch given I have initial parameters and range to work with."
   ]
  },
  {
   "cell_type": "code",
   "execution_count": 490,
   "id": "6aac6568",
   "metadata": {},
   "outputs": [],
   "source": [
    "hype_params['xgb_model__learning_rate'] = [0.001, 0.01, 0.05, 0.1, 1.5, 0.2, 0.3]\n",
    "hype_params['xgb_model__n_estimators'] = [70, 80, 90, 100, 110, 120, 130]"
   ]
  },
  {
   "cell_type": "code",
   "execution_count": 491,
   "id": "ea090074",
   "metadata": {},
   "outputs": [],
   "source": [
    "grid_search = GridSearchCV(\n",
    "    estimator=pipe_2,\n",
    "    param_grid=hype_params,\n",
    "    scoring = 'f1_macro',\n",
    "    cv = 5,\n",
    "    verbose=True,\n",
    ")"
   ]
  },
  {
   "cell_type": "code",
   "execution_count": 492,
   "id": "0db77d0e",
   "metadata": {},
   "outputs": [
    {
     "name": "stdout",
     "output_type": "stream",
     "text": [
      "Fitting 5 folds for each of 49 candidates, totalling 245 fits\n"
     ]
    },
    {
     "data": {
      "text/plain": [
       "GridSearchCV(cv=5,\n",
       "             estimator=Pipeline(steps=[('preprocessor',\n",
       "                                        ColumnTransformer(transformers=[('num_transformer',\n",
       "                                                                         SimpleImputer(fill_value=-99,\n",
       "                                                                                       strategy='constant'),\n",
       "                                                                         Index(['Patient_Age', 'Blood_Cell', 'Mother_Age', 'Father_Age',\n",
       "       'Previous_Abortions', 'White_Blood_Cell', 'Symptom_1', 'Symptom_2',\n",
       "       'Symptom_3', 'Symptom_4', 'Symptom_5'],\n",
       "      dtype='object')),\n",
       "                                                                        ('cat_trans...\n",
       "                                                      use_label_encoder=False, ...))]),\n",
       "             param_grid={'xgb_model__colsample_bytree': [1],\n",
       "                         'xgb_model__gamma': [0.2],\n",
       "                         'xgb_model__learning_rate': [0.001, 0.01, 0.05, 0.1,\n",
       "                                                      1.5, 0.2, 0.3],\n",
       "                         'xgb_model__max_depth': [7],\n",
       "                         'xgb_model__min_child_weight': [6],\n",
       "                         'xgb_model__n_estimators': [70, 80, 90, 100, 110, 120,\n",
       "                                                     130],\n",
       "                         'xgb_model__reg_lambda': [1.6],\n",
       "                         'xgb_model__subsample': [1]},\n",
       "             scoring='f1_macro', verbose=True)"
      ]
     },
     "execution_count": 492,
     "metadata": {},
     "output_type": "execute_result"
    }
   ],
   "source": [
    "grid_search.fit(X_train, y_train)"
   ]
  },
  {
   "cell_type": "code",
   "execution_count": 493,
   "id": "5c428403",
   "metadata": {},
   "outputs": [],
   "source": [
    "mean_score = list(grid_search.cv_results_['mean_test_score'])\n",
    "stds_score = list(grid_search.cv_results_['std_test_score'])"
   ]
  },
  {
   "cell_type": "code",
   "execution_count": 494,
   "id": "1f63bbc5",
   "metadata": {},
   "outputs": [
    {
     "data": {
      "image/png": "[encoded data removed]",
      "text/plain": [
       "<Figure size 432x288 with 1 Axes>"
      ]
     },
     "metadata": {
      "needs_background": "light"
     },
     "output_type": "display_data"
    }
   ],
   "source": [
    "plt.errorbar(list(range(0,len(mean_score))), mean_score, yerr=stds_score)\n",
    "plt.title(\"Grid_Search Iteration vs F1_Macro Score\")\n",
    "plt.xlabel(\"Iteration\")\n",
    "plt.ylabel(\"f1_score\")\n",
    "plt.show()"
   ]
  },
  {
   "cell_type": "code",
   "execution_count": 495,
   "id": "4edfbd8d",
   "metadata": {},
   "outputs": [
    {
     "data": {
      "text/plain": [
       "{'xgb_model__colsample_bytree': 1,\n",
       " 'xgb_model__gamma': 0.2,\n",
       " 'xgb_model__learning_rate': 0.1,\n",
       " 'xgb_model__max_depth': 7,\n",
       " 'xgb_model__min_child_weight': 6,\n",
       " 'xgb_model__n_estimators': 120,\n",
       " 'xgb_model__reg_lambda': 1.6,\n",
       " 'xgb_model__subsample': 1}"
      ]
     },
     "execution_count": 495,
     "metadata": {},
     "output_type": "execute_result"
    }
   ],
   "source": [
    "grid_search.best_params_"
   ]
  },
  {
   "cell_type": "code",
   "execution_count": 496,
   "id": "716f9190",
   "metadata": {},
   "outputs": [
    {
     "data": {
      "text/plain": [
       "0.30235761740568246"
      ]
     },
     "execution_count": 496,
     "metadata": {},
     "output_type": "execute_result"
    }
   ],
   "source": [
    "grid_search.best_score_"
   ]
  },
  {
   "cell_type": "code",
   "execution_count": null,
   "id": "fd0c7841",
   "metadata": {},
   "outputs": [],
   "source": []
  },
  {
   "cell_type": "code",
   "execution_count": null,
   "id": "69817b9b",
   "metadata": {},
   "outputs": [],
   "source": []
  },
  {
   "cell_type": "code",
   "execution_count": null,
   "id": "d7f03c77",
   "metadata": {},
   "outputs": [],
   "source": []
  },
  {
   "cell_type": "markdown",
   "id": "3d03c858",
   "metadata": {},
   "source": [
    "## Feature Importance Code"
   ]
  },
  {
   "cell_type": "code",
   "execution_count": 112,
   "id": "5a56e3a6",
   "metadata": {},
   "outputs": [
    {
     "data": {
      "text/plain": [
       "<AxesSubplot:title={'center':'Feature importance'}, xlabel='F score', ylabel='Features'>"
      ]
     },
     "execution_count": 112,
     "metadata": {},
     "output_type": "execute_result"
    },
    {
     "data": {
      "image/png": "[encoded data removed]",
      "text/plain": [
       "<Figure size 432x288 with 1 Axes>"
      ]
     },
     "metadata": {
      "needs_background": "light"
     },
     "output_type": "display_data"
    }
   ],
   "source": [
    "final_model.get_booster().feature_names = list(feature_col_names)\n",
    "xgb.plot_importance(final_model.get_booster(), max_num_features=30)"
   ]
  },
  {
   "cell_type": "code",
   "execution_count": 108,
   "id": "1bcbc638",
   "metadata": {},
   "outputs": [
    {
     "data": {
      "text/plain": [
       "<Figure size 2160x2160 with 0 Axes>"
      ]
     },
     "metadata": {},
     "output_type": "display_data"
    },
    {
     "data": {
      "image/png": "[encoded data removed]",
      "text/plain": [
       "<Figure size 432x288 with 1 Axes>"
      ]
     },
     "metadata": {
      "needs_background": "light"
     },
     "output_type": "display_data"
    }
   ],
   "source": [
    "plt.figure(figsize=(30,30))\n",
    "xgb.plot_importance(final_model, show_values=True)\n",
    "plt.show()"
   ]
  },
  {
   "cell_type": "code",
   "execution_count": 95,
   "id": "d12a08e4",
   "metadata": {},
   "outputs": [
    {
     "name": "stdout",
     "output_type": "stream",
     "text": [
      "['Patient_Age', 'Mother_Gene', 'Father_Gene', 'Maternal_Gene', 'Paternal_Gene', 'Blood_Cell', 'Mother_Age', 'Father_Age', 'Status', 'Respiratory_Rate', 'Heart_Rate', 'Follow_Up', 'Gender', 'Birth_Asphyxia', 'Autopsy_Birth_Defect', 'Birth_Place', 'Folic_Acid_Details', 'Maternal_Illness', 'Radiation_Exposure', 'Substance_Abuse', 'Assisted_Conception', 'History_Pregnancies', 'Previous_Abortions', 'Birth_Defects', 'White_Blood_Cell', 'Blood_Test', 'Symptom_1', 'Symptom_2', 'Symptom_3', 'Symptom_4', 'Symptom_5']\n"
     ]
    }
   ],
   "source": [
    "print(final_model.get_booster().feature_names)"
   ]
  },
  {
   "cell_type": "code",
   "execution_count": 100,
   "id": "861d169c",
   "metadata": {},
   "outputs": [],
   "source": [
    "final_model.get_booster().feature_names"
   ]
  },
  {
   "cell_type": "code",
   "execution_count": null,
   "id": "9275ea85",
   "metadata": {},
   "outputs": [],
   "source": []
  },
  {
   "cell_type": "code",
   "execution_count": 570,
   "id": "ac0724f0",
   "metadata": {},
   "outputs": [
    {
     "data": {
      "text/plain": [
       "{'xgb_model__learning_rate': [0.001, 0.01, 0.05, 0.1, 1.5, 0.2, 0.3],\n",
       " 'xgb_model__n_estimators': [70, 80, 90, 100, 110, 120, 130],\n",
       " 'xgb_model__max_depth': [7],\n",
       " 'xgb_model__min_child_weight': [6],\n",
       " 'xgb_model__gamma': [0.2],\n",
       " 'xgb_model__subsample': [1],\n",
       " 'xgb_model__colsample_bytree': [1],\n",
       " 'xgb_model__reg_lambda': [1.6]}"
      ]
     },
     "execution_count": 570,
     "metadata": {},
     "output_type": "execute_result"
    }
   ],
   "source": [
    "hype_params"
   ]
  },
  {
   "cell_type": "code",
   "execution_count": null,
   "id": "6a05b3e8",
   "metadata": {},
   "outputs": [],
   "source": []
  },
  {
   "cell_type": "code",
   "execution_count": null,
   "id": "43f800c0",
   "metadata": {},
   "outputs": [],
   "source": []
  },
  {
   "cell_type": "code",
   "execution_count": null,
   "id": "1222c9db",
   "metadata": {},
   "outputs": [],
   "source": []
  },
  {
   "cell_type": "code",
   "execution_count": 590,
   "id": "355d8eae",
   "metadata": {},
   "outputs": [],
   "source": [
    "fractions = [.2, .25, .3, .35, .4, .45, .5, .6, .75, .8, 1.0]\n",
    "train_size, train_scores, test_scores = learning_curve(pipe_3, X_train, y_train, train_sizes=fractions)\n",
    "train_scores_mean = np.mean(train_scores, axis=1)\n",
    "train_scores_std = np.std(train_scores, axis=1)\n",
    "test_scores_mean = np.mean(test_scores, axis=1)\n",
    "test_scores_std = np.std(test_scores, axis=1)"
   ]
  },
  {
   "cell_type": "code",
   "execution_count": 591,
   "id": "592387e4",
   "metadata": {},
   "outputs": [
    {
     "data": {
      "image/png": "[encoded data removed]",
      "text/plain": [
       "<Figure size 720x360 with 1 Axes>"
      ]
     },
     "metadata": {
      "needs_background": "light"
     },
     "output_type": "display_data"
    }
   ],
   "source": [
    "plt.subplots(figsize=(10, 5))\n",
    "plt.errorbar(train_size, test_scores_mean, yerr=test_scores_std)\n",
    "plt.xlabel('Training set size')\n",
    "plt.ylabel('CV scores')\n",
    "plt.title('Cross-validation score as training set size increases');\n",
    "plt.show()"
   ]
  },
  {
   "cell_type": "code",
   "execution_count": 592,
   "id": "9b754f0f",
   "metadata": {},
   "outputs": [
    {
     "data": {
      "text/html": [
       "<div>\n",
       "<style scoped>\n",
       "    .dataframe tbody tr th:only-of-type {\n",
       "        vertical-align: middle;\n",
       "    }\n",
       "\n",
       "    .dataframe tbody tr th {\n",
       "        vertical-align: top;\n",
       "    }\n",
       "\n",
       "    .dataframe thead th {\n",
       "        text-align: right;\n",
       "    }\n",
       "</style>\n",
       "<table border=\"1\" class=\"dataframe\">\n",
       "  <thead>\n",
       "    <tr style=\"text-align: right;\">\n",
       "      <th></th>\n",
       "      <th>Patient_Age</th>\n",
       "      <th>Mother_Gene</th>\n",
       "      <th>Father_Gene</th>\n",
       "      <th>Maternal_Gene</th>\n",
       "      <th>Paternal_Gene</th>\n",
       "      <th>Blood_Cell</th>\n",
       "      <th>Mother_Age</th>\n",
       "      <th>Father_Age</th>\n",
       "      <th>Status</th>\n",
       "      <th>Respiratory_Rate</th>\n",
       "      <th>...</th>\n",
       "      <th>Previous_Abortions</th>\n",
       "      <th>Birth_Defects</th>\n",
       "      <th>White_Blood_Cell</th>\n",
       "      <th>Blood_Test</th>\n",
       "      <th>Symptom_1</th>\n",
       "      <th>Symptom_2</th>\n",
       "      <th>Symptom_3</th>\n",
       "      <th>Symptom_4</th>\n",
       "      <th>Symptom_5</th>\n",
       "      <th>Disorder_Subclass</th>\n",
       "    </tr>\n",
       "  </thead>\n",
       "  <tbody>\n",
       "    <tr>\n",
       "      <th>0</th>\n",
       "      <td>2.0</td>\n",
       "      <td>Yes</td>\n",
       "      <td>No</td>\n",
       "      <td>Yes</td>\n",
       "      <td>No</td>\n",
       "      <td>4.760603</td>\n",
       "      <td>NaN</td>\n",
       "      <td>NaN</td>\n",
       "      <td>Alive</td>\n",
       "      <td>Normal (30-60)</td>\n",
       "      <td>...</td>\n",
       "      <td>NaN</td>\n",
       "      <td>NaN</td>\n",
       "      <td>9.857562</td>\n",
       "      <td>NaN</td>\n",
       "      <td>1.0</td>\n",
       "      <td>1.0</td>\n",
       "      <td>1.0</td>\n",
       "      <td>1.0</td>\n",
       "      <td>1.0</td>\n",
       "      <td>Leber's hereditary optic neuropathy</td>\n",
       "    </tr>\n",
       "    <tr>\n",
       "      <th>1</th>\n",
       "      <td>4.0</td>\n",
       "      <td>Yes</td>\n",
       "      <td>Yes</td>\n",
       "      <td>No</td>\n",
       "      <td>No</td>\n",
       "      <td>4.910669</td>\n",
       "      <td>NaN</td>\n",
       "      <td>23.0</td>\n",
       "      <td>Deceased</td>\n",
       "      <td>Tachypnea</td>\n",
       "      <td>...</td>\n",
       "      <td>NaN</td>\n",
       "      <td>Multiple</td>\n",
       "      <td>5.522560</td>\n",
       "      <td>normal</td>\n",
       "      <td>1.0</td>\n",
       "      <td>NaN</td>\n",
       "      <td>1.0</td>\n",
       "      <td>1.0</td>\n",
       "      <td>0.0</td>\n",
       "      <td>Cystic fibrosis</td>\n",
       "    </tr>\n",
       "    <tr>\n",
       "      <th>2</th>\n",
       "      <td>6.0</td>\n",
       "      <td>Yes</td>\n",
       "      <td>No</td>\n",
       "      <td>No</td>\n",
       "      <td>No</td>\n",
       "      <td>4.893297</td>\n",
       "      <td>41.0</td>\n",
       "      <td>22.0</td>\n",
       "      <td>Alive</td>\n",
       "      <td>Normal (30-60)</td>\n",
       "      <td>...</td>\n",
       "      <td>4.0</td>\n",
       "      <td>Singular</td>\n",
       "      <td>NaN</td>\n",
       "      <td>normal</td>\n",
       "      <td>0.0</td>\n",
       "      <td>1.0</td>\n",
       "      <td>1.0</td>\n",
       "      <td>1.0</td>\n",
       "      <td>1.0</td>\n",
       "      <td>Diabetes</td>\n",
       "    </tr>\n",
       "    <tr>\n",
       "      <th>3</th>\n",
       "      <td>12.0</td>\n",
       "      <td>Yes</td>\n",
       "      <td>No</td>\n",
       "      <td>Yes</td>\n",
       "      <td>No</td>\n",
       "      <td>4.705280</td>\n",
       "      <td>21.0</td>\n",
       "      <td>NaN</td>\n",
       "      <td>Deceased</td>\n",
       "      <td>Tachypnea</td>\n",
       "      <td>...</td>\n",
       "      <td>1.0</td>\n",
       "      <td>Singular</td>\n",
       "      <td>7.919321</td>\n",
       "      <td>NaN</td>\n",
       "      <td>0.0</td>\n",
       "      <td>0.0</td>\n",
       "      <td>1.0</td>\n",
       "      <td>0.0</td>\n",
       "      <td>0.0</td>\n",
       "      <td>Leigh syndrome</td>\n",
       "    </tr>\n",
       "    <tr>\n",
       "      <th>4</th>\n",
       "      <td>11.0</td>\n",
       "      <td>Yes</td>\n",
       "      <td>No</td>\n",
       "      <td>NaN</td>\n",
       "      <td>Yes</td>\n",
       "      <td>4.720703</td>\n",
       "      <td>32.0</td>\n",
       "      <td>NaN</td>\n",
       "      <td>Alive</td>\n",
       "      <td>Tachypnea</td>\n",
       "      <td>...</td>\n",
       "      <td>4.0</td>\n",
       "      <td>Multiple</td>\n",
       "      <td>4.098210</td>\n",
       "      <td>NaN</td>\n",
       "      <td>0.0</td>\n",
       "      <td>0.0</td>\n",
       "      <td>0.0</td>\n",
       "      <td>0.0</td>\n",
       "      <td>NaN</td>\n",
       "      <td>Cancer</td>\n",
       "    </tr>\n",
       "    <tr>\n",
       "      <th>...</th>\n",
       "      <td>...</td>\n",
       "      <td>...</td>\n",
       "      <td>...</td>\n",
       "      <td>...</td>\n",
       "      <td>...</td>\n",
       "      <td>...</td>\n",
       "      <td>...</td>\n",
       "      <td>...</td>\n",
       "      <td>...</td>\n",
       "      <td>...</td>\n",
       "      <td>...</td>\n",
       "      <td>...</td>\n",
       "      <td>...</td>\n",
       "      <td>...</td>\n",
       "      <td>...</td>\n",
       "      <td>...</td>\n",
       "      <td>...</td>\n",
       "      <td>...</td>\n",
       "      <td>...</td>\n",
       "      <td>...</td>\n",
       "      <td>...</td>\n",
       "    </tr>\n",
       "    <tr>\n",
       "      <th>22078</th>\n",
       "      <td>4.0</td>\n",
       "      <td>Yes</td>\n",
       "      <td>Yes</td>\n",
       "      <td>Yes</td>\n",
       "      <td>No</td>\n",
       "      <td>5.258298</td>\n",
       "      <td>35.0</td>\n",
       "      <td>64.0</td>\n",
       "      <td>Deceased</td>\n",
       "      <td>Normal (30-60)</td>\n",
       "      <td>...</td>\n",
       "      <td>3.0</td>\n",
       "      <td>Multiple</td>\n",
       "      <td>6.584811</td>\n",
       "      <td>NaN</td>\n",
       "      <td>0.0</td>\n",
       "      <td>0.0</td>\n",
       "      <td>1.0</td>\n",
       "      <td>0.0</td>\n",
       "      <td>0.0</td>\n",
       "      <td>Leigh syndrome</td>\n",
       "    </tr>\n",
       "    <tr>\n",
       "      <th>22079</th>\n",
       "      <td>8.0</td>\n",
       "      <td>No</td>\n",
       "      <td>Yes</td>\n",
       "      <td>No</td>\n",
       "      <td>Yes</td>\n",
       "      <td>4.974220</td>\n",
       "      <td>NaN</td>\n",
       "      <td>56.0</td>\n",
       "      <td>Alive</td>\n",
       "      <td>Normal (30-60)</td>\n",
       "      <td>...</td>\n",
       "      <td>2.0</td>\n",
       "      <td>Multiple</td>\n",
       "      <td>7.041556</td>\n",
       "      <td>NaN</td>\n",
       "      <td>1.0</td>\n",
       "      <td>1.0</td>\n",
       "      <td>1.0</td>\n",
       "      <td>1.0</td>\n",
       "      <td>0.0</td>\n",
       "      <td>Diabetes</td>\n",
       "    </tr>\n",
       "    <tr>\n",
       "      <th>22080</th>\n",
       "      <td>8.0</td>\n",
       "      <td>Yes</td>\n",
       "      <td>No</td>\n",
       "      <td>Yes</td>\n",
       "      <td>No</td>\n",
       "      <td>5.186470</td>\n",
       "      <td>35.0</td>\n",
       "      <td>51.0</td>\n",
       "      <td>Deceased</td>\n",
       "      <td>Tachypnea</td>\n",
       "      <td>...</td>\n",
       "      <td>2.0</td>\n",
       "      <td>Singular</td>\n",
       "      <td>7.715464</td>\n",
       "      <td>normal</td>\n",
       "      <td>0.0</td>\n",
       "      <td>0.0</td>\n",
       "      <td>0.0</td>\n",
       "      <td>1.0</td>\n",
       "      <td>NaN</td>\n",
       "      <td>Mitochondrial myopathy</td>\n",
       "    </tr>\n",
       "    <tr>\n",
       "      <th>22081</th>\n",
       "      <td>7.0</td>\n",
       "      <td>Yes</td>\n",
       "      <td>No</td>\n",
       "      <td>Yes</td>\n",
       "      <td>Yes</td>\n",
       "      <td>4.858543</td>\n",
       "      <td>19.0</td>\n",
       "      <td>NaN</td>\n",
       "      <td>Alive</td>\n",
       "      <td>Tachypnea</td>\n",
       "      <td>...</td>\n",
       "      <td>1.0</td>\n",
       "      <td>Multiple</td>\n",
       "      <td>8.437670</td>\n",
       "      <td>abnormal</td>\n",
       "      <td>1.0</td>\n",
       "      <td>1.0</td>\n",
       "      <td>1.0</td>\n",
       "      <td>0.0</td>\n",
       "      <td>0.0</td>\n",
       "      <td>Leigh syndrome</td>\n",
       "    </tr>\n",
       "    <tr>\n",
       "      <th>22082</th>\n",
       "      <td>11.0</td>\n",
       "      <td>Yes</td>\n",
       "      <td>No</td>\n",
       "      <td>No</td>\n",
       "      <td>No</td>\n",
       "      <td>4.738067</td>\n",
       "      <td>32.0</td>\n",
       "      <td>62.0</td>\n",
       "      <td>Deceased</td>\n",
       "      <td>Normal (30-60)</td>\n",
       "      <td>...</td>\n",
       "      <td>4.0</td>\n",
       "      <td>Singular</td>\n",
       "      <td>11.188371</td>\n",
       "      <td>normal</td>\n",
       "      <td>1.0</td>\n",
       "      <td>0.0</td>\n",
       "      <td>1.0</td>\n",
       "      <td>1.0</td>\n",
       "      <td>1.0</td>\n",
       "      <td>Diabetes</td>\n",
       "    </tr>\n",
       "  </tbody>\n",
       "</table>\n",
       "<p>19915 rows × 32 columns</p>\n",
       "</div>"
      ],
      "text/plain": [
       "       Patient_Age Mother_Gene Father_Gene Maternal_Gene Paternal_Gene  \\\n",
       "0              2.0         Yes          No           Yes            No   \n",
       "1              4.0         Yes         Yes            No            No   \n",
       "2              6.0         Yes          No            No            No   \n",
       "3             12.0         Yes          No           Yes            No   \n",
       "4             11.0         Yes          No           NaN           Yes   \n",
       "...            ...         ...         ...           ...           ...   \n",
       "22078          4.0         Yes         Yes           Yes            No   \n",
       "22079          8.0          No         Yes            No           Yes   \n",
       "22080          8.0         Yes          No           Yes            No   \n",
       "22081          7.0         Yes          No           Yes           Yes   \n",
       "22082         11.0         Yes          No            No            No   \n",
       "\n",
       "       Blood_Cell  Mother_Age  Father_Age    Status Respiratory_Rate  ...  \\\n",
       "0        4.760603         NaN         NaN     Alive   Normal (30-60)  ...   \n",
       "1        4.910669         NaN        23.0  Deceased        Tachypnea  ...   \n",
       "2        4.893297        41.0        22.0     Alive   Normal (30-60)  ...   \n",
       "3        4.705280        21.0         NaN  Deceased        Tachypnea  ...   \n",
       "4        4.720703        32.0         NaN     Alive        Tachypnea  ...   \n",
       "...           ...         ...         ...       ...              ...  ...   \n",
       "22078    5.258298        35.0        64.0  Deceased   Normal (30-60)  ...   \n",
       "22079    4.974220         NaN        56.0     Alive   Normal (30-60)  ...   \n",
       "22080    5.186470        35.0        51.0  Deceased        Tachypnea  ...   \n",
       "22081    4.858543        19.0         NaN     Alive        Tachypnea  ...   \n",
       "22082    4.738067        32.0        62.0  Deceased   Normal (30-60)  ...   \n",
       "\n",
       "      Previous_Abortions Birth_Defects White_Blood_Cell Blood_Test Symptom_1  \\\n",
       "0                    NaN           NaN         9.857562        NaN       1.0   \n",
       "1                    NaN      Multiple         5.522560     normal       1.0   \n",
       "2                    4.0      Singular              NaN     normal       0.0   \n",
       "3                    1.0      Singular         7.919321        NaN       0.0   \n",
       "4                    4.0      Multiple         4.098210        NaN       0.0   \n",
       "...                  ...           ...              ...        ...       ...   \n",
       "22078                3.0      Multiple         6.584811        NaN       0.0   \n",
       "22079                2.0      Multiple         7.041556        NaN       1.0   \n",
       "22080                2.0      Singular         7.715464     normal       0.0   \n",
       "22081                1.0      Multiple         8.437670   abnormal       1.0   \n",
       "22082                4.0      Singular        11.188371     normal       1.0   \n",
       "\n",
       "      Symptom_2 Symptom_3 Symptom_4 Symptom_5  \\\n",
       "0           1.0       1.0       1.0       1.0   \n",
       "1           NaN       1.0       1.0       0.0   \n",
       "2           1.0       1.0       1.0       1.0   \n",
       "3           0.0       1.0       0.0       0.0   \n",
       "4           0.0       0.0       0.0       NaN   \n",
       "...         ...       ...       ...       ...   \n",
       "22078       0.0       1.0       0.0       0.0   \n",
       "22079       1.0       1.0       1.0       0.0   \n",
       "22080       0.0       0.0       1.0       NaN   \n",
       "22081       1.0       1.0       0.0       0.0   \n",
       "22082       0.0       1.0       1.0       1.0   \n",
       "\n",
       "                         Disorder_Subclass  \n",
       "0      Leber's hereditary optic neuropathy  \n",
       "1                          Cystic fibrosis  \n",
       "2                                 Diabetes  \n",
       "3                           Leigh syndrome  \n",
       "4                                   Cancer  \n",
       "...                                    ...  \n",
       "22078                       Leigh syndrome  \n",
       "22079                             Diabetes  \n",
       "22080               Mitochondrial myopathy  \n",
       "22081                       Leigh syndrome  \n",
       "22082                             Diabetes  \n",
       "\n",
       "[19915 rows x 32 columns]"
      ]
     },
     "execution_count": 592,
     "metadata": {},
     "output_type": "execute_result"
    }
   ],
   "source": [
    "train_data"
   ]
  },
  {
   "cell_type": "code",
   "execution_count": null,
   "id": "28aa1194",
   "metadata": {},
   "outputs": [],
   "source": []
  },
  {
   "cell_type": "code",
   "execution_count": 98,
   "id": "f86b019e",
   "metadata": {},
   "outputs": [
    {
     "name": "stdout",
     "output_type": "stream",
     "text": [
      "88.22495606326889\n",
      "37.00728094401205\n"
     ]
    }
   ],
   "source": [
    "final_model = xgb.XGBClassifier(objective='Multi:softmax', eval_metric=\"mlogloss\", use_label_encoder=False, seed=123,\n",
    "                            colsample_bytree=1,\n",
    "                            gamma=0.2,\n",
    "                            learning_rate=0.1,\n",
    "                            max_depth=7,\n",
    "                            min_child_weight=6,\n",
    "                            n_estimators=120,\n",
    "                            reg_lambda=1.6,\n",
    "                            subsample=1\n",
    ")\n",
    "\n",
    "pipe_3 = Pipeline(steps=[('preprocessor', preprocessor),\n",
    "                         ('xgb_model', final_model)])\n",
    "\n",
    "pipe_3.fit(X_train, y_train)\n",
    "\n",
    "predTrain_3 = pipe_3.predict(X_train)\n",
    "predTest_3 = pipe_3.predict(X_test)\n",
    "\n",
    "print(accuracy_score(y_train, predTrain_3) * 100)\n",
    "print(accuracy_score(y_test, predTest_3) * 100)"
   ]
  },
  {
   "cell_type": "code",
   "execution_count": 595,
   "id": "505ac89c",
   "metadata": {},
   "outputs": [
    {
     "name": "stdout",
     "output_type": "stream",
     "text": [
      "Scores: [30.23203331 31.8954115  31.68237625 27.55833453 29.81065312]\n",
      "Mean: 30.235761740568247\n",
      "Standard Deviation: 0.015618244822954147\n"
     ]
    }
   ],
   "source": [
    "# Cross Validation Score\n",
    "scores = cross_val_score(pipe_3, X_train, y_train, cv=5, scoring=\"f1_macro\")\n",
    "print(\"Scores:\", scores * 100)\n",
    "print(\"Mean:\", scores.mean() * 100)\n",
    "print(\"Standard Deviation:\", scores.std())"
   ]
  },
  {
   "cell_type": "code",
   "execution_count": 211,
   "id": "5d97f492",
   "metadata": {},
   "outputs": [
    {
     "name": "stdout",
     "output_type": "stream",
     "text": [
      "              precision    recall  f1-score   support\n",
      "\n",
      "           0       0.20      0.03      0.06        29\n",
      "           1       0.75      0.13      0.22        23\n",
      "           2       0.42      0.56      0.48       647\n",
      "           3       0.33      0.23      0.27       346\n",
      "           4       0.37      0.26      0.30       266\n",
      "           5       0.35      0.20      0.25       126\n",
      "           6       0.43      0.45      0.44      1072\n",
      "           7       0.36      0.39      0.37       901\n",
      "           8       0.33      0.30      0.32       573\n",
      "\n",
      "    accuracy                           0.39      3983\n",
      "   macro avg       0.39      0.28      0.30      3983\n",
      "weighted avg       0.38      0.39      0.38      3983\n",
      "\n"
     ]
    }
   ],
   "source": [
    "print(classification_report(y_test, predTest_1))"
   ]
  },
  {
   "cell_type": "code",
   "execution_count": null,
   "id": "203b3397",
   "metadata": {},
   "outputs": [],
   "source": []
  },
  {
   "cell_type": "code",
   "execution_count": null,
   "id": "b05cbc7b",
   "metadata": {},
   "outputs": [],
   "source": []
  },
  {
   "cell_type": "code",
   "execution_count": 45,
   "id": "b568b4ac",
   "metadata": {},
   "outputs": [
    {
     "data": {
      "text/plain": [
       "Pipeline(steps=[('preprocessor',\n",
       "                 ColumnTransformer(transformers=[('num_transformer',\n",
       "                                                  SimpleImputer(fill_value=-999,\n",
       "                                                                strategy='constant'),\n",
       "                                                  Index(['Patient_Age', 'Blood_Cell', 'Mother_Age', 'Father_Age',\n",
       "       'Previous_Abortions', 'White_Blood_Cell', 'Symptom_1', 'Symptom_2',\n",
       "       'Symptom_3', 'Symptom_4', 'Symptom_5'],\n",
       "      dtype='object')),\n",
       "                                                 ('cat_transformer',\n",
       "                                                  Pipeline(steps=[('i...\n",
       "       'Status', 'Respiratory_Rate', 'Heart_Rate', 'Follow_Up', 'Gender',\n",
       "       'Birth_Asphyxia', 'Autopsy_Birth_Defect', 'Birth_Place',\n",
       "       'Folic_Acid_Details', 'Maternal_Illness', 'Radiation_Exposure',\n",
       "       'Substance_Abuse', 'Assisted_Conception', 'History_Pregnancies',\n",
       "       'Birth_Defects', 'Blood_Test'],\n",
       "      dtype='object'))])),\n",
       "                ('gradientboosting',\n",
       "                 GradientBoostingClassifier(random_state=123))])"
      ]
     },
     "execution_count": 45,
     "metadata": {},
     "output_type": "execute_result"
    }
   ],
   "source": [
    "pipe_gb.fit(X, encoded_y)"
   ]
  },
  {
   "cell_type": "code",
   "execution_count": 46,
   "id": "2cdbc03e",
   "metadata": {},
   "outputs": [],
   "source": [
    "test_data = pd.read_csv(\"..\\\\Data\\\\test_data_cleaned.csv\", index_col=0)"
   ]
  },
  {
   "cell_type": "code",
   "execution_count": 47,
   "id": "dc5a66f8",
   "metadata": {},
   "outputs": [
    {
     "data": {
      "text/html": [
       "<div>\n",
       "<style scoped>\n",
       "    .dataframe tbody tr th:only-of-type {\n",
       "        vertical-align: middle;\n",
       "    }\n",
       "\n",
       "    .dataframe tbody tr th {\n",
       "        vertical-align: top;\n",
       "    }\n",
       "\n",
       "    .dataframe thead th {\n",
       "        text-align: right;\n",
       "    }\n",
       "</style>\n",
       "<table border=\"1\" class=\"dataframe\">\n",
       "  <thead>\n",
       "    <tr style=\"text-align: right;\">\n",
       "      <th></th>\n",
       "      <th>Patient_Age</th>\n",
       "      <th>Mother_Gene</th>\n",
       "      <th>Father_Gene</th>\n",
       "      <th>Maternal_Gene</th>\n",
       "      <th>Paternal_Gene</th>\n",
       "      <th>Blood_Cell</th>\n",
       "      <th>Mother_Age</th>\n",
       "      <th>Father_Age</th>\n",
       "      <th>Status</th>\n",
       "      <th>Respiratory_Rate</th>\n",
       "      <th>...</th>\n",
       "      <th>History_Pregnancies</th>\n",
       "      <th>Previous_Abortions</th>\n",
       "      <th>Birth_Defects</th>\n",
       "      <th>White_Blood_Cell</th>\n",
       "      <th>Blood_Test</th>\n",
       "      <th>Symptom_1</th>\n",
       "      <th>Symptom_2</th>\n",
       "      <th>Symptom_3</th>\n",
       "      <th>Symptom_4</th>\n",
       "      <th>Symptom_5</th>\n",
       "    </tr>\n",
       "  </thead>\n",
       "  <tbody>\n",
       "    <tr>\n",
       "      <th>0</th>\n",
       "      <td>6</td>\n",
       "      <td>No</td>\n",
       "      <td>Yes</td>\n",
       "      <td>No</td>\n",
       "      <td>No</td>\n",
       "      <td>4.981655</td>\n",
       "      <td>38</td>\n",
       "      <td>61</td>\n",
       "      <td>Alive</td>\n",
       "      <td>Tachypnea</td>\n",
       "      <td>...</td>\n",
       "      <td>NaN</td>\n",
       "      <td>2.0</td>\n",
       "      <td>Multiple</td>\n",
       "      <td>NaN</td>\n",
       "      <td>slightly abnormal</td>\n",
       "      <td>True</td>\n",
       "      <td>True</td>\n",
       "      <td>True</td>\n",
       "      <td>True</td>\n",
       "      <td>True</td>\n",
       "    </tr>\n",
       "    <tr>\n",
       "      <th>1</th>\n",
       "      <td>10</td>\n",
       "      <td>Yes</td>\n",
       "      <td>No</td>\n",
       "      <td>NaN</td>\n",
       "      <td>Yes</td>\n",
       "      <td>5.118890</td>\n",
       "      <td>33</td>\n",
       "      <td>53</td>\n",
       "      <td>Alive</td>\n",
       "      <td>NaN</td>\n",
       "      <td>...</td>\n",
       "      <td>Yes</td>\n",
       "      <td>NaN</td>\n",
       "      <td>Multiple</td>\n",
       "      <td>8.179584</td>\n",
       "      <td>normal</td>\n",
       "      <td>False</td>\n",
       "      <td>False</td>\n",
       "      <td>False</td>\n",
       "      <td>True</td>\n",
       "      <td>False</td>\n",
       "    </tr>\n",
       "    <tr>\n",
       "      <th>2</th>\n",
       "      <td>5</td>\n",
       "      <td>No</td>\n",
       "      <td>NaN</td>\n",
       "      <td>No</td>\n",
       "      <td>No</td>\n",
       "      <td>4.876204</td>\n",
       "      <td>48</td>\n",
       "      <td>60</td>\n",
       "      <td>Deceased</td>\n",
       "      <td>NaN</td>\n",
       "      <td>...</td>\n",
       "      <td>No</td>\n",
       "      <td>0.0</td>\n",
       "      <td>Singular</td>\n",
       "      <td>NaN</td>\n",
       "      <td>slightly abnormal</td>\n",
       "      <td>False</td>\n",
       "      <td>False</td>\n",
       "      <td>True</td>\n",
       "      <td>True</td>\n",
       "      <td>False</td>\n",
       "    </tr>\n",
       "    <tr>\n",
       "      <th>3</th>\n",
       "      <td>13</td>\n",
       "      <td>No</td>\n",
       "      <td>Yes</td>\n",
       "      <td>Yes</td>\n",
       "      <td>No</td>\n",
       "      <td>4.687767</td>\n",
       "      <td>25</td>\n",
       "      <td>55</td>\n",
       "      <td>Alive</td>\n",
       "      <td>NaN</td>\n",
       "      <td>...</td>\n",
       "      <td>Yes</td>\n",
       "      <td>NaN</td>\n",
       "      <td>Singular</td>\n",
       "      <td>6.884071</td>\n",
       "      <td>normal</td>\n",
       "      <td>True</td>\n",
       "      <td>False</td>\n",
       "      <td>True</td>\n",
       "      <td>False</td>\n",
       "      <td>True</td>\n",
       "    </tr>\n",
       "    <tr>\n",
       "      <th>4</th>\n",
       "      <td>5</td>\n",
       "      <td>No</td>\n",
       "      <td>NaN</td>\n",
       "      <td>NaN</td>\n",
       "      <td>Yes</td>\n",
       "      <td>5.152362</td>\n",
       "      <td>41</td>\n",
       "      <td>38</td>\n",
       "      <td>Deceased</td>\n",
       "      <td>Tachypnea</td>\n",
       "      <td>...</td>\n",
       "      <td>No</td>\n",
       "      <td>NaN</td>\n",
       "      <td>Multiple</td>\n",
       "      <td>6.195178</td>\n",
       "      <td>normal</td>\n",
       "      <td>True</td>\n",
       "      <td>True</td>\n",
       "      <td>True</td>\n",
       "      <td>True</td>\n",
       "      <td>False</td>\n",
       "    </tr>\n",
       "    <tr>\n",
       "      <th>...</th>\n",
       "      <td>...</td>\n",
       "      <td>...</td>\n",
       "      <td>...</td>\n",
       "      <td>...</td>\n",
       "      <td>...</td>\n",
       "      <td>...</td>\n",
       "      <td>...</td>\n",
       "      <td>...</td>\n",
       "      <td>...</td>\n",
       "      <td>...</td>\n",
       "      <td>...</td>\n",
       "      <td>...</td>\n",
       "      <td>...</td>\n",
       "      <td>...</td>\n",
       "      <td>...</td>\n",
       "      <td>...</td>\n",
       "      <td>...</td>\n",
       "      <td>...</td>\n",
       "      <td>...</td>\n",
       "      <td>...</td>\n",
       "      <td>...</td>\n",
       "    </tr>\n",
       "    <tr>\n",
       "      <th>9460</th>\n",
       "      <td>9</td>\n",
       "      <td>Yes</td>\n",
       "      <td>Yes</td>\n",
       "      <td>NaN</td>\n",
       "      <td>No</td>\n",
       "      <td>4.878335</td>\n",
       "      <td>28</td>\n",
       "      <td>63</td>\n",
       "      <td>Alive</td>\n",
       "      <td>NaN</td>\n",
       "      <td>...</td>\n",
       "      <td>Yes</td>\n",
       "      <td>2.0</td>\n",
       "      <td>Multiple</td>\n",
       "      <td>7.234960</td>\n",
       "      <td>abnormal</td>\n",
       "      <td>False</td>\n",
       "      <td>True</td>\n",
       "      <td>True</td>\n",
       "      <td>True</td>\n",
       "      <td>False</td>\n",
       "    </tr>\n",
       "    <tr>\n",
       "      <th>9461</th>\n",
       "      <td>1</td>\n",
       "      <td>Yes</td>\n",
       "      <td>No</td>\n",
       "      <td>NaN</td>\n",
       "      <td>Yes</td>\n",
       "      <td>4.927151</td>\n",
       "      <td>37</td>\n",
       "      <td>62</td>\n",
       "      <td>Deceased</td>\n",
       "      <td>NaN</td>\n",
       "      <td>...</td>\n",
       "      <td>No</td>\n",
       "      <td>NaN</td>\n",
       "      <td>Singular</td>\n",
       "      <td>4.859536</td>\n",
       "      <td>abnormal</td>\n",
       "      <td>False</td>\n",
       "      <td>True</td>\n",
       "      <td>False</td>\n",
       "      <td>True</td>\n",
       "      <td>True</td>\n",
       "    </tr>\n",
       "    <tr>\n",
       "      <th>9462</th>\n",
       "      <td>2</td>\n",
       "      <td>No</td>\n",
       "      <td>Yes</td>\n",
       "      <td>No</td>\n",
       "      <td>No</td>\n",
       "      <td>4.898352</td>\n",
       "      <td>24</td>\n",
       "      <td>32</td>\n",
       "      <td>Deceased</td>\n",
       "      <td>Tachypnea</td>\n",
       "      <td>...</td>\n",
       "      <td>No</td>\n",
       "      <td>3.0</td>\n",
       "      <td>NaN</td>\n",
       "      <td>5.696062</td>\n",
       "      <td>normal</td>\n",
       "      <td>False</td>\n",
       "      <td>True</td>\n",
       "      <td>False</td>\n",
       "      <td>False</td>\n",
       "      <td>True</td>\n",
       "    </tr>\n",
       "    <tr>\n",
       "      <th>9463</th>\n",
       "      <td>13</td>\n",
       "      <td>No</td>\n",
       "      <td>Yes</td>\n",
       "      <td>No</td>\n",
       "      <td>No</td>\n",
       "      <td>4.804840</td>\n",
       "      <td>36</td>\n",
       "      <td>56</td>\n",
       "      <td>Alive</td>\n",
       "      <td>NaN</td>\n",
       "      <td>...</td>\n",
       "      <td>NaN</td>\n",
       "      <td>1.0</td>\n",
       "      <td>Singular</td>\n",
       "      <td>3.000000</td>\n",
       "      <td>NaN</td>\n",
       "      <td>True</td>\n",
       "      <td>True</td>\n",
       "      <td>True</td>\n",
       "      <td>True</td>\n",
       "      <td>True</td>\n",
       "    </tr>\n",
       "    <tr>\n",
       "      <th>9464</th>\n",
       "      <td>12</td>\n",
       "      <td>No</td>\n",
       "      <td>No</td>\n",
       "      <td>Yes</td>\n",
       "      <td>Yes</td>\n",
       "      <td>5.421236</td>\n",
       "      <td>40</td>\n",
       "      <td>35</td>\n",
       "      <td>Deceased</td>\n",
       "      <td>Normal (30-60)</td>\n",
       "      <td>...</td>\n",
       "      <td>No</td>\n",
       "      <td>0.0</td>\n",
       "      <td>Singular</td>\n",
       "      <td>7.492765</td>\n",
       "      <td>abnormal</td>\n",
       "      <td>True</td>\n",
       "      <td>True</td>\n",
       "      <td>True</td>\n",
       "      <td>True</td>\n",
       "      <td>True</td>\n",
       "    </tr>\n",
       "  </tbody>\n",
       "</table>\n",
       "<p>9465 rows × 31 columns</p>\n",
       "</div>"
      ],
      "text/plain": [
       "      Patient_Age Mother_Gene Father_Gene Maternal_Gene Paternal_Gene  \\\n",
       "0               6          No         Yes            No            No   \n",
       "1              10         Yes          No           NaN           Yes   \n",
       "2               5          No         NaN            No            No   \n",
       "3              13          No         Yes           Yes            No   \n",
       "4               5          No         NaN           NaN           Yes   \n",
       "...           ...         ...         ...           ...           ...   \n",
       "9460            9         Yes         Yes           NaN            No   \n",
       "9461            1         Yes          No           NaN           Yes   \n",
       "9462            2          No         Yes            No            No   \n",
       "9463           13          No         Yes            No            No   \n",
       "9464           12          No          No           Yes           Yes   \n",
       "\n",
       "      Blood_Cell  Mother_Age  Father_Age    Status Respiratory_Rate  ...  \\\n",
       "0       4.981655          38          61     Alive        Tachypnea  ...   \n",
       "1       5.118890          33          53     Alive              NaN  ...   \n",
       "2       4.876204          48          60  Deceased              NaN  ...   \n",
       "3       4.687767          25          55     Alive              NaN  ...   \n",
       "4       5.152362          41          38  Deceased        Tachypnea  ...   \n",
       "...          ...         ...         ...       ...              ...  ...   \n",
       "9460    4.878335          28          63     Alive              NaN  ...   \n",
       "9461    4.927151          37          62  Deceased              NaN  ...   \n",
       "9462    4.898352          24          32  Deceased        Tachypnea  ...   \n",
       "9463    4.804840          36          56     Alive              NaN  ...   \n",
       "9464    5.421236          40          35  Deceased   Normal (30-60)  ...   \n",
       "\n",
       "     History_Pregnancies Previous_Abortions Birth_Defects White_Blood_Cell  \\\n",
       "0                    NaN                2.0      Multiple              NaN   \n",
       "1                    Yes                NaN      Multiple         8.179584   \n",
       "2                     No                0.0      Singular              NaN   \n",
       "3                    Yes                NaN      Singular         6.884071   \n",
       "4                     No                NaN      Multiple         6.195178   \n",
       "...                  ...                ...           ...              ...   \n",
       "9460                 Yes                2.0      Multiple         7.234960   \n",
       "9461                  No                NaN      Singular         4.859536   \n",
       "9462                  No                3.0           NaN         5.696062   \n",
       "9463                 NaN                1.0      Singular         3.000000   \n",
       "9464                  No                0.0      Singular         7.492765   \n",
       "\n",
       "             Blood_Test Symptom_1 Symptom_2 Symptom_3 Symptom_4 Symptom_5  \n",
       "0     slightly abnormal      True      True      True      True      True  \n",
       "1                normal     False     False     False      True     False  \n",
       "2     slightly abnormal     False     False      True      True     False  \n",
       "3                normal      True     False      True     False      True  \n",
       "4                normal      True      True      True      True     False  \n",
       "...                 ...       ...       ...       ...       ...       ...  \n",
       "9460           abnormal     False      True      True      True     False  \n",
       "9461           abnormal     False      True     False      True      True  \n",
       "9462             normal     False      True     False     False      True  \n",
       "9463                NaN      True      True      True      True      True  \n",
       "9464           abnormal      True      True      True      True      True  \n",
       "\n",
       "[9465 rows x 31 columns]"
      ]
     },
     "execution_count": 47,
     "metadata": {},
     "output_type": "execute_result"
    }
   ],
   "source": [
    "test_data"
   ]
  },
  {
   "cell_type": "code",
   "execution_count": 48,
   "id": "1766a99d",
   "metadata": {},
   "outputs": [],
   "source": [
    "outputData = pipe_gb.predict(test_data)"
   ]
  },
  {
   "cell_type": "code",
   "execution_count": 49,
   "id": "28fe68c6",
   "metadata": {},
   "outputs": [],
   "source": [
    "output_df = pd.DataFrame(le.inverse_transform(outputData))"
   ]
  },
  {
   "cell_type": "code",
   "execution_count": 50,
   "id": "160f0150",
   "metadata": {},
   "outputs": [],
   "source": [
    "Disorder_Subclass = []\n",
    "\n",
    "for val in output_df[0]:\n",
    "    if val == \"Cystic fibrosis\":\n",
    "        Disorder_Subclass.append(\"Single-gene inheritance diseases\")\n",
    "    elif val == \"Hemochromatosis\":\n",
    "        Disorder_Subclass.append(\"Single-gene inheritance diseases\")\n",
    "    elif val == \"Tay-Sachs\":\n",
    "        Disorder_Subclass.append(\"Single-gene inheritance diseases\")\n",
    "    elif val == \"Diabetes\":\n",
    "        Disorder_Subclass.append(\"Multifactorial genetic inheritance disorders\")\n",
    "    elif val == \"Cancer\":\n",
    "        Disorder_Subclass.append(\"Multifactorial genetic inheritance disorders\")\n",
    "    elif val == \"Alzheimer's\":\n",
    "        Disorder_Subclass.append(\"Multifactorial genetic inheritance disorders\")\n",
    "    else: Disorder_Subclass.append(\"Mitochondrial genetic inheritance disorders\")\n",
    "        "
   ]
  },
  {
   "cell_type": "code",
   "execution_count": 51,
   "id": "a5b60376",
   "metadata": {},
   "outputs": [
    {
     "data": {
      "text/html": [
       "<div>\n",
       "<style scoped>\n",
       "    .dataframe tbody tr th:only-of-type {\n",
       "        vertical-align: middle;\n",
       "    }\n",
       "\n",
       "    .dataframe tbody tr th {\n",
       "        vertical-align: top;\n",
       "    }\n",
       "\n",
       "    .dataframe thead th {\n",
       "        text-align: right;\n",
       "    }\n",
       "</style>\n",
       "<table border=\"1\" class=\"dataframe\">\n",
       "  <thead>\n",
       "    <tr style=\"text-align: right;\">\n",
       "      <th></th>\n",
       "      <th>0</th>\n",
       "      <th>1</th>\n",
       "    </tr>\n",
       "  </thead>\n",
       "  <tbody>\n",
       "    <tr>\n",
       "      <th>0</th>\n",
       "      <td>Diabetes</td>\n",
       "      <td>Multifactorial genetic inheritance disorders</td>\n",
       "    </tr>\n",
       "    <tr>\n",
       "      <th>1</th>\n",
       "      <td>Mitochondrial myopathy</td>\n",
       "      <td>Mitochondrial genetic inheritance disorders</td>\n",
       "    </tr>\n",
       "    <tr>\n",
       "      <th>2</th>\n",
       "      <td>Mitochondrial myopathy</td>\n",
       "      <td>Mitochondrial genetic inheritance disorders</td>\n",
       "    </tr>\n",
       "    <tr>\n",
       "      <th>3</th>\n",
       "      <td>Leigh syndrome</td>\n",
       "      <td>Mitochondrial genetic inheritance disorders</td>\n",
       "    </tr>\n",
       "    <tr>\n",
       "      <th>4</th>\n",
       "      <td>Cystic fibrosis</td>\n",
       "      <td>Single-gene inheritance diseases</td>\n",
       "    </tr>\n",
       "    <tr>\n",
       "      <th>...</th>\n",
       "      <td>...</td>\n",
       "      <td>...</td>\n",
       "    </tr>\n",
       "    <tr>\n",
       "      <th>9460</th>\n",
       "      <td>Cystic fibrosis</td>\n",
       "      <td>Single-gene inheritance diseases</td>\n",
       "    </tr>\n",
       "    <tr>\n",
       "      <th>9461</th>\n",
       "      <td>Cystic fibrosis</td>\n",
       "      <td>Single-gene inheritance diseases</td>\n",
       "    </tr>\n",
       "    <tr>\n",
       "      <th>9462</th>\n",
       "      <td>Mitochondrial myopathy</td>\n",
       "      <td>Mitochondrial genetic inheritance disorders</td>\n",
       "    </tr>\n",
       "    <tr>\n",
       "      <th>9463</th>\n",
       "      <td>Diabetes</td>\n",
       "      <td>Multifactorial genetic inheritance disorders</td>\n",
       "    </tr>\n",
       "    <tr>\n",
       "      <th>9464</th>\n",
       "      <td>Cystic fibrosis</td>\n",
       "      <td>Single-gene inheritance diseases</td>\n",
       "    </tr>\n",
       "  </tbody>\n",
       "</table>\n",
       "<p>9465 rows × 2 columns</p>\n",
       "</div>"
      ],
      "text/plain": [
       "                           0                                             1\n",
       "0                   Diabetes  Multifactorial genetic inheritance disorders\n",
       "1     Mitochondrial myopathy   Mitochondrial genetic inheritance disorders\n",
       "2     Mitochondrial myopathy   Mitochondrial genetic inheritance disorders\n",
       "3             Leigh syndrome   Mitochondrial genetic inheritance disorders\n",
       "4            Cystic fibrosis              Single-gene inheritance diseases\n",
       "...                      ...                                           ...\n",
       "9460         Cystic fibrosis              Single-gene inheritance diseases\n",
       "9461         Cystic fibrosis              Single-gene inheritance diseases\n",
       "9462  Mitochondrial myopathy   Mitochondrial genetic inheritance disorders\n",
       "9463                Diabetes  Multifactorial genetic inheritance disorders\n",
       "9464         Cystic fibrosis              Single-gene inheritance diseases\n",
       "\n",
       "[9465 rows x 2 columns]"
      ]
     },
     "execution_count": 51,
     "metadata": {},
     "output_type": "execute_result"
    }
   ],
   "source": [
    "output_df[1] = Disorder_Subclass\n",
    "output_df"
   ]
  },
  {
   "cell_type": "code",
   "execution_count": 52,
   "id": "946d4728",
   "metadata": {},
   "outputs": [],
   "source": [
    "output_df.to_csv('../Data/outputPredicted.csv')"
   ]
  },
  {
   "cell_type": "code",
   "execution_count": null,
   "id": "a209dd1e",
   "metadata": {},
   "outputs": [],
   "source": []
  },
  {
   "cell_type": "code",
   "execution_count": null,
   "id": "50188263",
   "metadata": {},
   "outputs": [],
   "source": []
  },
  {
   "cell_type": "code",
   "execution_count": null,
   "id": "d6a6f335",
   "metadata": {},
   "outputs": [],
   "source": []
  },
  {
   "cell_type": "code",
   "execution_count": null,
   "id": "b087709d",
   "metadata": {},
   "outputs": [],
   "source": []
  },
  {
   "cell_type": "code",
   "execution_count": null,
   "id": "6cbe2182",
   "metadata": {},
   "outputs": [],
   "source": []
  },
  {
   "cell_type": "code",
   "execution_count": null,
   "id": "08160516",
   "metadata": {},
   "outputs": [],
   "source": []
  },
  {
   "cell_type": "code",
   "execution_count": 12,
   "id": "700cf241",
   "metadata": {},
   "outputs": [],
   "source": [
    "D_train = xgb.DMatrix(preprocessor.fit_transform(X_train), label=y_train)\n",
    "D_test = xgb.DMatrix(preprocessor.fit_transform(X_test), label=y_test)"
   ]
  },
  {
   "cell_type": "code",
   "execution_count": null,
   "id": "ffb5bc73",
   "metadata": {},
   "outputs": [],
   "source": []
  },
  {
   "cell_type": "markdown",
   "id": "840c47d3",
   "metadata": {},
   "source": [
    "#### max_depth and min_child_weight"
   ]
  },
  {
   "cell_type": "code",
   "execution_count": null,
   "id": "274bdb3e",
   "metadata": {},
   "outputs": [],
   "source": [
    "gs_params={}}"
   ]
  },
  {
   "cell_type": "code",
   "execution_count": null,
   "id": "7ef1be41",
   "metadata": {},
   "outputs": [],
   "source": []
  },
  {
   "cell_type": "code",
   "execution_count": null,
   "id": "c835572e",
   "metadata": {},
   "outputs": [],
   "source": []
  },
  {
   "cell_type": "code",
   "execution_count": null,
   "id": "5bce6e61",
   "metadata": {},
   "outputs": [],
   "source": []
  },
  {
   "cell_type": "code",
   "execution_count": null,
   "id": "d948e94d",
   "metadata": {},
   "outputs": [],
   "source": []
  },
  {
   "cell_type": "code",
   "execution_count": null,
   "id": "3748564d",
   "metadata": {},
   "outputs": [],
   "source": []
  },
  {
   "cell_type": "markdown",
   "id": "acce7c7b",
   "metadata": {},
   "source": [
    "#### Learning_Rate"
   ]
  },
  {
   "cell_type": "code",
   "execution_count": 17,
   "id": "74a1234c",
   "metadata": {},
   "outputs": [
    {
     "name": "stdout",
     "output_type": "stream",
     "text": [
      "       eta   mlogloss\n",
      "0    0.001   2.175206\n",
      "1    0.010   2.012427\n",
      "2    0.100   1.505617\n",
      "3   10.000   5.070488\n",
      "4  100.000  20.860645\n"
     ]
    }
   ],
   "source": [
    "# Create list of eta values and empty list to store final round mlogloss per xgboost model\n",
    "eta_vals = [0.001, 0.01, 0.1, 10, 100]\n",
    "best_mlogloss = []\n",
    "\n",
    "# Systematically vary the eta \n",
    "for curr_val in eta_vals:\n",
    "\n",
    "    params[\"eta\"] = curr_val\n",
    "    \n",
    "    # Perform cross-validation: cv_results\n",
    "    cv_results = xgb.cv(dtrain=D_train, metrics=\"mlogloss\", early_stopping_rounds=5, \n",
    "                    params=params, nfold=3, num_boost_round=50, as_pandas=True)\n",
    "    \n",
    "    # Append the final round mlogloss to best_mlogloss\n",
    "    best_mlogloss.append(cv_results[\"test-mlogloss-mean\"].tail().values[-1])\n",
    "\n",
    "# Print the resultant DataFrame\n",
    "print(pd.DataFrame(list(zip(eta_vals, best_mlogloss)), columns=[\"eta\",\"mlogloss\"]))"
   ]
  },
  {
   "cell_type": "code",
   "execution_count": 20,
   "id": "c0b0d672",
   "metadata": {},
   "outputs": [],
   "source": [
    "params[\"eta\"] = 0.1"
   ]
  },
  {
   "cell_type": "markdown",
   "id": "19c40bef",
   "metadata": {},
   "source": [
    "#### Max_Depth"
   ]
  },
  {
   "cell_type": "code",
   "execution_count": 22,
   "id": "23ab15cc",
   "metadata": {},
   "outputs": [
    {
     "name": "stdout",
     "output_type": "stream",
     "text": [
      "   max_depth  best_mlogloss\n",
      "0          2       1.649320\n",
      "1          4       1.547621\n",
      "2          6       1.505617\n",
      "3          8       1.524360\n",
      "4         10       1.568893\n",
      "5         15       1.625428\n",
      "6         20       1.640452\n"
     ]
    }
   ],
   "source": [
    "max_depths = [2, 4, 6, 8, 10, 15, 20]\n",
    "best_mlogloss = []\n",
    "\n",
    "# Systematically vary the max_depth\n",
    "for curr_val in max_depths:\n",
    "\n",
    "    params[\"max_depth\"] = curr_val\n",
    "    \n",
    "    # Perform cross-validation\n",
    "    cv_results = xgb.cv(dtrain=D_train, metrics=\"mlogloss\", early_stopping_rounds=5, \n",
    "                    params=params, nfold=3, num_boost_round=30, as_pandas=True)\n",
    "    \n",
    "    # Append the final round mlogloss to best_mlogloss\n",
    "    best_mlogloss.append(cv_results[\"test-mlogloss-mean\"].tail().values[-1])\n",
    "\n",
    "# Print the resultant DataFrame\n",
    "max_depth_df = pd.DataFrame(list(zip(max_depths, best_mlogloss)),columns=[\"max_depth\",\"best_mlogloss\"])\n",
    "print(max_depth_df)"
   ]
  },
  {
   "cell_type": "code",
   "execution_count": 27,
   "id": "63aa49d1",
   "metadata": {},
   "outputs": [
    {
     "data": {
      "text/plain": [
       "Text(0, 0.5, 'mlogloss')"
      ]
     },
     "execution_count": 27,
     "metadata": {},
     "output_type": "execute_result"
    },
    {
     "data": {
      "image/png": "[encoded data removed]",
      "text/plain": [
       "<Figure size 432x288 with 1 Axes>"
      ]
     },
     "metadata": {
      "needs_background": "light"
     },
     "output_type": "display_data"
    }
   ],
   "source": [
    "plt.plot(max_depth_df[\"max_depth\"], max_depth_df[\"best_mlogloss\"])\n",
    "plt.xlabel(\"Max_Depth\")\n",
    "plt.ylabel(\"mlogloss\")"
   ]
  },
  {
   "cell_type": "code",
   "execution_count": 28,
   "id": "1e643e8e",
   "metadata": {},
   "outputs": [
    {
     "name": "stdout",
     "output_type": "stream",
     "text": [
      "   max_depth  best_mlogloss\n",
      "0          4       1.547621\n",
      "1          5       1.517368\n",
      "2          6       1.505617\n",
      "3          7       1.509131\n",
      "4          8       1.524360\n"
     ]
    }
   ],
   "source": [
    "# Second round max_depth optimization\n",
    "max_depths = [4, 5, 6, 7, 8]\n",
    "best_mlogloss = []\n",
    "\n",
    "# Systematically vary the max_depth\n",
    "for curr_val in max_depths:\n",
    "\n",
    "    params[\"max_depth\"] = curr_val\n",
    "    \n",
    "    # Perform cross-validation\n",
    "    cv_results = xgb.cv(dtrain=D_train, metrics=\"mlogloss\", early_stopping_rounds=5, \n",
    "                    params=params, nfold=3, num_boost_round=30, as_pandas=True)\n",
    "    \n",
    "    # Append the final round mlogloss to best_mlogloss\n",
    "    best_mlogloss.append(cv_results[\"test-mlogloss-mean\"].tail().values[-1])\n",
    "\n",
    "# Print the resultant DataFrame\n",
    "max_depth_df = pd.DataFrame(list(zip(max_depths, best_mlogloss)),columns=[\"max_depth\",\"best_mlogloss\"])\n",
    "print(max_depth_df)"
   ]
  },
  {
   "cell_type": "code",
   "execution_count": 29,
   "id": "da6f9ff6",
   "metadata": {},
   "outputs": [
    {
     "data": {
      "text/plain": [
       "Text(0, 0.5, 'mlogloss')"
      ]
     },
     "execution_count": 29,
     "metadata": {},
     "output_type": "execute_result"
    },
    {
     "data": {
      "image/png": "[encoded data removed]",
      "text/plain": [
       "<Figure size 432x288 with 1 Axes>"
      ]
     },
     "metadata": {
      "needs_background": "light"
     },
     "output_type": "display_data"
    }
   ],
   "source": [
    "plt.plot(max_depth_df[\"max_depth\"], max_depth_df[\"best_mlogloss\"])\n",
    "plt.xlabel(\"Max_Depth\")\n",
    "plt.ylabel(\"mlogloss\")"
   ]
  },
  {
   "cell_type": "code",
   "execution_count": 30,
   "id": "c492f7bf",
   "metadata": {},
   "outputs": [],
   "source": [
    "params[\"max_depth\"] = 6"
   ]
  },
  {
   "cell_type": "markdown",
   "id": "d6ac5f66",
   "metadata": {},
   "source": [
    "#### colsample_bytree"
   ]
  },
  {
   "cell_type": "code",
   "execution_count": 32,
   "id": "3cddb403",
   "metadata": {},
   "outputs": [
    {
     "name": "stdout",
     "output_type": "stream",
     "text": [
      "   colsample_bytree  best_mlogloss\n",
      "0               0.1       1.762221\n",
      "1               0.5       1.565242\n",
      "2               0.8       1.513763\n",
      "3               1.0       1.505617\n"
     ]
    }
   ],
   "source": [
    "colsample_bytree_vals = [0.1, 0.5, 0.8, 1]\n",
    "best_mlogloss = []\n",
    "\n",
    "# Systematically vary the hyperparameter value \n",
    "for curr_val in colsample_bytree_vals:\n",
    "\n",
    "    params[\"colsample_bytree\"] = curr_val\n",
    "    \n",
    "    # Perform cross-validation\n",
    "    cv_results = xgb.cv(dtrain=D_train, metrics=\"mlogloss\", early_stopping_rounds=5, \n",
    "                    params=params, nfold=3, num_boost_round=30, as_pandas=True)\n",
    "    \n",
    "    # Append the final round mlogloss to best_mlogloss\n",
    "    best_mlogloss.append(cv_results[\"test-mlogloss-mean\"].tail().values[-1])\n",
    "\n",
    "# Print the resultant DataFrame\n",
    "print(pd.DataFrame(list(zip(colsample_bytree_vals, best_mlogloss)), columns=[\"colsample_bytree\",\"best_mlogloss\"]))"
   ]
  },
  {
   "cell_type": "code",
   "execution_count": 33,
   "id": "bcf5deae",
   "metadata": {},
   "outputs": [],
   "source": [
    "params[\"colsample_bytree\"] = 1"
   ]
  },
  {
   "cell_type": "code",
   "execution_count": 35,
   "id": "50f0493d",
   "metadata": {},
   "outputs": [
    {
     "data": {
      "text/plain": [
       "{'objective': 'multi:softmax',\n",
       " 'num_class': 9,\n",
       " 'eta': 0.1,\n",
       " 'max_depth': 6,\n",
       " 'colsample_bytree': 1}"
      ]
     },
     "execution_count": 35,
     "metadata": {},
     "output_type": "execute_result"
    }
   ],
   "source": [
    "params"
   ]
  },
  {
   "cell_type": "code",
   "execution_count": 36,
   "id": "e8a916dd",
   "metadata": {},
   "outputs": [
    {
     "name": "stdout",
     "output_type": "stream",
     "text": [
      "76.25533517449159\n",
      "37.911122269646\n"
     ]
    }
   ],
   "source": [
    "xgb_model2 = xgb.XGBClassifier(objective='Multi:softmax', eval_metric=\"mlogloss\", use_label_encoder=False, \n",
    "                               num_class=9, eta=0.1, max_depth=6,colsample_bytree=1)\n",
    "\n",
    "xgb_pipeline2 = Pipeline(steps=[('preprocessor', preprocessor),\n",
    "                                ('xgb_model', xgb_model2)])\n",
    "\n",
    "xgb_pipeline2.fit(X_train, y_train)\n",
    "\n",
    "pred2_train = xgb_pipeline2.predict(X_train)\n",
    "pred2_test = xgb_pipeline2.predict(X_test)\n",
    "\n",
    "print(accuracy_score(y_train, pred2_train) * 100)\n",
    "print(accuracy_score(y_test, pred2_test) * 100)"
   ]
  },
  {
   "cell_type": "code",
   "execution_count": null,
   "id": "a337a778",
   "metadata": {},
   "outputs": [],
   "source": []
  },
  {
   "cell_type": "code",
   "execution_count": null,
   "id": "ea320655",
   "metadata": {},
   "outputs": [],
   "source": []
  },
  {
   "cell_type": "code",
   "execution_count": null,
   "id": "457b6f14",
   "metadata": {},
   "outputs": [],
   "source": []
  },
  {
   "cell_type": "code",
   "execution_count": null,
   "id": "c8cf19b1",
   "metadata": {},
   "outputs": [],
   "source": []
  },
  {
   "cell_type": "code",
   "execution_count": null,
   "id": "7cfeca13",
   "metadata": {},
   "outputs": [],
   "source": []
  },
  {
   "cell_type": "code",
   "execution_count": null,
   "id": "45782cb3",
   "metadata": {},
   "outputs": [],
   "source": []
  },
  {
   "cell_type": "code",
   "execution_count": null,
   "id": "5f08bde0",
   "metadata": {},
   "outputs": [],
   "source": []
  },
  {
   "cell_type": "code",
   "execution_count": 214,
   "id": "0805f912",
   "metadata": {},
   "outputs": [
    {
     "name": "stdout",
     "output_type": "stream",
     "text": [
      "[[  2   0   3  16   0   7   1   0   0]\n",
      " [  0   3   0   0  13   0   0   0   7]\n",
      " [  1   0 336  90   0  19 162  37   2]\n",
      " [  2   0 183  84   0  24  45   6   2]\n",
      " [  0   1   0   0  65   0  21  62 117]\n",
      " [  3   0  60  40   0  18   4   1   0]\n",
      " [  0   0 222  20  13   2 442 299  74]\n",
      " [  0   0  44   5  41   0 307 343 161]\n",
      " [  0   0   2   0  64   0 125 221 161]]\n"
     ]
    }
   ],
   "source": [
    "print(confusion_matrix(y_test, pred1))"
   ]
  },
  {
   "cell_type": "code",
   "execution_count": 215,
   "id": "08710471",
   "metadata": {},
   "outputs": [
    {
     "name": "stdout",
     "output_type": "stream",
     "text": [
      "              precision    recall  f1-score   support\n",
      "\n",
      "           0       0.25      0.07      0.11        29\n",
      "           1       0.75      0.13      0.22        23\n",
      "           2       0.40      0.52      0.45       647\n",
      "           3       0.33      0.24      0.28       346\n",
      "           4       0.33      0.24      0.28       266\n",
      "           5       0.26      0.14      0.18       126\n",
      "           6       0.40      0.41      0.41      1072\n",
      "           7       0.35      0.38      0.37       901\n",
      "           8       0.31      0.28      0.29       573\n",
      "\n",
      "    accuracy                           0.37      3983\n",
      "   macro avg       0.37      0.27      0.29      3983\n",
      "weighted avg       0.36      0.37      0.36      3983\n",
      "\n"
     ]
    }
   ],
   "source": [
    "print(classification_report(y_test, pred1))"
   ]
  },
  {
   "cell_type": "markdown",
   "id": "2b1b08fd",
   "metadata": {},
   "source": [
    "The cross validation score shows that the initial out of the box model performs poorly with a mean of 0.37 accuracy."
   ]
  },
  {
   "cell_type": "code",
   "execution_count": 209,
   "id": "394aafab",
   "metadata": {},
   "outputs": [
    {
     "data": {
      "text/plain": [
       "array([\"Alzheimer's\", 'Cancer', 'Cystic fibrosis', 'Diabetes',\n",
       "       'Hemochromatosis', \"Leber's hereditary optic neuropathy\",\n",
       "       'Leigh syndrome', 'Mitochondrial myopathy', 'Tay-Sachs'],\n",
       "      dtype=object)"
      ]
     },
     "execution_count": 209,
     "metadata": {},
     "output_type": "execute_result"
    }
   ],
   "source": [
    "le.inverse_transform([0, 1, 2, 3, 4, 5, 6, 7, 8])"
   ]
  },
  {
   "cell_type": "code",
   "execution_count": null,
   "id": "acbfebdb",
   "metadata": {},
   "outputs": [],
   "source": []
  },
  {
   "cell_type": "code",
   "execution_count": null,
   "id": "d456b96d",
   "metadata": {},
   "outputs": [],
   "source": []
  },
  {
   "cell_type": "code",
   "execution_count": null,
   "id": "67d38f15",
   "metadata": {},
   "outputs": [],
   "source": []
  },
  {
   "cell_type": "code",
   "execution_count": null,
   "id": "961ada1d",
   "metadata": {},
   "outputs": [],
   "source": []
  },
  {
   "cell_type": "code",
   "execution_count": null,
   "id": "1f19e024",
   "metadata": {},
   "outputs": [],
   "source": []
  },
  {
   "cell_type": "code",
   "execution_count": null,
   "id": "001e8339",
   "metadata": {},
   "outputs": [],
   "source": []
  },
  {
   "cell_type": "code",
   "execution_count": null,
   "id": "7a5b9c92",
   "metadata": {},
   "outputs": [],
   "source": []
  },
  {
   "cell_type": "code",
   "execution_count": null,
   "id": "bffd3e46",
   "metadata": {},
   "outputs": [],
   "source": []
  },
  {
   "cell_type": "code",
   "execution_count": null,
   "id": "4a55dd3a",
   "metadata": {},
   "outputs": [],
   "source": []
  },
  {
   "cell_type": "code",
   "execution_count": 165,
   "id": "d805d137",
   "metadata": {
    "scrolled": true
   },
   "outputs": [
    {
     "data": {
      "text/plain": [
       "<Figure size 1080x1080 with 0 Axes>"
      ]
     },
     "metadata": {},
     "output_type": "display_data"
    },
    {
     "data": {
      "image/png": "[encoded data removed]",
      "text/plain": [
       "<Figure size 432x288 with 1 Axes>"
      ]
     },
     "metadata": {
      "needs_background": "light"
     },
     "output_type": "display_data"
    }
   ],
   "source": [
    "plt.figure(figsize=(15,15))\n",
    "xgb.plot_importance(xgb_model1)\n",
    "plt.show()\n"
   ]
  },
  {
   "cell_type": "code",
   "execution_count": 177,
   "id": "3d849aaa",
   "metadata": {},
   "outputs": [
    {
     "data": {
      "text/html": [
       "<div>\n",
       "<style scoped>\n",
       "    .dataframe tbody tr th:only-of-type {\n",
       "        vertical-align: middle;\n",
       "    }\n",
       "\n",
       "    .dataframe tbody tr th {\n",
       "        vertical-align: top;\n",
       "    }\n",
       "\n",
       "    .dataframe thead th {\n",
       "        text-align: right;\n",
       "    }\n",
       "</style>\n",
       "<table border=\"1\" class=\"dataframe\">\n",
       "  <thead>\n",
       "    <tr style=\"text-align: right;\">\n",
       "      <th></th>\n",
       "      <th>0</th>\n",
       "    </tr>\n",
       "  </thead>\n",
       "  <tbody>\n",
       "    <tr>\n",
       "      <th>10</th>\n",
       "      <td>0.064576</td>\n",
       "    </tr>\n",
       "    <tr>\n",
       "      <th>9</th>\n",
       "      <td>0.051650</td>\n",
       "    </tr>\n",
       "    <tr>\n",
       "      <th>8</th>\n",
       "      <td>0.045588</td>\n",
       "    </tr>\n",
       "    <tr>\n",
       "      <th>7</th>\n",
       "      <td>0.034802</td>\n",
       "    </tr>\n",
       "    <tr>\n",
       "      <th>6</th>\n",
       "      <td>0.028784</td>\n",
       "    </tr>\n",
       "    <tr>\n",
       "      <th>...</th>\n",
       "      <td>...</td>\n",
       "    </tr>\n",
       "    <tr>\n",
       "      <th>65</th>\n",
       "      <td>0.010200</td>\n",
       "    </tr>\n",
       "    <tr>\n",
       "      <th>13</th>\n",
       "      <td>0.009154</td>\n",
       "    </tr>\n",
       "    <tr>\n",
       "      <th>22</th>\n",
       "      <td>0.000000</td>\n",
       "    </tr>\n",
       "    <tr>\n",
       "      <th>20</th>\n",
       "      <td>0.000000</td>\n",
       "    </tr>\n",
       "    <tr>\n",
       "      <th>12</th>\n",
       "      <td>0.000000</td>\n",
       "    </tr>\n",
       "  </tbody>\n",
       "</table>\n",
       "<p>69 rows × 1 columns</p>\n",
       "</div>"
      ],
      "text/plain": [
       "           0\n",
       "10  0.064576\n",
       "9   0.051650\n",
       "8   0.045588\n",
       "7   0.034802\n",
       "6   0.028784\n",
       "..       ...\n",
       "65  0.010200\n",
       "13  0.009154\n",
       "22  0.000000\n",
       "20  0.000000\n",
       "12  0.000000\n",
       "\n",
       "[69 rows x 1 columns]"
      ]
     },
     "execution_count": 177,
     "metadata": {},
     "output_type": "execute_result"
    }
   ],
   "source": [
    "pd.DataFrame(xgb_model1.feature_importances_).sort_values(by=0, ascending=False)"
   ]
  },
  {
   "cell_type": "code",
   "execution_count": 166,
   "id": "5d2b2d27",
   "metadata": {},
   "outputs": [
    {
     "ename": "ValueError",
     "evalue": "All arrays must be of the same length",
     "output_type": "error",
     "traceback": [
      "\u001b[1;31m---------------------------------------------------------------------------\u001b[0m",
      "\u001b[1;31mValueError\u001b[0m                                Traceback (most recent call last)",
      "\u001b[1;32m~\\AppData\\Local\\Temp/ipykernel_15328/3467216364.py\u001b[0m in \u001b[0;36m<module>\u001b[1;34m\u001b[0m\n\u001b[1;32m----> 1\u001b[1;33m importances = pd.DataFrame({\n\u001b[0m\u001b[0;32m      2\u001b[0m     \u001b[1;34m'Feature'\u001b[0m\u001b[1;33m:\u001b[0m \u001b[0mtrain_data\u001b[0m\u001b[1;33m.\u001b[0m\u001b[0mdrop\u001b[0m\u001b[1;33m(\u001b[0m\u001b[1;34m'Disorder_Subclass'\u001b[0m\u001b[1;33m,\u001b[0m \u001b[0maxis\u001b[0m\u001b[1;33m=\u001b[0m\u001b[1;36m1\u001b[0m\u001b[1;33m)\u001b[0m\u001b[1;33m.\u001b[0m\u001b[0mcolumns\u001b[0m\u001b[1;33m,\u001b[0m\u001b[1;33m\u001b[0m\u001b[1;33m\u001b[0m\u001b[0m\n\u001b[0;32m      3\u001b[0m     \u001b[1;34m'Importance'\u001b[0m\u001b[1;33m:\u001b[0m \u001b[0mxgb_model1\u001b[0m\u001b[1;33m.\u001b[0m\u001b[0mfeature_importances_\u001b[0m\u001b[1;33m\u001b[0m\u001b[1;33m\u001b[0m\u001b[0m\n\u001b[0;32m      4\u001b[0m })\n\u001b[0;32m      5\u001b[0m \u001b[0mimportances\u001b[0m \u001b[1;33m=\u001b[0m \u001b[0mimportances\u001b[0m\u001b[1;33m.\u001b[0m\u001b[0msort_values\u001b[0m\u001b[1;33m(\u001b[0m\u001b[0mby\u001b[0m\u001b[1;33m=\u001b[0m\u001b[1;34m'Importance'\u001b[0m\u001b[1;33m,\u001b[0m \u001b[0mascending\u001b[0m\u001b[1;33m=\u001b[0m\u001b[1;32mFalse\u001b[0m\u001b[1;33m)\u001b[0m\u001b[1;33m\u001b[0m\u001b[1;33m\u001b[0m\u001b[0m\n",
      "\u001b[1;32m~\\Anaconda-Python\\lib\\site-packages\\pandas\\core\\frame.py\u001b[0m in \u001b[0;36m__init__\u001b[1;34m(self, data, index, columns, dtype, copy)\u001b[0m\n\u001b[0;32m    612\u001b[0m         \u001b[1;32melif\u001b[0m \u001b[0misinstance\u001b[0m\u001b[1;33m(\u001b[0m\u001b[0mdata\u001b[0m\u001b[1;33m,\u001b[0m \u001b[0mdict\u001b[0m\u001b[1;33m)\u001b[0m\u001b[1;33m:\u001b[0m\u001b[1;33m\u001b[0m\u001b[1;33m\u001b[0m\u001b[0m\n\u001b[0;32m    613\u001b[0m             \u001b[1;31m# GH#38939 de facto copy defaults to False only in non-dict cases\u001b[0m\u001b[1;33m\u001b[0m\u001b[1;33m\u001b[0m\u001b[1;33m\u001b[0m\u001b[0m\n\u001b[1;32m--> 614\u001b[1;33m             \u001b[0mmgr\u001b[0m \u001b[1;33m=\u001b[0m \u001b[0mdict_to_mgr\u001b[0m\u001b[1;33m(\u001b[0m\u001b[0mdata\u001b[0m\u001b[1;33m,\u001b[0m \u001b[0mindex\u001b[0m\u001b[1;33m,\u001b[0m \u001b[0mcolumns\u001b[0m\u001b[1;33m,\u001b[0m \u001b[0mdtype\u001b[0m\u001b[1;33m=\u001b[0m\u001b[0mdtype\u001b[0m\u001b[1;33m,\u001b[0m \u001b[0mcopy\u001b[0m\u001b[1;33m=\u001b[0m\u001b[0mcopy\u001b[0m\u001b[1;33m,\u001b[0m \u001b[0mtyp\u001b[0m\u001b[1;33m=\u001b[0m\u001b[0mmanager\u001b[0m\u001b[1;33m)\u001b[0m\u001b[1;33m\u001b[0m\u001b[1;33m\u001b[0m\u001b[0m\n\u001b[0m\u001b[0;32m    615\u001b[0m         \u001b[1;32melif\u001b[0m \u001b[0misinstance\u001b[0m\u001b[1;33m(\u001b[0m\u001b[0mdata\u001b[0m\u001b[1;33m,\u001b[0m \u001b[0mma\u001b[0m\u001b[1;33m.\u001b[0m\u001b[0mMaskedArray\u001b[0m\u001b[1;33m)\u001b[0m\u001b[1;33m:\u001b[0m\u001b[1;33m\u001b[0m\u001b[1;33m\u001b[0m\u001b[0m\n\u001b[0;32m    616\u001b[0m             \u001b[1;32mimport\u001b[0m \u001b[0mnumpy\u001b[0m\u001b[1;33m.\u001b[0m\u001b[0mma\u001b[0m\u001b[1;33m.\u001b[0m\u001b[0mmrecords\u001b[0m \u001b[1;32mas\u001b[0m \u001b[0mmrecords\u001b[0m\u001b[1;33m\u001b[0m\u001b[1;33m\u001b[0m\u001b[0m\n",
      "\u001b[1;32m~\\Anaconda-Python\\lib\\site-packages\\pandas\\core\\internals\\construction.py\u001b[0m in \u001b[0;36mdict_to_mgr\u001b[1;34m(data, index, columns, dtype, typ, copy)\u001b[0m\n\u001b[0;32m    462\u001b[0m         \u001b[1;31m# TODO: can we get rid of the dt64tz special case above?\u001b[0m\u001b[1;33m\u001b[0m\u001b[1;33m\u001b[0m\u001b[1;33m\u001b[0m\u001b[0m\n\u001b[0;32m    463\u001b[0m \u001b[1;33m\u001b[0m\u001b[0m\n\u001b[1;32m--> 464\u001b[1;33m     return arrays_to_mgr(\n\u001b[0m\u001b[0;32m    465\u001b[0m         \u001b[0marrays\u001b[0m\u001b[1;33m,\u001b[0m \u001b[0mdata_names\u001b[0m\u001b[1;33m,\u001b[0m \u001b[0mindex\u001b[0m\u001b[1;33m,\u001b[0m \u001b[0mcolumns\u001b[0m\u001b[1;33m,\u001b[0m \u001b[0mdtype\u001b[0m\u001b[1;33m=\u001b[0m\u001b[0mdtype\u001b[0m\u001b[1;33m,\u001b[0m \u001b[0mtyp\u001b[0m\u001b[1;33m=\u001b[0m\u001b[0mtyp\u001b[0m\u001b[1;33m,\u001b[0m \u001b[0mconsolidate\u001b[0m\u001b[1;33m=\u001b[0m\u001b[0mcopy\u001b[0m\u001b[1;33m\u001b[0m\u001b[1;33m\u001b[0m\u001b[0m\n\u001b[0;32m    466\u001b[0m     )\n",
      "\u001b[1;32m~\\Anaconda-Python\\lib\\site-packages\\pandas\\core\\internals\\construction.py\u001b[0m in \u001b[0;36marrays_to_mgr\u001b[1;34m(arrays, arr_names, index, columns, dtype, verify_integrity, typ, consolidate)\u001b[0m\n\u001b[0;32m    117\u001b[0m         \u001b[1;31m# figure out the index, if necessary\u001b[0m\u001b[1;33m\u001b[0m\u001b[1;33m\u001b[0m\u001b[1;33m\u001b[0m\u001b[0m\n\u001b[0;32m    118\u001b[0m         \u001b[1;32mif\u001b[0m \u001b[0mindex\u001b[0m \u001b[1;32mis\u001b[0m \u001b[1;32mNone\u001b[0m\u001b[1;33m:\u001b[0m\u001b[1;33m\u001b[0m\u001b[1;33m\u001b[0m\u001b[0m\n\u001b[1;32m--> 119\u001b[1;33m             \u001b[0mindex\u001b[0m \u001b[1;33m=\u001b[0m \u001b[0m_extract_index\u001b[0m\u001b[1;33m(\u001b[0m\u001b[0marrays\u001b[0m\u001b[1;33m)\u001b[0m\u001b[1;33m\u001b[0m\u001b[1;33m\u001b[0m\u001b[0m\n\u001b[0m\u001b[0;32m    120\u001b[0m         \u001b[1;32melse\u001b[0m\u001b[1;33m:\u001b[0m\u001b[1;33m\u001b[0m\u001b[1;33m\u001b[0m\u001b[0m\n\u001b[0;32m    121\u001b[0m             \u001b[0mindex\u001b[0m \u001b[1;33m=\u001b[0m \u001b[0mensure_index\u001b[0m\u001b[1;33m(\u001b[0m\u001b[0mindex\u001b[0m\u001b[1;33m)\u001b[0m\u001b[1;33m\u001b[0m\u001b[1;33m\u001b[0m\u001b[0m\n",
      "\u001b[1;32m~\\Anaconda-Python\\lib\\site-packages\\pandas\\core\\internals\\construction.py\u001b[0m in \u001b[0;36m_extract_index\u001b[1;34m(data)\u001b[0m\n\u001b[0;32m    633\u001b[0m             \u001b[0mlengths\u001b[0m \u001b[1;33m=\u001b[0m \u001b[0mlist\u001b[0m\u001b[1;33m(\u001b[0m\u001b[0mset\u001b[0m\u001b[1;33m(\u001b[0m\u001b[0mraw_lengths\u001b[0m\u001b[1;33m)\u001b[0m\u001b[1;33m)\u001b[0m\u001b[1;33m\u001b[0m\u001b[1;33m\u001b[0m\u001b[0m\n\u001b[0;32m    634\u001b[0m             \u001b[1;32mif\u001b[0m \u001b[0mlen\u001b[0m\u001b[1;33m(\u001b[0m\u001b[0mlengths\u001b[0m\u001b[1;33m)\u001b[0m \u001b[1;33m>\u001b[0m \u001b[1;36m1\u001b[0m\u001b[1;33m:\u001b[0m\u001b[1;33m\u001b[0m\u001b[1;33m\u001b[0m\u001b[0m\n\u001b[1;32m--> 635\u001b[1;33m                 \u001b[1;32mraise\u001b[0m \u001b[0mValueError\u001b[0m\u001b[1;33m(\u001b[0m\u001b[1;34m\"All arrays must be of the same length\"\u001b[0m\u001b[1;33m)\u001b[0m\u001b[1;33m\u001b[0m\u001b[1;33m\u001b[0m\u001b[0m\n\u001b[0m\u001b[0;32m    636\u001b[0m \u001b[1;33m\u001b[0m\u001b[0m\n\u001b[0;32m    637\u001b[0m             \u001b[1;32mif\u001b[0m \u001b[0mhave_dicts\u001b[0m\u001b[1;33m:\u001b[0m\u001b[1;33m\u001b[0m\u001b[1;33m\u001b[0m\u001b[0m\n",
      "\u001b[1;31mValueError\u001b[0m: All arrays must be of the same length"
     ]
    }
   ],
   "source": [
    "importances = pd.DataFrame({\n",
    "    'Feature': train_data.drop('Disorder_Subclass', axis=1).columns,\n",
    "    'Importance': xgb_model1.feature_importances_\n",
    "})\n",
    "importances = importances.sort_values(by='Importance', ascending=False)\n",
    "importances = importances.set_index('Feature')\n",
    "importances"
   ]
  },
  {
   "cell_type": "code",
   "execution_count": null,
   "id": "a5daa94c",
   "metadata": {},
   "outputs": [],
   "source": []
  },
  {
   "cell_type": "code",
   "execution_count": null,
   "id": "9e54d072",
   "metadata": {},
   "outputs": [],
   "source": []
  },
  {
   "cell_type": "code",
   "execution_count": null,
   "id": "0a561a90",
   "metadata": {},
   "outputs": [],
   "source": []
  },
  {
   "cell_type": "code",
   "execution_count": null,
   "id": "51e0026f",
   "metadata": {},
   "outputs": [],
   "source": []
  },
  {
   "cell_type": "code",
   "execution_count": null,
   "id": "d64b6e06",
   "metadata": {},
   "outputs": [],
   "source": []
  },
  {
   "cell_type": "code",
   "execution_count": null,
   "id": "05d4ef7c",
   "metadata": {},
   "outputs": [],
   "source": []
  },
  {
   "cell_type": "code",
   "execution_count": 126,
   "id": "0e9b8af0",
   "metadata": {},
   "outputs": [
    {
     "name": "stdout",
     "output_type": "stream",
     "text": [
      "[13:12:59] WARNING: D:\\bld\\xgboost-split_1637426510059\\work\\src\\learner.cc:576: \n",
      "Parameters: { \"scale_pos_weight\" } might not be used.\n",
      "\n",
      "  This could be a false alarm, with some parameters getting used by language bindings but\n",
      "  then being mistakenly passed down to XGBoost core, or some parameter actually being used\n",
      "  but getting flagged wrongly here. Please open an issue if you find any such cases.\n",
      "\n",
      "\n",
      "[13:12:59] WARNING: D:\\bld\\xgboost-split_1637426510059\\work\\src\\learner.cc:1115: Starting in XGBoost 1.3.0, the default evaluation metric used with the objective 'multi:softprob' was changed from 'merror' to 'mlogloss'. Explicitly set eval_metric if you'd like to restore the old behavior.\n",
      "Accuracy for model 3: 37.26\n"
     ]
    }
   ],
   "source": [
    "xgb_pipeline3 = Pipeline(steps=[('preprocessor', preprocessor),\n",
    "                               ('xgb_model', model3)])\n",
    "\n",
    "xgb_pipeline3.fit(X_train, y_train)\n",
    "\n",
    "pred3 = xgb_pipeline3.predict(X_test)\n",
    "print(\"Accuracy for model 3: %.2f\" % (accuracy_score(y_test, pred3) * 100))"
   ]
  },
  {
   "cell_type": "code",
   "execution_count": null,
   "id": "ac80fef4",
   "metadata": {},
   "outputs": [],
   "source": []
  },
  {
   "cell_type": "code",
   "execution_count": null,
   "id": "9f7624ab",
   "metadata": {},
   "outputs": [],
   "source": []
  },
  {
   "cell_type": "code",
   "execution_count": null,
   "id": "f77419f0",
   "metadata": {},
   "outputs": [],
   "source": []
  },
  {
   "cell_type": "code",
   "execution_count": null,
   "id": "7c75dba4",
   "metadata": {},
   "outputs": [],
   "source": []
  },
  {
   "cell_type": "code",
   "execution_count": null,
   "id": "856ed3a6",
   "metadata": {},
   "outputs": [],
   "source": []
  },
  {
   "cell_type": "code",
   "execution_count": 128,
   "id": "9944bb03",
   "metadata": {},
   "outputs": [
    {
     "name": "stdout",
     "output_type": "stream",
     "text": [
      "Accuracy for model 3: 37.26\n"
     ]
    }
   ],
   "source": [
    "print(\"Accuracy for model 3: %.2f\" % (accuracy_score(y_test, pred3) * 100))"
   ]
  },
  {
   "cell_type": "code",
   "execution_count": 89,
   "id": "c30265e3",
   "metadata": {},
   "outputs": [],
   "source": [
    "gbm_param_grid = {\n",
    "    'clf__learning_rate': np.arange(0.05, 1, 0.05),\n",
    "    'clf__max_depth': np.arange(3, 10, 1),\n",
    "    'clf__n_estimators': np.arange(50, 100, 50)\n",
    "}"
   ]
  },
  {
   "cell_type": "code",
   "execution_count": 87,
   "id": "e058c199",
   "metadata": {},
   "outputs": [],
   "source": [
    "randomized_roc_auc = RandomizedSearchCV(estimator=xgb_pipeline, n_iter=2, verbose=1, \n",
    "                                        param_distributions=gbm_param_grid, scoring=\"roc_auc\", cv=2)"
   ]
  },
  {
   "cell_type": "code",
   "execution_count": 90,
   "id": "15ea5146",
   "metadata": {},
   "outputs": [
    {
     "name": "stdout",
     "output_type": "stream",
     "text": [
      "Fitting 2 folds for each of 2 candidates, totalling 4 fits\n"
     ]
    },
    {
     "ename": "ValueError",
     "evalue": "Invalid parameter clf for estimator Pipeline(steps=[('preprocessor',\n                 ColumnTransformer(transformers=[('num_transformer',\n                                                  SimpleImputer(fill_value=-99,\n                                                                strategy='constant'),\n                                                  Index(['Patient_Age', 'Blood_Cell', 'Mother_Age', 'Father_Age',\n       'Previous_Abortions', 'White_Blood_Cell', 'Symptom_1', 'Symptom_2',\n       'Symptom_3', 'Symptom_4', 'Symptom_5'],\n      dtype='object')),\n                                                 ('cat_transformer',\n                                                  Pipeline(steps=[('im...\n                               learning_rate=0.300000012, max_delta_step=0,\n                               max_depth=6, min_child_weight=1, missing=nan,\n                               monotone_constraints='()', n_estimators=100,\n                               n_jobs=6, num_parallel_tree=1,\n                               objective='multi:softprob', predictor='auto',\n                               random_state=0, reg_alpha=0, reg_lambda=1,\n                               scale_pos_weight=None, subsample=1,\n                               tree_method='exact', use_label_encoder=False,\n                               validate_parameters=1, verbosity=None))]). Check the list of available parameters with `estimator.get_params().keys()`.",
     "output_type": "error",
     "traceback": [
      "\u001b[1;31m---------------------------------------------------------------------------\u001b[0m",
      "\u001b[1;31mValueError\u001b[0m                                Traceback (most recent call last)",
      "\u001b[1;32m~\\AppData\\Local\\Temp/ipykernel_15328/4239710608.py\u001b[0m in \u001b[0;36m<module>\u001b[1;34m\u001b[0m\n\u001b[1;32m----> 1\u001b[1;33m \u001b[0mrandomized_roc_auc\u001b[0m\u001b[1;33m.\u001b[0m\u001b[0mfit\u001b[0m\u001b[1;33m(\u001b[0m\u001b[0mX\u001b[0m\u001b[1;33m,\u001b[0m \u001b[0mencoded_y\u001b[0m\u001b[1;33m)\u001b[0m\u001b[1;33m\u001b[0m\u001b[1;33m\u001b[0m\u001b[0m\n\u001b[0m",
      "\u001b[1;32m~\\Anaconda-Python\\lib\\site-packages\\sklearn\\utils\\validation.py\u001b[0m in \u001b[0;36minner_f\u001b[1;34m(*args, **kwargs)\u001b[0m\n\u001b[0;32m     61\u001b[0m             \u001b[0mextra_args\u001b[0m \u001b[1;33m=\u001b[0m \u001b[0mlen\u001b[0m\u001b[1;33m(\u001b[0m\u001b[0margs\u001b[0m\u001b[1;33m)\u001b[0m \u001b[1;33m-\u001b[0m \u001b[0mlen\u001b[0m\u001b[1;33m(\u001b[0m\u001b[0mall_args\u001b[0m\u001b[1;33m)\u001b[0m\u001b[1;33m\u001b[0m\u001b[1;33m\u001b[0m\u001b[0m\n\u001b[0;32m     62\u001b[0m             \u001b[1;32mif\u001b[0m \u001b[0mextra_args\u001b[0m \u001b[1;33m<=\u001b[0m \u001b[1;36m0\u001b[0m\u001b[1;33m:\u001b[0m\u001b[1;33m\u001b[0m\u001b[1;33m\u001b[0m\u001b[0m\n\u001b[1;32m---> 63\u001b[1;33m                 \u001b[1;32mreturn\u001b[0m \u001b[0mf\u001b[0m\u001b[1;33m(\u001b[0m\u001b[1;33m*\u001b[0m\u001b[0margs\u001b[0m\u001b[1;33m,\u001b[0m \u001b[1;33m**\u001b[0m\u001b[0mkwargs\u001b[0m\u001b[1;33m)\u001b[0m\u001b[1;33m\u001b[0m\u001b[1;33m\u001b[0m\u001b[0m\n\u001b[0m\u001b[0;32m     64\u001b[0m \u001b[1;33m\u001b[0m\u001b[0m\n\u001b[0;32m     65\u001b[0m             \u001b[1;31m# extra_args > 0\u001b[0m\u001b[1;33m\u001b[0m\u001b[1;33m\u001b[0m\u001b[1;33m\u001b[0m\u001b[0m\n",
      "\u001b[1;32m~\\Anaconda-Python\\lib\\site-packages\\sklearn\\model_selection\\_search.py\u001b[0m in \u001b[0;36mfit\u001b[1;34m(self, X, y, groups, **fit_params)\u001b[0m\n\u001b[0;32m    839\u001b[0m                 \u001b[1;32mreturn\u001b[0m \u001b[0mresults\u001b[0m\u001b[1;33m\u001b[0m\u001b[1;33m\u001b[0m\u001b[0m\n\u001b[0;32m    840\u001b[0m \u001b[1;33m\u001b[0m\u001b[0m\n\u001b[1;32m--> 841\u001b[1;33m             \u001b[0mself\u001b[0m\u001b[1;33m.\u001b[0m\u001b[0m_run_search\u001b[0m\u001b[1;33m(\u001b[0m\u001b[0mevaluate_candidates\u001b[0m\u001b[1;33m)\u001b[0m\u001b[1;33m\u001b[0m\u001b[1;33m\u001b[0m\u001b[0m\n\u001b[0m\u001b[0;32m    842\u001b[0m \u001b[1;33m\u001b[0m\u001b[0m\n\u001b[0;32m    843\u001b[0m             \u001b[1;31m# multimetric is determined here because in the case of a callable\u001b[0m\u001b[1;33m\u001b[0m\u001b[1;33m\u001b[0m\u001b[1;33m\u001b[0m\u001b[0m\n",
      "\u001b[1;32m~\\Anaconda-Python\\lib\\site-packages\\sklearn\\model_selection\\_search.py\u001b[0m in \u001b[0;36m_run_search\u001b[1;34m(self, evaluate_candidates)\u001b[0m\n\u001b[0;32m   1631\u001b[0m     \u001b[1;32mdef\u001b[0m \u001b[0m_run_search\u001b[0m\u001b[1;33m(\u001b[0m\u001b[0mself\u001b[0m\u001b[1;33m,\u001b[0m \u001b[0mevaluate_candidates\u001b[0m\u001b[1;33m)\u001b[0m\u001b[1;33m:\u001b[0m\u001b[1;33m\u001b[0m\u001b[1;33m\u001b[0m\u001b[0m\n\u001b[0;32m   1632\u001b[0m         \u001b[1;34m\"\"\"Search n_iter candidates from param_distributions\"\"\"\u001b[0m\u001b[1;33m\u001b[0m\u001b[1;33m\u001b[0m\u001b[0m\n\u001b[1;32m-> 1633\u001b[1;33m         evaluate_candidates(ParameterSampler(\n\u001b[0m\u001b[0;32m   1634\u001b[0m             \u001b[0mself\u001b[0m\u001b[1;33m.\u001b[0m\u001b[0mparam_distributions\u001b[0m\u001b[1;33m,\u001b[0m \u001b[0mself\u001b[0m\u001b[1;33m.\u001b[0m\u001b[0mn_iter\u001b[0m\u001b[1;33m,\u001b[0m\u001b[1;33m\u001b[0m\u001b[1;33m\u001b[0m\u001b[0m\n\u001b[0;32m   1635\u001b[0m             random_state=self.random_state))\n",
      "\u001b[1;32m~\\Anaconda-Python\\lib\\site-packages\\sklearn\\model_selection\\_search.py\u001b[0m in \u001b[0;36mevaluate_candidates\u001b[1;34m(candidate_params, cv, more_results)\u001b[0m\n\u001b[0;32m    793\u001b[0m                               n_splits, n_candidates, n_candidates * n_splits))\n\u001b[0;32m    794\u001b[0m \u001b[1;33m\u001b[0m\u001b[0m\n\u001b[1;32m--> 795\u001b[1;33m                 out = parallel(delayed(_fit_and_score)(clone(base_estimator),\n\u001b[0m\u001b[0;32m    796\u001b[0m                                                        \u001b[0mX\u001b[0m\u001b[1;33m,\u001b[0m \u001b[0my\u001b[0m\u001b[1;33m,\u001b[0m\u001b[1;33m\u001b[0m\u001b[1;33m\u001b[0m\u001b[0m\n\u001b[0;32m    797\u001b[0m                                                        \u001b[0mtrain\u001b[0m\u001b[1;33m=\u001b[0m\u001b[0mtrain\u001b[0m\u001b[1;33m,\u001b[0m \u001b[0mtest\u001b[0m\u001b[1;33m=\u001b[0m\u001b[0mtest\u001b[0m\u001b[1;33m,\u001b[0m\u001b[1;33m\u001b[0m\u001b[1;33m\u001b[0m\u001b[0m\n",
      "\u001b[1;32m~\\Anaconda-Python\\lib\\site-packages\\joblib\\parallel.py\u001b[0m in \u001b[0;36m__call__\u001b[1;34m(self, iterable)\u001b[0m\n\u001b[0;32m   1039\u001b[0m             \u001b[1;31m# remaining jobs.\u001b[0m\u001b[1;33m\u001b[0m\u001b[1;33m\u001b[0m\u001b[1;33m\u001b[0m\u001b[0m\n\u001b[0;32m   1040\u001b[0m             \u001b[0mself\u001b[0m\u001b[1;33m.\u001b[0m\u001b[0m_iterating\u001b[0m \u001b[1;33m=\u001b[0m \u001b[1;32mFalse\u001b[0m\u001b[1;33m\u001b[0m\u001b[1;33m\u001b[0m\u001b[0m\n\u001b[1;32m-> 1041\u001b[1;33m             \u001b[1;32mif\u001b[0m \u001b[0mself\u001b[0m\u001b[1;33m.\u001b[0m\u001b[0mdispatch_one_batch\u001b[0m\u001b[1;33m(\u001b[0m\u001b[0miterator\u001b[0m\u001b[1;33m)\u001b[0m\u001b[1;33m:\u001b[0m\u001b[1;33m\u001b[0m\u001b[1;33m\u001b[0m\u001b[0m\n\u001b[0m\u001b[0;32m   1042\u001b[0m                 \u001b[0mself\u001b[0m\u001b[1;33m.\u001b[0m\u001b[0m_iterating\u001b[0m \u001b[1;33m=\u001b[0m \u001b[0mself\u001b[0m\u001b[1;33m.\u001b[0m\u001b[0m_original_iterator\u001b[0m \u001b[1;32mis\u001b[0m \u001b[1;32mnot\u001b[0m \u001b[1;32mNone\u001b[0m\u001b[1;33m\u001b[0m\u001b[1;33m\u001b[0m\u001b[0m\n\u001b[0;32m   1043\u001b[0m \u001b[1;33m\u001b[0m\u001b[0m\n",
      "\u001b[1;32m~\\Anaconda-Python\\lib\\site-packages\\joblib\\parallel.py\u001b[0m in \u001b[0;36mdispatch_one_batch\u001b[1;34m(self, iterator)\u001b[0m\n\u001b[0;32m    857\u001b[0m                 \u001b[1;32mreturn\u001b[0m \u001b[1;32mFalse\u001b[0m\u001b[1;33m\u001b[0m\u001b[1;33m\u001b[0m\u001b[0m\n\u001b[0;32m    858\u001b[0m             \u001b[1;32melse\u001b[0m\u001b[1;33m:\u001b[0m\u001b[1;33m\u001b[0m\u001b[1;33m\u001b[0m\u001b[0m\n\u001b[1;32m--> 859\u001b[1;33m                 \u001b[0mself\u001b[0m\u001b[1;33m.\u001b[0m\u001b[0m_dispatch\u001b[0m\u001b[1;33m(\u001b[0m\u001b[0mtasks\u001b[0m\u001b[1;33m)\u001b[0m\u001b[1;33m\u001b[0m\u001b[1;33m\u001b[0m\u001b[0m\n\u001b[0m\u001b[0;32m    860\u001b[0m                 \u001b[1;32mreturn\u001b[0m \u001b[1;32mTrue\u001b[0m\u001b[1;33m\u001b[0m\u001b[1;33m\u001b[0m\u001b[0m\n\u001b[0;32m    861\u001b[0m \u001b[1;33m\u001b[0m\u001b[0m\n",
      "\u001b[1;32m~\\Anaconda-Python\\lib\\site-packages\\joblib\\parallel.py\u001b[0m in \u001b[0;36m_dispatch\u001b[1;34m(self, batch)\u001b[0m\n\u001b[0;32m    775\u001b[0m         \u001b[1;32mwith\u001b[0m \u001b[0mself\u001b[0m\u001b[1;33m.\u001b[0m\u001b[0m_lock\u001b[0m\u001b[1;33m:\u001b[0m\u001b[1;33m\u001b[0m\u001b[1;33m\u001b[0m\u001b[0m\n\u001b[0;32m    776\u001b[0m             \u001b[0mjob_idx\u001b[0m \u001b[1;33m=\u001b[0m \u001b[0mlen\u001b[0m\u001b[1;33m(\u001b[0m\u001b[0mself\u001b[0m\u001b[1;33m.\u001b[0m\u001b[0m_jobs\u001b[0m\u001b[1;33m)\u001b[0m\u001b[1;33m\u001b[0m\u001b[1;33m\u001b[0m\u001b[0m\n\u001b[1;32m--> 777\u001b[1;33m             \u001b[0mjob\u001b[0m \u001b[1;33m=\u001b[0m \u001b[0mself\u001b[0m\u001b[1;33m.\u001b[0m\u001b[0m_backend\u001b[0m\u001b[1;33m.\u001b[0m\u001b[0mapply_async\u001b[0m\u001b[1;33m(\u001b[0m\u001b[0mbatch\u001b[0m\u001b[1;33m,\u001b[0m \u001b[0mcallback\u001b[0m\u001b[1;33m=\u001b[0m\u001b[0mcb\u001b[0m\u001b[1;33m)\u001b[0m\u001b[1;33m\u001b[0m\u001b[1;33m\u001b[0m\u001b[0m\n\u001b[0m\u001b[0;32m    778\u001b[0m             \u001b[1;31m# A job can complete so quickly than its callback is\u001b[0m\u001b[1;33m\u001b[0m\u001b[1;33m\u001b[0m\u001b[1;33m\u001b[0m\u001b[0m\n\u001b[0;32m    779\u001b[0m             \u001b[1;31m# called before we get here, causing self._jobs to\u001b[0m\u001b[1;33m\u001b[0m\u001b[1;33m\u001b[0m\u001b[1;33m\u001b[0m\u001b[0m\n",
      "\u001b[1;32m~\\Anaconda-Python\\lib\\site-packages\\joblib\\_parallel_backends.py\u001b[0m in \u001b[0;36mapply_async\u001b[1;34m(self, func, callback)\u001b[0m\n\u001b[0;32m    206\u001b[0m     \u001b[1;32mdef\u001b[0m \u001b[0mapply_async\u001b[0m\u001b[1;33m(\u001b[0m\u001b[0mself\u001b[0m\u001b[1;33m,\u001b[0m \u001b[0mfunc\u001b[0m\u001b[1;33m,\u001b[0m \u001b[0mcallback\u001b[0m\u001b[1;33m=\u001b[0m\u001b[1;32mNone\u001b[0m\u001b[1;33m)\u001b[0m\u001b[1;33m:\u001b[0m\u001b[1;33m\u001b[0m\u001b[1;33m\u001b[0m\u001b[0m\n\u001b[0;32m    207\u001b[0m         \u001b[1;34m\"\"\"Schedule a func to be run\"\"\"\u001b[0m\u001b[1;33m\u001b[0m\u001b[1;33m\u001b[0m\u001b[0m\n\u001b[1;32m--> 208\u001b[1;33m         \u001b[0mresult\u001b[0m \u001b[1;33m=\u001b[0m \u001b[0mImmediateResult\u001b[0m\u001b[1;33m(\u001b[0m\u001b[0mfunc\u001b[0m\u001b[1;33m)\u001b[0m\u001b[1;33m\u001b[0m\u001b[1;33m\u001b[0m\u001b[0m\n\u001b[0m\u001b[0;32m    209\u001b[0m         \u001b[1;32mif\u001b[0m \u001b[0mcallback\u001b[0m\u001b[1;33m:\u001b[0m\u001b[1;33m\u001b[0m\u001b[1;33m\u001b[0m\u001b[0m\n\u001b[0;32m    210\u001b[0m             \u001b[0mcallback\u001b[0m\u001b[1;33m(\u001b[0m\u001b[0mresult\u001b[0m\u001b[1;33m)\u001b[0m\u001b[1;33m\u001b[0m\u001b[1;33m\u001b[0m\u001b[0m\n",
      "\u001b[1;32m~\\Anaconda-Python\\lib\\site-packages\\joblib\\_parallel_backends.py\u001b[0m in \u001b[0;36m__init__\u001b[1;34m(self, batch)\u001b[0m\n\u001b[0;32m    570\u001b[0m         \u001b[1;31m# Don't delay the application, to avoid keeping the input\u001b[0m\u001b[1;33m\u001b[0m\u001b[1;33m\u001b[0m\u001b[1;33m\u001b[0m\u001b[0m\n\u001b[0;32m    571\u001b[0m         \u001b[1;31m# arguments in memory\u001b[0m\u001b[1;33m\u001b[0m\u001b[1;33m\u001b[0m\u001b[1;33m\u001b[0m\u001b[0m\n\u001b[1;32m--> 572\u001b[1;33m         \u001b[0mself\u001b[0m\u001b[1;33m.\u001b[0m\u001b[0mresults\u001b[0m \u001b[1;33m=\u001b[0m \u001b[0mbatch\u001b[0m\u001b[1;33m(\u001b[0m\u001b[1;33m)\u001b[0m\u001b[1;33m\u001b[0m\u001b[1;33m\u001b[0m\u001b[0m\n\u001b[0m\u001b[0;32m    573\u001b[0m \u001b[1;33m\u001b[0m\u001b[0m\n\u001b[0;32m    574\u001b[0m     \u001b[1;32mdef\u001b[0m \u001b[0mget\u001b[0m\u001b[1;33m(\u001b[0m\u001b[0mself\u001b[0m\u001b[1;33m)\u001b[0m\u001b[1;33m:\u001b[0m\u001b[1;33m\u001b[0m\u001b[1;33m\u001b[0m\u001b[0m\n",
      "\u001b[1;32m~\\Anaconda-Python\\lib\\site-packages\\joblib\\parallel.py\u001b[0m in \u001b[0;36m__call__\u001b[1;34m(self)\u001b[0m\n\u001b[0;32m    260\u001b[0m         \u001b[1;31m# change the default number of processes to -1\u001b[0m\u001b[1;33m\u001b[0m\u001b[1;33m\u001b[0m\u001b[1;33m\u001b[0m\u001b[0m\n\u001b[0;32m    261\u001b[0m         \u001b[1;32mwith\u001b[0m \u001b[0mparallel_backend\u001b[0m\u001b[1;33m(\u001b[0m\u001b[0mself\u001b[0m\u001b[1;33m.\u001b[0m\u001b[0m_backend\u001b[0m\u001b[1;33m,\u001b[0m \u001b[0mn_jobs\u001b[0m\u001b[1;33m=\u001b[0m\u001b[0mself\u001b[0m\u001b[1;33m.\u001b[0m\u001b[0m_n_jobs\u001b[0m\u001b[1;33m)\u001b[0m\u001b[1;33m:\u001b[0m\u001b[1;33m\u001b[0m\u001b[1;33m\u001b[0m\u001b[0m\n\u001b[1;32m--> 262\u001b[1;33m             return [func(*args, **kwargs)\n\u001b[0m\u001b[0;32m    263\u001b[0m                     for func, args, kwargs in self.items]\n\u001b[0;32m    264\u001b[0m \u001b[1;33m\u001b[0m\u001b[0m\n",
      "\u001b[1;32m~\\Anaconda-Python\\lib\\site-packages\\joblib\\parallel.py\u001b[0m in \u001b[0;36m<listcomp>\u001b[1;34m(.0)\u001b[0m\n\u001b[0;32m    260\u001b[0m         \u001b[1;31m# change the default number of processes to -1\u001b[0m\u001b[1;33m\u001b[0m\u001b[1;33m\u001b[0m\u001b[1;33m\u001b[0m\u001b[0m\n\u001b[0;32m    261\u001b[0m         \u001b[1;32mwith\u001b[0m \u001b[0mparallel_backend\u001b[0m\u001b[1;33m(\u001b[0m\u001b[0mself\u001b[0m\u001b[1;33m.\u001b[0m\u001b[0m_backend\u001b[0m\u001b[1;33m,\u001b[0m \u001b[0mn_jobs\u001b[0m\u001b[1;33m=\u001b[0m\u001b[0mself\u001b[0m\u001b[1;33m.\u001b[0m\u001b[0m_n_jobs\u001b[0m\u001b[1;33m)\u001b[0m\u001b[1;33m:\u001b[0m\u001b[1;33m\u001b[0m\u001b[1;33m\u001b[0m\u001b[0m\n\u001b[1;32m--> 262\u001b[1;33m             return [func(*args, **kwargs)\n\u001b[0m\u001b[0;32m    263\u001b[0m                     for func, args, kwargs in self.items]\n\u001b[0;32m    264\u001b[0m \u001b[1;33m\u001b[0m\u001b[0m\n",
      "\u001b[1;32m~\\Anaconda-Python\\lib\\site-packages\\sklearn\\utils\\fixes.py\u001b[0m in \u001b[0;36m__call__\u001b[1;34m(self, *args, **kwargs)\u001b[0m\n\u001b[0;32m    220\u001b[0m     \u001b[1;32mdef\u001b[0m \u001b[0m__call__\u001b[0m\u001b[1;33m(\u001b[0m\u001b[0mself\u001b[0m\u001b[1;33m,\u001b[0m \u001b[1;33m*\u001b[0m\u001b[0margs\u001b[0m\u001b[1;33m,\u001b[0m \u001b[1;33m**\u001b[0m\u001b[0mkwargs\u001b[0m\u001b[1;33m)\u001b[0m\u001b[1;33m:\u001b[0m\u001b[1;33m\u001b[0m\u001b[1;33m\u001b[0m\u001b[0m\n\u001b[0;32m    221\u001b[0m         \u001b[1;32mwith\u001b[0m \u001b[0mconfig_context\u001b[0m\u001b[1;33m(\u001b[0m\u001b[1;33m**\u001b[0m\u001b[0mself\u001b[0m\u001b[1;33m.\u001b[0m\u001b[0mconfig\u001b[0m\u001b[1;33m)\u001b[0m\u001b[1;33m:\u001b[0m\u001b[1;33m\u001b[0m\u001b[1;33m\u001b[0m\u001b[0m\n\u001b[1;32m--> 222\u001b[1;33m             \u001b[1;32mreturn\u001b[0m \u001b[0mself\u001b[0m\u001b[1;33m.\u001b[0m\u001b[0mfunction\u001b[0m\u001b[1;33m(\u001b[0m\u001b[1;33m*\u001b[0m\u001b[0margs\u001b[0m\u001b[1;33m,\u001b[0m \u001b[1;33m**\u001b[0m\u001b[0mkwargs\u001b[0m\u001b[1;33m)\u001b[0m\u001b[1;33m\u001b[0m\u001b[1;33m\u001b[0m\u001b[0m\n\u001b[0m",
      "\u001b[1;32m~\\Anaconda-Python\\lib\\site-packages\\sklearn\\model_selection\\_validation.py\u001b[0m in \u001b[0;36m_fit_and_score\u001b[1;34m(estimator, X, y, scorer, train, test, verbose, parameters, fit_params, return_train_score, return_parameters, return_n_test_samples, return_times, return_estimator, split_progress, candidate_progress, error_score)\u001b[0m\n\u001b[0;32m    584\u001b[0m             \u001b[0mcloned_parameters\u001b[0m\u001b[1;33m[\u001b[0m\u001b[0mk\u001b[0m\u001b[1;33m]\u001b[0m \u001b[1;33m=\u001b[0m \u001b[0mclone\u001b[0m\u001b[1;33m(\u001b[0m\u001b[0mv\u001b[0m\u001b[1;33m,\u001b[0m \u001b[0msafe\u001b[0m\u001b[1;33m=\u001b[0m\u001b[1;32mFalse\u001b[0m\u001b[1;33m)\u001b[0m\u001b[1;33m\u001b[0m\u001b[1;33m\u001b[0m\u001b[0m\n\u001b[0;32m    585\u001b[0m \u001b[1;33m\u001b[0m\u001b[0m\n\u001b[1;32m--> 586\u001b[1;33m         \u001b[0mestimator\u001b[0m \u001b[1;33m=\u001b[0m \u001b[0mestimator\u001b[0m\u001b[1;33m.\u001b[0m\u001b[0mset_params\u001b[0m\u001b[1;33m(\u001b[0m\u001b[1;33m**\u001b[0m\u001b[0mcloned_parameters\u001b[0m\u001b[1;33m)\u001b[0m\u001b[1;33m\u001b[0m\u001b[1;33m\u001b[0m\u001b[0m\n\u001b[0m\u001b[0;32m    587\u001b[0m \u001b[1;33m\u001b[0m\u001b[0m\n\u001b[0;32m    588\u001b[0m     \u001b[0mstart_time\u001b[0m \u001b[1;33m=\u001b[0m \u001b[0mtime\u001b[0m\u001b[1;33m.\u001b[0m\u001b[0mtime\u001b[0m\u001b[1;33m(\u001b[0m\u001b[1;33m)\u001b[0m\u001b[1;33m\u001b[0m\u001b[1;33m\u001b[0m\u001b[0m\n",
      "\u001b[1;32m~\\Anaconda-Python\\lib\\site-packages\\sklearn\\pipeline.py\u001b[0m in \u001b[0;36mset_params\u001b[1;34m(self, **kwargs)\u001b[0m\n\u001b[0;32m    148\u001b[0m         \u001b[0mself\u001b[0m\u001b[1;33m\u001b[0m\u001b[1;33m\u001b[0m\u001b[0m\n\u001b[0;32m    149\u001b[0m         \"\"\"\n\u001b[1;32m--> 150\u001b[1;33m         \u001b[0mself\u001b[0m\u001b[1;33m.\u001b[0m\u001b[0m_set_params\u001b[0m\u001b[1;33m(\u001b[0m\u001b[1;34m'steps'\u001b[0m\u001b[1;33m,\u001b[0m \u001b[1;33m**\u001b[0m\u001b[0mkwargs\u001b[0m\u001b[1;33m)\u001b[0m\u001b[1;33m\u001b[0m\u001b[1;33m\u001b[0m\u001b[0m\n\u001b[0m\u001b[0;32m    151\u001b[0m         \u001b[1;32mreturn\u001b[0m \u001b[0mself\u001b[0m\u001b[1;33m\u001b[0m\u001b[1;33m\u001b[0m\u001b[0m\n\u001b[0;32m    152\u001b[0m \u001b[1;33m\u001b[0m\u001b[0m\n",
      "\u001b[1;32m~\\Anaconda-Python\\lib\\site-packages\\sklearn\\utils\\metaestimators.py\u001b[0m in \u001b[0;36m_set_params\u001b[1;34m(self, attr, **params)\u001b[0m\n\u001b[0;32m     52\u001b[0m                 \u001b[0mself\u001b[0m\u001b[1;33m.\u001b[0m\u001b[0m_replace_estimator\u001b[0m\u001b[1;33m(\u001b[0m\u001b[0mattr\u001b[0m\u001b[1;33m,\u001b[0m \u001b[0mname\u001b[0m\u001b[1;33m,\u001b[0m \u001b[0mparams\u001b[0m\u001b[1;33m.\u001b[0m\u001b[0mpop\u001b[0m\u001b[1;33m(\u001b[0m\u001b[0mname\u001b[0m\u001b[1;33m)\u001b[0m\u001b[1;33m)\u001b[0m\u001b[1;33m\u001b[0m\u001b[1;33m\u001b[0m\u001b[0m\n\u001b[0;32m     53\u001b[0m         \u001b[1;31m# 3. Step parameters and other initialisation arguments\u001b[0m\u001b[1;33m\u001b[0m\u001b[1;33m\u001b[0m\u001b[1;33m\u001b[0m\u001b[0m\n\u001b[1;32m---> 54\u001b[1;33m         \u001b[0msuper\u001b[0m\u001b[1;33m(\u001b[0m\u001b[1;33m)\u001b[0m\u001b[1;33m.\u001b[0m\u001b[0mset_params\u001b[0m\u001b[1;33m(\u001b[0m\u001b[1;33m**\u001b[0m\u001b[0mparams\u001b[0m\u001b[1;33m)\u001b[0m\u001b[1;33m\u001b[0m\u001b[1;33m\u001b[0m\u001b[0m\n\u001b[0m\u001b[0;32m     55\u001b[0m         \u001b[1;32mreturn\u001b[0m \u001b[0mself\u001b[0m\u001b[1;33m\u001b[0m\u001b[1;33m\u001b[0m\u001b[0m\n\u001b[0;32m     56\u001b[0m \u001b[1;33m\u001b[0m\u001b[0m\n",
      "\u001b[1;32m~\\Anaconda-Python\\lib\\site-packages\\sklearn\\base.py\u001b[0m in \u001b[0;36mset_params\u001b[1;34m(self, **params)\u001b[0m\n\u001b[0;32m    228\u001b[0m             \u001b[0mkey\u001b[0m\u001b[1;33m,\u001b[0m \u001b[0mdelim\u001b[0m\u001b[1;33m,\u001b[0m \u001b[0msub_key\u001b[0m \u001b[1;33m=\u001b[0m \u001b[0mkey\u001b[0m\u001b[1;33m.\u001b[0m\u001b[0mpartition\u001b[0m\u001b[1;33m(\u001b[0m\u001b[1;34m'__'\u001b[0m\u001b[1;33m)\u001b[0m\u001b[1;33m\u001b[0m\u001b[1;33m\u001b[0m\u001b[0m\n\u001b[0;32m    229\u001b[0m             \u001b[1;32mif\u001b[0m \u001b[0mkey\u001b[0m \u001b[1;32mnot\u001b[0m \u001b[1;32min\u001b[0m \u001b[0mvalid_params\u001b[0m\u001b[1;33m:\u001b[0m\u001b[1;33m\u001b[0m\u001b[1;33m\u001b[0m\u001b[0m\n\u001b[1;32m--> 230\u001b[1;33m                 raise ValueError('Invalid parameter %s for estimator %s. '\n\u001b[0m\u001b[0;32m    231\u001b[0m                                  \u001b[1;34m'Check the list of available parameters '\u001b[0m\u001b[1;33m\u001b[0m\u001b[1;33m\u001b[0m\u001b[0m\n\u001b[0;32m    232\u001b[0m                                  \u001b[1;34m'with `estimator.get_params().keys()`.'\u001b[0m \u001b[1;33m%\u001b[0m\u001b[1;33m\u001b[0m\u001b[1;33m\u001b[0m\u001b[0m\n",
      "\u001b[1;31mValueError\u001b[0m: Invalid parameter clf for estimator Pipeline(steps=[('preprocessor',\n                 ColumnTransformer(transformers=[('num_transformer',\n                                                  SimpleImputer(fill_value=-99,\n                                                                strategy='constant'),\n                                                  Index(['Patient_Age', 'Blood_Cell', 'Mother_Age', 'Father_Age',\n       'Previous_Abortions', 'White_Blood_Cell', 'Symptom_1', 'Symptom_2',\n       'Symptom_3', 'Symptom_4', 'Symptom_5'],\n      dtype='object')),\n                                                 ('cat_transformer',\n                                                  Pipeline(steps=[('im...\n                               learning_rate=0.300000012, max_delta_step=0,\n                               max_depth=6, min_child_weight=1, missing=nan,\n                               monotone_constraints='()', n_estimators=100,\n                               n_jobs=6, num_parallel_tree=1,\n                               objective='multi:softprob', predictor='auto',\n                               random_state=0, reg_alpha=0, reg_lambda=1,\n                               scale_pos_weight=None, subsample=1,\n                               tree_method='exact', use_label_encoder=False,\n                               validate_parameters=1, verbosity=None))]). Check the list of available parameters with `estimator.get_params().keys()`."
     ]
    }
   ],
   "source": [
    "randomized_roc_auc.fit(X, encoded_y)"
   ]
  },
  {
   "cell_type": "code",
   "execution_count": 90,
   "id": "dde3c84a",
   "metadata": {},
   "outputs": [
    {
     "ename": "NameError",
     "evalue": "name 'estimator' is not defined",
     "output_type": "error",
     "traceback": [
      "\u001b[1;31m---------------------------------------------------------------------------\u001b[0m",
      "\u001b[1;31mNameError\u001b[0m                                 Traceback (most recent call last)",
      "\u001b[1;32m~\\AppData\\Local\\Temp/ipykernel_2736/2616873292.py\u001b[0m in \u001b[0;36m<module>\u001b[1;34m\u001b[0m\n\u001b[1;32m----> 1\u001b[1;33m \u001b[0mestimator\u001b[0m\u001b[1;33m.\u001b[0m\u001b[0mget_params\u001b[0m\u001b[1;33m(\u001b[0m\u001b[1;33m)\u001b[0m\u001b[1;33m.\u001b[0m\u001b[0mkeys\u001b[0m\u001b[1;33m(\u001b[0m\u001b[1;33m)\u001b[0m\u001b[1;33m\u001b[0m\u001b[1;33m\u001b[0m\u001b[0m\n\u001b[0m",
      "\u001b[1;31mNameError\u001b[0m: name 'estimator' is not defined"
     ]
    }
   ],
   "source": [
    "estimator.get_params().keys()"
   ]
  },
  {
   "cell_type": "code",
   "execution_count": 68,
   "id": "b46245ef",
   "metadata": {},
   "outputs": [
    {
     "data": {
      "text/plain": [
       "array([nan, nan, nan])"
      ]
     },
     "execution_count": 68,
     "metadata": {},
     "output_type": "execute_result"
    }
   ],
   "source": [
    "cross_val_scores"
   ]
  },
  {
   "cell_type": "code",
   "execution_count": 20,
   "id": "e885af35",
   "metadata": {},
   "outputs": [],
   "source": [
    "y_pred = xgb_pipeline.predict(X_test)"
   ]
  },
  {
   "cell_type": "code",
   "execution_count": 21,
   "id": "82acbbc8",
   "metadata": {},
   "outputs": [
    {
     "data": {
      "text/plain": [
       "0.36505146874215416"
      ]
     },
     "execution_count": 21,
     "metadata": {},
     "output_type": "execute_result"
    }
   ],
   "source": [
    "acc = accuracy_score(y_test, y_pred)\n",
    "acc"
   ]
  },
  {
   "cell_type": "code",
   "execution_count": 65,
   "id": "689e2833",
   "metadata": {},
   "outputs": [
    {
     "data": {
      "text/plain": [
       "array(['Leigh syndrome', 'Mitochondrial myopathy', 'Cystic fibrosis', ...,\n",
       "       'Tay-Sachs', 'Diabetes', 'Cystic fibrosis'], dtype=object)"
      ]
     },
     "execution_count": 65,
     "metadata": {},
     "output_type": "execute_result"
    }
   ],
   "source": [
    "le.inverse_transform(y_pred)"
   ]
  },
  {
   "cell_type": "code",
   "execution_count": null,
   "id": "58f04f45",
   "metadata": {},
   "outputs": [],
   "source": []
  },
  {
   "cell_type": "code",
   "execution_count": null,
   "id": "15b31ed8",
   "metadata": {},
   "outputs": [],
   "source": []
  },
  {
   "cell_type": "code",
   "execution_count": null,
   "id": "65d36760",
   "metadata": {},
   "outputs": [],
   "source": []
  },
  {
   "cell_type": "code",
   "execution_count": null,
   "id": "69974e37",
   "metadata": {},
   "outputs": [],
   "source": []
  },
  {
   "cell_type": "code",
   "execution_count": null,
   "id": "ff7bc807",
   "metadata": {},
   "outputs": [],
   "source": []
  },
  {
   "cell_type": "code",
   "execution_count": null,
   "id": "3c655d5a",
   "metadata": {},
   "outputs": [],
   "source": []
  },
  {
   "cell_type": "code",
   "execution_count": 29,
   "id": "b25f2eee",
   "metadata": {},
   "outputs": [],
   "source": [
    "dmatrix = xgb.DMatrix(data=X_pre, label=encoded_y)"
   ]
  },
  {
   "cell_type": "code",
   "execution_count": 30,
   "id": "6b76f221",
   "metadata": {},
   "outputs": [
    {
     "ename": "ValueError",
     "evalue": "tree must be Booster, XGBModel or dict instance",
     "output_type": "error",
     "traceback": [
      "\u001b[1;31m---------------------------------------------------------------------------\u001b[0m",
      "\u001b[1;31mValueError\u001b[0m                                Traceback (most recent call last)",
      "\u001b[1;32m~\\AppData\\Local\\Temp/ipykernel_2736/444942741.py\u001b[0m in \u001b[0;36m<module>\u001b[1;34m\u001b[0m\n\u001b[1;32m----> 1\u001b[1;33m \u001b[0mxgb\u001b[0m\u001b[1;33m.\u001b[0m\u001b[0mplot_importance\u001b[0m\u001b[1;33m(\u001b[0m\u001b[0mmodel_pipeline\u001b[0m\u001b[1;33m)\u001b[0m\u001b[1;33m\u001b[0m\u001b[1;33m\u001b[0m\u001b[0m\n\u001b[0m",
      "\u001b[1;32m~\\Anaconda-Python\\lib\\site-packages\\xgboost\\plotting.py\u001b[0m in \u001b[0;36mplot_importance\u001b[1;34m(booster, ax, height, xlim, ylim, title, xlabel, ylabel, fmap, importance_type, max_num_features, grid, show_values, **kwargs)\u001b[0m\n\u001b[0;32m     69\u001b[0m         \u001b[0mimportance\u001b[0m \u001b[1;33m=\u001b[0m \u001b[0mbooster\u001b[0m\u001b[1;33m\u001b[0m\u001b[1;33m\u001b[0m\u001b[0m\n\u001b[0;32m     70\u001b[0m     \u001b[1;32melse\u001b[0m\u001b[1;33m:\u001b[0m\u001b[1;33m\u001b[0m\u001b[1;33m\u001b[0m\u001b[0m\n\u001b[1;32m---> 71\u001b[1;33m         \u001b[1;32mraise\u001b[0m \u001b[0mValueError\u001b[0m\u001b[1;33m(\u001b[0m\u001b[1;34m'tree must be Booster, XGBModel or dict instance'\u001b[0m\u001b[1;33m)\u001b[0m\u001b[1;33m\u001b[0m\u001b[1;33m\u001b[0m\u001b[0m\n\u001b[0m\u001b[0;32m     72\u001b[0m \u001b[1;33m\u001b[0m\u001b[0m\n\u001b[0;32m     73\u001b[0m     \u001b[1;32mif\u001b[0m \u001b[1;32mnot\u001b[0m \u001b[0mimportance\u001b[0m\u001b[1;33m:\u001b[0m\u001b[1;33m\u001b[0m\u001b[1;33m\u001b[0m\u001b[0m\n",
      "\u001b[1;31mValueError\u001b[0m: tree must be Booster, XGBModel or dict instance"
     ]
    }
   ],
   "source": [
    "\n",
    "xgb.plot_importance(model_pipeline)"
   ]
  },
  {
   "cell_type": "code",
   "execution_count": 32,
   "id": "635b5721",
   "metadata": {},
   "outputs": [
    {
     "name": "stdout",
     "output_type": "stream",
     "text": [
      "<xgboost.core.DMatrix object at 0x000001D524524BE0>\n"
     ]
    }
   ],
   "source": [
    "print(dmatrix)"
   ]
  },
  {
   "cell_type": "code",
   "execution_count": null,
   "id": "1324921f",
   "metadata": {},
   "outputs": [],
   "source": [
    "sudo apt-get install graphviz"
   ]
  }
 ],
 "metadata": {
  "kernelspec": {
   "display_name": "Python 3 (ipykernel)",
   "language": "python",
   "name": "python3"
  },
  "language_info": {
   "codemirror_mode": {
    "name": "ipython",
    "version": 3
   },
   "file_extension": ".py",
   "mimetype": "text/x-python",
   "name": "python",
   "nbconvert_exporter": "python",
   "pygments_lexer": "ipython3",
   "version": "3.8.8"
  }
 },
 "nbformat": 4,
 "nbformat_minor": 5
}
