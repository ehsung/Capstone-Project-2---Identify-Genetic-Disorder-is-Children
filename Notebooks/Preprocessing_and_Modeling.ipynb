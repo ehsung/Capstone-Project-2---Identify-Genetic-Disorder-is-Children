{
 "cells": [
  {
   "cell_type": "markdown",
   "id": "0063b215",
   "metadata": {},
   "source": [
    "### Packages"
   ]
  },
  {
   "cell_type": "code",
   "execution_count": 1,
   "id": "561263c0",
   "metadata": {},
   "outputs": [],
   "source": [
    "import pandas as pd\n",
    "import numpy as np\n",
    "import matplotlib.pyplot as plt\n",
    "import seaborn as sns\n",
    "import missingno as msno\n",
    "from sklearn.preprocessing import LabelEncoder, OneHotEncoder, OrdinalEncoder\n",
    "from sklearn.metrics import mean_absolute_error, accuracy_score, classification_report, confusion_matrix\n",
    "from sklearn.compose import ColumnTransformer\n",
    "from sklearn.pipeline import Pipeline\n",
    "from sklearn.impute import SimpleImputer\n",
    "from sklearn.model_selection import train_test_split, cross_val_score, RandomizedSearchCV, GridSearchCV, learning_curve\n",
    "from sklearn.feature_extraction import DictVectorizer\n",
    "from sklearn.utils.class_weight import compute_sample_weight\n",
    "\n",
    "\n",
    "import xgboost as xgb\n",
    "from sklearn.ensemble import RandomForestClassifier, GradientBoostingClassifier\n",
    "\n",
    "import warnings\n",
    "warnings.filterwarnings('ignore')"
   ]
  },
  {
   "cell_type": "markdown",
   "id": "f76606b6",
   "metadata": {},
   "source": [
    "### Load Cleaned Data Set"
   ]
  },
  {
   "cell_type": "code",
   "execution_count": 2,
   "id": "9df3d7c8",
   "metadata": {},
   "outputs": [],
   "source": [
    "train_data = pd.read_csv(\"..\\\\Data\\\\train_data_EDA_processed.csv\", index_col=0)"
   ]
  },
  {
   "cell_type": "code",
   "execution_count": 3,
   "id": "d4a905ad",
   "metadata": {},
   "outputs": [
    {
     "data": {
      "text/html": [
       "<div>\n",
       "<style scoped>\n",
       "    .dataframe tbody tr th:only-of-type {\n",
       "        vertical-align: middle;\n",
       "    }\n",
       "\n",
       "    .dataframe tbody tr th {\n",
       "        vertical-align: top;\n",
       "    }\n",
       "\n",
       "    .dataframe thead th {\n",
       "        text-align: right;\n",
       "    }\n",
       "</style>\n",
       "<table border=\"1\" class=\"dataframe\">\n",
       "  <thead>\n",
       "    <tr style=\"text-align: right;\">\n",
       "      <th></th>\n",
       "      <th>0</th>\n",
       "      <th>1</th>\n",
       "      <th>2</th>\n",
       "      <th>3</th>\n",
       "      <th>4</th>\n",
       "      <th>5</th>\n",
       "      <th>6</th>\n",
       "      <th>7</th>\n",
       "      <th>8</th>\n",
       "      <th>9</th>\n",
       "      <th>...</th>\n",
       "      <th>22073</th>\n",
       "      <th>22074</th>\n",
       "      <th>22075</th>\n",
       "      <th>22076</th>\n",
       "      <th>22077</th>\n",
       "      <th>22078</th>\n",
       "      <th>22079</th>\n",
       "      <th>22080</th>\n",
       "      <th>22081</th>\n",
       "      <th>22082</th>\n",
       "    </tr>\n",
       "  </thead>\n",
       "  <tbody>\n",
       "    <tr>\n",
       "      <th>Patient_Age</th>\n",
       "      <td>2.0</td>\n",
       "      <td>4.0</td>\n",
       "      <td>6.0</td>\n",
       "      <td>12.0</td>\n",
       "      <td>11.0</td>\n",
       "      <td>14.0</td>\n",
       "      <td>3.0</td>\n",
       "      <td>3.0</td>\n",
       "      <td>11.0</td>\n",
       "      <td>4.0</td>\n",
       "      <td>...</td>\n",
       "      <td>13.0</td>\n",
       "      <td>4.0</td>\n",
       "      <td>10.0</td>\n",
       "      <td>0.0</td>\n",
       "      <td>9.0</td>\n",
       "      <td>4.0</td>\n",
       "      <td>8.0</td>\n",
       "      <td>8.0</td>\n",
       "      <td>7.0</td>\n",
       "      <td>11.0</td>\n",
       "    </tr>\n",
       "    <tr>\n",
       "      <th>Mother_Gene</th>\n",
       "      <td>Yes</td>\n",
       "      <td>Yes</td>\n",
       "      <td>Yes</td>\n",
       "      <td>Yes</td>\n",
       "      <td>Yes</td>\n",
       "      <td>Yes</td>\n",
       "      <td>Yes</td>\n",
       "      <td>No</td>\n",
       "      <td>No</td>\n",
       "      <td>No</td>\n",
       "      <td>...</td>\n",
       "      <td>Yes</td>\n",
       "      <td>No</td>\n",
       "      <td>No</td>\n",
       "      <td>Yes</td>\n",
       "      <td>No</td>\n",
       "      <td>Yes</td>\n",
       "      <td>No</td>\n",
       "      <td>Yes</td>\n",
       "      <td>Yes</td>\n",
       "      <td>Yes</td>\n",
       "    </tr>\n",
       "    <tr>\n",
       "      <th>Father_Gene</th>\n",
       "      <td>No</td>\n",
       "      <td>Yes</td>\n",
       "      <td>No</td>\n",
       "      <td>No</td>\n",
       "      <td>No</td>\n",
       "      <td>No</td>\n",
       "      <td>No</td>\n",
       "      <td>No</td>\n",
       "      <td>No</td>\n",
       "      <td>Yes</td>\n",
       "      <td>...</td>\n",
       "      <td>Yes</td>\n",
       "      <td>No</td>\n",
       "      <td>No</td>\n",
       "      <td>No</td>\n",
       "      <td>Yes</td>\n",
       "      <td>Yes</td>\n",
       "      <td>Yes</td>\n",
       "      <td>No</td>\n",
       "      <td>No</td>\n",
       "      <td>No</td>\n",
       "    </tr>\n",
       "    <tr>\n",
       "      <th>Maternal_Gene</th>\n",
       "      <td>Yes</td>\n",
       "      <td>No</td>\n",
       "      <td>No</td>\n",
       "      <td>Yes</td>\n",
       "      <td>NaN</td>\n",
       "      <td>Yes</td>\n",
       "      <td>Yes</td>\n",
       "      <td>Yes</td>\n",
       "      <td>Yes</td>\n",
       "      <td>Yes</td>\n",
       "      <td>...</td>\n",
       "      <td>No</td>\n",
       "      <td>NaN</td>\n",
       "      <td>Yes</td>\n",
       "      <td>Yes</td>\n",
       "      <td>Yes</td>\n",
       "      <td>Yes</td>\n",
       "      <td>No</td>\n",
       "      <td>Yes</td>\n",
       "      <td>Yes</td>\n",
       "      <td>No</td>\n",
       "    </tr>\n",
       "    <tr>\n",
       "      <th>Paternal_Gene</th>\n",
       "      <td>No</td>\n",
       "      <td>No</td>\n",
       "      <td>No</td>\n",
       "      <td>No</td>\n",
       "      <td>Yes</td>\n",
       "      <td>No</td>\n",
       "      <td>Yes</td>\n",
       "      <td>Yes</td>\n",
       "      <td>No</td>\n",
       "      <td>Yes</td>\n",
       "      <td>...</td>\n",
       "      <td>Yes</td>\n",
       "      <td>No</td>\n",
       "      <td>Yes</td>\n",
       "      <td>No</td>\n",
       "      <td>Yes</td>\n",
       "      <td>No</td>\n",
       "      <td>Yes</td>\n",
       "      <td>No</td>\n",
       "      <td>Yes</td>\n",
       "      <td>No</td>\n",
       "    </tr>\n",
       "    <tr>\n",
       "      <th>Blood_Cell</th>\n",
       "      <td>4.760603</td>\n",
       "      <td>4.910669</td>\n",
       "      <td>4.893297</td>\n",
       "      <td>4.70528</td>\n",
       "      <td>4.720703</td>\n",
       "      <td>5.103188</td>\n",
       "      <td>4.90108</td>\n",
       "      <td>4.964816</td>\n",
       "      <td>5.209058</td>\n",
       "      <td>4.752272</td>\n",
       "      <td>...</td>\n",
       "      <td>4.874635</td>\n",
       "      <td>4.789307</td>\n",
       "      <td>4.64386</td>\n",
       "      <td>4.931758</td>\n",
       "      <td>5.012599</td>\n",
       "      <td>5.258298</td>\n",
       "      <td>4.97422</td>\n",
       "      <td>5.18647</td>\n",
       "      <td>4.858543</td>\n",
       "      <td>4.738067</td>\n",
       "    </tr>\n",
       "    <tr>\n",
       "      <th>Mother_Age</th>\n",
       "      <td>NaN</td>\n",
       "      <td>NaN</td>\n",
       "      <td>41.0</td>\n",
       "      <td>21.0</td>\n",
       "      <td>32.0</td>\n",
       "      <td>NaN</td>\n",
       "      <td>NaN</td>\n",
       "      <td>40.0</td>\n",
       "      <td>45.0</td>\n",
       "      <td>44.0</td>\n",
       "      <td>...</td>\n",
       "      <td>44.0</td>\n",
       "      <td>35.0</td>\n",
       "      <td>49.0</td>\n",
       "      <td>NaN</td>\n",
       "      <td>47.0</td>\n",
       "      <td>35.0</td>\n",
       "      <td>NaN</td>\n",
       "      <td>35.0</td>\n",
       "      <td>19.0</td>\n",
       "      <td>32.0</td>\n",
       "    </tr>\n",
       "    <tr>\n",
       "      <th>Father_Age</th>\n",
       "      <td>NaN</td>\n",
       "      <td>23.0</td>\n",
       "      <td>22.0</td>\n",
       "      <td>NaN</td>\n",
       "      <td>NaN</td>\n",
       "      <td>NaN</td>\n",
       "      <td>63.0</td>\n",
       "      <td>NaN</td>\n",
       "      <td>44.0</td>\n",
       "      <td>42.0</td>\n",
       "      <td>...</td>\n",
       "      <td>62.0</td>\n",
       "      <td>51.0</td>\n",
       "      <td>NaN</td>\n",
       "      <td>50.0</td>\n",
       "      <td>NaN</td>\n",
       "      <td>64.0</td>\n",
       "      <td>56.0</td>\n",
       "      <td>51.0</td>\n",
       "      <td>NaN</td>\n",
       "      <td>62.0</td>\n",
       "    </tr>\n",
       "    <tr>\n",
       "      <th>Status</th>\n",
       "      <td>Alive</td>\n",
       "      <td>Deceased</td>\n",
       "      <td>Alive</td>\n",
       "      <td>Deceased</td>\n",
       "      <td>Alive</td>\n",
       "      <td>Deceased</td>\n",
       "      <td>Alive</td>\n",
       "      <td>Alive</td>\n",
       "      <td>Alive</td>\n",
       "      <td>Alive</td>\n",
       "      <td>...</td>\n",
       "      <td>Alive</td>\n",
       "      <td>Alive</td>\n",
       "      <td>Deceased</td>\n",
       "      <td>Alive</td>\n",
       "      <td>Deceased</td>\n",
       "      <td>Deceased</td>\n",
       "      <td>Alive</td>\n",
       "      <td>Deceased</td>\n",
       "      <td>Alive</td>\n",
       "      <td>Deceased</td>\n",
       "    </tr>\n",
       "    <tr>\n",
       "      <th>Respiratory_Rate</th>\n",
       "      <td>Normal (30-60)</td>\n",
       "      <td>Tachypnea</td>\n",
       "      <td>Normal (30-60)</td>\n",
       "      <td>Tachypnea</td>\n",
       "      <td>Tachypnea</td>\n",
       "      <td>NaN</td>\n",
       "      <td>Normal (30-60)</td>\n",
       "      <td>Tachypnea</td>\n",
       "      <td>Tachypnea</td>\n",
       "      <td>Tachypnea</td>\n",
       "      <td>...</td>\n",
       "      <td>Tachypnea</td>\n",
       "      <td>Tachypnea</td>\n",
       "      <td>NaN</td>\n",
       "      <td>Normal (30-60)</td>\n",
       "      <td>NaN</td>\n",
       "      <td>Normal (30-60)</td>\n",
       "      <td>Normal (30-60)</td>\n",
       "      <td>Tachypnea</td>\n",
       "      <td>Tachypnea</td>\n",
       "      <td>Normal (30-60)</td>\n",
       "    </tr>\n",
       "    <tr>\n",
       "      <th>Heart_Rate</th>\n",
       "      <td>Normal</td>\n",
       "      <td>Normal</td>\n",
       "      <td>Tachycardia</td>\n",
       "      <td>Normal</td>\n",
       "      <td>Tachycardia</td>\n",
       "      <td>Normal</td>\n",
       "      <td>NaN</td>\n",
       "      <td>Normal</td>\n",
       "      <td>Tachycardia</td>\n",
       "      <td>Tachycardia</td>\n",
       "      <td>...</td>\n",
       "      <td>Tachycardia</td>\n",
       "      <td>Normal</td>\n",
       "      <td>Normal</td>\n",
       "      <td>Tachycardia</td>\n",
       "      <td>Normal</td>\n",
       "      <td>Tachycardia</td>\n",
       "      <td>Normal</td>\n",
       "      <td>Normal</td>\n",
       "      <td>Tachycardia</td>\n",
       "      <td>Normal</td>\n",
       "    </tr>\n",
       "    <tr>\n",
       "      <th>Follow_Up</th>\n",
       "      <td>High</td>\n",
       "      <td>High</td>\n",
       "      <td>Low</td>\n",
       "      <td>High</td>\n",
       "      <td>Low</td>\n",
       "      <td>Low</td>\n",
       "      <td>Low</td>\n",
       "      <td>Low</td>\n",
       "      <td>Low</td>\n",
       "      <td>Low</td>\n",
       "      <td>...</td>\n",
       "      <td>NaN</td>\n",
       "      <td>Low</td>\n",
       "      <td>Low</td>\n",
       "      <td>Low</td>\n",
       "      <td>NaN</td>\n",
       "      <td>High</td>\n",
       "      <td>High</td>\n",
       "      <td>High</td>\n",
       "      <td>High</td>\n",
       "      <td>High</td>\n",
       "    </tr>\n",
       "    <tr>\n",
       "      <th>Gender</th>\n",
       "      <td>NaN</td>\n",
       "      <td>NaN</td>\n",
       "      <td>NaN</td>\n",
       "      <td>Male</td>\n",
       "      <td>Male</td>\n",
       "      <td>Female</td>\n",
       "      <td>Male</td>\n",
       "      <td>NaN</td>\n",
       "      <td>Male</td>\n",
       "      <td>Male</td>\n",
       "      <td>...</td>\n",
       "      <td>NaN</td>\n",
       "      <td>Male</td>\n",
       "      <td>NaN</td>\n",
       "      <td>Female</td>\n",
       "      <td>NaN</td>\n",
       "      <td>Female</td>\n",
       "      <td>NaN</td>\n",
       "      <td>Male</td>\n",
       "      <td>Male</td>\n",
       "      <td>Female</td>\n",
       "    </tr>\n",
       "    <tr>\n",
       "      <th>Birth_Asphyxia</th>\n",
       "      <td>NaN</td>\n",
       "      <td>No</td>\n",
       "      <td>NaN</td>\n",
       "      <td>NaN</td>\n",
       "      <td>NaN</td>\n",
       "      <td>NaN</td>\n",
       "      <td>NaN</td>\n",
       "      <td>NaN</td>\n",
       "      <td>Yes</td>\n",
       "      <td>No</td>\n",
       "      <td>...</td>\n",
       "      <td>NaN</td>\n",
       "      <td>Yes</td>\n",
       "      <td>No</td>\n",
       "      <td>NaN</td>\n",
       "      <td>NaN</td>\n",
       "      <td>No</td>\n",
       "      <td>No</td>\n",
       "      <td>No</td>\n",
       "      <td>NaN</td>\n",
       "      <td>Yes</td>\n",
       "    </tr>\n",
       "    <tr>\n",
       "      <th>Autopsy_Birth_Defect</th>\n",
       "      <td>NaN</td>\n",
       "      <td>No</td>\n",
       "      <td>NaN</td>\n",
       "      <td>No</td>\n",
       "      <td>NaN</td>\n",
       "      <td>No</td>\n",
       "      <td>NaN</td>\n",
       "      <td>NaN</td>\n",
       "      <td>NaN</td>\n",
       "      <td>NaN</td>\n",
       "      <td>...</td>\n",
       "      <td>NaN</td>\n",
       "      <td>NaN</td>\n",
       "      <td>Yes</td>\n",
       "      <td>NaN</td>\n",
       "      <td>Yes</td>\n",
       "      <td>No</td>\n",
       "      <td>NaN</td>\n",
       "      <td>No</td>\n",
       "      <td>NaN</td>\n",
       "      <td>No</td>\n",
       "    </tr>\n",
       "    <tr>\n",
       "      <th>Birth_Place</th>\n",
       "      <td>Institute</td>\n",
       "      <td>NaN</td>\n",
       "      <td>NaN</td>\n",
       "      <td>Institute</td>\n",
       "      <td>Institute</td>\n",
       "      <td>Institute</td>\n",
       "      <td>Home</td>\n",
       "      <td>Home</td>\n",
       "      <td>Institute</td>\n",
       "      <td>Institute</td>\n",
       "      <td>...</td>\n",
       "      <td>Home</td>\n",
       "      <td>Institute</td>\n",
       "      <td>Home</td>\n",
       "      <td>Institute</td>\n",
       "      <td>Home</td>\n",
       "      <td>Institute</td>\n",
       "      <td>Institute</td>\n",
       "      <td>Home</td>\n",
       "      <td>Home</td>\n",
       "      <td>Institute</td>\n",
       "    </tr>\n",
       "    <tr>\n",
       "      <th>Folic_Acid_Details</th>\n",
       "      <td>No</td>\n",
       "      <td>Yes</td>\n",
       "      <td>Yes</td>\n",
       "      <td>No</td>\n",
       "      <td>No</td>\n",
       "      <td>No</td>\n",
       "      <td>NaN</td>\n",
       "      <td>Yes</td>\n",
       "      <td>Yes</td>\n",
       "      <td>Yes</td>\n",
       "      <td>...</td>\n",
       "      <td>No</td>\n",
       "      <td>No</td>\n",
       "      <td>No</td>\n",
       "      <td>No</td>\n",
       "      <td>Yes</td>\n",
       "      <td>NaN</td>\n",
       "      <td>Yes</td>\n",
       "      <td>No</td>\n",
       "      <td>Yes</td>\n",
       "      <td>Yes</td>\n",
       "    </tr>\n",
       "    <tr>\n",
       "      <th>Maternal_Illness</th>\n",
       "      <td>NaN</td>\n",
       "      <td>Yes</td>\n",
       "      <td>No</td>\n",
       "      <td>Yes</td>\n",
       "      <td>Yes</td>\n",
       "      <td>No</td>\n",
       "      <td>Yes</td>\n",
       "      <td>Yes</td>\n",
       "      <td>Yes</td>\n",
       "      <td>No</td>\n",
       "      <td>...</td>\n",
       "      <td>NaN</td>\n",
       "      <td>No</td>\n",
       "      <td>NaN</td>\n",
       "      <td>No</td>\n",
       "      <td>No</td>\n",
       "      <td>No</td>\n",
       "      <td>Yes</td>\n",
       "      <td>No</td>\n",
       "      <td>Yes</td>\n",
       "      <td>Yes</td>\n",
       "    </tr>\n",
       "    <tr>\n",
       "      <th>Radiation_Exposure</th>\n",
       "      <td>No</td>\n",
       "      <td>NaN</td>\n",
       "      <td>Yes</td>\n",
       "      <td>NaN</td>\n",
       "      <td>NaN</td>\n",
       "      <td>No</td>\n",
       "      <td>No</td>\n",
       "      <td>No</td>\n",
       "      <td>No</td>\n",
       "      <td>No</td>\n",
       "      <td>...</td>\n",
       "      <td>No</td>\n",
       "      <td>NaN</td>\n",
       "      <td>NaN</td>\n",
       "      <td>NaN</td>\n",
       "      <td>No</td>\n",
       "      <td>NaN</td>\n",
       "      <td>No</td>\n",
       "      <td>NaN</td>\n",
       "      <td>NaN</td>\n",
       "      <td>NaN</td>\n",
       "    </tr>\n",
       "    <tr>\n",
       "      <th>Substance_Abuse</th>\n",
       "      <td>No</td>\n",
       "      <td>NaN</td>\n",
       "      <td>NaN</td>\n",
       "      <td>NaN</td>\n",
       "      <td>NaN</td>\n",
       "      <td>No</td>\n",
       "      <td>NaN</td>\n",
       "      <td>NaN</td>\n",
       "      <td>No</td>\n",
       "      <td>No</td>\n",
       "      <td>...</td>\n",
       "      <td>No</td>\n",
       "      <td>No</td>\n",
       "      <td>NaN</td>\n",
       "      <td>No</td>\n",
       "      <td>NaN</td>\n",
       "      <td>No</td>\n",
       "      <td>NaN</td>\n",
       "      <td>No</td>\n",
       "      <td>Yes</td>\n",
       "      <td>No</td>\n",
       "    </tr>\n",
       "    <tr>\n",
       "      <th>Assisted_Conception</th>\n",
       "      <td>No</td>\n",
       "      <td>No</td>\n",
       "      <td>Yes</td>\n",
       "      <td>NaN</td>\n",
       "      <td>Yes</td>\n",
       "      <td>NaN</td>\n",
       "      <td>Yes</td>\n",
       "      <td>No</td>\n",
       "      <td>No</td>\n",
       "      <td>Yes</td>\n",
       "      <td>...</td>\n",
       "      <td>Yes</td>\n",
       "      <td>No</td>\n",
       "      <td>Yes</td>\n",
       "      <td>Yes</td>\n",
       "      <td>Yes</td>\n",
       "      <td>Yes</td>\n",
       "      <td>Yes</td>\n",
       "      <td>No</td>\n",
       "      <td>Yes</td>\n",
       "      <td>Yes</td>\n",
       "    </tr>\n",
       "    <tr>\n",
       "      <th>History_Pregnancies</th>\n",
       "      <td>Yes</td>\n",
       "      <td>Yes</td>\n",
       "      <td>Yes</td>\n",
       "      <td>Yes</td>\n",
       "      <td>No</td>\n",
       "      <td>No</td>\n",
       "      <td>No</td>\n",
       "      <td>Yes</td>\n",
       "      <td>Yes</td>\n",
       "      <td>Yes</td>\n",
       "      <td>...</td>\n",
       "      <td>No</td>\n",
       "      <td>No</td>\n",
       "      <td>Yes</td>\n",
       "      <td>Yes</td>\n",
       "      <td>Yes</td>\n",
       "      <td>No</td>\n",
       "      <td>No</td>\n",
       "      <td>No</td>\n",
       "      <td>No</td>\n",
       "      <td>Yes</td>\n",
       "    </tr>\n",
       "    <tr>\n",
       "      <th>Previous_Abortions</th>\n",
       "      <td>NaN</td>\n",
       "      <td>NaN</td>\n",
       "      <td>4.0</td>\n",
       "      <td>1.0</td>\n",
       "      <td>4.0</td>\n",
       "      <td>0.0</td>\n",
       "      <td>3.0</td>\n",
       "      <td>1.0</td>\n",
       "      <td>0.0</td>\n",
       "      <td>1.0</td>\n",
       "      <td>...</td>\n",
       "      <td>1.0</td>\n",
       "      <td>3.0</td>\n",
       "      <td>2.0</td>\n",
       "      <td>1.0</td>\n",
       "      <td>NaN</td>\n",
       "      <td>3.0</td>\n",
       "      <td>2.0</td>\n",
       "      <td>2.0</td>\n",
       "      <td>1.0</td>\n",
       "      <td>4.0</td>\n",
       "    </tr>\n",
       "    <tr>\n",
       "      <th>Birth_Defects</th>\n",
       "      <td>NaN</td>\n",
       "      <td>Multiple</td>\n",
       "      <td>Singular</td>\n",
       "      <td>Singular</td>\n",
       "      <td>Multiple</td>\n",
       "      <td>Multiple</td>\n",
       "      <td>Multiple</td>\n",
       "      <td>Singular</td>\n",
       "      <td>Multiple</td>\n",
       "      <td>Multiple</td>\n",
       "      <td>...</td>\n",
       "      <td>NaN</td>\n",
       "      <td>Multiple</td>\n",
       "      <td>Multiple</td>\n",
       "      <td>Singular</td>\n",
       "      <td>NaN</td>\n",
       "      <td>Multiple</td>\n",
       "      <td>Multiple</td>\n",
       "      <td>Singular</td>\n",
       "      <td>Multiple</td>\n",
       "      <td>Singular</td>\n",
       "    </tr>\n",
       "    <tr>\n",
       "      <th>White_Blood_Cell</th>\n",
       "      <td>9.857562</td>\n",
       "      <td>5.52256</td>\n",
       "      <td>NaN</td>\n",
       "      <td>7.919321</td>\n",
       "      <td>4.09821</td>\n",
       "      <td>10.27223</td>\n",
       "      <td>6.825974</td>\n",
       "      <td>9.836352</td>\n",
       "      <td>6.669552</td>\n",
       "      <td>6.397702</td>\n",
       "      <td>...</td>\n",
       "      <td>NaN</td>\n",
       "      <td>NaN</td>\n",
       "      <td>9.581455</td>\n",
       "      <td>11.649052</td>\n",
       "      <td>12.0</td>\n",
       "      <td>6.584811</td>\n",
       "      <td>7.041556</td>\n",
       "      <td>7.715464</td>\n",
       "      <td>8.43767</td>\n",
       "      <td>11.188371</td>\n",
       "    </tr>\n",
       "    <tr>\n",
       "      <th>Blood_Test</th>\n",
       "      <td>NaN</td>\n",
       "      <td>normal</td>\n",
       "      <td>normal</td>\n",
       "      <td>NaN</td>\n",
       "      <td>NaN</td>\n",
       "      <td>normal</td>\n",
       "      <td>normal</td>\n",
       "      <td>NaN</td>\n",
       "      <td>slightly abnormal</td>\n",
       "      <td>abnormal</td>\n",
       "      <td>...</td>\n",
       "      <td>normal</td>\n",
       "      <td>normal</td>\n",
       "      <td>abnormal</td>\n",
       "      <td>abnormal</td>\n",
       "      <td>slightly abnormal</td>\n",
       "      <td>NaN</td>\n",
       "      <td>NaN</td>\n",
       "      <td>normal</td>\n",
       "      <td>abnormal</td>\n",
       "      <td>normal</td>\n",
       "    </tr>\n",
       "    <tr>\n",
       "      <th>Symptom_1</th>\n",
       "      <td>1.0</td>\n",
       "      <td>1.0</td>\n",
       "      <td>0.0</td>\n",
       "      <td>0.0</td>\n",
       "      <td>0.0</td>\n",
       "      <td>1.0</td>\n",
       "      <td>0.0</td>\n",
       "      <td>0.0</td>\n",
       "      <td>1.0</td>\n",
       "      <td>0.0</td>\n",
       "      <td>...</td>\n",
       "      <td>0.0</td>\n",
       "      <td>0.0</td>\n",
       "      <td>1.0</td>\n",
       "      <td>1.0</td>\n",
       "      <td>NaN</td>\n",
       "      <td>0.0</td>\n",
       "      <td>1.0</td>\n",
       "      <td>0.0</td>\n",
       "      <td>1.0</td>\n",
       "      <td>1.0</td>\n",
       "    </tr>\n",
       "    <tr>\n",
       "      <th>Symptom_2</th>\n",
       "      <td>1.0</td>\n",
       "      <td>NaN</td>\n",
       "      <td>1.0</td>\n",
       "      <td>0.0</td>\n",
       "      <td>0.0</td>\n",
       "      <td>0.0</td>\n",
       "      <td>0.0</td>\n",
       "      <td>0.0</td>\n",
       "      <td>1.0</td>\n",
       "      <td>0.0</td>\n",
       "      <td>...</td>\n",
       "      <td>0.0</td>\n",
       "      <td>0.0</td>\n",
       "      <td>0.0</td>\n",
       "      <td>1.0</td>\n",
       "      <td>1.0</td>\n",
       "      <td>0.0</td>\n",
       "      <td>1.0</td>\n",
       "      <td>0.0</td>\n",
       "      <td>1.0</td>\n",
       "      <td>0.0</td>\n",
       "    </tr>\n",
       "    <tr>\n",
       "      <th>Symptom_3</th>\n",
       "      <td>1.0</td>\n",
       "      <td>1.0</td>\n",
       "      <td>1.0</td>\n",
       "      <td>1.0</td>\n",
       "      <td>0.0</td>\n",
       "      <td>0.0</td>\n",
       "      <td>0.0</td>\n",
       "      <td>1.0</td>\n",
       "      <td>1.0</td>\n",
       "      <td>1.0</td>\n",
       "      <td>...</td>\n",
       "      <td>0.0</td>\n",
       "      <td>1.0</td>\n",
       "      <td>0.0</td>\n",
       "      <td>0.0</td>\n",
       "      <td>0.0</td>\n",
       "      <td>1.0</td>\n",
       "      <td>1.0</td>\n",
       "      <td>0.0</td>\n",
       "      <td>1.0</td>\n",
       "      <td>1.0</td>\n",
       "    </tr>\n",
       "    <tr>\n",
       "      <th>Symptom_4</th>\n",
       "      <td>1.0</td>\n",
       "      <td>1.0</td>\n",
       "      <td>1.0</td>\n",
       "      <td>0.0</td>\n",
       "      <td>0.0</td>\n",
       "      <td>1.0</td>\n",
       "      <td>0.0</td>\n",
       "      <td>NaN</td>\n",
       "      <td>0.0</td>\n",
       "      <td>1.0</td>\n",
       "      <td>...</td>\n",
       "      <td>1.0</td>\n",
       "      <td>0.0</td>\n",
       "      <td>0.0</td>\n",
       "      <td>1.0</td>\n",
       "      <td>0.0</td>\n",
       "      <td>0.0</td>\n",
       "      <td>1.0</td>\n",
       "      <td>1.0</td>\n",
       "      <td>0.0</td>\n",
       "      <td>1.0</td>\n",
       "    </tr>\n",
       "    <tr>\n",
       "      <th>Symptom_5</th>\n",
       "      <td>1.0</td>\n",
       "      <td>0.0</td>\n",
       "      <td>1.0</td>\n",
       "      <td>0.0</td>\n",
       "      <td>NaN</td>\n",
       "      <td>0.0</td>\n",
       "      <td>0.0</td>\n",
       "      <td>0.0</td>\n",
       "      <td>1.0</td>\n",
       "      <td>1.0</td>\n",
       "      <td>...</td>\n",
       "      <td>1.0</td>\n",
       "      <td>0.0</td>\n",
       "      <td>NaN</td>\n",
       "      <td>0.0</td>\n",
       "      <td>0.0</td>\n",
       "      <td>0.0</td>\n",
       "      <td>0.0</td>\n",
       "      <td>NaN</td>\n",
       "      <td>0.0</td>\n",
       "      <td>1.0</td>\n",
       "    </tr>\n",
       "    <tr>\n",
       "      <th>Disorder_Subclass</th>\n",
       "      <td>Leber's hereditary optic neuropathy</td>\n",
       "      <td>Cystic fibrosis</td>\n",
       "      <td>Diabetes</td>\n",
       "      <td>Leigh syndrome</td>\n",
       "      <td>Cancer</td>\n",
       "      <td>Cystic fibrosis</td>\n",
       "      <td>Tay-Sachs</td>\n",
       "      <td>Tay-Sachs</td>\n",
       "      <td>Leigh syndrome</td>\n",
       "      <td>Diabetes</td>\n",
       "      <td>...</td>\n",
       "      <td>Leigh syndrome</td>\n",
       "      <td>Hemochromatosis</td>\n",
       "      <td>Mitochondrial myopathy</td>\n",
       "      <td>Leigh syndrome</td>\n",
       "      <td>Leigh syndrome</td>\n",
       "      <td>Leigh syndrome</td>\n",
       "      <td>Diabetes</td>\n",
       "      <td>Mitochondrial myopathy</td>\n",
       "      <td>Leigh syndrome</td>\n",
       "      <td>Diabetes</td>\n",
       "    </tr>\n",
       "  </tbody>\n",
       "</table>\n",
       "<p>32 rows × 19915 columns</p>\n",
       "</div>"
      ],
      "text/plain": [
       "                                                    0                1      \\\n",
       "Patient_Age                                           2.0              4.0   \n",
       "Mother_Gene                                           Yes              Yes   \n",
       "Father_Gene                                            No              Yes   \n",
       "Maternal_Gene                                         Yes               No   \n",
       "Paternal_Gene                                          No               No   \n",
       "Blood_Cell                                       4.760603         4.910669   \n",
       "Mother_Age                                            NaN              NaN   \n",
       "Father_Age                                            NaN             23.0   \n",
       "Status                                              Alive         Deceased   \n",
       "Respiratory_Rate                           Normal (30-60)        Tachypnea   \n",
       "Heart_Rate                                         Normal           Normal   \n",
       "Follow_Up                                            High             High   \n",
       "Gender                                                NaN              NaN   \n",
       "Birth_Asphyxia                                        NaN               No   \n",
       "Autopsy_Birth_Defect                                  NaN               No   \n",
       "Birth_Place                                     Institute              NaN   \n",
       "Folic_Acid_Details                                     No              Yes   \n",
       "Maternal_Illness                                      NaN              Yes   \n",
       "Radiation_Exposure                                     No              NaN   \n",
       "Substance_Abuse                                        No              NaN   \n",
       "Assisted_Conception                                    No               No   \n",
       "History_Pregnancies                                   Yes              Yes   \n",
       "Previous_Abortions                                    NaN              NaN   \n",
       "Birth_Defects                                         NaN         Multiple   \n",
       "White_Blood_Cell                                 9.857562          5.52256   \n",
       "Blood_Test                                            NaN           normal   \n",
       "Symptom_1                                             1.0              1.0   \n",
       "Symptom_2                                             1.0              NaN   \n",
       "Symptom_3                                             1.0              1.0   \n",
       "Symptom_4                                             1.0              1.0   \n",
       "Symptom_5                                             1.0              0.0   \n",
       "Disorder_Subclass     Leber's hereditary optic neuropathy  Cystic fibrosis   \n",
       "\n",
       "                               2               3            4      \\\n",
       "Patient_Age                      6.0            12.0         11.0   \n",
       "Mother_Gene                      Yes             Yes          Yes   \n",
       "Father_Gene                       No              No           No   \n",
       "Maternal_Gene                     No             Yes          NaN   \n",
       "Paternal_Gene                     No              No          Yes   \n",
       "Blood_Cell                  4.893297         4.70528     4.720703   \n",
       "Mother_Age                      41.0            21.0         32.0   \n",
       "Father_Age                      22.0             NaN          NaN   \n",
       "Status                         Alive        Deceased        Alive   \n",
       "Respiratory_Rate      Normal (30-60)       Tachypnea    Tachypnea   \n",
       "Heart_Rate               Tachycardia          Normal  Tachycardia   \n",
       "Follow_Up                        Low            High          Low   \n",
       "Gender                           NaN            Male         Male   \n",
       "Birth_Asphyxia                   NaN             NaN          NaN   \n",
       "Autopsy_Birth_Defect             NaN              No          NaN   \n",
       "Birth_Place                      NaN       Institute    Institute   \n",
       "Folic_Acid_Details               Yes              No           No   \n",
       "Maternal_Illness                  No             Yes          Yes   \n",
       "Radiation_Exposure               Yes             NaN          NaN   \n",
       "Substance_Abuse                  NaN             NaN          NaN   \n",
       "Assisted_Conception              Yes             NaN          Yes   \n",
       "History_Pregnancies              Yes             Yes           No   \n",
       "Previous_Abortions               4.0             1.0          4.0   \n",
       "Birth_Defects               Singular        Singular     Multiple   \n",
       "White_Blood_Cell                 NaN        7.919321      4.09821   \n",
       "Blood_Test                    normal             NaN          NaN   \n",
       "Symptom_1                        0.0             0.0          0.0   \n",
       "Symptom_2                        1.0             0.0          0.0   \n",
       "Symptom_3                        1.0             1.0          0.0   \n",
       "Symptom_4                        1.0             0.0          0.0   \n",
       "Symptom_5                        1.0             0.0          NaN   \n",
       "Disorder_Subclass           Diabetes  Leigh syndrome       Cancer   \n",
       "\n",
       "                                5               6          7      \\\n",
       "Patient_Age                      14.0             3.0        3.0   \n",
       "Mother_Gene                       Yes             Yes         No   \n",
       "Father_Gene                        No              No         No   \n",
       "Maternal_Gene                     Yes             Yes        Yes   \n",
       "Paternal_Gene                      No             Yes        Yes   \n",
       "Blood_Cell                   5.103188         4.90108   4.964816   \n",
       "Mother_Age                        NaN             NaN       40.0   \n",
       "Father_Age                        NaN            63.0        NaN   \n",
       "Status                       Deceased           Alive      Alive   \n",
       "Respiratory_Rate                  NaN  Normal (30-60)  Tachypnea   \n",
       "Heart_Rate                     Normal             NaN     Normal   \n",
       "Follow_Up                         Low             Low        Low   \n",
       "Gender                         Female            Male        NaN   \n",
       "Birth_Asphyxia                    NaN             NaN        NaN   \n",
       "Autopsy_Birth_Defect               No             NaN        NaN   \n",
       "Birth_Place                 Institute            Home       Home   \n",
       "Folic_Acid_Details                 No             NaN        Yes   \n",
       "Maternal_Illness                   No             Yes        Yes   \n",
       "Radiation_Exposure                 No              No         No   \n",
       "Substance_Abuse                    No             NaN        NaN   \n",
       "Assisted_Conception               NaN             Yes         No   \n",
       "History_Pregnancies                No              No        Yes   \n",
       "Previous_Abortions                0.0             3.0        1.0   \n",
       "Birth_Defects                Multiple        Multiple   Singular   \n",
       "White_Blood_Cell             10.27223        6.825974   9.836352   \n",
       "Blood_Test                     normal          normal        NaN   \n",
       "Symptom_1                         1.0             0.0        0.0   \n",
       "Symptom_2                         0.0             0.0        0.0   \n",
       "Symptom_3                         0.0             0.0        1.0   \n",
       "Symptom_4                         1.0             0.0        NaN   \n",
       "Symptom_5                         0.0             0.0        0.0   \n",
       "Disorder_Subclass     Cystic fibrosis       Tay-Sachs  Tay-Sachs   \n",
       "\n",
       "                                  8            9      ...           22073  \\\n",
       "Patient_Age                        11.0          4.0  ...            13.0   \n",
       "Mother_Gene                          No           No  ...             Yes   \n",
       "Father_Gene                          No          Yes  ...             Yes   \n",
       "Maternal_Gene                       Yes          Yes  ...              No   \n",
       "Paternal_Gene                        No          Yes  ...             Yes   \n",
       "Blood_Cell                     5.209058     4.752272  ...        4.874635   \n",
       "Mother_Age                         45.0         44.0  ...            44.0   \n",
       "Father_Age                         44.0         42.0  ...            62.0   \n",
       "Status                            Alive        Alive  ...           Alive   \n",
       "Respiratory_Rate              Tachypnea    Tachypnea  ...       Tachypnea   \n",
       "Heart_Rate                  Tachycardia  Tachycardia  ...     Tachycardia   \n",
       "Follow_Up                           Low          Low  ...             NaN   \n",
       "Gender                             Male         Male  ...             NaN   \n",
       "Birth_Asphyxia                      Yes           No  ...             NaN   \n",
       "Autopsy_Birth_Defect                NaN          NaN  ...             NaN   \n",
       "Birth_Place                   Institute    Institute  ...            Home   \n",
       "Folic_Acid_Details                  Yes          Yes  ...              No   \n",
       "Maternal_Illness                    Yes           No  ...             NaN   \n",
       "Radiation_Exposure                   No           No  ...              No   \n",
       "Substance_Abuse                      No           No  ...              No   \n",
       "Assisted_Conception                  No          Yes  ...             Yes   \n",
       "History_Pregnancies                 Yes          Yes  ...              No   \n",
       "Previous_Abortions                  0.0          1.0  ...             1.0   \n",
       "Birth_Defects                  Multiple     Multiple  ...             NaN   \n",
       "White_Blood_Cell               6.669552     6.397702  ...             NaN   \n",
       "Blood_Test            slightly abnormal     abnormal  ...          normal   \n",
       "Symptom_1                           1.0          0.0  ...             0.0   \n",
       "Symptom_2                           1.0          0.0  ...             0.0   \n",
       "Symptom_3                           1.0          1.0  ...             0.0   \n",
       "Symptom_4                           0.0          1.0  ...             1.0   \n",
       "Symptom_5                           1.0          1.0  ...             1.0   \n",
       "Disorder_Subclass        Leigh syndrome     Diabetes  ...  Leigh syndrome   \n",
       "\n",
       "                                22074                   22075           22076  \\\n",
       "Patient_Age                       4.0                    10.0             0.0   \n",
       "Mother_Gene                        No                      No             Yes   \n",
       "Father_Gene                        No                      No              No   \n",
       "Maternal_Gene                     NaN                     Yes             Yes   \n",
       "Paternal_Gene                      No                     Yes              No   \n",
       "Blood_Cell                   4.789307                 4.64386        4.931758   \n",
       "Mother_Age                       35.0                    49.0             NaN   \n",
       "Father_Age                       51.0                     NaN            50.0   \n",
       "Status                          Alive                Deceased           Alive   \n",
       "Respiratory_Rate            Tachypnea                     NaN  Normal (30-60)   \n",
       "Heart_Rate                     Normal                  Normal     Tachycardia   \n",
       "Follow_Up                         Low                     Low             Low   \n",
       "Gender                           Male                     NaN          Female   \n",
       "Birth_Asphyxia                    Yes                      No             NaN   \n",
       "Autopsy_Birth_Defect              NaN                     Yes             NaN   \n",
       "Birth_Place                 Institute                    Home       Institute   \n",
       "Folic_Acid_Details                 No                      No              No   \n",
       "Maternal_Illness                   No                     NaN              No   \n",
       "Radiation_Exposure                NaN                     NaN             NaN   \n",
       "Substance_Abuse                    No                     NaN              No   \n",
       "Assisted_Conception                No                     Yes             Yes   \n",
       "History_Pregnancies                No                     Yes             Yes   \n",
       "Previous_Abortions                3.0                     2.0             1.0   \n",
       "Birth_Defects                Multiple                Multiple        Singular   \n",
       "White_Blood_Cell                  NaN                9.581455       11.649052   \n",
       "Blood_Test                     normal                abnormal        abnormal   \n",
       "Symptom_1                         0.0                     1.0             1.0   \n",
       "Symptom_2                         0.0                     0.0             1.0   \n",
       "Symptom_3                         1.0                     0.0             0.0   \n",
       "Symptom_4                         0.0                     0.0             1.0   \n",
       "Symptom_5                         0.0                     NaN             0.0   \n",
       "Disorder_Subclass     Hemochromatosis  Mitochondrial myopathy  Leigh syndrome   \n",
       "\n",
       "                                  22077           22078           22079  \\\n",
       "Patient_Age                         9.0             4.0             8.0   \n",
       "Mother_Gene                          No             Yes              No   \n",
       "Father_Gene                         Yes             Yes             Yes   \n",
       "Maternal_Gene                       Yes             Yes              No   \n",
       "Paternal_Gene                       Yes              No             Yes   \n",
       "Blood_Cell                     5.012599        5.258298         4.97422   \n",
       "Mother_Age                         47.0            35.0             NaN   \n",
       "Father_Age                          NaN            64.0            56.0   \n",
       "Status                         Deceased        Deceased           Alive   \n",
       "Respiratory_Rate                    NaN  Normal (30-60)  Normal (30-60)   \n",
       "Heart_Rate                       Normal     Tachycardia          Normal   \n",
       "Follow_Up                           NaN            High            High   \n",
       "Gender                              NaN          Female             NaN   \n",
       "Birth_Asphyxia                      NaN              No              No   \n",
       "Autopsy_Birth_Defect                Yes              No             NaN   \n",
       "Birth_Place                        Home       Institute       Institute   \n",
       "Folic_Acid_Details                  Yes             NaN             Yes   \n",
       "Maternal_Illness                     No              No             Yes   \n",
       "Radiation_Exposure                   No             NaN              No   \n",
       "Substance_Abuse                     NaN              No             NaN   \n",
       "Assisted_Conception                 Yes             Yes             Yes   \n",
       "History_Pregnancies                 Yes              No              No   \n",
       "Previous_Abortions                  NaN             3.0             2.0   \n",
       "Birth_Defects                       NaN        Multiple        Multiple   \n",
       "White_Blood_Cell                   12.0        6.584811        7.041556   \n",
       "Blood_Test            slightly abnormal             NaN             NaN   \n",
       "Symptom_1                           NaN             0.0             1.0   \n",
       "Symptom_2                           1.0             0.0             1.0   \n",
       "Symptom_3                           0.0             1.0             1.0   \n",
       "Symptom_4                           0.0             0.0             1.0   \n",
       "Symptom_5                           0.0             0.0             0.0   \n",
       "Disorder_Subclass        Leigh syndrome  Leigh syndrome        Diabetes   \n",
       "\n",
       "                                       22080           22081           22082  \n",
       "Patient_Age                              8.0             7.0            11.0  \n",
       "Mother_Gene                              Yes             Yes             Yes  \n",
       "Father_Gene                               No              No              No  \n",
       "Maternal_Gene                            Yes             Yes              No  \n",
       "Paternal_Gene                             No             Yes              No  \n",
       "Blood_Cell                           5.18647        4.858543        4.738067  \n",
       "Mother_Age                              35.0            19.0            32.0  \n",
       "Father_Age                              51.0             NaN            62.0  \n",
       "Status                              Deceased           Alive        Deceased  \n",
       "Respiratory_Rate                   Tachypnea       Tachypnea  Normal (30-60)  \n",
       "Heart_Rate                            Normal     Tachycardia          Normal  \n",
       "Follow_Up                               High            High            High  \n",
       "Gender                                  Male            Male          Female  \n",
       "Birth_Asphyxia                            No             NaN             Yes  \n",
       "Autopsy_Birth_Defect                      No             NaN              No  \n",
       "Birth_Place                             Home            Home       Institute  \n",
       "Folic_Acid_Details                        No             Yes             Yes  \n",
       "Maternal_Illness                          No             Yes             Yes  \n",
       "Radiation_Exposure                       NaN             NaN             NaN  \n",
       "Substance_Abuse                           No             Yes              No  \n",
       "Assisted_Conception                       No             Yes             Yes  \n",
       "History_Pregnancies                       No              No             Yes  \n",
       "Previous_Abortions                       2.0             1.0             4.0  \n",
       "Birth_Defects                       Singular        Multiple        Singular  \n",
       "White_Blood_Cell                    7.715464         8.43767       11.188371  \n",
       "Blood_Test                            normal        abnormal          normal  \n",
       "Symptom_1                                0.0             1.0             1.0  \n",
       "Symptom_2                                0.0             1.0             0.0  \n",
       "Symptom_3                                0.0             1.0             1.0  \n",
       "Symptom_4                                1.0             0.0             1.0  \n",
       "Symptom_5                                NaN             0.0             1.0  \n",
       "Disorder_Subclass     Mitochondrial myopathy  Leigh syndrome        Diabetes  \n",
       "\n",
       "[32 rows x 19915 columns]"
      ]
     },
     "execution_count": 3,
     "metadata": {},
     "output_type": "execute_result"
    }
   ],
   "source": [
    "train_data.T"
   ]
  },
  {
   "cell_type": "code",
   "execution_count": 4,
   "id": "c8a72bb2",
   "metadata": {},
   "outputs": [
    {
     "name": "stdout",
     "output_type": "stream",
     "text": [
      "<class 'pandas.core.frame.DataFrame'>\n",
      "Int64Index: 19915 entries, 0 to 22082\n",
      "Data columns (total 32 columns):\n",
      " #   Column                Non-Null Count  Dtype  \n",
      "---  ------                --------------  -----  \n",
      " 0   Patient_Age           18672 non-null  float64\n",
      " 1   Mother_Gene           19915 non-null  object \n",
      " 2   Father_Gene           19652 non-null  object \n",
      " 3   Maternal_Gene         17510 non-null  object \n",
      " 4   Paternal_Gene         19915 non-null  object \n",
      " 5   Blood_Cell            19915 non-null  float64\n",
      " 6   Mother_Age            14719 non-null  float64\n",
      " 7   Father_Age            14796 non-null  float64\n",
      " 8   Status                19915 non-null  object \n",
      " 9   Respiratory_Rate      18058 non-null  object \n",
      " 10  Heart_Rate            18127 non-null  object \n",
      " 11  Follow_Up             18070 non-null  object \n",
      " 12  Gender                12008 non-null  object \n",
      " 13  Birth_Asphyxia        9060 non-null   object \n",
      " 14  Autopsy_Birth_Defect  9013 non-null   object \n",
      " 15  Birth_Place           18060 non-null  object \n",
      " 16  Folic_Acid_Details    18092 non-null  object \n",
      " 17  Maternal_Illness      18084 non-null  object \n",
      " 18  Radiation_Exposure    9077 non-null   object \n",
      " 19  Substance_Abuse       9068 non-null   object \n",
      " 20  Assisted_Conception   18085 non-null  object \n",
      " 21  History_Pregnancies   18070 non-null  object \n",
      " 22  Previous_Abortions    18080 non-null  float64\n",
      " 23  Birth_Defects         18070 non-null  object \n",
      " 24  White_Blood_Cell      18039 non-null  float64\n",
      " 25  Blood_Test            13593 non-null  object \n",
      " 26  Symptom_1             18062 non-null  float64\n",
      " 27  Symptom_2             17991 non-null  float64\n",
      " 28  Symptom_3             18129 non-null  float64\n",
      " 29  Symptom_4             18102 non-null  float64\n",
      " 30  Symptom_5             18034 non-null  float64\n",
      " 31  Disorder_Subclass     19915 non-null  object \n",
      "dtypes: float64(11), object(21)\n",
      "memory usage: 5.5+ MB\n"
     ]
    }
   ],
   "source": [
    "train_data.info()"
   ]
  },
  {
   "cell_type": "code",
   "execution_count": 5,
   "id": "0d2765f8",
   "metadata": {},
   "outputs": [
    {
     "data": {
      "image/png": "[encoded data removed]",
      "text/plain": [
       "<Figure size 1800x720 with 2 Axes>"
      ]
     },
     "metadata": {
      "needs_background": "light"
     },
     "output_type": "display_data"
    }
   ],
   "source": [
    "msno.matrix(train_data)\n",
    "plt.show()"
   ]
  },
  {
   "cell_type": "code",
   "execution_count": 6,
   "id": "bf624c5a",
   "metadata": {},
   "outputs": [
    {
     "name": "stdout",
     "output_type": "stream",
     "text": [
      "Leigh syndrome                         5160\n",
      "Mitochondrial myopathy                 4405\n",
      "Cystic fibrosis                        3448\n",
      "Tay-Sachs                              2833\n",
      "Diabetes                               1817\n",
      "Hemochromatosis                        1355\n",
      "Leber's hereditary optic neuropathy     648\n",
      "Alzheimer's                             152\n",
      "Cancer                                   97\n",
      "Name: Disorder_Subclass, dtype: int64\n"
     ]
    },
    {
     "data": {
      "image/png": "[encoded data removed]",
      "text/plain": [
       "<Figure size 576x576 with 1 Axes>"
      ]
     },
     "metadata": {},
     "output_type": "display_data"
    }
   ],
   "source": [
    "# Disorder Subclass Distribution\n",
    "ds_counts = train_data.Disorder_Subclass.value_counts()\n",
    "print(ds_counts)\n",
    "\n",
    "plt.figure(figsize=(8,8))\n",
    "\n",
    "mylab = ds_counts.index\n",
    "explode = (0.0, 0.0, 0.0, 0.0, 0.0, 0.0, 1, 1.5, 2)\n",
    "\n",
    "plt.pie(ds_counts, labels=mylab, explode=explode, autopct='%1.1f%%')\n",
    "plt.show()"
   ]
  },
  {
   "cell_type": "markdown",
   "id": "4441375f",
   "metadata": {},
   "source": [
    "### Road-Map Preprocessing "
   ]
  },
  {
   "cell_type": "markdown",
   "id": "21f213a2",
   "metadata": {},
   "source": [
    "Given the large amounts of missing data within certain columns and the misrepresentation effect that a mean or median imputation would have on the data when identifying disorder subclasses, I decided to go with constant imputation. Using constant imputation and creating missing values as its own catagorical group, I will have the model decide what information the missing values will be able to provide when classifying. Thus I will look into RandomForestClassifier, GradientBoostingClassifier and XGBoost, since they all use tree based modeling which are able to split on constant imputed missing values. These model algorithms also do not care and actually performs better without OneHotEncoding. This way, I will be able to keep track of my features."
   ]
  },
  {
   "cell_type": "markdown",
   "id": "7952066e",
   "metadata": {},
   "source": [
    "### Preprocessing Pipeline"
   ]
  },
  {
   "cell_type": "code",
   "execution_count": 7,
   "id": "0c479275",
   "metadata": {},
   "outputs": [],
   "source": [
    "# Split the data into feature X and target y\n",
    "X = train_data.drop(columns=\"Disorder_Subclass\")\n",
    "y = train_data.Disorder_Subclass\n",
    "\n",
    "# Label encode target y\n",
    "le = LabelEncoder()\n",
    "encoded_y = le.fit_transform(y)"
   ]
  },
  {
   "cell_type": "code",
   "execution_count": 8,
   "id": "6e9b7bc4",
   "metadata": {},
   "outputs": [],
   "source": [
    "# Train Test Split by 20%\n",
    "X_train, X_test, y_train, y_test = train_test_split(X, encoded_y, test_size = 0.2, random_state=123)"
   ]
  },
  {
   "cell_type": "code",
   "execution_count": 9,
   "id": "9f1d3bd8",
   "metadata": {},
   "outputs": [],
   "source": [
    "# Grouped numerical columns\n",
    "num_cols = train_data.select_dtypes('float64').columns\n",
    "\n",
    "# Grouped categorical columns\n",
    "cat_cols = train_data.select_dtypes('object').drop(columns=\"Disorder_Subclass\").columns\n",
    "\n",
    "# Preprocessing for numerical data\n",
    "num_preprocessor = SimpleImputer(strategy='constant', fill_value=-99)\n",
    "\n",
    "# Preprocessing for categorical data\n",
    "cat_preprocessor = Pipeline(steps=[('imputer', SimpleImputer(strategy='constant', fill_value=\"-99\")),\n",
    "                                   ('oe', OrdinalEncoder())])\n",
    "\n",
    "# Combine num and cat preprocessor for data frame transformation\n",
    "preprocessor = ColumnTransformer(\n",
    "    transformers=[('num_transformer', num_preprocessor, num_cols),\n",
    "                  ('cat_transformer', cat_preprocessor, cat_cols)])"
   ]
  },
  {
   "cell_type": "code",
   "execution_count": 10,
   "id": "c1e6fe8c",
   "metadata": {},
   "outputs": [
    {
     "data": {
      "text/html": [
       "<div>\n",
       "<style scoped>\n",
       "    .dataframe tbody tr th:only-of-type {\n",
       "        vertical-align: middle;\n",
       "    }\n",
       "\n",
       "    .dataframe tbody tr th {\n",
       "        vertical-align: top;\n",
       "    }\n",
       "\n",
       "    .dataframe thead th {\n",
       "        text-align: right;\n",
       "    }\n",
       "</style>\n",
       "<table border=\"1\" class=\"dataframe\">\n",
       "  <thead>\n",
       "    <tr style=\"text-align: right;\">\n",
       "      <th></th>\n",
       "      <th>Patient_Age</th>\n",
       "      <th>Mother_Gene</th>\n",
       "      <th>Father_Gene</th>\n",
       "      <th>Maternal_Gene</th>\n",
       "      <th>Paternal_Gene</th>\n",
       "      <th>Blood_Cell</th>\n",
       "      <th>Mother_Age</th>\n",
       "      <th>Father_Age</th>\n",
       "      <th>Status</th>\n",
       "      <th>Respiratory_Rate</th>\n",
       "      <th>...</th>\n",
       "      <th>History_Pregnancies</th>\n",
       "      <th>Previous_Abortions</th>\n",
       "      <th>Birth_Defects</th>\n",
       "      <th>White_Blood_Cell</th>\n",
       "      <th>Blood_Test</th>\n",
       "      <th>Symptom_1</th>\n",
       "      <th>Symptom_2</th>\n",
       "      <th>Symptom_3</th>\n",
       "      <th>Symptom_4</th>\n",
       "      <th>Symptom_5</th>\n",
       "    </tr>\n",
       "  </thead>\n",
       "  <tbody>\n",
       "    <tr>\n",
       "      <th>0</th>\n",
       "      <td>6.0</td>\n",
       "      <td>4.816182</td>\n",
       "      <td>23.0</td>\n",
       "      <td>32.0</td>\n",
       "      <td>4.0</td>\n",
       "      <td>5.321413</td>\n",
       "      <td>0.0</td>\n",
       "      <td>1.0</td>\n",
       "      <td>1.0</td>\n",
       "      <td>1.0</td>\n",
       "      <td>...</td>\n",
       "      <td>0.0</td>\n",
       "      <td>1.0</td>\n",
       "      <td>0.0</td>\n",
       "      <td>2.0</td>\n",
       "      <td>0.0</td>\n",
       "      <td>1.0</td>\n",
       "      <td>2.0</td>\n",
       "      <td>1.0</td>\n",
       "      <td>2.0</td>\n",
       "      <td>0.0</td>\n",
       "    </tr>\n",
       "    <tr>\n",
       "      <th>1</th>\n",
       "      <td>13.0</td>\n",
       "      <td>5.005324</td>\n",
       "      <td>28.0</td>\n",
       "      <td>44.0</td>\n",
       "      <td>-99.0</td>\n",
       "      <td>4.334729</td>\n",
       "      <td>1.0</td>\n",
       "      <td>1.0</td>\n",
       "      <td>1.0</td>\n",
       "      <td>-99.0</td>\n",
       "      <td>...</td>\n",
       "      <td>1.0</td>\n",
       "      <td>0.0</td>\n",
       "      <td>2.0</td>\n",
       "      <td>2.0</td>\n",
       "      <td>0.0</td>\n",
       "      <td>0.0</td>\n",
       "      <td>2.0</td>\n",
       "      <td>1.0</td>\n",
       "      <td>1.0</td>\n",
       "      <td>0.0</td>\n",
       "    </tr>\n",
       "    <tr>\n",
       "      <th>2</th>\n",
       "      <td>10.0</td>\n",
       "      <td>4.712737</td>\n",
       "      <td>26.0</td>\n",
       "      <td>-99.0</td>\n",
       "      <td>-99.0</td>\n",
       "      <td>8.649998</td>\n",
       "      <td>1.0</td>\n",
       "      <td>0.0</td>\n",
       "      <td>0.0</td>\n",
       "      <td>0.0</td>\n",
       "      <td>...</td>\n",
       "      <td>2.0</td>\n",
       "      <td>2.0</td>\n",
       "      <td>2.0</td>\n",
       "      <td>1.0</td>\n",
       "      <td>0.0</td>\n",
       "      <td>0.0</td>\n",
       "      <td>1.0</td>\n",
       "      <td>1.0</td>\n",
       "      <td>1.0</td>\n",
       "      <td>0.0</td>\n",
       "    </tr>\n",
       "    <tr>\n",
       "      <th>3</th>\n",
       "      <td>13.0</td>\n",
       "      <td>5.095956</td>\n",
       "      <td>-99.0</td>\n",
       "      <td>36.0</td>\n",
       "      <td>-99.0</td>\n",
       "      <td>7.548971</td>\n",
       "      <td>1.0</td>\n",
       "      <td>1.0</td>\n",
       "      <td>0.0</td>\n",
       "      <td>1.0</td>\n",
       "      <td>...</td>\n",
       "      <td>0.0</td>\n",
       "      <td>2.0</td>\n",
       "      <td>1.0</td>\n",
       "      <td>2.0</td>\n",
       "      <td>0.0</td>\n",
       "      <td>0.0</td>\n",
       "      <td>2.0</td>\n",
       "      <td>1.0</td>\n",
       "      <td>0.0</td>\n",
       "      <td>1.0</td>\n",
       "    </tr>\n",
       "    <tr>\n",
       "      <th>4</th>\n",
       "      <td>8.0</td>\n",
       "      <td>4.847835</td>\n",
       "      <td>28.0</td>\n",
       "      <td>56.0</td>\n",
       "      <td>4.0</td>\n",
       "      <td>6.962187</td>\n",
       "      <td>1.0</td>\n",
       "      <td>1.0</td>\n",
       "      <td>-99.0</td>\n",
       "      <td>1.0</td>\n",
       "      <td>...</td>\n",
       "      <td>0.0</td>\n",
       "      <td>2.0</td>\n",
       "      <td>1.0</td>\n",
       "      <td>2.0</td>\n",
       "      <td>2.0</td>\n",
       "      <td>0.0</td>\n",
       "      <td>2.0</td>\n",
       "      <td>1.0</td>\n",
       "      <td>2.0</td>\n",
       "      <td>1.0</td>\n",
       "    </tr>\n",
       "  </tbody>\n",
       "</table>\n",
       "<p>5 rows × 31 columns</p>\n",
       "</div>"
      ],
      "text/plain": [
       "   Patient_Age  Mother_Gene  Father_Gene  Maternal_Gene  Paternal_Gene  \\\n",
       "0          6.0     4.816182         23.0           32.0            4.0   \n",
       "1         13.0     5.005324         28.0           44.0          -99.0   \n",
       "2         10.0     4.712737         26.0          -99.0          -99.0   \n",
       "3         13.0     5.095956        -99.0           36.0          -99.0   \n",
       "4          8.0     4.847835         28.0           56.0            4.0   \n",
       "\n",
       "   Blood_Cell  Mother_Age  Father_Age  Status  Respiratory_Rate  ...  \\\n",
       "0    5.321413         0.0         1.0     1.0               1.0  ...   \n",
       "1    4.334729         1.0         1.0     1.0             -99.0  ...   \n",
       "2    8.649998         1.0         0.0     0.0               0.0  ...   \n",
       "3    7.548971         1.0         1.0     0.0               1.0  ...   \n",
       "4    6.962187         1.0         1.0   -99.0               1.0  ...   \n",
       "\n",
       "   History_Pregnancies  Previous_Abortions  Birth_Defects  White_Blood_Cell  \\\n",
       "0                  0.0                 1.0            0.0               2.0   \n",
       "1                  1.0                 0.0            2.0               2.0   \n",
       "2                  2.0                 2.0            2.0               1.0   \n",
       "3                  0.0                 2.0            1.0               2.0   \n",
       "4                  0.0                 2.0            1.0               2.0   \n",
       "\n",
       "   Blood_Test  Symptom_1  Symptom_2  Symptom_3  Symptom_4  Symptom_5  \n",
       "0         0.0        1.0        2.0        1.0        2.0        0.0  \n",
       "1         0.0        0.0        2.0        1.0        1.0        0.0  \n",
       "2         0.0        0.0        1.0        1.0        1.0        0.0  \n",
       "3         0.0        0.0        2.0        1.0        0.0        1.0  \n",
       "4         2.0        0.0        2.0        1.0        2.0        1.0  \n",
       "\n",
       "[5 rows x 31 columns]"
      ]
     },
     "execution_count": 10,
     "metadata": {},
     "output_type": "execute_result"
    }
   ],
   "source": [
    "# Preprocessor Test\n",
    "feature_col_names = train_data.drop(columns=\"Disorder_Subclass\").columns\n",
    "preprocessed_df = pd.DataFrame(preprocessor.fit_transform(X_train, y_train))\n",
    "preprocessed_df.columns = feature_col_names\n",
    "preprocessed_df.head()"
   ]
  },
  {
   "cell_type": "code",
   "execution_count": 11,
   "id": "6e370c53",
   "metadata": {},
   "outputs": [
    {
     "name": "stdout",
     "output_type": "stream",
     "text": [
      "<class 'pandas.core.frame.DataFrame'>\n",
      "RangeIndex: 15932 entries, 0 to 15931\n",
      "Data columns (total 31 columns):\n",
      " #   Column  Non-Null Count  Dtype  \n",
      "---  ------  --------------  -----  \n",
      " 0   0       15932 non-null  float64\n",
      " 1   1       15932 non-null  float64\n",
      " 2   2       15932 non-null  float64\n",
      " 3   3       15932 non-null  float64\n",
      " 4   4       15932 non-null  float64\n",
      " 5   5       15932 non-null  float64\n",
      " 6   6       15932 non-null  float64\n",
      " 7   7       15932 non-null  float64\n",
      " 8   8       15932 non-null  float64\n",
      " 9   9       15932 non-null  float64\n",
      " 10  10      15932 non-null  float64\n",
      " 11  11      15932 non-null  float64\n",
      " 12  12      15932 non-null  float64\n",
      " 13  13      15932 non-null  float64\n",
      " 14  14      15932 non-null  float64\n",
      " 15  15      15932 non-null  float64\n",
      " 16  16      15932 non-null  float64\n",
      " 17  17      15932 non-null  float64\n",
      " 18  18      15932 non-null  float64\n",
      " 19  19      15932 non-null  float64\n",
      " 20  20      15932 non-null  float64\n",
      " 21  21      15932 non-null  float64\n",
      " 22  22      15932 non-null  float64\n",
      " 23  23      15932 non-null  float64\n",
      " 24  24      15932 non-null  float64\n",
      " 25  25      15932 non-null  float64\n",
      " 26  26      15932 non-null  float64\n",
      " 27  27      15932 non-null  float64\n",
      " 28  28      15932 non-null  float64\n",
      " 29  29      15932 non-null  float64\n",
      " 30  30      15932 non-null  float64\n",
      "dtypes: float64(31)\n",
      "memory usage: 3.8 MB\n"
     ]
    }
   ],
   "source": [
    "pd.DataFrame(preprocessor.fit_transform(X_train, y_train)).info()"
   ]
  },
  {
   "cell_type": "markdown",
   "id": "69ede952",
   "metadata": {},
   "source": [
    "### Baseline Model Comparisons"
   ]
  },
  {
   "cell_type": "code",
   "execution_count": 12,
   "id": "660c1be2",
   "metadata": {},
   "outputs": [
    {
     "name": "stdout",
     "output_type": "stream",
     "text": [
      "100.0\n",
      "37.98644238011549\n",
      "Scores: [37.05679322 37.02541575 38.07281858 36.47206529 38.63779033]\n",
      "Mean: 37.45297663471601\n",
      "Standard Deviation: 0.007861226644058908\n"
     ]
    }
   ],
   "source": [
    "# RandomForestClassifier\n",
    "pipe_rf = Pipeline(steps=[('preprocessor', preprocessor),\n",
    "                          ('randomforest', RandomForestClassifier(random_state=123))])\n",
    "\n",
    "pipe_rf.fit(X_train, y_train)\n",
    "\n",
    "pred_tr = pipe_rf.predict(X_train)\n",
    "pred_te = pipe_rf.predict(X_test)\n",
    "\n",
    "print(accuracy_score(y_train, pred_tr) * 100)\n",
    "print(accuracy_score(y_test, pred_te) * 100)\n",
    "\n",
    "scores = cross_val_score(pipe_rf, X_train, y_train, cv=5, scoring=\"accuracy\")\n",
    "print(\"Scores:\", scores * 100)\n",
    "print(\"Mean:\", scores.mean() * 100)\n",
    "print(\"Standard Deviation:\", scores.std())"
   ]
  },
  {
   "cell_type": "code",
   "execution_count": 13,
   "id": "cb0be03e",
   "metadata": {},
   "outputs": [
    {
     "name": "stdout",
     "output_type": "stream",
     "text": [
      "48.70700477027366\n",
      "40.321365804669846\n",
      "Scores: [41.5123941  40.25729526 41.9648462  39.04582549 40.20715631]\n",
      "Mean: 40.597503472105274\n",
      "Standard Deviation: 0.01037542106070992\n"
     ]
    }
   ],
   "source": [
    "# GradientBoostingClassifier\n",
    "pipe_gb = Pipeline(steps=[('preprocessor', preprocessor),\n",
    "                          ('gradientboosting', GradientBoostingClassifier(random_state=123))])\n",
    "\n",
    "pipe_gb.fit(X_train, y_train)\n",
    "\n",
    "pred_tr = pipe_gb.predict(X_train)\n",
    "pred_te = pipe_gb.predict(X_test)\n",
    "\n",
    "print(accuracy_score(y_train, pred_tr) * 100)\n",
    "print(accuracy_score(y_test, pred_te) * 100)\n",
    "\n",
    "scores = cross_val_score(pipe_gb, X_train, y_train, cv=5, scoring=\"accuracy\")\n",
    "print(\"Scores:\", scores * 100)\n",
    "print(\"Mean:\", scores.mean() * 100)\n",
    "print(\"Standard Deviation:\", scores.std())"
   ]
  },
  {
   "cell_type": "code",
   "execution_count": 14,
   "id": "17b7c7e5",
   "metadata": {},
   "outputs": [
    {
     "name": "stdout",
     "output_type": "stream",
     "text": [
      "[09:26:37] WARNING: D:\\bld\\xgboost-split_1637426510059\\work\\src\\learner.cc:1115: Starting in XGBoost 1.3.0, the default evaluation metric used with the objective 'multi:softprob' was changed from 'merror' to 'mlogloss'. Explicitly set eval_metric if you'd like to restore the old behavior.\n",
      "95.93899071051972\n",
      "36.75621390911373\n",
      "[09:26:43] WARNING: D:\\bld\\xgboost-split_1637426510059\\work\\src\\learner.cc:1115: Starting in XGBoost 1.3.0, the default evaluation metric used with the objective 'multi:softprob' was changed from 'merror' to 'mlogloss'. Explicitly set eval_metric if you'd like to restore the old behavior.\n",
      "[09:26:48] WARNING: D:\\bld\\xgboost-split_1637426510059\\work\\src\\learner.cc:1115: Starting in XGBoost 1.3.0, the default evaluation metric used with the objective 'multi:softprob' was changed from 'merror' to 'mlogloss'. Explicitly set eval_metric if you'd like to restore the old behavior.\n",
      "[09:26:52] WARNING: D:\\bld\\xgboost-split_1637426510059\\work\\src\\learner.cc:1115: Starting in XGBoost 1.3.0, the default evaluation metric used with the objective 'multi:softprob' was changed from 'merror' to 'mlogloss'. Explicitly set eval_metric if you'd like to restore the old behavior.\n",
      "[09:26:58] WARNING: D:\\bld\\xgboost-split_1637426510059\\work\\src\\learner.cc:1115: Starting in XGBoost 1.3.0, the default evaluation metric used with the objective 'multi:softprob' was changed from 'merror' to 'mlogloss'. Explicitly set eval_metric if you'd like to restore the old behavior.\n",
      "[09:27:03] WARNING: D:\\bld\\xgboost-split_1637426510059\\work\\src\\learner.cc:1115: Starting in XGBoost 1.3.0, the default evaluation metric used with the objective 'multi:softprob' was changed from 'merror' to 'mlogloss'. Explicitly set eval_metric if you'd like to restore the old behavior.\n",
      "Scores: [37.15092564 37.6215877  39.98744507 37.22536095 36.34651601]\n",
      "Mean: 37.66636707386469\n",
      "Standard Deviation: 0.012321997709810498\n"
     ]
    }
   ],
   "source": [
    "# XGBClassifier\n",
    "pipe_xgb = Pipeline(steps=[('preprocessor', preprocessor),\n",
    "                           ('xgboost', xgb.XGBClassifier(random_state=123))])\n",
    "\n",
    "pipe_xgb.fit(X_train, y_train)\n",
    "\n",
    "pred_tr = pipe_xgb.predict(X_train)\n",
    "pred_te = pipe_xgb.predict(X_test)\n",
    "\n",
    "print(accuracy_score(y_train, pred_tr) * 100)\n",
    "print(accuracy_score(y_test, pred_te) * 100)\n",
    "\n",
    "scores = cross_val_score(pipe_xgb, X_train, y_train, cv=5, scoring=\"accuracy\")\n",
    "print(\"Scores:\", scores * 100)\n",
    "print(\"Mean:\", scores.mean() * 100)\n",
    "print(\"Standard Deviation:\", scores.std())"
   ]
  },
  {
   "cell_type": "markdown",
   "id": "bc340a44",
   "metadata": {},
   "source": [
    "Evaluating on the cross validated mean scores for each model, the GradientBoostingClassifier had the highest score with 40.6, but looking at its training score, it performed poorly at 48.7. For both the RandomForestClassifier and XGBClassifier, both have really high train score, showing that there is overfitting that can be regularized. But the XGBoost performed slightly better than the RandomForest.\n",
    "I will be following through with XGBoost since it can deal well with imbalanced classes in my data set, as well being robust in modeling large amounts of missing data."
   ]
  },
  {
   "cell_type": "markdown",
   "id": "5dfb415f",
   "metadata": {},
   "source": [
    "### Defining XGB Baseline Model"
   ]
  },
  {
   "cell_type": "code",
   "execution_count": 32,
   "id": "ceac06dc",
   "metadata": {},
   "outputs": [],
   "source": [
    "# Default parameters set to multi-classification\n",
    "params = {\n",
    "    'objective':'multi:softmax',\n",
    "    'eval_metric':'mlogloss',\n",
    "    'seed':123\n",
    "}"
   ]
  },
  {
   "cell_type": "code",
   "execution_count": 28,
   "id": "c8332040",
   "metadata": {},
   "outputs": [
    {
     "name": "stdout",
     "output_type": "stream",
     "text": [
      "95.93899071051972\n",
      "36.75621390911373\n"
     ]
    }
   ],
   "source": [
    "# Model without class weights\n",
    "pipe_initial_noweights = Pipeline(steps=[('preprocessor', preprocessor),\n",
    "                                         ('xgboost', xgb.XGBClassifier(**params))])\n",
    "\n",
    "pipe_initial_noweights.fit(X_train, y_train)\n",
    "\n",
    "pred_tr = pipe_initial_noweights.predict(X_train)\n",
    "pred_te = pipe_initial_noweights.predict(X_test)\n",
    "\n",
    "print(accuracy_score(y_train, pred_tr) * 100)\n",
    "print(accuracy_score(y_test, pred_te) * 100)"
   ]
  },
  {
   "cell_type": "code",
   "execution_count": 29,
   "id": "79bec441",
   "metadata": {},
   "outputs": [
    {
     "name": "stdout",
     "output_type": "stream",
     "text": [
      "Scores: [37.15092564 37.6215877  39.98744507 37.22536095 36.34651601]\n",
      "Mean: 37.66636707386469\n",
      "Standard Deviation: 0.012321997709810498\n"
     ]
    }
   ],
   "source": [
    "# Cross Validation Score\n",
    "scores = cross_val_score(pipe_initial_noweights, X_train, y_train, cv=5, scoring=\"accuracy\")\n",
    "print(\"Scores:\", scores * 100)\n",
    "print(\"Mean:\", scores.mean() * 100)\n",
    "print(\"Standard Deviation:\", scores.std())"
   ]
  },
  {
   "cell_type": "code",
   "execution_count": 30,
   "id": "516cf0ef",
   "metadata": {},
   "outputs": [
    {
     "name": "stdout",
     "output_type": "stream",
     "text": [
      "              precision    recall  f1-score   support\n",
      "\n",
      "           0       0.44      0.14      0.21        29\n",
      "           1       0.80      0.17      0.29        23\n",
      "           2       0.41      0.51      0.45       647\n",
      "           3       0.35      0.26      0.30       346\n",
      "           4       0.38      0.26      0.31       266\n",
      "           5       0.29      0.15      0.20       126\n",
      "           6       0.40      0.42      0.41      1072\n",
      "           7       0.34      0.37      0.35       901\n",
      "           8       0.31      0.29      0.30       573\n",
      "\n",
      "    accuracy                           0.37      3983\n",
      "   macro avg       0.41      0.29      0.31      3983\n",
      "weighted avg       0.37      0.37      0.36      3983\n",
      "\n"
     ]
    }
   ],
   "source": [
    "print(classification_report(y_test, pred_te))"
   ]
  },
  {
   "cell_type": "code",
   "execution_count": 31,
   "id": "e719a266",
   "metadata": {},
   "outputs": [
    {
     "data": {
      "text/plain": [
       "array([ 1.20341416,  0.63199651,  1.62554841, ..., 14.39205059,\n",
       "        0.43302892,  0.78328417])"
      ]
     },
     "execution_count": 31,
     "metadata": {},
     "output_type": "execute_result"
    }
   ],
   "source": [
    "# Adding Class Weight due to heavy imbalance of dataset seen in the EDA\n",
    "sample_weights = compute_sample_weight(\n",
    "    class_weight='balanced',\n",
    "    y=y_train\n",
    ")\n",
    "sample_weights"
   ]
  },
  {
   "cell_type": "code",
   "execution_count": 33,
   "id": "0dd9be19",
   "metadata": {},
   "outputs": [
    {
     "name": "stdout",
     "output_type": "stream",
     "text": [
      "92.58096911875471\n",
      "35.32513181019332\n"
     ]
    }
   ],
   "source": [
    "# Model with class weights\n",
    "pipe_initial = Pipeline(steps=[('preprocessor', preprocessor),\n",
    "                               ('xgboost', xgb.XGBClassifier(**params))])\n",
    "\n",
    "pipe_initial.fit(X_train, y_train, xgboost__sample_weight=sample_weights)\n",
    "\n",
    "pred_tr = pipe_initial.predict(X_train)\n",
    "pred_te = pipe_initial.predict(X_test)\n",
    "\n",
    "print(accuracy_score(y_train, pred_tr) * 100)\n",
    "print(accuracy_score(y_test, pred_te) * 100)"
   ]
  },
  {
   "cell_type": "code",
   "execution_count": 34,
   "id": "7b551955",
   "metadata": {},
   "outputs": [
    {
     "name": "stdout",
     "output_type": "stream",
     "text": [
      "Scores: [36.52337622 35.55067462 37.00564972 35.65599498 35.02824859]\n",
      "Mean: 35.952788822923324\n",
      "Standard Deviation: 0.007125507848876233\n"
     ]
    }
   ],
   "source": [
    "# Cross Validation Score\n",
    "scores = cross_val_score(pipe_initial, X_train, y_train, cv=5, scoring=\"accuracy\", fit_params={'xgboost__sample_weight':sample_weights})\n",
    "print(\"Scores:\", scores * 100)\n",
    "print(\"Mean:\", scores.mean() * 100)\n",
    "print(\"Standard Deviation:\", scores.std())"
   ]
  },
  {
   "cell_type": "code",
   "execution_count": 149,
   "id": "d3c23005",
   "metadata": {},
   "outputs": [
    {
     "name": "stdout",
     "output_type": "stream",
     "text": [
      "F1_Macro Scores: [30.26678641 30.39427911 29.76856274 28.50813865 31.21638715]\n",
      "F1_Macro Scores Mean: 30.030830810700586\n",
      "F1_Macro Scores Standard Deviation: 0.00892265599345136\n"
     ]
    }
   ],
   "source": [
    "# Cross Validation Score for F1_Macro Score Metric baseline\n",
    "scores = cross_val_score(pipe_initial, X_train, y_train, cv=5, scoring=\"f1_macro\", fit_params={'xgboost__sample_weight':sample_weights})\n",
    "print(\"F1_Macro Scores:\", scores * 100)\n",
    "print(\"F1_Macro Scores Mean:\", scores.mean() * 100)\n",
    "print(\"F1_Macro Scores Standard Deviation:\", scores.std())"
   ]
  },
  {
   "cell_type": "code",
   "execution_count": 35,
   "id": "53b31173",
   "metadata": {},
   "outputs": [
    {
     "name": "stdout",
     "output_type": "stream",
     "text": [
      "              precision    recall  f1-score   support\n",
      "\n",
      "           0       0.24      0.14      0.17        29\n",
      "           1       0.18      0.09      0.12        23\n",
      "           2       0.39      0.48      0.43       647\n",
      "           3       0.30      0.30      0.30       346\n",
      "           4       0.29      0.36      0.32       266\n",
      "           5       0.23      0.19      0.21       126\n",
      "           6       0.42      0.34      0.38      1072\n",
      "           7       0.36      0.33      0.34       901\n",
      "           8       0.30      0.35      0.32       573\n",
      "\n",
      "    accuracy                           0.35      3983\n",
      "   macro avg       0.30      0.29      0.29      3983\n",
      "weighted avg       0.36      0.35      0.35      3983\n",
      "\n"
     ]
    }
   ],
   "source": [
    "print(classification_report(y_test, pred_te))"
   ]
  },
  {
   "cell_type": "code",
   "execution_count": 36,
   "id": "96a61c8e",
   "metadata": {},
   "outputs": [
    {
     "name": "stdout",
     "output_type": "stream",
     "text": [
      "0 Alzheimer's\n",
      "1 Cancer\n",
      "2 Cystic fibrosis\n",
      "3 Diabetes\n",
      "4 Hemochromatosis\n",
      "5 Leber's hereditary optic neuropathy\n",
      "6 Leigh syndrome\n",
      "7 Mitochondrial myopathy\n",
      "8 Tay-Sachs\n"
     ]
    }
   ],
   "source": [
    "for i, val in enumerate(le.inverse_transform([0, 1, 2, 3, 4, 5, 6, 7, 8])):\n",
    "    print(i, val)"
   ]
  },
  {
   "cell_type": "markdown",
   "id": "a932cce0",
   "metadata": {},
   "source": [
    "The initial model without class weights performs slightly better then the model with class weights. But the slight decrease to account for class_weights will hopefully lead to better learning model with tuning parameters to appropriately classify the small classes. The default parameters for XGBoost looks to be overfitting given then high 93-96 accuracy score for the train split, but only a 35-37 for the test split. This is supported by the cross validation with similar mean scores. Hyperparameter tuning will hopefully reduce the overfitting and increase the accuracy on the test split."
   ]
  },
  {
   "cell_type": "markdown",
   "id": "b673de9c",
   "metadata": {},
   "source": [
    "### Random Search and Grid Search with CV Functions"
   ]
  },
  {
   "cell_type": "code",
   "execution_count": 120,
   "id": "332e69cf",
   "metadata": {},
   "outputs": [],
   "source": [
    "def rand_search_eval(hype_params):\n",
    "    \n",
    "    \"\"\"\n",
    "    Function performs RandomizedSearchCV on inputted hyper parameters.\n",
    "    After models are created, the mean score and standard deviation of each iteration is stored.\n",
    "    The model is graphed against F1_Macro score.\n",
    "    The top 5 models are listed with their scores and iteration number for identification\n",
    "    Best parameters and best score are printed too.\n",
    "    \"\"\"\n",
    "    \n",
    "    # Random Search with CV of the hyper parameters\n",
    "    rand_search = RandomizedSearchCV(\n",
    "        estimator=pipe_tuning,\n",
    "        param_distributions=hype_params,\n",
    "        scoring = 'f1_macro',\n",
    "        n_iter = 20,\n",
    "        cv = 5,\n",
    "        verbose=True,\n",
    "        random_state=123\n",
    "    )\n",
    "    \n",
    "    # Fit and CV models with hyper parameters\n",
    "    rand_search.fit(X_train, y_train, xgb_model__sample_weight=sample_weights)\n",
    "    \n",
    "    # Mean and Standard Deviation from iteration\n",
    "    mean_score = list(rand_search.cv_results_['mean_test_score'])\n",
    "    stds_score = list(rand_search.cv_results_['std_test_score'])\n",
    "    \n",
    "    # Graphs each iteration and its F1_Macro score\n",
    "    plt.errorbar(list(range(0,len(mean_score))), mean_score, yerr=stds_score)\n",
    "    plt.title(\"Rand_Search Iteration vs F1_Macro Score\")\n",
    "    plt.xlabel(\"Iteration\")\n",
    "    plt.ylabel(\"f1_score\")\n",
    "    plt.show()\n",
    "    \n",
    "    # Prints the top 5 scores with iteration number\n",
    "    print(sorted(list(enumerate(mean_score)), key=lambda x: x[1], reverse=True)[0:5])\n",
    "    \n",
    "    print(\"Best Parameters: \", rand_search.best_params_)\n",
    "    print(\"Best Score: \", rand_search.best_score_)\n",
    "    \n",
    "    return(rand_search)"
   ]
  },
  {
   "cell_type": "code",
   "execution_count": 121,
   "id": "0ac18e2d",
   "metadata": {},
   "outputs": [],
   "source": [
    "def grid_search_eval(hype_params):\n",
    "    \n",
    "    \"\"\"\n",
    "    Function performs GridSearchCV on inputted hyper parameters.\n",
    "    After models are created, the mean score and standard deviation of each iteration is stored.\n",
    "    The model is graphed against F1_Macro score.\n",
    "    The top 5 models are listed with their scores and iteration number for identification\n",
    "    Best parameters and best score are printed too.\n",
    "    \"\"\"\n",
    "    \n",
    "    # Grid Search with CV of the hyper parameters\n",
    "    grid_search = GridSearchCV(\n",
    "        estimator=pipe_tuning,\n",
    "        param_grid=hype_params,\n",
    "        scoring = 'f1_macro',\n",
    "        cv = 5,\n",
    "        verbose=True\n",
    "    )\n",
    "    \n",
    "    # Fit and CV models with hyper parameters\n",
    "    grid_search.fit(X_train, y_train, xgb_model__sample_weight=sample_weights)\n",
    "    \n",
    "    # Mean and Standard Deviation from iteration\n",
    "    mean_score = list(grid_search.cv_results_['mean_test_score'])\n",
    "    stds_score = list(grid_search.cv_results_['std_test_score'])\n",
    "    \n",
    "    # Graphs each iteration and its F1_Macro score\n",
    "    plt.errorbar(list(range(0,len(mean_score))), mean_score, yerr=stds_score)\n",
    "    plt.title(\"Grid_Search Iteration vs F1_Macro Score\")\n",
    "    plt.xlabel(\"Iteration\")\n",
    "    plt.ylabel(\"f1_score\")\n",
    "    plt.show()\n",
    "    \n",
    "    # Prints the top 5 scores with iteration number\n",
    "    print(sorted(list(enumerate(mean_score)), key=lambda x: x[1], reverse=True)[0:5])\n",
    "    \n",
    "    print(\"Best Parameters: \", grid_search.best_params_)\n",
    "    print(\"Best Score: \", grid_search.best_score_)\n",
    "    \n",
    "    return(grid_search)"
   ]
  },
  {
   "cell_type": "markdown",
   "id": "29de6f69",
   "metadata": {},
   "source": [
    "### Hyperparameter Tuning"
   ]
  },
  {
   "cell_type": "code",
   "execution_count": 122,
   "id": "780ceed8",
   "metadata": {},
   "outputs": [],
   "source": [
    "# Base model with weighted class for the imbalance data set to tune\n",
    "pipe_tuning = Pipeline(steps=[('preprocessor', preprocessor),\n",
    "                              ('xgb_model', xgb.XGBClassifier(**params))])"
   ]
  },
  {
   "cell_type": "markdown",
   "id": "d8e01a2e",
   "metadata": {},
   "source": [
    "Initial parameter ranges were chosen based on articles about tuning parameters as a starting point."
   ]
  },
  {
   "cell_type": "markdown",
   "id": "257bfe33",
   "metadata": {},
   "source": [
    "#### learning_rate and n_estimators"
   ]
  },
  {
   "cell_type": "code",
   "execution_count": 123,
   "id": "c9b93d5a",
   "metadata": {},
   "outputs": [],
   "source": [
    "# Finding initial learning_rate and n_estimators.\n",
    "hype_params = {\n",
    "    'xgb_model__learning_rate': [0.001, 0.01, 0.1, 0.2, 0.3, 0.4],\n",
    "    'xgb_model__n_estimators': range(50, 1000, 50),\n",
    "}"
   ]
  },
  {
   "cell_type": "code",
   "execution_count": 124,
   "id": "e9d8b16f",
   "metadata": {},
   "outputs": [
    {
     "name": "stdout",
     "output_type": "stream",
     "text": [
      "Fitting 5 folds for each of 20 candidates, totalling 100 fits\n"
     ]
    },
    {
     "data": {
      "image/png": "[encoded data removed]",
      "text/plain": [
       "<Figure size 432x288 with 1 Axes>"
      ]
     },
     "metadata": {
      "needs_background": "light"
     },
     "output_type": "display_data"
    },
    {
     "name": "stdout",
     "output_type": "stream",
     "text": [
      "[(9, 0.3039368133030107), (8, 0.30008588750331533), (2, 0.2980943214843486), (18, 0.2979787110026922), (19, 0.2953164099505751)]\n",
      "Best Parameters:  {'xgb_model__n_estimators': 50, 'xgb_model__learning_rate': 0.4}\n",
      "Best Score:  0.3039368133030107\n"
     ]
    }
   ],
   "source": [
    "rand_search = rand_search_eval(hype_params)"
   ]
  },
  {
   "cell_type": "code",
   "execution_count": 125,
   "id": "1cba463e",
   "metadata": {},
   "outputs": [
    {
     "name": "stdout",
     "output_type": "stream",
     "text": [
      "9 {'xgb_model__n_estimators': 50, 'xgb_model__learning_rate': 0.4}\n",
      "8 {'xgb_model__n_estimators': 150, 'xgb_model__learning_rate': 0.2}\n",
      "2 {'xgb_model__n_estimators': 250, 'xgb_model__learning_rate': 0.1}\n",
      "18 {'xgb_model__n_estimators': 850, 'xgb_model__learning_rate': 0.01}\n",
      "19 {'xgb_model__n_estimators': 350, 'xgb_model__learning_rate': 0.1}\n"
     ]
    }
   ],
   "source": [
    "selectList = [9, 8, 2, 18, 19]\n",
    "modelParams = []\n",
    "\n",
    "for i in selectList:\n",
    "    print(i, rand_search.cv_results_['params'][i])\n",
    "    modelParams.append(rand_search.cv_results_['params'][i])\n",
    "    \n",
    "x = [x['xgb_model__n_estimators'] for x in modelParams]\n",
    "y = [x['xgb_model__learning_rate'] for x in modelParams]"
   ]
  },
  {
   "cell_type": "code",
   "execution_count": 126,
   "id": "b7f1fa9d",
   "metadata": {},
   "outputs": [
    {
     "data": {
      "image/png": "[encoded data removed]",
      "text/plain": [
       "<Figure size 432x288 with 1 Axes>"
      ]
     },
     "metadata": {
      "needs_background": "light"
     },
     "output_type": "display_data"
    }
   ],
   "source": [
    "plt.scatter(x,y)\n",
    "plt.xlabel(\"n_estimators\")\n",
    "plt.ylabel(\"learning_rate\")\n",
    "plt.show()"
   ]
  },
  {
   "cell_type": "code",
   "execution_count": 127,
   "id": "5fbb8e71",
   "metadata": {},
   "outputs": [],
   "source": [
    "# Tuning the parameter range based on the top 3 rand_search results\n",
    "hype_params = {\n",
    "    'xgb_model__learning_rate': [0.05, 0.1, 0.2, 0.3, 0.4, 0.45],\n",
    "    'xgb_model__n_estimators': range(30, 300, 25),\n",
    "}"
   ]
  },
  {
   "cell_type": "code",
   "execution_count": 128,
   "id": "28f652ff",
   "metadata": {},
   "outputs": [
    {
     "name": "stdout",
     "output_type": "stream",
     "text": [
      "Fitting 5 folds for each of 66 candidates, totalling 330 fits\n"
     ]
    },
    {
     "data": {
      "image/png": "[encoded data removed]",
      "text/plain": [
       "<Figure size 432x288 with 1 Axes>"
      ]
     },
     "metadata": {
      "needs_background": "light"
     },
     "output_type": "display_data"
    },
    {
     "name": "stdout",
     "output_type": "stream",
     "text": [
      "[(10, 0.31091839089782514), (55, 0.3108466659258959), (7, 0.3077107075290346), (8, 0.3070646893746959), (9, 0.3070489636930455)]\n",
      "Best Parameters:  {'xgb_model__learning_rate': 0.05, 'xgb_model__n_estimators': 280}\n",
      "Best Score:  0.31091839089782514\n"
     ]
    }
   ],
   "source": [
    "grid_search = grid_search_eval(hype_params)"
   ]
  },
  {
   "cell_type": "code",
   "execution_count": 129,
   "id": "6a337e73",
   "metadata": {},
   "outputs": [
    {
     "data": {
      "text/plain": [
       "{'xgb_model__learning_rate': 0.05, 'xgb_model__n_estimators': 280}"
      ]
     },
     "execution_count": 129,
     "metadata": {},
     "output_type": "execute_result"
    }
   ],
   "source": [
    "grid_search.best_params_"
   ]
  },
  {
   "cell_type": "code",
   "execution_count": 130,
   "id": "c57eda40",
   "metadata": {},
   "outputs": [
    {
     "data": {
      "text/plain": [
       "{'xgb_model__learning_rate': [0.05], 'xgb_model__n_estimators': [280]}"
      ]
     },
     "execution_count": 130,
     "metadata": {},
     "output_type": "execute_result"
    }
   ],
   "source": [
    "hype_params['xgb_model__learning_rate'] = [0.05]\n",
    "hype_params['xgb_model__n_estimators'] = [280]\n",
    "hype_params"
   ]
  },
  {
   "cell_type": "markdown",
   "id": "8db5560f",
   "metadata": {},
   "source": [
    "Set the initial tuned parameters for learning_rate and n_estimators to the best identified parameters, and then continue with tuning the tree parameters. I will come back to the learning_rate and n_estimator one more time at the end of the optimization."
   ]
  },
  {
   "cell_type": "markdown",
   "id": "b3c89551",
   "metadata": {},
   "source": [
    "#### Tree Parameters: max_depth, min_child_weight, gamma"
   ]
  },
  {
   "cell_type": "code",
   "execution_count": 131,
   "id": "d6e203f8",
   "metadata": {},
   "outputs": [],
   "source": [
    "hype_params['xgb_model__max_depth'] = range(2, 22, 2)\n",
    "hype_params['xgb_model__min_child_weight'] = range(1,16,2)\n",
    "hype_params['xgb_model__gamma'] = range(0, 10)"
   ]
  },
  {
   "cell_type": "code",
   "execution_count": 132,
   "id": "481d92cc",
   "metadata": {},
   "outputs": [
    {
     "name": "stdout",
     "output_type": "stream",
     "text": [
      "Fitting 5 folds for each of 20 candidates, totalling 100 fits\n"
     ]
    },
    {
     "data": {
      "image/png": "[encoded data removed]",
      "text/plain": [
       "<Figure size 432x288 with 1 Axes>"
      ]
     },
     "metadata": {
      "needs_background": "light"
     },
     "output_type": "display_data"
    },
    {
     "name": "stdout",
     "output_type": "stream",
     "text": [
      "[(14, 0.31073351808265615), (2, 0.31028476340668476), (6, 0.3099592778668635), (3, 0.3095266958383372), (15, 0.30698830172456526)]\n",
      "Best Parameters:  {'xgb_model__n_estimators': 280, 'xgb_model__min_child_weight': 11, 'xgb_model__max_depth': 10, 'xgb_model__learning_rate': 0.05, 'xgb_model__gamma': 1}\n",
      "Best Score:  0.31073351808265615\n"
     ]
    }
   ],
   "source": [
    "rand_search = rand_search_eval(hype_params)"
   ]
  },
  {
   "cell_type": "code",
   "execution_count": 142,
   "id": "88cdb0da",
   "metadata": {},
   "outputs": [],
   "source": [
    "# Tuning the parameter range based on the top rand_search results\n",
    "hype_params['xgb_model__max_depth'] = range(8, 13)\n",
    "hype_params['xgb_model__min_child_weight'] = range(9,14)\n",
    "hype_params['xgb_model__gamma'] = np.arange(0.8, 1.3, 0.1)"
   ]
  },
  {
   "cell_type": "code",
   "execution_count": 143,
   "id": "ac9440bc",
   "metadata": {},
   "outputs": [
    {
     "name": "stdout",
     "output_type": "stream",
     "text": [
      "Fitting 5 folds for each of 125 candidates, totalling 625 fits\n"
     ]
    },
    {
     "data": {
      "image/png": "[encoded data removed]",
      "text/plain": [
       "<Figure size 432x288 with 1 Axes>"
      ]
     },
     "metadata": {
      "needs_background": "light"
     },
     "output_type": "display_data"
    },
    {
     "name": "stdout",
     "output_type": "stream",
     "text": [
      "[(46, 0.317451096728259), (49, 0.31697280950377504), (66, 0.31653223704677613), (87, 0.31606739092693753), (30, 0.31602425580274224)]\n",
      "Best Parameters:  {'xgb_model__gamma': 0.9, 'xgb_model__learning_rate': 0.05, 'xgb_model__max_depth': 12, 'xgb_model__min_child_weight': 10, 'xgb_model__n_estimators': 280}\n",
      "Best Score:  0.317451096728259\n"
     ]
    }
   ],
   "source": [
    "grid_search = grid_search_eval(hype_params)"
   ]
  },
  {
   "cell_type": "markdown",
   "id": "52e30504",
   "metadata": {},
   "source": [
    "Given that the max_depth value is the highest value in the parameter search, I will perform a second round of grid_search with increased parameters."
   ]
  },
  {
   "cell_type": "code",
   "execution_count": 147,
   "id": "497ed417",
   "metadata": {},
   "outputs": [],
   "source": [
    "hype_params['xgb_model__max_depth'] = range(10, 15)\n",
    "hype_params['xgb_model__min_child_weight'] = range(8,13)\n",
    "hype_params['xgb_model__gamma'] = np.arange(0.7, 1.2, 0.1)"
   ]
  },
  {
   "cell_type": "code",
   "execution_count": 148,
   "id": "f692ca31",
   "metadata": {},
   "outputs": [
    {
     "name": "stdout",
     "output_type": "stream",
     "text": [
      "Fitting 5 folds for each of 125 candidates, totalling 625 fits\n"
     ]
    },
    {
     "data": {
      "image/png": "[encoded data removed]",
      "text/plain": [
       "<Figure size 432x288 with 1 Axes>"
      ]
     },
     "metadata": {
      "needs_background": "light"
     },
     "output_type": "display_data"
    },
    {
     "name": "stdout",
     "output_type": "stream",
     "text": [
      "[(62, 0.317451096728259), (82, 0.31653223704677613), (103, 0.31606739092693753), (84, 0.31585418504564433), (12, 0.31548244622643745)]\n",
      "Best Parameters:  {'xgb_model__gamma': 0.8999999999999999, 'xgb_model__learning_rate': 0.05, 'xgb_model__max_depth': 12, 'xgb_model__min_child_weight': 10, 'xgb_model__n_estimators': 280}\n",
      "Best Score:  0.317451096728259\n"
     ]
    }
   ],
   "source": [
    "grid_search = grid_search_eval(hype_params)"
   ]
  },
  {
   "cell_type": "code",
   "execution_count": 150,
   "id": "8e468623",
   "metadata": {},
   "outputs": [],
   "source": [
    "# Set tuning parameters for found best parameters\n",
    "hype_params['xgb_model__max_depth'] = [12]\n",
    "hype_params['xgb_model__min_child_weight'] = [10]\n",
    "hype_params['xgb_model__gamma'] = [0.9]"
   ]
  },
  {
   "cell_type": "markdown",
   "id": "16b4b9f0",
   "metadata": {},
   "source": [
    "#### subsample and colsample_bytree"
   ]
  },
  {
   "cell_type": "code",
   "execution_count": 165,
   "id": "48cdd5f9",
   "metadata": {},
   "outputs": [],
   "source": [
    "hype_params['xgb_model__subsample'] = [i/10.0 for i in range(0,11)]\n",
    "hype_params['xgb_model__colsample_bytree'] = [i/10.0 for i in range(0,11)]"
   ]
  },
  {
   "cell_type": "code",
   "execution_count": 166,
   "id": "a5500d5c",
   "metadata": {},
   "outputs": [
    {
     "name": "stdout",
     "output_type": "stream",
     "text": [
      "Fitting 5 folds for each of 20 candidates, totalling 100 fits\n"
     ]
    },
    {
     "data": {
      "image/png": "[encoded data removed]",
      "text/plain": [
       "<Figure size 432x288 with 1 Axes>"
      ]
     },
     "metadata": {
      "needs_background": "light"
     },
     "output_type": "display_data"
    },
    {
     "name": "stdout",
     "output_type": "stream",
     "text": [
      "[(6, 0.3111158480552393), (19, 0.3066736515642691), (18, 0.3060233323782543), (3, 0.3033186209975073), (1, 0.3030298247606174)]\n",
      "Best Parameters:  {'xgb_model__subsample': 1.0, 'xgb_model__n_estimators': 280, 'xgb_model__min_child_weight': 10, 'xgb_model__max_depth': 12, 'xgb_model__learning_rate': 0.05, 'xgb_model__gamma': 0.9, 'xgb_model__colsample_bytree': 0.7}\n",
      "Best Score:  0.3111158480552393\n"
     ]
    }
   ],
   "source": [
    "rand_search = rand_search_eval(hype_params)"
   ]
  },
  {
   "cell_type": "code",
   "execution_count": 169,
   "id": "ccc721b3",
   "metadata": {},
   "outputs": [],
   "source": [
    "# Grid_Search parameters based on Rand_Search findings\n",
    "hype_params['xgb_model__subsample'] = [0.7, 0.75, 0.80, 0.85, 0.90, 0.95, 1]\n",
    "hype_params['xgb_model__colsample_bytree'] = [0.6, 0.65, 0.7, 0.75, 0.8, 0.85, 0.9, 0.95, 1]"
   ]
  },
  {
   "cell_type": "code",
   "execution_count": 170,
   "id": "b792ea41",
   "metadata": {},
   "outputs": [
    {
     "name": "stdout",
     "output_type": "stream",
     "text": [
      "Fitting 5 folds for each of 63 candidates, totalling 315 fits\n"
     ]
    },
    {
     "data": {
      "image/png": "[encoded data removed]",
      "text/plain": [
       "<Figure size 432x288 with 1 Axes>"
      ]
     },
     "metadata": {
      "needs_background": "light"
     },
     "output_type": "display_data"
    },
    {
     "name": "stdout",
     "output_type": "stream",
     "text": [
      "[(54, 0.32089004373102753), (62, 0.317451096728259), (61, 0.31553712757579466), (60, 0.3143723262084192), (55, 0.3139848532888326)]\n",
      "Best Parameters:  {'xgb_model__colsample_bytree': 0.95, 'xgb_model__gamma': 0.9, 'xgb_model__learning_rate': 0.05, 'xgb_model__max_depth': 12, 'xgb_model__min_child_weight': 10, 'xgb_model__n_estimators': 280, 'xgb_model__subsample': 0.95}\n",
      "Best Score:  0.32089004373102753\n"
     ]
    }
   ],
   "source": [
    "grid_search = grid_search_eval(hype_params)"
   ]
  },
  {
   "cell_type": "code",
   "execution_count": 172,
   "id": "09a942db",
   "metadata": {},
   "outputs": [
    {
     "data": {
      "text/plain": [
       "{'xgb_model__learning_rate': [0.05],\n",
       " 'xgb_model__n_estimators': [280],\n",
       " 'xgb_model__max_depth': [12],\n",
       " 'xgb_model__min_child_weight': [10],\n",
       " 'xgb_model__gamma': [0.9],\n",
       " 'xgb_model__subsample': [0.95],\n",
       " 'xgb_model__colsample_bytree': [0.95]}"
      ]
     },
     "execution_count": 172,
     "metadata": {},
     "output_type": "execute_result"
    }
   ],
   "source": [
    "# Set tuning parameters for found best parameters\n",
    "hype_params['xgb_model__subsample'] = [0.95]\n",
    "hype_params['xgb_model__colsample_bytree'] = [0.95]"
   ]
  },
  {
   "cell_type": "markdown",
   "id": "8b8f3f2e",
   "metadata": {},
   "source": [
    "#### Tuning Regularization: reg_lambda and reg_alpha"
   ]
  },
  {
   "cell_type": "markdown",
   "id": "1e4ab921",
   "metadata": {},
   "source": [
    "I will be tuning lambda rather then alpha since the amount of features I have for my data is relatively small and does not need dimensional reduction."
   ]
  },
  {
   "cell_type": "code",
   "execution_count": 174,
   "id": "28da0973",
   "metadata": {},
   "outputs": [],
   "source": [
    "hype_params['xgb_model__reg_lambda'] = [i/10.0 for i in range(7,16)]\n",
    "hype_params['xgb_model__reg_alpha'] = [0, 0.001, 0.005, 0.01, 0.05]"
   ]
  },
  {
   "cell_type": "code",
   "execution_count": 175,
   "id": "3acf0219",
   "metadata": {},
   "outputs": [
    {
     "name": "stdout",
     "output_type": "stream",
     "text": [
      "Fitting 5 folds for each of 20 candidates, totalling 100 fits\n"
     ]
    },
    {
     "data": {
      "image/png": "[encoded data removed]",
      "text/plain": [
       "<Figure size 432x288 with 1 Axes>"
      ]
     },
     "metadata": {
      "needs_background": "light"
     },
     "output_type": "display_data"
    },
    {
     "name": "stdout",
     "output_type": "stream",
     "text": [
      "[(12, 0.3198800622567941), (19, 0.3189032355253613), (0, 0.3188761689601704), (7, 0.31882049830158055), (18, 0.31872312453829343)]\n",
      "Best Parameters:  {'xgb_model__subsample': 0.95, 'xgb_model__reg_lambda': 1.0, 'xgb_model__reg_alpha': 0.001, 'xgb_model__n_estimators': 280, 'xgb_model__min_child_weight': 10, 'xgb_model__max_depth': 12, 'xgb_model__learning_rate': 0.05, 'xgb_model__gamma': 0.9, 'xgb_model__colsample_bytree': 0.95}\n",
      "Best Score:  0.3198800622567941\n"
     ]
    }
   ],
   "source": [
    "rand_search = rand_search_eval(hype_params)"
   ]
  },
  {
   "cell_type": "code",
   "execution_count": 176,
   "id": "e231b625",
   "metadata": {},
   "outputs": [
    {
     "data": {
      "text/plain": [
       "{'xgb_model__subsample': 0.95,\n",
       " 'xgb_model__reg_lambda': 1.4,\n",
       " 'xgb_model__reg_alpha': 0,\n",
       " 'xgb_model__n_estimators': 280,\n",
       " 'xgb_model__min_child_weight': 10,\n",
       " 'xgb_model__max_depth': 12,\n",
       " 'xgb_model__learning_rate': 0.05,\n",
       " 'xgb_model__gamma': 0.9,\n",
       " 'xgb_model__colsample_bytree': 0.95}"
      ]
     },
     "execution_count": 176,
     "metadata": {},
     "output_type": "execute_result"
    }
   ],
   "source": [
    "rand_search.cv_results_['params'][19]"
   ]
  },
  {
   "cell_type": "code",
   "execution_count": 179,
   "id": "ab368794",
   "metadata": {},
   "outputs": [],
   "source": [
    "# Tuning the parameter range based on the top rand_search results\n",
    "hype_params['xgb_model__reg_lambda'] = [0.90, 0.95, 1, 1.05, 1.10]\n",
    "hype_params['xgb_model__reg_alpha'] = [0, 0.0001, 0.0005, 0.001, 0.002, 0.005, 0.01]"
   ]
  },
  {
   "cell_type": "code",
   "execution_count": 180,
   "id": "03bb1004",
   "metadata": {},
   "outputs": [
    {
     "name": "stdout",
     "output_type": "stream",
     "text": [
      "Fitting 5 folds for each of 35 candidates, totalling 175 fits\n"
     ]
    },
    {
     "data": {
      "image/png": "[encoded data removed]",
      "text/plain": [
       "<Figure size 432x288 with 1 Axes>"
      ]
     },
     "metadata": {
      "needs_background": "light"
     },
     "output_type": "display_data"
    },
    {
     "name": "stdout",
     "output_type": "stream",
     "text": [
      "[(2, 0.32089004373102753), (17, 0.3198800622567941), (7, 0.3188385299427333), (27, 0.31872312453829343), (31, 0.31842644115493746)]\n",
      "Best Parameters:  {'xgb_model__colsample_bytree': 0.95, 'xgb_model__gamma': 0.9, 'xgb_model__learning_rate': 0.05, 'xgb_model__max_depth': 12, 'xgb_model__min_child_weight': 10, 'xgb_model__n_estimators': 280, 'xgb_model__reg_alpha': 0, 'xgb_model__reg_lambda': 1, 'xgb_model__subsample': 0.95}\n",
      "Best Score:  0.32089004373102753\n"
     ]
    }
   ],
   "source": [
    "grid_search = grid_search_eval(hype_params)"
   ]
  },
  {
   "cell_type": "code",
   "execution_count": 181,
   "id": "a0bb8846",
   "metadata": {},
   "outputs": [],
   "source": [
    "# Set tuning parameters for found best parameters\n",
    "hype_params['xgb_model__reg_lambda'] = [1]\n",
    "hype_params['xgb_model__reg_alpha'] = [0]"
   ]
  },
  {
   "cell_type": "markdown",
   "id": "8308169a",
   "metadata": {},
   "source": [
    "#### Checking back on learning_rate and n_estimator\n",
    "I skipped this step in interest in time, I will perform this after our mentor meeting if it improves the metric."
   ]
  },
  {
   "cell_type": "markdown",
   "id": "7fb41979",
   "metadata": {},
   "source": [
    "After all other parameters have been set to optimal values, I am going to re-evaluate the learning_rate and n_estimator to see if there are impovements with deeper learning parameters. Lower value for learning_rate and higher value for n_estimator. I will be going straight to GridSearch given I have initial parameters and range to work with."
   ]
  },
  {
   "cell_type": "code",
   "execution_count": 490,
   "id": "6aac6568",
   "metadata": {},
   "outputs": [],
   "source": [
    "# hype_params['xgb_model__learning_rate'] = [0.001, 0.01, 0.03, 0.05, 0.1]\n",
    "# hype_params['xgb_model__n_estimators'] = [270, 275, 280, 285, 290, 295, 300]"
   ]
  },
  {
   "cell_type": "code",
   "execution_count": 491,
   "id": "ea090074",
   "metadata": {},
   "outputs": [],
   "source": [
    "# grid_search = grid_search_eval(hype_params)"
   ]
  },
  {
   "cell_type": "code",
   "execution_count": null,
   "id": "fd0c7841",
   "metadata": {},
   "outputs": [],
   "source": []
  },
  {
   "cell_type": "code",
   "execution_count": null,
   "id": "69817b9b",
   "metadata": {},
   "outputs": [],
   "source": [
    "# Set final learning_rate and n_estimator\n",
    "# hype_params['xgb_model__learning_rate'] = []\n",
    "# hype_params['xgb_model__n_estimators'] = []"
   ]
  },
  {
   "cell_type": "code",
   "execution_count": null,
   "id": "d7f03c77",
   "metadata": {},
   "outputs": [],
   "source": []
  },
  {
   "cell_type": "code",
   "execution_count": null,
   "id": "6a05b3e8",
   "metadata": {},
   "outputs": [],
   "source": []
  },
  {
   "cell_type": "markdown",
   "id": "0e99f62d",
   "metadata": {},
   "source": [
    "#### Final Hyper Parameters"
   ]
  },
  {
   "cell_type": "code",
   "execution_count": 182,
   "id": "28aa1194",
   "metadata": {},
   "outputs": [
    {
     "data": {
      "text/plain": [
       "{'xgb_model__learning_rate': [0.05],\n",
       " 'xgb_model__n_estimators': [280],\n",
       " 'xgb_model__max_depth': [12],\n",
       " 'xgb_model__min_child_weight': [10],\n",
       " 'xgb_model__gamma': [0.9],\n",
       " 'xgb_model__subsample': [0.95],\n",
       " 'xgb_model__colsample_bytree': [0.95],\n",
       " 'xgb_model__reg_lambda': [1],\n",
       " 'xgb_model__reg_alpha': [0]}"
      ]
     },
     "execution_count": 182,
     "metadata": {},
     "output_type": "execute_result"
    }
   ],
   "source": [
    "# Final hyper_parameters\n",
    "hype_params"
   ]
  },
  {
   "cell_type": "markdown",
   "id": "d1b33eeb",
   "metadata": {},
   "source": [
    "### Final Model"
   ]
  },
  {
   "cell_type": "code",
   "execution_count": 183,
   "id": "fa8944a9",
   "metadata": {},
   "outputs": [
    {
     "name": "stdout",
     "output_type": "stream",
     "text": [
      "93.3592769269395\n",
      "36.279186542806926\n"
     ]
    }
   ],
   "source": [
    "final_model = xgb.XGBClassifier(objective='Multi:softmax', eval_metric=\"mlogloss\", use_label_encoder=False, seed=123,\n",
    "                                learning_rate=0.05,\n",
    "                                n_estimators=280,\n",
    "                                max_depth=12,\n",
    "                                min_child_weight=10,\n",
    "                                gamma=0.9,\n",
    "                                colsample_bytree=0.95,\n",
    "                                subsample=0.95,\n",
    "                                reg_alpha=0,\n",
    "                                reg_lambda=1)\n",
    "\n",
    "pipe_final = Pipeline(steps=[('preprocessor', preprocessor),\n",
    "                             ('xgb_model', final_model)])\n",
    "\n",
    "pipe_final.fit(X_train, y_train, xgb_model__sample_weight=sample_weights)\n",
    "\n",
    "pred_tr = pipe_final.predict(X_train)\n",
    "pred_te = pipe_final.predict(X_test)\n",
    "\n",
    "print(accuracy_score(y_train, pred_tr) * 100)\n",
    "print(accuracy_score(y_test, pred_te) * 100)"
   ]
  },
  {
   "cell_type": "code",
   "execution_count": 184,
   "id": "d4d9f279",
   "metadata": {},
   "outputs": [
    {
     "name": "stdout",
     "output_type": "stream",
     "text": [
      "Scores: [38.78255413 38.87668654 39.20276208 36.15819209 37.25674827]\n",
      "Mean: 38.05538862268266\n",
      "Standard Deviation: 0.011624927428611698\n"
     ]
    }
   ],
   "source": [
    "# Cross Validation Score\n",
    "scores = cross_val_score(pipe_final, X_train, y_train, cv=5, scoring=\"accuracy\")\n",
    "print(\"Scores:\", scores * 100)\n",
    "print(\"Mean:\", scores.mean() * 100)\n",
    "print(\"Standard Deviation:\", scores.std())"
   ]
  },
  {
   "cell_type": "code",
   "execution_count": 186,
   "id": "d440e4fe",
   "metadata": {},
   "outputs": [
    {
     "name": "stdout",
     "output_type": "stream",
     "text": [
      "              precision    recall  f1-score   support\n",
      "\n",
      "           0       0.19      0.10      0.13        29\n",
      "           1       0.27      0.26      0.27        23\n",
      "           2       0.41      0.51      0.46       647\n",
      "           3       0.31      0.31      0.31       346\n",
      "           4       0.30      0.36      0.33       266\n",
      "           5       0.24      0.21      0.22       126\n",
      "           6       0.43      0.34      0.38      1072\n",
      "           7       0.37      0.35      0.36       901\n",
      "           8       0.30      0.34      0.32       573\n",
      "\n",
      "    accuracy                           0.36      3983\n",
      "   macro avg       0.31      0.31      0.31      3983\n",
      "weighted avg       0.37      0.36      0.36      3983\n",
      "\n"
     ]
    }
   ],
   "source": [
    "print(classification_report(y_test, pred_te))"
   ]
  },
  {
   "cell_type": "markdown",
   "id": "c44e4cde",
   "metadata": {},
   "source": [
    "# Do i fit using my weight class? or as is is appropriate as below"
   ]
  },
  {
   "cell_type": "code",
   "execution_count": 187,
   "id": "b568b4ac",
   "metadata": {},
   "outputs": [
    {
     "data": {
      "text/plain": [
       "Pipeline(steps=[('preprocessor',\n",
       "                 ColumnTransformer(transformers=[('num_transformer',\n",
       "                                                  SimpleImputer(fill_value=-99,\n",
       "                                                                strategy='constant'),\n",
       "                                                  Index(['Patient_Age', 'Blood_Cell', 'Mother_Age', 'Father_Age',\n",
       "       'Previous_Abortions', 'White_Blood_Cell', 'Symptom_1', 'Symptom_2',\n",
       "       'Symptom_3', 'Symptom_4', 'Symptom_5'],\n",
       "      dtype='object')),\n",
       "                                                 ('cat_transformer',\n",
       "                                                  Pipeline(steps=[('im...\n",
       "                               importance_type=None, interaction_constraints='',\n",
       "                               learning_rate=0.05, max_delta_step=0,\n",
       "                               max_depth=12, min_child_weight=10, missing=nan,\n",
       "                               monotone_constraints='()', n_estimators=280,\n",
       "                               n_jobs=6, num_parallel_tree=1,\n",
       "                               objective='multi:softprob', predictor='auto',\n",
       "                               random_state=123, reg_alpha=0, reg_lambda=1,\n",
       "                               scale_pos_weight=None, seed=123, subsample=0.95,\n",
       "                               tree_method='exact', use_label_encoder=False, ...))])"
      ]
     },
     "execution_count": 187,
     "metadata": {},
     "output_type": "execute_result"
    }
   ],
   "source": [
    "# Fit Final Model to Entire Training Data\n",
    "pipe_final.fit(X, encoded_y)"
   ]
  },
  {
   "cell_type": "markdown",
   "id": "3d03c858",
   "metadata": {},
   "source": [
    "## Feature Importance"
   ]
  },
  {
   "cell_type": "code",
   "execution_count": 188,
   "id": "5a56e3a6",
   "metadata": {},
   "outputs": [
    {
     "data": {
      "text/plain": [
       "<AxesSubplot:title={'center':'Feature importance'}, xlabel='F score', ylabel='Features'>"
      ]
     },
     "execution_count": 188,
     "metadata": {},
     "output_type": "execute_result"
    },
    {
     "data": {
      "image/png": "[encoded data removed]",
      "text/plain": [
       "<Figure size 432x288 with 1 Axes>"
      ]
     },
     "metadata": {
      "needs_background": "light"
     },
     "output_type": "display_data"
    }
   ],
   "source": [
    "final_model.get_booster().feature_names = list(feature_col_names)\n",
    "xgb.plot_importance(final_model.get_booster(), max_num_features=len(feature_col_names))"
   ]
  },
  {
   "cell_type": "code",
   "execution_count": 197,
   "id": "1bcbc638",
   "metadata": {},
   "outputs": [
    {
     "data": {
      "text/plain": [
       "<AxesSubplot:title={'center':'Feature importance'}, xlabel='F score', ylabel='Features'>"
      ]
     },
     "execution_count": 197,
     "metadata": {},
     "output_type": "execute_result"
    },
    {
     "data": {
      "image/png": "[encoded data removed]",
      "text/plain": [
       "<Figure size 432x288 with 1 Axes>"
      ]
     },
     "metadata": {
      "needs_background": "light"
     },
     "output_type": "display_data"
    }
   ],
   "source": [
    "xgb.plot_importance(final_model.get_booster(), max_num_features=20)"
   ]
  },
  {
   "cell_type": "markdown",
   "id": "42dd29de",
   "metadata": {},
   "source": [
    "### Kaggle Output Data and Final Model Testing"
   ]
  },
  {
   "cell_type": "code",
   "execution_count": 230,
   "id": "2cdbc03e",
   "metadata": {},
   "outputs": [],
   "source": [
    "test_data = pd.read_csv(\"..\\\\Data\\\\test_data_cleaned.csv\", index_col=0)\n",
    "test_data_raw = pd.read_csv(\"..\\\\Data\\\\Raw Data\\\\test.csv\")\n",
    "\n",
    "output_df = pd.DataFrame(test_data_raw[\"Patient Id\"])"
   ]
  },
  {
   "cell_type": "code",
   "execution_count": 231,
   "id": "1766a99d",
   "metadata": {},
   "outputs": [],
   "source": [
    "Disorder_Subclass_Predictions = le.inverse_transform(pipe_final.predict(test_data))"
   ]
  },
  {
   "cell_type": "code",
   "execution_count": 232,
   "id": "160f0150",
   "metadata": {},
   "outputs": [],
   "source": [
    "Genetic_Disorder = []\n",
    "\n",
    "for val in Disorder_Subclass_Predictions:\n",
    "    if val == \"Cystic fibrosis\":\n",
    "        Genetic_Disorder.append(\"Single-gene inheritance diseases\")\n",
    "    elif val == \"Hemochromatosis\":\n",
    "        Genetic_Disorder.append(\"Single-gene inheritance diseases\")\n",
    "    elif val == \"Tay-Sachs\":\n",
    "        Genetic_Disorder.append(\"Single-gene inheritance diseases\")\n",
    "    elif val == \"Diabetes\":\n",
    "        Genetic_Disorder.append(\"Multifactorial genetic inheritance disorders\")\n",
    "    elif val == \"Cancer\":\n",
    "        Genetic_Disorder.append(\"Multifactorial genetic inheritance disorders\")\n",
    "    elif val == \"Alzheimer's\":\n",
    "        Genetic_Disorder.append(\"Multifactorial genetic inheritance disorders\")\n",
    "    else: Genetic_Disorder.append(\"Mitochondrial genetic inheritance disorders\")"
   ]
  },
  {
   "cell_type": "code",
   "execution_count": 234,
   "id": "a5b60376",
   "metadata": {},
   "outputs": [
    {
     "data": {
      "text/html": [
       "<div>\n",
       "<style scoped>\n",
       "    .dataframe tbody tr th:only-of-type {\n",
       "        vertical-align: middle;\n",
       "    }\n",
       "\n",
       "    .dataframe tbody tr th {\n",
       "        vertical-align: top;\n",
       "    }\n",
       "\n",
       "    .dataframe thead th {\n",
       "        text-align: right;\n",
       "    }\n",
       "</style>\n",
       "<table border=\"1\" class=\"dataframe\">\n",
       "  <thead>\n",
       "    <tr style=\"text-align: right;\">\n",
       "      <th></th>\n",
       "      <th>Patient Id</th>\n",
       "      <th>Genetic Disorder</th>\n",
       "      <th>Disorder Subclass</th>\n",
       "    </tr>\n",
       "  </thead>\n",
       "  <tbody>\n",
       "    <tr>\n",
       "      <th>0</th>\n",
       "      <td>PID0x4175</td>\n",
       "      <td>Mitochondrial genetic inheritance disorders</td>\n",
       "      <td>Leber's hereditary optic neuropathy</td>\n",
       "    </tr>\n",
       "    <tr>\n",
       "      <th>1</th>\n",
       "      <td>PID0x21f5</td>\n",
       "      <td>Single-gene inheritance diseases</td>\n",
       "      <td>Hemochromatosis</td>\n",
       "    </tr>\n",
       "    <tr>\n",
       "      <th>2</th>\n",
       "      <td>PID0x49b8</td>\n",
       "      <td>Mitochondrial genetic inheritance disorders</td>\n",
       "      <td>Mitochondrial myopathy</td>\n",
       "    </tr>\n",
       "    <tr>\n",
       "      <th>3</th>\n",
       "      <td>PID0x2d97</td>\n",
       "      <td>Single-gene inheritance diseases</td>\n",
       "      <td>Cystic fibrosis</td>\n",
       "    </tr>\n",
       "    <tr>\n",
       "      <th>4</th>\n",
       "      <td>PID0x58da</td>\n",
       "      <td>Single-gene inheritance diseases</td>\n",
       "      <td>Cystic fibrosis</td>\n",
       "    </tr>\n",
       "    <tr>\n",
       "      <th>...</th>\n",
       "      <td>...</td>\n",
       "      <td>...</td>\n",
       "      <td>...</td>\n",
       "    </tr>\n",
       "    <tr>\n",
       "      <th>9460</th>\n",
       "      <td>PID0x81e1</td>\n",
       "      <td>Single-gene inheritance diseases</td>\n",
       "      <td>Cystic fibrosis</td>\n",
       "    </tr>\n",
       "    <tr>\n",
       "      <th>9461</th>\n",
       "      <td>PID0x3514</td>\n",
       "      <td>Multifactorial genetic inheritance disorders</td>\n",
       "      <td>Diabetes</td>\n",
       "    </tr>\n",
       "    <tr>\n",
       "      <th>9462</th>\n",
       "      <td>PID0x5408</td>\n",
       "      <td>Single-gene inheritance diseases</td>\n",
       "      <td>Tay-Sachs</td>\n",
       "    </tr>\n",
       "    <tr>\n",
       "      <th>9463</th>\n",
       "      <td>PID0x2017</td>\n",
       "      <td>Mitochondrial genetic inheritance disorders</td>\n",
       "      <td>Leber's hereditary optic neuropathy</td>\n",
       "    </tr>\n",
       "    <tr>\n",
       "      <th>9464</th>\n",
       "      <td>PID0x7f61</td>\n",
       "      <td>Single-gene inheritance diseases</td>\n",
       "      <td>Cystic fibrosis</td>\n",
       "    </tr>\n",
       "  </tbody>\n",
       "</table>\n",
       "<p>9465 rows × 3 columns</p>\n",
       "</div>"
      ],
      "text/plain": [
       "     Patient Id                              Genetic Disorder  \\\n",
       "0     PID0x4175   Mitochondrial genetic inheritance disorders   \n",
       "1     PID0x21f5              Single-gene inheritance diseases   \n",
       "2     PID0x49b8   Mitochondrial genetic inheritance disorders   \n",
       "3     PID0x2d97              Single-gene inheritance diseases   \n",
       "4     PID0x58da              Single-gene inheritance diseases   \n",
       "...         ...                                           ...   \n",
       "9460  PID0x81e1              Single-gene inheritance diseases   \n",
       "9461  PID0x3514  Multifactorial genetic inheritance disorders   \n",
       "9462  PID0x5408              Single-gene inheritance diseases   \n",
       "9463  PID0x2017   Mitochondrial genetic inheritance disorders   \n",
       "9464  PID0x7f61              Single-gene inheritance diseases   \n",
       "\n",
       "                        Disorder Subclass  \n",
       "0     Leber's hereditary optic neuropathy  \n",
       "1                         Hemochromatosis  \n",
       "2                  Mitochondrial myopathy  \n",
       "3                         Cystic fibrosis  \n",
       "4                         Cystic fibrosis  \n",
       "...                                   ...  \n",
       "9460                      Cystic fibrosis  \n",
       "9461                             Diabetes  \n",
       "9462                            Tay-Sachs  \n",
       "9463  Leber's hereditary optic neuropathy  \n",
       "9464                      Cystic fibrosis  \n",
       "\n",
       "[9465 rows x 3 columns]"
      ]
     },
     "execution_count": 234,
     "metadata": {},
     "output_type": "execute_result"
    }
   ],
   "source": [
    "output_df[\"Genetic Disorder\"] = Genetic_Disorder\n",
    "output_df[\"Disorder Subclass\"] = Disorder_Subclass_Predictions\n",
    "\n",
    "output_df"
   ]
  },
  {
   "cell_type": "code",
   "execution_count": 235,
   "id": "946d4728",
   "metadata": {},
   "outputs": [],
   "source": [
    "output_df.to_csv('../Data/outputPredicted.csv')"
   ]
  },
  {
   "cell_type": "markdown",
   "id": "60c7efdf",
   "metadata": {},
   "source": [
    "### Follow Up"
   ]
  },
  {
   "cell_type": "code",
   "execution_count": 238,
   "id": "6cbe2182",
   "metadata": {},
   "outputs": [],
   "source": [
    "fractions = [.2, .25, .3, .35, .4, .45, .5, .6, .75, .8, 1.0]\n",
    "train_size, train_scores, test_scores = learning_curve(pipe_final, X_train, y_train, train_sizes=fractions)\n",
    "train_scores_mean = np.mean(train_scores, axis=1)\n",
    "train_scores_std = np.std(train_scores, axis=1)\n",
    "test_scores_mean = np.mean(test_scores, axis=1)\n",
    "test_scores_std = np.std(test_scores, axis=1)"
   ]
  },
  {
   "cell_type": "code",
   "execution_count": 239,
   "id": "a337a778",
   "metadata": {},
   "outputs": [
    {
     "data": {
      "image/png": "[encoded data removed]",
      "text/plain": [
       "<Figure size 720x360 with 1 Axes>"
      ]
     },
     "metadata": {
      "needs_background": "light"
     },
     "output_type": "display_data"
    }
   ],
   "source": [
    "plt.subplots(figsize=(10, 5))\n",
    "plt.errorbar(train_size, test_scores_mean, yerr=test_scores_std)\n",
    "plt.xlabel('Training set size')\n",
    "plt.ylabel('CV scores')\n",
    "plt.title('Cross-validation score as training set size increases');\n",
    "plt.show()"
   ]
  },
  {
   "cell_type": "code",
   "execution_count": null,
   "id": "e076630e",
   "metadata": {},
   "outputs": [],
   "source": [
    "# Will write a bit more"
   ]
  }
 ],
 "metadata": {
  "kernelspec": {
   "display_name": "Python 3 (ipykernel)",
   "language": "python",
   "name": "python3"
  },
  "language_info": {
   "codemirror_mode": {
    "name": "ipython",
    "version": 3
   },
   "file_extension": ".py",
   "mimetype": "text/x-python",
   "name": "python",
   "nbconvert_exporter": "python",
   "pygments_lexer": "ipython3",
   "version": "3.8.8"
  }
 },
 "nbformat": 4,
 "nbformat_minor": 5
}
