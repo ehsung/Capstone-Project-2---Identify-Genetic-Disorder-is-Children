{
 "cells": [
  {
   "cell_type": "markdown",
   "id": "0063b215",
   "metadata": {},
   "source": [
    "### Packages"
   ]
  },
  {
   "cell_type": "code",
   "execution_count": 1,
   "id": "561263c0",
   "metadata": {},
   "outputs": [],
   "source": [
    "import pandas as pd\n",
    "import numpy as np\n",
    "import matplotlib.pyplot as plt\n",
    "import seaborn as sns\n",
    "import missingno as msno\n",
    "import joblib\n",
    "from sklearn.preprocessing import LabelEncoder, OrdinalEncoder\n",
    "from sklearn.metrics import accuracy_score, classification_report, confusion_matrix\n",
    "from sklearn.compose import ColumnTransformer\n",
    "from sklearn.pipeline import Pipeline\n",
    "from sklearn.impute import SimpleImputer\n",
    "from sklearn.model_selection import train_test_split, cross_val_score, RandomizedSearchCV, learning_curve\n",
    "from sklearn.utils.class_weight import compute_sample_weight\n",
    "\n",
    "import xgboost as xgb\n",
    "from sklearn.ensemble import RandomForestClassifier, GradientBoostingClassifier"
   ]
  },
  {
   "cell_type": "markdown",
   "id": "f76606b6",
   "metadata": {},
   "source": [
    "### Load Cleaned Data Set"
   ]
  },
  {
   "cell_type": "code",
   "execution_count": 2,
   "id": "9df3d7c8",
   "metadata": {},
   "outputs": [],
   "source": [
    "# Local Linked\n",
    "train_data = pd.read_csv(\"..\\\\Data\\\\train_data_EDA_processed.csv\", index_col=0)\n",
    "\n",
    "# Web Linked\n",
    "#train_data_EDA_processed_GITLINK = \"https://raw.githubusercontent.com/ehsung/Capstone-Project-2---Identify-Genetic-Disorder-is-Children/master/Data/train_data_EDA_processed.csv\"\n",
    "#train_data = pd.read_csv(train_data_EDA_processed_GITLINK, index_col=0)"
   ]
  },
  {
   "cell_type": "code",
   "execution_count": 3,
   "id": "d4a905ad",
   "metadata": {},
   "outputs": [
    {
     "data": {
      "text/html": [
       "<div>\n",
       "<style scoped>\n",
       "    .dataframe tbody tr th:only-of-type {\n",
       "        vertical-align: middle;\n",
       "    }\n",
       "\n",
       "    .dataframe tbody tr th {\n",
       "        vertical-align: top;\n",
       "    }\n",
       "\n",
       "    .dataframe thead th {\n",
       "        text-align: right;\n",
       "    }\n",
       "</style>\n",
       "<table border=\"1\" class=\"dataframe\">\n",
       "  <thead>\n",
       "    <tr style=\"text-align: right;\">\n",
       "      <th></th>\n",
       "      <th>0</th>\n",
       "      <th>1</th>\n",
       "      <th>2</th>\n",
       "      <th>3</th>\n",
       "      <th>4</th>\n",
       "      <th>5</th>\n",
       "      <th>6</th>\n",
       "      <th>7</th>\n",
       "      <th>8</th>\n",
       "      <th>9</th>\n",
       "      <th>...</th>\n",
       "      <th>22073</th>\n",
       "      <th>22074</th>\n",
       "      <th>22075</th>\n",
       "      <th>22076</th>\n",
       "      <th>22077</th>\n",
       "      <th>22078</th>\n",
       "      <th>22079</th>\n",
       "      <th>22080</th>\n",
       "      <th>22081</th>\n",
       "      <th>22082</th>\n",
       "    </tr>\n",
       "  </thead>\n",
       "  <tbody>\n",
       "    <tr>\n",
       "      <th>Patient_Age</th>\n",
       "      <td>2.0</td>\n",
       "      <td>4.0</td>\n",
       "      <td>6.0</td>\n",
       "      <td>12.0</td>\n",
       "      <td>11.0</td>\n",
       "      <td>14.0</td>\n",
       "      <td>3.0</td>\n",
       "      <td>3.0</td>\n",
       "      <td>11.0</td>\n",
       "      <td>4.0</td>\n",
       "      <td>...</td>\n",
       "      <td>13.0</td>\n",
       "      <td>4.0</td>\n",
       "      <td>10.0</td>\n",
       "      <td>0.0</td>\n",
       "      <td>9.0</td>\n",
       "      <td>4.0</td>\n",
       "      <td>8.0</td>\n",
       "      <td>8.0</td>\n",
       "      <td>7.0</td>\n",
       "      <td>11.0</td>\n",
       "    </tr>\n",
       "    <tr>\n",
       "      <th>Mother_Gene</th>\n",
       "      <td>Yes</td>\n",
       "      <td>Yes</td>\n",
       "      <td>Yes</td>\n",
       "      <td>Yes</td>\n",
       "      <td>Yes</td>\n",
       "      <td>Yes</td>\n",
       "      <td>Yes</td>\n",
       "      <td>No</td>\n",
       "      <td>No</td>\n",
       "      <td>No</td>\n",
       "      <td>...</td>\n",
       "      <td>Yes</td>\n",
       "      <td>No</td>\n",
       "      <td>No</td>\n",
       "      <td>Yes</td>\n",
       "      <td>No</td>\n",
       "      <td>Yes</td>\n",
       "      <td>No</td>\n",
       "      <td>Yes</td>\n",
       "      <td>Yes</td>\n",
       "      <td>Yes</td>\n",
       "    </tr>\n",
       "    <tr>\n",
       "      <th>Father_Gene</th>\n",
       "      <td>No</td>\n",
       "      <td>Yes</td>\n",
       "      <td>No</td>\n",
       "      <td>No</td>\n",
       "      <td>No</td>\n",
       "      <td>No</td>\n",
       "      <td>No</td>\n",
       "      <td>No</td>\n",
       "      <td>No</td>\n",
       "      <td>Yes</td>\n",
       "      <td>...</td>\n",
       "      <td>Yes</td>\n",
       "      <td>No</td>\n",
       "      <td>No</td>\n",
       "      <td>No</td>\n",
       "      <td>Yes</td>\n",
       "      <td>Yes</td>\n",
       "      <td>Yes</td>\n",
       "      <td>No</td>\n",
       "      <td>No</td>\n",
       "      <td>No</td>\n",
       "    </tr>\n",
       "    <tr>\n",
       "      <th>Maternal_Gene</th>\n",
       "      <td>Yes</td>\n",
       "      <td>No</td>\n",
       "      <td>No</td>\n",
       "      <td>Yes</td>\n",
       "      <td>NaN</td>\n",
       "      <td>Yes</td>\n",
       "      <td>Yes</td>\n",
       "      <td>Yes</td>\n",
       "      <td>Yes</td>\n",
       "      <td>Yes</td>\n",
       "      <td>...</td>\n",
       "      <td>No</td>\n",
       "      <td>NaN</td>\n",
       "      <td>Yes</td>\n",
       "      <td>Yes</td>\n",
       "      <td>Yes</td>\n",
       "      <td>Yes</td>\n",
       "      <td>No</td>\n",
       "      <td>Yes</td>\n",
       "      <td>Yes</td>\n",
       "      <td>No</td>\n",
       "    </tr>\n",
       "    <tr>\n",
       "      <th>Paternal_Gene</th>\n",
       "      <td>No</td>\n",
       "      <td>No</td>\n",
       "      <td>No</td>\n",
       "      <td>No</td>\n",
       "      <td>Yes</td>\n",
       "      <td>No</td>\n",
       "      <td>Yes</td>\n",
       "      <td>Yes</td>\n",
       "      <td>No</td>\n",
       "      <td>Yes</td>\n",
       "      <td>...</td>\n",
       "      <td>Yes</td>\n",
       "      <td>No</td>\n",
       "      <td>Yes</td>\n",
       "      <td>No</td>\n",
       "      <td>Yes</td>\n",
       "      <td>No</td>\n",
       "      <td>Yes</td>\n",
       "      <td>No</td>\n",
       "      <td>Yes</td>\n",
       "      <td>No</td>\n",
       "    </tr>\n",
       "    <tr>\n",
       "      <th>Blood_Cell</th>\n",
       "      <td>4.760603</td>\n",
       "      <td>4.910669</td>\n",
       "      <td>4.893297</td>\n",
       "      <td>4.70528</td>\n",
       "      <td>4.720703</td>\n",
       "      <td>5.103188</td>\n",
       "      <td>4.90108</td>\n",
       "      <td>4.964816</td>\n",
       "      <td>5.209058</td>\n",
       "      <td>4.752272</td>\n",
       "      <td>...</td>\n",
       "      <td>4.874635</td>\n",
       "      <td>4.789307</td>\n",
       "      <td>4.64386</td>\n",
       "      <td>4.931758</td>\n",
       "      <td>5.012599</td>\n",
       "      <td>5.258298</td>\n",
       "      <td>4.97422</td>\n",
       "      <td>5.18647</td>\n",
       "      <td>4.858543</td>\n",
       "      <td>4.738067</td>\n",
       "    </tr>\n",
       "    <tr>\n",
       "      <th>Respiratory_Rate</th>\n",
       "      <td>Normal (30-60)</td>\n",
       "      <td>Tachypnea</td>\n",
       "      <td>Normal (30-60)</td>\n",
       "      <td>Tachypnea</td>\n",
       "      <td>Tachypnea</td>\n",
       "      <td>NaN</td>\n",
       "      <td>Normal (30-60)</td>\n",
       "      <td>Tachypnea</td>\n",
       "      <td>Tachypnea</td>\n",
       "      <td>Tachypnea</td>\n",
       "      <td>...</td>\n",
       "      <td>Tachypnea</td>\n",
       "      <td>Tachypnea</td>\n",
       "      <td>NaN</td>\n",
       "      <td>Normal (30-60)</td>\n",
       "      <td>NaN</td>\n",
       "      <td>Normal (30-60)</td>\n",
       "      <td>Normal (30-60)</td>\n",
       "      <td>Tachypnea</td>\n",
       "      <td>Tachypnea</td>\n",
       "      <td>Normal (30-60)</td>\n",
       "    </tr>\n",
       "    <tr>\n",
       "      <th>Heart_Rate</th>\n",
       "      <td>Normal</td>\n",
       "      <td>Normal</td>\n",
       "      <td>Tachycardia</td>\n",
       "      <td>Normal</td>\n",
       "      <td>Tachycardia</td>\n",
       "      <td>Normal</td>\n",
       "      <td>NaN</td>\n",
       "      <td>Normal</td>\n",
       "      <td>Tachycardia</td>\n",
       "      <td>Tachycardia</td>\n",
       "      <td>...</td>\n",
       "      <td>Tachycardia</td>\n",
       "      <td>Normal</td>\n",
       "      <td>Normal</td>\n",
       "      <td>Tachycardia</td>\n",
       "      <td>Normal</td>\n",
       "      <td>Tachycardia</td>\n",
       "      <td>Normal</td>\n",
       "      <td>Normal</td>\n",
       "      <td>Tachycardia</td>\n",
       "      <td>Normal</td>\n",
       "    </tr>\n",
       "    <tr>\n",
       "      <th>Follow_Up</th>\n",
       "      <td>High</td>\n",
       "      <td>High</td>\n",
       "      <td>Low</td>\n",
       "      <td>High</td>\n",
       "      <td>Low</td>\n",
       "      <td>Low</td>\n",
       "      <td>Low</td>\n",
       "      <td>Low</td>\n",
       "      <td>Low</td>\n",
       "      <td>Low</td>\n",
       "      <td>...</td>\n",
       "      <td>NaN</td>\n",
       "      <td>Low</td>\n",
       "      <td>Low</td>\n",
       "      <td>Low</td>\n",
       "      <td>NaN</td>\n",
       "      <td>High</td>\n",
       "      <td>High</td>\n",
       "      <td>High</td>\n",
       "      <td>High</td>\n",
       "      <td>High</td>\n",
       "    </tr>\n",
       "    <tr>\n",
       "      <th>Gender</th>\n",
       "      <td>NaN</td>\n",
       "      <td>NaN</td>\n",
       "      <td>NaN</td>\n",
       "      <td>Male</td>\n",
       "      <td>Male</td>\n",
       "      <td>Female</td>\n",
       "      <td>Male</td>\n",
       "      <td>NaN</td>\n",
       "      <td>Male</td>\n",
       "      <td>Male</td>\n",
       "      <td>...</td>\n",
       "      <td>NaN</td>\n",
       "      <td>Male</td>\n",
       "      <td>NaN</td>\n",
       "      <td>Female</td>\n",
       "      <td>NaN</td>\n",
       "      <td>Female</td>\n",
       "      <td>NaN</td>\n",
       "      <td>Male</td>\n",
       "      <td>Male</td>\n",
       "      <td>Female</td>\n",
       "    </tr>\n",
       "    <tr>\n",
       "      <th>Birth_Asphyxia</th>\n",
       "      <td>NaN</td>\n",
       "      <td>No</td>\n",
       "      <td>NaN</td>\n",
       "      <td>NaN</td>\n",
       "      <td>NaN</td>\n",
       "      <td>NaN</td>\n",
       "      <td>NaN</td>\n",
       "      <td>NaN</td>\n",
       "      <td>Yes</td>\n",
       "      <td>No</td>\n",
       "      <td>...</td>\n",
       "      <td>NaN</td>\n",
       "      <td>Yes</td>\n",
       "      <td>No</td>\n",
       "      <td>NaN</td>\n",
       "      <td>NaN</td>\n",
       "      <td>No</td>\n",
       "      <td>No</td>\n",
       "      <td>No</td>\n",
       "      <td>NaN</td>\n",
       "      <td>Yes</td>\n",
       "    </tr>\n",
       "    <tr>\n",
       "      <th>Birth_Place</th>\n",
       "      <td>Institute</td>\n",
       "      <td>NaN</td>\n",
       "      <td>NaN</td>\n",
       "      <td>Institute</td>\n",
       "      <td>Institute</td>\n",
       "      <td>Institute</td>\n",
       "      <td>Home</td>\n",
       "      <td>Home</td>\n",
       "      <td>Institute</td>\n",
       "      <td>Institute</td>\n",
       "      <td>...</td>\n",
       "      <td>Home</td>\n",
       "      <td>Institute</td>\n",
       "      <td>Home</td>\n",
       "      <td>Institute</td>\n",
       "      <td>Home</td>\n",
       "      <td>Institute</td>\n",
       "      <td>Institute</td>\n",
       "      <td>Home</td>\n",
       "      <td>Home</td>\n",
       "      <td>Institute</td>\n",
       "    </tr>\n",
       "    <tr>\n",
       "      <th>Folic_Acid_Details</th>\n",
       "      <td>No</td>\n",
       "      <td>Yes</td>\n",
       "      <td>Yes</td>\n",
       "      <td>No</td>\n",
       "      <td>No</td>\n",
       "      <td>No</td>\n",
       "      <td>NaN</td>\n",
       "      <td>Yes</td>\n",
       "      <td>Yes</td>\n",
       "      <td>Yes</td>\n",
       "      <td>...</td>\n",
       "      <td>No</td>\n",
       "      <td>No</td>\n",
       "      <td>No</td>\n",
       "      <td>No</td>\n",
       "      <td>Yes</td>\n",
       "      <td>NaN</td>\n",
       "      <td>Yes</td>\n",
       "      <td>No</td>\n",
       "      <td>Yes</td>\n",
       "      <td>Yes</td>\n",
       "    </tr>\n",
       "    <tr>\n",
       "      <th>Maternal_Illness</th>\n",
       "      <td>NaN</td>\n",
       "      <td>Yes</td>\n",
       "      <td>No</td>\n",
       "      <td>Yes</td>\n",
       "      <td>Yes</td>\n",
       "      <td>No</td>\n",
       "      <td>Yes</td>\n",
       "      <td>Yes</td>\n",
       "      <td>Yes</td>\n",
       "      <td>No</td>\n",
       "      <td>...</td>\n",
       "      <td>NaN</td>\n",
       "      <td>No</td>\n",
       "      <td>NaN</td>\n",
       "      <td>No</td>\n",
       "      <td>No</td>\n",
       "      <td>No</td>\n",
       "      <td>Yes</td>\n",
       "      <td>No</td>\n",
       "      <td>Yes</td>\n",
       "      <td>Yes</td>\n",
       "    </tr>\n",
       "    <tr>\n",
       "      <th>Radiation_Exposure</th>\n",
       "      <td>No</td>\n",
       "      <td>NaN</td>\n",
       "      <td>Yes</td>\n",
       "      <td>NaN</td>\n",
       "      <td>NaN</td>\n",
       "      <td>No</td>\n",
       "      <td>No</td>\n",
       "      <td>No</td>\n",
       "      <td>No</td>\n",
       "      <td>No</td>\n",
       "      <td>...</td>\n",
       "      <td>No</td>\n",
       "      <td>NaN</td>\n",
       "      <td>NaN</td>\n",
       "      <td>NaN</td>\n",
       "      <td>No</td>\n",
       "      <td>NaN</td>\n",
       "      <td>No</td>\n",
       "      <td>NaN</td>\n",
       "      <td>NaN</td>\n",
       "      <td>NaN</td>\n",
       "    </tr>\n",
       "    <tr>\n",
       "      <th>Substance_Abuse</th>\n",
       "      <td>No</td>\n",
       "      <td>NaN</td>\n",
       "      <td>NaN</td>\n",
       "      <td>NaN</td>\n",
       "      <td>NaN</td>\n",
       "      <td>No</td>\n",
       "      <td>NaN</td>\n",
       "      <td>NaN</td>\n",
       "      <td>No</td>\n",
       "      <td>No</td>\n",
       "      <td>...</td>\n",
       "      <td>No</td>\n",
       "      <td>No</td>\n",
       "      <td>NaN</td>\n",
       "      <td>No</td>\n",
       "      <td>NaN</td>\n",
       "      <td>No</td>\n",
       "      <td>NaN</td>\n",
       "      <td>No</td>\n",
       "      <td>Yes</td>\n",
       "      <td>No</td>\n",
       "    </tr>\n",
       "    <tr>\n",
       "      <th>Assisted_Conception</th>\n",
       "      <td>No</td>\n",
       "      <td>No</td>\n",
       "      <td>Yes</td>\n",
       "      <td>NaN</td>\n",
       "      <td>Yes</td>\n",
       "      <td>NaN</td>\n",
       "      <td>Yes</td>\n",
       "      <td>No</td>\n",
       "      <td>No</td>\n",
       "      <td>Yes</td>\n",
       "      <td>...</td>\n",
       "      <td>Yes</td>\n",
       "      <td>No</td>\n",
       "      <td>Yes</td>\n",
       "      <td>Yes</td>\n",
       "      <td>Yes</td>\n",
       "      <td>Yes</td>\n",
       "      <td>Yes</td>\n",
       "      <td>No</td>\n",
       "      <td>Yes</td>\n",
       "      <td>Yes</td>\n",
       "    </tr>\n",
       "    <tr>\n",
       "      <th>History_Pregnancies</th>\n",
       "      <td>Yes</td>\n",
       "      <td>Yes</td>\n",
       "      <td>Yes</td>\n",
       "      <td>Yes</td>\n",
       "      <td>No</td>\n",
       "      <td>No</td>\n",
       "      <td>No</td>\n",
       "      <td>Yes</td>\n",
       "      <td>Yes</td>\n",
       "      <td>Yes</td>\n",
       "      <td>...</td>\n",
       "      <td>No</td>\n",
       "      <td>No</td>\n",
       "      <td>Yes</td>\n",
       "      <td>Yes</td>\n",
       "      <td>Yes</td>\n",
       "      <td>No</td>\n",
       "      <td>No</td>\n",
       "      <td>No</td>\n",
       "      <td>No</td>\n",
       "      <td>Yes</td>\n",
       "    </tr>\n",
       "    <tr>\n",
       "      <th>Previous_Abortions</th>\n",
       "      <td>NaN</td>\n",
       "      <td>NaN</td>\n",
       "      <td>4.0</td>\n",
       "      <td>1.0</td>\n",
       "      <td>4.0</td>\n",
       "      <td>0.0</td>\n",
       "      <td>3.0</td>\n",
       "      <td>1.0</td>\n",
       "      <td>0.0</td>\n",
       "      <td>1.0</td>\n",
       "      <td>...</td>\n",
       "      <td>1.0</td>\n",
       "      <td>3.0</td>\n",
       "      <td>2.0</td>\n",
       "      <td>1.0</td>\n",
       "      <td>NaN</td>\n",
       "      <td>3.0</td>\n",
       "      <td>2.0</td>\n",
       "      <td>2.0</td>\n",
       "      <td>1.0</td>\n",
       "      <td>4.0</td>\n",
       "    </tr>\n",
       "    <tr>\n",
       "      <th>Birth_Defects</th>\n",
       "      <td>NaN</td>\n",
       "      <td>Multiple</td>\n",
       "      <td>Singular</td>\n",
       "      <td>Singular</td>\n",
       "      <td>Multiple</td>\n",
       "      <td>Multiple</td>\n",
       "      <td>Multiple</td>\n",
       "      <td>Singular</td>\n",
       "      <td>Multiple</td>\n",
       "      <td>Multiple</td>\n",
       "      <td>...</td>\n",
       "      <td>NaN</td>\n",
       "      <td>Multiple</td>\n",
       "      <td>Multiple</td>\n",
       "      <td>Singular</td>\n",
       "      <td>NaN</td>\n",
       "      <td>Multiple</td>\n",
       "      <td>Multiple</td>\n",
       "      <td>Singular</td>\n",
       "      <td>Multiple</td>\n",
       "      <td>Singular</td>\n",
       "    </tr>\n",
       "    <tr>\n",
       "      <th>White_Blood_Cell</th>\n",
       "      <td>9.857562</td>\n",
       "      <td>5.52256</td>\n",
       "      <td>NaN</td>\n",
       "      <td>7.919321</td>\n",
       "      <td>4.09821</td>\n",
       "      <td>10.27223</td>\n",
       "      <td>6.825974</td>\n",
       "      <td>9.836352</td>\n",
       "      <td>6.669552</td>\n",
       "      <td>6.397702</td>\n",
       "      <td>...</td>\n",
       "      <td>NaN</td>\n",
       "      <td>NaN</td>\n",
       "      <td>9.581455</td>\n",
       "      <td>11.649052</td>\n",
       "      <td>12.0</td>\n",
       "      <td>6.584811</td>\n",
       "      <td>7.041556</td>\n",
       "      <td>7.715464</td>\n",
       "      <td>8.43767</td>\n",
       "      <td>11.188371</td>\n",
       "    </tr>\n",
       "    <tr>\n",
       "      <th>Blood_Test</th>\n",
       "      <td>NaN</td>\n",
       "      <td>normal</td>\n",
       "      <td>normal</td>\n",
       "      <td>NaN</td>\n",
       "      <td>NaN</td>\n",
       "      <td>normal</td>\n",
       "      <td>normal</td>\n",
       "      <td>NaN</td>\n",
       "      <td>slightly abnormal</td>\n",
       "      <td>abnormal</td>\n",
       "      <td>...</td>\n",
       "      <td>normal</td>\n",
       "      <td>normal</td>\n",
       "      <td>abnormal</td>\n",
       "      <td>abnormal</td>\n",
       "      <td>slightly abnormal</td>\n",
       "      <td>NaN</td>\n",
       "      <td>NaN</td>\n",
       "      <td>normal</td>\n",
       "      <td>abnormal</td>\n",
       "      <td>normal</td>\n",
       "    </tr>\n",
       "    <tr>\n",
       "      <th>Symptom_1</th>\n",
       "      <td>1.0</td>\n",
       "      <td>1.0</td>\n",
       "      <td>0.0</td>\n",
       "      <td>0.0</td>\n",
       "      <td>0.0</td>\n",
       "      <td>1.0</td>\n",
       "      <td>0.0</td>\n",
       "      <td>0.0</td>\n",
       "      <td>1.0</td>\n",
       "      <td>0.0</td>\n",
       "      <td>...</td>\n",
       "      <td>0.0</td>\n",
       "      <td>0.0</td>\n",
       "      <td>1.0</td>\n",
       "      <td>1.0</td>\n",
       "      <td>NaN</td>\n",
       "      <td>0.0</td>\n",
       "      <td>1.0</td>\n",
       "      <td>0.0</td>\n",
       "      <td>1.0</td>\n",
       "      <td>1.0</td>\n",
       "    </tr>\n",
       "    <tr>\n",
       "      <th>Symptom_2</th>\n",
       "      <td>1.0</td>\n",
       "      <td>NaN</td>\n",
       "      <td>1.0</td>\n",
       "      <td>0.0</td>\n",
       "      <td>0.0</td>\n",
       "      <td>0.0</td>\n",
       "      <td>0.0</td>\n",
       "      <td>0.0</td>\n",
       "      <td>1.0</td>\n",
       "      <td>0.0</td>\n",
       "      <td>...</td>\n",
       "      <td>0.0</td>\n",
       "      <td>0.0</td>\n",
       "      <td>0.0</td>\n",
       "      <td>1.0</td>\n",
       "      <td>1.0</td>\n",
       "      <td>0.0</td>\n",
       "      <td>1.0</td>\n",
       "      <td>0.0</td>\n",
       "      <td>1.0</td>\n",
       "      <td>0.0</td>\n",
       "    </tr>\n",
       "    <tr>\n",
       "      <th>Symptom_3</th>\n",
       "      <td>1.0</td>\n",
       "      <td>1.0</td>\n",
       "      <td>1.0</td>\n",
       "      <td>1.0</td>\n",
       "      <td>0.0</td>\n",
       "      <td>0.0</td>\n",
       "      <td>0.0</td>\n",
       "      <td>1.0</td>\n",
       "      <td>1.0</td>\n",
       "      <td>1.0</td>\n",
       "      <td>...</td>\n",
       "      <td>0.0</td>\n",
       "      <td>1.0</td>\n",
       "      <td>0.0</td>\n",
       "      <td>0.0</td>\n",
       "      <td>0.0</td>\n",
       "      <td>1.0</td>\n",
       "      <td>1.0</td>\n",
       "      <td>0.0</td>\n",
       "      <td>1.0</td>\n",
       "      <td>1.0</td>\n",
       "    </tr>\n",
       "    <tr>\n",
       "      <th>Symptom_4</th>\n",
       "      <td>1.0</td>\n",
       "      <td>1.0</td>\n",
       "      <td>1.0</td>\n",
       "      <td>0.0</td>\n",
       "      <td>0.0</td>\n",
       "      <td>1.0</td>\n",
       "      <td>0.0</td>\n",
       "      <td>NaN</td>\n",
       "      <td>0.0</td>\n",
       "      <td>1.0</td>\n",
       "      <td>...</td>\n",
       "      <td>1.0</td>\n",
       "      <td>0.0</td>\n",
       "      <td>0.0</td>\n",
       "      <td>1.0</td>\n",
       "      <td>0.0</td>\n",
       "      <td>0.0</td>\n",
       "      <td>1.0</td>\n",
       "      <td>1.0</td>\n",
       "      <td>0.0</td>\n",
       "      <td>1.0</td>\n",
       "    </tr>\n",
       "    <tr>\n",
       "      <th>Symptom_5</th>\n",
       "      <td>1.0</td>\n",
       "      <td>0.0</td>\n",
       "      <td>1.0</td>\n",
       "      <td>0.0</td>\n",
       "      <td>NaN</td>\n",
       "      <td>0.0</td>\n",
       "      <td>0.0</td>\n",
       "      <td>0.0</td>\n",
       "      <td>1.0</td>\n",
       "      <td>1.0</td>\n",
       "      <td>...</td>\n",
       "      <td>1.0</td>\n",
       "      <td>0.0</td>\n",
       "      <td>NaN</td>\n",
       "      <td>0.0</td>\n",
       "      <td>0.0</td>\n",
       "      <td>0.0</td>\n",
       "      <td>0.0</td>\n",
       "      <td>NaN</td>\n",
       "      <td>0.0</td>\n",
       "      <td>1.0</td>\n",
       "    </tr>\n",
       "    <tr>\n",
       "      <th>Disorder_Subclass</th>\n",
       "      <td>Leber's hereditary optic neuropathy</td>\n",
       "      <td>Cystic fibrosis</td>\n",
       "      <td>Diabetes</td>\n",
       "      <td>Leigh syndrome</td>\n",
       "      <td>Cancer</td>\n",
       "      <td>Cystic fibrosis</td>\n",
       "      <td>Tay-Sachs</td>\n",
       "      <td>Tay-Sachs</td>\n",
       "      <td>Leigh syndrome</td>\n",
       "      <td>Diabetes</td>\n",
       "      <td>...</td>\n",
       "      <td>Leigh syndrome</td>\n",
       "      <td>Hemochromatosis</td>\n",
       "      <td>Mitochondrial myopathy</td>\n",
       "      <td>Leigh syndrome</td>\n",
       "      <td>Leigh syndrome</td>\n",
       "      <td>Leigh syndrome</td>\n",
       "      <td>Diabetes</td>\n",
       "      <td>Mitochondrial myopathy</td>\n",
       "      <td>Leigh syndrome</td>\n",
       "      <td>Diabetes</td>\n",
       "    </tr>\n",
       "    <tr>\n",
       "      <th>Father_Patient_Birth_Age</th>\n",
       "      <td>NaN</td>\n",
       "      <td>19.0</td>\n",
       "      <td>16.0</td>\n",
       "      <td>NaN</td>\n",
       "      <td>NaN</td>\n",
       "      <td>NaN</td>\n",
       "      <td>60.0</td>\n",
       "      <td>NaN</td>\n",
       "      <td>33.0</td>\n",
       "      <td>38.0</td>\n",
       "      <td>...</td>\n",
       "      <td>49.0</td>\n",
       "      <td>47.0</td>\n",
       "      <td>NaN</td>\n",
       "      <td>50.0</td>\n",
       "      <td>NaN</td>\n",
       "      <td>60.0</td>\n",
       "      <td>48.0</td>\n",
       "      <td>43.0</td>\n",
       "      <td>NaN</td>\n",
       "      <td>51.0</td>\n",
       "    </tr>\n",
       "    <tr>\n",
       "      <th>Mother_Patient_Birth_Age</th>\n",
       "      <td>NaN</td>\n",
       "      <td>NaN</td>\n",
       "      <td>35.0</td>\n",
       "      <td>9.0</td>\n",
       "      <td>21.0</td>\n",
       "      <td>NaN</td>\n",
       "      <td>NaN</td>\n",
       "      <td>37.0</td>\n",
       "      <td>34.0</td>\n",
       "      <td>40.0</td>\n",
       "      <td>...</td>\n",
       "      <td>31.0</td>\n",
       "      <td>31.0</td>\n",
       "      <td>39.0</td>\n",
       "      <td>NaN</td>\n",
       "      <td>38.0</td>\n",
       "      <td>31.0</td>\n",
       "      <td>NaN</td>\n",
       "      <td>27.0</td>\n",
       "      <td>12.0</td>\n",
       "      <td>21.0</td>\n",
       "    </tr>\n",
       "    <tr>\n",
       "      <th>Status_Birth_Defect</th>\n",
       "      <td>Alive</td>\n",
       "      <td>No</td>\n",
       "      <td>Alive</td>\n",
       "      <td>No</td>\n",
       "      <td>Alive</td>\n",
       "      <td>No</td>\n",
       "      <td>Alive</td>\n",
       "      <td>Alive</td>\n",
       "      <td>Alive</td>\n",
       "      <td>Alive</td>\n",
       "      <td>...</td>\n",
       "      <td>Alive</td>\n",
       "      <td>Alive</td>\n",
       "      <td>Yes</td>\n",
       "      <td>Alive</td>\n",
       "      <td>Yes</td>\n",
       "      <td>No</td>\n",
       "      <td>Alive</td>\n",
       "      <td>No</td>\n",
       "      <td>Alive</td>\n",
       "      <td>No</td>\n",
       "    </tr>\n",
       "  </tbody>\n",
       "</table>\n",
       "<p>31 rows × 19915 columns</p>\n",
       "</div>"
      ],
      "text/plain": [
       "                                                        0      \\\n",
       "Patient_Age                                               2.0   \n",
       "Mother_Gene                                               Yes   \n",
       "Father_Gene                                                No   \n",
       "Maternal_Gene                                             Yes   \n",
       "Paternal_Gene                                              No   \n",
       "Blood_Cell                                           4.760603   \n",
       "Respiratory_Rate                               Normal (30-60)   \n",
       "Heart_Rate                                             Normal   \n",
       "Follow_Up                                                High   \n",
       "Gender                                                    NaN   \n",
       "Birth_Asphyxia                                            NaN   \n",
       "Birth_Place                                         Institute   \n",
       "Folic_Acid_Details                                         No   \n",
       "Maternal_Illness                                          NaN   \n",
       "Radiation_Exposure                                         No   \n",
       "Substance_Abuse                                            No   \n",
       "Assisted_Conception                                        No   \n",
       "History_Pregnancies                                       Yes   \n",
       "Previous_Abortions                                        NaN   \n",
       "Birth_Defects                                             NaN   \n",
       "White_Blood_Cell                                     9.857562   \n",
       "Blood_Test                                                NaN   \n",
       "Symptom_1                                                 1.0   \n",
       "Symptom_2                                                 1.0   \n",
       "Symptom_3                                                 1.0   \n",
       "Symptom_4                                                 1.0   \n",
       "Symptom_5                                                 1.0   \n",
       "Disorder_Subclass         Leber's hereditary optic neuropathy   \n",
       "Father_Patient_Birth_Age                                  NaN   \n",
       "Mother_Patient_Birth_Age                                  NaN   \n",
       "Status_Birth_Defect                                     Alive   \n",
       "\n",
       "                                    1               2               3      \\\n",
       "Patient_Age                           4.0             6.0            12.0   \n",
       "Mother_Gene                           Yes             Yes             Yes   \n",
       "Father_Gene                           Yes              No              No   \n",
       "Maternal_Gene                          No              No             Yes   \n",
       "Paternal_Gene                          No              No              No   \n",
       "Blood_Cell                       4.910669        4.893297         4.70528   \n",
       "Respiratory_Rate                Tachypnea  Normal (30-60)       Tachypnea   \n",
       "Heart_Rate                         Normal     Tachycardia          Normal   \n",
       "Follow_Up                            High             Low            High   \n",
       "Gender                                NaN             NaN            Male   \n",
       "Birth_Asphyxia                         No             NaN             NaN   \n",
       "Birth_Place                           NaN             NaN       Institute   \n",
       "Folic_Acid_Details                    Yes             Yes              No   \n",
       "Maternal_Illness                      Yes              No             Yes   \n",
       "Radiation_Exposure                    NaN             Yes             NaN   \n",
       "Substance_Abuse                       NaN             NaN             NaN   \n",
       "Assisted_Conception                    No             Yes             NaN   \n",
       "History_Pregnancies                   Yes             Yes             Yes   \n",
       "Previous_Abortions                    NaN             4.0             1.0   \n",
       "Birth_Defects                    Multiple        Singular        Singular   \n",
       "White_Blood_Cell                  5.52256             NaN        7.919321   \n",
       "Blood_Test                         normal          normal             NaN   \n",
       "Symptom_1                             1.0             0.0             0.0   \n",
       "Symptom_2                             NaN             1.0             0.0   \n",
       "Symptom_3                             1.0             1.0             1.0   \n",
       "Symptom_4                             1.0             1.0             0.0   \n",
       "Symptom_5                             0.0             1.0             0.0   \n",
       "Disorder_Subclass         Cystic fibrosis        Diabetes  Leigh syndrome   \n",
       "Father_Patient_Birth_Age             19.0            16.0             NaN   \n",
       "Mother_Patient_Birth_Age              NaN            35.0             9.0   \n",
       "Status_Birth_Defect                    No           Alive              No   \n",
       "\n",
       "                                4                5               6      \\\n",
       "Patient_Age                      11.0             14.0             3.0   \n",
       "Mother_Gene                       Yes              Yes             Yes   \n",
       "Father_Gene                        No               No              No   \n",
       "Maternal_Gene                     NaN              Yes             Yes   \n",
       "Paternal_Gene                     Yes               No             Yes   \n",
       "Blood_Cell                   4.720703         5.103188         4.90108   \n",
       "Respiratory_Rate            Tachypnea              NaN  Normal (30-60)   \n",
       "Heart_Rate                Tachycardia           Normal             NaN   \n",
       "Follow_Up                         Low              Low             Low   \n",
       "Gender                           Male           Female            Male   \n",
       "Birth_Asphyxia                    NaN              NaN             NaN   \n",
       "Birth_Place                 Institute        Institute            Home   \n",
       "Folic_Acid_Details                 No               No             NaN   \n",
       "Maternal_Illness                  Yes               No             Yes   \n",
       "Radiation_Exposure                NaN               No              No   \n",
       "Substance_Abuse                   NaN               No             NaN   \n",
       "Assisted_Conception               Yes              NaN             Yes   \n",
       "History_Pregnancies                No               No              No   \n",
       "Previous_Abortions                4.0              0.0             3.0   \n",
       "Birth_Defects                Multiple         Multiple        Multiple   \n",
       "White_Blood_Cell              4.09821         10.27223        6.825974   \n",
       "Blood_Test                        NaN           normal          normal   \n",
       "Symptom_1                         0.0              1.0             0.0   \n",
       "Symptom_2                         0.0              0.0             0.0   \n",
       "Symptom_3                         0.0              0.0             0.0   \n",
       "Symptom_4                         0.0              1.0             0.0   \n",
       "Symptom_5                         NaN              0.0             0.0   \n",
       "Disorder_Subclass              Cancer  Cystic fibrosis       Tay-Sachs   \n",
       "Father_Patient_Birth_Age          NaN              NaN            60.0   \n",
       "Mother_Patient_Birth_Age         21.0              NaN             NaN   \n",
       "Status_Birth_Defect             Alive               No           Alive   \n",
       "\n",
       "                              7                  8            9      ...  \\\n",
       "Patient_Age                     3.0               11.0          4.0  ...   \n",
       "Mother_Gene                      No                 No           No  ...   \n",
       "Father_Gene                      No                 No          Yes  ...   \n",
       "Maternal_Gene                   Yes                Yes          Yes  ...   \n",
       "Paternal_Gene                   Yes                 No          Yes  ...   \n",
       "Blood_Cell                 4.964816           5.209058     4.752272  ...   \n",
       "Respiratory_Rate          Tachypnea          Tachypnea    Tachypnea  ...   \n",
       "Heart_Rate                   Normal        Tachycardia  Tachycardia  ...   \n",
       "Follow_Up                       Low                Low          Low  ...   \n",
       "Gender                          NaN               Male         Male  ...   \n",
       "Birth_Asphyxia                  NaN                Yes           No  ...   \n",
       "Birth_Place                    Home          Institute    Institute  ...   \n",
       "Folic_Acid_Details              Yes                Yes          Yes  ...   \n",
       "Maternal_Illness                Yes                Yes           No  ...   \n",
       "Radiation_Exposure               No                 No           No  ...   \n",
       "Substance_Abuse                 NaN                 No           No  ...   \n",
       "Assisted_Conception              No                 No          Yes  ...   \n",
       "History_Pregnancies             Yes                Yes          Yes  ...   \n",
       "Previous_Abortions              1.0                0.0          1.0  ...   \n",
       "Birth_Defects              Singular           Multiple     Multiple  ...   \n",
       "White_Blood_Cell           9.836352           6.669552     6.397702  ...   \n",
       "Blood_Test                      NaN  slightly abnormal     abnormal  ...   \n",
       "Symptom_1                       0.0                1.0          0.0  ...   \n",
       "Symptom_2                       0.0                1.0          0.0  ...   \n",
       "Symptom_3                       1.0                1.0          1.0  ...   \n",
       "Symptom_4                       NaN                0.0          1.0  ...   \n",
       "Symptom_5                       0.0                1.0          1.0  ...   \n",
       "Disorder_Subclass         Tay-Sachs     Leigh syndrome     Diabetes  ...   \n",
       "Father_Patient_Birth_Age        NaN               33.0         38.0  ...   \n",
       "Mother_Patient_Birth_Age       37.0               34.0         40.0  ...   \n",
       "Status_Birth_Defect           Alive              Alive        Alive  ...   \n",
       "\n",
       "                                   22073            22074  \\\n",
       "Patient_Age                         13.0              4.0   \n",
       "Mother_Gene                          Yes               No   \n",
       "Father_Gene                          Yes               No   \n",
       "Maternal_Gene                         No              NaN   \n",
       "Paternal_Gene                        Yes               No   \n",
       "Blood_Cell                      4.874635         4.789307   \n",
       "Respiratory_Rate               Tachypnea        Tachypnea   \n",
       "Heart_Rate                   Tachycardia           Normal   \n",
       "Follow_Up                            NaN              Low   \n",
       "Gender                               NaN             Male   \n",
       "Birth_Asphyxia                       NaN              Yes   \n",
       "Birth_Place                         Home        Institute   \n",
       "Folic_Acid_Details                    No               No   \n",
       "Maternal_Illness                     NaN               No   \n",
       "Radiation_Exposure                    No              NaN   \n",
       "Substance_Abuse                       No               No   \n",
       "Assisted_Conception                  Yes               No   \n",
       "History_Pregnancies                   No               No   \n",
       "Previous_Abortions                   1.0              3.0   \n",
       "Birth_Defects                        NaN         Multiple   \n",
       "White_Blood_Cell                     NaN              NaN   \n",
       "Blood_Test                        normal           normal   \n",
       "Symptom_1                            0.0              0.0   \n",
       "Symptom_2                            0.0              0.0   \n",
       "Symptom_3                            0.0              1.0   \n",
       "Symptom_4                            1.0              0.0   \n",
       "Symptom_5                            1.0              0.0   \n",
       "Disorder_Subclass         Leigh syndrome  Hemochromatosis   \n",
       "Father_Patient_Birth_Age            49.0             47.0   \n",
       "Mother_Patient_Birth_Age            31.0             31.0   \n",
       "Status_Birth_Defect                Alive            Alive   \n",
       "\n",
       "                                           22075           22076  \\\n",
       "Patient_Age                                 10.0             0.0   \n",
       "Mother_Gene                                   No             Yes   \n",
       "Father_Gene                                   No              No   \n",
       "Maternal_Gene                                Yes             Yes   \n",
       "Paternal_Gene                                Yes              No   \n",
       "Blood_Cell                               4.64386        4.931758   \n",
       "Respiratory_Rate                             NaN  Normal (30-60)   \n",
       "Heart_Rate                                Normal     Tachycardia   \n",
       "Follow_Up                                    Low             Low   \n",
       "Gender                                       NaN          Female   \n",
       "Birth_Asphyxia                                No             NaN   \n",
       "Birth_Place                                 Home       Institute   \n",
       "Folic_Acid_Details                            No              No   \n",
       "Maternal_Illness                             NaN              No   \n",
       "Radiation_Exposure                           NaN             NaN   \n",
       "Substance_Abuse                              NaN              No   \n",
       "Assisted_Conception                          Yes             Yes   \n",
       "History_Pregnancies                          Yes             Yes   \n",
       "Previous_Abortions                           2.0             1.0   \n",
       "Birth_Defects                           Multiple        Singular   \n",
       "White_Blood_Cell                        9.581455       11.649052   \n",
       "Blood_Test                              abnormal        abnormal   \n",
       "Symptom_1                                    1.0             1.0   \n",
       "Symptom_2                                    0.0             1.0   \n",
       "Symptom_3                                    0.0             0.0   \n",
       "Symptom_4                                    0.0             1.0   \n",
       "Symptom_5                                    NaN             0.0   \n",
       "Disorder_Subclass         Mitochondrial myopathy  Leigh syndrome   \n",
       "Father_Patient_Birth_Age                     NaN            50.0   \n",
       "Mother_Patient_Birth_Age                    39.0             NaN   \n",
       "Status_Birth_Defect                          Yes           Alive   \n",
       "\n",
       "                                      22077           22078           22079  \\\n",
       "Patient_Age                             9.0             4.0             8.0   \n",
       "Mother_Gene                              No             Yes              No   \n",
       "Father_Gene                             Yes             Yes             Yes   \n",
       "Maternal_Gene                           Yes             Yes              No   \n",
       "Paternal_Gene                           Yes              No             Yes   \n",
       "Blood_Cell                         5.012599        5.258298         4.97422   \n",
       "Respiratory_Rate                        NaN  Normal (30-60)  Normal (30-60)   \n",
       "Heart_Rate                           Normal     Tachycardia          Normal   \n",
       "Follow_Up                               NaN            High            High   \n",
       "Gender                                  NaN          Female             NaN   \n",
       "Birth_Asphyxia                          NaN              No              No   \n",
       "Birth_Place                            Home       Institute       Institute   \n",
       "Folic_Acid_Details                      Yes             NaN             Yes   \n",
       "Maternal_Illness                         No              No             Yes   \n",
       "Radiation_Exposure                       No             NaN              No   \n",
       "Substance_Abuse                         NaN              No             NaN   \n",
       "Assisted_Conception                     Yes             Yes             Yes   \n",
       "History_Pregnancies                     Yes              No              No   \n",
       "Previous_Abortions                      NaN             3.0             2.0   \n",
       "Birth_Defects                           NaN        Multiple        Multiple   \n",
       "White_Blood_Cell                       12.0        6.584811        7.041556   \n",
       "Blood_Test                slightly abnormal             NaN             NaN   \n",
       "Symptom_1                               NaN             0.0             1.0   \n",
       "Symptom_2                               1.0             0.0             1.0   \n",
       "Symptom_3                               0.0             1.0             1.0   \n",
       "Symptom_4                               0.0             0.0             1.0   \n",
       "Symptom_5                               0.0             0.0             0.0   \n",
       "Disorder_Subclass            Leigh syndrome  Leigh syndrome        Diabetes   \n",
       "Father_Patient_Birth_Age                NaN            60.0            48.0   \n",
       "Mother_Patient_Birth_Age               38.0            31.0             NaN   \n",
       "Status_Birth_Defect                     Yes              No           Alive   \n",
       "\n",
       "                                           22080           22081  \\\n",
       "Patient_Age                                  8.0             7.0   \n",
       "Mother_Gene                                  Yes             Yes   \n",
       "Father_Gene                                   No              No   \n",
       "Maternal_Gene                                Yes             Yes   \n",
       "Paternal_Gene                                 No             Yes   \n",
       "Blood_Cell                               5.18647        4.858543   \n",
       "Respiratory_Rate                       Tachypnea       Tachypnea   \n",
       "Heart_Rate                                Normal     Tachycardia   \n",
       "Follow_Up                                   High            High   \n",
       "Gender                                      Male            Male   \n",
       "Birth_Asphyxia                                No             NaN   \n",
       "Birth_Place                                 Home            Home   \n",
       "Folic_Acid_Details                            No             Yes   \n",
       "Maternal_Illness                              No             Yes   \n",
       "Radiation_Exposure                           NaN             NaN   \n",
       "Substance_Abuse                               No             Yes   \n",
       "Assisted_Conception                           No             Yes   \n",
       "History_Pregnancies                           No              No   \n",
       "Previous_Abortions                           2.0             1.0   \n",
       "Birth_Defects                           Singular        Multiple   \n",
       "White_Blood_Cell                        7.715464         8.43767   \n",
       "Blood_Test                                normal        abnormal   \n",
       "Symptom_1                                    0.0             1.0   \n",
       "Symptom_2                                    0.0             1.0   \n",
       "Symptom_3                                    0.0             1.0   \n",
       "Symptom_4                                    1.0             0.0   \n",
       "Symptom_5                                    NaN             0.0   \n",
       "Disorder_Subclass         Mitochondrial myopathy  Leigh syndrome   \n",
       "Father_Patient_Birth_Age                    43.0             NaN   \n",
       "Mother_Patient_Birth_Age                    27.0            12.0   \n",
       "Status_Birth_Defect                           No           Alive   \n",
       "\n",
       "                                   22082  \n",
       "Patient_Age                         11.0  \n",
       "Mother_Gene                          Yes  \n",
       "Father_Gene                           No  \n",
       "Maternal_Gene                         No  \n",
       "Paternal_Gene                         No  \n",
       "Blood_Cell                      4.738067  \n",
       "Respiratory_Rate          Normal (30-60)  \n",
       "Heart_Rate                        Normal  \n",
       "Follow_Up                           High  \n",
       "Gender                            Female  \n",
       "Birth_Asphyxia                       Yes  \n",
       "Birth_Place                    Institute  \n",
       "Folic_Acid_Details                   Yes  \n",
       "Maternal_Illness                     Yes  \n",
       "Radiation_Exposure                   NaN  \n",
       "Substance_Abuse                       No  \n",
       "Assisted_Conception                  Yes  \n",
       "History_Pregnancies                  Yes  \n",
       "Previous_Abortions                   4.0  \n",
       "Birth_Defects                   Singular  \n",
       "White_Blood_Cell               11.188371  \n",
       "Blood_Test                        normal  \n",
       "Symptom_1                            1.0  \n",
       "Symptom_2                            0.0  \n",
       "Symptom_3                            1.0  \n",
       "Symptom_4                            1.0  \n",
       "Symptom_5                            1.0  \n",
       "Disorder_Subclass               Diabetes  \n",
       "Father_Patient_Birth_Age            51.0  \n",
       "Mother_Patient_Birth_Age            21.0  \n",
       "Status_Birth_Defect                   No  \n",
       "\n",
       "[31 rows x 19915 columns]"
      ]
     },
     "execution_count": 3,
     "metadata": {},
     "output_type": "execute_result"
    }
   ],
   "source": [
    "train_data.T"
   ]
  },
  {
   "cell_type": "code",
   "execution_count": 4,
   "id": "c8a72bb2",
   "metadata": {},
   "outputs": [
    {
     "name": "stdout",
     "output_type": "stream",
     "text": [
      "<class 'pandas.core.frame.DataFrame'>\n",
      "Int64Index: 19915 entries, 0 to 22082\n",
      "Data columns (total 31 columns):\n",
      " #   Column                    Non-Null Count  Dtype  \n",
      "---  ------                    --------------  -----  \n",
      " 0   Patient_Age               18672 non-null  float64\n",
      " 1   Mother_Gene               19915 non-null  object \n",
      " 2   Father_Gene               19652 non-null  object \n",
      " 3   Maternal_Gene             17510 non-null  object \n",
      " 4   Paternal_Gene             19915 non-null  object \n",
      " 5   Blood_Cell                19915 non-null  float64\n",
      " 6   Respiratory_Rate          18058 non-null  object \n",
      " 7   Heart_Rate                18127 non-null  object \n",
      " 8   Follow_Up                 18070 non-null  object \n",
      " 9   Gender                    12008 non-null  object \n",
      " 10  Birth_Asphyxia            9060 non-null   object \n",
      " 11  Birth_Place               18060 non-null  object \n",
      " 12  Folic_Acid_Details        18092 non-null  object \n",
      " 13  Maternal_Illness          18084 non-null  object \n",
      " 14  Radiation_Exposure        9077 non-null   object \n",
      " 15  Substance_Abuse           9068 non-null   object \n",
      " 16  Assisted_Conception       18085 non-null  object \n",
      " 17  History_Pregnancies       18070 non-null  object \n",
      " 18  Previous_Abortions        18080 non-null  float64\n",
      " 19  Birth_Defects             18070 non-null  object \n",
      " 20  White_Blood_Cell          18039 non-null  float64\n",
      " 21  Blood_Test                13593 non-null  object \n",
      " 22  Symptom_1                 18062 non-null  float64\n",
      " 23  Symptom_2                 17991 non-null  float64\n",
      " 24  Symptom_3                 18129 non-null  float64\n",
      " 25  Symptom_4                 18102 non-null  float64\n",
      " 26  Symptom_5                 18034 non-null  float64\n",
      " 27  Disorder_Subclass         19915 non-null  object \n",
      " 28  Father_Patient_Birth_Age  14025 non-null  float64\n",
      " 29  Mother_Patient_Birth_Age  13947 non-null  float64\n",
      " 30  Status_Birth_Defect       19018 non-null  object \n",
      "dtypes: float64(11), object(20)\n",
      "memory usage: 5.4+ MB\n"
     ]
    }
   ],
   "source": [
    "train_data.info()"
   ]
  },
  {
   "cell_type": "code",
   "execution_count": 5,
   "id": "0d2765f8",
   "metadata": {},
   "outputs": [
    {
     "data": {
      "image/png": "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\n",
      "text/plain": [
       "<Figure size 1800x720 with 2 Axes>"
      ]
     },
     "metadata": {
      "needs_background": "light"
     },
     "output_type": "display_data"
    }
   ],
   "source": [
    "msno.matrix(train_data)\n",
    "plt.show()"
   ]
  },
  {
   "cell_type": "code",
   "execution_count": 6,
   "id": "abeec549",
   "metadata": {},
   "outputs": [
    {
     "name": "stdout",
     "output_type": "stream",
     "text": [
      "Leigh syndrome                         5160\n",
      "Mitochondrial myopathy                 4405\n",
      "Cystic fibrosis                        3448\n",
      "Tay-Sachs                              2833\n",
      "Diabetes                               1817\n",
      "Hemochromatosis                        1355\n",
      "Leber's hereditary optic neuropathy     648\n",
      "Alzheimer's                             152\n",
      "Cancer                                   97\n",
      "Name: Disorder_Subclass, dtype: int64\n"
     ]
    },
    {
     "data": {
      "image/png": "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\n",
      "text/plain": [
       "<Figure size 576x576 with 1 Axes>"
      ]
     },
     "metadata": {},
     "output_type": "display_data"
    }
   ],
   "source": [
    "# Disorder Subclass Distribution\n",
    "ds_counts = train_data.Disorder_Subclass.value_counts()\n",
    "print(ds_counts)\n",
    "\n",
    "plt.figure(figsize=(8,8))\n",
    "\n",
    "mylab = ds_counts.index\n",
    "explode = (0.0, 0.0, 0.0, 0.0, 0.0, 0.0, 1, 1.5, 2)\n",
    "\n",
    "plt.pie(ds_counts, labels=mylab, explode=explode, autopct='%1.1f%%')\n",
    "plt.show()"
   ]
  },
  {
   "cell_type": "markdown",
   "id": "4441375f",
   "metadata": {},
   "source": [
    "### Road-Map Preprocessing "
   ]
  },
  {
   "cell_type": "markdown",
   "id": "21f213a2",
   "metadata": {},
   "source": [
    "Given the large amounts of missing data within certain columns and the misrepresentation effect that a mean or median imputation would have on the data when identifying disorder subclasses, I decided to go with constant imputation. Using constant imputation and creating missing values as its own catagorical group, I will have the model decide what information the missing values will be able to provide when classifying. Thus I will look into RandomForestClassifier, GradientBoostingClassifier and XGBoost, since they all use tree based modeling which are able to split on constant imputed missing values. These model algorithms also do not care and actually performs better without OneHotEncoding. This way, I will be able to keep track of my features."
   ]
  },
  {
   "cell_type": "markdown",
   "id": "7952066e",
   "metadata": {},
   "source": [
    "### Preprocessing Pipeline"
   ]
  },
  {
   "cell_type": "code",
   "execution_count": 7,
   "id": "0c479275",
   "metadata": {},
   "outputs": [],
   "source": [
    "# Split the data into feature X and target y\n",
    "X = train_data.drop(columns=\"Disorder_Subclass\")\n",
    "y = train_data.Disorder_Subclass\n",
    "\n",
    "# Label encode target y\n",
    "le = LabelEncoder()\n",
    "encoded_y = le.fit_transform(y)"
   ]
  },
  {
   "cell_type": "code",
   "execution_count": 214,
   "id": "6e9b7bc4",
   "metadata": {},
   "outputs": [],
   "source": [
    "# Train Test Split by 20%\n",
    "X_train, X_test, y_train, y_test = train_test_split(X, encoded_y, test_size = 0.2, random_state=123)"
   ]
  },
  {
   "cell_type": "code",
   "execution_count": 215,
   "id": "9f1d3bd8",
   "metadata": {},
   "outputs": [],
   "source": [
    "# Grouped numerical columns\n",
    "num_cols = train_data.select_dtypes('float64').columns\n",
    "\n",
    "# Grouped categorical columns\n",
    "cat_cols = train_data.select_dtypes('object').drop(columns=\"Disorder_Subclass\").columns\n",
    "\n",
    "# Preprocessing for numerical data\n",
    "num_preprocessor = SimpleImputer(strategy='constant', fill_value=-99)\n",
    "\n",
    "# Preprocessing for categorical data\n",
    "cat_preprocessor = Pipeline(steps=[('imputer', SimpleImputer(strategy='constant', fill_value=\"-99\")),\n",
    "                                   ('oe', OrdinalEncoder())])\n",
    "\n",
    "# Combine num and cat preprocessor for data frame transformation\n",
    "preprocessor = ColumnTransformer(\n",
    "    transformers=[('num_transformer', num_preprocessor, num_cols),\n",
    "                  ('cat_transformer', cat_preprocessor, cat_cols)])"
   ]
  },
  {
   "cell_type": "code",
   "execution_count": 144,
   "id": "c1e6fe8c",
   "metadata": {},
   "outputs": [
    {
     "data": {
      "text/html": [
       "<div>\n",
       "<style scoped>\n",
       "    .dataframe tbody tr th:only-of-type {\n",
       "        vertical-align: middle;\n",
       "    }\n",
       "\n",
       "    .dataframe tbody tr th {\n",
       "        vertical-align: top;\n",
       "    }\n",
       "\n",
       "    .dataframe thead th {\n",
       "        text-align: right;\n",
       "    }\n",
       "</style>\n",
       "<table border=\"1\" class=\"dataframe\">\n",
       "  <thead>\n",
       "    <tr style=\"text-align: right;\">\n",
       "      <th></th>\n",
       "      <th>Patient_Age</th>\n",
       "      <th>Blood_Cell</th>\n",
       "      <th>Previous_Abortions</th>\n",
       "      <th>White_Blood_Cell</th>\n",
       "      <th>Symptom_1</th>\n",
       "      <th>Symptom_2</th>\n",
       "      <th>Symptom_3</th>\n",
       "      <th>Symptom_4</th>\n",
       "      <th>Symptom_5</th>\n",
       "      <th>Father_Patient_Birth_Age</th>\n",
       "      <th>...</th>\n",
       "      <th>Birth_Place</th>\n",
       "      <th>Folic_Acid_Details</th>\n",
       "      <th>Maternal_Illness</th>\n",
       "      <th>Radiation_Exposure</th>\n",
       "      <th>Substance_Abuse</th>\n",
       "      <th>Assisted_Conception</th>\n",
       "      <th>History_Pregnancies</th>\n",
       "      <th>Birth_Defects</th>\n",
       "      <th>Blood_Test</th>\n",
       "      <th>Status_Birth_Defect</th>\n",
       "    </tr>\n",
       "  </thead>\n",
       "  <tbody>\n",
       "    <tr>\n",
       "      <th>0</th>\n",
       "      <td>2.0</td>\n",
       "      <td>4.760603</td>\n",
       "      <td>-99.0</td>\n",
       "      <td>9.857562</td>\n",
       "      <td>1.0</td>\n",
       "      <td>1.0</td>\n",
       "      <td>1.0</td>\n",
       "      <td>1.0</td>\n",
       "      <td>1.0</td>\n",
       "      <td>-99.0</td>\n",
       "      <td>...</td>\n",
       "      <td>2.0</td>\n",
       "      <td>1.0</td>\n",
       "      <td>0.0</td>\n",
       "      <td>1.0</td>\n",
       "      <td>1.0</td>\n",
       "      <td>1.0</td>\n",
       "      <td>2.0</td>\n",
       "      <td>0.0</td>\n",
       "      <td>0.0</td>\n",
       "      <td>1.0</td>\n",
       "    </tr>\n",
       "    <tr>\n",
       "      <th>1</th>\n",
       "      <td>4.0</td>\n",
       "      <td>4.910669</td>\n",
       "      <td>-99.0</td>\n",
       "      <td>5.522560</td>\n",
       "      <td>1.0</td>\n",
       "      <td>-99.0</td>\n",
       "      <td>1.0</td>\n",
       "      <td>1.0</td>\n",
       "      <td>0.0</td>\n",
       "      <td>19.0</td>\n",
       "      <td>...</td>\n",
       "      <td>0.0</td>\n",
       "      <td>2.0</td>\n",
       "      <td>2.0</td>\n",
       "      <td>0.0</td>\n",
       "      <td>0.0</td>\n",
       "      <td>1.0</td>\n",
       "      <td>2.0</td>\n",
       "      <td>1.0</td>\n",
       "      <td>2.0</td>\n",
       "      <td>2.0</td>\n",
       "    </tr>\n",
       "    <tr>\n",
       "      <th>2</th>\n",
       "      <td>6.0</td>\n",
       "      <td>4.893297</td>\n",
       "      <td>4.0</td>\n",
       "      <td>-99.000000</td>\n",
       "      <td>0.0</td>\n",
       "      <td>1.0</td>\n",
       "      <td>1.0</td>\n",
       "      <td>1.0</td>\n",
       "      <td>1.0</td>\n",
       "      <td>16.0</td>\n",
       "      <td>...</td>\n",
       "      <td>0.0</td>\n",
       "      <td>2.0</td>\n",
       "      <td>1.0</td>\n",
       "      <td>2.0</td>\n",
       "      <td>0.0</td>\n",
       "      <td>2.0</td>\n",
       "      <td>2.0</td>\n",
       "      <td>2.0</td>\n",
       "      <td>2.0</td>\n",
       "      <td>1.0</td>\n",
       "    </tr>\n",
       "    <tr>\n",
       "      <th>3</th>\n",
       "      <td>12.0</td>\n",
       "      <td>4.705280</td>\n",
       "      <td>1.0</td>\n",
       "      <td>7.919321</td>\n",
       "      <td>0.0</td>\n",
       "      <td>0.0</td>\n",
       "      <td>1.0</td>\n",
       "      <td>0.0</td>\n",
       "      <td>0.0</td>\n",
       "      <td>-99.0</td>\n",
       "      <td>...</td>\n",
       "      <td>2.0</td>\n",
       "      <td>1.0</td>\n",
       "      <td>2.0</td>\n",
       "      <td>0.0</td>\n",
       "      <td>0.0</td>\n",
       "      <td>0.0</td>\n",
       "      <td>2.0</td>\n",
       "      <td>2.0</td>\n",
       "      <td>0.0</td>\n",
       "      <td>2.0</td>\n",
       "    </tr>\n",
       "    <tr>\n",
       "      <th>4</th>\n",
       "      <td>11.0</td>\n",
       "      <td>4.720703</td>\n",
       "      <td>4.0</td>\n",
       "      <td>4.098210</td>\n",
       "      <td>0.0</td>\n",
       "      <td>0.0</td>\n",
       "      <td>0.0</td>\n",
       "      <td>0.0</td>\n",
       "      <td>-99.0</td>\n",
       "      <td>-99.0</td>\n",
       "      <td>...</td>\n",
       "      <td>2.0</td>\n",
       "      <td>1.0</td>\n",
       "      <td>2.0</td>\n",
       "      <td>0.0</td>\n",
       "      <td>0.0</td>\n",
       "      <td>2.0</td>\n",
       "      <td>1.0</td>\n",
       "      <td>1.0</td>\n",
       "      <td>0.0</td>\n",
       "      <td>1.0</td>\n",
       "    </tr>\n",
       "  </tbody>\n",
       "</table>\n",
       "<p>5 rows × 30 columns</p>\n",
       "</div>"
      ],
      "text/plain": [
       "   Patient_Age  Blood_Cell  Previous_Abortions  White_Blood_Cell  Symptom_1  \\\n",
       "0          2.0    4.760603               -99.0          9.857562        1.0   \n",
       "1          4.0    4.910669               -99.0          5.522560        1.0   \n",
       "2          6.0    4.893297                 4.0        -99.000000        0.0   \n",
       "3         12.0    4.705280                 1.0          7.919321        0.0   \n",
       "4         11.0    4.720703                 4.0          4.098210        0.0   \n",
       "\n",
       "   Symptom_2  Symptom_3  Symptom_4  Symptom_5  Father_Patient_Birth_Age  ...  \\\n",
       "0        1.0        1.0        1.0        1.0                     -99.0  ...   \n",
       "1      -99.0        1.0        1.0        0.0                      19.0  ...   \n",
       "2        1.0        1.0        1.0        1.0                      16.0  ...   \n",
       "3        0.0        1.0        0.0        0.0                     -99.0  ...   \n",
       "4        0.0        0.0        0.0      -99.0                     -99.0  ...   \n",
       "\n",
       "   Birth_Place  Folic_Acid_Details  Maternal_Illness  Radiation_Exposure  \\\n",
       "0          2.0                 1.0               0.0                 1.0   \n",
       "1          0.0                 2.0               2.0                 0.0   \n",
       "2          0.0                 2.0               1.0                 2.0   \n",
       "3          2.0                 1.0               2.0                 0.0   \n",
       "4          2.0                 1.0               2.0                 0.0   \n",
       "\n",
       "   Substance_Abuse  Assisted_Conception  History_Pregnancies  Birth_Defects  \\\n",
       "0              1.0                  1.0                  2.0            0.0   \n",
       "1              0.0                  1.0                  2.0            1.0   \n",
       "2              0.0                  2.0                  2.0            2.0   \n",
       "3              0.0                  0.0                  2.0            2.0   \n",
       "4              0.0                  2.0                  1.0            1.0   \n",
       "\n",
       "   Blood_Test  Status_Birth_Defect  \n",
       "0         0.0                  1.0  \n",
       "1         2.0                  2.0  \n",
       "2         2.0                  1.0  \n",
       "3         0.0                  2.0  \n",
       "4         0.0                  1.0  \n",
       "\n",
       "[5 rows x 30 columns]"
      ]
     },
     "execution_count": 144,
     "metadata": {},
     "output_type": "execute_result"
    }
   ],
   "source": [
    "# Preprocessor Test\n",
    "feature_col_names = list(num_cols) + list(cat_cols)\n",
    "preprocessed_df = pd.DataFrame(preprocessor.fit_transform(X, y))\n",
    "preprocessed_df.columns = feature_col_names\n",
    "preprocessed_df.head()"
   ]
  },
  {
   "cell_type": "code",
   "execution_count": 11,
   "id": "6e370c53",
   "metadata": {},
   "outputs": [
    {
     "name": "stdout",
     "output_type": "stream",
     "text": [
      "<class 'pandas.core.frame.DataFrame'>\n",
      "RangeIndex: 15932 entries, 0 to 15931\n",
      "Data columns (total 30 columns):\n",
      " #   Column  Non-Null Count  Dtype  \n",
      "---  ------  --------------  -----  \n",
      " 0   0       15932 non-null  float64\n",
      " 1   1       15932 non-null  float64\n",
      " 2   2       15932 non-null  float64\n",
      " 3   3       15932 non-null  float64\n",
      " 4   4       15932 non-null  float64\n",
      " 5   5       15932 non-null  float64\n",
      " 6   6       15932 non-null  float64\n",
      " 7   7       15932 non-null  float64\n",
      " 8   8       15932 non-null  float64\n",
      " 9   9       15932 non-null  float64\n",
      " 10  10      15932 non-null  float64\n",
      " 11  11      15932 non-null  float64\n",
      " 12  12      15932 non-null  float64\n",
      " 13  13      15932 non-null  float64\n",
      " 14  14      15932 non-null  float64\n",
      " 15  15      15932 non-null  float64\n",
      " 16  16      15932 non-null  float64\n",
      " 17  17      15932 non-null  float64\n",
      " 18  18      15932 non-null  float64\n",
      " 19  19      15932 non-null  float64\n",
      " 20  20      15932 non-null  float64\n",
      " 21  21      15932 non-null  float64\n",
      " 22  22      15932 non-null  float64\n",
      " 23  23      15932 non-null  float64\n",
      " 24  24      15932 non-null  float64\n",
      " 25  25      15932 non-null  float64\n",
      " 26  26      15932 non-null  float64\n",
      " 27  27      15932 non-null  float64\n",
      " 28  28      15932 non-null  float64\n",
      " 29  29      15932 non-null  float64\n",
      "dtypes: float64(30)\n",
      "memory usage: 3.6 MB\n"
     ]
    }
   ],
   "source": [
    "pd.DataFrame(preprocessor.fit_transform(X_train, y_train)).info()"
   ]
  },
  {
   "cell_type": "markdown",
   "id": "69ede952",
   "metadata": {},
   "source": [
    "### Baseline Model Comparisons"
   ]
  },
  {
   "cell_type": "code",
   "execution_count": 12,
   "id": "660c1be2",
   "metadata": {},
   "outputs": [
    {
     "name": "stdout",
     "output_type": "stream",
     "text": [
      "100.0\n",
      "38.915390409239265\n",
      "Scores: [37.84123    37.65296517 38.4180791  37.38229755 36.84871312]\n",
      "Mean: 37.628656987120664\n",
      "Standard Deviation: 0.0051729505037764\n"
     ]
    }
   ],
   "source": [
    "# RandomForestClassifier\n",
    "pipe_rf = Pipeline(steps=[('preprocessor', preprocessor),\n",
    "                          ('randomforest', RandomForestClassifier(random_state=123))])\n",
    "\n",
    "pipe_rf.fit(X_train, y_train)\n",
    "\n",
    "pred_tr = pipe_rf.predict(X_train)\n",
    "pred_te = pipe_rf.predict(X_test)\n",
    "\n",
    "print(accuracy_score(y_train, pred_tr) * 100)\n",
    "print(accuracy_score(y_test, pred_te) * 100)\n",
    "\n",
    "scores = cross_val_score(pipe_rf, X_train, y_train, cv=5, scoring=\"accuracy\", n_jobs=-1)\n",
    "print(\"Scores:\", scores * 100)\n",
    "print(\"Mean:\", scores.mean() * 100)\n",
    "print(\"Standard Deviation:\", scores.std())"
   ]
  },
  {
   "cell_type": "code",
   "execution_count": 13,
   "id": "cb0be03e",
   "metadata": {},
   "outputs": [
    {
     "name": "stdout",
     "output_type": "stream",
     "text": [
      "48.983178508661815\n",
      "39.84433843836304\n",
      "Scores: [41.79479134 40.3200502  41.77652228 39.391086   40.61519146]\n",
      "Mean: 40.779528258534604\n",
      "Standard Deviation: 0.009154949240646073\n"
     ]
    }
   ],
   "source": [
    "# GradientBoostingClassifier\n",
    "pipe_gb = Pipeline(steps=[('preprocessor', preprocessor),\n",
    "                          ('gradientboosting', GradientBoostingClassifier(random_state=123))])\n",
    "\n",
    "pipe_gb.fit(X_train, y_train)\n",
    "\n",
    "pred_tr = pipe_gb.predict(X_train)\n",
    "pred_te = pipe_gb.predict(X_test)\n",
    "\n",
    "print(accuracy_score(y_train, pred_tr) * 100)\n",
    "print(accuracy_score(y_test, pred_te) * 100)\n",
    "\n",
    "scores = cross_val_score(pipe_gb, X_train, y_train, cv=5, scoring=\"accuracy\", n_jobs=-1)\n",
    "print(\"Scores:\", scores * 100)\n",
    "print(\"Mean:\", scores.mean() * 100)\n",
    "print(\"Standard Deviation:\", scores.std())"
   ]
  },
  {
   "cell_type": "code",
   "execution_count": 14,
   "id": "17b7c7e5",
   "metadata": {},
   "outputs": [
    {
     "name": "stderr",
     "output_type": "stream",
     "text": [
      "C:\\Users\\yy\\Anaconda-Python\\lib\\site-packages\\xgboost\\sklearn.py:1224: UserWarning: The use of label encoder in XGBClassifier is deprecated and will be removed in a future release. To remove this warning, do the following: 1) Pass option use_label_encoder=False when constructing XGBClassifier object; and 2) Encode your labels (y) as integers starting with 0, i.e. 0, 1, 2, ..., [num_class - 1].\n",
      "  warnings.warn(label_encoder_deprecation_msg, UserWarning)\n"
     ]
    },
    {
     "name": "stdout",
     "output_type": "stream",
     "text": [
      "95.59377353753452\n",
      "36.42982676374592\n",
      "Scores: [37.74709758 38.15500471 39.391086   36.12680477 37.03703704]\n",
      "Mean: 37.69140601994409\n",
      "Standard Deviation: 0.010939024788202712\n"
     ]
    }
   ],
   "source": [
    "# XGBClassifier\n",
    "pipe_xgb = Pipeline(steps=[('preprocessor', preprocessor),\n",
    "                           ('xgboost', xgb.XGBClassifier(random_state=123, verbosity=0))])\n",
    "\n",
    "pipe_xgb.fit(X_train, y_train)\n",
    "\n",
    "pred_tr = pipe_xgb.predict(X_train)\n",
    "pred_te = pipe_xgb.predict(X_test)\n",
    "\n",
    "print(accuracy_score(y_train, pred_tr) * 100)\n",
    "print(accuracy_score(y_test, pred_te) * 100)\n",
    "\n",
    "scores = cross_val_score(pipe_xgb, X_train, y_train, cv=5, scoring=\"accuracy\", n_jobs=-1)\n",
    "print(\"Scores:\", scores * 100)\n",
    "print(\"Mean:\", scores.mean() * 100)\n",
    "print(\"Standard Deviation:\", scores.std())"
   ]
  },
  {
   "cell_type": "markdown",
   "id": "bc340a44",
   "metadata": {},
   "source": [
    "Evaluating on the cross validated mean scores for each model, the GradientBoostingClassifier had the highest score with 40.7, but looking at its training score, it performed poorly at 48.6. For both the RandomForestClassifier and XGBClassifier, both have really high train score, showing that there is overfitting that can be regularized and similar test split score of 36-37. I will be following through with XGBoost since it can deal well with imbalanced classes in my data set, as well being robust in modeling large amounts of missing data."
   ]
  },
  {
   "cell_type": "markdown",
   "id": "5dfb415f",
   "metadata": {},
   "source": [
    "### Defining XGB Baseline Model"
   ]
  },
  {
   "cell_type": "code",
   "execution_count": 15,
   "id": "ceac06dc",
   "metadata": {},
   "outputs": [],
   "source": [
    "# Default parameters set to multi-classification\n",
    "params = {\n",
    "    'objective':'multi:softmax',\n",
    "    'seed':123,\n",
    "    'verbosity':0,\n",
    "    'use_label_encoder':False\n",
    "}"
   ]
  },
  {
   "cell_type": "code",
   "execution_count": 16,
   "id": "6d0d5024",
   "metadata": {},
   "outputs": [
    {
     "name": "stdout",
     "output_type": "stream",
     "text": [
      "95.59377353753452\n",
      "36.42982676374592\n"
     ]
    }
   ],
   "source": [
    "# Model without class weights\n",
    "pipe_initial_noweights = Pipeline(steps=[('preprocessor', preprocessor),\n",
    "                                         ('xgboost', xgb.XGBClassifier(**params))])\n",
    "\n",
    "pipe_initial_noweights.fit(X_train, y_train)\n",
    "\n",
    "pred_tr = pipe_initial_noweights.predict(X_train)\n",
    "pred_te = pipe_initial_noweights.predict(X_test)\n",
    "\n",
    "print(accuracy_score(y_train, pred_tr) * 100)\n",
    "print(accuracy_score(y_test, pred_te) * 100)"
   ]
  },
  {
   "cell_type": "code",
   "execution_count": 17,
   "id": "96d33ce6",
   "metadata": {},
   "outputs": [
    {
     "name": "stdout",
     "output_type": "stream",
     "text": [
      "Scores: [37.74709758 38.15500471 39.391086   36.12680477 37.03703704]\n",
      "Mean: 37.69140601994409\n",
      "Standard Deviation: 0.010939024788202712\n"
     ]
    }
   ],
   "source": [
    "# Cross Validation Score\n",
    "scores = cross_val_score(pipe_initial_noweights, X_train, y_train, cv=5, scoring=\"accuracy\", n_jobs=-1)\n",
    "print(\"Scores:\", scores * 100)\n",
    "print(\"Mean:\", scores.mean() * 100)\n",
    "print(\"Standard Deviation:\", scores.std())"
   ]
  },
  {
   "cell_type": "code",
   "execution_count": 18,
<<<<<<< HEAD
<<<<<<< HEAD
   "id": "81bf152d",
=======
   "id": "20ac243a",
>>>>>>> 8e3e5ac1f454cd1a067bc5ca2222da8e03783add
=======
   "id": "20ac243a",
>>>>>>> 8e3e5ac1f454cd1a067bc5ca2222da8e03783add
   "metadata": {},
   "outputs": [
    {
     "name": "stdout",
     "output_type": "stream",
     "text": [
      "F1_Macro Scores: [27.28525431 29.90437524 29.86898888 26.92948598 28.04151249]\n",
      "F1_Macro Scores Mean: 28.405923382590455\n",
      "F1_Macro Scores Standard Deviation: 0.012613072980215762\n"
     ]
    }
   ],
   "source": [
    "# Cross Validation Score for F1_Macro Score Metric baseline\n",
    "scores = cross_val_score(pipe_initial_noweights, X_train, y_train, cv=5, scoring=\"f1_macro\", n_jobs=-1)\n",
    "print(\"F1_Macro Scores:\", scores * 100)\n",
    "print(\"F1_Macro Scores Mean:\", scores.mean() * 100)\n",
    "print(\"F1_Macro Scores Standard Deviation:\", scores.std())"
   ]
  },
  {
   "cell_type": "code",
   "execution_count": 19,
   "id": "19abd311",
   "metadata": {},
   "outputs": [
    {
     "name": "stdout",
     "output_type": "stream",
     "text": [
      "              precision    recall  f1-score   support\n",
      "\n",
      "           0       0.43      0.10      0.17        29\n",
      "           1       0.67      0.09      0.15        23\n",
      "           2       0.40      0.51      0.45       647\n",
      "           3       0.35      0.27      0.31       346\n",
      "           4       0.32      0.23      0.27       266\n",
      "           5       0.34      0.20      0.25       126\n",
      "           6       0.40      0.40      0.40      1072\n",
      "           7       0.35      0.38      0.36       901\n",
      "           8       0.30      0.28      0.29       573\n",
      "\n",
      "    accuracy                           0.36      3983\n",
      "   macro avg       0.39      0.27      0.29      3983\n",
      "weighted avg       0.36      0.36      0.36      3983\n",
      "\n"
     ]
    }
   ],
   "source": [
    "print(classification_report(y_test, pred_te))"
   ]
  },
  {
   "cell_type": "markdown",
<<<<<<< HEAD
<<<<<<< HEAD
   "id": "bf24d2a3",
=======
   "id": "c9689507",
>>>>>>> 8e3e5ac1f454cd1a067bc5ca2222da8e03783add
=======
   "id": "c9689507",
>>>>>>> 8e3e5ac1f454cd1a067bc5ca2222da8e03783add
   "metadata": {},
   "source": [
    "#### Adding Class Weights to handle heavy imbalance in dataset"
   ]
  },
  {
   "cell_type": "code",
   "execution_count": 20,
   "id": "e719a266",
   "metadata": {},
   "outputs": [],
   "source": [
    "# Adding Class Weight due to heavy imbalance of dataset seen in the EDA\n",
    "sample_weights = compute_sample_weight(\n",
    "    class_weight='balanced',\n",
    "    y=y_train\n",
    ")"
   ]
  },
  {
   "cell_type": "code",
   "execution_count": 21,
   "id": "0dd9be19",
   "metadata": {},
   "outputs": [
    {
     "name": "stdout",
     "output_type": "stream",
     "text": [
      "91.53904092392668\n",
      "34.0446899322119\n"
     ]
    }
   ],
   "source": [
    "# Model with class weights\n",
    "pipe_initial = Pipeline(steps=[('preprocessor', preprocessor),\n",
    "                               ('xgboost', xgb.XGBClassifier(**params))])\n",
    "\n",
    "pipe_initial.fit(X_train, y_train, xgboost__sample_weight=sample_weights)\n",
    "\n",
    "pred_tr = pipe_initial.predict(X_train)\n",
    "pred_te = pipe_initial.predict(X_test)\n",
    "\n",
    "print(accuracy_score(y_train, pred_tr) * 100)\n",
    "print(accuracy_score(y_test, pred_te) * 100)"
   ]
  },
  {
   "cell_type": "code",
   "execution_count": 219,
   "id": "7b551955",
   "metadata": {},
   "outputs": [
    {
     "ename": "ValueError",
     "evalue": "'balanced_accuracy_score' is not a valid scoring value. Use sorted(sklearn.metrics.SCORERS.keys()) to get valid options.",
     "output_type": "error",
     "traceback": [
      "\u001b[1;31m---------------------------------------------------------------------------\u001b[0m",
      "\u001b[1;31mKeyError\u001b[0m                                  Traceback (most recent call last)",
      "\u001b[1;32m~\\Anaconda-Python\\lib\\site-packages\\sklearn\\metrics\\_scorer.py\u001b[0m in \u001b[0;36mget_scorer\u001b[1;34m(scoring)\u001b[0m\n\u001b[0;32m    384\u001b[0m         \u001b[1;32mtry\u001b[0m\u001b[1;33m:\u001b[0m\u001b[1;33m\u001b[0m\u001b[1;33m\u001b[0m\u001b[0m\n\u001b[1;32m--> 385\u001b[1;33m             \u001b[0mscorer\u001b[0m \u001b[1;33m=\u001b[0m \u001b[0mSCORERS\u001b[0m\u001b[1;33m[\u001b[0m\u001b[0mscoring\u001b[0m\u001b[1;33m]\u001b[0m\u001b[1;33m\u001b[0m\u001b[1;33m\u001b[0m\u001b[0m\n\u001b[0m\u001b[0;32m    386\u001b[0m         \u001b[1;32mexcept\u001b[0m \u001b[0mKeyError\u001b[0m\u001b[1;33m:\u001b[0m\u001b[1;33m\u001b[0m\u001b[1;33m\u001b[0m\u001b[0m\n",
      "\u001b[1;31mKeyError\u001b[0m: 'balanced_accuracy_score'",
      "\nDuring handling of the above exception, another exception occurred:\n",
      "\u001b[1;31mValueError\u001b[0m                                Traceback (most recent call last)",
      "\u001b[1;32m~\\AppData\\Local\\Temp/ipykernel_15696/1660081041.py\u001b[0m in \u001b[0;36m<module>\u001b[1;34m\u001b[0m\n\u001b[0;32m      1\u001b[0m \u001b[1;31m# Cross Validation Score\u001b[0m\u001b[1;33m\u001b[0m\u001b[1;33m\u001b[0m\u001b[1;33m\u001b[0m\u001b[0m\n\u001b[1;32m----> 2\u001b[1;33m \u001b[0mscores\u001b[0m \u001b[1;33m=\u001b[0m \u001b[0mcross_val_score\u001b[0m\u001b[1;33m(\u001b[0m\u001b[0mpipe_initial\u001b[0m\u001b[1;33m,\u001b[0m \u001b[0mX_train\u001b[0m\u001b[1;33m,\u001b[0m \u001b[0my_train\u001b[0m\u001b[1;33m,\u001b[0m \u001b[0mcv\u001b[0m\u001b[1;33m=\u001b[0m\u001b[1;36m5\u001b[0m\u001b[1;33m,\u001b[0m \u001b[0mscoring\u001b[0m\u001b[1;33m=\u001b[0m\u001b[1;34m\"balanced_accuracy_score\"\u001b[0m\u001b[1;33m,\u001b[0m \u001b[0mfit_params\u001b[0m\u001b[1;33m=\u001b[0m\u001b[1;33m{\u001b[0m\u001b[1;34m'xgboost__sample_weight'\u001b[0m\u001b[1;33m:\u001b[0m\u001b[0msample_weights\u001b[0m\u001b[1;33m}\u001b[0m\u001b[1;33m,\u001b[0m \u001b[0mn_jobs\u001b[0m\u001b[1;33m=\u001b[0m\u001b[1;33m-\u001b[0m\u001b[1;36m1\u001b[0m\u001b[1;33m)\u001b[0m\u001b[1;33m\u001b[0m\u001b[1;33m\u001b[0m\u001b[0m\n\u001b[0m\u001b[0;32m      3\u001b[0m \u001b[0mprint\u001b[0m\u001b[1;33m(\u001b[0m\u001b[1;34m\"Scores:\"\u001b[0m\u001b[1;33m,\u001b[0m \u001b[0mscores\u001b[0m \u001b[1;33m*\u001b[0m \u001b[1;36m100\u001b[0m\u001b[1;33m)\u001b[0m\u001b[1;33m\u001b[0m\u001b[1;33m\u001b[0m\u001b[0m\n\u001b[0;32m      4\u001b[0m \u001b[0mprint\u001b[0m\u001b[1;33m(\u001b[0m\u001b[1;34m\"Mean:\"\u001b[0m\u001b[1;33m,\u001b[0m \u001b[0mscores\u001b[0m\u001b[1;33m.\u001b[0m\u001b[0mmean\u001b[0m\u001b[1;33m(\u001b[0m\u001b[1;33m)\u001b[0m \u001b[1;33m*\u001b[0m \u001b[1;36m100\u001b[0m\u001b[1;33m)\u001b[0m\u001b[1;33m\u001b[0m\u001b[1;33m\u001b[0m\u001b[0m\n\u001b[0;32m      5\u001b[0m \u001b[0mprint\u001b[0m\u001b[1;33m(\u001b[0m\u001b[1;34m\"Standard Deviation:\"\u001b[0m\u001b[1;33m,\u001b[0m \u001b[0mscores\u001b[0m\u001b[1;33m.\u001b[0m\u001b[0mstd\u001b[0m\u001b[1;33m(\u001b[0m\u001b[1;33m)\u001b[0m\u001b[1;33m)\u001b[0m\u001b[1;33m\u001b[0m\u001b[1;33m\u001b[0m\u001b[0m\n",
      "\u001b[1;32m~\\Anaconda-Python\\lib\\site-packages\\sklearn\\utils\\validation.py\u001b[0m in \u001b[0;36minner_f\u001b[1;34m(*args, **kwargs)\u001b[0m\n\u001b[0;32m     61\u001b[0m             \u001b[0mextra_args\u001b[0m \u001b[1;33m=\u001b[0m \u001b[0mlen\u001b[0m\u001b[1;33m(\u001b[0m\u001b[0margs\u001b[0m\u001b[1;33m)\u001b[0m \u001b[1;33m-\u001b[0m \u001b[0mlen\u001b[0m\u001b[1;33m(\u001b[0m\u001b[0mall_args\u001b[0m\u001b[1;33m)\u001b[0m\u001b[1;33m\u001b[0m\u001b[1;33m\u001b[0m\u001b[0m\n\u001b[0;32m     62\u001b[0m             \u001b[1;32mif\u001b[0m \u001b[0mextra_args\u001b[0m \u001b[1;33m<=\u001b[0m \u001b[1;36m0\u001b[0m\u001b[1;33m:\u001b[0m\u001b[1;33m\u001b[0m\u001b[1;33m\u001b[0m\u001b[0m\n\u001b[1;32m---> 63\u001b[1;33m                 \u001b[1;32mreturn\u001b[0m \u001b[0mf\u001b[0m\u001b[1;33m(\u001b[0m\u001b[1;33m*\u001b[0m\u001b[0margs\u001b[0m\u001b[1;33m,\u001b[0m \u001b[1;33m**\u001b[0m\u001b[0mkwargs\u001b[0m\u001b[1;33m)\u001b[0m\u001b[1;33m\u001b[0m\u001b[1;33m\u001b[0m\u001b[0m\n\u001b[0m\u001b[0;32m     64\u001b[0m \u001b[1;33m\u001b[0m\u001b[0m\n\u001b[0;32m     65\u001b[0m             \u001b[1;31m# extra_args > 0\u001b[0m\u001b[1;33m\u001b[0m\u001b[1;33m\u001b[0m\u001b[1;33m\u001b[0m\u001b[0m\n",
      "\u001b[1;32m~\\Anaconda-Python\\lib\\site-packages\\sklearn\\model_selection\\_validation.py\u001b[0m in \u001b[0;36mcross_val_score\u001b[1;34m(estimator, X, y, groups, scoring, cv, n_jobs, verbose, fit_params, pre_dispatch, error_score)\u001b[0m\n\u001b[0;32m    441\u001b[0m     \"\"\"\n\u001b[0;32m    442\u001b[0m     \u001b[1;31m# To ensure multimetric format is not supported\u001b[0m\u001b[1;33m\u001b[0m\u001b[1;33m\u001b[0m\u001b[1;33m\u001b[0m\u001b[0m\n\u001b[1;32m--> 443\u001b[1;33m     \u001b[0mscorer\u001b[0m \u001b[1;33m=\u001b[0m \u001b[0mcheck_scoring\u001b[0m\u001b[1;33m(\u001b[0m\u001b[0mestimator\u001b[0m\u001b[1;33m,\u001b[0m \u001b[0mscoring\u001b[0m\u001b[1;33m=\u001b[0m\u001b[0mscoring\u001b[0m\u001b[1;33m)\u001b[0m\u001b[1;33m\u001b[0m\u001b[1;33m\u001b[0m\u001b[0m\n\u001b[0m\u001b[0;32m    444\u001b[0m \u001b[1;33m\u001b[0m\u001b[0m\n\u001b[0;32m    445\u001b[0m     cv_results = cross_validate(estimator=estimator, X=X, y=y, groups=groups,\n",
      "\u001b[1;32m~\\Anaconda-Python\\lib\\site-packages\\sklearn\\utils\\validation.py\u001b[0m in \u001b[0;36minner_f\u001b[1;34m(*args, **kwargs)\u001b[0m\n\u001b[0;32m     61\u001b[0m             \u001b[0mextra_args\u001b[0m \u001b[1;33m=\u001b[0m \u001b[0mlen\u001b[0m\u001b[1;33m(\u001b[0m\u001b[0margs\u001b[0m\u001b[1;33m)\u001b[0m \u001b[1;33m-\u001b[0m \u001b[0mlen\u001b[0m\u001b[1;33m(\u001b[0m\u001b[0mall_args\u001b[0m\u001b[1;33m)\u001b[0m\u001b[1;33m\u001b[0m\u001b[1;33m\u001b[0m\u001b[0m\n\u001b[0;32m     62\u001b[0m             \u001b[1;32mif\u001b[0m \u001b[0mextra_args\u001b[0m \u001b[1;33m<=\u001b[0m \u001b[1;36m0\u001b[0m\u001b[1;33m:\u001b[0m\u001b[1;33m\u001b[0m\u001b[1;33m\u001b[0m\u001b[0m\n\u001b[1;32m---> 63\u001b[1;33m                 \u001b[1;32mreturn\u001b[0m \u001b[0mf\u001b[0m\u001b[1;33m(\u001b[0m\u001b[1;33m*\u001b[0m\u001b[0margs\u001b[0m\u001b[1;33m,\u001b[0m \u001b[1;33m**\u001b[0m\u001b[0mkwargs\u001b[0m\u001b[1;33m)\u001b[0m\u001b[1;33m\u001b[0m\u001b[1;33m\u001b[0m\u001b[0m\n\u001b[0m\u001b[0;32m     64\u001b[0m \u001b[1;33m\u001b[0m\u001b[0m\n\u001b[0;32m     65\u001b[0m             \u001b[1;31m# extra_args > 0\u001b[0m\u001b[1;33m\u001b[0m\u001b[1;33m\u001b[0m\u001b[1;33m\u001b[0m\u001b[0m\n",
      "\u001b[1;32m~\\Anaconda-Python\\lib\\site-packages\\sklearn\\metrics\\_scorer.py\u001b[0m in \u001b[0;36mcheck_scoring\u001b[1;34m(estimator, scoring, allow_none)\u001b[0m\n\u001b[0;32m    428\u001b[0m                         \"'fit' method, %r was passed\" % estimator)\n\u001b[0;32m    429\u001b[0m     \u001b[1;32mif\u001b[0m \u001b[0misinstance\u001b[0m\u001b[1;33m(\u001b[0m\u001b[0mscoring\u001b[0m\u001b[1;33m,\u001b[0m \u001b[0mstr\u001b[0m\u001b[1;33m)\u001b[0m\u001b[1;33m:\u001b[0m\u001b[1;33m\u001b[0m\u001b[1;33m\u001b[0m\u001b[0m\n\u001b[1;32m--> 430\u001b[1;33m         \u001b[1;32mreturn\u001b[0m \u001b[0mget_scorer\u001b[0m\u001b[1;33m(\u001b[0m\u001b[0mscoring\u001b[0m\u001b[1;33m)\u001b[0m\u001b[1;33m\u001b[0m\u001b[1;33m\u001b[0m\u001b[0m\n\u001b[0m\u001b[0;32m    431\u001b[0m     \u001b[1;32melif\u001b[0m \u001b[0mcallable\u001b[0m\u001b[1;33m(\u001b[0m\u001b[0mscoring\u001b[0m\u001b[1;33m)\u001b[0m\u001b[1;33m:\u001b[0m\u001b[1;33m\u001b[0m\u001b[1;33m\u001b[0m\u001b[0m\n\u001b[0;32m    432\u001b[0m         \u001b[1;31m# Heuristic to ensure user has not passed a metric\u001b[0m\u001b[1;33m\u001b[0m\u001b[1;33m\u001b[0m\u001b[1;33m\u001b[0m\u001b[0m\n",
      "\u001b[1;32m~\\Anaconda-Python\\lib\\site-packages\\sklearn\\metrics\\_scorer.py\u001b[0m in \u001b[0;36mget_scorer\u001b[1;34m(scoring)\u001b[0m\n\u001b[0;32m    385\u001b[0m             \u001b[0mscorer\u001b[0m \u001b[1;33m=\u001b[0m \u001b[0mSCORERS\u001b[0m\u001b[1;33m[\u001b[0m\u001b[0mscoring\u001b[0m\u001b[1;33m]\u001b[0m\u001b[1;33m\u001b[0m\u001b[1;33m\u001b[0m\u001b[0m\n\u001b[0;32m    386\u001b[0m         \u001b[1;32mexcept\u001b[0m \u001b[0mKeyError\u001b[0m\u001b[1;33m:\u001b[0m\u001b[1;33m\u001b[0m\u001b[1;33m\u001b[0m\u001b[0m\n\u001b[1;32m--> 387\u001b[1;33m             raise ValueError('%r is not a valid scoring value. '\n\u001b[0m\u001b[0;32m    388\u001b[0m                              \u001b[1;34m'Use sorted(sklearn.metrics.SCORERS.keys()) '\u001b[0m\u001b[1;33m\u001b[0m\u001b[1;33m\u001b[0m\u001b[0m\n\u001b[0;32m    389\u001b[0m                              'to get valid options.' % scoring)\n",
      "\u001b[1;31mValueError\u001b[0m: 'balanced_accuracy_score' is not a valid scoring value. Use sorted(sklearn.metrics.SCORERS.keys()) to get valid options."
     ]
    }
   ],
   "source": [
    "# Cross Validation Score\n",
    "scores = cross_val_score(pipe_initial, X_train, y_train, cv=5, scoring=\"balanced_accuracy_score\", fit_params={'xgboost__sample_weight':sample_weights}, n_jobs=-1)\n",
    "print(\"Scores:\", scores * 100)\n",
    "print(\"Mean:\", scores.mean() * 100)\n",
    "print(\"Standard Deviation:\", scores.std())"
   ]
  },
  {
   "cell_type": "code",
   "execution_count": 23,
   "id": "f0d21899",
   "metadata": {},
   "outputs": [
    {
     "name": "stdout",
     "output_type": "stream",
     "text": [
      "F1_Macro Scores: [29.89206165 28.26878374 28.75775617 27.0813322  28.96110684]\n",
      "F1_Macro Scores Mean: 28.59220811691749\n",
      "F1_Macro Scores Standard Deviation: 0.009209192147398303\n"
     ]
    }
   ],
   "source": [
    "# Cross Validation Score for F1_Macro Score Metric baseline\n",
    "scores = cross_val_score(pipe_initial, X_train, y_train, cv=5, scoring=\"f1_macro\", fit_params={'xgboost__sample_weight':sample_weights}, n_jobs=-1)\n",
    "print(\"F1_Macro Scores:\", scores * 100)\n",
    "print(\"F1_Macro Scores Mean:\", scores.mean() * 100)\n",
    "print(\"F1_Macro Scores Standard Deviation:\", scores.std())"
   ]
  },
  {
   "cell_type": "code",
   "execution_count": 24,
   "id": "53b31173",
   "metadata": {},
   "outputs": [
    {
     "name": "stdout",
     "output_type": "stream",
     "text": [
      "              precision    recall  f1-score   support\n",
      "\n",
      "           0       0.25      0.10      0.15        29\n",
      "           1       0.25      0.13      0.17        23\n",
      "           2       0.39      0.47      0.42       647\n",
      "           3       0.29      0.31      0.30       346\n",
      "           4       0.28      0.34      0.30       266\n",
      "           5       0.25      0.24      0.25       126\n",
      "           6       0.41      0.33      0.36      1072\n",
      "           7       0.33      0.32      0.32       901\n",
      "           8       0.28      0.32      0.30       573\n",
      "\n",
      "    accuracy                           0.34      3983\n",
      "   macro avg       0.30      0.28      0.29      3983\n",
      "weighted avg       0.34      0.34      0.34      3983\n",
      "\n"
     ]
    }
   ],
   "source": [
    "print(classification_report(y_test, pred_te))"
   ]
  },
  {
   "cell_type": "code",
   "execution_count": 25,
   "id": "96a61c8e",
   "metadata": {},
   "outputs": [
    {
     "name": "stdout",
     "output_type": "stream",
     "text": [
      "0 Alzheimer's\n",
      "1 Cancer\n",
      "2 Cystic fibrosis\n",
      "3 Diabetes\n",
      "4 Hemochromatosis\n",
      "5 Leber's hereditary optic neuropathy\n",
      "6 Leigh syndrome\n",
      "7 Mitochondrial myopathy\n",
      "8 Tay-Sachs\n"
     ]
    }
   ],
   "source": [
    "for i, val in enumerate(le.inverse_transform([0, 1, 2, 3, 4, 5, 6, 7, 8])):\n",
    "    print(i, val)"
   ]
  },
  {
   "cell_type": "markdown",
   "id": "a932cce0",
   "metadata": {},
   "source": [
    "The initial model without class weights performs slightly better then the model with class weights. But the slight decrease to account for class_weights will hopefully lead to better learning model with tuning parameters to appropriately classify the small classes. The default parameters for XGBoost looks to be overfitting given then high 93-96 accuracy score for the train split, but only a 35-37 for the test split. This is supported by the cross validation with similar mean scores. Hyperparameter tuning will hopefully reduce the overfitting and increase the accuracy on the test split."
   ]
  },
  {
   "cell_type": "markdown",
   "id": "b673de9c",
   "metadata": {},
   "source": [
    "### Random Search with CV Functions"
   ]
  },
  {
   "cell_type": "code",
   "execution_count": 63,
   "id": "332e69cf",
   "metadata": {},
   "outputs": [],
   "source": [
    "def rand_search_eval(estimator, hype_params, sample_weights, n_iter):\n",
    "    \n",
    "    \"\"\"\n",
    "    Function performs RandomizedSearchCV on inputted hyper parameters.\n",
    "    After models are created, the mean score and standard deviation of each iteration is stored.\n",
    "    The model is graphed against F1_Macro score.\n",
    "    The top 5 models are listed with their scores and iteration number for identification\n",
    "    Best parameters and best score are printed too.\n",
    "    \"\"\"\n",
    "    \n",
    "    # Random Search with CV of the hyper parameters\n",
    "    rand_search = RandomizedSearchCV(\n",
    "        n_jobs=-1,\n",
    "        estimator=estimator,\n",
    "        param_distributions=hype_params,\n",
    "        scoring = 'f1_macro',\n",
    "        n_iter = n_iter,\n",
    "        cv = 3,\n",
    "        verbose=10,\n",
    "        random_state=123\n",
    "    )\n",
    "    \n",
    "    # Fit and CV models with hyper parameters\n",
    "    rand_search.fit(X_train, y_train, xgb_model__sample_weight=sample_weights)\n",
    "    \n",
    "    # Mean and Standard Deviation from iteration\n",
    "    mean_score = list(rand_search.cv_results_['mean_test_score'])\n",
    "    stds_score = list(rand_search.cv_results_['std_test_score'])\n",
    "    \n",
    "    # Graphs each iteration and its F1_Macro score\n",
    "    plt.subplots(figsize=(10, 5))\n",
    "    plt.errorbar(list(range(0,len(mean_score))), mean_score, yerr=stds_score)\n",
    "    plt.title(\"Rand_Search Iteration vs F1_Macro Score\")\n",
    "    plt.xlabel(\"Iteration\")\n",
    "    plt.ylabel(\"f1_macro score\")\n",
    "    plt.show()\n",
    "    \n",
    "    # Prints the top 5 scores with iteration number\n",
    "    print(sorted(list(enumerate(mean_score)), key=lambda x: x[1], reverse=True)[0:5])\n",
    "    \n",
    "    print(\"Best Parameters: \", rand_search.best_params_)\n",
    "    print(\"Best Score: \", rand_search.best_score_)\n",
    "    \n",
    "    return(rand_search)"
   ]
  },
  {
   "cell_type": "code",
   "execution_count": 77,
<<<<<<< HEAD
<<<<<<< HEAD
   "id": "70ab43fb",
=======
   "id": "1bb5b4c1",
>>>>>>> 8e3e5ac1f454cd1a067bc5ca2222da8e03783add
=======
   "id": "1bb5b4c1",
>>>>>>> 8e3e5ac1f454cd1a067bc5ca2222da8e03783add
   "metadata": {},
   "outputs": [],
   "source": [
    "def rand_search_n_iterFinder(estimator, hype_params, sample_weights, n_iter):\n",
    "    \n",
    "    \"\"\"\n",
    "    Function performs RandomizedSearchCV on inputted hyper parameters.\n",
    "    Prints out the best score.\n",
    "    Similar layout to rand_search_eval, except the graphing has been removed.\n",
    "    \"\"\"\n",
    "    \n",
    "    # Random Search with CV of the hyper parameters\n",
    "    rand_search = RandomizedSearchCV(\n",
    "        n_jobs=-1,\n",
    "        estimator=estimator,\n",
    "        param_distributions=hype_params,\n",
    "        scoring = 'f1_macro',\n",
    "        n_iter = n_iter,\n",
    "        cv = 3,\n",
    "        verbose=10,\n",
    "        random_state=123\n",
    "    )\n",
    "    \n",
    "    # Fit and CV models with hyper parameters\n",
    "    rand_search.fit(X_train, y_train, xgb_model__sample_weight=sample_weights)\n",
    "    \n",
    "    print(\"Best Score: \", rand_search.best_score_)\n",
    "    \n",
    "    return(rand_search)"
   ]
  },
  {
   "cell_type": "markdown",
   "id": "29de6f69",
   "metadata": {},
   "source": [
    "## Hyperparameter Tuning"
   ]
  },
  {
   "cell_type": "code",
   "execution_count": 64,
   "id": "780ceed8",
   "metadata": {},
   "outputs": [],
   "source": [
    "# Base model with weighted class for the imbalance data set to tune\n",
    "pipe_tuning = Pipeline(steps=[('preprocessor', preprocessor),\n",
    "                              ('xgb_model', xgb.XGBClassifier(**params))])"
   ]
  },
  {
   "cell_type": "markdown",
   "id": "d8e01a2e",
   "metadata": {},
   "source": [
    "Parameter ranges were chosen based on articles about tuning parameters as a starting point."
   ]
  },
  {
   "cell_type": "markdown",
<<<<<<< HEAD
<<<<<<< HEAD
   "id": "7610c966",
=======
   "id": "7c6f9187",
>>>>>>> 8e3e5ac1f454cd1a067bc5ca2222da8e03783add
=======
   "id": "7c6f9187",
>>>>>>> 8e3e5ac1f454cd1a067bc5ca2222da8e03783add
   "metadata": {},
   "source": [
    "### Hyper_Parameters"
   ]
  },
  {
   "cell_type": "markdown",
<<<<<<< HEAD
<<<<<<< HEAD
   "id": "d1b915bb",
=======
   "id": "b65cdc82",
>>>>>>> 8e3e5ac1f454cd1a067bc5ca2222da8e03783add
=======
   "id": "b65cdc82",
>>>>>>> 8e3e5ac1f454cd1a067bc5ca2222da8e03783add
   "metadata": {},
   "source": [
    "#### 1st Round General Tuning Parameters and Finding Optimal n_iters"
   ]
  },
  {
   "cell_type": "code",
   "execution_count": 121,
   "id": "9aab134c",
   "metadata": {},
   "outputs": [],
   "source": [
    "hype_params = {\n",
    "    'xgb_model__learning_rate': np.arange(0,1.1,0.1),\n",
    "    'xgb_model__n_estimators': range(20, 620, 20),\n",
    "    'xgb_model__max_depth': range(1, 16),\n",
    "    'xgb_model__min_child_weight': np.arange(1,15),\n",
    "    'xgb_model__gamma': range(0, 15),\n",
    "    'xgb_model__subsample': np.arange(0,1.1,0.1),\n",
    "    'xgb_model__colsample_bytree': np.arange(0,1.1,0.1),\n",
    "    'xgb_model__reg_lambda': np.arange(0,3,0.2),\n",
    "}"
   ]
  },
  {
   "cell_type": "code",
   "execution_count": 122,
   "id": "5f235cd7",
   "metadata": {},
   "outputs": [
    {
     "name": "stdout",
     "output_type": "stream",
     "text": [
      "Fitting 3 folds for each of 40 candidates, totalling 120 fits\n",
      "Best Score:  0.2997813436362725\n",
      "Fitting 3 folds for each of 80 candidates, totalling 240 fits\n",
      "Best Score:  0.3017181111765767\n",
      "Fitting 3 folds for each of 120 candidates, totalling 360 fits\n",
      "Best Score:  0.3017181111765767\n",
      "Fitting 3 folds for each of 160 candidates, totalling 480 fits\n",
      "Best Score:  0.30256052194294786\n",
      "Fitting 3 folds for each of 200 candidates, totalling 600 fits\n",
      "Best Score:  0.30256052194294786\n",
      "Fitting 3 folds for each of 240 candidates, totalling 720 fits\n",
      "Best Score:  0.30502267227683827\n",
      "Fitting 3 folds for each of 280 candidates, totalling 840 fits\n",
      "Best Score:  0.30502267227683827\n",
      "Fitting 3 folds for each of 320 candidates, totalling 960 fits\n",
      "Best Score:  0.30502267227683827\n"
     ]
    }
   ],
   "source": [
    "n_iterList = list(range(40, 330, 40))\n",
    "n_iterBestScore = []\n",
    "\n",
    "for n_iter in n_iterList:\n",
    "    rand_search_iter = rand_search_n_iterFinder(pipe_tuning, hype_params, sample_weights, n_iter)\n",
    "    n_iterBestScore.append(rand_search_iter.best_score_)"
   ]
  },
  {
   "cell_type": "code",
   "execution_count": 123,
<<<<<<< HEAD
<<<<<<< HEAD
   "id": "d90d4c8a",
=======
   "id": "6f62111d",
>>>>>>> 8e3e5ac1f454cd1a067bc5ca2222da8e03783add
=======
   "id": "6f62111d",
>>>>>>> 8e3e5ac1f454cd1a067bc5ca2222da8e03783add
   "metadata": {},
   "outputs": [
    {
     "data": {
      "image/png": "iVBORw0KGgoAAAANSUhEUgAAAm8AAAFOCAYAAADQLvqGAAAAOXRFWHRTb2Z0d2FyZQBNYXRwbG90bGliIHZlcnNpb24zLjQuMiwgaHR0cHM6Ly9tYXRwbG90bGliLm9yZy8rg+JYAAAACXBIWXMAAAsTAAALEwEAmpwYAAA0tklEQVR4nO3dd7wcddn+8c+V3htppAcSEgKBEA5FAQEJVTEUlSJFUSmPoNgQsADySEcfRH5UQaSDEgk1FBEQKSmE9EZIJ5X0esr9+2MnegwnOZvk7JndPdf79coruzPz3b12sjm5852ZexQRmJmZmVlhqJd2ADMzMzPLnos3MzMzswLi4s3MzMysgLh4MzMzMysgLt7MzMzMCoiLNzMzM7MC4uLNzPKKpB6S1kiqn4PXvlrSwzX8mndJ+mVNvmY+kvQnSf+bdg4zc/FmZjtJ0jcljZe0TtJCSXdKarMd42dJGrL5eUTMiYgWEVGek8A1LCIujIhrASQdIWleTb+HpCslfZwUtfMkPVHT72FmhcPFm5ntMEk/Bm4Efgq0Bg4GegKvSGqUZrZCJKlBFcvOBc4GhkREC6AEeK023tvM8pOLNzPbIZJaAdcAl0TESxFRGhGzgK+TKeDOSra7WtJfJD0habWkMZL2TdY9BPQAnk1mlS6T1EtSbC4mJP1D0v9K+leyzbOSdpH0iKRVkkZK6lUp122S5ibrRks6LMvPc0Qyq/VjSYslfSLpW1mM+1OSrznwItAlyblGUhdJ9SRdLukjScskPSmpXTJ282f9tqQ5wN+reIsDgBER8RFARCyMiHsqvX9rSX9M8s5PstRP1u0u6e/J+y5N9lmbSmNnSfqZpHHAWkkNJB2a7OsVyX78ZqUsbSU9n/w5vidp92z2rZnVLBdvZrajPg80AZ6uvDAi1pApYo6utHgo8BTQDngU+JukhhFxNjAHODE5VHrTVt7rdDKzT12B3YF3gAeS15sMXFVp25HAoErv9ZSkJll+ps5kZhC7At8G7pDUNpuBEbEWOB5YkHyWFhGxAPg+cBJwONAFWA7cscXww4E9gWOreOl3gXMk/VRSSRXnAj4IlAF9gP2AY4DvJOsEXJ+8755Ad+DqLcafAXwJaJNs9yJwO9CBzH4cu8W21wBtgRnAb6reG2aWSy7ezGxHtQeWRkRZFes+SdZvNjoi/hIRpcBvyRR9B2/Hez0QER9FxEoyxcVHEfFq8t5PkSlaAIiIhyNiWUSURcStQGOgX5bvUwr8OplFfAFYsx1jt+YC4OcRMS8iNpIpnr66xWHKqyNibUSs33JwRDwMXEKmsHsDWCzpcgBJncgUjJcm4xcDvyNT7BIRMyLilYjYGBFLyOz7w7d4i99HxNzkvb8BvBoRjyX7YFlEjK207dMR8X6y3x8hU9yZWS3zOQ5mtqOWAu0lNaiigNs1Wb/Z3M0PIqIiOam/y3a816JKj9dX8bzF5ifJeXjfSV4/gFb8dyG5Lcu2+CzrKr/2DuoJDJNUUWlZOdCp0vO5bENEPAI8IqkhmVm8RyR9QGYWryHwiaTNm9fb/HqSOgK/Bw4DWibrlm/x8pXfuzvw0TaiLKz0uCb2jZntAM+8mdmOegfYCJxSeWFy7tfx/PdJ9d0rra8HdAMWJIuipgIl57f9jMx5d20jog2wkszhw9pQ1WeZCxwfEW0q/WoSEfOrGffZF8/Mhj0FjAP2Tl57I9C+0mu3ioi9kiHXJ6+9T0S0InMe4pb7ovJ7zyVzWNrM8piLNzPbIckhzGuA2yUdJ6lhcuHAU8A84KFKm+8v6ZTkUOGlZAqOd5N1i4DdaihWSzLnfy0BGkj6FZmZt9qyCNhFUutKy+4CfiOpJ4CkDpKGZvuCSSuWL0lqmVz8cDywF/BeRHwCvAzcKqlVsn53SZsPjbYkc+h3haSuZK4K3pZHgCGSvp5cvLCLpEHZZjWz2uHizcx2WHKBwZXALcAq4D0yszdHJed3bfYMcBqZQ3ZnA6ck579BZnboF8nVjT/ZyUgjyJwTNw2YDWygmkOSNSkipgCPATOTz9MFuA0YDrwsaTWZovWg7XjZVWT28RxgBXATcFFE/DNZfw7QCJhEZv/+hcxha8gU14PJzD4+zxYXl1SRfw5wAvBj4FMyFyvsux1ZzawWKKLGjliYmX2GpKuBPhFxVtpZzMyKgWfezMzMzAqIizczs2pImlip8W7lX99IO5uZ1T0+bGpmZmZWQDzzZmZmZlZAXLyZmZmZFZA6c4eF9u3bR69evdKOYWZmZlat0aNHL42IDlWtqzPFW69evRg1alTaMczMzMyqJWn21tb5sKmZmZlZAXHxZmZmZlZAXLyZmZmZFRAXb2ZmZmYFxMWbmZmZWQFx8WZmZmZWQFy8mZmZmRUQF29mZmZmBSTnxZuk4yRNlTRD0uVVrB8qaZyksZJGSTq0urGSrpY0PxkzVtIJuf4cZmZmZvkgp3dYkFQfuAM4GpgHjJQ0PCImVdrsNWB4RISkfYAngf5ZjP1dRNySy/xmZlZcxsxZzqdrNqUdwwrc/j3b0rZ5o9TeP9e3xzoQmBERMwEkPQ4MBf5dvEXEmkrbNwci27FmZmbZGvbBPH74xIdpx7Ai8MT5B3PQbruk9v65Lt66AnMrPZ8HHLTlRpJOBq4HOgJfynLsxZLOAUYBP46I5TWY28zMisjytZu49rnJDOrehmuH7p12HCtwvTs0T/X9c128qYpl8ZkFEcOAYZK+AFwLDKlm7J3JdpH8fitw3mfeXDofOB+gR48eOxDfzMyKwQ0vTmHl+lKuP2Uge+7aKu04Zjsl1xcszAO6V3reDViwtY0j4k1gd0nttzU2IhZFRHlEVAD3kjnEWtXr3RMRJRFR0qFDh537JGZmVpDem7mMJ0bN5TuH9XbhZkUh18XbSKCvpN6SGgGnA8MrbyCpjyQljwcDjYBl2xoraddKL3EyMCHHn8PMzArQxrJyrhw2nm5tm/KDo/qmHcesRuT0sGlElEm6GBgB1Afuj4iJki5M1t8FnAqcI6kUWA+cFhEBVDk2eembJA0ic9h0FnBBLj+HmZkVpnvemMlHS9bywLcOoFmjXJ8pZFY7lKmTil9JSUmMGjUq7RhmZlZLZi1dyzH/9yZHD+jEHWcOTjuO2XaRNDoiSqpa5zssmJlZ0YkIfvG3CTSuX4+rvjwg7ThmNcrFm5mZFZ1nxi7gnzOWctlx/ejYqknaccxqlIs3MzMrKivWbeLa5yYxqHsbzjyoZ9pxzGqcz940M7OicsOLU1ixvpSHTh5I/XpVtQw1K2yeeTMzs6IxctanPD5yLt85tDcDurinmxUnF29mZlYUNpVVcOXT4+napik/GOKebla8fNjUzMyKwr1vzWT64jXc/80S93SzouaZNzMzK3izlq7l969N54SBnfli/05pxzHLKRdvZmZW0CKCXz4zgYb163HViXulHccs51y8mZlZQRv+4QLemp7p6dbJPd2sDnDxZmZmBWvlulKufW4S+3Zvwzfc083qCJ/RaWZmBeuGl6awfF0pD563t3u6WZ3hmTczMytIo2Z9ymPvz+G8Q3qxV5fWaccxqzUu3szMrOBsKqvgymGZnm6XDtkj7ThmtcqHTc3MrODc+9ZMpi1awx/PLaF5Y/9TZnWLZ97MzKygzF6W6el2/N6dOWpP93SzusfFm5mZFYxMT7eJ7ulmdZqLNzMzKxjPjvuEN6ct4afH9qNza/d0s7rJxZuZmRWEletK+fWzk9inW2vOOtg93azu8lmeZmZWEG4cMYVP127kT986wD3drE7zzJuZmeW90bM/5dH35nDeIb3Zu6t7ulnd5uLNzMzyWml5BVc+PYEurZvww6Pd083Mh03NzCyv3ffWx0xdtJr7znFPNzPwzJuZmeWxOcvWcdtr0zh2r04MGeCebmbg4s3MzPJURPCLZyZQX+Lqr7inm9lmLt7MzCwvPZf0dPvJsf3YtXXTtOOY5Q0Xb2ZmlndWri/lmmcnMbBra875XK+045jlFZ/5aWZmeeeml9zTzWxrPPNmZmZ5ZfTs5Tz6/hy+5Z5uZlVy8WZmZnmjtLyCnw8bT+dWTfiRe7qZVcmHTc3MLG/88Z8fM2Xhau45e3/3dDPbCs+8mZlZXpj76Tr+79VpHDOgE8fs1TntOGZ5y8WbmZmlLiL4pXu6mWXFxZuZmaXuhfEL+cfUJfz4mH50aeOebmbb4uLNzMxStWpDKVc/O5GBXVtz7ud7pR3HLO/5bFAzM0vVzS9NZdmajdx/rnu6mWXDM29mZpaaMXOW8/B7szn3870Y2M093cyy4eLNzMxSUVpewZVPj6dTyyb8+Jh+accxKxg5L94kHSdpqqQZki6vYv1QSeMkjZU0StKh2zH2J5JCUvtcfw4zM6tZ9yc93a4Zuhct3NPNLGs5Ld4k1QfuAI4HBgBnSBqwxWavAftGxCDgPOC+bMZK6g4cDczJ5WcwM7Oal+npNp2jB3TiWPd0M9suuZ55OxCYEREzI2IT8DgwtPIGEbEmIiJ52hyILMf+Dris0vZmZlYAIoJfPTMBCa5xTzez7Zbr4q0rMLfS83nJsv8i6WRJU4Dnycy+bXOspK8A8yPiw1yENjOz3HlxwkJen7qEHx29h3u6me2AXBdvVV3z/ZmZsogYFhH9gZOAa7c1VlIz4OfAr6p9c+n85Dy6UUuWLMk+tZmZ5cSqDaVcPXwie3VpxTfd081sh+S6eJsHdK/0vBuwYGsbR8SbwO7JBQhbG7s70Bv4UNKsZPkYSZ85aSIi7omIkogo6dChw85+FjMz20m3jJjK0jUbuf6UgTSo74YHZjsi15f3jAT6SuoNzAdOB86svIGkPsBHERGSBgONgGXAiqrGRsREoGOl8bOAkohYmuPPYmZmO2Hs3BU89O5szv1cL/bp1ibtOGYFK6fFW0SUSboYGAHUB+6PiImSLkzW3wWcCpwjqRRYD5yWXMBQ5dhc5jUzs9woK6/gin/3dNsj7ThmBS3njXUi4gXghS2W3VXp8Y3AjdmOrWKbXjuf0szMcumBt2cx+ZNV3HXWYFo2aZh2HLOC5hMOzMwsp+YtX8dvX5nGkD07uqebWQ1w8WZmZjmT6ek2MdPTbejeSL7xvNnOcvFmZmY589KEhfx9ymJ+dPQedHVPN7Ma4eLNzMxyYvWGUq5+diIDdnVPN7Oa5DsBm5lZTtz68jQWr97IPWeXuKebWQ3y3yYzM6txH85dwYPvzOKcg3uyb/c2accxKyou3szMrEZt7unWsWVjfnxsv7TjmBUdHzY1M7Ma9ad/zWLSJ6u48xuDaeWebmY1zjNvZmZWY+avWM+tL0/jqP4dOW5v93QzywUXb2ZmViMigquemQDANUP3ck83sxxx8WZmZjVixMRFvDo509OtW9tmaccxK1pZF2+SekoakjxuKqll7mKZmVkhWb2hlKuHT2TPXVvxrUN6pR3HrKhlVbxJ+i7wF+DuZFE34G85ymRmZgXm1pensWj1Bq47eW/3dDPLsWz/hn0POARYBRAR04GOuQplZmaFY3NPt7MP7sl+PdqmHces6GVbvG2MiE2bn0hqAERuIpmZWaEoK6/gymHj6dCiMT9xTzezWpFt8faGpCuBppKOBp4Cns1dLDMzKwQPvjObiQtWcfVX9nJPN7Nakm3x9jNgCTAeuAB4AfhFrkKZmVn+W7BiPbe+PJUv9u/I8e7pZlZrqr3DgqR6wLiI2Bu4N/eRzMysEFw1fCIVEVzzFfd0M6tN1c68RUQF8KGkHrWQx8zMCsCIiQt5ZdIifjhkD7q3c083s9qU7b1NdwUmSnofWLt5YUR8JSepzMwsb63ZWMZVz0ykf+eWnHdo77TjmNU52RZv1+Q0hZmZFYxbX57KotUb+H9nDaahe7qZ1bqsireIeENSJ+CAZNH7EbE4d7HMzCwfjZ+3kgf/NYuzDurJYPd0M0tFtndY+DrwPvA14OvAe5K+mstgZmaWX8rKK7hi2Dh2adGYnx7nnm5macn2sOnPgQM2z7ZJ6gC8SuaWWWZmVgf8+Z3ZTJi/ij+cuZ97upmlKNuTFeptcZh02XaMNTOzAre5p9sR/TrwpYG7ph3HrE7LdubtJUkjgMeS56cBL+YmkpmZ5Zurh0+kPIJrh+7tnm5mKcv2goWfSjoFOBQQcE9EDMtpMjMzywsvT1zIy5MWcfnx/d3TzSwPZFW8SeoNvBARTyfPm0rqFRGzchnOzMzStWZjGVcNz/R0+7Z7upnlhWzPW3sKqKj0vDxZZmZmRex3r0xj4aoN/Obkge7pZpYnsv2b2CAiNm1+kjxulJtIZmaWDybMX8kDb3/MmQf2YP+e7ulmli+yLd6WSPr3rbAkDQWW5iaSmZmlrbwiuOLp8bRr3pjLjuufdhwzqyTbq00vBB6R9AcyFyzMBc7JWSozM0vVn9+Zxfj5K7n9jP1o3dQ93czySbZXm34EHCypBaCIWJ3bWGZmlpZPVq7nlhFTOXyPDnx5H/d0M8s32zxsKulEST0rLfoR8E9Jw5MrUM3MrMhcM3wS5RH870nu6WaWj6o75+03wBIASV8GzgLOA4YDd+U2mpmZ1bZXJi3ipYkL+f5Rfd3TzSxPVVe8RUSsSx6fAvwxIkZHxH1Ah9xGMzOz2rR2YxlXPTOBfp1a8t3Ddks7jpltRXXFmyS1kFQPOAp4rdK6JrmLZWZmte13r0xjwcoNXHfK3u7pZpbHqrtg4f+AscAqYHJEjAKQtB/wSU6TmZlZrZkwfyX3v/0xZx7Ug/17tks7jpltwzb/axUR9wOHA98GTqi0aiHwrWzeQNJxkqZKmiHp8irWD5U0TtJYSaMkHVrdWEnXVhrzsqQu2WQxM7PPKq8Ifj4s09PtZ8e6p5tZvqt2Xjwi5kfEBxFRUWnZJxExp7qxkuoDdwDHAwOAMyQN2GKz14B9I2IQmYsh7sti7M0RsU8y5jngV9VlMTOzqj387mw+nLeSX504gNbN3NPNLN/l+qSGA4EZETEzuaXW48DQyhtExJqIiORpcyCqGxsRqyq9ROUxZma2HRau3MDNI6ZyWN/2nOiebmYFIds7LOyormTuxrDZPOCgLTeSdDJwPdAR+FI2YyX9hsxdHlYCR9ZoajOzOuKaZydSWl7hnm5mBSSrmTdJD2WzrKqhVSz7zCxZRAyLiP7AScC12YyNiJ9HRHfgEeDiKt9cOj85j27UkiVLsohrZlZ3vDppES9OyPR067lL87TjmFmWsj1sulflJ8n5aPtnMW4e0L3S827Agq1tHBFvArtLar8dYx8FTt3K690TESURUdKhg9vSmZlttm5TGVcNn8genVq4p5tZganu9lhXSFoN7CNpVfJrNbAYeCaL1x8J9JXUW1Ij4HQyd2eo/B59lMzVSxoMNAKWbWuspL6VXuIrwJQsspiZWeL/Xp3O/BXrue7kgTRq4J5uZoVkm+e8RcT1wPWSro+IK7b3xSOiTNLFwAigPnB/REyUdGGy/i4ys2bnSCoF1gOnJRcwVDk2eekbJPUDKoDZwIXbm83MrK6auGAlf/znx5xxYA9Kermnm1mh0X8u9NzGRtIhwNiIWCvpLGAwcFtEzM51wJpSUlISo0aNSjuGmVmqyiuCU+78F/OXr+O1Hx3h1iBmeUrS6IgoqWpdtnPldwLrJO0LXEZmtuvPNZTPzMxqySPvzebDuSv45Zfd082sUGVbvJUlhzKHkplxuw1ombtYZmZW0xat2sBNL2V6un1lX9+YxqxQZdvnbbWkK4CzgcOSq039XzYzswLinm5mxSHbmbfTgI3AeRGxkEwD3ZtzlsrMzGrU36cs4oXx7ulmVgyyKt6Sgu2vQONk0VJgWK5CmZlZzVm3qYxf/m0ifTu6p5tZMcj2DgvfBf4C3J0s6gr8LUeZzMysBt22uafbKe7pZlYMsv1b/D3gEGAVQERMJ3MfUjMzy2OTFqzivn9+zOkHdOcA93QzKwrZFm8bI2LT5ieSGlDFPUrNzCx/lFcEVw4bT5umDbn8+P5pxzGzGpJt8faGpCuBppKOBp4Cns1dLDMz21mPvjebsUlPtzbNGqUdx8xqSLbF2+XAEmA8cAHwAvCLXIUyM7Odszjp6XZon/YMHeSebmbFJKs+bxFRAdyb/DIzszx3zXOT2OiebmZFaZszb5L6SvqTpN9K6ibpRUlrJH0o6YDaCmlmZtl7fcpinh/3CZcc2Yde7d3TzazYVHfY9AHgX8AC4D3gfqA98BPgD7mNZmZm22vdpjJ+8bcJ9OnYgvMPd083s2JUXfHWIiLuiYhbgPUR8VREbIiIV/hPw14zM8sTt72W6en2m5P2pnGD+mnHMbMcqO6ct4pKj1dtY52ZWc5NXbia1RtK046Rt5au2cR9b33MaSXdOWi3XdKOY2Y5Ul3x1l/SOEDA7sljkueejzezWjFpwSquf3Eyb01fmnaUvLdL80bu6WZW5Kor3vaslRRmZlVYsGI9t748jac/mEerJg258oT+7Llrq7Rj5bX+nVvRtrl7upkVs20WbxExu7aCmJlttnJ9KXf+4yPuf/tjAM7/wm78z+F9aN2sYcrJzMzSl1WfNzOz2rCprIKH353N7X+fzor1pZw8qCs/OmYPurVtlnY0M7O84eLNzFIXETw37hNuHjGVOZ+u49A+7bn8+P7s3bV12tHMzPKOizczS9V7M5dx3QuT+XDeSvp3bsmD5x3IF/q2910BzMy2IqviTdIhwNVAz2SMgIgIX3FqZjtkxuLV3PDiFF6dvJjOrZpw81f34ZTB3ahfz0Wbmdm2ZDvz9kfgh8BooDx3ccys2C1etYHfvTqdJ0bOoXmjBlx2XD/OO6Q3TRq6oayZWTayLd5WRsSLOU1iZkVt7cYy7nlzJve+NZPS8grO/XwvLvliX9q5rYWZ2XbZZvEmaXDy8HVJNwNPAxs3r4+IMTnMZmZFoLS8gidGzuX/Xp3O0jUb+dI+u3LZsf3ouYtvmG5mtiOqm3m7dYvnJZUeB/DFmo1jZsUiInh50iJufGkKM5es5cBe7bj3nP3Zr0fbtKOZmRW06pr0HllbQcyseIyZs5zrX5jMyFnL2b1Dc+49p4Qhe3b0FaRmZjUg26tNrwNuiogVyfO2wI8j4hc5zGZmBWbW0rXcNGIKL4xfSPsWjfnNyXtzWkl3GtSvl3Y0M7Oike0FC8dHxJWbn0TEckknAC7ezIxlazZy+99n8PC7s2nUoB6XDunLdw/bjeaN3UrSzKymZfuTtb6kxhGxEUBSU6Bx7mKZWSFYv6mc+9/+mLv+8RHrSss57YDuXDqkLx1bNkk7mplZ0cq2eHsYeE3SA2QuVDgPeDBnqcwsr5VXBH8dM4/fvjyNhas2cPSATvzsuH706dgy7WhmZkWv2uJNmTOMHwPGAUPI3F3h2ogYkeNsZpZnIoI3pi3hhhenMGXhavbt3obbTh/EQbvtknY0M7M6o9riLSJC0t8iYn/gpVrIZGZ5aML8lVz/4mTenrGMnrs0444zB3PCwM6+gtTMrJZle9j0XUkHRMTInKYxs7wzb/k6bn15GsM+mE/bZg256sQBfOOgnjRq4CtIzczSkG3xdiRwgaTZwFr+c2P6fXKWzMxStXJdKXf8YwZ/ensWElx0xO5cdMTutGrSMO1oZmZ1WtatQnKawszyxsaych56Zza3/30GqzaUcurgbvzo6D3o0qZp2tHMzIwsi7eImA0gqSPgHgBmRaiiInh23AJuHjGVecvXc/geHbj8+P7suWurtKOZmVkl2d5h4Stk7nPaBVgM9AQmA3vlLpqZ1ZZ/fbSU61+Ywvj5Kxmwayse/vY+HNq3fdqxzMysCtmecXwtcDAwLSJ6A0cBb2czUNJxkqZKmiHp8irWD5U0TtJYSaMkHVrdWEk3S5qSjBsmqU2Wn8PMKpm2aDXn/WkkZ977Hp+u3cTvTtuX5y451IWbmVkey/act9KIWCapnqR6EfG6pBurGySpPnAHcDQwDxgpaXhETKq02WvA8KQlyT7Ak0D/asa+AlwREWVJjiuAn2X5WczqvEWrNvDbl6fx1Oi5NG/cgCuO78+5n+9Fk4b1045mZmbVyLZ4WyGpBfAW8IikxUBZFuMOBGZExEwASY8DQ4F/F28RsabS9s3J3MFhm2Mj4uVKY94Fvprl5zCr01ZvKOWeN2dy71szKa8IvnVIby4+sg9tmzdKO5qZmWUp2+JtKLAeuBT4BtAa+HUW47oCcys9nwcctOVGkk4Grgc6Al/anrFkbtX1RBZZzOqs0vIKHnt/Dre9Op1lazfxlX278NNj+9G9XbO0o5mZ2XbK9mrTtZJ6An0j4kFJzYBsjq9U1Xo9PrMgYhgwTNIXyJxft/k2XNscK+nnZGYAH6nyzaXzgfMBevTokUVcs+ISEYyYuJAbX5rKx0vXcvBu7XjghD3Zp1ubtKOZmdkOyvZq0++SKYLaAbuTmRW7i8yFC9syD+he6Xk3YMHWNo6INyXtLql9dWMlnQt8GTgqIj5TECavdw9wD0BJSUmV25gVq9GzP+U3z09mzJwV9O3Ygvu/WcKR/Tr6dlZmZgUu28Om3yNzDtp7ABExPen5Vp2RQF9JvYH5wOnAmZU3kNQH+Ci5YGEw0AhYBqzY2lhJx5G5QOHwiFiX5WcwqxNmLlnDTS9N5aWJC+nYsjE3njqQUwd3o0F9387KzKwYZFu8bYyITZv/xy6pAVUc/txScjXoxcAIModZ74+IiZIuTNbfBZwKnCOplMx5daclM2lVjk1e+g9AY+CVJNO7EXFhlp/FrCgtXbOR216dzqPvz6FJg3r8+Og9+PZhvWnWKNu/5mZmVgi0lSOO/72RdBOZmbBzgEuA/yFz1efPc5quBpWUlMSoUaPSjmFW49ZtKuOPb33MXW98xIayCs48sAc/GNKX9i0apx3NzMx2kKTREVFS1bps/0t+OfBtYDxwAfACcF/NxDOzHVFeEfxl9Fx++8o0Fq3ayHF7deanx/Vj9w4t0o5mZmY5lO3VphXAvZIeJHNLrPlbu0jAzHIrInh96mJueHEK0xatYXCPNtxx5mBKerVLO5qZmdWCbRZvku4Cbk/OU2sNvAOUA+0k/SQiHquNkGaWMW7eCq57YTLvzvyU3u2bc9dZgzl2r86+gtTMrA6pbubtsEoXAnyLzL1NT5LUGXgRcPFmVgvmfrqOm0dMZfiHC9ileSN+PXQvzjiwBw19BamZWZ1TXfG2qdLjo4GnACJiof+nb5Z7K9Zt4va/z+Chd2ZTrx5c8sU+nP+F3WjZpGHa0czMLCXVFW8rJH2ZTJ+1Q8hctLC5VUjTHGczq7M2lJbz4L9mccfrM1izsYyv7d+dHx69B51bN0k7mpmZpay64u0C4PdAZ+DSiFiYLD8KeD6XwczqooqK4JkP53PLiGnMX7GeI/t14PLj96Rf55ZpRzMzszyxzeItIqYBx1WxfASZ5rkASLoiIq6v+XhWLCoqgsdHzmXBivVpR8lbQfCPqUuYuGAVe3dtxc1f3YfP92mfdiwzM8szNdV6/WuAizfbqv/3jxnc8vI06glfGbkN3do25bbTB3HiPl2oV8/7yczMPqumijf/K2Nb9frUxdz6yjROGtSF3502yMWbmZnZTqipPgNu2GtVmrV0LT947AP27NyK60/Zx4WbmZnZTqqp4s3/IttnrNtUxoUPj6ZePXH32fvTtFH9tCOZmZkVvJoq3p6qodexIhERXPaXcUxbtJrfn74f3ds1SzuSmZlZUaju9li3s41DohHx/eT362o4lxW4+976mOfGfcLPjuvPF/bokHYcMzOzolHdzNsoYDTQBBgMTE9+DSJzj1Ozz/jXjKVc/+JkThjYmQsP3y3tOGZmZkWluj5vDwJI+iZwZESUJs/vAl7OeTorOPOWr+N7j45h9w4tuOmr+/oCBTMzsxqW7TlvXYDKLd5bJMvM/m1DaTkXPjyasvLg7rP3p0XjmupEY2ZmZptl+6/rDcAHkl5Pnh8OXJ2TRFaQIoKfD5vAhPmr+OO5JezWoUXakczMzIpSVsVbRDwg6UXgoGTR5ZXuc2rGQ+/O5q9j5nHpkL4ctWentOOYmZkVre1pFVIfWAIsB/aQ9IXcRLJCM3LWp/z62UkM2bMj3/9i37TjmJmZFbWsZt4k3QicBkwEKpLFAbyZo1xWIBau3MBFD4+he7tm/Pa0Qb4fp5mZWY5le87bSUC/iNiYwyxWYDaWlXPRI6NZt6mMR797EK2aNEw7kpmZWdHL9rDpTMD/Mtt/uebZSXwwZwW3fG1f9ujUsvoBZmZmttOynXlbB4yV9Brw79m3zXdYsLrniZFzePS9OVx0xO6cMHDXtOOYmZnVGdkWb8OTX2aMnbuCX/5tIof1bc9PjumXdhwzM7M6JdtWIQ/mOogVhiWrN3LhQ6Pp2Koxvz99P+r7AgUzM7Nale3Vpn2B64EBZO5zCkBE+MaVdUhpeQXfe3QMK9Zv4q8XfZ62zRulHcnMzKzOyfaChQeAO4Ey4Ejgz8BDuQpl+em6Fybz/sefcsMp+7BXl9ZpxzEzM6uTsi3emkbEa4AiYnZEXA18MXexLN8M+2AeD7w9i28d0ouT9uuadhwzM7M6K9sLFjZIqgdMl3QxMB/omLtYlk8mLljJFU+P56De7bjyhD3TjmNmZlanZTvzdinQDPg+sD9wNnBOjjJZHlm+dhMXPDSats0accc3BtOw/vbcUc3MzMxqWrZXm45MHq4BviWpAZnbZb2Xq2CWvvKK4PuPf8DiVRt58sLP0b5F47QjmZmZ1XnbnEaR1ErSFZL+IOkYZVwMzAC+XjsRLS03j5jKW9OXcu1JezGoe5u045iZmRnVz7w9BCwH3gG+A/wUaAScFBFjcxvN0vTC+E+4642POPOgHpx2QI+045iZmVmiuuJtt4gYCCDpPmAp0CMiVuc8maVm2qLV/OSpDxncow1XnTgg7ThmZmZWSXVnn5dufhAR5cDHLtyK28r1pVzw0GiaN27AnWftT+MG9dOOZGZmZpVUN/O2r6RVyWMBTZPnAiIiWuU0ndWqiorgR0+MZe6n63js/IPp1KpJ9YPMzMysVm2zeIsIT7vUIbe9Np3Xpizm10P34oBe7dKOY2ZmZlXIedMuScdJmipphqTLq1g/VNI4SWMljZJ0aHVjJX1N0kRJFZJKcv0Z6oJXJy3ittemc+rgbpx9cM+045iZmdlW5LR4k1QfuAM4nsxN7c+QtOUZ8K8B+0bEIOA84L4sxk4ATgHezGX+umLmkjX88ImxDOzamt+cvDeS0o5kZmZmW5HrmbcDgRkRMTMiNgGPA0MrbxARayIikqfNgahubERMjoipOc5eJ6zZWMYFD42mYYN63HX2/jRp6CPlZmZm+SzXxVtXYG6l5/OSZf9F0smSpgDPk5l9y3qs7biI4KdPfchHS9bwhzP2o2ubpmlHMjMzs2rkunir6vhbfGZBxLCI6A+cBFy7PWO3+ebS+cl5dKOWLFmyPUPrhDvf+IgXJyzkiuP35PN92qcdx8zMzLKQ6+JtHtC90vNuwIKtbRwRbwK7S2q/vWO38nr3RERJRJR06NBhe4YWvTenLeGWEVM5cd8ufOew3mnHMTMzsyzlungbCfSV1FtSI+B0YHjlDST1UXKGvKTBZG6/tSybsbZj5n66jkse+4A9OrXkxlMH+gIFMzOzAlJdk96dEhFlyY3sRwD1gfsjYqKkC5P1dwGnAudIKgXWA6clFzBUORYy58gBtwMdgOcljY2IY3P5WYrF+k3lnP/QaCKCu8/en2aNcvoVMDMzsxqm/1zoWdxKSkpi1KhRacdIVUTwwyfG8syHC3jgmwdwRL+OaUcyMzOzKkgaHRFV9rLNeZNeyx/3vz2Lv41dwI+P3sOFm5mZWYFy8VZHvPPRMq57YTLHDOjE/xzRJ+04ZmZmtoNcvNUBC1as5+JHx9Brl2bc+vV9qVfPFyiYmZkVKhdvRW5DaTkXPTyajWUV3H12CS2bNEw7kpmZme0EX2pYxCKCXz0zgQ/nreSes/enT8cWaUcyMzOzneSZtyL2yHtzeHLUPC75Yh+O2atz2nHMzMysBrh4K1KjZy/nmmcnckS/Dlw6ZI+045iZmVkNcfFWhBav2sBFD4+mS5um3HbaftT3BQpmZmZFw8VbkdlUVsH/PDKG1RvKuPvs/WndzBcomJmZFRNfsFBk/vf5SYyavZw/nLkf/Tu3SjuOmZmZ1TDPvBWRp0bN5c/vzOb8L+zGl/fpknYcMzMzywEXb0Vi3LwV/PxvEzikzy5cdmy/tOOYmZlZjrh4KwLL1mzkwodG06FFY24/YzAN6vuP1czMrFj5nLcCV1ZewSWPfcDStZv464Wfp13zRmlHMjMzsxzyFE2Bu/GlKfzro2Vcf/JABnZrnXYcMzMzyzEXbwVs+IcLuPetjzn3cz05df9uaccxMzOzWuDirUBN/mQVl/3lQw7o1ZZffHlA2nHMzMyslrh4K0Ar1m3igodG07ppQ+74xmAa+gIFMzOzOsMXLBSY8orgB4+P5ZOV63n8/M/RsWWTtCOZmZlZLXLxVmB+98o03pi2hOtOHsj+PdumHcfMzMxqmY+3FZCXJizkD6/P4PQDunPmQT3SjmNmZmYpcPFWIGYsXs2PnxzLvt3bcM3QvdKOY2ZmZilx8VYAVm8o5fyHRtO0UX3uOmswjRvUTzuSmZmZpcTnvOW5iorgR09+yOxl63jkOwexa+umaUcyMzOzFHnmLc/d8foMXpm0iF98aU8O3m2XtOOYmZlZyly85bHXpy7mt69O4+T9uvLNz/dKO46ZmZnlARdveWrW0rX84LEP2LNzK647eSCS0o5kZmZmecDFWx5au7GMCx4aTb164u6z96dpI1+gYGZmZhku3vJMRHDZX8cxffFqbj9jP7q3a5Z2JDMzM8sjLt7yzL1vzeT5cZ9w2XH9Oaxvh7TjmJmZWZ5x8ZZH3p6xlBtenMKXBu7KBV/YLe04ZmZmlodcvOWJecvXcfGjY+jTsQU3fXUfX6BgZmZmVXLxlgc2lJZzwUOjKasI7j67hOaN3TvZzMzMquYqIWURwZXDxjNxwSr+eG4Jvds3TzuSmZmZ5THPvKXsz+/M5ukx87l0SF+O2rNT2nHMzMwsz7l4S9H7H3/Ktc9NYsieHfn+F/umHcfMzMwKgIu3lCxcuYH/eWQMPdo147enDaJePV+gYGZmZtXzOW8p2FhWzoUPj2b9pjIe++5BtGrSMO1IZmZmViByPvMm6ThJUyXNkHR5FeuHShonaaykUZIOrW6spHaSXpE0Pfm9ba4/R026evgkxs5dwS1f25e+nVqmHcfMzMwKSE6LN0n1gTuA44EBwBmSBmyx2WvAvhExCDgPuC+LsZcDr0VE32T8Z4rCfPX4+3N47P05XHTE7hw/cNe045iZmVmByfXM24HAjIiYGRGbgMeBoZU3iIg1ERHJ0+ZAZDF2KPBg8vhB4KTcfYSa88Gc5fzqmYkc1rc9PzmmX9pxzMzMrADlunjrCsyt9Hxesuy/SDpZ0hTgeTKzb9WN7RQRnwAkv3es4dw1bsnqjVz08Bg6tW7M7WfsR31foGBmZmY7INfFW1UVSnxmQcSwiOhPZgbt2u0Zu803l85PzqMbtWTJku0ZWqNKyyv43qNjWLF+E3efVUKbZo1Sy2JmZmaFLdfF2zyge6Xn3YAFW9s4It4EdpfUvpqxiyTtCpD8vngrr3dPRJREREmHDh12/FPspN88P5n3P/6UG0/dhwFdWqWWw8zMzApfrou3kUBfSb0lNQJOB4ZX3kBSHyV3YZc0GGgELKtm7HDg3OTxucAzOf4cO2zYB/P4079mcd4hvRk66DNHjM3MzMy2S077vEVEmaSLgRFAfeD+iJgo6cJk/V3AqcA5kkqB9cBpyQUMVY5NXvoG4ElJ3wbmAF/L5efYURPmr+Tyv47n4N3accUJ/dOOY2ZmZkVA/7nQs7iVlJTEqFGjau39lq/dxIl/+CflFcGzlxxK+xaNa+29zczMrLBJGh0RJVWt8x0WcqCsvIJLHvuAxas38tQFn3PhZmZmZjXG9zbNgZtfnso/Zyzlf4fuzb7d26Qdx8zMzIqIi7ca9vy4T7j7jZl846AefP2A7tUPMDMzM9sOLt5q0NSFq/npXz5kcI82XHXiXmnHMTMzsyLk4q2GrFxfygUPjaJ54wbcedb+NGrgXWtmZmY1zxVGDbnppSnMW76eO78xmE6tmqQdx8zMzIqUrzatIZcd258v9u9ISa92aUcxMzOzIuaZtxrSullDjtqzU9oxzMzMrMi5eDMzMzMrIC7ezMzMzAqIizczMzOzAuLizczMzKyAuHgzMzMzKyAu3szMzMwKiIs3MzMzswLi4s3MzMysgLh4MzMzMysgLt7MzMzMCogiIu0MtULSEmB22jmy1B5YmnaIOsL7uvZ4X9cO7+fa431dO+rqfu4ZER2qWlFnirdCImlURJSknaMu8L6uPd7XtcP7ufZ4X9cO7+fP8mFTMzMzswLi4s3MzMysgLh4y0/3pB2gDvG+rj3e17XD+7n2eF/XDu/nLficNzMzM7MC4pk3MzMzswLi4i0PSJolabyksZJGJcvaSXpF0vTk97Zp5yw0ku6XtFjShErLtrpfJV0haYakqZKOTSd1YdrKvr5a0vzkez1W0gmV1nlf7wBJ3SW9LmmypImSfpAs9/e6hm1jX/t7XYMkNZH0vqQPk/18TbLc3+lt8GHTPCBpFlASEUsrLbsJ+DQibpB0OdA2In6WVsZCJOkLwBrgzxGxd7Ksyv0qaQDwGHAg0AV4FdgjIspTil9QtrKvrwbWRMQtW2zrfb2DJO0K7BoRYyS1BEYDJwHfxN/rGrWNff11/L2uMZIENI+INZIaAv8EfgCcgr/TW+WZt/w1FHgwefwgmR8ath0i4k3g0y0Wb22/DgUej4iNEfExMIPMDwfLwlb29dZ4X++giPgkIsYkj1cDk4Gu+Htd47axr7fG+3oHRMaa5GnD5Ffg7/Q2uXjLDwG8LGm0pPOTZZ0i4hPI/BABOqaWrrhsbb92BeZW2m4e2/5Bbdm5WNK45LDq5sMe3tc1QFIvYD/gPfy9zqkt9jX4e12jJNWXNBZYDLwSEf5OV8PFW344JCIGA8cD30sOQVntUhXLfE7BzrkT2B0YBHwC3Jos977eSZJaAH8FLo2IVdvatIpl3tfboYp97e91DYuI8ogYBHQDDpS09zY2937GxVteiIgFye+LgWFkpoAXJedcbD73YnF6CYvK1vbrPKB7pe26AQtqOVtRiYhFyQ/lCuBe/nNow/t6JyTnBf0VeCQink4W+3udA1Xta3+vcyciVgD/AI7D3+ltcvGWMknNk5NhkdQcOAaYAAwHzk02Oxd4Jp2ERWdr+3U4cLqkxpJ6A32B91PIVzQ2/+BNnEzmew3e1zssObn7j8DkiPhtpVX+Xtewre1rf69rlqQOktokj5sCQ4Ap+Du9TQ3SDmB0AoZlfk7QAHg0Il6SNBJ4UtK3gTnA11LMWJAkPQYcAbSXNA+4CriBKvZrREyU9CQwCSgDvlfXrl7aGVvZ10dIGkTmkMYs4ALwvt5JhwBnA+OTc4QArsTf61zY2r4+w9/rGrUr8KCk+mQmlJ6MiOckvYO/01vlViFmZmZmBcSHTc3MzMwKiIs3MzMzswLi4s3MzMysgLh4MzMzMysgLt7MzMzMCoiLNzMzM7MC4uLNzGwHSPq1pCHJ40slNUs7k5nVDe7zZma2kyTNAkoiYul2jKlfF5uLmtnO88ybmVlCUi9JkyXdK2mipJeTW/ZUte2fJH1V0veBLsDrkl5P1h0j6R1JYyQ9ldzcHEmzJP1K0j/xXVPMbAe5eDMz+299gTsiYi9gBXDqtjaOiN+TuTH2kRFxpKT2wC+AIRExGBgF/KjSkA0RcWhEPJ6T9GZW9HxvUzOz//ZxRIxNHo8Gem3n+IOBAcDbyT2LGwHvVFr/xE7mM7M6zsWbmdl/21jpcTlQ5WHTbRDwSkScsZX1a3colZlZwodNzcx23mqgZfL4XeAQSX0AJDWTtEdqycys6Lh4MzPbefcAL0p6PSKWAN8EHpM0jkwx1z/NcGZWXNwqxMzMzKyAeObNzMzMrID4ggUzs22QdAdwyBaLb4uIB9LIY2bmw6ZmZmZmBcSHTc3MzMwKiIs3MzMzswLi4s3MzMysgLh4MzMzMysgLt7MzMzMCsj/BwbBpIyedkXnAAAAAElFTkSuQmCC\n",
      "text/plain": [
       "<Figure size 720x360 with 1 Axes>"
      ]
     },
     "metadata": {
      "needs_background": "light"
     },
     "output_type": "display_data"
    }
   ],
   "source": [
    "# Scatter plot of n_iter vs n_iterBestScore\n",
    "plt.subplots(figsize=(10, 5))\n",
    "plt.plot(n_iterList, n_iterBestScore)\n",
    "plt.title(\"Optimal n_iter Search\")\n",
    "plt.xlabel(\"n_iter\")\n",
    "plt.ylabel(\"Rand_Search Best Score\")\n",
    "plt.show()"
   ]
  },
  {
   "cell_type": "code",
   "execution_count": 150,
<<<<<<< HEAD
<<<<<<< HEAD
   "id": "d467c009",
=======
   "id": "c12157d3",
>>>>>>> 8e3e5ac1f454cd1a067bc5ca2222da8e03783add
=======
   "id": "c12157d3",
>>>>>>> 8e3e5ac1f454cd1a067bc5ca2222da8e03783add
   "metadata": {},
   "outputs": [],
   "source": [
    "# Set optimal n_iter\n",
    "optimal_n_iter = 240"
   ]
  },
  {
   "cell_type": "code",
   "execution_count": 147,
<<<<<<< HEAD
<<<<<<< HEAD
   "id": "3cb023ad",
=======
   "id": "4d184e2b",
>>>>>>> 8e3e5ac1f454cd1a067bc5ca2222da8e03783add
=======
   "id": "4d184e2b",
>>>>>>> 8e3e5ac1f454cd1a067bc5ca2222da8e03783add
   "metadata": {},
   "outputs": [
    {
     "data": {
      "text/plain": [
       "{'xgb_model__subsample': 0.9,\n",
       " 'xgb_model__reg_lambda': 2.0,\n",
       " 'xgb_model__n_estimators': 480,\n",
       " 'xgb_model__min_child_weight': 9,\n",
       " 'xgb_model__max_depth': 12,\n",
       " 'xgb_model__learning_rate': 0.2,\n",
       " 'xgb_model__gamma': 2,\n",
       " 'xgb_model__colsample_bytree': 1.0}"
      ]
     },
     "execution_count": 147,
     "metadata": {},
     "output_type": "execute_result"
    }
   ],
   "source": [
    "rand_search_iter.best_params_"
   ]
  },
  {
   "cell_type": "code",
   "execution_count": 148,
<<<<<<< HEAD
<<<<<<< HEAD
   "id": "7ed1b37a",
=======
   "id": "191e1466",
>>>>>>> 8e3e5ac1f454cd1a067bc5ca2222da8e03783add
=======
   "id": "191e1466",
>>>>>>> 8e3e5ac1f454cd1a067bc5ca2222da8e03783add
   "metadata": {},
   "outputs": [
    {
     "data": {
      "text/plain": [
       "0.30502267227683827"
      ]
     },
     "execution_count": 148,
     "metadata": {},
     "output_type": "execute_result"
    }
   ],
   "source": [
    "rand_search_iter.best_score_"
   ]
  },
  {
   "cell_type": "markdown",
<<<<<<< HEAD
<<<<<<< HEAD
   "id": "9bb2744b",
=======
   "id": "9a15fc3f",
>>>>>>> 8e3e5ac1f454cd1a067bc5ca2222da8e03783add
=======
   "id": "9a15fc3f",
>>>>>>> 8e3e5ac1f454cd1a067bc5ca2222da8e03783add
   "metadata": {},
   "source": [
    "#### 2nd Round Finer Tuning "
   ]
  },
  {
   "cell_type": "code",
   "execution_count": 174,
<<<<<<< HEAD
<<<<<<< HEAD
   "id": "c938b71b",
=======
   "id": "f80b9f64",
>>>>>>> 8e3e5ac1f454cd1a067bc5ca2222da8e03783add
=======
   "id": "f80b9f64",
>>>>>>> 8e3e5ac1f454cd1a067bc5ca2222da8e03783add
   "metadata": {},
   "outputs": [],
   "source": [
    "hype_params = {\n",
    "    'xgb_model__learning_rate': [0.001, 0.01, 0.1, 0.15, 0.2, 0.25, 0.3],\n",
    "    'xgb_model__n_estimators': range(450, 515, 5),\n",
    "    'xgb_model__max_depth': range(9, 16),\n",
    "    'xgb_model__min_child_weight': range(6,13),\n",
    "    'xgb_model__gamma': np.arange(0,4.2,0.2),\n",
    "    'xgb_model__subsample': np.arange(0.7,1.0,0.05),\n",
    "    'xgb_model__colsample_bytree': np.arange(0.7,1.0,0.05),\n",
    "    'xgb_model__reg_lambda': np.arange(1.7,2.31,0.05),\n",
    "}"
   ]
  },
  {
   "cell_type": "code",
   "execution_count": 175,
<<<<<<< HEAD
<<<<<<< HEAD
   "id": "27a4ec08",
=======
   "id": "160bf8e0",
>>>>>>> 8e3e5ac1f454cd1a067bc5ca2222da8e03783add
=======
   "id": "160bf8e0",
>>>>>>> 8e3e5ac1f454cd1a067bc5ca2222da8e03783add
   "metadata": {},
   "outputs": [
    {
     "name": "stdout",
     "output_type": "stream",
     "text": [
      "Fitting 3 folds for each of 240 candidates, totalling 720 fits\n"
     ]
    },
    {
     "data": {
      "image/png": "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\n",
      "text/plain": [
       "<Figure size 720x360 with 1 Axes>"
      ]
     },
     "metadata": {
      "needs_background": "light"
     },
     "output_type": "display_data"
    },
    {
     "name": "stdout",
     "output_type": "stream",
     "text": [
      "[(41, 0.31384143077398546), (20, 0.3134316745899941), (143, 0.3131640001127403), (34, 0.31285850503299045), (183, 0.3125287828803371)]\n",
      "Best Parameters:  {'xgb_model__subsample': 0.9000000000000001, 'xgb_model__reg_lambda': 2.0500000000000003, 'xgb_model__n_estimators': 485, 'xgb_model__min_child_weight': 6, 'xgb_model__max_depth': 14, 'xgb_model__learning_rate': 0.1, 'xgb_model__gamma': 3.6, 'xgb_model__colsample_bytree': 0.8}\n",
      "Best Score:  0.31384143077398546\n"
     ]
    }
   ],
   "source": [
    "rand_search = rand_search_eval(pipe_tuning, hype_params, sample_weights, optimal_n_iter)"
   ]
  },
  {
   "cell_type": "markdown",
<<<<<<< HEAD
<<<<<<< HEAD
   "id": "3b4cf978",
=======
   "id": "5b2af2f1",
>>>>>>> 8e3e5ac1f454cd1a067bc5ca2222da8e03783add
=======
   "id": "5b2af2f1",
>>>>>>> 8e3e5ac1f454cd1a067bc5ca2222da8e03783add
   "metadata": {},
   "source": [
    "#### 3rd Round Finer Tuning"
   ]
  },
  {
   "cell_type": "code",
   "execution_count": 195,
<<<<<<< HEAD
<<<<<<< HEAD
   "id": "7bbd7bb9",
=======
   "id": "e73e399e",
>>>>>>> 8e3e5ac1f454cd1a067bc5ca2222da8e03783add
=======
   "id": "e73e399e",
>>>>>>> 8e3e5ac1f454cd1a067bc5ca2222da8e03783add
   "metadata": {},
   "outputs": [],
   "source": [
    "hype_params = {\n",
    "    'xgb_model__learning_rate': [0.001, 0.01, 0.05, 0.1, 0.15, 0.2],\n",
    "    'xgb_model__n_estimators': range(470, 501),\n",
    "    'xgb_model__max_depth': range(12, 17),\n",
    "    'xgb_model__min_child_weight': range(4,9),\n",
    "    'xgb_model__gamma': np.arange(3.2, 4.1, 0.1),\n",
    "    'xgb_model__subsample': np.arange(0.8,1.01,0.01),\n",
    "    'xgb_model__colsample_bytree': np.arange(0.75,1.01,0.01),\n",
    "    'xgb_model__reg_lambda': np.arange(1.95,2.2,0.01),\n",
    "}"
   ]
  },
  {
   "cell_type": "code",
   "execution_count": 196,
<<<<<<< HEAD
<<<<<<< HEAD
   "id": "0965744b",
=======
   "id": "682a48b3",
>>>>>>> 8e3e5ac1f454cd1a067bc5ca2222da8e03783add
=======
   "id": "682a48b3",
>>>>>>> 8e3e5ac1f454cd1a067bc5ca2222da8e03783add
   "metadata": {},
   "outputs": [
    {
     "name": "stdout",
     "output_type": "stream",
     "text": [
      "Fitting 3 folds for each of 240 candidates, totalling 720 fits\n"
     ]
    },
    {
     "data": {
      "image/png": "iVBORw0KGgoAAAANSUhEUgAAAnAAAAFNCAYAAACAH1JNAAAAOXRFWHRTb2Z0d2FyZQBNYXRwbG90bGliIHZlcnNpb24zLjQuMiwgaHR0cHM6Ly9tYXRwbG90bGliLm9yZy8rg+JYAAAACXBIWXMAAAsTAAALEwEAmpwYAADIlklEQVR4nOy9d9wt11Ue/KyZOeVtt18Vq8u4YIwbsh0ZAwZCwJQY8hFkIBTTZIgTUkhoCTiBBEgISb4vgGV6R6bGBIMpgSRgmVg2bpIL7uq60m3vfds5Z2Z/f+xZu82ecvqc993P7yfd95SZs2dml7WftdazSAiBgICAgICAgICA1UG07AYEBAQEBAQEBASMh2DABQQEBAQEBASsGIIBFxAQEBAQEBCwYggGXEBAQEBAQEDAiiEYcAEBAQEBAQEBK4ZgwAUEBAQEBAQErBiCARcQEBAQEBAQsGIIBlxAwAqAiF5LRL+87HY0wSq1FQCI6EYiukJE8bLbEhAQENAUwYALCJgQRPQxItrLF/9HiejniWhzyW36RiJ6PxFtE9FjRPT7RLS1zDbVgYgEEX1S/vfcjb/8uf1tfi2E+IQQYlMIkc7zdydF3q8GeT/j/+7IP3sNEd1LRAdE9PMNz/ey/J7/tvP+c/P3/3z2VzEeVrEfBwQsGsGACwiYDl8ihNgE8DwAzwfw3ctqCBF9FoB/D+ArhRBbAD4ZwBvm8DtERK2cO4goWXYb5oT/kBuZ/N/d+fsPA/hBAD875vnOAXgJEZ023vs6AB+cQVstjPtMFtGPD3E/CThCaOUkHBCwahBCPArgzZCGHACAiL6LiD6cswj3E9GXGZ99PRH9BRH9KBFdIKKPEtHLjc9vIaL/lR/7xwDONGjGCwHcI4T467xN54UQvyCE2M7P2ct/7xM5q/E6IlrLPztJRP+DiM7l7fkfRHS90Z4/J6J/R0R/CWAXwK1E9ClE9MdEdD4/3/cYbekS0S/m7b+PiG6razwRfQGA7wFwR84yvSt//zgR/QwRPUJEDxHRD7K7M7+Pf0lE/5mIzgN4LRE9lYj+JxE9SURPENGvENGJ/Pu/BOBGAL+X/8a/JKKbc+Ypyb/zFCJ6Y35dHyKibzba+FoiekOTa8vv74867/13Ivpn+d/fmV/PNhF9gIg+t+4euRBC/LYQ4ncBPDnmoQMAvwvglXlbYgBfAeBXnPb+VyJ6gIguE9HbiegzjM9iIvoeo4+/nYhuyD8TRPQPiehvAPxN/t435/fzfH5/n1LStrp+vEZE/4mIPk5El/JxxP347+bP5GLeZz/ZaO/H8nv+bgA7RJQQ0d8iorfk338XEb1szPsYELA0BAMuIGAGyI2dlwP4kPH2hwF8BoDjAP4NgF8momuNz18M4AOQxtl/APAzRET5Z78K4O35Zz8AyY7U4a8AfD4R/Rsi+nQi6jmf/wiAp0MamZ8E4DoA35d/FgH4OQA3QRo4ewD+m3P81wD4FgBbAB4D8CcA/hDAU/Lz/anx3b8L4NcBnADwRs+5ChBC/CEk83J3zjI9N//oFwCM8t94PoC/A+CbjENfDOAjAK4C8O8AEIAfytv1yQBuAPDa/De+BsAnkDOnQoj/4GnKrwF4MD/+ywH8e8e4anptvwppjBIgjeS87b9ORM8A8BoAL8xZps8H8LHKGzR7/CKAr83//nwA90EyeibeBtlfTkFez28QUT//7J8B+EoAXwjgGIBvgDTuGV8K+WyeRUSfA/lMvgLAtQA+DnkPfajrxz8K4NMAvCRv178EkBHR0yGf3T8BcBbAmyAN9a5x7FcC+CLIZ3c1gN+HZDBPAfgOAL9FRGdL2hUQ0C4IIcJ/4b/w3wT/QS64VwBsAxCQBsyJiu+/E8Ar8r+/HsCHjM/W83NcA2lAjQBsGJ//KoBfbtCmlwP4PQAX87b9GIAY0qjZAfBU47u3A/hoyXmeB+CC8frPAfxb4/VXAvjrkmNfC+BPjNfPArBX0WYB4JOMY3/Z+OxqAAcA1pzf/jPjPn6i5p58qdnW/Ln9beP1zXkbEkhjLwWwZXz+QwB+ftxry+/5JwB8Zv76mwH8z/zvTwLwOIC/DaBT0/6fB7CfP9OLAJ7wfOcHuY0N+sjLADyY//03AJ4BaUx9NaRh/OcVx14A8Nz87w8g788lz/RzjNc/A+kG5tebAIYAbh6zH0eQm4vneo751wDeYLyOADwE4GXGc/8G4/PvBPBLzjneDODrmtzH8F/4b9n/BQYuIGA6fKmQDMrLADwThquTiL6WiN6Zu2cuAng2bFfoo/yHEIKZi01I5ueCEGLH+O7HmzRGCPEHQogvgWQUXgFp4HwTJCOxDuDtRnv+MH8fRLRORHflbqnLAP43gBNkZ2Y+YPx9AyTDWIZHjb93AfRpsrijmwB0ADxitPsuSLbN1y4Q0VVE9Ou5e/IygF9GMxc0IO/9eZG763J8HJKtZDS6NiGEgDSMvjJ/66uQuyiFEB+CZIpeC+DxvL1lLkUA+FEhxIn8v6bX0gS/BMkEfjaA33E/JKJ/TkTvy12VFyHZZP79uj5gPpenwOjDQogrkG7f69yD8s/L+vEZAP2S33V/I8vbYP6G2aabAPx97lf59b0UkiEMCGg9ggEXEDADCCH+FyRT8qMAQEQ3AfgpyMXxtBDiBID3QrIydXgEwEki2jDeu3HM9mRCiD8F8D8hDccnIJmLTzEMgeNCJmAAwD+HZGJeLIQ4BuAz8/fN9grj7wcAPHWcNjVtuvP6AUgG7ozR7mNCiE+pOOaH8veek1/LP0D5dbh4GMApsjMeb4RkcibBrwH48rw/vBjAb6lGCPGrQoiXQhoSAtLFvWj8EoBvA/AmYxMBAMjj3b4T0u15Mu/Dl6DvZV0fMO/zw5DXyefeAHAaNfe1pB/vl/yu+xsEaWSav+H24V8y+tUJIcSGEOKHq9oUENAWBAMuIGB2+C8APo+IngdgA3KxOAcARPQqyAWoFkKIjwO4F8C/IaIuEb0UwJfUHUdEryCiV5JMSCAiehGAzwLw1pyN+CkA/5mIrsq/fx0RfX5++BakgXeRiE4B+P6an/sfAK4hon9CMjlii4he3OT6avAYgJspz3IVQjwC4I8A/CciOkZEEckkhc+qOMcWpNvtIhFdB+BfeH7jVt+BQogHALwFwA8RUZ+IngPgG+EE9zeFkIH45wD8NIA3CyEuAgARPYOIPieP79qHvPdjy5jkgfh9SPdinLe5MdMphPgoZB/5Xs/HW5Cu/HMAEiL6PshYN8ZPA/gBInpa3t+eQ3ZWq4lfBfAqInpefs3/HsBfCSE+5rmmun78swB+jGSySUxEt+fnfAOALyKizyWiDuSm5ADyefrwywC+hIg+Pz9Pn6TEyvUl3w8IaBWCARcQMCMIIc5BBob/ayHE/QD+E4B7IA2GTwXwl2Oc7qsgGZvzkMbULzY45gJknNXfAGDX4X8UQrDx8Z2QSRZvzV2LfwLJugHS+FyDZDjeCuleLUXuYvw8SMPy0fw3P7vZpVXiN/J/nySid+R/fy2ALoD7Ia/xN1Ht5vo3AF4AyRb9PoDfdj7/IQD/KnebfYfn+K+EjIt7GNKt+P1CiD8e/1IUfg0y1u1Xjfd6AH4Y8n4/CukS/p7iobX4V5DG33dBMo17+XuNIYT4CyGEm7wAyHiwP4CUFvk4pKFpuiB/DNJo+iPI/vYzkH3I9xt/Chmj9luQDPNTkWfAelDXj78DwHsgEyzOQzKXkRDiA5D34P+DvK9fApmsMihp0wOQ7tnvgTRSH4A09sO6GLASIBmmERAQEBAQEBAQsCoIO42AgICAgICAgBVDMOACAlYIRPTVZJdU4v/uW3bbAtoDkgK7vn7yB8tuW0BAwGwQXKgBAQEBAQEBASuGwMAFBAQEBAQEBKwYDlVB3zNnzoibb7552c0ICAgICAgICKjF29/+9ieEEBOVbztUBtzNN9+Me++9d9nNCAgICAgICAioBRE1qrLjQ3ChBgQEBAQEBASsGIIBFxAQEBAQEBCwYggGXEBAQEBAQEDAiiEYcAEBAQEBAQEBK4ZgwAUEBAQEBAQErBiCARcQEBAQEBAQsGIIBlxAQEBAQEBAwIohGHABAQEBAQEBASuGYMAFBAQEBAQEBKwYggEXEBAQEBAQELBiCAZcQMACcMdd9+COu+5ZdjMCAgICAg4JggEXEBAQEBAQELBiCAZcixBYmmYI9ykgoBxhfAQEHA0EAy4gICAgICAgYMUQDLiAgICAliKwactBuO8Bq4BgwAUEBAQEBAQErBiCARcQEBAQELDCCIzh0UQw4AICAgICAgICVgzBgAsICJgbAjMQEBAQMB/M3YAjoi8gog8Q0YeI6Ls8n7+CiN5NRO8konuJ6KX5+zcQ0Z8R0fuI6D4i+vZ5tzUgICAgICAgYBWQzPPkRBQD+HEAnwfgQQBvI6I3CiHuN772pwDeKIQQRPQcAG8A8EwAIwD/XAjxDiLaAvB2Ivpj59iAgICAgICAgCOHeTNwLwLwISHER4QQAwC/DuAV5heEEFeEECJ/uQFA5O8/IoR4R/73NoD3Abhuzu09UgjurYCAgIDFIMy3AbPGvA246wA8YLx+EB4jjIi+jIjeD+D3AXyD5/ObATwfwF/Np5kBAQEBAauGYBQFHGXM24Ajz3ui8IYQvyOEeCaALwXwA9YJiDYB/BaAfyKEuFz4AaJvyWPn7j137txsWh0QEBAQEBAQ0GLM24B7EMANxuvrATxc9mUhxP8G8FQiOgMARNSBNN5+RQjx2yXHvF4IcZsQ4razZ8/OruVHEG3ZzbalHQEBAQEBAW3FvA24twF4GhHdQkRdAK8E8EbzC0T0SURE+d8vANAF8GT+3s8AeJ8Q4sfm3M6AgGA4BgQEBASsDOaahSqEGBHRawC8GUAM4GeFEPcR0avzz18H4P8B8LVENASwB+COPCP1pQC+BsB7iOid+Sm/Rwjxpnm2OSBgGrABePedty+5JYvHUb72gICAgEVjrgYcAOQG15uc915n/P0jAH7Ec9xfwB9DFxAQUIJgRAUwQl8ICKjHKo+TUIlhSgS3W0BAQEBAQMCiMXcGLqAewQAMCGgHVnk3fpQQ5syAcXBYx3Vg4I4wdgcjjNJs2c0ICAgICAgIGBPBgDvCuP+RbTx6eX/ZzRgbwzTDhx6/gu394bKb0goEN37AODD7S+g7AQGri2DAHWGkmcAgLegqtx5XDkZ4cmeA+x4u6DoHBAQEBAQcCQQD7oiCy8+m2WIMuFnu9LO8zQej4P4NCAgIOMwILHE5QhJDizHPwEu229Js9YygNDc+B8GAmysOa+BvmzHPex4WwYCAw4XAwB0SuLuUul3LKDfcRgti4GYJtjkPRulyG7KCCLvZgICAWSHMJ8tFYOCOEMzdPbtOF+VCnSWYgTsYrj4DF1guG+F+BASMjyv7I1zaq07qasvYaks7DgOCAXdEMVplAy5v8yBIoAQsAYd5ATrM1zZLtO0+PblzgEcvH0AIgby0eEAJ2vbspkFwoR5RZCtswGWKgSt3oY7rUg4IWCRCfwyYJXgvu0qb2raOgba2y4fAwB1RMAOXCZkM0E1Wx5YfJwt1VQZiwPQ4TDvrgIBxwGEle4MUvSRecmsCFoVgwB1RmMzb9v4Qpzd7S2zNeGDpunlnoU5jEARj4uhgWc869LHDiUmeK8/ne8MUJxb4u5OcP2B2CAbcEYVtwI1WyoALOnABAUcTszAC5mGoLNuY5jlxbxAy848SggF3RGEacJedklTLnozqoLJQJ5ARmfe1sUByCCSeHdraH5fFKKwKk9HW53YYwXPibksMuPDsF4NgwE2Iukm07R145DBwqwSVhbokBq7s2e4PU7zjExdxy5kNnNroLqNpAWOi7eN0HKyKYRcwe/CcuF+R2HUYUDZeD9M4HgfBgDuiMCswXG6JflDTBUhlobbMhXp+Z4BRJrC9P1yoASeEWLmqFEdhwj0K17hKOMwGrhkDNw+EvtxOBAOuRRBCIBP+iWbWA8jMNl9VBq5tBtzOgbyP+wsWGL60N8QHHruChy/uLfR3x0FYAJaHRRkus2RH2tpfxrmXi7yGrGUu1IDFYHW0I44AHrq4h/c8dGkhvzUyGbj9agaubcgWlIW6P0zHirO7ogy4xU6iwzwt9+NP7i70dwMCAiT2hik++Nj2Usr7jdJMzYmH3YU6KfYG8vkctiSPwMC1CBd3hzgYZQtR07aTGKZn4Op2mzsHI3z0iR3sHIyw0avudo9f3i+9fiGEkYVaHIyzZBs+dO4KunGzPc4dd92jStnsjzJkQiBaUCIDP8nHt/cX8ntNIYTAue0DnNroIo5CUkfAauBglOJ9j1zGjafWGx+zvT/Chd0hHrqwh1vPbs6xdUXsGEbJLAyUtrKf0+DKgXw+iyJIFoVgwLUEaSbUQBxlAp2YIIQopcSnHWQjRwdu3tg+GGFnkOKBC7t45jXHKr/72PZB6YI/SDNlsMzbhTocCcTUvFKFaRQPRhn6nQUJaubuk8cvHyzm9xriY0/u4iNP7EAAuGqrWqbmMMcnTYNRJiorjvjw2OV9XNgdIiLg+FoHVx/rW59nmcBj2/tjMdiHUXqjDI9dOsDl/ZFi1JuAs88XHT4B6NANILhQyyDyVeODj20vuSWzRTDgWgJzskgzgU6sY5vm0ekyw9j4vXc9jPsfvjzz3zDBxs2l3XpjcZhmiMlv/Owe6Alq3gbcKMuQiubMkWnA7Q/ThRlw/KuPXW4XA8cLy7gGSIDGY5f28dClPYzSDEkDNlgIgYcu7rFNjysHo4IBd353gE+c38NffuiJxu3g+NxVxLibA04EGOdylQtzCS5U04CbVxLDqoPHw98EAy7Ah6rdZJOdpplIMHJkMj72xM7M2un+BjBdPdSmkyP/xr/63ffi1Ea39F4IITBMBcq8rDsDfZ/macAN87iSbIyfYC0mYLE7cf7Zx7aXw8CV9QGOx2lbsskqYW+YQgg5P5xskNm8P8wwTAVuObOO/WHmNeqZpfnwuSuN2/Ho5X08eqldDC9jOOP6n7s8x4wxLWoGrtyA+viTO1jvzn7JNV2oIQbOD36UH3yseZ9fBQQDriUw3ZijPCh9mBs9j1yaPbPCBhWRbczNCq7Ryr9XZyxyW0TJ7GnGeMyT2WFplUw0vzfMaka02J2wioFrGQPHRqxpwB1mV+k8si15E3d5f9jIgOOEpGP9DobpIN+ECERGSAIzNh8+13xjeDDKZPjCAuJzTdTdnyeuHODD53bwyKU9XHt8bSa/yXNM2RzkA09rBxUbtyd3BirhyIdJx4bPhdpW9/TSwAzc49t4qhOjKMaY49uGYMC1AEIIXDkY4Vg/weX9kdJoY0NuHgYcG0on1joLYUjYcBvVUFpqN+0ZU3fcdY9yNW90YwxmvPM2cWkCA46vca0TL3gnnMfAbR/UxprNE1cORvjE+V3lPtYMXHtYgTYsbFkm8Inzu7h6q4dejZudx+blvWI81sXdAY71O9Z7l/dH6MYRekmEJDfaRplAN/9bCB1r++FzV9DUFDPL19WFBizKSGd3MQBc2BnOzoBjF+qMGbhMjDefNMWVGblQH7u8j8e3D/Dspxw7dJVk2Bh/4soAN57K0MnDEbJM4K8fuIjrT86m7ywawYBbAtxFZHeQIhPAifUOLu+PlHHFhtyjl+r1vfZzV0tT8IR8cr2rJsFJ2t4UI2XAVTdyMGIGzg82kk6sdyt3ux96/Ap2ByluObOOLWeRawJtwDU/JhUCcUTod+KxAqCnBT/3xy/vz9SAG2UZYs9EXrZAX9kfYXt/hMcvH+DG0+sqHmiYigILVIY0Ewu9d5NACLkcZJloFJfm4qGLe3jk0j5iIlxXsXAM00xtUtxEo/1hig88dgW3ntmw2nV5b4gT6x0QkWHAZejmilEHowxpJhAR8JFzVwpsRBledOtp/P67H1EGXBsM4Qu7Q8XyThMG4mJ3MH4M3Bd+6rX46b/4aGUMXJaJuRhwJgO3P0USw94wxe4gxfbBqLAxWHWYt31vkKKzJsfD5f0hhqlYSvLJLBB04FoAjn87uS5dJGzksAv14QYM3CfOy4y/plAM3HpnppNfGRQDV+FCAOrjWXgCPLXRrWQOt/dH2BumuP+RbTx4YXx9NGXAjXFv0kwgJkK/E+FglI117DTgX9kZpDN7lk9cOcA7PnFR3Ycm4BhAZgHMSbEpy/vghV28/9FtXNwdjNHaxWF/mOKdD1zC2z52AW//xMWJ2HFmaXZr2JJHjXO7Wo18P837ujdMMcqEWnzZuDT7BLNvJ9e7eOLKAKOGLDYbBm1JSBFC4GFjY1vH7I8DxWKNMZTY0C4zBNKMjf4pG+cBG3BJRFNlobKRc2GnnWNvGpiP0mQpL+RJdavqRg0G3JwxGGX4xPndSsPkyoF0e/Q7MYiKxs6jDRaJ0Zi7O2b3Tq53McrE3Dtw0xg4vk9lzUkNw3NQstsVQmCQZrjmWA+nNrp46OJ+rRtPCKF06gBtwAmg8SKXZgJRBOVi2jcW18e39+dWKcG8V640xB133TORS+tjT+xACPsa6uCW8zHdSU3cqMM0w+N5IsYs3PqTXLsQ9lhwz3F5b4hBmuHkeidfMMdnC/n+VB17x1334Ft+8V7jd+3v8nM25xX+zrG+dKwoBs7YNO0cjECAKvW25xgc+8PU29/ZMGhLQsr2/gg7BylOrktjdZab0Eli4Ph5lLlQuf+nc3GhynN34mgmsbfnd4ZjrweTzjPj4CPnruCB87uTPev8kI1ubBm5F/KN4qpmWAcDbs545wNyl36xQj5jmGboJvJRJBGpCXekXKj7tQMqy8RYLtSR4YoE7A58fmcwEWtVBR0DV2fAVScxmK7fssVkkJ+j34lx4ynponqsRiNt+2CEx7cP1IA268M2NWIyw4UK2JP5+Z2hMk5mDfNezSojj5mlcRlIQF+3bcDVt+vxyweqH1pC03vjLyiT4pFL+3hvhaSOyVz3O/FEBg2zNPvDrHIxMs/tMnDM+FgG3P4QvSRScXWxEQPH2DkYYa0bY71b7KMA8P5Ht/HQRU/mqueZLhMsPs4hA1XJAeNCuVDHYeBG1Qwcvz9PF2oS01RCvjzGBmmGnYN2PGdAtuuRS3t4+X/9P3j40v5E7DzPkU+/Zstm4HbYgFtNCy4YcHPGx5+Ubs2qhTXNhJpskyhShhsbcoM0qzV8UiHG2jGmyhCyd7CZEPjYkzu1Bk8ZynZi6pqmSGIAAJ6n2YXqW9iZmeslEXpJjJPrHZzbPqg0RlTmb/6v6TpsOimmGaQLNeF4I32clEeZE3thMnAz+g1mfcfZ7boMHBsghHoDLssEHr28r4Lq+Vwff3IH73t0W7k65o29YVrZVpW9DUIviSYq52YuIFWMiW3A2Qzc0MPAXTkYYdPQ30kcA46FwTe6CXpJhE5Mhd8fpJli560252xhWxi4UZohjkjFVc6UgZtAB067UP3Pk9+flQvVnGd3BiPERIip+DzHgYDsMwSpFdgWXNob4hPn93D7U08DmKwP8jLx9Ku2rPmc5xVzbbi4O6gkXNqEYMBNifM7AzxSkWTwifOSyWpqwMURyXgJITDKBPod+YjqFoosq94xnts+wLsfvKQmEmXAbXDcnTz/E9sHMuh8hjuSNNMioGnDGLiyb2UGAyK/7zPg5DmY1bzmWB+jTOCJitgOvn7+fdOAa8o68HNM4ggR2c9MQLKcO3MI0DfvQJ2R+NDFPTx4YbfW5fFoLkkyjsuH+wzHS/F963Wi2tipJ64cYJQJnM0ZFe6fnNAwD6kbH+rCCbgdRLJ/sbTGODAXkCo36mCUohMT4ogsRhjQBsMgFbjjrnvw91/3FgxTYWWIxsq4yb87khvBjV4MIsJNpzcKbm4h/GNvdzA+A7c/TOdWr3iYV6thg3+mMXD5M5mIgSsJFVAG3IyZnjvuugf/410PI4rq5YuGNX1VCNlnjq11cH5nMFPWezDK8NDFvYn6A3tUfvBLn40kookSDgTkmH3a1ZsYZXozrRk4/d2HLu5b8ZVtRjDgpsTj2weVgcxcYLyK4h9lQu2Wk4gwyoRaODdy4cdaA07YLtSLuwO89+FLKp7lbx7bxt4wVQN8pBg4acCx0cgJE6wfNQuYWYWNXailDJxAN47UffHFVvHixgbcVj/BWieurFSgGbiiAdd0V8suVACIiKxr4L/PzcGNKoTMKlzrxCqLtwwXdgd4skGQ8jQMHC9i+8MUEQG9pN7VuDfMEJF8VoDuJ7wuLyLRBpAbjKpfMtvRjSMIodv60Sd28KHH64VCzT5bFXR+MMrQSyJpwLkuVGbgchaaX/cSPaVzJir3bU5g4FrETz27YfVtTqbyjT3tFm++eH7o8Sv42JOzFyEH5DjtRJGSu5hHFuo4HBzPOWWZ8dz/qww4IQSeuHKADz1+Be996FLjuSIVwI2n1vHZz7y61FtwMErxrgcu4dyV8rHPRs7xtQQHo8xivS/uThfGcN/Dl/DghT2879HLYxtxfM/6nThPEJuMZSQAT7t6C4DeROkYOH1t7lraZgQZkSkxTLNKmYQqFyozIKmx8CcxYXcg1KS73o3x5A5wUMOspELAVHzYGaTYOUhxYXeIs1s95YLhjulzoT65M8DBKMNmL8GVgxEORhnWutOVg7rjrnsU+9KJCcO0muHQDFxJDJwQWO/F6HW0LMIWbGmLg5E0BpJIfoeIcNVWDx8/v4u9Qeq9Jr4f47hQfWLFXMCeyJ7++XrOXTnAzYb0Q5Pz1uELnn0tfvsdD+LkRhdX9qsZvjSTi32dICuzyhO5UAc6Higi6Wp0mccnrxxY40VAtofbxBMqMyvmZmKeEhajrISCyqEFsAndRLZ1MJK6Upf2hmojVgXuT904qjXgNnoJMpEWkxgMpjrNhDIQuom9J4/zDSGgjTBm6Z56dhN/dN9j6l5vV/QdncQwBgM3yuYWHD5KpXdCM3DFH5o0qH4iF6onieHy3hCb+YZEM3AojD1u57krB/joE7ty7hAyaP9sA1mgNBPY7CVY65YnMWzvj5AKUZr4BeTtAiHO583dwQinNrr44GPb+MBj23jG1c0kZ3zYG+gNwP2PXMazrj1W6KtV7QJ0SExVP606B4Fw3QlZVo7Hj3KhGg87E6KxPuKyERi4KcEGRxnD8PHz1QwcW/umC3WU6Zi3fidGElFh17I7GCl2jRMYhG0xAND6UfwvDwZTTw2QE+Ajl/bR70Q4nbtVJ8mw8yFVAzDOX/u/x27jynNlAuudWDENvt3cYJSp32Kc3JCG6oWS2A5+juxmmISBSzOBv/eC63H3nbeDQJahqrXaZs/Apbke2dVb/doYOHZn191njoEcK7O5ICOSKgNulNnP9oELe1Z2tRByh6wW5FTHZJrnrsL5ncFY5aEA+bxN9xvLPZSBv0vQxtJglCET0ohqcrf4/mz2E+wOUu+Ghlk1HwOX5eXmVHhF6mfgAM3o87XKjY28y089uwkBzRq5c4TZFp80TBVGmUzQmFfc5zCVRjPbQXPJQp3EhZrfp0cu7eF9j27jfM52N5HUubw3QicmPCNniZpeU5oJbPSkl6Fss8k1pKseBzNwcX5P+Vp4LvTN2w9f3GvEFHL/uenUOg5GGZ640nwe5OHJDNwgzcZm8QQAEHBVXhe46EI1GLhsPON9mQgG3BQQQjNlvp3pKM1UMGTZRMaD1ExiyIT+ficmXH2sX+iw73tkW7k7fQYGL0O8W2E3JndM/l2WE7i0N8TuIMU1x/qKGZlVOSheQHhxSUvuhWnklk2eWSaw3kvU4umbDAejrLC76yUy864sGF4ncUj28uLuEGc2WWqh/j5kubjrRs7uFRg45UKdQ1k0IZm/q471VHB76Xfz66yaAL/idW9RkifjrL+FLNScCdXGto6/dI0dIeQ9YwNOMXCpveGowuX9oVowm+JvHruiwhwAP+NnwixB18111g7STBlBTRZ9ZcD1YsmIem7yMHflckUFk3XguYHDCIbGgtZ1hIWTmNQ1uePi1rOSCebnpVyoTlv2h5m6rqYMHLdnXHmjJuCNnoyBK2baTotJKjG4OnA87yv207hvZXGE2wcjbPU7YBK3afxpJnIDrptgb5h6++7ucKS+W4p8E8VeBGbStUFbPPbx7YNGIRl8T4+tJd7kmSpwm5OI1MZ8XJUE3iBu9ZI8Plmec9VdqMGAmwIjY7fuMyT4vU++9pgVOGlCGXCkY+AAvStOoghPOWEzK2nOZjAD51MO5w7Ik7Ib36Jj4CQz9eSVASICzmz2CjuwcZBmorDY8utXvugG67ddmEZr6fmFNJJ4IPsWlINRVljIABnvd+Vg5H0OpvF4bvsAl/eGuDrfrTVRN+dr5Pgigr0AmC7UWSNNZQzlVTUM3DDVLq2qmLShEQc2DrPBO2VTRiSKSMla8OLmk2nQLlT5WlcjsZm4SlR7P70YZtr4Ghn3p2zx1FmoUEH0g1FmuN3qW8D3gTNGfW7UAyOT2k1i4MWH+9owzXAwytCJqRDGkUSRShwapMIaF1x6apBmuOOue/DaN96XX4MNc7HdV4aqZKnNRf3S3lA9N7N/zTqRgX8jsRi42f3GbgMduIcv7llsr5vEwOdQJchqMo8HI2mEb/USYEyjVLlQOzwnFu8Ft6dqPMsxiMIGvkpWZZSKRgkk3G8iokqm0IdMyAQNykXSAe3ZagpmF4kInThSa8BFJeRr/t54ig7LRDDgpoC56POgMbP7eCG77aaTAICveF0x809NRoYLFdATQRITrjm+Zk2CzKbxz/t2SPxXwYUKXhjl+da6sTQ2kBtvERV2YOPgA49t44OPbVvv8aRx/cl165pd8KDqxlFlFupat9yFmuW7c9eVBGhj1cfCmRPbE1cOcGlviGvYgGvAOvBEzYsy0eJcqKM8+/XqYz1konySNlmcKgOOjcA4osbsiRA68WbPyFgkg4Hj39RZfvb9MU0PJfzsuPwr26D+B9WOdz5wEU9WGc1CGnGAnWxT9nv6fcrj4KSUyP4YrA0nd6zlDJpvMTNj2lwXKj+fjZ5csGXJrdS7aTFj4FwGjjO5C2XunGswQynYsLy8P8L7H93G+x/dVtfw/ke3VaKQ2b9m7UZVG72ICi73WaDOuNjeH+KBC3uW1ITrQuV7pjKzDReq7/zbed/b7CfKKG2aRJbmmcVruXHjMxCVC7UmC5VAigH0CXKbGKYZUsMLVQU+VxwR1rox9ob+0AGgKEWVCR1bzBv3B8Y04JDHwAFyfeExdN5h4IQQeZzieKdfFoIBNwXMicm3ILIA7KflBlwlA2ckMQBywBMBv/Hql+Da431LroADwl3dLR8Dd1kZcG4Sg/y3E0fqt1kUc1IX6u5A1sLc3h9ZC6A24OSOv9yAk+93k6h0cKdCYKNb7kJ1JURMrHdjdJPIGwc3NHaRj1zax84gxdXHpQHXxJBVWcPKgPOzQfNg4Dj7lRnDMsbDrKdZFczMx691osYMnPk1pQOXJzEkEaEbR8pA2vX2VzlJu1mFLhNXBVcCgzXdOBNSCIEHL+xZC5KAXvzNRIGyPmrKiAB6MRiHrd4bpOq+UMlv6Zg2GQN75WCkFvShej6xcgdxxqoLjoFjHcKOYeT18+PdKiku+2AaHPsGWwloo/fAYZ7MPjiYoXEF6HmiE0fqQcxFB85zyjQT+PA52Z/Mzc2BMuDkvztOzJnpKfDNq1f2h4hIzlG+xIwq2R+eE9e7zOgWY5eVQZmJ0nM989pj+JTrjhkbeJeBs28IG7C+e79zMMJHzl1RfZa9GMzAZaK5ZqUwDLhOLA1MM+yhCT7j6Wdx1TG5vnXyTZcQQokCZ+o56eSgVUDIQp0CI8Pl53XlDVOc2ezhptOSeWpkwCkXaopj/Q7iiHDt8b4lV8AGHA+OXY9ukRsDVzTgNMvSiSP0O6SMD3cH1hRcaUBATuzH1+wd/g05A1ceA8f3s3xfwTFwyoU6bG7AERFOrnfw+PYB9oeppZllTkIfzqUgmIFrch+0CzWPgUORlgdmIyPiZmGyDA0b4GUT47gMXL8TN1ZkN++fqjQwSpVRdmwtUVIEPpdMBjsGTrlODRdqfVahPiaKNAPKGdjnrhzgoYt7aqxxG9jAMVmuMoOA28Nn6CbSMOVrac7AGdnKnmMORhmSSGrAxZGUK9nOx9QglZu7JNLuoMEow4m1buE8vCHkmENvlmr+vHlOcNuzaxlwzOTI1zr5x2Zfuf2jTMzehZr/ZmLpwM2egfOd8cELuzLzvZ9YGd+ukG8VA+cz9rf3R9joJfl4ke/5GDh3DIg8Xmujl6BfUl1DtqeegUszgW4nVuNjL4+bK8vK5Y0wjx8zs/bS3hDnrgxwaW+IkxtddQ6WOwLkfXaTzXxgFyog5/BeEuO33vEg3vvQpcaZ6FmmlR66MeFimuXhNDLjlJ9TVbxfGxEYuCnAk9ZmL/FOUvujDDefXseZTV5Yi53CNeA4hftglCkXx7XHbWZlW7lQ7U4H6I6nGbiRdQwbdjzhxUT4pKs28ElXaWkLdwfWBGkm8MSVgWqzGbOTZjL2hlPi3cmWd4ScJRdHVLoQpsLJQk3tNpbJKTDWOzGEQKFIu2lcc2yLcqGOYcBtWgxc8SLmUU4rzTJEuQCn2RYXbKC4IsMuBqMMBKCfxBBoFsNkLgxWDFw+8R7rdzDKZDajr9akykJ1sgo1A1fbBB23x2Mgf80LrV5wjd+FNvLcPuuDycDdfeft+PLbrrddqA327nvDFPkwl652zzE7g5GSu+FNHTOogzzG8w2vfgmefd1x7A5SZKKYgSqPZUkILV1y9523q4WvE0cFltNtjbmBUXpm/Hycsn/7wxSZkHIV611Z23n2LlTNwM0lC3VYvojvDFJs9hIc63eUhAugxwjfH9bc0wacwcA5jH6ayU3Nlqqi0TwGzoy91YZReQxcVbgah2K4ITRl4QFm0Xt3aeOXOwNtBMrxTapfu3V4y5A5xqEUBh+vT41MAy6RiYIPnN9Tr/lZcrjMithvwYCbBsNULnQb3URpwZk4GGa48fS6MlxMqQqtcyX/TRwGTkBLfFxjBBsDRRequUN2J7I3vO0TuOOuewyJAPl+lumA1fVuYu2E3B1YE5zfGSDNBK491sdmL7ZK/6SZwFY/Ue6BKhdqJ45UTJ4PWQas92LtQnUZOCOOzgeeCNzjzDgOdpGc2eoijprVF+TDdRKDX8j3ySsHMxelTXMGjutblsWtMQO3VlPDczDK0Em0a71J9Qiz75uSE7wYcIH1J68MjNJO+nh3B+9mgzbJyNPssn1+dvP5hGr574u7A8uor4uBY+7nKcfXpBvWc01l2B+muPXMZi43UzwmE7rkFaDHI7t4B0bt5Ku2eup++zYtfKwy4LwMnG3AuYNvz8vA2YYbn0NAji126XbjycqNVYHDHdgFLdtRf+O394eFjZsPyqPh+zBng3hjwvfDjYHjOE+dmW3EwDkbwp2DEQSgNOPGMUr5OWz2dH3bKhdq1TnTTLKmrgem7H6YscQFr0r+ZTMelkNzOrHMrG5KEGQCasMDAP0kyquGNJ9HMyFUoiB7eD7wmKx5rLLJR2kl+9pGBBfqFBimGZKYLFFZ3l1kmZQHuOnUBvqdGFu9RGmMvfehyziz2cUNp9ZLY+AAHXTP/47ysjksleDGwAG5Oy3Wu0ee2FyJALP6g4uyJIadgxE+9uSOSkYwce7KAfpJhK1+gq1+B49e2lelpdiAIyL1uux+mrtqd1HnQHmu5Qj4Y+CSiPCb3/oSAEWXA1+yy9yZbXr/o3JgH1/ryIypJjIiPgbOMRQkVS+N3SYCnU3B95l/u5SByxev9W6CnUG5ITlMJcPDffLKwUiVXKtqA8Nm4PLg45w1ZQayl0SWoSmgs8QAFDY4TQK6FQPnfPfK/gh33HWPWrztUAOJC7vDRi5UNwaO2XEAuOn0usVKlGFvqMWkfS7UvYEsabXZs4vSXzYYOH7WZj8qi4Hj3wQ8MiNGaSJlhDrLl7lBdBk4zog13fY7A+ma6iYxOnE2s/q8jFGedW1mLddloY4ygQ8+dgVEwPNvOFEqYv0Vr3uLNrY8XUBAxmOxMbI/TLHRSwouVA494G60XxEDxxuMLSODXV7TeAwch4R4kxgcRtCHUSqs+rLaGNWZx4w77roHjxuVbUaZgDmjcR8yS7CZyw0nMjSBmcRw95234xfv+Ri+77/fV1ndqBBmkmoGjg04TsDpJhFwII1sM8t6FRAYuCnAjJE2Joydaj7R3XxGGjtnt3oYpgL7w8wKek6zTKVIA9J44o7OZa62+rZrzJVW2PMwcO5i5hPyjUsNOPmvO8Du+fCTeOzyAa44ZX2yTODKvlzkiQjH+omKg+Pf4muQulTFwSGENHilhAgv4u535L9r3VhJU7i7e58GnAnFwDnHMTuaGO7b42td9Dvl6uYmCjIijgtVQKh2vern/m/t+YDqwGUT7B5Yz3+7joHjnXoZM8L3kCfynQaCzswEJBHBzF4zd87H+ol69hvd2DJcnn71Fp5z/fFCVqHb5yvhGH0qDtRhrG3Xrfz7ws7ASWLw3xu3HSzFAQBPu2qrtCKA+Rz3h5lydxGKLlS+39yX2Ai7nMt2uAwcw9fveUPILIor0ZPEkbpWl7lk8LFEWg7DrZRhMthsKPeSCN0kmoMLVSdjNGXgHrm4l0s5icrxbJ7G59rWmZq5kTPKLOkkLZVjxymbLlRXlmiUyVJ4v/Vtn65YWaCpASf/NV2olTFwlQycsOIKeV1hT4x7pHnP3fvPfYh/lxN3GLwxbmIomQYcANxwSq6p41QFMcsc8ibmA6YBB3nfJqnCsUwEA24K8ESiNcn04P3oE9IN9/RcVfvMVg/DPHBSHltuSPFrjifj+pBFA04G9JqUuevK0QZcUQcuLtmFujswhsrmc76/O0ilCyBfcNhYY8ZnlDNwgIzJGTkTuhACD1zYw/4ww1a/U+pC0PVhY6/RLF/bBpwZ7wMYDJxjvPBvmcceX+ug34mb6cCpLFRjYXYYOD73uAtanSHHfYgn8LLTKxdqt1wvShkIcaT0AJu4UPn+JbF2jUghX93HOEavExM6iS0VM0ozJJFmXzNh93VhvHffw5e99Yf5fJkzBjj2rcxAAWRAtlXtoOQemkK+AHBtXpqHANxyZr2RK29vkCo9Kx8Dt3OQIo5I9XHNwI3yRBC9CDEDFxHwW9/6Equv333n7fipr30hAGlYdGIqME9cK1UIUdj8MXgeOLHWUUwS22tuDWFAZyd2kwjduFhFxoemmxX5W0IZomquMAxI91yDUYZHL+8rN36VG9Vihb0MHADHhcrX14kJ+7lrz42BM8eaa0BmmW2gqMzahsYNIOde7UL1GXDaCCvb4Ml5RNaXjUi3UxEEzmFmX3fnan5lJkK4BhzrmdZeYwaLvbspN+DGqctrepx4HlYGXKy9OWrNWxELbu4GHBF9ARF9gIg+RETf5fn8FUT0biJ6JxHdS0QvbXrsssETCQt6HowynN8Z4L0PXc7jXDbwydceAwCc3ZQGHLMBTLnLjuW6NeRrZuA6cYSIjIBuYwDuDFIlywAUGTjOEHLFfqsYuDfcebs39usTufaOO/6vKMYgxt133o7f/NaXWHFwqWXAFRm4hy/u45FL+7hqq4drjvXwVS++EUBxouGF2azE8FP/5yPWZM3uvzLwAuYuKkM24GLbgGvqQk0zmc3ExrwpIyKE3Mvzuauo/0nAMXBxHr9SrgMnpQr6JQkggIyzyoTWHwOAKw0yUfk3O3GEg1EmQwjySgyMY7lhv9aJC6XGzEUZ8MuHZHlfvnIw8rIMwjmWX185sOUOzLvDTbiwO7SSGMoYOH7/P9/xfADA6Y2ufO4duZFz2+uLRzIzoH1yMzsHI2x0Y9VXzSQGNlw1A9dXr31uQc4EB/xxoUlE+aJe3m947ji53lWxo0rSxJjHAFgxrr0kQieOGpVuGwejNEPiXEvV+R+6uAchgFvObGCtE1v6bS5MV73vjBwKwcbIwVBXwTi+1oEQcm7fdRLN9odpwZ2tflPYdax9rCKH37hQzH83URuz//dP/6bwPdOoKwtHYCPn7jtvx6kNHVtZJlJtbsTd8cJNZVfy3jCz2Pi1CmPThcvAMUHgM0TLNgJppmuV8zz5yKV9EElZEUA+o32DgVsFN+pcDTgiigH8OICXA3gWgK8komc5X/tTAM8VQjwPwDcA+Okxjl0aTF0lFvTcOZDM23ovxnOuP27Fp7ALldkAnvh8hlTiMHAA8tgx29UByMneNLRGSgpAL4Dm901mzp0EGcRq2QUGThpw7sDZOZA1/MwFYrPXwc5ghCzf2fOgc2PgRmmGBy/u4eR6BzefXpdxciXaTjwZrhsMnOXyELrEThl0DJzLwNnZqxHJv81YjYLAZCaUa9p9jmZwusvuuQzctKWGUmMHH1G5+O72/kjKxlSUIXvkss7M4uv5gf9xf8FIdq/BNOD2Bqk6tznxdpMIJ9c7OLXRLTBPo0wycP/llc+3zmduVlKhxYK9k2v+lrp+ZuDyxdSbPJH/e2FnYCXeVLEUgB6jRDIGdi2XX0hzIxMAHts+wHseuoxHL9ts4f4wtV2oxm+pBIaeDk82kxiYBef+z3NM2aal39Gspt/FKt8z6y8XXaiy/x9f1wycG6PIizkvzPx7qs/PMJFhmJkMnH+uMMFSFv1OjONrnYJOpQmzv/m7mFAMFSBj23gu4Q3K/jArZH0eDDPlznY3xpmA5Q1xZUTSTOBdD17Cox4RcFO+iDcFvr5rbiSqqoxwX1vrRnjzex/FHXfdU1qJYZhpwfSimK+wrnXfw8ABzSSahLAZOO7r4+wJeJPrniMmsioP7XnIkDZj3gzciwB8SAjxESHEAMCvA3iF+QUhxBWhZ7AN6Dm19thlIs3kfoRjMXpJhMv7I6RC4KlnNgtaZmc2u0gzGX8hFe61cVVwocZswOnA8SQqpvsDRQOOJwyTabMMOENGJPLs2Bl9jwH3cSWIan/3ysEIG93EYgA2ejLGaX+Y2gycEwPHsYKc5ADoBcudaPjaNrqJGoDm4meW2ClDKQPHIsI8sPM29EvKvgzTDO97dBv3P7KNdz1wUe4STQPOkIcwM41jIst43N4f4t6PX7ACgscFx65wu30Tzx133YM/vv9RJRNQlh3IRey7sY7zcXfsHz63g3c/eMlyRfGi0clj4Hgn6/axp1+9hauP9RE5zNMoldfgGu+um8bMdnThMnBfc/tNALTrWN8XUbiuC7sDh4GrNuDMMfv0q7Zw8+kNtUC4oQ4ff3JX1ZYFqpMYOBzBNOCICBvdGJf3h3jPQ5dA0IYSx8CV6WlRLhgM+PUV+bNRarpQ7WvfG0qX73o3Vgycej6ODhzXAu7Eup8BzUVb68Abwo5B5xBVM3AmK39iXcp/XN73s3D2aYrndBm4/aE24LZytvNgmBaSBtiAIQLecO8DxUoDzuYP0Nc0TGWc3aW9YoKMKSCustAz+XvvfvCS0p20lQq8l55vonIDrhMXJFDcuzFKpQFnsq7qPuX/suG4P0wtI1W685tJFLkyIp1E/j0OQzZy1lnexCZGWMH+MHPIkGDAXQfgAeP1g/l7Fojoy4jo/QB+H5KFa3zssqC1iOTD5wn0hpNr1i6UYbJxJ/KBzgOzjIE7WWDgPAac40IdOWKcbpyBfj8rzUIF5A7MMgyFwEMX9vJz2Ivq/jCzFhxAF9reOUiRCiOJIb8OHfRbXOjLDAeTgWPW0/wKL+6diutqGgPHbuy1TqyMTMZglOH+Ry6r2LB3P3RJPkdnF23GG/J7nYQsFyoXCn/QWODHhWmMV5W/cuNAfAzc+R054SdxhJ971YsAeJjQnK15/6PbKqtUsoAyfvLy/hCv+vm3AbB3ziY4VJrPPcwyqyqIivO0XJLVch3cL5VGWf7vFTeJgceAcRI3Bq6sPJDPgFvLK3zwxstNoji13sEDF/bwUP6M9ypcqNynNp055NhaB5f3hnjvQ5ew1o3V8z692ZMSMr1yQVTuy14GLr+OQZoZLn/7O7uDEdY6sv6wZuCQH6eNDACqGgAzM/ybs5IS4ediZusTyrNQs0yWRuLvczHzSyVuVO47kSc2Uf0e+V2oHGO3P8xUIopyoeai1rGHIS+4UNUmxnZPb++PCkaLmf3OEkyZELi8N8TeMMXfPLaNO+66B2//2AXr93ywGbhEPeMyBm6USVe2b9OokhiMOLrIucbIYZ/L4LpQeSMyjnllCvkCeqOeRJF+lqPUmuuDAWeXN2QU7ooQ4neEEM8E8KUAfmCcY4noW/LYuXvPnTs3TVvHgls14PRmN4/h6nu/bxpwLMkwSDOvnIc24LrWe0pSwYyBcxg4vUhppsJ0d2kDDqUxcAAKBYcHI+1iMadKteA4C0i/I+P2eFE8ZiQxADrBgX/DHKDuIs5QMXDGImHFUbE+VBMGztmGMpOgDTi9E3WTGJ64coD9YYZnXrOFJCLc//ClgiH+Oc+8Cqfy58wB1gS7kDKgJ3hT1X1cZEL3oYjsyfQj53YUU5YKoYSie4mfgTu/I7/biUglZLhMqBByIdzsJXjwgnSrc3+KSCZvqIoFJSwvv61iqPIYOPfZWwycEOo5VU38LlOtkhiMMWF+DgAXdoa4vDdSk06VEQzAu/lxGThma3jsP355H0LIDU+/xIW6czCSpcccY+tYv6MYON4cAfKeP++GE7i6QpbGzb6z2mxUamC4Ejd7gwzr3QR9Q0CVMwH5efDGkVmgbsJMXHnizu4gxbsevIjHt5uzz75qLURUGlfKcwJvtKOIcKzfwaUSBo77SJzHBrpQDFz+82YSAyfp7I9SVXtUCL3JjXLDz92YyiD9Yn/iW8bzRya0QLD+jvyMDeYoIqRCKEPEHPvcZaskcvS8p2V+2BPzBc++xv5+LufiUxbgLq0zWVOLZQTkHFBnI3FtUvNQpZU6NgOn+wz3nyQ23OHDzJrr3WS7NmLeBtyDAG4wXl8P4OGyLwsh/jeApxLRmabHCiFeL4S4TQhx29mzZ2fT6gbQE4l8+sfXOrjlzEbpgsXVGNY6uujwcJTli6rjQo003a/fsxk4jiG4cjDyZqGaMBdqs5h9UhEr5sbAWfUjjZ9wJQ8YRFIgmKUZ2IXK18oTC2eRmregzIWqGLjcsOglsZeBq2IWucMXhHyZgWMXasw70aIrmStGHFvrYL0b4/6HL+fP0bwG7fLmRYRIThxmPBBP5lcaZHqWQWocadcv36eDUYpzVw4s3cDYMPR8RgozcDILMkYn9uyuISe+42sdKWCdx6ZxcDCg76c7aTPI+d4wlTGZifPsTWbFZJO9i6vxPfNf14XqMqMA8K4HL+KjT+yoMVG2+86MBd4FPwOTJSSys0jZUForYeD2R9K4c+eRrX6C9z2yjYu7Q2VY698tZpea4GvyM3C2IHY3Lta/3RvKqhB9g4FjoVrz+XFbzm72cGq9oxKa4oi8LtQr+0PsDzP834+eL227C9fzATADV2KUqDnBrAFbLi7MpymrBsMxcMrtNko9DFxqSe/Imrxprh9XNFpchsnVtjMTBLadjR6POy1DpV2ogJ5nMyGU0VKWxJAa88haJy7UMbVjqUWuOUp5JrN7P+V3d0ti4MzrrIKaR6z7Q0pTsymkkK9+3c3dsElEFgPnaqq2HfM24N4G4GlEdAsRdQG8EsAbzS8Q0SdR3vuI6AUAugCebHLsMmEVVG4A3tUy1Q3k9QlFcTHY7MXodyJrJ+wacNfkAqI/8gfvx1s/oidAn1SCubs2F68yGRGgGAO3b51Dn/zKQaqyzVxsdGMdH2LowAF6YmGRSB8D53pFNAPHBpwtBjvy7M5dKB24AgNnLwxsSPQ7MR65tGfLEqRa0229m+D9j25biQR8Hl1jkhk4+f7QmBi4/dsljEATSMNM/s0TuDxnnvE8KibM+OQrACkybMpNbPSSwoTPx/UM9xi7kNlg40WnzJZ+1affAkAHtw/TDJ1IH6/7un2d1S5U+a8rQaJdqDl7x5sYg7UZpplKpAAqMvUMQ8VFgYHLF3s+56W9oWIkeBNHzrW4AduMY2sdlQXubpbqoNzmlQxcLhWy3ikYQ7sDWRar14kMnTP5fZNBBWS/uvXsBk5v6rmrUyIlwvPSfQ9fLnz2wPldPHB+t3DcyMOyV8XA+Qw+jkH2PWN+LyZ/iTN+VvyMDoaZyuY2kxhMl+HeILUYuEJsr/PM+U/FwBntdOeJzJnHeWPGz0kxcJlQz78siYENMkBuXJULNV8HfLIhSRQhjopGP79icmFvkOJLnvsUS+bGZZ99UCE2Ttdd68b4ok+9tvJY69pSPwPXiSP85Nd8mvotk6goC6NoE+ZqwAkhRgBeA+DNAN4H4A1CiPuI6NVE9Or8a/8PgPcS0Tshs07vEBLeY+fZ3nFgCr82wdnNHo6vdXB6s6tKwPAgcxeDE+tdPPf6E1ZgMrtQuRoBBy9nwi7h5QvyZiPKdAtUyYgA0kgyO/PBMFULtsXAHYxKF5R1433FwOWTDRsXvKP/11+iE4z5O25qOr8yE0fMtgzVpFLBwOUfFRcGXoAIJ9Y7yuCUO1H7HMORFhJd78a5flBm3U+zRBH3Fc6wZTkMoMgSTYJUaCkaNvTvuOsefEMeh8YLpeki8clXALLUlclWbHSTogs1N0y6RjYr9yc2YvnaX/sln+ItOK1ca0oINrMZOGXAGWylMJMYPIsrJ404IsCy2HzR+DONzFFqx0qNk8TA0MfqOFQyvstxSQCUC/UFN53ErWd1HWKuPuLqFx4zZHjWO/UFwK12cRKDh4Fj4XDuI2UGXD+PgTswYpoAfa/5mskT+dKN/WK+/Jv3OwacEAIPX9rHw5f28c4HLlpZvMrz4dz/shg4ZfAZfZqfx9+/6y0FyQnTheqvxGDHwO0Pdca1cqHmDByHUEgDTroQvS5U4U8oc2PgCMU4uEFqe1KYged5lUNYzL5dysAZa0K/ExdqbZv3mNvUYQauLAZuIHXx9kdavJrRxIXKa6TLMJs1fJsgczwkOgaOlKzSwShzGLjgQoUQ4k1CiKcLIZ4qhPh3+XuvE0K8Lv/7R4QQnyKEeJ4Q4nYhxF9UHdsWsG5VlevCRBJHeOY1Wzi+1pG78piUgVTFhDEUKyXkQLs6j7VLM2EtsGYMHB/DE4ysMqAXt8oYuK4dA7c/ynDLGbnQcLizEAIHo0yJkrrYMAKxTRkRwKyXaS9ogHa7ueOHL7NjBGW7DBwH0pehLAt1pIws4BlXbykDea0bFVyNLHQLwHJnWVlOniLhfG0CRkmi/KNpXKjmszSDpPl3D0aywLgQuq+V7X6ZgWNs9hJvgDLBZuAyIfDiW0/jn37e0wEYWmAlxgb/hjJy891/PQNnJ+nYDZP/qOs3x4XQ57z9qaetzzuxFhV2DUgXOgauPCHA1JsjMiop7A9Vf9eF6iMrfouPccHGwdOu3qrs3z4cX+viTL5x9CGJIi3Wu94tGOz7Q4OBG0k9MmZl2AAfGgyci04cqTKANpOdG3CP2AYcy7lcfayHbhJZum3DVFhGsfxNf3UXoMisAyiVKQIMBq40Bk4UKjG4LtTdwQj7wwynN+QcsjscqbrAkcdoObbWwd/5lKvV6ze8+iVWKAS3c7MnK5mY5Z6uHKRWTGRE8nnxI1Qu1EYMnJOFmm80zQ0gwyQwvDFw+b+7gxTDPMPZTe4r20Sa0CE2rgFnu+U/8Oi2Yqj912brrfLmsxNHau2RDJxhpB51Bu4wwyznMgm6sS7R1ITFU+n+mRwMZzZ7UrRVyBgkroKgFjjjmMEoUwHiJgNXFQNXcKEOU9x0et1yvfGkXSZHspYXrwc0A8ffNal1ANbujG9rMXg+XzxV5q+ThZqJ2mdSy8A53+8nsaVervX/9E6VJwPTEJe7Untxi0h/xy1tMw0DN8o0+xcZrnaegDKhr9dyoXrOdX5nYLmn1nux34AjvYtlF+pmL1G7Wb72MuOeJ1PF4KQZOlE5Ayd36wYDV8KOyN8uGs5m5rP7r7m4c/8xN0Kmcd0oBo4n/nyx/41vfQm6SYTLe6MCAydjDO0QB99o+pP7HwMAfOp1xzyfVuPEegdPPbtZ+nkSkxpHJ9c7lmsZ0C7UfhJjMMrwFa+7R2cPj/TzA/xJK7GHoQF0nzy3fWCNR64nu5EnTphMCMvN8O/cfefteMrxfqnBPUztfm/+7TXg8uf72c+8SsUtm9AMnHztS2L4kT94PwCZ2AbIOe5gmOKLnnMtXnTL6cKGcH+YFmRgzHvG/x5bk3Mou1EP1LgzNr9ElhFyaU9qcQpot7MvNp+zdfnerHeljIh5i8z7ZUo2sbKAuSHkv/cGaaHPM5q5UP2hGG4s8e4gxbntg9LzpZkt1dLvxHjG1Zs4vdFVG1FZCzXEwB0JmLsVE67rowwmQ/Nvv/TZ6riyY/WkkyETwGY/wUZXxieZOmtmDJxpwG31O3jaVZt47vUn8vZXx8CZWai8C7v59EYesyN/g3dAZfZnRKR2XcqAM7K3AB1bZy70UckOmV9pF2pcUPMvM4b53uosVLceoX8B4vabrE4mTMFfwjPycmnmIpFEMjNOuu7yiYZ0liVn7/J5p8pCNTKK2UjnxAIGG4zKgIPfCHpyZ2C5pzZ75S7UKJJVSHgh2ejF6n6xEeNO2gw2wodZZkk9KBdspu93EpF05ZoxcBV7d9eAle9lajEaOZ+/5KlndLucxf3S3hD3PXwZD+S7+3Fi4DKhGalj/Q4u7Q0LjHOSs1MMUeJO49/71OuOl173pDDHzEkPA7c3SLHW0cXS7RqYOoYR8M8FvgU+zWSlDt54molY53elASc3nZFjOGSFe19mIHJbufC9+X1ugwt+Zt3YNhwZbGBzID3XtgZ0DByHcrABuDdIsT+Sbui1blww4A6MrGRGEmlXKxv43/nyT0YnJlzK5wreWJghLKaR0okJl/aGFqsYkT/D2qxlDLAOnP1d67kbCWO8cbH1RiUkG1ncpAPjMXD/4vOfab3vZvMLyLmhzJORGuEjvBacWO8iikgZofvD1CuK32YEA25CZKLaVVcHkyli46YKPEh4t7fVS7CRu7cyoc9hLnC84xL5byRGhlmtC9Vg4AapTLa46fRGHiQrv8M7IF/cC4PpfZ7ceHFSCt2D4u5Mu4v9DJzS3uu4OnDFEjs+RORn4Hz2rFI3z7/OjIP5/D7lKZIVMfsDtyMTRoC38R2lE2XEaU0KczPBRnmWCaSpuUOV5//uL/zk3JCF+p46T5rh0t7QYmblJsH+PZMlknpyUuvPLKjN/bDMgDPlJbTUg2bgTC23KJKSJmmmmZ6qJAZtQOkvmc/bZeDOGMlCicPA8XVcVhU3yg0V7rfmQqcMuLUEl/eHKmmH71MnInX9gIzz9PVDfibPnrMBd2ytUzCGdgcjq/qJubAxuzw0+rgL3lSYz+zc9gEEtNYlbzDuuOsefNdvvVu2y2B3GGnmLz3osoa6fUVPSZUBx8k4fm2z/Brzi5Rsl8nA5XNw3kfZgLtyMMIwFegnMfpJZI2nNJO1h12mOqYiA9eJCCfW5EYgEwI7ByMQ2dUvdEUW2ccu7w2VcfZtL3uqNNBLrlveG9mOvrMRA+ykH51MQpZ3SN8s+c/uQBtF7jWWbSJNMAPnHltMBpP/XijR96tb7/qdPJbZqK0dXKiHGGWujqbgNGZAGzdV4AmcJ4uNXiIXNSEXO97JqsEp7Il5q58gjsgq4cUToY/5Y/kM1q0CUHCh1jFwAJQ2Xs9xM+4qBs5jwJUxcPlL3k1346iwQ6wqo8WIqJgVN8pja1zwQsu/w9dsLgrPyg04y4XKDFOq9fOIYBSIt5Xat6eKgdOGoYohE7aAMy+QbOgTFSddnvxMI3jDFwMHvYj18tqnQgCbXYOlye9T3xM4D+j7N0qFs5t3GLjUYOCMa2IdMrtdtmFmGhrm83YXRtNV9u2f+zTrM5XwkOpjXEaHoRcyjm8UanNzrC+FeF02wkx2kb8nvBuik+td3HByDc/JGfRZgp93RHJhdIPcuXIEP1szZs/VgfuFb3xx4fw+w5ZFjde7MW44tWbpm7n9wWb8dL1OnrNqGThnTtAyRcXvc0KBazgCZjY5jzXpxtQxcCzQLr/HLlSO4et1ogIDV8ZOxXExFCKOSMYoZgLb+yMV/2Zl8PO4TGIkcYTLe0NlMK51YyskwoxJdPUNuT3m5sJl4AhQxq55fwA7Bo7n+CIDV+9CZQbOdTG7LlQ+z/mdgfecbJiXod+JPAxc+w248fLRAxTYjTQpxmfg5G+x/MVGL8ZGL1E7WU4S4EF09lgPL7zpFP77ux6WLtZeB1GkdzRNdiRCAF/xunvUBHXDyXWrRBS/X3UfNvsJNo0yWfxVZt6qkhiqDAdATohWFmpaXV2CQeSrhep/nq4LlQ1gU5KB3Vqm8Wi601QcF0jF9+0oaQv5ejoZEZOB4/eMBYc8Blx+7CjL0M33cawXZ7tQY28sIi9i3STG+XyB2ugV3Wz8mhdbXjAsA1ep60eqzqTpso6JsNFLcH5nUDC+TFxzrI+PPbnrTYAwn7dbU9iU61Hiy4rJ5vtktKekjylDxbAMuEsdX+vgopGFutZlIVEniUHYfdy8b085sVY5ZutQFp7BfYclIcx7+xWvewv2h1leicHWuTP/HhpGV9n5TcPhySt5ybYkws1nNvC/PqhF2EcOIyuEnCf6HWl8xB37NxInjtDEMC1mP9a5UKNIzkFuHzM3YoDcCB4YpbQ4Bo7bfyY34C7kLuF+Imvmph4DzmWqYypW3mHtRSJ5zt3BSCVbMXju7Hfkvbu0N1Rz2EZXht34wjVSJzRAMelOGIJ5LzgW0Ze5zUaUxcBNksRQysA5LtScsJCZpJmSmjLbG1ds7ntJrGLgONGkrE+1CcGAmxDTMHB333k7/vC9j+DVv/wOAFDsWRXMeDZALsQb3URNnG4MnBRl1DvJrX6Cg1GGUcaaPhm6SfnvrhuGCw+UM1tyqef550AZcI0vXS3QbFCwS8lkapQb0Gs4aEghX/kdHUfVxIVKBSHfYZrVMHD6e4CuxwcAz7/xJJ55zZbKQgPsIH0zQ89N4phFDJxZSktl8Aqh4j7ifGIDNEvAz8ycdJ/MRXz/7Zc+W8WFsQ6cFaBsHN8znttmL2kcA8eZxKNMFNTyTUYlzSfe9W6sEnj4fRepYfTJ75QwcI70xekNXfGExbNV1QbBLEhu9KXlBhwvZGYcKn+TddzYgOupSgVOEgP846lJXO0k3zXbHUdkueCjSIdLrBsMnCna6urA+ZKIfAwc98duEuNTnnIcb77vMbWp5EzTiGwJln4nLmXUqrJQO/2iexIoz0KN6xi4/OeJbCHftW6s2g9oZpdj+vqdWG2MuV/5YoD5mlRfV4kzsmzV8X4H57YPkImiJiDPA/2OTCA7vzNQRt56N8Z6t5iUBNguUb4WwK6g4Wah8hznc6HyX3sDnbiz5mzmnvPaN3tlRM5tH6js2f1hGQOn73OWSUrh5EYX57YPcGF3gPXumvX9TFQzcDLDWmahbvYSXN4flVb3aBOCC3VCCFHtOqzD2S0pAxJRM6ODO59yoXZlDBwPMGbgTIYiMUoTbfYTSzG7SQwcIN0M0kCQorU3nl7HC28+BcAMXB7vRkREWkZklEotIeMexLF/gs2E/VumC9WME6kDkV/I9/Rmt7D46Rg4Zh2FlU3KYHkYBhsjwyyzJv6f+GopGskuVDMGzpVZaIosE3Bj4DjgX1ZUKLK9zKCZO2xm4Fj+AJALhEBRbJav1FT33+ybMXA689kHLwNnaNnpAG458W72EssI8+mKMYugGTZ9vQdq3MQFI7Br1GBlFkWL/sL67qhi3BQqMUDHVR7rJ7i8N1Q6aqaMSBMX6jxh3neXTeHxZcXAOQLI8vuZZXCZ0EHutkHNG8xnXStDEHhTY2aamhIsnLDlKz3oM0rMagF2e8oNuDR3ofrEabWBkm+W8oxPZYzGEfqJfp4sZsxZtZzEAOgNYSkDF3kYuLzdJ9Y76nh3828acGzY8jNa60qvjTeJISth4IzfdrNQ+b7qzaoxJvOv7hpuyaYu1O39IS7sDnDHXffgR//oA/n1FBk4Zj55A9hLImx0Y0t2RrU3LSa/mOjnGod7w7TgzWozAgM3IaZ1ofKuqKlLJIpIGh75ZLHZT7DZi9UA0wycbaCphanfwc7ByNrVVReztxk4NrBM6nowAQPH17JnuFB97gP+bRMuO2G6UJUuUUMGzpfE4NP28rlQO7mrrwpmZpYS8oUuA7bjMHDTyYho94CuYiFUH3BZMsBk4PR9YAPu5Ean8H2XkfIxcNKFqpM3NhI/+wYYBm6q749i4Mhh4CLCei9RE3Y3ibwBxpp5y19nGY6vdbC9P1LHnljvFtywsRGIrbSy+LZw/zIMmnI9NR8Dpw3Dy/tDxTyrJIbYTmKYdmM4CcwM5sgZe3wtzB4BBlsTmWLVonTs+bT1DtJM9Z2nXS0lTvaHGbb6bPxroxKQchg8RuKoyFb5GDi9qXOC53MvQBkDJwu0Fz93GTg3iaGba4rtDnkj1M3dndKg6HeiQkwtz4M+GRFfDBwg4yE/9uRuYWzL78h/+0mEfSdud6OX5Axc4bKLMXBdm23d6ieFGDge6/4YOD0GLqrrb+ZCFZDzh6yDKr/h6kl2k0iFofD9j0i28/FcTsScozNRXGvNzXq/Eykh31N5DXLfJrFtCAbchJg2ieHsmAYcIAcXD8bNPAuVsdWzs1DZIOHzb/UTnNuOLJdHXQwcICe0YSoUs2XufAYTMnCxycD5DDhPLBFQZCfMUlpal6gBAwdfFqpWNDcHtslEAvKaeXGpclWZDJOe+EkZRDsHqXL7ArpawCSbAjNA101ikIXR5TWYbK8y4DwM3Ml17VLccJJjtF5ebvBYxqHUCmOUifgCZhJDVihQ7rIPSUSW1tXZzZ4KbrbvA/+bb2KEXFQ3jHq2ZqWBzFi0+Hnp+Etm4GwXajUDx+yVzpQ1ZUSGqbDcaYDsJ1rbTpS6UOcJzaQUMwo1A6eNc3YtHVvrKMOWS6H54HOhDkZaDJvLAvKY5CLpsk3yO5f3hsqtVmTgokK9Yj6PeX1um0pj4EjXMjbHJD/Xb/6MW/F773pYieayLmQUkXKRynsWY60T454PPwlAGmmuAcf92BW5TaKikK/aZCRRXpKxmEwjN5fyfPxslIu3E8us8koGLlLfBfSz3uwnDgOXIYkS3H3n7RBC4NbvfpMTA6fPzfNKgYFzvsfg04yM+dFNhmKZJrONXH87EwcybtO4p2WyX4x+J8Y7P3ERu8MUN+YJUoGBO8TgydkNzm4KpribluICYMVXbPYSiz53Y+CYMk4MAy6J7YWxiQtViqdqo6XrY+AaX4FERGYlhmIKvdKBK8TAOQycUcxe1UH1sGjF3/czcL77sea4UIdphvVu85hFKwYO0uiMSCYx8D3geI5UAMkEi7fJployIplApxPpDGDj+spcqMfXOlYcE1fTcN05/BxkMWioeBxmioUoF/GVx2ljwDW+XQMuisi652e2evj4kzuFc2rWKL8vWYYoImz2E5XleGK9g/M70hBQDFxEUqSWsoIBI4zFBKiJgXMZOOjYxOO5a/bxyweWy9Y0FMyFaJEwXahuAhGTg9KFarvVjvUTbdhWSPh4GThDA66XxEpPEJAuMX7efJ9+8PfvtzJ3TZQzcMWMcfMYX0WCTAhr3syEmRhkG1LsQjWN0Z7R51lWh9n2XidSgfx8X5VMhmOgmEkUquSbcd3PuGbLO++e3uhiq9+xJHkGeb/aMKSnXLgMnMu2bvVseRlz/eBEBvPzm89sqBq3T7ILuVtkQv31ZvXY53nX3eSbniAVygNdGWdnMLIMOJ5HysBkQJZpTdUQA3eIMa0LFdBClU1hGnuSDjcNuDwGzpQ7MGKQtvodq2xPVTYdACtWY5jqeIdOoo3ISRm4KCIjiSEtzRIr6I/BNuCY/RFC6DqoTRg4KmahciUAFzzpKBmRUYYmUiW8mJmB90Ry0troJtgZjNQ90Or/ejGsS69nyAQDvXM2GThmr7o+A87jQn1yZ2AF9AOagXOZTh3Irc/Pmn9mHE4ZVCmtTDNw2pCI1OLKLKLJNp/d7PpdqM6Cp9k7k6nuFLJQkyjCzafX8bSrNrUL0TXgLBkR/5h1mSbbhSrb8Pj2vmXYdoxjdD3RxUIZ/4bh4gbQSxkRO9bp2FrHKoVWNi6I5DWZbvE0E5b7r5tESlzbYuCMeFjXyDDb78sYrMqMLWPg0oxj4IpGp+nKvPvO2/Hpn3QGByOZhcpjwGKgEykbYib0uAxcWQxcEpER01m8DlNyxwSRdqvqxDf5G+ssI+KZW/iZmpUYAJeBK0+2iSOydCfN+/Zbb38AQHMGztRz5L9dV3EnMTxBhhrCWicGkY4xNttTx8ClOQNekORqMYIBNyGmdaECwE2n1nHdiX6j79595+14wU0yeYCZHLMO56abhZp3WGZktjiJwVncyqBch5nMEuzMMgaOyKjE4HOhyn+r5CsAPagzoSegOkbz7jtvx6fddLLAwJUxkn1jwk1zSr/bIM5OL8yZXpjzG7XRS7B7kKqgbR13JdnOv37gotq11kGzSPK1KSPCqvV6QtftJud4ADh/ZaBkNBgFF6qK5ys+B574+DZWMnAeHTidhWokJIhcyNfYTZ/d6vmTGBy3Hy/Gm0YdXpMpMBm4JI4s1sKt+GBqu5UzcPlzZJcobBcqADx2+cBiBkzh4KUxcHkMYD+JigwcG3CdIgO31U9U/N7IyEp0QWQL4+oMVP19rScoDbWOE9M5yopMLcPV0mOoOcHHwFGZC7XcgEud3+91IjxwYQ9/8J5H1fyo4sKIcpeejlPue1yoWqjWngMjImsTY96LpoiVASePl0H+iZUFyyiPgcufdS9xkm3seT9x5GdGmY6R48118RrLSuLp6+aYU/cZdo0KJmzI8QZ5vatZT9lWUUiAc9HvaENbi+KHGLhDiVnFqpxY79Z/yQDLVMQRWfFUgB0Dx5NgHEVqstns2S7UUVpNKZuSAayxA+QxcKPizmcc6YKYtIyILwbOZUEYRReqZse4jFaTxa+X13Q0MUz9DIJ2oaIQq1UFM47PrMQAyESGK14GTuBAyJJPVw5G3lqMLnRtTo5t4wDtLA/cjZSBaDNwtgv1jrvuwbsfvITPeNoZ8/SF3ajLwAHIY+xGytiLiTCEsNgIF9q9ow1cnqQTg4FTQr5GXzcTEUy4+m9pzkLz2DBldeTnRaPfzYD2MXD1MXD2sYDObn3s8r5lJOtkDs1EjjuvjCsb4iIiwnNvOK7kMwDThSr/XTcYuGGegNBLYhWXNkqFJa3jwrzvAyXOajNwF/eGhiHB4sI64SB1WCJ17thvjLHh4IvNiyPC0JES4oU+jlxRZttwVdUKuOA7hDJueS5jW9ZknfqdSOn/cR/VdUKdGK/Yl4U6Ht9ijrHIMG6APOzC6GhlWajDTLKL3SQqtMfcxJnx2QByV2QH+8OD3LinwrxZ7kLVbcqEKLBvAIedOC5U3iB3Ezx5ZWC5Ys374YOsuZuzjbyWroALNRhwE0AvYuPNtNNOtLwIsOFlJTH0tfwBz2U2A9exAj/rGDge6Lxb9sXAVdU/rIKZhbo3zFR8EKMszd+UZQCggvOFsNPa69A16HdGGQPXiSMQpKFkZkHWoWO4UDUDJz/b7CXYPdAGHFflSDOBUT6hmYrgVfC5lSIiFfeSRLpmaWIZcHy8qfOUeRg4O4nDNUYBGd91MEx1fVgnjsYH/q4ZI8gLbWRkAEpXv2abeSFIMzvAnL8LGK5oZuDyccJ1G5Ux5qlr6mqEcQ/UzHW5HEHHNf48MXDb+yNcd0JrVJmxktyeZbhFlPvaiT/l575mxMBlQs4PVhZqJirjT804tYGHgevm8azMzJtjmRm2UeQ3ZHySH4DcfEak+6MZr+xzoerC6ZqBc8teyd/P+3eiC74rFyrH6ZHNZPFn/YYuVJMhnIaB43jU2FkzsgxWR1MZu7F9HUJIY868X76NBv+OeT6ZOHeAYSoK7lOgeRKDbx5JKjxBG70Yj28LtXaZ2eZlMLOAN3u2IHObEQy4CeBbxBYBdsPw5OBLYjANhjgi9HJBx6ec6Nu1UPOFsQw84LQBR+pfFQNXUYmhKrnDdKEeDFP0XTXxiiSGyOtCFZUuHBfdJPIwcOVB2LL+q1ClW5rFwPHCnBlJDDq+5N6PXcD3/s578vMZLtT8+fiy6hjndwaqdio/T5NNjSOdpMET961nNqwd8Pd84Sfj63/ubaptHETvGnCbasK3XYnmMz+90bVi56pcqNwvWIl/lNmVGICcgTN2+3Gk4+uSmKy4MfNZaO24/HXufuHwAleg1WUdzL81i2YvomZ8lgtfFirDFHl+4MKuPoZrwmYmA7e4mcUdp2rzZIikAjIL1QzQX+8mdiD5KKvcQFkuVE81Ex7LOw4rrY/NMMpICfyaSCJ/EoNk1cvjFd35hcecacC5Gxw+FtAyRkIIncTgbGLMOOVeUpQRaaYD1yw8xAV7abb3R2pOXXeSkhipe22J+axj6x7zv2ZzXDYtzQRO5nPCKBU4tuYx4GpcqJKMEF4Drmt4grRMk2bgAF3tRnkpKsaV2bc3jbW07QgxcBNg6FnEFgEOhHZ3U4CdhWruFI/1Ezz/xhO49vgaktithVre/jWHgfPqwE3KwJGRxJDXWTRhapmZKLhQDc0xdzGvAhdgN1F1P6JIMhHMao3lQs3sJAYAqq4nv69i4IQw2E1hC2MauLg7wLntA9VuwHEDegy4E+tdq7+oeC3HmKmLgeN/X/M5n1R67bxYVMmIcH8aproSQ1kWqmTgmEWLrPg5EyNnweMwgU3DhRp7YuDcewcYSQx8bjZomsTAGS5U/uqWUe/YjMVRxqihh7doGRETyoAT+noBjoHT/X6tGzvxhNUbKNNwHuaJQOb8yQzWbr7o2gH7kRpHHD7ittk3VkYVY5r7mBkLxjGpUVQTA2cwcCJ/v1fGwHVsBs7VleT5teBCNTYxPqa4KZj5VWtG19Z1ZJj1ZwEdisHXEFvtKcbBumzaKMvUpiUVJQxcjQuVGbhyF6p9D1V7u5K04M1AEwbTDPfYOowuVCJ6KYCnCSF+jojOAtgUQnx0fk1rLxQDt+CJdqtvD8Z1h54HbBaHJzs2bKxdVI0yNQ8aNnSUDlwyfRJDHEnDTQghY+A8IpZAcZLJYMdtsOEjcsNno4G8Bx934DJwmcB6FQOXCRyMUhCa7YTNYu2mkC+gC8TzJN5J9MJvMoN7wxRbnjYJFF17JgMXEWGYZ/SVis4aDCGg44W4ALd7HRnYfVI/Gaos1AZCviOjEkPHcONZBhzBMOB0fx5mGdZgy7zwMfxvN4nU5kbHwOmEBPdaeOF149h0xYGKGDinioGA3nF0c/Zlb5haTEDiYV+XaL8Zhot9j/odKV7NrIlkZbQ7uiyGVJ83wijLhVfTrJAI5DJwRRdqVhomUcbAsbSJL3RFi4Xr9zhsISZ/eSjXEGCji/uZ+R6PR9eFyv1Iy4ikIComRllhBGw4Ntygmji+1sGDF/Y0A9crjhfzN2JnHsmEkMZ6pBPghp71j8gW5TWroADFDFSgWRZqJoR3I9iJo9L2RERY68aagWtiwBm/salkRA6JC5WIvh/AbQCeAeDnAHQA/DKAT59f09oLd0FeFMwkBkC7t2KyS+Ckzm6Kwbs6IfRu1oQ50fEObOi4t0zqWjFwY94Jnkxk8WAtuMi//+FzVwB4YuCEk/1oadXJyb1JnGHP40I1C8L72jtMM1zcS3FivdOIeeV7a5fSYuY0VlmtgO1CHeQuulEmrLIuJswsMl4IXBZJGH/74C5QbMid2igmTpgTrdtmHyJngfP/vg6I19mCmoFzmR3OQjWlcaxC26K40LJUjsXAWZsYHie6nVHEuna2AWczgtX31GTgzG8eX+tgLy+WzTCTGKpCEhYF14WcZlAB8IDOjlzrxFYguRTCro6B00kMwsM4SeOQjSjzmSQRYX8okJTEH5ZJggxTgbVuOQMnr08fp1yoka5I4WfgbLYtFdqA41gqd5NN+XtuDNzeQG5g3WeeRBH20iKD1FR3lL/3VT/11vxY+X4pA+cxEnmsrHVixGYCXFbcuBPsslhpllkhPm4hez5eAIVYVl1/WK5VPgZOxsDl+omKgdPnWO/GuLw3sq+t0oDTv+FqqrYZTV2oXwbg7wLYAQAhxMMAtubVqLZjGbEqgE5i4DHGrEQU2e4bHbRZnCSB3MgT1S5UQA+IiPSE5I+BG+86+Lx7ee25njOZlxWbLstCPbc9gIDNSFaBkxjMCacqtimKgMv7sgyZGYBeBWaTUkOo1nKhGgwcGxnMwG32Eyl2XJLIIIQw3AzFzDzzMn7yH3ya16jVOnX2LvaUJzNasi7MtPgzAU3oGLiGpbSUUagNuMwwUKPIZuDctgN2XzFlRGIzBi4qiYGrKI5uShoADWPg8nskYPdXDoEw2VJVRzIr9pNlwDVsWFaDwU1fz12opsu/aj5JIkImdDKQmwhEROjGEQTs+YbbJCV2/Bp8PgZOyrJklTFw5nUCdhKDqT/HcCs7aF08HQOnslDz5q+p1/INM24XYBmlYhtNId9Js1AB7UKNjM0jUMXAGZsZIxHD9t4wU6yfkS+JwYz/c4WKzePdeZ5HdZoJZJl/I9g15o+BJ/SA2UPzWquFfM0khtWJgWvqQh0IIQQRCQAgoo05tqn1aJLEMG3GqQ/HHBeq1t3S8QpmzFWBgTOYniomgSEHsB0I7OrAEcY3ZHkg7RyMMBhl5S5U14BzxJN5ETh35QAb3bggQluGbhypzNWOwVyWuSh4Ijux1rHiyKqgGdGs0F/WewkyYUyahNyAyzBIZexIvxNjb+in8NmFykyqPIe94DGOrRUZPED3DTMrGZCVClzIWBVY3+vE5WyAFvItX3C4ULm8P3ams8vArSeJTmKIIitujGEttMbCZwr5SgYuMs7tHycmo+PKiFQJYBerONi6hTx+I8+zMmVExhXGniXczZM7T/CcwEkMOqM3qxwbbCQPR5KR9mkp9hIZ2uAaKmw8xJlAv+Nj4IpZqI9v70OgGNNpnhOwmSgOF5EGpDasGYUYOCNsxXWhKjmOri0romV+5Ov9YeZ1L5qufp97k1G3zrhrxnodA+fZCKosVOUuL8lCNc6X5WNPstnFUmHm8XLu1e9blRiEgFsnFtBzhS2/4xiUFdfmwsfArUIMXFOT/g1EdBeAE0T0zQD+BMBPza9Z7YaKO1rwPHvcSWIwJwteEFNDOLagl2QsFlWxPAyedEzDRsYeiLxGajYRW8Cnu5DXhXQHNxt4hWL2jkvKpNZvPrPR2JDkydZ0o1ZlsfKi9pSGosuAbSCNMnmf3vDqlwDQ5amGqVDik5v9BIM0L3/F8VKlDFzeZtNYN10fxn3YKllUXYaB77VPIiUi+zcBe6de/H7ePyti4LgNZoxgYhhwKqNUyNfH1zu48dQaTm92vUkM5oKUGcZHROSJgePP/ePEjMHTi4BeTOt04CwXqsXAsQGn39OxgMVYyWWgqIMnCswGIMdsJ460kG9WzcBxn9wdsnSOh1VhwWkPIwrIkA2/1I+OzwJkX37k0j62+na5Qd85TcPvYKgNgcQzBw2d/sLzj4CWNOo7jJtyoVospmaHfDqY/B1TzxAYPwsVAI6vOwwcG3DO3tA3Fsw4Pl8WqmUwwRYH5vXF1ZUzwYe7sWZuEoNvI2jGGKti9ua5DZeuytSvWB/MZ7DeTUB0SGRESD6luwE8E8BlyDi47xNC/PGc29Za+BTT58G4uXB38Kxwzq+ZuShn4LRRYWoDlYEnXVPfiSfZYSZjdiZhC/iYC7tSBNSl1zULYB/nLog8OV+11SudqH3oGQYch3xVMXDH1mThaF88Whnc4HTzHjJTMUwzSxLmgfNSXqIbR0BXlrbyGQxCJRRk3t05T7xxRKVuAzMGTZ5TwudyMifDJhUv+FKrXKiA7FcDQ2alE5n9uKi7du3xtbyNeT82F+0yBi4mpesUk64IwGLX/L4Jm4Hje60XrzLjNXFYGyLgyz/tevW5684CTFe2Ifi8RAvOp4NX6kKNtA7cYKRj4Pwue3ngnkcmhOGWgHKPNQXFrTY7MXBPXhlgmArceqZ8w+Uz4Myser5ma5PgxEyawfXKheqUrVtzXKqAHJ9mJQZfkL7JwE2qAwcU+5zKgnUYyzI9Sb4Gk+X0bTRMlh7QGx1mbP1JDMV7DNhxp0T+eYTngEGaGS5Uh4EzzgNUJ4GYRmK/E6PjVJZoK2pXvdx1+rtCiE8DcGSNNhPL0oE7u9XDtcf7lltATjbyb66fVzbgeYJlV0HTGLiOxcBpI3AwIQPHRsW//b37AHhKrORjqaADBzse58ZTsn6lKwRcB94tm2K+VbFNbDiMA4vtTG2NLI5DGab6erb6iVViiJ/d3jAtGKc6M1Koe2S5UNmgr3g4xYB77Rp1QaSz9ZqwAVpGpJrgZwbOLXlkZ6F6GDLP4mvFwDkM3I2n1hGRNjr4s7IYOFMvUZ+fswfrY+DSnKHOnE0SJyGZRrV2By9HB85FXSKGFReVs/Fu+SsfzP4M+KUheFy6xp1pMNdloQoh8PClPax348p5wRdnq12oxYoUgCcL1WCYy4V87frA8m89niQDV7wXZtJAGVPcBCpuOtLtJBTnVn8WKvJraJCFClg+VI6xVveqxoVqwixfF0dUIiNiuFCNWGzePHz6D/+pCjPRunXl98900651comcw5KFCuCtRPRCIcTb5tqaFcHQk4WzCFC+GJlIIr3Yc+Crri3pT2LgYN0qNxifD9ALq3nO4SjDwSibaLHhiYHbWdCBy8/p1YEzXhNRaYxLFbwu1JosunFhZgW77mp2YwwNl5CZct+NI1D+cndQZcDp+Do36NtsQ2X7Ur1QAyUMHOm5mRMOKkVbG7tQpRSAmwGXxKQW0zTLCoaoyx4C5VmoSUS45ngfL7z5lGyb81zk+ezs5YhMgyC/7galtMyqCjxHmPfzWA0DN2y4MZwn2++rherGOgHAeiex4m7rhLT53jAD9+vfcju+/uf+r/WdXokL1c6w9hg7kYxpzTKBJ3cG2B9muPHUeuXc5GXgDENAuZKtzEq7n5qGl6sDx81kF6ptwOkQAZ+MEmBvYsqY4iZQmwYn7tI1TnwZ2SaLKBOL5D326sCRjsuVWfJ2Nq/vGrUBZ7eFH0kmAMrKGDg9B2jm1GiPkSDBbGdV/3SfpRmH22Y0XbE+G9KI+zARvZuI3kNE755nw9qMkceFuizccmYd15+UDBHH99TFwPHiWGev8OE2A2cGj4qJ4gBNiQ0AhSDVsiSGfifGFz3nKeP/oAM24Ewx37oYnnFhZRc6ivCmC5V/0jTSukmEXhIhIuCjT+zgvQ9dUvGCwHgu1DKo56j0vuz3TdjxJPXGP/9sHQPXzaUAtAs1yo+3Fy+XIes4xqdsl/G3IUPgupDN2Kay4PDEiMFzi9n7DEp13ZGUwkgz/3PRIRD6GF8SQysYOJZRgb1Q67goLajMc0FdJQZAMnDH1zqFTdvdd96OH//qF+RtcBk4w+D19Glzs6Tntup76BqqgCkISwZDV16JwTQsCkkMhvtRntO4HpJSLHfcdQ/uf+Syl4FLIl0pQjLJ1VmUZXCFfAE5/1w5KAqZAzYbbcbxmf3Cz8Dp+2lujDSLV56Fao5jV7MtLZERYe1Mc/7wbTRMQqNa95RjFZGXHowKrt02oikD9/K5tmLFMPLEACwLZlwWZ9jVxcAdNGXg8lFgTqgc6zFIMwxGqTW5N4UbX9I0iUHKAkx/17vKley6UGfHwFlCtY5+Fe/KTRfblrG483vPuvYYLuwO8eilfTyRV14A7MxI5ULNj7n7ztvxe+96GP/o1/66csIqBNyjfJIz40lcxXYfmtRCBaDcFK4OnLl4ZZkoMnA1MiKqDJRHKsfMLiyTZ7BkRBzXsc+gtNqWHzv03CdfDJxpjC4rOcoEPzvz+q34LcM1eJC7QzlRx5dZyuD7ngngmmMyNs1lEq8/uYaNbmyx0UBR47B4bt2X+b7X3UPO3DcZNpOBM9lURlkWKqCfY08xcHyfigxcEpPygrBQbqF9kc76lJvLyeYmX5871k/wwIU9S2alKgu134kVy2USBOY99rlDY8M71DSJQTPXehPnL6WlNz7quZWc2yfY7cJ1fa8KA9fIgBNCfJyIngvgM/K3/o8Q4l3za1a7wW6kFhBwFnQWahmzIAerKhjdcJdqMXAJDxyRJzGM305lwPEALU1isAdQVaLBOOiVulBn90BNsdlRKlSsE2CzbXwv+D0zO2+jl2Cjl+DC7sAKEOa/BwYDZ07wZuH3MnQivYMFigkiJkwXqk/w04WWEakx4CKydOC4vVGkg+N9zKhvcbWKjgvD2Co51owVdW9THOkActeFWhUDp48tijQDdTpwWWMX6jyhGErDsLczKOW/651Y18fNXfnVbnX99zXH/ckFvSTGs687Xjy2joFTRud4Yshu8oPFwHkYOndeNZmhbiz7+lPyeFn+TLtQ9e924gjb+1JkVgi/e9GM62si+cRwjeJbz25ivRurOQHQ4Rrb+yMVglKXhZod6DHl80CZBhMpI6h6LiBnHZDHazZ+H+yh8TGUtguV3PZAr1PjyIiouG+Pm7mNaFqJ4dsBfDOA387f+mUier0Q4v+bW8tajFELXB0+yAmpXPiRDTGeqOqzUPk4TwwcD5yae+CL1+Fm8X30FXIGitIQaVZenHoc+GVEZutCNXe2Lmuzbhhwbgycj8Ug2CV/MsNFyJOp+ahZ66mSgVNyEfIevPzZ1+IN9z7g/W5kZqGW9C3r+0qyoCYLNdcUlPFTusalFH01GLgyA87jNuVjyo6NjWO5+kZRBZ/AtiGf1WLgnO+bfZzrdnLf9rlQTWPG1CFsgwvV3Vy51U9Mt9r+SFcKGNTEwHHGfJoJxcA1RVJjwJnGlk9SogxmnBmg50WCfw4qq8QA6DnlGdds4QU3nlDjf81h5ABDiil34/uyUM1M1WnmpuNrHXyqYxRv9KRMxvb+UBlwVVmo691YMYZpidyN6ULl9y0GzpfEkP9rMnAuGw+UxMAleh0ajorJdIoRNDa5TYR8+StmEkmb0dSF+o0AXiyE2AEAIvoRAPcAOJIGXBt2yj4kcc7Alfj8Y4eBaybkW9SBA6TxMxyNHwN39523Y5hmeNr3/oG6j02K2fuCwieFMuBYQiPPVJqlAacZuKwgI7LZLTJwyoDzKZaTXabGTGLwBehq0dvy63GFfKvc03ZKfr2MyLG1BDefXsfzbzxZ+h0Aqhi6y6yaKvReFs3YRDDsWKVyY8vMLixLSIgsBk7fHz6uatwkMcGMAzLv6QtuOolrj/etsAdT064NMiL8HDLTgDPao2OaYnT29XMY1dRCBXSMbhkD5wMbx7d+9+/LkIOSLFRAG5JAs3voMnCD3BAgg4EzNwmFLFQjds0ct+Yc5XOhmm7zTBTLivE1aQYuq3Tbj4uIpLg1s4DyN4prhhnHl0Rclkp7eHwxZzIu2hMDV+FCNZl0fn7mPfTXQpUHD0bymbsZprwJGlaEFJlwa9h2okh5BtqMpqshATCjHlO0z35ZGHy14NqAgg5cQR5hPAauE8tA+o4nBm6YZjhIMzz/xpNjZ8V14sgS3yxUYvBQ601ir5qiG9sMnL5fzYbD3XfeXnvN5qIycgRITYOVby1rlXkZOLJVzhksyAy4Qcpx4T0XphCmbGd52SEiGruY/dXH+o36Fwfvm33MTCLIPJUP/EkM+nO7lJY/IH6UZUhTvzFmiv3edHrD+q06N76uLsH3ydaXuvHUutclaCcxlJ5+7ihUk3BcqKRYmcTKZG6Sxc3XPY4Bp9tlJwfY55WfmQzcZC7UVNV1VqUJLR04e/PikxFxsa5kRPR7phdDCD/DZLZt1ptLQMbB7QzSgjivVRdYGeuJE2foyULN/00zOy7Xl/DB+N4vepb124AeZ6984Q3qPa/kjBEH6xOU57YPR1rYvomQr2LgjE1cm9GUgfs5AH9FRL+Tv/5SAD8zlxatAJTbak4z7aQyAc2zUOtZFEAK5J5Y7xTof0DHwE3KiPU7Ma7kO8C+k6Gkkhh8BtwMGDjOjuTJfhqhzDJYpaIyYbWbtZgE9IK0WcXAwe9CHabCG7tydquHiPy7XgZ/nY8fjMrd04Txitk3RSeKdIygcd0xVTNwphHG8NWslAac/ZtmBYpSBo5MDS57gfO5Zd22mWOwlpWyXKjM7C/PguM5jftYmQ7ceq4DB+gs1E7N+FEG3JguVD42FkV3N+Bn4JoM5TgiK5FpYLjifC5UNU/kzyyKSI3jXsl44DFIVJxDB6ncFvnGaez0wVnOTQAnTe3jyv5Q/QZQEgPXiZ0Nqfzuf/uqF6jvKsYrzZDkPUYL+fqv0dRAZLBxeHqzp97zGX9m3xuMRKFf8KtRlqn42KqNFz8T7XWK1HhsM5omMfwYEf05gJdC3ptXCSH+ep4NazPaUPLGh9os1HFdqBGhH9mDRwv5yp2Pb3fUBOvdWFH4pTtQTxmbWWah8mTvc3fNAlJvSagYr8JnmZa54DquvvtJRBCGsaIzQjPFPJnn3+p3cNtNJyvbRkToxKTcBE1dqL7YrkmRxCRd8c79iQ0GzseSuZlzgJ2xnFYycHYWapksBZ9bl4rSfaVaIDk3ShtuClQSg5GNu1wGzmZmq1yoXYfRr9tc8b2ejIEjZMJ/Y5SxlQpD1LX8JvIG+bYf/ONCDJxZ1Qbwi0UnjpFj1kJ10e9E6Hciy4BRscjDTH2ncE2xy8DNLkMekElTBKg52Ofh4L+Pr3Ws+8FjwWcQmfcrjqgyIz3xjGNeW82azH4hX3le7UK1P+fnPxiJRgyc/NxUXjhEMXBE9LcA3CeEeEf+eouIXiyE+Ku5tq6l8NWCawM0A+dfPMZNYvChY8SPDUZZ6cRVB3NCKxey1K95YM8yBo7vQ+pxd80CHKzsc7tFEQGZwDe+9Ba86tNvgRACz7jaX1XCdaHy3zIL1f8sx3UhmZICxd8nQw9tdsZuEkfYGaSSvTF+20zhZzFe6zi1cy8urubfVceyq8cvDOth4NJyo9B3rE8Y1QdvEkPlEfOFWwVFQJQmMfC1cXWFurE5DgPneiH6uZisD5rFzMZm4NwYONOFJs9ZHgPHv5Oi3IVKRHju9Ses9/g+sWaddwM7ZwYujghr3Ri7Ay2YzRpojONrHTzj6k0845ot3P/IJQDMchZDdPgwWfdZXl8SkVGRwmfAaTKAwaxXN47U8/HLiDhJDHDnP90eHSdcZ8BpgzOJqVCjtY1oumL9JIArxuud/L0jiTbslH0oxMCVxP80LaXlgxo4o9yAm8KFyvAZA1FksyozjYFzDLhZsnsmtM6ZR4/MWAgBOdGfWO96DS/ThQnowPpRKpSRO5ExHkVqknKNqLLfLxO/nQScqu9KuMSRkYGXFcV4zRgixsgx4ESe4ecea8q7pCXZfZYKvhEjyOeui4EbmixFHQNnxCIOM1GQQ1g0EiOeDCgycCfXO7juRB/XHOur+7Cr6ptWt5tjak12pSluObOOp1296f3Ml4XaaANDui4uIOdFMxNanrPoprfjxOT3xpkHpWtRzz9NZERmHQMH5BUhjHHm/gbPSbLN3C80U2zGrZqSIKahy33itKdiTsdhewF7o65jDX0MnB0DV2Dg1PmaCfkCcr7m3zxUDBwAEkYanBAiI6Kmxx46tDULlQMvyxm43HBpKOTrgxUDl2ZKF25cmPpIvsnWTfGfJQPXyzWb3CSGWe9yeTFPPS4Qvoy1bv0witws1PzfYaoDdCdpO9ci5XN1SliEiIp6aLNw6bDauWvgmgycT3fNx45YLtRMqJjBKgauLAbODiDPXacWA1d+r90xWKctqJIYMr8cwiwwTkytYuBUEoNtwPU6Ma4/uZ674HMGblC9IeTf/3s/8Zc4teHfpNSBqDwy0IqBG0dGJJIF2A9GmRSr9TBwJgnj0w3kSxnXE9GJI2XA+SqWmHHA82DgALsma212tScGzte3R0YWahxRLmNyDDc4JSD5c3nOIgOXxDoBwpuFyjIiI+GVszJj8poI+QLA06/eMgy4w1WJ4SNE9I+hWbdvA/CR+TSp/dBZqO0y4TjmqkzqgTvwfsNSWj50DHfFcJQpActx4UuvNxFFtgHXdEFsAlcHbujZUc4CSRTJuJwsQ69jD7WmWmmAx4XKxpTBttbVSfQt4hwzCeQGXMkEZ7pQ04r4l3GRxCQNF8d962bgFSsxFA0414VaZthaWagl4s1xRAXjfmQYdFX3Wsc9NjN0TXfwKCsGYy8aRQZOlCZVqPqmQxlHVRcDJ7PPZzvGACcLdQwtPR6DsqB8bNV21gacLVXj6gYqBm4CA45dz974MNNgciq5zApmbG1dnJ2VheqRdOLmmfWd+V6tl2xSO55xzHMxu1ABf4wgz1UcylOWhWrGo9axmGZYj1mPuc1o2uteDeAlAB4C8CCAFwP4lnk1qu3w1V5rA1QMXAll7AbPTsPADUZSRmTyGLiiKr0J040G6IE9C+bHNeDmxsDlBorXhZq/9sWGuCCQkRVo3JORv+ZmU3RirTZeHQOnd+q+ElGTQgn5Om5JZl91XUS7XR0j8J+ROQYcr7vFTGy92FcxcK68wijLIISwyp/5oHXgmhm6pl7gMFeUXybcKihxRPiyF1zn/W6iGLj5hCA0hSnFohi4Bk3hbsWGlMnA+cSiff1lcgNOb1K8Waiq9Fi7GDhzfbHnC/25Es6tWSDN8AGG2kwn2oXq1so2f5sF5YsuVM1sNxHyLbQtOlyltB4H8Mo5t2VlMGqxC9WMgXMXZF68msqI+NB1kxgmnLTXPCVmTBRdqHlw64QuW+vckaTnB6mu5QjMhlUykTAbk4kCO8GT5UYDF6qVBWotKJl6f5K220kMwltwGuAYONuFOAumiO/P0FHxj2M3Gcc5zqMD51ZlUAyc007T/Zp62D1ul6mCz/82EQRlVrNpzCZnA3MSw7I3hbpCh4wNq5IH4bivPVWab/bsWhNYMXATMHDsAjazUH1SRqknTpRvzbixwOZ5/Fn48l+VBDWnGDhdYaWYKW+3x3Shyn5qGnymkG8Sjxk+YFVi0OOmkoEzKzGkGW676RR+5utfWGzPKGs0bl3EK+JCbdTriOg/ENExIuoQ0Z8S0RNE9A/m3bi2oq0uVGbghpnePZtQSQwNZUR8cONeJmXg1jvVLlSXgRvNkIEDZGq6y8DN2r2TxFG+Yy1OjmY2Xx1MF6qtWm4YORP0xU4cWTIiZca4dKHmvz9DNoC1llwVfzbeNQvkMHC8+zbdW24MXBkD10AHjt2ggC0f4uqAea8pchm4+j6VGEbfvLQlm0IxcMIUBPdfA99LVVt5yQzcKDNlROqP0y5U1kLUBvS4DNy4ckq2AefLhNZM8bwYOJNZr2fgdHuGmSiEm/B9qxq3LnxyQGYlhmoGjo0/gaFHw1JnoZo1j5vfQ1Novs1o2uv+jhDiMoAvhnShPh3Av5hbq1qOYSqWvlP2IY6kweAqhjN0+voUMiL5wPm5v/wYgMkNuLoYOHMRBWbPkg1GGd74rofzc89O28yELNae5ZmLfgbOrItaBjJqkZpGy2iMAN2y9pku1DLj+Ms/7XrrN2fFBnRjFjq2f1vWItWK7mXuZ1Mln5mSbhI1jIETpRml5uZBZ6Ma7uq6GDijEkOTe8WSBYM0w3Un1iYW8p4FbL2v6jHHc8HuQMbATZqRPi28DFyD4/jRMIN4MEprdeAKG7FoMhequVnyy4jo35QhGLO/t5EpD1RTb9XM3h6lxdhRn8uyPgNbhw8wTPcsG4D+GDjbheref13MPlNzwzhrhxlG0WY0TWLgvO8vBPBrQojzbWOfFolRC2JVfCjowMX+xetgND0DxwvctDIiZU2IiBwV9NlloQLF3ac894wNOHaNedwTSkakolqC2VYtpGvHiwjBmkvj3xdzkho61RCs64giCKEX9VkZcEmehTpMBfodfc4oIgihJ3Y3dkVnbhaTGHq59l5aYtia8hCSUfHrwI0MFyKQyxE0iDdko32cpBvlak+rJUoWAStYvWQjyFA6cIPmbOO08Bm3piCsWc+0Dtyv9r0xcHYyB5+/yMDJf8edl8x75dXBjJfAwFUxy7HZL3ySI/l50ubCuW49Zvm3jqc8u9lFJ/YnQUS5i5XjHssYuOGEXgrOkG87mhpwv0dE7wewB+DbiOgsgP35NavdGGUCW/3OUnfKPsQ5o1G2A3KFfCdZiDuxPbGVLfp1UDIiVUkM5uQ5w+B5oBj/IX9z9lmoo8yvN3ZsLcGpYRfHPMK9xbZKF6owYruAnAkGB+iO3z45SZlJDCVMS6J3s01qXjZFEhN2BiN88LFt/K1bT+v383s1KOmnqkyZmcQgdH9k6QWggoFLhVeiRH4nsqRIAHbLNomBI+wNm2e+Abkh62EiFwmey/SYqM+k5UVdZ6Eu14Wa5kK+UcPttZmFCsh5kfsHX7Jdp7M8FGKSLFSGW0oQsJNJRp4s9lmsPUUduPosVO6nBYMp/1euP/mmsraMnNZyY5gu1F4nxtUVG9xOTErOqsDAsS7dhF4KV+S5rWiaxPBdRPQjAC4LIVIi2gXwivk2rb2oWuzGwawNQF8lBvM3eMA0LaXlAycAcOeelIFbaxADZ26AzIE9C/gyK+tqOY77vNjIGHpcdVv9Drb6nUbPgIwML5eB0yn70zJw5aLMprtilmxAJ2f2hLDZTzbqeaPhM/LNcleAXmi7cSSTGEoyse0sVL88gxvHJs9v6CtW9EGdCe6P2fT1oU7EC1E5C7ooEJHaPNUJXLvxsLOW4WkK0yj3SUqUQSUxGAzcRk/OSz4GzsdSqSSGGbtQE8NgmicDJ8dfPctnZqEOR8X5zBTybZoZ740z9Ga4+tGJI7zxnQ/hws6gEL/LPz1Ms9K5oPrcq1GJobEYrxDigvH3DmQ1hiOJecUkTIu6Sgw8YPaH08V8dWLt3pw2Bq7MDo7IX8x+VgacycDNU0ZE19ycvN1WQG5q35M0nrztHUvIt9x9Z2Z9jhoULW8KPq8QdoygYuAqXHiu0KbaUCTMnvndJm4MnK8/cTF7N8u1SQwcu4XHcqEayS6zurfToDCPlBn2bhbqshg4w703MDJJ68DN/bE/+iB+6Z6P42CUYbOfyxsZY47hY6kmqcQAOAycz4WaNyDL/FUSZoHIMLrGyUIdephiNUelzbUpVRJDiQu1Dp04QiYk+17GCA5TcagZuLlbIUT0BUT0ASL6EBF9l+fzryaid+f/vYWInmt89k+J6D4iei8R/RoRjV8FeQ4YlgiALhsuA+f2Vx6g05TSAvKBwzFHU9ZCLYtVcQdQU12tpiCYDNz0MTx333l7gV1hF6XJlE1yLh3PkVlJDMyIAZOzqXxfh544EoaZ9TmqiZUZBzqe0mY/eWFReoU+qQ8nS0y5UB0JEre/NKnE4I4jonxhalBT0dVibGK4cxJDlRbfIhHnrrW6sAXtQm2HDty4UixKKkTIeEdTT8xkIhk+lqrfidFLorENuCgiI37O58afPwPHpzwY1f+GxVw7WeOAaTCVVwJyIeWI7CQGUweuDp2YFINf6kI1q6KMsYlOjDKDbcZcy2ERUQzgxwF8HmT26tuI6I1CiPuNr30UwGcJIS4Q0csBvB7Ai4noOgD/GMCzhBB7RPQGSC26n59nm5tgVFE3cplgDSqfYrj83HZNTRrz1Y0j5Yad9D6s11VicJIYtJtzfgxcXSmgcWEyGdMsbjqjSlhGrRmgO8n8Lsv5yPilYVbhQjVS9kdZUUJgUvB50xoGzm9kRVbwM8+13SR2RICrGTjfuSOHgeolcjJPG7hi2Cgep2KF1sOzkzmWBVOfDygf49wP9gfTzQXTwq3EMK4LVRpw8j1zznQzEX0s1dmtHs5u9cYSiWV048hbBop/m9tWF582KXheGYyyWpbP0oHzxcDlh1qxok1YtCiykpHGmec7cYS9NIVAse+ZSQyMcW7hYauFCiL6uwA+M3/5v4QQv9fgsBcB+JAQ4iP5OX4dMnZOGXBCiLcY338rgOuN1wmANSIaAlgH8HDT9s4TdXTzshBH1cwCB38zs9H0GlwDJokJ6WA6F2qfXaglhxeTGGbMwJGnusDMhXx1rc9pEiS0eyKzdoWSgcsmFtblhVqeq3xTwovHKJWFrGemA2eozVs6cG4Sg+e5mFUkAF3yqJtE2D0YlWaeaXebv0KGbFdezzQ/f78T48r+qFSapHiszl5tlMQQ6SSGNmwMo4iU4QCUjwtVzJ6TGJYUVuLWQm3qQuVHk2VAxslAxrHcDxizZsI6cWQZiCaabDSmBZ9y0IiB0+NGhluUyHZk42V9Js44HseF2o0j7IhcwqYgI6LPx890LAYutg3LtqLRFRHRDwH4dkjD634A/zh/rw7XAXjAeP1g/l4ZvhHAHwCAEOIhAD8K4BMAHgFwSQjxR562fQsR3UtE9547d67J5UwNXwduA6TBkHmzHtV3YlK1UCfZNQJy4plVEkOlC9Vk4MbY1TWBn4Gb7TNlMUi5ME/BwJExOaY2I5Bmk8fuaca2XBMNMFXPyzcHk4DviRD2vWdjV5dF8jMUdoC5/LeX983aLNSKhZHPzQvRWiduHJxt3lOgmVues+mkIOnyN4ZJziLWla/jOWZXMXDLaXtsGBeDMTQ6iaTZkRoMnPloZT/Qr2cdi9aJqTKJC9AyIvMgDHheORiltXHdrg5cwYXKDNyYYR1xnsDDGFWw7i6q1qE3vPolSktUl/aqPaVx7sPFwH0RgOcJITIAIKJfAPDXAL675jjfLfPeFSL6bEgD7qX565OQbN0tAC4C+A0i+gdCiF+2TibE6yHdrrjtttsWcsd9HbgNMBeesgGQRNHYDJyLbhwppftpZUTKdmnuAs0K67MSCzUZuFnH1zHiSBZFz8R0xiG3apTLeDAGI+0unwTMYtW7ytiFmpUG/k8Cy21qMXDyXy515ru+jrNDZmO/k5BVRaAuC9X3XLjv8Tk4S7CJ/I5yP2bNxxgnMQxnKNEyDaLccNGJQ/5rYEafXaizaPsk4Qo2A5c2lhEBWHNQB7p/28s+CV/xwhsAcD+YHwN37Yk1tUlxYcqIpJmYeLNdhbEYOKeCSZkOXFUSnQ+dXEKHMUgFunHUyKOQxKTmcF8fZU1GIBrbS8FzgBCidRWXTIwz4k4Yfx9veMyDAG4wXl8PjxuUiJ4D4KcBvEII8WT+9t8G8FEhxDkhxBDAbwN4yRjtnRvmlRU0LbgAr0/5X33HYOAmz0KNdBbq1DIi/s/dWqjjlCZqAksHbsYac4xOHKmM32mMQ24Wl51icIDuJGW0AB3jMyrZxTLMotPjJmRUwbzfplFYYOBK3Jy+YvbdPAu0TMiX79UoLS9Mz5Ug2LDlRJ0mAtgxZx6P5UIlJXewrGoGbnvSLGs05jpxZNRCXTYDN56MCCDHVir0Zs50xbkFzWetPrDZS3Bqo+v9jBOFmmSITgrNwLG+Y7MYuGFa3GiwC9U04JrcKjfWbBxyxGLgPJm8XS7VN8Ec6Svz1UY0ZeD+PYC/JqI/gyQEPhP17BsAvA3A04joFgAPQSYhfJX5BSK6EdI4+xohxAeNjz4B4G8R0TqkgPDnAri3YXvnCl8HXhbMHSuXAKpm4EgXQJ/UgDMKyk+ahXrtiTX0O5FXZRtgFqAY3DqriczPwM32mcaRNpanabdyoRoZXvw6yybPCuXdL7Ob5Xpf7MJlBm42z8BdLBn8GKoYL66jyjBlRLIKBi62mAT/wsh9TyUx5JuNJvI7bPyU1SP2HhMT9odZXs5s+RtDKaPSTB8xiUkZcMuK39MxmjL2cJyalxHJWFvezJnzmVlSDZg9A1cFNjhYlHquMXBc7q+yX9tZqD2nvJUZpztO1mfHGcfjrK3dOLKyzwttzkNYEkFj3z/TZdygWM7SUGvAEVEEIAPwtwC8ENKA+04hxKN1xwohRkT0GgBvBhAD+FkhxH1E9Or889cB+D4ApwH8RL5QjYQQtwkh/oqIfhPAOwCMIF22r5/gGmcOXwduAzQDV64nZQ6qaWLgGJMmMWz2Ejz3+hOln8dky0TMRQeO6wDWZKFOik5MU4kmM7QLVThJDNOVtipkG5Y8SyUjMsryhIxZMXCmC3UCBs5xbwFyJ14Vr2a629KSa+FxxAtLfxwGzhiDvkxwH2Ts6qg1sbVJzEkc9XF8nTjC9v5yKzGYRvn4DJw00nwMXExUYLzdigjzgtlP5+XxUQzcsLysHMPWgRPYcHXg8n+rytj54CYxDMZQeOgkZG3ciueOVI3ncecsU0hZmi7tRG1vFEJkRPQaIcQbALxx3B8QQrwJwJuc915n/P1NAL6p5NjvB/D94/7mvOHrwG1AnCvbD9NyVsacZKfRgfP9PUvEEeFgZE+eRMVJgRnIO+66Z6zzWwzcnFyoSaRdqNPcJ5USbyyqQM7AifEYB6t9ubtPVbmoCVZnd856MptFzOyL5oaD2YdKIV8nyDg1duJWKa0SKR2uhVpWzF6OI52FCsCIHS1/lqYOXNNFQyUxpFlBUX4ZiElWQRk2iA0tc4MvElYMXNo8CxWQbr5MwGDg9GIdu31skQxcZDBwU2axl2E8Bk6PG6kZaX/3Da9+CW797t+X4Qs1NXTd85qxrOO4UJOoOpSHXai9ZPznpvpUy+uhNp2J/5iIvgPA3TAqMAghzs+lVS1HW5MYeKLdH6a1mWPA5KxQdwYMXB2iqFhKa5YLhFsHEJh9Fmo8g3sNmHX9nMxILoA+MQMX5dIgOgHAB52FmlVmq44Lcwx1HNcVoBk4373rOEKbpmabnQVaEgPHweG+DFfHgOznbHuT2FHOQq2SZXGRRLoSQxsYOA7eV/2iYlzYm7llx8BlM2XguJYxoykTNosSibbu2uzGnAnu+6wDVxWK4erA+ebKJJdFUdqUjQy4CK6MSGMGLo5UOJDvGBbILiuZV9kuQ7y8zWhqwH1D/u8/NN4TAG6dbXNWA20upQXYRZldWK6qCZkbc6KelwEXU7GU1izLDJl1AGetMcewDJSphHwleDICZCky3jlP6grnNPumgq3DPMZoVkyl5UL1GLvKgMv7qV3Xl6wMPu4rXCVESwfYbWUF/LJsOkC75Jhxcxm4Jjpw6RiLRhIThnncXBt04FQ2ewNJB5vRX5KQr2GUlwnjliEisgqemzFwMsFhegZuEoNOGaUN6pROCr5NB6O0OQPHm8aSrM+RISPSLAPbdlMPx4ix7RobTl/4B4eITCK1ZFZsaTOaFrO/Zd4NWSW0uZQWIAdkqQ7cGKxQ2cRjxcDN0YXqZifNkp2IjKypcepWjgNfXNckMEtp8WQnGbhMVjGY2BXuuFArMpcBqMl5djpwfld84hhw3sUijrCTy1cAdjF765n6mAJDq833XNgg4Jg3rlV5UMEIqmPzfjvOQmTGIraB2TevAajefLSBgTON8sEoU4xpo2OJXajytcvApanLwC3GSI1Ng2lOWag2A1e94bBj4PwsmYrBHisGzmY5q0r6uahbhzp5DNwkUktm5n2b0ciAI6J/COBXhBAX89cnAXylEOIn5ti21mKZpbSqdnOKgRtWMXCkvjupvo2525mXAWe6OIHxdmaNzs9aYyMjWHvGk7MdHzQbFyqzZWvdeGph3YSzUGv0vnQt1HwxmdEzN3/PNNKYUWTD0ufmdFXyMyEFXOPY1oHzPVKtl+jfiLkl59ggaFJDOGkwBgvHxBEORmlB0HhZcBm4qudt3ot56mXVsVhcWm2YZvj7n3Y9/tUXP6tRXKx2ofqzUE3jYlbhA03idrXBlJXK3UwLflw8B1b1a64NW1YLFdDzSZOSc4yOk4w0jgvVHCtdT/iHNuDKSzaWn1sbrG1GUxfqNwshfpxf5HVLvxnAETXg2pHu7yIxFp5yBk52+mkmBDbaCJNnstbBy8BVLG7juinMOoBpSYLEtLCrC0zvQjULM691YlWfc2IDLl+gRnUuVJYRKamZOGnMj2kYdDzuVMXAeVk02/WS5lpPSWQnMfCxlvs1PzYrca2YTDagXahNZETY/bo/Ko9DddGJCXtczaAkDnGRcPUBq+Y67jPL1jrluL3BKBsrrIOlQrwxcLG9iZwklmpSuJuIuTJwaX0WKreJ4zt9Rj2PK7OUVq3hHTuVGCZ0oXbjYqYoexjSCTxmptehzWhqwEVERCJP1cmL1PsVCI8Ahlk70v1dRMbCs9nzP1qeCCaNfwP0gj7PSVsmMdg6cLNc3MwMrOGc0vTHjQ8qm+x4ojWL1691YuwORkjF5BlqSZ61XJcpq9wJqn7obPq+ec8tBo7sxcubxBA7SQxCxgJK+ZlqN04ca6FabwycwaIBWgeuiYwIG6IHw+aLhpWt3AYGLmelmkj38DWOU/1gHpBiyHJ8sBHWZGMRkayF6stCjchh4GYY/1mHJHLHwOT9ouw+mDIiTcp1mQLPvnhk3hDKzPhmm/tOHGHnYKReD0bNGX7Lfe9ZG1hGZBIh31Vh4Jr2ijcDeAMRfS4RfQ6AXwPwh/NrVrvRllgVFzYDVx3PNM1EpHfd87sHrkL3MM1muriRGf9Rw+5NCstAmYaBs2LgtAtVVd2Y2IUqj9sdyAm0loGbcTyOFffmKatVZcCxBAqDF1de6IZVx0aEQUUlBqVD52ShNilBp5mT8jhU37XoOMTlzyuc3NKkxByPyaUzcCaLOcbmujoL1XbTN2GpZgVXC3E+DJz8d5DPK3XsomJmyxi4OFJCvo3DBxw39ShrXo2kTs6K5Xky0aw9d995uzJ2eT34F7/xrkZtWRaaMnDfCeBOAN8K6dH5I8jSV0cS7c1C1QtNVS1UABOr9wN6sMxzM1oopVWS+TQpuO0HJW7BWaCs1mdT8GTy4IVdvPRH/kzJhgC5CzVv+6RubL5mraRfEgOnslDzJIZ5yIgY12AGVwNlRpbjQhVyl63rqJYvfFyjtvxz+S+LMHMSQxMZEWV8DptvCmwmcvnzCt8fXYmhnoFbtgGXRBF28+c1TnUYKeits5gLMXCOm35RDFzcYAxMCz7jwWgcBo5LaZVvqsZJdIqjYiWGrX4zs6RJEsOV/dFE4uM8x4l2E3CNs1AzAD+Z/3fk0X4GLi01GGbBwPEudZ4MXJTHMjHKtIcmha4DmM7cOGTMSuRUJxFkSpdorRtjmAlkUzFwub5ZTSkkHQ8iXVR1ci5NY+JKGTgniaFMB84Mfs5yQ7ZZFYdIuUN9n5sbIaAYA1fVD7mt+xVjsNCeFmRymojz8IUm8jqKjW+BC3UvZ5LHiYHjR8l9yTQE4ohgVz5ZYAxcXD8GpgURgSifAxtszFjjUM4BVbIdzQmOjluJYawsVCMGzisjEo3FwFnnztvP1XraikZ3ioieRkS/SUT3E9FH+L95N66tmJew4rQw9bOqaqEC42flmOCBM3cGzo2BmwMDtz9M5+YaMfvINBOwKqyc6iLp/TyJYZrAasXA1bieTANyNENVeCtG0HOvBhVZn65+VJpP0oqBq2TYqLrOqmNA6ixUNgorrsmIn2scyzMjQ39W0Fm69fI6i4iHbYI4mqwmK8+D7LozDXpvFuqCGbgm2oOT4u47b8dmN8kTuZoxcMNRuZi3Lc/TfPOSztWFOp5Ll8HfPxQMHICfgyxp9Z8BfDaAVwFL3nItCUKMt8NYJMbJQp1JDNwcu4AsKK5fj1PkuAn4PlzeH82tsoa5S53m/DxZDlNdJJ0rMZRlUjZhwVQMXL7wlU2cuhaqjIua1b0yx5B5r1whXx9LVkhiyKUC3Pi1MgmSquDwyBhHgCnkywZlFQOXs5qjFJsNXUFJCRO5LJiuMqDGhdqSGLgkJuwOqvuxD9w/UiP5QZ3TicNtwlLNCmoMpPXSNePCnBu6SaTCSJpkoe6PyhOeuHj8OJvKTkRWtYMy96z32JqKQJ14fINSH5sbcGMdtXg07elrQog/BUBCiI8LIV4L4HPm16z2ok4za5kwxRZrdeDaHgMXwU7hnzEDx/fn8t5wbkrndimtKVyoRiUElrDpJJSn/08uKs2Lwn6+8JWdR2oG6izU2Qn51jBwNXFsdp1KeV/4NFUMWxyRYYyVM3AHTkxVEyFfdU+H4yUxMNpQCzUirfcVUXU2oYqBW/J+Po50EsN4LlQ9Z7qxc3EUOX1sgQycweSar2eNXhLp8d8giWG/ZtyMW/mgUIlhQheqX5eOFLs4bhaqZuDabcI1ZeD2iSgC8DdE9BoADwG4an7Nai90Ztbyd8oubJdUSTxT3jGnYRCVDtwct91uEsMwy7DZmU0RdUDfq0t7w7mVMLJlRKZn4DjDK4lJxoBxKa1Ji9nnfaCJ66kTR0ovah5ZqObfTRYvWX7KXFzl9+K4PgbOdKH6zu3KmKypGLgmtVDZgBtHRsTsJ8ufV5KYKzHUs95t0YFLIs3AjedClf+OUoHNnmvA6VJKQoi5hVr4UNCBm5Nh300idd/qjK7ENOC8OnC5kO8YmepJ7CQxjDEX1yYxqPZMwsDlMXDttt8aG3D/BMA6gH8M4Acg2bevm1ObWg3ubG0U8jUnl1IX6gzYs0XEwBWSGGaswWQycH/5N+eUG3GWsIP0pzDg8rYOOYU/imTNTwEMpilmr2RE6l1PnYi0jMaMjN2kZAftFpP37Z7ZgGVkQiCKitl7ZfFzlZ87i6fWgWvOwB2MIeRr1YRtGQPnJqy4rnm+3mUbcHEUYW84BDB+FiogN+bucWYxe56KFq0DN6hw9c8C3URn7zZh4HgO8DHFPK5GY2wq/ZUYxnOhEvxkQifRSRW9McqrAQYDN9ZRi0fTLNS35X9egYx/O7KoU61fJprUOZ0FA9dZQBZqMYlhxrVQSdZPvLQ3hMB0SR1lMJ/BNPebiFS2FrtMtVxFOkUSg8PAVQglc7knYHbuHLv6QnkMnM/dL1XydfapWYkB0LFDZTpve4Nh+eexNsKAogu1mQ5ccxbCyqZrwbySRDoLtZaBy+9NG4R8J3KhVsTAxcYmko2MxVdimH0MnIluEqns3SY6cCyl4+sXnPQxTsmxOIosF+o4ZSrrEmiSSHoNUjG+l0LFwLWcgmtaC/U2AN8L4CbzGCHEc+bUrtZiXoXPZwHbYChj4OT7D1zYnfh3FuE2cWOc5iHdEkckDbg5jdFOhQt13PJTMiVeanMlUaQW+v1pDDgu+9QgOL8TR0a26myeg+netBg414ArSUQA8qw1NuAi0nVUa4R8q1xTbgagm8TQRAdOiOZzRNuSGKI8lqlJhRJm6JrMBZOWXGuCOCIlSD2eASf/zYRdhYHPyfO9Ls22WANunjIigLzmnYNmRmISV8fAdeLxXZad2GbgBmMkMfBzLjPOOrEpazLe/WPGs93mW3MX6q8A+BcA3gOg3cXB5ozhyjBwZTFwmnaeFN24euDMAlyjkDGaQ5xaEkW4vDeCgJiLMRrP0DXGNQM5Y1YZXxWSMbXnjGwXapVh1om1TMMs3TlEbOwU3f/VlRhyaZUsQxeRWjRcGRGf8WfGwJVlqZq/78qIVMfA+VnFKiQlhuyykERcSqt+MU0WsJlrAtlm+fc484T5LH0MXKoYuOYF2mcBdxMxNwYujnDfuUvyN2vuWxxF2B+WV20xdeCaJg2YSQx33HWPrGU7Zgxc2U+xQTlJ4hXf75YTcI0NuHNCiDfOtSUrglGLs1BNRqNcRiR/f4rmm7EH84K5+73jrnvwyMV93HbTrA04zcDNI4uuYz2P6dru7m75GewNmmc7ukiMc3RiqnSJJzFhbw6LCUHucs1zKhatgn1QcYH5eGQ3iSkjQlQm5EuVkiBmTWFAMzPKhVx1n8xn3piBMw245W8MrZJJNf22TVmojElkRIBi7FxixGelC459jiKZ+T1vBq6bRCpUpYkOnE5i8Ic1sNBv81JaMs5QCKHclU3HgI6/LPM2yQSJSZIYFJPecg6uqQH3/UT00wD+FMABvymE+O25tKrFUFmoLcgWc9EoBm4GGm4LSWIgghA6BkFgtjIigIx1UgbcHK5l2lJaJtgdwFlaHcXApROX0mIDc2+Y1k6anTiqnLwnBdei7HgYuCoWTYsby+9kzMAZSQxlC1JdFqqrp6ju9TCrldWIG4zB4u+1K4mBY79kX6tzobaEgatR5ffh7jtvx8XdAZ73b//Ye5ypRakYuBka2HUu5ZiMxKE5JjGwB9Ptr277bBkRfxZqytVhGici6FAIZrsaH6viL/3gRIvBBBU0+PrazsA17RWvAvA8AF8A4Evy/754Tm1qNVZBBw6oZ+CmmXAXksSQt1On8c9+cUsiwuV9mcQwjysxn0eVGGoTcECu0oEz0twnZQW4fU1YvE4UVca/TAruQuazNePYygwmbvs3/cK9AMxKDNr4KnPxWzFwFec+yKVAzIDyWkZqgmfeaRsDRxyMXp/EoGuhLpuBq5aUKAPHNwJ+Bo6L2S86Bg7gjcZsE4dc9MZm4DiEyL/xUZUPGrtQ5T3/yte/VcVmNX1+dXJWZqnAccM+DpsL9blCiE+da0tWBCNFpS9/onVhZfKVGDva5TE5dAzcFCepgTLgFAM3+3uukxgEaA7P0wrMnxUDlwokcWQtrJPGpCkX6jCtZS2SWGf5zTQGLnei2hmp9TvnjuPi0DFwTRi46nHiGmyqEkUq0O9UP0eLgWusA6fbM62hPwvEUSQZuAYSNYsIp2gCs53jJDGYRlu3Iolh0VmogL3RmKcLldEkC1WJa5dVYhjTZakMJRgMXOMEiGr21xTVHnf6PWwu1LcS0bOEEPfPtTUrgGFWnr22bDRh4GaRQdqp2fnMAsyeML0vRDHNf1okEWF7f4S1TjwfF2oDXb7G54ptkUxTh2lS0sashVp3bztxhEt7w/zvOTNwhrRDp0S/yXVxFGVEslJXZ1IzTkwWL47I+X79fVJ/N13ETAauQsplUYgj5DFw9ar4baqFyhhnnqBcTkhmoRYZOJYRWQYDFxkG0zwZOMZ47LJv3OjSVeMm8MhwmfzceZvqXMw8bspuDfeD/WE29qbzsAn5vhTA1xHRRyFj4AiAOIoyIt/7O+8B0A5Xh4smWag8EbQ9Bo5vr2LgpnAVlv+GzmTsN44maI5ZVWLg44epUJUYbONwUgYuN+CGKTZ61VNBx5AQmOVi4jPgrH5c6h6xXRxprgdnul9LGTiPZIn1uWHAdQwXatn3fcfKv8fLpgPawezHkXSrjRrEMulaqMu14KbJ5OU4TF8MnGbgFpuFCshrqhKcngVM6ZT6vl0td8OSIOMWswdgxTs3XVtrXahGXeJxl+tDJeQLGftWCiI6KYS4MIP2tB7j0ryLxDgxcDPJQl0AA5dyhhL8k8Y0UFpiqZjLtTRJKmmKbiIrDwzTDJ0oUrtUYHI5l47hQm2yUO/PIaCaNxK+Yvbu3ybUDhmslC93/WYCRJ2YtfzbL4cASN23zX4Cypm9JmXEJjEk4imMj3mAS0hxX6uCYuAW0bAKTMrAATx+irVQZQyczcAtcuNel2wzC3QtBm66vh1HhDQVUtonaWZamKEQwnmv/thq9725yTvSMXBCiI/XfOVPAbxg+ua0H7xLaIPgpgtfQfDCd6LpJ1wtoDjFSWrA7c8yY2DPnIHTu6x5XEpdqZdxoBi4VDIFlkTJhIt+bExSdYHDnSRSOnDzSGIw3Z2mW6tsnMXOBCuLkZMyZqvi52wD0fe5fPNglOFE/jfHQ9Vl/E6Shdq6JIY8m5D7WhVmUZpvFrBi4Ma8h1EEIPXpwOkAf459XiQDFxtJA3OrhWrG0tb8RlzTTztxhGGWIRXjZ2ALgbF1/LQnyP9b3bi5ceqC5+tDUYmhAZa9AVsYxt0lLBLNKjFMz55pw2R+98BMYtDp5fNh4ID5xPAod/UMzi01jWSG11pEFgM36aJisiu1sU4GGzFtQoYJIv/94azbKpV1QI9HlhHhhW4wysrdrzVuTj7OdCF24qhReaykxs1Uf8zy5xWzFu16jWu9TotrUeDnOMlmiftYoRJDLmWU5XFdQHFenWt1CaKFlNJijMPAeXXg8jlivGL2eiM2rgu1NomhAaFRBaL2u1BntSK2/TpnBu1CXf5O2UWTxWMWLo9ZBS7ffeftpROgTmIwBR5nO4mZA3wexugsF+OOEsmUgeVN4sTqYO+oq89hB+fP1oXq+2X+ifJQAN65ayHfODIYuFFWamja1RI8riDPxM/PsjZOyLynkyQxtGBeMUus1V0DGwDLNjunkUfSBpzjQs3vwx2vv2cpWahxbLpQ59MvemNmoTLKQg/YS9BUm9IMhZjUhVouFzTdJpfQfhfq8meLFcO8jIlZoAkDp3aqUzT/KcfXcO3xPk6sdyY/SQ3MWpd6YM9eRoQxzyzUWZQc68QyBm6USzuY92JyBq65627a3WwZiMrKWWnXZVV7dBKDPI8VA9eIgfMYcFQcR+6/ZbDOPeZCBFSLBC8KZhJH8ySGuTeruh017rQq8C13DTjTTa8ZuMUtmUkUzT3mujtpFqq3EoM8fpA2Z+DMezw+A1dttHeT6eYsIjo0MiJ1WP6ssyDw42xlDFyj4O/pH1UUEW48tT71eep+A+AkBvne7IV89TOcTyWG2Z1UuhTzwPI4QmeK+A51nMmqNajEoP+e3XVFJS5UvqTyWE7euUtIF6phfDSMgauSETF/RxnjY7AUTdm0WbraZwE2YPeH6coI+U7FwOXHFmLgjJMtIwvV/Kl26MBVe3hMAexx4z8FdAxcUyO5TlA+MHAVIKJN4+XnzqAtK4FVz0KdhYzIIsCTZ2bWyJvx7jei+d6PWZYZkkK+MkU/ickyoiZlbcbJfuzMi4ErcaLyAlHPwGmh1SSKLCHfJlmoVaW0zN9RrtRxGLimixgbhy0ZkxYDV3MN7clCnZztjktcqJodElrAfYGel1nqSJbBjPsbKwvV813uCwejdIIkBr1R7zbUQlSC8mXnNuesCfrFYY+BU6K+QojzM2jLSmBcmneRaJIB1xaXRx3MUlqa9Zxto4kIx9c6+d8zPTUAk1mZ/uRSyFeq48eOC3XSyX2c7EerrussY+BKGTjbcHLRURO/fJ0Jacg20WEzXZtVxezN3+8oQ6762ieRBElqXEGLBl/D/rBJ6bD5Swo1wTT3kB+Zy8AlBju0jBg4Xz+cNcatxMDwM3B59vYYDJyVxIBJi9n7P+9OGWZCoNXOQiWif1b2EYDNks8ONeZlTMwCVuxOSfvaopxeB568MiE0tT4Ho/n4WgfndwZzkhGZHTvRibjOYK4DN4MYOMvYqKvEUJOBNilix+hSv1HDeJmLK8CVGGwGplYLEf44NV89U80Ill0JH2s+l4YLUcvGpCtkXIW2tH0aJr00C9UbA7dIBq56ozELWFIbtfGO1XOAZuCax8DpJIbxEwTrNsjJtAYctd+FWhcD9+8B/EcAI89n7aOgFgBV7qMF2WIu7B1btX5WS9aKUrAxmmaa9ezOwWg+1pdDYB4LEE8ss3GhRhjlGV5JTJhFUoElI1LrKpuPO+f6k2tqcTTB11RVkB4wslBzjTazbWWuZasWquf8PiabzzsOA9fU0FWu9paMStNwqbuGOjfWopCo/jL+sSoGzrHOuW9IBm4JMXATJMSMi94YMiJ2hnV5DJzUYByPRRNGqExTFyoR4ebT6zjW9yfTTRv2sQou1DoD7h0AflcI8Xb3AyL6pvk0qd1gmreNDByQB16ifDDqhbid7WeoUlqmC3WGRjPLl3zNz/wVgPm5gIhmszAnsWTgZpnEEEVaMHccF+osFzGX9XB/o2ycJcbOHdC1UMeqRgL/tfiMMPXvGHFCjTPxWsJiMerkIkzMQldyFpgmXIEvt+fU3VX3QYglZaEa/XRO99eWEWmehepl4Cz2udnvTyPkCwBXH+uXfjbtHLkKLtS6O/UqAB8v+ey2GbdlJaDdeS2ZbR3wOK/LwGvLYlEGpQNn7Mzmcc9VDNzMzwx13lkxcMNU1xmcRRIDoCfQWhfqgqsFNGfg5OtUSGYybrDo1WahemVEqpMqGJG1yDXMpmtZXKp5/bUu1JbMJ1MxcORn4OwYuOVUYvD9PUuMI+Rbp59o1zMeL3xAYPYKD9OWMlwFBq7uTv0rIcQTRPTt7gdCiMfm1KZWo80uVECzPeUM3Iq4UM0khgl2Zk1xbI5JDPK8NJtKDJEU8h2qLNTZuDQ5OLu2lNacGLgy1GV9qtiZvHNkmUBEzQrP18XARREZG6HIOqYJE8LfGFeNfhZ6gbOAtRDX9IuNvFLDstseT5FMoWLgOrH3fRkDN9+i8j74NhKzhmXANTXW4b/P05SRM12os5IpmnbOIrQ/Bq5uRfw0IroJwDcQ0UkiOmX+t4gGtg3s0GuD4KYPdQzcqmShKh04YbpQ58nAzcmFOqNzdxKOgZNJDHXloBq3jxq6Bq1FfQEGXN6u8ji2nKHNX3MlhiaLyDhuVvWv40qtAo+txgZcy+JSTWOsLjbyljMbeMbVm3MV9W6C6WLg5L8FBk5pDYql1EI1E0Tmtd6YIQxNs1DL1o5JDCZTz3HW5MjUBhy134VaFwP3OgB/COBWAG+HPceI/P0jBSHab/wA5RT2qujA8YScmqW0atx8k2CeMiJ83pm4UCPCINWFrYlIxTtOQ0xy0+qzUOcjI1KGegYuf19VYsgZOONmT6oDB7ARI4zYt2YuVIDHlmhs6PKzXHYcGcOOdap/1ifWu/NsTiNMEwPHC/2pDfs6vFmoCwydiRpurqbBJJUYyu7xJAycV0ZkRvP8ka+FKoT4f4UQnwzgZ4UQtwohbjH+O3LGG5AbcMtuRAXqGDi1K2nzRcDMQhVzdVtzBtPcDLgZmcqJx2XquvkmAZ+jvhLDdJPhuODfKBfy1ewIIPtJEpG3jmnh3A007UoZuCYGnGLgxnguMzL0ZwE7jq8ljapBMkVoyIm1Dp57/XFcc9wOiDef9TJi4JKaMTALTKIDV/atjhUD19SFqkMhdBLDHFyokwj5Aq234BrNMEKIb513Q1YFAqI1O2UfVAxcaSHvdrlryqB04OYo5AsswIVKsxLyLbIiTd2fVeDrrpNosctutcCA4/5hMHBxND4DV3br9O9zDJz89+0fv9DwCsZ7LoT2jEmfDl7bUZf0UgUiQr9TzIZWDByWUws1UpuI+f1md4xY2rqEFXMj2fQ5qHGMebhQp2XgCFnLLbjVGJ0twqowcLVJDG2+CBhJDHMIbjVxbG1+OnB83lmc2zfR8mmnCSBX/aWlDFx9EoN8nQlRrMTQwNVT5w7qOMxbkytvek9NRESt2RiuJAM3h2xYq5TWIWXgTOmUWgaON44lo8AS+x43Bs4oZj+reL9Z1EJtuf0WDLhx0fYYOG5aqWuoZhC2BZHhQh23yPE4mLeMSNfRbJsUFiuiGLjiZ+OiuQvVFP1dvoyIvmTtQnV14MrET5ss9rET8zZO0XYeW+MsGkSTBeDPA+PGwLUBuhbq7M6ppGoA/MJbPmq9twg0rb87DWbLwNWPvcI5zSzUinNPgiDkG1CAgFh6ynwl8qbVuo9afAmAkWVoZKHOI4nhmdccwzXHekpOZNZ42tVbM4+Bs40bMdUOfRIX6iIysJk9K2OAOPA/Ezp+JnJdqDXsWtVV8OXWlfTyt03+Ow5jPKtYyVnA0oFri1VZg7oA+0nA/VyyQ/nvLJCRrAsjmAXGqRdal4WaTBBzZunACYFohqPATvSajIFreRLq/Bk4IvoCIvoAEX2IiL7L8/lXE9G78//eQkTPNT47QUS/SUTvJ6L3EdHt825vHVrvQq2Jgbtqq4enHO/j5JwMllnBV0prHotJN4lw0+mNuYnTJpG/1ue4sIV07Yl0KgOuKQO34NjJJtpoXKvQrFNpariVS4TUa4bxd3hRShzWswqTPJdZxUrOAosQkJ019KZmduc0+8+4dTpngUUwcFGkNw51/U+HEZS4UCdgvDqGCzWbg3drGi/FYZARmQpEFAP4cQCfB+BBAG8jojcKIe43vvZRAJ8lhLhARC8H8HoAL84/+68A/lAI8eVE1AWwPs/2NoEQLU9iqFk8iAg3nFr6bawFz5NmFuqquHPmgcQj41En2twEyuXe0IW6qK7fREKBiCAgkAo7PikmwkiUM5PNGDj797UAdnMX6jibgptOr9eKKS8K5n1bRNWNWWAeDJwZA6f0Pxc49fMmdl51UBlNb1mdkdxEX9GFYjkxexcqkPcHISbK1A8uVOBFAD4khPgIABDRrwN4BQBlwAkh3mJ8/60Ars+/ewzAZwL4+vx7AwCDObe3FvPoZLOEWpBXZOdcBtuF2u76s4tAx6OYzv1wGpcmL3i1JZPGMGBmgSbF49nFkYvkK6MvjmTVimnKybnuq3FK0E2y6z/ZAi01hq8WbNsxDwbOzEJlz8siN++uBuG8EBEha8A01YnAW7IdYxj+zKTPgxzhs02yD7np1HrrDbh5b6+uA/CA8frB/L0yfCOAP8j/vhXAOQA/R0R/TUQ/TUQb82lmc7TehUr2grOqWJQO3Kqg42FFZpLEkP/btJTWwhg4ZTiVf4d3yJqBQ/5v9Rhocr908oItIzLO5S/S3TZLjFPMvi2YxwbDFPIV8uQLBW9I5j2VN3Xf14nAN8kA9/4+dJzhrHvbNFqZyYwS0OaJebfO9xS9Ri0RfTakAfed+VsJgBcA+EkhxPMB7ADwxdB9CxHdS0T3njt3bjatrkDWdhdq/u+qTLxliEwGbsYCj6sIbxLDBNmOLsbNQl1U12/GwMkYlVSVObIzR+sZuPKLUUkUjgu1ySKuZURWs7/aLtTVuIZ5lAh0yzwt+k7oBJr5M3BNrq0uC9Wu1jKGAZeHQsyFgWNCo8Vr9jSY9yr/IIAbjNfXA3jY/RIRPQfATwN4hRDiSePYB4UQf5W//k1Ig86CEOL1QojbhBC3nT17dqaN96H1LlS142hxIxuAJ4BRql2oq35N0yCZWxIDM03NXKiLwl999DyABgycMBg4537UMXBVV/TAhV353dg2JMeJgVvVMAbbhboaG0FdC3X2DJzcQS5+4+5uSOYFqUHYoD01UjpNqqD4oEIhMIcYuAnas0qY9+h8G4CnEdEteRLCKwG80fwCEd0I4LcBfI0Q4oP8vhDiUQAPENEz8rc+F0bs3LLQdhcqY1UXD4bSgcslItqUpbcM2HpNdhbldDIixfP70FE6W4t5Bk2YZOVCdURWFXtXJyNScSn6920GbqwYuBUxflzYlRhWY8yNE6M47jmXxcApKZuWJDHUbXzMvjJuBnYmBPaH6cznl2gGc2SbMdckBiHEiIheA+DNAGLImqr3EdGr889fB+D7AJwG8BP5gjQSQtyWn+IfAfiV3Pj7CIBXzbO9TSCEALXYPakW9RVxfZRBJTFkQom0HmXY4qr2RDqNi0W5UOuK2SeLvf9N2EV2oXIAduSwMKVCvk3ipZzYmXFK0K36rt9cRFfFCG0iOzP2OZ0YuEVPQYtl4Op/o85InlR+hojw5JUBBICnXTVbhYTD4pEqw9yFfIUQbwLwJue91xl/fxOAbyo59p0AbvN9tiysigt11Rk4s5RWWpFReFSQeBk4+XqaNZbval0M3DxijKrQxAhiF6oqc+TErZUzcPXXoqVA+N9xdODsY1cNlmTNilzDWkcuZfNwobLI7KKlll0x6XmBqNnGpE4/0Z6jxnShArj2eB+nNmabjb3qm6k6hEoMY6LtLtTD0mF5Is4yqfO16tczLUxjwC3rNEmGFYMco6fu9xe3iNW7Plj+IHNcqLoIeMlC06AvuTt3fUyDY2Efu2owu9OqZH5/8rVbePrVmzi+NrslzYyBO/wMXJP21LhQjTlqHGmjbhKhm0S4/uRa42Oaoun8tqoIBtyYEEsIZh0Hs3CrtQGKgcsCAwfYz1PHo8nX07iX+dBunQt1wVmo1ODapN5bVoiBO7d9AKB8EZkkBm4SHbhVMX5crCIDR0Qz19JzY+AWDc0ozzsLtdnGbJxaqOMYTM+8emtuMc5KK7PFa/Y0CAbcmGg9A3dIgjaVDlxeKqktKvXLQteIQXNj4KaJd2zsQh0jiH8WaMJiRSRFfN1KDHVhBHUlgexzyPuiDNhGrc/bt6Jj0GLgVsSAmweWHQOnM6Dn+8PXHu9jmNZbqHXyO+aGZZw2z3OcqI3YIe3HwYAbE0IstpzKJGh58xqB54Isky6yuHMYrmpyJB6NpVm4B5rGa3XGkNGYBZoEH8cRKYYW0LtsbuM0DByPIqWGP1YWansK008CX9m2o4jlx8Atxv231W9WF1slipR8HlkMXDv6zWHPQm3HXV4htN6FSu1OsmgKK4khxMBZO0i3sPo07gE+slZGJFmsC7VJDFycx8CZxeyBJgxcPZtWFgPXTAdutceg6bY+rMxFE9i1UJcQA9cy46POhQroMdUS+61RKMYqIzBwY+KmU+u18ULLxGrv/TWUDlzOsBzWGIam6HgyvGZSzJ6NndosVNttO280yaaOXAbO+W5ZckcTl7OOgbNLaTWtxNDmTV4dzPvTFiZlGTAZOCxFB07+4r0fO7/gX/YjrslClZ9JL1Vb+k2TUIxVRjDgxsTpzd6ym1CJVV88GLxwD0YZMnF4B2BTmAacm1AwVQxcUxdqXD95zxJNJt44IggAByNZzZ532erYkkNdF3TV76tyRk7cYRVoxbdRgYGTUEaIYM/LYn+/Scm3RaLJJo5yC64t8/VhiQkvQzDgDhmOrXX8xWZXDDzgtvdH1uujCnMhVXIZM3AP8JF1SQzjCNnOAo1i4Ij7yND6rjZsSxi4Jq4gRwx4HB28XidCr9MOBmISWLVQW8KkLANKRQQiT15bTgxcWzBO9nZb2n5YdFHLEAy4Q4bTG12cnrEY4jJAuTbRpT1enJfcoCXDXEg7BR24WTBw9Td4sfGV9dfGLtPLuZEfKSMzP7ZMcHQMY5Tve6PqDTmuO7GG607MXtNqUbBroR7Oha8JeA5Ks7wa89IYuMX+bhkaMdctM5i4rauaEV6HYMAFtBYxES4zu9KWWWxJ8CUxnN7oIiJCvxNPfN6zW130O1EjI5DQNgZO/ns5N/LVolGziDRxTZUmMRyBbmjetqNswAHAsX6CC7tDdOJo4eoDsbMhWTaasPCU11VoDQOX/9sWg3LWOOK8RkCbEUWkFue2TAjLglULNf+734lx7fH+VOftJTHONIzrbFozcRbQcWz1DBy72bWMiP25i0ZZqPxdJSNydKZK8xkfZRcqAJxc7+JglGFvmC48Fq1tm4ZevlGsK29X951FgptxWBm4oz06A1qNmMhwoR7OAdgUprbYsnaTi3ShziIGrp6Bq/p9m3lr4j46TKBDvvA1BdfmTLMlJjEs9mdLsdlL8Kxrtyo3fG0z4A57Ka1gwAW0FnFEIYnBwLInx04cNYqVmw2Y+aow4FQMnB0nWSfkO85krmVE2rWYzhuE9jA/y0QnjrDVk5FGi74dbYuBA6TobyUDNwNpo1mibUkVs0aIgQtoLSLS8U1HXQcOyFk4sTwh6U++9tjC4oCUG3QMF2rsaLWVLSJusoP3990YuAXXgl02OJYpQLJw2wejhY87HT6wOp2ubbVHVaJXS9ozawQGLqC1iCPC9kFg4BjLZkWSiBY2Mbu1SH3QLtSR9bqJ8Vd3L/kjzvi94dQaekk0VcLISoGOjru4Dic3ZKmpwMDVw40dXTbObnZx65mNQxvDGhi4gNaCF2YgGHBAHoO2QrvxaaBdH+XfUTIizNI6xRKq3Dh18XyuRMtVW30874YTdc0+NDgavawZekmMs5s9bPQWa7y3LQauCZYd5uGi14lx9hBvuoIBFzAR7r7z9rn/Bk8GRO2h5JcJdqEeCSgDqoqBk/+6cZJN9PHiiBq5VdpSEmjRCMPNxq1nNxb+m6vJwHEM3NEcN4tGMOACWgulKbRKM9gcsWwX6iLRhIEjIkQEfPSJHfld5+ZUGXDPvGYL3YqT6xqxR+SGOyDQkelrbYWWu1mdB3HYi8e3DcGAC2gt2kbHLxtEAImjcS/0s6/eyUdEGGV5LdSGMiIAsN6tnvqauGEPNWi1XHeHESokYIUexCzqMwc0RzDgjiAW4f6cJeZtwK3K/YiIIOhouFCbGlBxRBiNhPrbPHYaDTNVjuuIGnCk/hewLIxTf7ctaJuMyGFHcFQHtBaBjrdxlFyofKF1sY+mgRWZQZOYchFRLtSjOUWGuNPlQ3e91XkObZMROewIDFxA63FUWRAXMolh2a1YDJrKEZgLxSwZuCSSMWC95IgacGNEXq0Kg71qiBuUfGsrAgO3GAQDLqC1qFPUP2pYZCmrZaOJlhtgJzm4tSOnWUTObvaw1e8cHd03D45KX2srlK7hCj0HHq9hzl4MggEX0FqEJAYbhNXcjVehjL3pdWIkEeG6E2uVx5sGXuQycFOsfFFEWO8ebeNtlbIfDyNWUQcOWGx7jzr7Gwy4gNZjlWPgZjnBnN3qIcuOhg91vRvj0246iWuO9yu/Zxr3bumhoyoBMgscqXjLloL77ypVxIgO4y6zxQgGXEBr0UQL7CjhzGZv2U1oHWIfAxeSX6bGejcJzPeSsZKJABR420UiGHABrUVwoQbUwYy1cV1Ood9MjmVUHgiwcf3JNZxY62CzvzrLtGRuw7hbFFanZwQcOSgtrjAhBJTA7BtuEkMw4AJWGf1OjGdcs7XsZoyF0xvdI5u5vQwEAy6gvQgLcUANIp8O3BEX4Q0IWBaOrXVwbK2z7GYcGQQDLqC14OX3e7/oWfjsZ1611LYEtBNmfKRbSmuVDLijnk0XEBAwPoIBF9B6bPRCNw3ww0pi4EIM/NkKGXABAQHtwipsqoKzOqC14GDYzWDABZTAdKGSI3zKtSQDAgICDiPCyhjQWvDSHAy4gDIotXrjvSSKQAT0O8GACwhYFawC49U2hJUxoL3IV+VVSqMPWBzuvvN2vOfBS/iS//YXlujs6c0uNnsJ1ruh3wTUIxgOy0W4/5MjbFEDWgtekzd6R7ekUUA11j19IyLC2hEugxUQEHA0ELaoAa0FV2XpJWExnhdWfffL7vUgHhqw6n05IGBcBAPukOFQTWJEIZMwoBJccD70koCAgKOGYMAFtBYxhYLkVThUxvqECHFuAQEBRxVh9gtoLa47uYZRKpbdjIAWI44IEQFt8qAGwzogIGARCAZcQGvRS2IEBZGAOkREqm5uQEBAwFFBWB7HRNhdBwS0C3FECDxtQMBkCGva6iIYcAEBASuNOCKkWTDhAuaHYOQEtBHBgAsICFhpRETIaP4GXFjEAwIC2oRgwAUEBKw04ggYZctuRcBhRDDaA9qMuRtwRPQFAP4rgBjATwshftj5/KsBfGf+8gqAbxVCvMv4PAZwL4CHhBBfPO/2BgQE+NHWxayXxBDBgxoQEHDEMFcDLje+fhzA5wF4EMDbiOiNQoj7ja99FMBnCSEuENHLAbwewIuNz78dwPsAHJtnWwMCAlYTN51eR8hiCAgIcNHWTeesMO9aqC8C8CEhxEeEEAMAvw7gFeYXhBBvEUJcyF++FcD1/BkRXQ/giwD89JzbGRAQsKKIiBCFih0BAQFHDPN2oV4H4AHj9YOw2TUX3wjgD4zX/wXAvwSwNfOWBQQEBJTgsO/cA1YDoR8GVGHeDJxvW+x1dhDRZ0MacN+Zv/5iAI8LId5e+QNE30JE9xLRvefOnZu2vQEBAQEBAQEBrce8DbgHAdxgvL4ewMPul4joOZBu0lcIIZ7M3/50AH+XiD4G6Xr9HCL6ZfdYIcTrhRC3CSFuO3v27KzbHxAQEBAQEBDQOszbhfo2AE8jolsAPATglQC+yvwCEd0I4LcBfI0Q4oP8vhDiuwF8d/6dlwH4DiHEP5hzewMCAgICAgI8CC7ddmGuBpwQYkRErwHwZkgZkZ8VQtxHRK/OP38dgO8DcBrAT5CsSD0SQtw2z3YFBAS0G/NeKMJCFBAwe4RxtVjMXQdOCPEmAG9y3nud8fc3AfimmnP8OYA/n0PzAgICAgICAgJWDqESQ0BAQECAhcCkBAS0H/NOYggICAgICAgICJgxggEXEBAQEBAQELBiCAZcQEBAQEBAQMCKIRhwAQEBAQEBAQErhmDABQQEBAQEBASsGIIBFxAQEBAQEBCwYggyIgGtRZAysBHuR0BAQEAAIzBwAQEBAQEBAQErhmDABQQEBAQEBASsGIIBFxAQEBAQEBCwYggxcAEBAYcKIVYwICDgKCAwcAEBAQEBAQEBK4ZgwAUEBAQEBAQErBiCARcQEBAQEBAQsGIIBlxAQEBAQEBAwIohGHABAQEBAQEBASuGYMAFBAQEBAQEBKwYgoxIQEDASiPIhgQEBBxFBAYuICAgICAgIGDFEAy4gICAgICAgIAVQzDgAgICAgICAgJWDMGACwgICAgICAhYMQQDLiAgICAgICBgxRAMuICAgICAgICAFUMw4AICAgICAgICVgzBgAsICAgICAgIWDEEAy4gICAgICAgYMUQDLiAgICAgICAgBVDMOACAgICAgICAlYMwYALCAgICAgICFgxkBBi2W2YGYjoHICPL+CnzgB4YgG/EzAdwnNaDYTntBoIz2k1EJ7TaoCf001CiLOTnOBQGXCLAhHdK4S4bdntCKhGeE6rgfCcVgPhOa0GwnNaDcziOQUXakBAQEBAQEDAiiEYcAEBAQEBAQEBK4ZgwE2G1y+7AQGNEJ7TaiA8p9VAeE6rgfCcVgNTP6cQAxcQEBAQEBAQsGIIDFxAQEBAQEBAwIohGHBjgIi+gIg+QEQfIqLvWnZ7AjSI6GNE9B4ieicR3Zu/d4qI/piI/ib/9+Sy23kUQUQ/S0SPE9F7jfdKnw0RfXc+xj5ARJ+/nFYfPZQ8p9cS0UP5uHonEX2h8Vl4TksAEd1ARH9GRO8jovuI6Nvz98OYahEqntPMxlRwoTYEEcUAPgjg8wA8COBtAL5SCHH/UhsWAEAacABuE0I8Ybz3HwCcF0L8cG5wnxRCfOey2nhUQUSfCeAKgF8UQjw7f8/7bIjoWQB+DcCLADwFwJ8AeLoQIl1S848MSp7TawFcEUL8qPPd8JyWBCK6FsC1Qoh3ENEWgLcD+FIAX48wplqDiuf0FZjRmAoMXHO8CMCHhBAfEUIMAPw6gFcsuU0B1XgFgF/I//4FyMETsGAIIf43gPPO22XP5hUAfl0IcSCE+CiAD0GOvYA5o+Q5lSE8pyVBCPGIEOId+d/bAN4H4DqEMdUqVDynMoz9nIIB1xzXAXjAeP0gqh9GwGIhAPwREb2diL4lf+9qIcQjgBxMAK5aWusCXJQ9mzDO2ofXENG7cxcru+XCc2oBiOhmAM8H8FcIY6q1cJ4TMKMxFQy45iDPe8H/3B58uhDiBQBeDuAf5u6ggNVDGGftwk8CeCqA5wF4BMB/yt8Pz2nJIKJNAL8F4J8IIS5XfdXzXnhWC4LnOc1sTAUDrjkeBHCD8fp6AA8vqS0BDoQQD+f/Pg7gdyCp58fyOASOR3h8eS0McFD2bMI4axGEEI8JIVIhRAbgp6BdOuE5LRFE1IE0Cn5FCPHb+dthTLUMvuc0yzEVDLjmeBuApxHRLUTUBfBKAG9ccpsCABDRRh4kCiLaAPB3ALwX8vl8Xf61rwPw35fTwgAPyp7NGwG8koh6RHQLgKcB+L9LaF8AlCHA+DLIcQWE57Q0EBEB+BkA7xNC/JjxURhTLULZc5rlmEpm2+TDCyHEiIheA+DNAGIAPyuEuG/JzQqQuBrA78jxggTArwoh/pCI3gbgDUT0jQA+AeDvL7GNRxZE9GsAXgbgDBE9COD7AfwwPM9GCHEfEb0BwP0ARgD+YciWWwxKntPLiOh5kK6cjwG4EwjPacn4dABfA+A9RPTO/L3vQRhTbUPZc/rKWY2pICMSEBAQEBAQELBiCC7UgICAgICAgIAVQzDgAgICAgICAgJWDMGACwgICAgICAhYMQQDLiAgICAgICBgxRAMuICAgICAgICAFUMw4AICAg4diOhK/u/NRPRVMz739ziv3zLL8wcEBAQ0QTDgAgICDjNuBjCWAUdEcc1XLANOCPGSMdsUEBAQMDWCARcQEHCY8cMAPoOI3klE/5SIYiL6j0T0tryY9J0AQEQvI6I/I6JfBfCe/L3fJaK3E9F9RPQt+Xs/DGAtP9+v5O8x20f5ud9LRO8hojuMc/85Ef0mEb2fiH4lV2kPCAgImBihEkNAQMBhxncB+A4hxBcDQG6IXRJCvJCIegD+koj+KP/uiwA8Wwjx0fz1NwghzhPRGoC3EdFvCSG+i4heI4R4nue3/h5kgernAjiTH/O/88+eD+BTIGsb/iWkSvtfzPpiAwICjg4CAxcQEHCU8HcAfG1e2uavAJyGrDkIAP/XMN4A4B8T0bsAvBWyyPTTUI2XAvi1vFD1YwD+F4AXGud+MC9g/U5I125AQEDAxAgMXEBAwFECAfhHQog3W28SvQzAjvP6bwO4XQixS0R/DqDf4NxlODD+ThHm3oCAgCkRGLiAgIDDjG0AW8brNwP4ViLqAMD/374dozQQRWEY/W9tYeUWxCWYxjXYWbgBV+A+0lq5A1trS4uA07kDwcIFKNwUmUAIaYSAPDmnnOHCTPc97kxVnVfVyYG50yRfc7xdJLncufe9nd/zkuRm/s7uLMlVktejvAXAHqdA4D+bkvzMq9DHJMts1per+UeCzyTXB+aek9xV1ZTkPZs16tZDkqmqVt19u3P9KckiyVuSTnLf3R9zAAIcVXX3Xz8DAAC/YIUKADAYAQcAMBgBBwAwGAEHADAYAQcAMBgBBwAwGAEHADAYAQcAMJg1rqYhaaovSmkAAAAASUVORK5CYII=\n",
      "text/plain": [
       "<Figure size 720x360 with 1 Axes>"
      ]
     },
     "metadata": {
      "needs_background": "light"
     },
     "output_type": "display_data"
    },
    {
     "name": "stdout",
     "output_type": "stream",
     "text": [
      "[(24, 0.31673401747302604), (46, 0.3165099064964141), (199, 0.3145964387700097), (64, 0.3120844142676124), (78, 0.31138960407653876)]\n",
      "Best Parameters:  {'xgb_model__subsample': 0.81, 'xgb_model__reg_lambda': 2.1, 'xgb_model__n_estimators': 488, 'xgb_model__min_child_weight': 5, 'xgb_model__max_depth': 16, 'xgb_model__learning_rate': 0.15, 'xgb_model__gamma': 3.4000000000000004, 'xgb_model__colsample_bytree': 0.9200000000000002}\n",
      "Best Score:  0.31673401747302604\n"
     ]
    }
   ],
   "source": [
    "rand_search = rand_search_eval(pipe_tuning, hype_params, sample_weights, optimal_n_iter)"
   ]
  },
  {
   "cell_type": "markdown",
   "id": "308dbd91",
   "metadata": {},
   "source": [
    "#### Final Hyper Parameters"
   ]
  },
  {
   "cell_type": "code",
   "execution_count": 209,
   "id": "28aa1194",
   "metadata": {},
   "outputs": [
    {
     "data": {
      "text/plain": [
       "{'xgb_model__subsample': 0.81,\n",
       " 'xgb_model__reg_lambda': 2.1,\n",
       " 'xgb_model__n_estimators': 488,\n",
       " 'xgb_model__min_child_weight': 5,\n",
       " 'xgb_model__max_depth': 16,\n",
       " 'xgb_model__learning_rate': 0.15,\n",
       " 'xgb_model__gamma': 3.4000000000000004,\n",
       " 'xgb_model__colsample_bytree': 0.9200000000000002}"
      ]
     },
     "execution_count": 209,
     "metadata": {},
     "output_type": "execute_result"
    }
   ],
   "source": [
    "# Final hyper_parameters\n",
    "rand_search.best_params_"
   ]
  },
  {
   "cell_type": "markdown",
   "id": "3d03c858",
   "metadata": {},
   "source": [
    "## Feature Importance"
   ]
  },
  {
   "cell_type": "code",
   "execution_count": 210,
<<<<<<< HEAD
<<<<<<< HEAD
   "id": "f4e79c05",
=======
   "id": "a1d27850",
>>>>>>> 8e3e5ac1f454cd1a067bc5ca2222da8e03783add
=======
   "id": "a1d27850",
>>>>>>> 8e3e5ac1f454cd1a067bc5ca2222da8e03783add
   "metadata": {},
   "outputs": [
    {
     "data": {
      "image/png": "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\n",
      "text/plain": [
       "<Figure size 720x360 with 1 Axes>"
      ]
     },
     "metadata": {
      "needs_background": "light"
     },
     "output_type": "display_data"
    }
   ],
   "source": [
    "plt.subplots(figsize=(10, 5))\n",
    "imps_features = rand_search.best_estimator_.named_steps.xgb_model.feature_importances_\n",
    "rand_search_imps = pd.Series(imps_features, index=X_train.columns).sort_values(ascending=True)\n",
    "rand_search_imps.plot(kind='barh')\n",
    "plt.xlabel('Importance')\n",
    "plt.ylabel('Feature')\n",
    "plt.title('Best XGB_Rand_Search Model Feature Importances');\n",
    "plt.show()"
   ]
  },
  {
   "cell_type": "code",
   "execution_count": 211,
<<<<<<< HEAD
<<<<<<< HEAD
   "id": "363fcb1b",
=======
   "id": "b38ed143",
>>>>>>> 8e3e5ac1f454cd1a067bc5ca2222da8e03783add
=======
   "id": "b38ed143",
>>>>>>> 8e3e5ac1f454cd1a067bc5ca2222da8e03783add
   "metadata": {},
   "outputs": [
    {
     "data": {
      "text/html": [
       "<div>\n",
       "<style scoped>\n",
       "    .dataframe tbody tr th:only-of-type {\n",
       "        vertical-align: middle;\n",
       "    }\n",
       "\n",
       "    .dataframe tbody tr th {\n",
       "        vertical-align: top;\n",
       "    }\n",
       "\n",
       "    .dataframe thead th {\n",
       "        text-align: right;\n",
       "    }\n",
       "</style>\n",
       "<table border=\"1\" class=\"dataframe\">\n",
       "  <thead>\n",
       "    <tr style=\"text-align: right;\">\n",
       "      <th></th>\n",
       "      <th>count</th>\n",
       "      <th>%</th>\n",
       "    </tr>\n",
       "  </thead>\n",
       "  <tbody>\n",
       "    <tr>\n",
       "      <th>Birth_Asphyxia</th>\n",
       "      <td>10855</td>\n",
       "      <td>54.506653</td>\n",
       "    </tr>\n",
       "    <tr>\n",
       "      <th>Substance_Abuse</th>\n",
       "      <td>10847</td>\n",
       "      <td>54.466483</td>\n",
       "    </tr>\n",
       "    <tr>\n",
       "      <th>Radiation_Exposure</th>\n",
       "      <td>10838</td>\n",
       "      <td>54.421290</td>\n",
       "    </tr>\n",
       "    <tr>\n",
       "      <th>Gender</th>\n",
       "      <td>7907</td>\n",
       "      <td>39.703741</td>\n",
       "    </tr>\n",
       "    <tr>\n",
       "      <th>Blood_Test</th>\n",
       "      <td>6322</td>\n",
       "      <td>31.744916</td>\n",
       "    </tr>\n",
       "    <tr>\n",
       "      <th>Mother_Patient_Birth_Age</th>\n",
       "      <td>5968</td>\n",
       "      <td>29.967361</td>\n",
       "    </tr>\n",
       "    <tr>\n",
       "      <th>Father_Patient_Birth_Age</th>\n",
       "      <td>5890</td>\n",
       "      <td>29.575697</td>\n",
       "    </tr>\n",
       "    <tr>\n",
       "      <th>Maternal_Gene</th>\n",
       "      <td>2405</td>\n",
       "      <td>12.076324</td>\n",
       "    </tr>\n",
       "    <tr>\n",
       "      <th>Symptom_2</th>\n",
       "      <td>1924</td>\n",
       "      <td>9.661060</td>\n",
       "    </tr>\n",
       "    <tr>\n",
       "      <th>Symptom_5</th>\n",
       "      <td>1881</td>\n",
       "      <td>9.445142</td>\n",
       "    </tr>\n",
       "    <tr>\n",
       "      <th>White_Blood_Cell</th>\n",
       "      <td>1876</td>\n",
       "      <td>9.420035</td>\n",
       "    </tr>\n",
       "    <tr>\n",
       "      <th>Respiratory_Rate</th>\n",
       "      <td>1857</td>\n",
       "      <td>9.324630</td>\n",
       "    </tr>\n",
       "    <tr>\n",
       "      <th>Birth_Place</th>\n",
       "      <td>1855</td>\n",
       "      <td>9.314587</td>\n",
       "    </tr>\n",
       "    <tr>\n",
       "      <th>Symptom_1</th>\n",
       "      <td>1853</td>\n",
       "      <td>9.304544</td>\n",
       "    </tr>\n",
       "    <tr>\n",
       "      <th>Follow_Up</th>\n",
       "      <td>1845</td>\n",
       "      <td>9.264374</td>\n",
       "    </tr>\n",
       "    <tr>\n",
       "      <th>History_Pregnancies</th>\n",
       "      <td>1845</td>\n",
       "      <td>9.264374</td>\n",
       "    </tr>\n",
       "    <tr>\n",
       "      <th>Birth_Defects</th>\n",
       "      <td>1845</td>\n",
       "      <td>9.264374</td>\n",
       "    </tr>\n",
       "    <tr>\n",
       "      <th>Previous_Abortions</th>\n",
       "      <td>1835</td>\n",
       "      <td>9.214160</td>\n",
       "    </tr>\n",
       "    <tr>\n",
       "      <th>Maternal_Illness</th>\n",
       "      <td>1831</td>\n",
       "      <td>9.194075</td>\n",
       "    </tr>\n",
       "    <tr>\n",
       "      <th>Assisted_Conception</th>\n",
       "      <td>1830</td>\n",
       "      <td>9.189053</td>\n",
       "    </tr>\n",
       "    <tr>\n",
       "      <th>Folic_Acid_Details</th>\n",
       "      <td>1823</td>\n",
       "      <td>9.153904</td>\n",
       "    </tr>\n",
       "    <tr>\n",
       "      <th>Symptom_4</th>\n",
       "      <td>1813</td>\n",
       "      <td>9.103691</td>\n",
       "    </tr>\n",
       "    <tr>\n",
       "      <th>Heart_Rate</th>\n",
       "      <td>1788</td>\n",
       "      <td>8.978157</td>\n",
       "    </tr>\n",
       "    <tr>\n",
       "      <th>Symptom_3</th>\n",
       "      <td>1786</td>\n",
       "      <td>8.968114</td>\n",
       "    </tr>\n",
       "    <tr>\n",
       "      <th>Patient_Age</th>\n",
       "      <td>1243</td>\n",
       "      <td>6.241526</td>\n",
       "    </tr>\n",
       "    <tr>\n",
       "      <th>Status_Birth_Defect</th>\n",
       "      <td>897</td>\n",
       "      <td>4.504143</td>\n",
       "    </tr>\n",
       "    <tr>\n",
       "      <th>Father_Gene</th>\n",
       "      <td>263</td>\n",
       "      <td>1.320613</td>\n",
       "    </tr>\n",
       "    <tr>\n",
       "      <th>Mother_Gene</th>\n",
       "      <td>0</td>\n",
       "      <td>0.000000</td>\n",
       "    </tr>\n",
       "    <tr>\n",
       "      <th>Blood_Cell</th>\n",
       "      <td>0</td>\n",
       "      <td>0.000000</td>\n",
       "    </tr>\n",
       "    <tr>\n",
       "      <th>Disorder_Subclass</th>\n",
       "      <td>0</td>\n",
       "      <td>0.000000</td>\n",
       "    </tr>\n",
       "    <tr>\n",
       "      <th>Paternal_Gene</th>\n",
       "      <td>0</td>\n",
       "      <td>0.000000</td>\n",
       "    </tr>\n",
       "  </tbody>\n",
       "</table>\n",
       "</div>"
      ],
      "text/plain": [
       "                          count          %\n",
       "Birth_Asphyxia            10855  54.506653\n",
       "Substance_Abuse           10847  54.466483\n",
       "Radiation_Exposure        10838  54.421290\n",
       "Gender                     7907  39.703741\n",
       "Blood_Test                 6322  31.744916\n",
       "Mother_Patient_Birth_Age   5968  29.967361\n",
       "Father_Patient_Birth_Age   5890  29.575697\n",
       "Maternal_Gene              2405  12.076324\n",
       "Symptom_2                  1924   9.661060\n",
       "Symptom_5                  1881   9.445142\n",
       "White_Blood_Cell           1876   9.420035\n",
       "Respiratory_Rate           1857   9.324630\n",
       "Birth_Place                1855   9.314587\n",
       "Symptom_1                  1853   9.304544\n",
       "Follow_Up                  1845   9.264374\n",
       "History_Pregnancies        1845   9.264374\n",
       "Birth_Defects              1845   9.264374\n",
       "Previous_Abortions         1835   9.214160\n",
       "Maternal_Illness           1831   9.194075\n",
       "Assisted_Conception        1830   9.189053\n",
       "Folic_Acid_Details         1823   9.153904\n",
       "Symptom_4                  1813   9.103691\n",
       "Heart_Rate                 1788   8.978157\n",
       "Symptom_3                  1786   8.968114\n",
       "Patient_Age                1243   6.241526\n",
       "Status_Birth_Defect         897   4.504143\n",
       "Father_Gene                 263   1.320613\n",
       "Mother_Gene                   0   0.000000\n",
       "Blood_Cell                    0   0.000000\n",
       "Disorder_Subclass             0   0.000000\n",
       "Paternal_Gene                 0   0.000000"
      ]
     },
     "execution_count": 211,
     "metadata": {},
     "output_type": "execute_result"
    }
   ],
   "source": [
    "# Calculate the missing data again\n",
    "missing_data = pd.concat([train_data.isnull().sum(), 100 * train_data.isnull().mean()], axis=1)\n",
    "missing_data.columns=['count', '%']\n",
    "missing_data.sort_values(by=\"count\", ascending=False)"
   ]
  },
  {
   "cell_type": "markdown",
   "id": "5ccc7a6c",
   "metadata": {},
   "source": [
    "## Final Model"
   ]
  },
  {
   "cell_type": "code",
   "execution_count": 226,
<<<<<<< HEAD
<<<<<<< HEAD
   "id": "f036377e",
=======
   "id": "4446a4c1",
>>>>>>> 8e3e5ac1f454cd1a067bc5ca2222da8e03783add
=======
   "id": "4446a4c1",
>>>>>>> 8e3e5ac1f454cd1a067bc5ca2222da8e03783add
   "metadata": {},
   "outputs": [
    {
     "data": {
      "text/plain": [
       "{'xgb_model__subsample': 0.81,\n",
       " 'xgb_model__reg_lambda': 2.1,\n",
       " 'xgb_model__n_estimators': 488,\n",
       " 'xgb_model__min_child_weight': 5,\n",
       " 'xgb_model__max_depth': 16,\n",
       " 'xgb_model__learning_rate': 0.15,\n",
       " 'xgb_model__gamma': 3.4000000000000004,\n",
       " 'xgb_model__colsample_bytree': 0.9200000000000002}"
      ]
     },
     "execution_count": 226,
     "metadata": {},
     "output_type": "execute_result"
    }
   ],
   "source": [
    "final_model.best_params_"
   ]
  },
  {
   "cell_type": "code",
   "execution_count": 225,
   "id": "60dfab14",
   "metadata": {},
   "outputs": [
    {
     "name": "stdout",
     "output_type": "stream",
     "text": [
      "87.06377102686417\n",
      "87.34622144112478\n"
     ]
    }
   ],
   "source": [
    "final_model = rand_search\n",
    "\n",
    "pred_tr = final_model.predict(X_train)\n",
    "pred_te = final_model.predict(X_test)\n",
    "\n",
    "print(accuracy_score(y_train, pred_tr) * 100)\n",
    "print(accuracy_score(y_test, pred_te) * 100)"
   ]
  },
  {
   "cell_type": "code",
   "execution_count": 213,
   "id": "714fb92e",
   "metadata": {},
   "outputs": [
    {
     "name": "stdout",
     "output_type": "stream",
     "text": [
      "Scores: [39.41010355 39.5669909  40.23854363 37.38229755 37.9472693 ]\n",
      "Mean: 38.90904098591047\n",
      "Standard Deviation: 0.010684090357668053\n"
     ]
    }
   ],
   "source": [
    "# Cross Validation Score\n",
    "scores = cross_val_score(final_model.best_estimator_, X_train, y_train, cv=5, scoring=\"accuracy\", n_jobs=-1)\n",
    "print(\"Scores:\", scores * 100)\n",
    "print(\"Mean:\", scores.mean() * 100)\n",
    "print(\"Standard Deviation:\", scores.std())"
   ]
  },
  {
   "cell_type": "code",
   "execution_count": 217,
<<<<<<< HEAD
<<<<<<< HEAD
   "id": "63049b8e",
=======
   "id": "8127e8f8",
>>>>>>> 8e3e5ac1f454cd1a067bc5ca2222da8e03783add
=======
   "id": "8127e8f8",
>>>>>>> 8e3e5ac1f454cd1a067bc5ca2222da8e03783add
   "metadata": {},
   "outputs": [
    {
     "name": "stdout",
     "output_type": "stream",
     "text": [
      "F1_Macro Scores: [29.26510754 32.82672372 29.68576827 28.33247918 31.56355478]\n",
      "F1_Macro Scores Mean: 30.334726697561422\n",
      "F1_Macro Scores Standard Deviation: 0.016306008058775214\n"
     ]
    }
   ],
   "source": [
    "# Cross Validation Score for F1_Macro Score Metric baseline\n",
    "scores = cross_val_score(final_model.best_estimator_, X_train, y_train, cv=5, scoring=\"f1_macro\", n_jobs=-1)\n",
    "print(\"F1_Macro Scores:\", scores * 100)\n",
    "print(\"F1_Macro Scores Mean:\", scores.mean() * 100)\n",
    "print(\"F1_Macro Scores Standard Deviation:\", scores.std())"
   ]
  },
  {
   "cell_type": "code",
   "execution_count": 218,
   "id": "1b57254b",
   "metadata": {},
   "outputs": [
    {
     "name": "stdout",
     "output_type": "stream",
     "text": [
      "              precision    recall  f1-score   support\n",
      "\n",
      "           0       1.00      0.38      0.55        29\n",
      "           1       0.91      0.43      0.59        23\n",
      "           2       0.83      0.91      0.86       647\n",
      "           3       0.90      0.80      0.85       346\n",
      "           4       0.93      0.76      0.84       266\n",
      "           5       0.91      0.67      0.77       126\n",
      "           6       0.86      0.92      0.89      1072\n",
      "           7       0.89      0.93      0.91       901\n",
      "           8       0.90      0.85      0.87       573\n",
      "\n",
      "    accuracy                           0.87      3983\n",
      "   macro avg       0.90      0.74      0.79      3983\n",
      "weighted avg       0.88      0.87      0.87      3983\n",
      "\n"
     ]
    }
   ],
   "source": [
    "print(classification_report(y_test, pred_te))"
   ]
  },
  {
   "cell_type": "markdown",
<<<<<<< HEAD
<<<<<<< HEAD
   "id": "89fd2eb8",
=======
   "id": "fbf0fb67",
>>>>>>> 8e3e5ac1f454cd1a067bc5ca2222da8e03783add
=======
   "id": "fbf0fb67",
>>>>>>> 8e3e5ac1f454cd1a067bc5ca2222da8e03783add
   "metadata": {},
   "source": [
    "### Fitting and Saving Final Model to Entire Dataset"
   ]
  },
  {
   "cell_type": "code",
   "execution_count": 221,
   "id": "b568b4ac",
   "metadata": {},
   "outputs": [
    {
     "data": {
      "text/plain": [
       "Pipeline(steps=[('preprocessor',\n",
       "                 ColumnTransformer(transformers=[('num_transformer',\n",
       "                                                  SimpleImputer(fill_value=-99,\n",
       "                                                                strategy='constant'),\n",
       "                                                  Index(['Patient_Age', 'Blood_Cell', 'Previous_Abortions', 'White_Blood_Cell',\n",
       "       'Symptom_1', 'Symptom_2', 'Symptom_3', 'Symptom_4', 'Symptom_5',\n",
       "       'Father_Patient_Birth_Age', 'Mother_Patient_Birth_Age'],\n",
       "      dtype='object')),\n",
       "                                                 ('cat_trans...\n",
       "                               learning_rate=0.15, max_delta_step=0,\n",
       "                               max_depth=16, min_child_weight=5, missing=nan,\n",
       "                               monotone_constraints='()', n_estimators=488,\n",
       "                               n_jobs=6, num_parallel_tree=1,\n",
       "                               objective='multi:softprob', predictor='auto',\n",
       "                               random_state=123, reg_alpha=0, reg_lambda=2.1,\n",
       "                               scale_pos_weight=None, seed=123, subsample=0.81,\n",
       "                               tree_method='exact', use_label_encoder=False,\n",
       "                               validate_parameters=1, ...))])"
      ]
     },
     "execution_count": 221,
     "metadata": {},
     "output_type": "execute_result"
    }
   ],
   "source": [
    "# Fit Final Model to Entire Training Data\n",
    "final_model.best_estimator_.fit(X, encoded_y)"
   ]
  },
  {
   "cell_type": "code",
   "execution_count": 222,
<<<<<<< HEAD
<<<<<<< HEAD
   "id": "2db15a4f",
=======
   "id": "bb305893",
>>>>>>> 8e3e5ac1f454cd1a067bc5ca2222da8e03783add
=======
   "id": "bb305893",
>>>>>>> 8e3e5ac1f454cd1a067bc5ca2222da8e03783add
   "metadata": {},
   "outputs": [
    {
     "name": "stdout",
     "output_type": "stream",
     "text": [
      "Scores: [39.04092393 38.61410997 38.48857645 38.33793623 39.31709767]\n",
      "Mean: 38.75972884760231\n",
      "Standard Deviation: 0.003639692749067569\n"
     ]
    }
   ],
   "source": [
    "# Cross Validation Score\n",
    "scores = cross_val_score(final_model.best_estimator_, X, encoded_y, cv=5, scoring=\"accuracy\", n_jobs=-1)\n",
    "print(\"Scores:\", scores * 100)\n",
    "print(\"Mean:\", scores.mean() * 100)\n",
    "print(\"Standard Deviation:\", scores.std())"
   ]
  },
  {
   "cell_type": "code",
   "execution_count": 223,
<<<<<<< HEAD
<<<<<<< HEAD
   "id": "0461fe15",
=======
   "id": "33bde443",
>>>>>>> 8e3e5ac1f454cd1a067bc5ca2222da8e03783add
=======
   "id": "33bde443",
>>>>>>> 8e3e5ac1f454cd1a067bc5ca2222da8e03783add
   "metadata": {},
   "outputs": [
    {
     "name": "stdout",
     "output_type": "stream",
     "text": [
      "F1_Macro Scores: [31.0433014  31.93206223 30.30996724 27.70815854 30.84834761]\n",
      "F1_Macro Scores Mean: 30.368367404646445\n",
      "F1_Macro Scores Standard Deviation: 0.014290682424111438\n"
     ]
    }
   ],
   "source": [
    "# Cross Validation Score for F1_Macro Score Metric baseline\n",
    "scores = cross_val_score(final_model.best_estimator_, X, encoded_y, cv=5, scoring=\"f1_macro\", n_jobs=-1)\n",
    "print(\"F1_Macro Scores:\", scores * 100)\n",
    "print(\"F1_Macro Scores Mean:\", scores.mean() * 100)\n",
    "print(\"F1_Macro Scores Standard Deviation:\", scores.std())"
   ]
  },
  {
   "cell_type": "code",
   "execution_count": 228,
<<<<<<< HEAD
<<<<<<< HEAD
   "id": "5f79e30a",
=======
   "id": "2f944b40",
>>>>>>> 8e3e5ac1f454cd1a067bc5ca2222da8e03783add
=======
   "id": "2f944b40",
>>>>>>> 8e3e5ac1f454cd1a067bc5ca2222da8e03783add
   "metadata": {},
   "outputs": [],
   "source": [
    "# Fit baseline model with entire training set for comparision\n",
    "# pipe_initial.fit(X, encoded_y)\n",
    "\n",
    "# Saving the best model\n",
    "# baseline_model = pipe_initial.best_estimator_\n",
    "# best_model = final_model.best_estimator_\n",
    "\n",
    "# Save the model as a pickle in a file\n",
    "# joblib.dump(pipe_initial, '../Model/initial_model.pkl')\n",
    "# joblib.dump(best_model, '../Model/best_model.pkl')"
   ]
  },
  {
   "cell_type": "code",
   "execution_count": 132,
<<<<<<< HEAD
<<<<<<< HEAD
   "id": "03890f74",
=======
   "id": "0fc3aec4",
>>>>>>> 8e3e5ac1f454cd1a067bc5ca2222da8e03783add
=======
   "id": "0fc3aec4",
>>>>>>> 8e3e5ac1f454cd1a067bc5ca2222da8e03783add
   "metadata": {},
   "outputs": [
    {
     "data": {
      "text/plain": [
       "{'xgb_model__subsample': 0.9500000000000003,\n",
       " 'xgb_model__reg_lambda': 2.549999999999998,\n",
       " 'xgb_model__n_estimators': 375,\n",
       " 'xgb_model__min_child_weight': 3,\n",
       " 'xgb_model__max_depth': 6,\n",
       " 'xgb_model__learning_rate': 0.1,\n",
       " 'xgb_model__gamma': 2.4000000000000004,\n",
       " 'xgb_model__colsample_bytree': 0.7499999999999999}"
      ]
     },
     "execution_count": 132,
     "metadata": {},
     "output_type": "execute_result"
    }
   ],
   "source": [
    "final_model.best_params_"
   ]
  }
 ],
 "metadata": {
  "kernelspec": {
   "display_name": "Python 3 (ipykernel)",
   "language": "python",
   "name": "python3"
  },
  "language_info": {
   "codemirror_mode": {
    "name": "ipython",
    "version": 3
   },
   "file_extension": ".py",
   "mimetype": "text/x-python",
   "name": "python",
   "nbconvert_exporter": "python",
   "pygments_lexer": "ipython3",
   "version": "3.8.8"
  }
 },
 "nbformat": 4,
 "nbformat_minor": 5
}
