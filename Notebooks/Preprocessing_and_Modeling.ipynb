{
 "cells": [
  {
   "cell_type": "markdown",
   "id": "0063b215",
   "metadata": {},
   "source": [
    "### Packages"
   ]
  },
  {
   "cell_type": "code",
   "execution_count": 130,
   "id": "561263c0",
   "metadata": {},
   "outputs": [],
   "source": [
    "import pandas as pd\n",
    "import numpy as np\n",
    "import matplotlib.pyplot as plt\n",
    "import seaborn as sns\n",
    "import missingno as msno\n",
    "from sklearn.preprocessing import LabelEncoder, OneHotEncoder, OrdinalEncoder\n",
    "from sklearn.metrics import mean_absolute_error, accuracy_score, classification_report, confusion_matrix\n",
    "from sklearn.compose import ColumnTransformer\n",
    "from sklearn.pipeline import Pipeline\n",
    "from sklearn.impute import SimpleImputer\n",
    "from sklearn.model_selection import train_test_split, cross_val_score, RandomizedSearchCV, GridSearchCV\n",
    "from sklearn.feature_extraction import DictVectorizer\n",
    "\n",
    "import xgboost as xgb\n",
    "\n",
    "import warnings\n",
    "warnings.filterwarnings('ignore')"
   ]
  },
  {
   "cell_type": "markdown",
   "id": "f76606b6",
   "metadata": {},
   "source": [
    "### Load Cleaned Data Set"
   ]
  },
  {
   "cell_type": "code",
   "execution_count": 2,
   "id": "9df3d7c8",
   "metadata": {},
   "outputs": [],
   "source": [
    "train_data = pd.read_csv(\"..\\\\Data\\\\train_data_EDA_processed.csv\", index_col=0)"
   ]
  },
  {
   "cell_type": "code",
   "execution_count": 3,
   "id": "d4a905ad",
   "metadata": {},
   "outputs": [
    {
     "data": {
      "text/html": [
       "<div>\n",
       "<style scoped>\n",
       "    .dataframe tbody tr th:only-of-type {\n",
       "        vertical-align: middle;\n",
       "    }\n",
       "\n",
       "    .dataframe tbody tr th {\n",
       "        vertical-align: top;\n",
       "    }\n",
       "\n",
       "    .dataframe thead th {\n",
       "        text-align: right;\n",
       "    }\n",
       "</style>\n",
       "<table border=\"1\" class=\"dataframe\">\n",
       "  <thead>\n",
       "    <tr style=\"text-align: right;\">\n",
       "      <th></th>\n",
       "      <th>0</th>\n",
       "      <th>1</th>\n",
       "      <th>2</th>\n",
       "      <th>3</th>\n",
       "      <th>4</th>\n",
       "      <th>5</th>\n",
       "      <th>6</th>\n",
       "      <th>7</th>\n",
       "      <th>8</th>\n",
       "      <th>9</th>\n",
       "      <th>...</th>\n",
       "      <th>22073</th>\n",
       "      <th>22074</th>\n",
       "      <th>22075</th>\n",
       "      <th>22076</th>\n",
       "      <th>22077</th>\n",
       "      <th>22078</th>\n",
       "      <th>22079</th>\n",
       "      <th>22080</th>\n",
       "      <th>22081</th>\n",
       "      <th>22082</th>\n",
       "    </tr>\n",
       "  </thead>\n",
       "  <tbody>\n",
       "    <tr>\n",
       "      <th>Patient_Age</th>\n",
       "      <td>2.0</td>\n",
       "      <td>4.0</td>\n",
       "      <td>6.0</td>\n",
       "      <td>12.0</td>\n",
       "      <td>11.0</td>\n",
       "      <td>14.0</td>\n",
       "      <td>3.0</td>\n",
       "      <td>3.0</td>\n",
       "      <td>11.0</td>\n",
       "      <td>4.0</td>\n",
       "      <td>...</td>\n",
       "      <td>13.0</td>\n",
       "      <td>4.0</td>\n",
       "      <td>10.0</td>\n",
       "      <td>0.0</td>\n",
       "      <td>9.0</td>\n",
       "      <td>4.0</td>\n",
       "      <td>8.0</td>\n",
       "      <td>8.0</td>\n",
       "      <td>7.0</td>\n",
       "      <td>11.0</td>\n",
       "    </tr>\n",
       "    <tr>\n",
       "      <th>Mother_Gene</th>\n",
       "      <td>Yes</td>\n",
       "      <td>Yes</td>\n",
       "      <td>Yes</td>\n",
       "      <td>Yes</td>\n",
       "      <td>Yes</td>\n",
       "      <td>Yes</td>\n",
       "      <td>Yes</td>\n",
       "      <td>No</td>\n",
       "      <td>No</td>\n",
       "      <td>No</td>\n",
       "      <td>...</td>\n",
       "      <td>Yes</td>\n",
       "      <td>No</td>\n",
       "      <td>No</td>\n",
       "      <td>Yes</td>\n",
       "      <td>No</td>\n",
       "      <td>Yes</td>\n",
       "      <td>No</td>\n",
       "      <td>Yes</td>\n",
       "      <td>Yes</td>\n",
       "      <td>Yes</td>\n",
       "    </tr>\n",
       "    <tr>\n",
       "      <th>Father_Gene</th>\n",
       "      <td>No</td>\n",
       "      <td>Yes</td>\n",
       "      <td>No</td>\n",
       "      <td>No</td>\n",
       "      <td>No</td>\n",
       "      <td>No</td>\n",
       "      <td>No</td>\n",
       "      <td>No</td>\n",
       "      <td>No</td>\n",
       "      <td>Yes</td>\n",
       "      <td>...</td>\n",
       "      <td>Yes</td>\n",
       "      <td>No</td>\n",
       "      <td>No</td>\n",
       "      <td>No</td>\n",
       "      <td>Yes</td>\n",
       "      <td>Yes</td>\n",
       "      <td>Yes</td>\n",
       "      <td>No</td>\n",
       "      <td>No</td>\n",
       "      <td>No</td>\n",
       "    </tr>\n",
       "    <tr>\n",
       "      <th>Maternal_Gene</th>\n",
       "      <td>Yes</td>\n",
       "      <td>No</td>\n",
       "      <td>No</td>\n",
       "      <td>Yes</td>\n",
       "      <td>NaN</td>\n",
       "      <td>Yes</td>\n",
       "      <td>Yes</td>\n",
       "      <td>Yes</td>\n",
       "      <td>Yes</td>\n",
       "      <td>Yes</td>\n",
       "      <td>...</td>\n",
       "      <td>No</td>\n",
       "      <td>NaN</td>\n",
       "      <td>Yes</td>\n",
       "      <td>Yes</td>\n",
       "      <td>Yes</td>\n",
       "      <td>Yes</td>\n",
       "      <td>No</td>\n",
       "      <td>Yes</td>\n",
       "      <td>Yes</td>\n",
       "      <td>No</td>\n",
       "    </tr>\n",
       "    <tr>\n",
       "      <th>Paternal_Gene</th>\n",
       "      <td>No</td>\n",
       "      <td>No</td>\n",
       "      <td>No</td>\n",
       "      <td>No</td>\n",
       "      <td>Yes</td>\n",
       "      <td>No</td>\n",
       "      <td>Yes</td>\n",
       "      <td>Yes</td>\n",
       "      <td>No</td>\n",
       "      <td>Yes</td>\n",
       "      <td>...</td>\n",
       "      <td>Yes</td>\n",
       "      <td>No</td>\n",
       "      <td>Yes</td>\n",
       "      <td>No</td>\n",
       "      <td>Yes</td>\n",
       "      <td>No</td>\n",
       "      <td>Yes</td>\n",
       "      <td>No</td>\n",
       "      <td>Yes</td>\n",
       "      <td>No</td>\n",
       "    </tr>\n",
       "    <tr>\n",
       "      <th>Blood_Cell</th>\n",
       "      <td>4.760603</td>\n",
       "      <td>4.910669</td>\n",
       "      <td>4.893297</td>\n",
       "      <td>4.70528</td>\n",
       "      <td>4.720703</td>\n",
       "      <td>5.103188</td>\n",
       "      <td>4.90108</td>\n",
       "      <td>4.964816</td>\n",
       "      <td>5.209058</td>\n",
       "      <td>4.752272</td>\n",
       "      <td>...</td>\n",
       "      <td>4.874635</td>\n",
       "      <td>4.789307</td>\n",
       "      <td>4.64386</td>\n",
       "      <td>4.931758</td>\n",
       "      <td>5.012599</td>\n",
       "      <td>5.258298</td>\n",
       "      <td>4.97422</td>\n",
       "      <td>5.18647</td>\n",
       "      <td>4.858543</td>\n",
       "      <td>4.738067</td>\n",
       "    </tr>\n",
       "    <tr>\n",
       "      <th>Mother_Age</th>\n",
       "      <td>NaN</td>\n",
       "      <td>NaN</td>\n",
       "      <td>41.0</td>\n",
       "      <td>21.0</td>\n",
       "      <td>32.0</td>\n",
       "      <td>NaN</td>\n",
       "      <td>NaN</td>\n",
       "      <td>40.0</td>\n",
       "      <td>45.0</td>\n",
       "      <td>44.0</td>\n",
       "      <td>...</td>\n",
       "      <td>44.0</td>\n",
       "      <td>35.0</td>\n",
       "      <td>49.0</td>\n",
       "      <td>NaN</td>\n",
       "      <td>47.0</td>\n",
       "      <td>35.0</td>\n",
       "      <td>NaN</td>\n",
       "      <td>35.0</td>\n",
       "      <td>19.0</td>\n",
       "      <td>32.0</td>\n",
       "    </tr>\n",
       "    <tr>\n",
       "      <th>Father_Age</th>\n",
       "      <td>NaN</td>\n",
       "      <td>23.0</td>\n",
       "      <td>22.0</td>\n",
       "      <td>NaN</td>\n",
       "      <td>NaN</td>\n",
       "      <td>NaN</td>\n",
       "      <td>63.0</td>\n",
       "      <td>NaN</td>\n",
       "      <td>44.0</td>\n",
       "      <td>42.0</td>\n",
       "      <td>...</td>\n",
       "      <td>62.0</td>\n",
       "      <td>51.0</td>\n",
       "      <td>NaN</td>\n",
       "      <td>50.0</td>\n",
       "      <td>NaN</td>\n",
       "      <td>64.0</td>\n",
       "      <td>56.0</td>\n",
       "      <td>51.0</td>\n",
       "      <td>NaN</td>\n",
       "      <td>62.0</td>\n",
       "    </tr>\n",
       "    <tr>\n",
       "      <th>Status</th>\n",
       "      <td>Alive</td>\n",
       "      <td>Deceased</td>\n",
       "      <td>Alive</td>\n",
       "      <td>Deceased</td>\n",
       "      <td>Alive</td>\n",
       "      <td>Deceased</td>\n",
       "      <td>Alive</td>\n",
       "      <td>Alive</td>\n",
       "      <td>Alive</td>\n",
       "      <td>Alive</td>\n",
       "      <td>...</td>\n",
       "      <td>Alive</td>\n",
       "      <td>Alive</td>\n",
       "      <td>Deceased</td>\n",
       "      <td>Alive</td>\n",
       "      <td>Deceased</td>\n",
       "      <td>Deceased</td>\n",
       "      <td>Alive</td>\n",
       "      <td>Deceased</td>\n",
       "      <td>Alive</td>\n",
       "      <td>Deceased</td>\n",
       "    </tr>\n",
       "    <tr>\n",
       "      <th>Respiratory_Rate</th>\n",
       "      <td>Normal (30-60)</td>\n",
       "      <td>Tachypnea</td>\n",
       "      <td>Normal (30-60)</td>\n",
       "      <td>Tachypnea</td>\n",
       "      <td>Tachypnea</td>\n",
       "      <td>NaN</td>\n",
       "      <td>Normal (30-60)</td>\n",
       "      <td>Tachypnea</td>\n",
       "      <td>Tachypnea</td>\n",
       "      <td>Tachypnea</td>\n",
       "      <td>...</td>\n",
       "      <td>Tachypnea</td>\n",
       "      <td>Tachypnea</td>\n",
       "      <td>NaN</td>\n",
       "      <td>Normal (30-60)</td>\n",
       "      <td>NaN</td>\n",
       "      <td>Normal (30-60)</td>\n",
       "      <td>Normal (30-60)</td>\n",
       "      <td>Tachypnea</td>\n",
       "      <td>Tachypnea</td>\n",
       "      <td>Normal (30-60)</td>\n",
       "    </tr>\n",
       "    <tr>\n",
       "      <th>Heart_Rate</th>\n",
       "      <td>Normal</td>\n",
       "      <td>Normal</td>\n",
       "      <td>Tachycardia</td>\n",
       "      <td>Normal</td>\n",
       "      <td>Tachycardia</td>\n",
       "      <td>Normal</td>\n",
       "      <td>NaN</td>\n",
       "      <td>Normal</td>\n",
       "      <td>Tachycardia</td>\n",
       "      <td>Tachycardia</td>\n",
       "      <td>...</td>\n",
       "      <td>Tachycardia</td>\n",
       "      <td>Normal</td>\n",
       "      <td>Normal</td>\n",
       "      <td>Tachycardia</td>\n",
       "      <td>Normal</td>\n",
       "      <td>Tachycardia</td>\n",
       "      <td>Normal</td>\n",
       "      <td>Normal</td>\n",
       "      <td>Tachycardia</td>\n",
       "      <td>Normal</td>\n",
       "    </tr>\n",
       "    <tr>\n",
       "      <th>Follow_Up</th>\n",
       "      <td>High</td>\n",
       "      <td>High</td>\n",
       "      <td>Low</td>\n",
       "      <td>High</td>\n",
       "      <td>Low</td>\n",
       "      <td>Low</td>\n",
       "      <td>Low</td>\n",
       "      <td>Low</td>\n",
       "      <td>Low</td>\n",
       "      <td>Low</td>\n",
       "      <td>...</td>\n",
       "      <td>NaN</td>\n",
       "      <td>Low</td>\n",
       "      <td>Low</td>\n",
       "      <td>Low</td>\n",
       "      <td>NaN</td>\n",
       "      <td>High</td>\n",
       "      <td>High</td>\n",
       "      <td>High</td>\n",
       "      <td>High</td>\n",
       "      <td>High</td>\n",
       "    </tr>\n",
       "    <tr>\n",
       "      <th>Gender</th>\n",
       "      <td>NaN</td>\n",
       "      <td>NaN</td>\n",
       "      <td>NaN</td>\n",
       "      <td>Male</td>\n",
       "      <td>Male</td>\n",
       "      <td>Female</td>\n",
       "      <td>Male</td>\n",
       "      <td>NaN</td>\n",
       "      <td>Male</td>\n",
       "      <td>Male</td>\n",
       "      <td>...</td>\n",
       "      <td>NaN</td>\n",
       "      <td>Male</td>\n",
       "      <td>NaN</td>\n",
       "      <td>Female</td>\n",
       "      <td>NaN</td>\n",
       "      <td>Female</td>\n",
       "      <td>NaN</td>\n",
       "      <td>Male</td>\n",
       "      <td>Male</td>\n",
       "      <td>Female</td>\n",
       "    </tr>\n",
       "    <tr>\n",
       "      <th>Birth_Asphyxia</th>\n",
       "      <td>NaN</td>\n",
       "      <td>No</td>\n",
       "      <td>NaN</td>\n",
       "      <td>NaN</td>\n",
       "      <td>NaN</td>\n",
       "      <td>NaN</td>\n",
       "      <td>NaN</td>\n",
       "      <td>NaN</td>\n",
       "      <td>Yes</td>\n",
       "      <td>No</td>\n",
       "      <td>...</td>\n",
       "      <td>NaN</td>\n",
       "      <td>Yes</td>\n",
       "      <td>No</td>\n",
       "      <td>NaN</td>\n",
       "      <td>NaN</td>\n",
       "      <td>No</td>\n",
       "      <td>No</td>\n",
       "      <td>No</td>\n",
       "      <td>NaN</td>\n",
       "      <td>Yes</td>\n",
       "    </tr>\n",
       "    <tr>\n",
       "      <th>Autopsy_Birth_Defect</th>\n",
       "      <td>NaN</td>\n",
       "      <td>No</td>\n",
       "      <td>NaN</td>\n",
       "      <td>No</td>\n",
       "      <td>NaN</td>\n",
       "      <td>No</td>\n",
       "      <td>NaN</td>\n",
       "      <td>NaN</td>\n",
       "      <td>NaN</td>\n",
       "      <td>NaN</td>\n",
       "      <td>...</td>\n",
       "      <td>NaN</td>\n",
       "      <td>NaN</td>\n",
       "      <td>Yes</td>\n",
       "      <td>NaN</td>\n",
       "      <td>Yes</td>\n",
       "      <td>No</td>\n",
       "      <td>NaN</td>\n",
       "      <td>No</td>\n",
       "      <td>NaN</td>\n",
       "      <td>No</td>\n",
       "    </tr>\n",
       "    <tr>\n",
       "      <th>Birth_Place</th>\n",
       "      <td>Institute</td>\n",
       "      <td>NaN</td>\n",
       "      <td>NaN</td>\n",
       "      <td>Institute</td>\n",
       "      <td>Institute</td>\n",
       "      <td>Institute</td>\n",
       "      <td>Home</td>\n",
       "      <td>Home</td>\n",
       "      <td>Institute</td>\n",
       "      <td>Institute</td>\n",
       "      <td>...</td>\n",
       "      <td>Home</td>\n",
       "      <td>Institute</td>\n",
       "      <td>Home</td>\n",
       "      <td>Institute</td>\n",
       "      <td>Home</td>\n",
       "      <td>Institute</td>\n",
       "      <td>Institute</td>\n",
       "      <td>Home</td>\n",
       "      <td>Home</td>\n",
       "      <td>Institute</td>\n",
       "    </tr>\n",
       "    <tr>\n",
       "      <th>Folic_Acid_Details</th>\n",
       "      <td>No</td>\n",
       "      <td>Yes</td>\n",
       "      <td>Yes</td>\n",
       "      <td>No</td>\n",
       "      <td>No</td>\n",
       "      <td>No</td>\n",
       "      <td>NaN</td>\n",
       "      <td>Yes</td>\n",
       "      <td>Yes</td>\n",
       "      <td>Yes</td>\n",
       "      <td>...</td>\n",
       "      <td>No</td>\n",
       "      <td>No</td>\n",
       "      <td>No</td>\n",
       "      <td>No</td>\n",
       "      <td>Yes</td>\n",
       "      <td>NaN</td>\n",
       "      <td>Yes</td>\n",
       "      <td>No</td>\n",
       "      <td>Yes</td>\n",
       "      <td>Yes</td>\n",
       "    </tr>\n",
       "    <tr>\n",
       "      <th>Maternal_Illness</th>\n",
       "      <td>NaN</td>\n",
       "      <td>Yes</td>\n",
       "      <td>No</td>\n",
       "      <td>Yes</td>\n",
       "      <td>Yes</td>\n",
       "      <td>No</td>\n",
       "      <td>Yes</td>\n",
       "      <td>Yes</td>\n",
       "      <td>Yes</td>\n",
       "      <td>No</td>\n",
       "      <td>...</td>\n",
       "      <td>NaN</td>\n",
       "      <td>No</td>\n",
       "      <td>NaN</td>\n",
       "      <td>No</td>\n",
       "      <td>No</td>\n",
       "      <td>No</td>\n",
       "      <td>Yes</td>\n",
       "      <td>No</td>\n",
       "      <td>Yes</td>\n",
       "      <td>Yes</td>\n",
       "    </tr>\n",
       "    <tr>\n",
       "      <th>Radiation_Exposure</th>\n",
       "      <td>No</td>\n",
       "      <td>NaN</td>\n",
       "      <td>Yes</td>\n",
       "      <td>NaN</td>\n",
       "      <td>NaN</td>\n",
       "      <td>No</td>\n",
       "      <td>No</td>\n",
       "      <td>No</td>\n",
       "      <td>No</td>\n",
       "      <td>No</td>\n",
       "      <td>...</td>\n",
       "      <td>No</td>\n",
       "      <td>NaN</td>\n",
       "      <td>NaN</td>\n",
       "      <td>NaN</td>\n",
       "      <td>No</td>\n",
       "      <td>NaN</td>\n",
       "      <td>No</td>\n",
       "      <td>NaN</td>\n",
       "      <td>NaN</td>\n",
       "      <td>NaN</td>\n",
       "    </tr>\n",
       "    <tr>\n",
       "      <th>Substance_Abuse</th>\n",
       "      <td>No</td>\n",
       "      <td>NaN</td>\n",
       "      <td>NaN</td>\n",
       "      <td>NaN</td>\n",
       "      <td>NaN</td>\n",
       "      <td>No</td>\n",
       "      <td>NaN</td>\n",
       "      <td>NaN</td>\n",
       "      <td>No</td>\n",
       "      <td>No</td>\n",
       "      <td>...</td>\n",
       "      <td>No</td>\n",
       "      <td>No</td>\n",
       "      <td>NaN</td>\n",
       "      <td>No</td>\n",
       "      <td>NaN</td>\n",
       "      <td>No</td>\n",
       "      <td>NaN</td>\n",
       "      <td>No</td>\n",
       "      <td>Yes</td>\n",
       "      <td>No</td>\n",
       "    </tr>\n",
       "    <tr>\n",
       "      <th>Assisted_Conception</th>\n",
       "      <td>No</td>\n",
       "      <td>No</td>\n",
       "      <td>Yes</td>\n",
       "      <td>NaN</td>\n",
       "      <td>Yes</td>\n",
       "      <td>NaN</td>\n",
       "      <td>Yes</td>\n",
       "      <td>No</td>\n",
       "      <td>No</td>\n",
       "      <td>Yes</td>\n",
       "      <td>...</td>\n",
       "      <td>Yes</td>\n",
       "      <td>No</td>\n",
       "      <td>Yes</td>\n",
       "      <td>Yes</td>\n",
       "      <td>Yes</td>\n",
       "      <td>Yes</td>\n",
       "      <td>Yes</td>\n",
       "      <td>No</td>\n",
       "      <td>Yes</td>\n",
       "      <td>Yes</td>\n",
       "    </tr>\n",
       "    <tr>\n",
       "      <th>History_Pregnancies</th>\n",
       "      <td>Yes</td>\n",
       "      <td>Yes</td>\n",
       "      <td>Yes</td>\n",
       "      <td>Yes</td>\n",
       "      <td>No</td>\n",
       "      <td>No</td>\n",
       "      <td>No</td>\n",
       "      <td>Yes</td>\n",
       "      <td>Yes</td>\n",
       "      <td>Yes</td>\n",
       "      <td>...</td>\n",
       "      <td>No</td>\n",
       "      <td>No</td>\n",
       "      <td>Yes</td>\n",
       "      <td>Yes</td>\n",
       "      <td>Yes</td>\n",
       "      <td>No</td>\n",
       "      <td>No</td>\n",
       "      <td>No</td>\n",
       "      <td>No</td>\n",
       "      <td>Yes</td>\n",
       "    </tr>\n",
       "    <tr>\n",
       "      <th>Previous_Abortions</th>\n",
       "      <td>NaN</td>\n",
       "      <td>NaN</td>\n",
       "      <td>4.0</td>\n",
       "      <td>1.0</td>\n",
       "      <td>4.0</td>\n",
       "      <td>0.0</td>\n",
       "      <td>3.0</td>\n",
       "      <td>1.0</td>\n",
       "      <td>0.0</td>\n",
       "      <td>1.0</td>\n",
       "      <td>...</td>\n",
       "      <td>1.0</td>\n",
       "      <td>3.0</td>\n",
       "      <td>2.0</td>\n",
       "      <td>1.0</td>\n",
       "      <td>NaN</td>\n",
       "      <td>3.0</td>\n",
       "      <td>2.0</td>\n",
       "      <td>2.0</td>\n",
       "      <td>1.0</td>\n",
       "      <td>4.0</td>\n",
       "    </tr>\n",
       "    <tr>\n",
       "      <th>Birth_Defects</th>\n",
       "      <td>NaN</td>\n",
       "      <td>Multiple</td>\n",
       "      <td>Singular</td>\n",
       "      <td>Singular</td>\n",
       "      <td>Multiple</td>\n",
       "      <td>Multiple</td>\n",
       "      <td>Multiple</td>\n",
       "      <td>Singular</td>\n",
       "      <td>Multiple</td>\n",
       "      <td>Multiple</td>\n",
       "      <td>...</td>\n",
       "      <td>NaN</td>\n",
       "      <td>Multiple</td>\n",
       "      <td>Multiple</td>\n",
       "      <td>Singular</td>\n",
       "      <td>NaN</td>\n",
       "      <td>Multiple</td>\n",
       "      <td>Multiple</td>\n",
       "      <td>Singular</td>\n",
       "      <td>Multiple</td>\n",
       "      <td>Singular</td>\n",
       "    </tr>\n",
       "    <tr>\n",
       "      <th>White_Blood_Cell</th>\n",
       "      <td>9.857562</td>\n",
       "      <td>5.52256</td>\n",
       "      <td>NaN</td>\n",
       "      <td>7.919321</td>\n",
       "      <td>4.09821</td>\n",
       "      <td>10.27223</td>\n",
       "      <td>6.825974</td>\n",
       "      <td>9.836352</td>\n",
       "      <td>6.669552</td>\n",
       "      <td>6.397702</td>\n",
       "      <td>...</td>\n",
       "      <td>NaN</td>\n",
       "      <td>NaN</td>\n",
       "      <td>9.581455</td>\n",
       "      <td>11.649052</td>\n",
       "      <td>12.0</td>\n",
       "      <td>6.584811</td>\n",
       "      <td>7.041556</td>\n",
       "      <td>7.715464</td>\n",
       "      <td>8.43767</td>\n",
       "      <td>11.188371</td>\n",
       "    </tr>\n",
       "    <tr>\n",
       "      <th>Blood_Test</th>\n",
       "      <td>NaN</td>\n",
       "      <td>normal</td>\n",
       "      <td>normal</td>\n",
       "      <td>NaN</td>\n",
       "      <td>NaN</td>\n",
       "      <td>normal</td>\n",
       "      <td>normal</td>\n",
       "      <td>NaN</td>\n",
       "      <td>slightly abnormal</td>\n",
       "      <td>abnormal</td>\n",
       "      <td>...</td>\n",
       "      <td>normal</td>\n",
       "      <td>normal</td>\n",
       "      <td>abnormal</td>\n",
       "      <td>abnormal</td>\n",
       "      <td>slightly abnormal</td>\n",
       "      <td>NaN</td>\n",
       "      <td>NaN</td>\n",
       "      <td>normal</td>\n",
       "      <td>abnormal</td>\n",
       "      <td>normal</td>\n",
       "    </tr>\n",
       "    <tr>\n",
       "      <th>Symptom_1</th>\n",
       "      <td>1.0</td>\n",
       "      <td>1.0</td>\n",
       "      <td>0.0</td>\n",
       "      <td>0.0</td>\n",
       "      <td>0.0</td>\n",
       "      <td>1.0</td>\n",
       "      <td>0.0</td>\n",
       "      <td>0.0</td>\n",
       "      <td>1.0</td>\n",
       "      <td>0.0</td>\n",
       "      <td>...</td>\n",
       "      <td>0.0</td>\n",
       "      <td>0.0</td>\n",
       "      <td>1.0</td>\n",
       "      <td>1.0</td>\n",
       "      <td>NaN</td>\n",
       "      <td>0.0</td>\n",
       "      <td>1.0</td>\n",
       "      <td>0.0</td>\n",
       "      <td>1.0</td>\n",
       "      <td>1.0</td>\n",
       "    </tr>\n",
       "    <tr>\n",
       "      <th>Symptom_2</th>\n",
       "      <td>1.0</td>\n",
       "      <td>NaN</td>\n",
       "      <td>1.0</td>\n",
       "      <td>0.0</td>\n",
       "      <td>0.0</td>\n",
       "      <td>0.0</td>\n",
       "      <td>0.0</td>\n",
       "      <td>0.0</td>\n",
       "      <td>1.0</td>\n",
       "      <td>0.0</td>\n",
       "      <td>...</td>\n",
       "      <td>0.0</td>\n",
       "      <td>0.0</td>\n",
       "      <td>0.0</td>\n",
       "      <td>1.0</td>\n",
       "      <td>1.0</td>\n",
       "      <td>0.0</td>\n",
       "      <td>1.0</td>\n",
       "      <td>0.0</td>\n",
       "      <td>1.0</td>\n",
       "      <td>0.0</td>\n",
       "    </tr>\n",
       "    <tr>\n",
       "      <th>Symptom_3</th>\n",
       "      <td>1.0</td>\n",
       "      <td>1.0</td>\n",
       "      <td>1.0</td>\n",
       "      <td>1.0</td>\n",
       "      <td>0.0</td>\n",
       "      <td>0.0</td>\n",
       "      <td>0.0</td>\n",
       "      <td>1.0</td>\n",
       "      <td>1.0</td>\n",
       "      <td>1.0</td>\n",
       "      <td>...</td>\n",
       "      <td>0.0</td>\n",
       "      <td>1.0</td>\n",
       "      <td>0.0</td>\n",
       "      <td>0.0</td>\n",
       "      <td>0.0</td>\n",
       "      <td>1.0</td>\n",
       "      <td>1.0</td>\n",
       "      <td>0.0</td>\n",
       "      <td>1.0</td>\n",
       "      <td>1.0</td>\n",
       "    </tr>\n",
       "    <tr>\n",
       "      <th>Symptom_4</th>\n",
       "      <td>1.0</td>\n",
       "      <td>1.0</td>\n",
       "      <td>1.0</td>\n",
       "      <td>0.0</td>\n",
       "      <td>0.0</td>\n",
       "      <td>1.0</td>\n",
       "      <td>0.0</td>\n",
       "      <td>NaN</td>\n",
       "      <td>0.0</td>\n",
       "      <td>1.0</td>\n",
       "      <td>...</td>\n",
       "      <td>1.0</td>\n",
       "      <td>0.0</td>\n",
       "      <td>0.0</td>\n",
       "      <td>1.0</td>\n",
       "      <td>0.0</td>\n",
       "      <td>0.0</td>\n",
       "      <td>1.0</td>\n",
       "      <td>1.0</td>\n",
       "      <td>0.0</td>\n",
       "      <td>1.0</td>\n",
       "    </tr>\n",
       "    <tr>\n",
       "      <th>Symptom_5</th>\n",
       "      <td>1.0</td>\n",
       "      <td>0.0</td>\n",
       "      <td>1.0</td>\n",
       "      <td>0.0</td>\n",
       "      <td>NaN</td>\n",
       "      <td>0.0</td>\n",
       "      <td>0.0</td>\n",
       "      <td>0.0</td>\n",
       "      <td>1.0</td>\n",
       "      <td>1.0</td>\n",
       "      <td>...</td>\n",
       "      <td>1.0</td>\n",
       "      <td>0.0</td>\n",
       "      <td>NaN</td>\n",
       "      <td>0.0</td>\n",
       "      <td>0.0</td>\n",
       "      <td>0.0</td>\n",
       "      <td>0.0</td>\n",
       "      <td>NaN</td>\n",
       "      <td>0.0</td>\n",
       "      <td>1.0</td>\n",
       "    </tr>\n",
       "    <tr>\n",
       "      <th>Disorder_Subclass</th>\n",
       "      <td>Leber's hereditary optic neuropathy</td>\n",
       "      <td>Cystic fibrosis</td>\n",
       "      <td>Diabetes</td>\n",
       "      <td>Leigh syndrome</td>\n",
       "      <td>Cancer</td>\n",
       "      <td>Cystic fibrosis</td>\n",
       "      <td>Tay-Sachs</td>\n",
       "      <td>Tay-Sachs</td>\n",
       "      <td>Leigh syndrome</td>\n",
       "      <td>Diabetes</td>\n",
       "      <td>...</td>\n",
       "      <td>Leigh syndrome</td>\n",
       "      <td>Hemochromatosis</td>\n",
       "      <td>Mitochondrial myopathy</td>\n",
       "      <td>Leigh syndrome</td>\n",
       "      <td>Leigh syndrome</td>\n",
       "      <td>Leigh syndrome</td>\n",
       "      <td>Diabetes</td>\n",
       "      <td>Mitochondrial myopathy</td>\n",
       "      <td>Leigh syndrome</td>\n",
       "      <td>Diabetes</td>\n",
       "    </tr>\n",
       "  </tbody>\n",
       "</table>\n",
       "<p>32 rows × 19915 columns</p>\n",
       "</div>"
      ],
      "text/plain": [
       "                                                    0                1      \\\n",
       "Patient_Age                                           2.0              4.0   \n",
       "Mother_Gene                                           Yes              Yes   \n",
       "Father_Gene                                            No              Yes   \n",
       "Maternal_Gene                                         Yes               No   \n",
       "Paternal_Gene                                          No               No   \n",
       "Blood_Cell                                       4.760603         4.910669   \n",
       "Mother_Age                                            NaN              NaN   \n",
       "Father_Age                                            NaN             23.0   \n",
       "Status                                              Alive         Deceased   \n",
       "Respiratory_Rate                           Normal (30-60)        Tachypnea   \n",
       "Heart_Rate                                         Normal           Normal   \n",
       "Follow_Up                                            High             High   \n",
       "Gender                                                NaN              NaN   \n",
       "Birth_Asphyxia                                        NaN               No   \n",
       "Autopsy_Birth_Defect                                  NaN               No   \n",
       "Birth_Place                                     Institute              NaN   \n",
       "Folic_Acid_Details                                     No              Yes   \n",
       "Maternal_Illness                                      NaN              Yes   \n",
       "Radiation_Exposure                                     No              NaN   \n",
       "Substance_Abuse                                        No              NaN   \n",
       "Assisted_Conception                                    No               No   \n",
       "History_Pregnancies                                   Yes              Yes   \n",
       "Previous_Abortions                                    NaN              NaN   \n",
       "Birth_Defects                                         NaN         Multiple   \n",
       "White_Blood_Cell                                 9.857562          5.52256   \n",
       "Blood_Test                                            NaN           normal   \n",
       "Symptom_1                                             1.0              1.0   \n",
       "Symptom_2                                             1.0              NaN   \n",
       "Symptom_3                                             1.0              1.0   \n",
       "Symptom_4                                             1.0              1.0   \n",
       "Symptom_5                                             1.0              0.0   \n",
       "Disorder_Subclass     Leber's hereditary optic neuropathy  Cystic fibrosis   \n",
       "\n",
       "                               2               3            4      \\\n",
       "Patient_Age                      6.0            12.0         11.0   \n",
       "Mother_Gene                      Yes             Yes          Yes   \n",
       "Father_Gene                       No              No           No   \n",
       "Maternal_Gene                     No             Yes          NaN   \n",
       "Paternal_Gene                     No              No          Yes   \n",
       "Blood_Cell                  4.893297         4.70528     4.720703   \n",
       "Mother_Age                      41.0            21.0         32.0   \n",
       "Father_Age                      22.0             NaN          NaN   \n",
       "Status                         Alive        Deceased        Alive   \n",
       "Respiratory_Rate      Normal (30-60)       Tachypnea    Tachypnea   \n",
       "Heart_Rate               Tachycardia          Normal  Tachycardia   \n",
       "Follow_Up                        Low            High          Low   \n",
       "Gender                           NaN            Male         Male   \n",
       "Birth_Asphyxia                   NaN             NaN          NaN   \n",
       "Autopsy_Birth_Defect             NaN              No          NaN   \n",
       "Birth_Place                      NaN       Institute    Institute   \n",
       "Folic_Acid_Details               Yes              No           No   \n",
       "Maternal_Illness                  No             Yes          Yes   \n",
       "Radiation_Exposure               Yes             NaN          NaN   \n",
       "Substance_Abuse                  NaN             NaN          NaN   \n",
       "Assisted_Conception              Yes             NaN          Yes   \n",
       "History_Pregnancies              Yes             Yes           No   \n",
       "Previous_Abortions               4.0             1.0          4.0   \n",
       "Birth_Defects               Singular        Singular     Multiple   \n",
       "White_Blood_Cell                 NaN        7.919321      4.09821   \n",
       "Blood_Test                    normal             NaN          NaN   \n",
       "Symptom_1                        0.0             0.0          0.0   \n",
       "Symptom_2                        1.0             0.0          0.0   \n",
       "Symptom_3                        1.0             1.0          0.0   \n",
       "Symptom_4                        1.0             0.0          0.0   \n",
       "Symptom_5                        1.0             0.0          NaN   \n",
       "Disorder_Subclass           Diabetes  Leigh syndrome       Cancer   \n",
       "\n",
       "                                5               6          7      \\\n",
       "Patient_Age                      14.0             3.0        3.0   \n",
       "Mother_Gene                       Yes             Yes         No   \n",
       "Father_Gene                        No              No         No   \n",
       "Maternal_Gene                     Yes             Yes        Yes   \n",
       "Paternal_Gene                      No             Yes        Yes   \n",
       "Blood_Cell                   5.103188         4.90108   4.964816   \n",
       "Mother_Age                        NaN             NaN       40.0   \n",
       "Father_Age                        NaN            63.0        NaN   \n",
       "Status                       Deceased           Alive      Alive   \n",
       "Respiratory_Rate                  NaN  Normal (30-60)  Tachypnea   \n",
       "Heart_Rate                     Normal             NaN     Normal   \n",
       "Follow_Up                         Low             Low        Low   \n",
       "Gender                         Female            Male        NaN   \n",
       "Birth_Asphyxia                    NaN             NaN        NaN   \n",
       "Autopsy_Birth_Defect               No             NaN        NaN   \n",
       "Birth_Place                 Institute            Home       Home   \n",
       "Folic_Acid_Details                 No             NaN        Yes   \n",
       "Maternal_Illness                   No             Yes        Yes   \n",
       "Radiation_Exposure                 No              No         No   \n",
       "Substance_Abuse                    No             NaN        NaN   \n",
       "Assisted_Conception               NaN             Yes         No   \n",
       "History_Pregnancies                No              No        Yes   \n",
       "Previous_Abortions                0.0             3.0        1.0   \n",
       "Birth_Defects                Multiple        Multiple   Singular   \n",
       "White_Blood_Cell             10.27223        6.825974   9.836352   \n",
       "Blood_Test                     normal          normal        NaN   \n",
       "Symptom_1                         1.0             0.0        0.0   \n",
       "Symptom_2                         0.0             0.0        0.0   \n",
       "Symptom_3                         0.0             0.0        1.0   \n",
       "Symptom_4                         1.0             0.0        NaN   \n",
       "Symptom_5                         0.0             0.0        0.0   \n",
       "Disorder_Subclass     Cystic fibrosis       Tay-Sachs  Tay-Sachs   \n",
       "\n",
       "                                  8            9      ...           22073  \\\n",
       "Patient_Age                        11.0          4.0  ...            13.0   \n",
       "Mother_Gene                          No           No  ...             Yes   \n",
       "Father_Gene                          No          Yes  ...             Yes   \n",
       "Maternal_Gene                       Yes          Yes  ...              No   \n",
       "Paternal_Gene                        No          Yes  ...             Yes   \n",
       "Blood_Cell                     5.209058     4.752272  ...        4.874635   \n",
       "Mother_Age                         45.0         44.0  ...            44.0   \n",
       "Father_Age                         44.0         42.0  ...            62.0   \n",
       "Status                            Alive        Alive  ...           Alive   \n",
       "Respiratory_Rate              Tachypnea    Tachypnea  ...       Tachypnea   \n",
       "Heart_Rate                  Tachycardia  Tachycardia  ...     Tachycardia   \n",
       "Follow_Up                           Low          Low  ...             NaN   \n",
       "Gender                             Male         Male  ...             NaN   \n",
       "Birth_Asphyxia                      Yes           No  ...             NaN   \n",
       "Autopsy_Birth_Defect                NaN          NaN  ...             NaN   \n",
       "Birth_Place                   Institute    Institute  ...            Home   \n",
       "Folic_Acid_Details                  Yes          Yes  ...              No   \n",
       "Maternal_Illness                    Yes           No  ...             NaN   \n",
       "Radiation_Exposure                   No           No  ...              No   \n",
       "Substance_Abuse                      No           No  ...              No   \n",
       "Assisted_Conception                  No          Yes  ...             Yes   \n",
       "History_Pregnancies                 Yes          Yes  ...              No   \n",
       "Previous_Abortions                  0.0          1.0  ...             1.0   \n",
       "Birth_Defects                  Multiple     Multiple  ...             NaN   \n",
       "White_Blood_Cell               6.669552     6.397702  ...             NaN   \n",
       "Blood_Test            slightly abnormal     abnormal  ...          normal   \n",
       "Symptom_1                           1.0          0.0  ...             0.0   \n",
       "Symptom_2                           1.0          0.0  ...             0.0   \n",
       "Symptom_3                           1.0          1.0  ...             0.0   \n",
       "Symptom_4                           0.0          1.0  ...             1.0   \n",
       "Symptom_5                           1.0          1.0  ...             1.0   \n",
       "Disorder_Subclass        Leigh syndrome     Diabetes  ...  Leigh syndrome   \n",
       "\n",
       "                                22074                   22075           22076  \\\n",
       "Patient_Age                       4.0                    10.0             0.0   \n",
       "Mother_Gene                        No                      No             Yes   \n",
       "Father_Gene                        No                      No              No   \n",
       "Maternal_Gene                     NaN                     Yes             Yes   \n",
       "Paternal_Gene                      No                     Yes              No   \n",
       "Blood_Cell                   4.789307                 4.64386        4.931758   \n",
       "Mother_Age                       35.0                    49.0             NaN   \n",
       "Father_Age                       51.0                     NaN            50.0   \n",
       "Status                          Alive                Deceased           Alive   \n",
       "Respiratory_Rate            Tachypnea                     NaN  Normal (30-60)   \n",
       "Heart_Rate                     Normal                  Normal     Tachycardia   \n",
       "Follow_Up                         Low                     Low             Low   \n",
       "Gender                           Male                     NaN          Female   \n",
       "Birth_Asphyxia                    Yes                      No             NaN   \n",
       "Autopsy_Birth_Defect              NaN                     Yes             NaN   \n",
       "Birth_Place                 Institute                    Home       Institute   \n",
       "Folic_Acid_Details                 No                      No              No   \n",
       "Maternal_Illness                   No                     NaN              No   \n",
       "Radiation_Exposure                NaN                     NaN             NaN   \n",
       "Substance_Abuse                    No                     NaN              No   \n",
       "Assisted_Conception                No                     Yes             Yes   \n",
       "History_Pregnancies                No                     Yes             Yes   \n",
       "Previous_Abortions                3.0                     2.0             1.0   \n",
       "Birth_Defects                Multiple                Multiple        Singular   \n",
       "White_Blood_Cell                  NaN                9.581455       11.649052   \n",
       "Blood_Test                     normal                abnormal        abnormal   \n",
       "Symptom_1                         0.0                     1.0             1.0   \n",
       "Symptom_2                         0.0                     0.0             1.0   \n",
       "Symptom_3                         1.0                     0.0             0.0   \n",
       "Symptom_4                         0.0                     0.0             1.0   \n",
       "Symptom_5                         0.0                     NaN             0.0   \n",
       "Disorder_Subclass     Hemochromatosis  Mitochondrial myopathy  Leigh syndrome   \n",
       "\n",
       "                                  22077           22078           22079  \\\n",
       "Patient_Age                         9.0             4.0             8.0   \n",
       "Mother_Gene                          No             Yes              No   \n",
       "Father_Gene                         Yes             Yes             Yes   \n",
       "Maternal_Gene                       Yes             Yes              No   \n",
       "Paternal_Gene                       Yes              No             Yes   \n",
       "Blood_Cell                     5.012599        5.258298         4.97422   \n",
       "Mother_Age                         47.0            35.0             NaN   \n",
       "Father_Age                          NaN            64.0            56.0   \n",
       "Status                         Deceased        Deceased           Alive   \n",
       "Respiratory_Rate                    NaN  Normal (30-60)  Normal (30-60)   \n",
       "Heart_Rate                       Normal     Tachycardia          Normal   \n",
       "Follow_Up                           NaN            High            High   \n",
       "Gender                              NaN          Female             NaN   \n",
       "Birth_Asphyxia                      NaN              No              No   \n",
       "Autopsy_Birth_Defect                Yes              No             NaN   \n",
       "Birth_Place                        Home       Institute       Institute   \n",
       "Folic_Acid_Details                  Yes             NaN             Yes   \n",
       "Maternal_Illness                     No              No             Yes   \n",
       "Radiation_Exposure                   No             NaN              No   \n",
       "Substance_Abuse                     NaN              No             NaN   \n",
       "Assisted_Conception                 Yes             Yes             Yes   \n",
       "History_Pregnancies                 Yes              No              No   \n",
       "Previous_Abortions                  NaN             3.0             2.0   \n",
       "Birth_Defects                       NaN        Multiple        Multiple   \n",
       "White_Blood_Cell                   12.0        6.584811        7.041556   \n",
       "Blood_Test            slightly abnormal             NaN             NaN   \n",
       "Symptom_1                           NaN             0.0             1.0   \n",
       "Symptom_2                           1.0             0.0             1.0   \n",
       "Symptom_3                           0.0             1.0             1.0   \n",
       "Symptom_4                           0.0             0.0             1.0   \n",
       "Symptom_5                           0.0             0.0             0.0   \n",
       "Disorder_Subclass        Leigh syndrome  Leigh syndrome        Diabetes   \n",
       "\n",
       "                                       22080           22081           22082  \n",
       "Patient_Age                              8.0             7.0            11.0  \n",
       "Mother_Gene                              Yes             Yes             Yes  \n",
       "Father_Gene                               No              No              No  \n",
       "Maternal_Gene                            Yes             Yes              No  \n",
       "Paternal_Gene                             No             Yes              No  \n",
       "Blood_Cell                           5.18647        4.858543        4.738067  \n",
       "Mother_Age                              35.0            19.0            32.0  \n",
       "Father_Age                              51.0             NaN            62.0  \n",
       "Status                              Deceased           Alive        Deceased  \n",
       "Respiratory_Rate                   Tachypnea       Tachypnea  Normal (30-60)  \n",
       "Heart_Rate                            Normal     Tachycardia          Normal  \n",
       "Follow_Up                               High            High            High  \n",
       "Gender                                  Male            Male          Female  \n",
       "Birth_Asphyxia                            No             NaN             Yes  \n",
       "Autopsy_Birth_Defect                      No             NaN              No  \n",
       "Birth_Place                             Home            Home       Institute  \n",
       "Folic_Acid_Details                        No             Yes             Yes  \n",
       "Maternal_Illness                          No             Yes             Yes  \n",
       "Radiation_Exposure                       NaN             NaN             NaN  \n",
       "Substance_Abuse                           No             Yes              No  \n",
       "Assisted_Conception                       No             Yes             Yes  \n",
       "History_Pregnancies                       No              No             Yes  \n",
       "Previous_Abortions                       2.0             1.0             4.0  \n",
       "Birth_Defects                       Singular        Multiple        Singular  \n",
       "White_Blood_Cell                    7.715464         8.43767       11.188371  \n",
       "Blood_Test                            normal        abnormal          normal  \n",
       "Symptom_1                                0.0             1.0             1.0  \n",
       "Symptom_2                                0.0             1.0             0.0  \n",
       "Symptom_3                                0.0             1.0             1.0  \n",
       "Symptom_4                                1.0             0.0             1.0  \n",
       "Symptom_5                                NaN             0.0             1.0  \n",
       "Disorder_Subclass     Mitochondrial myopathy  Leigh syndrome        Diabetes  \n",
       "\n",
       "[32 rows x 19915 columns]"
      ]
     },
     "execution_count": 3,
     "metadata": {},
     "output_type": "execute_result"
    }
   ],
   "source": [
    "train_data.T"
   ]
  },
  {
   "cell_type": "code",
   "execution_count": 4,
   "id": "c8a72bb2",
   "metadata": {},
   "outputs": [
    {
     "name": "stdout",
     "output_type": "stream",
     "text": [
      "<class 'pandas.core.frame.DataFrame'>\n",
      "Int64Index: 19915 entries, 0 to 22082\n",
      "Data columns (total 32 columns):\n",
      " #   Column                Non-Null Count  Dtype  \n",
      "---  ------                --------------  -----  \n",
      " 0   Patient_Age           18672 non-null  float64\n",
      " 1   Mother_Gene           19915 non-null  object \n",
      " 2   Father_Gene           19652 non-null  object \n",
      " 3   Maternal_Gene         17510 non-null  object \n",
      " 4   Paternal_Gene         19915 non-null  object \n",
      " 5   Blood_Cell            19915 non-null  float64\n",
      " 6   Mother_Age            14719 non-null  float64\n",
      " 7   Father_Age            14796 non-null  float64\n",
      " 8   Status                19915 non-null  object \n",
      " 9   Respiratory_Rate      18058 non-null  object \n",
      " 10  Heart_Rate            18127 non-null  object \n",
      " 11  Follow_Up             18070 non-null  object \n",
      " 12  Gender                12008 non-null  object \n",
      " 13  Birth_Asphyxia        9060 non-null   object \n",
      " 14  Autopsy_Birth_Defect  9013 non-null   object \n",
      " 15  Birth_Place           18060 non-null  object \n",
      " 16  Folic_Acid_Details    18092 non-null  object \n",
      " 17  Maternal_Illness      18084 non-null  object \n",
      " 18  Radiation_Exposure    9077 non-null   object \n",
      " 19  Substance_Abuse       9068 non-null   object \n",
      " 20  Assisted_Conception   18085 non-null  object \n",
      " 21  History_Pregnancies   18070 non-null  object \n",
      " 22  Previous_Abortions    18080 non-null  float64\n",
      " 23  Birth_Defects         18070 non-null  object \n",
      " 24  White_Blood_Cell      18039 non-null  float64\n",
      " 25  Blood_Test            13593 non-null  object \n",
      " 26  Symptom_1             18062 non-null  float64\n",
      " 27  Symptom_2             17991 non-null  float64\n",
      " 28  Symptom_3             18129 non-null  float64\n",
      " 29  Symptom_4             18102 non-null  float64\n",
      " 30  Symptom_5             18034 non-null  float64\n",
      " 31  Disorder_Subclass     19915 non-null  object \n",
      "dtypes: float64(11), object(21)\n",
      "memory usage: 5.5+ MB\n"
     ]
    }
   ],
   "source": [
    "train_data.info()"
   ]
  },
  {
   "cell_type": "markdown",
   "id": "4441375f",
   "metadata": {},
   "source": [
    "### Road-Map Preprocessing "
   ]
  },
  {
   "cell_type": "markdown",
   "id": "21f213a2",
   "metadata": {},
   "source": [
    "I have decided to use XGBoost for modeling and predicting my dataset. The model is proven to work well with structured data and is able to perform modeling using simple constant imputation given my large set of missing values within each feature column. XGBoost decision tree modeling may branch appropriately if it finds something within the imputed missing values as their own catagory."
   ]
  },
  {
   "cell_type": "markdown",
   "id": "7952066e",
   "metadata": {},
   "source": [
    "### Preprocessing Pipeline"
   ]
  },
  {
   "cell_type": "code",
   "execution_count": 5,
   "id": "0c479275",
   "metadata": {},
   "outputs": [],
   "source": [
    "# Split the data into feature X and target y\n",
    "X = train_data.drop(columns=\"Disorder_Subclass\")\n",
    "y = train_data.Disorder_Subclass\n",
    "\n",
    "# Label encode target y\n",
    "le = LabelEncoder()\n",
    "encoded_y = le.fit_transform(y)"
   ]
  },
  {
   "cell_type": "code",
   "execution_count": 6,
   "id": "6e9b7bc4",
   "metadata": {},
   "outputs": [],
   "source": [
    "# Train Test Split by 20%\n",
    "X_train, X_test, y_train, y_test = train_test_split(X, encoded_y, test_size = 0.2, random_state=123)"
   ]
  },
  {
   "cell_type": "code",
   "execution_count": 108,
   "id": "9f1d3bd8",
   "metadata": {},
   "outputs": [],
   "source": [
    "# Grouped numerical columns\n",
    "num_cols = train_data.select_dtypes('float64').columns\n",
    "\n",
    "# Grouped categorical columns\n",
    "cat_cols = train_data.select_dtypes('object').drop(columns=\"Disorder_Subclass\").columns\n",
    "\n",
    "# Preprocessing for numerical data\n",
    "num_preprocessor = SimpleImputer(strategy='constant', fill_value=-99)\n",
    "\n",
    "# Preprocessing for categorical data\n",
    "cat_preprocessor = Pipeline(steps=[('imputer', SimpleImputer(strategy='constant', fill_value=\"-99\")),\n",
    "                                   ('oe', OrdinalEncoder()),\n",
    "                                   ('ohe', OneHotEncoder())])\n",
    "\n",
    "# Combine num and cat preprocessor for data frame transformation\n",
    "preprocessor = ColumnTransformer(\n",
    "    transformers=[('num_transformer', num_preprocessor, num_cols),\n",
    "                  ('cat_transformer', cat_preprocessor, cat_cols)])"
   ]
  },
  {
   "cell_type": "code",
   "execution_count": 109,
   "id": "c1e6fe8c",
   "metadata": {},
   "outputs": [
    {
     "data": {
      "text/html": [
       "<div>\n",
       "<style scoped>\n",
       "    .dataframe tbody tr th:only-of-type {\n",
       "        vertical-align: middle;\n",
       "    }\n",
       "\n",
       "    .dataframe tbody tr th {\n",
       "        vertical-align: top;\n",
       "    }\n",
       "\n",
       "    .dataframe thead th {\n",
       "        text-align: right;\n",
       "    }\n",
       "</style>\n",
       "<table border=\"1\" class=\"dataframe\">\n",
       "  <thead>\n",
       "    <tr style=\"text-align: right;\">\n",
       "      <th></th>\n",
       "      <th>0</th>\n",
       "      <th>1</th>\n",
       "      <th>2</th>\n",
       "      <th>3</th>\n",
       "      <th>4</th>\n",
       "      <th>5</th>\n",
       "      <th>6</th>\n",
       "      <th>7</th>\n",
       "      <th>8</th>\n",
       "      <th>9</th>\n",
       "      <th>...</th>\n",
       "      <th>59</th>\n",
       "      <th>60</th>\n",
       "      <th>61</th>\n",
       "      <th>62</th>\n",
       "      <th>63</th>\n",
       "      <th>64</th>\n",
       "      <th>65</th>\n",
       "      <th>66</th>\n",
       "      <th>67</th>\n",
       "      <th>68</th>\n",
       "    </tr>\n",
       "  </thead>\n",
       "  <tbody>\n",
       "    <tr>\n",
       "      <th>0</th>\n",
       "      <td>6.0</td>\n",
       "      <td>4.816182</td>\n",
       "      <td>23.0</td>\n",
       "      <td>32.0</td>\n",
       "      <td>4.0</td>\n",
       "      <td>5.321413</td>\n",
       "      <td>0.0</td>\n",
       "      <td>1.0</td>\n",
       "      <td>1.0</td>\n",
       "      <td>1.0</td>\n",
       "      <td>...</td>\n",
       "      <td>0.0</td>\n",
       "      <td>1.0</td>\n",
       "      <td>0.0</td>\n",
       "      <td>0.0</td>\n",
       "      <td>0.0</td>\n",
       "      <td>1.0</td>\n",
       "      <td>1.0</td>\n",
       "      <td>0.0</td>\n",
       "      <td>0.0</td>\n",
       "      <td>0.0</td>\n",
       "    </tr>\n",
       "    <tr>\n",
       "      <th>1</th>\n",
       "      <td>13.0</td>\n",
       "      <td>5.005324</td>\n",
       "      <td>28.0</td>\n",
       "      <td>44.0</td>\n",
       "      <td>-99.0</td>\n",
       "      <td>4.334729</td>\n",
       "      <td>1.0</td>\n",
       "      <td>1.0</td>\n",
       "      <td>1.0</td>\n",
       "      <td>-99.0</td>\n",
       "      <td>...</td>\n",
       "      <td>0.0</td>\n",
       "      <td>1.0</td>\n",
       "      <td>0.0</td>\n",
       "      <td>0.0</td>\n",
       "      <td>1.0</td>\n",
       "      <td>0.0</td>\n",
       "      <td>1.0</td>\n",
       "      <td>0.0</td>\n",
       "      <td>0.0</td>\n",
       "      <td>0.0</td>\n",
       "    </tr>\n",
       "    <tr>\n",
       "      <th>2</th>\n",
       "      <td>10.0</td>\n",
       "      <td>4.712737</td>\n",
       "      <td>26.0</td>\n",
       "      <td>-99.0</td>\n",
       "      <td>-99.0</td>\n",
       "      <td>8.649998</td>\n",
       "      <td>1.0</td>\n",
       "      <td>0.0</td>\n",
       "      <td>0.0</td>\n",
       "      <td>0.0</td>\n",
       "      <td>...</td>\n",
       "      <td>0.0</td>\n",
       "      <td>1.0</td>\n",
       "      <td>0.0</td>\n",
       "      <td>0.0</td>\n",
       "      <td>1.0</td>\n",
       "      <td>0.0</td>\n",
       "      <td>1.0</td>\n",
       "      <td>0.0</td>\n",
       "      <td>0.0</td>\n",
       "      <td>0.0</td>\n",
       "    </tr>\n",
       "    <tr>\n",
       "      <th>3</th>\n",
       "      <td>13.0</td>\n",
       "      <td>5.095956</td>\n",
       "      <td>-99.0</td>\n",
       "      <td>36.0</td>\n",
       "      <td>-99.0</td>\n",
       "      <td>7.548971</td>\n",
       "      <td>1.0</td>\n",
       "      <td>1.0</td>\n",
       "      <td>0.0</td>\n",
       "      <td>1.0</td>\n",
       "      <td>...</td>\n",
       "      <td>0.0</td>\n",
       "      <td>1.0</td>\n",
       "      <td>0.0</td>\n",
       "      <td>1.0</td>\n",
       "      <td>0.0</td>\n",
       "      <td>0.0</td>\n",
       "      <td>0.0</td>\n",
       "      <td>1.0</td>\n",
       "      <td>0.0</td>\n",
       "      <td>0.0</td>\n",
       "    </tr>\n",
       "    <tr>\n",
       "      <th>4</th>\n",
       "      <td>8.0</td>\n",
       "      <td>4.847835</td>\n",
       "      <td>28.0</td>\n",
       "      <td>56.0</td>\n",
       "      <td>4.0</td>\n",
       "      <td>6.962187</td>\n",
       "      <td>1.0</td>\n",
       "      <td>1.0</td>\n",
       "      <td>-99.0</td>\n",
       "      <td>1.0</td>\n",
       "      <td>...</td>\n",
       "      <td>0.0</td>\n",
       "      <td>1.0</td>\n",
       "      <td>0.0</td>\n",
       "      <td>0.0</td>\n",
       "      <td>0.0</td>\n",
       "      <td>1.0</td>\n",
       "      <td>0.0</td>\n",
       "      <td>1.0</td>\n",
       "      <td>0.0</td>\n",
       "      <td>0.0</td>\n",
       "    </tr>\n",
       "    <tr>\n",
       "      <th>...</th>\n",
       "      <td>...</td>\n",
       "      <td>...</td>\n",
       "      <td>...</td>\n",
       "      <td>...</td>\n",
       "      <td>...</td>\n",
       "      <td>...</td>\n",
       "      <td>...</td>\n",
       "      <td>...</td>\n",
       "      <td>...</td>\n",
       "      <td>...</td>\n",
       "      <td>...</td>\n",
       "      <td>...</td>\n",
       "      <td>...</td>\n",
       "      <td>...</td>\n",
       "      <td>...</td>\n",
       "      <td>...</td>\n",
       "      <td>...</td>\n",
       "      <td>...</td>\n",
       "      <td>...</td>\n",
       "      <td>...</td>\n",
       "      <td>...</td>\n",
       "    </tr>\n",
       "    <tr>\n",
       "      <th>15927</th>\n",
       "      <td>9.0</td>\n",
       "      <td>4.851475</td>\n",
       "      <td>44.0</td>\n",
       "      <td>32.0</td>\n",
       "      <td>4.0</td>\n",
       "      <td>8.191905</td>\n",
       "      <td>1.0</td>\n",
       "      <td>1.0</td>\n",
       "      <td>-99.0</td>\n",
       "      <td>0.0</td>\n",
       "      <td>...</td>\n",
       "      <td>0.0</td>\n",
       "      <td>0.0</td>\n",
       "      <td>1.0</td>\n",
       "      <td>0.0</td>\n",
       "      <td>1.0</td>\n",
       "      <td>0.0</td>\n",
       "      <td>1.0</td>\n",
       "      <td>0.0</td>\n",
       "      <td>0.0</td>\n",
       "      <td>0.0</td>\n",
       "    </tr>\n",
       "    <tr>\n",
       "      <th>15928</th>\n",
       "      <td>3.0</td>\n",
       "      <td>4.874826</td>\n",
       "      <td>43.0</td>\n",
       "      <td>33.0</td>\n",
       "      <td>4.0</td>\n",
       "      <td>3.000000</td>\n",
       "      <td>0.0</td>\n",
       "      <td>0.0</td>\n",
       "      <td>1.0</td>\n",
       "      <td>1.0</td>\n",
       "      <td>...</td>\n",
       "      <td>0.0</td>\n",
       "      <td>1.0</td>\n",
       "      <td>0.0</td>\n",
       "      <td>0.0</td>\n",
       "      <td>0.0</td>\n",
       "      <td>1.0</td>\n",
       "      <td>0.0</td>\n",
       "      <td>1.0</td>\n",
       "      <td>0.0</td>\n",
       "      <td>0.0</td>\n",
       "    </tr>\n",
       "    <tr>\n",
       "      <th>15929</th>\n",
       "      <td>5.0</td>\n",
       "      <td>4.983901</td>\n",
       "      <td>25.0</td>\n",
       "      <td>46.0</td>\n",
       "      <td>-99.0</td>\n",
       "      <td>3.000000</td>\n",
       "      <td>1.0</td>\n",
       "      <td>1.0</td>\n",
       "      <td>1.0</td>\n",
       "      <td>1.0</td>\n",
       "      <td>...</td>\n",
       "      <td>0.0</td>\n",
       "      <td>1.0</td>\n",
       "      <td>0.0</td>\n",
       "      <td>0.0</td>\n",
       "      <td>0.0</td>\n",
       "      <td>1.0</td>\n",
       "      <td>0.0</td>\n",
       "      <td>1.0</td>\n",
       "      <td>0.0</td>\n",
       "      <td>0.0</td>\n",
       "    </tr>\n",
       "    <tr>\n",
       "      <th>15930</th>\n",
       "      <td>9.0</td>\n",
       "      <td>4.716176</td>\n",
       "      <td>46.0</td>\n",
       "      <td>47.0</td>\n",
       "      <td>4.0</td>\n",
       "      <td>-99.000000</td>\n",
       "      <td>1.0</td>\n",
       "      <td>1.0</td>\n",
       "      <td>0.0</td>\n",
       "      <td>0.0</td>\n",
       "      <td>...</td>\n",
       "      <td>1.0</td>\n",
       "      <td>0.0</td>\n",
       "      <td>0.0</td>\n",
       "      <td>0.0</td>\n",
       "      <td>1.0</td>\n",
       "      <td>0.0</td>\n",
       "      <td>0.0</td>\n",
       "      <td>0.0</td>\n",
       "      <td>0.0</td>\n",
       "      <td>1.0</td>\n",
       "    </tr>\n",
       "    <tr>\n",
       "      <th>15931</th>\n",
       "      <td>11.0</td>\n",
       "      <td>4.531697</td>\n",
       "      <td>33.0</td>\n",
       "      <td>-99.0</td>\n",
       "      <td>0.0</td>\n",
       "      <td>11.338691</td>\n",
       "      <td>1.0</td>\n",
       "      <td>1.0</td>\n",
       "      <td>0.0</td>\n",
       "      <td>0.0</td>\n",
       "      <td>...</td>\n",
       "      <td>1.0</td>\n",
       "      <td>0.0</td>\n",
       "      <td>0.0</td>\n",
       "      <td>0.0</td>\n",
       "      <td>0.0</td>\n",
       "      <td>1.0</td>\n",
       "      <td>0.0</td>\n",
       "      <td>1.0</td>\n",
       "      <td>0.0</td>\n",
       "      <td>0.0</td>\n",
       "    </tr>\n",
       "  </tbody>\n",
       "</table>\n",
       "<p>15932 rows × 69 columns</p>\n",
       "</div>"
      ],
      "text/plain": [
       "         0         1     2     3     4          5    6    7     8     9   ...  \\\n",
       "0       6.0  4.816182  23.0  32.0   4.0   5.321413  0.0  1.0   1.0   1.0  ...   \n",
       "1      13.0  5.005324  28.0  44.0 -99.0   4.334729  1.0  1.0   1.0 -99.0  ...   \n",
       "2      10.0  4.712737  26.0 -99.0 -99.0   8.649998  1.0  0.0   0.0   0.0  ...   \n",
       "3      13.0  5.095956 -99.0  36.0 -99.0   7.548971  1.0  1.0   0.0   1.0  ...   \n",
       "4       8.0  4.847835  28.0  56.0   4.0   6.962187  1.0  1.0 -99.0   1.0  ...   \n",
       "...     ...       ...   ...   ...   ...        ...  ...  ...   ...   ...  ...   \n",
       "15927   9.0  4.851475  44.0  32.0   4.0   8.191905  1.0  1.0 -99.0   0.0  ...   \n",
       "15928   3.0  4.874826  43.0  33.0   4.0   3.000000  0.0  0.0   1.0   1.0  ...   \n",
       "15929   5.0  4.983901  25.0  46.0 -99.0   3.000000  1.0  1.0   1.0   1.0  ...   \n",
       "15930   9.0  4.716176  46.0  47.0   4.0 -99.000000  1.0  1.0   0.0   0.0  ...   \n",
       "15931  11.0  4.531697  33.0 -99.0   0.0  11.338691  1.0  1.0   0.0   0.0  ...   \n",
       "\n",
       "        59   60   61   62   63   64   65   66   67   68  \n",
       "0      0.0  1.0  0.0  0.0  0.0  1.0  1.0  0.0  0.0  0.0  \n",
       "1      0.0  1.0  0.0  0.0  1.0  0.0  1.0  0.0  0.0  0.0  \n",
       "2      0.0  1.0  0.0  0.0  1.0  0.0  1.0  0.0  0.0  0.0  \n",
       "3      0.0  1.0  0.0  1.0  0.0  0.0  0.0  1.0  0.0  0.0  \n",
       "4      0.0  1.0  0.0  0.0  0.0  1.0  0.0  1.0  0.0  0.0  \n",
       "...    ...  ...  ...  ...  ...  ...  ...  ...  ...  ...  \n",
       "15927  0.0  0.0  1.0  0.0  1.0  0.0  1.0  0.0  0.0  0.0  \n",
       "15928  0.0  1.0  0.0  0.0  0.0  1.0  0.0  1.0  0.0  0.0  \n",
       "15929  0.0  1.0  0.0  0.0  0.0  1.0  0.0  1.0  0.0  0.0  \n",
       "15930  1.0  0.0  0.0  0.0  1.0  0.0  0.0  0.0  0.0  1.0  \n",
       "15931  1.0  0.0  0.0  0.0  0.0  1.0  0.0  1.0  0.0  0.0  \n",
       "\n",
       "[15932 rows x 69 columns]"
      ]
     },
     "execution_count": 109,
     "metadata": {},
     "output_type": "execute_result"
    }
   ],
   "source": [
    "# Preprocessor Test\n",
    "pd.DataFrame(preprocessor.fit_transform(X_train, y_train))"
   ]
  },
  {
   "cell_type": "code",
   "execution_count": 63,
   "id": "b7a53004",
   "metadata": {},
   "outputs": [
    {
     "name": "stdout",
     "output_type": "stream",
     "text": [
      "<class 'pandas.core.frame.DataFrame'>\n",
      "RangeIndex: 15932 entries, 0 to 15931\n",
      "Data columns (total 69 columns):\n",
      " #   Column  Non-Null Count  Dtype  \n",
      "---  ------  --------------  -----  \n",
      " 0   0       15932 non-null  float64\n",
      " 1   1       15932 non-null  float64\n",
      " 2   2       15932 non-null  float64\n",
      " 3   3       15932 non-null  float64\n",
      " 4   4       15932 non-null  float64\n",
      " 5   5       15932 non-null  float64\n",
      " 6   6       15932 non-null  float64\n",
      " 7   7       15932 non-null  float64\n",
      " 8   8       15932 non-null  float64\n",
      " 9   9       15932 non-null  float64\n",
      " 10  10      15932 non-null  float64\n",
      " 11  11      15932 non-null  float64\n",
      " 12  12      15932 non-null  float64\n",
      " 13  13      15932 non-null  float64\n",
      " 14  14      15932 non-null  float64\n",
      " 15  15      15932 non-null  float64\n",
      " 16  16      15932 non-null  float64\n",
      " 17  17      15932 non-null  float64\n",
      " 18  18      15932 non-null  float64\n",
      " 19  19      15932 non-null  float64\n",
      " 20  20      15932 non-null  float64\n",
      " 21  21      15932 non-null  float64\n",
      " 22  22      15932 non-null  float64\n",
      " 23  23      15932 non-null  float64\n",
      " 24  24      15932 non-null  float64\n",
      " 25  25      15932 non-null  float64\n",
      " 26  26      15932 non-null  float64\n",
      " 27  27      15932 non-null  float64\n",
      " 28  28      15932 non-null  float64\n",
      " 29  29      15932 non-null  float64\n",
      " 30  30      15932 non-null  float64\n",
      " 31  31      15932 non-null  float64\n",
      " 32  32      15932 non-null  float64\n",
      " 33  33      15932 non-null  float64\n",
      " 34  34      15932 non-null  float64\n",
      " 35  35      15932 non-null  float64\n",
      " 36  36      15932 non-null  float64\n",
      " 37  37      15932 non-null  float64\n",
      " 38  38      15932 non-null  float64\n",
      " 39  39      15932 non-null  float64\n",
      " 40  40      15932 non-null  float64\n",
      " 41  41      15932 non-null  float64\n",
      " 42  42      15932 non-null  float64\n",
      " 43  43      15932 non-null  float64\n",
      " 44  44      15932 non-null  float64\n",
      " 45  45      15932 non-null  float64\n",
      " 46  46      15932 non-null  float64\n",
      " 47  47      15932 non-null  float64\n",
      " 48  48      15932 non-null  float64\n",
      " 49  49      15932 non-null  float64\n",
      " 50  50      15932 non-null  float64\n",
      " 51  51      15932 non-null  float64\n",
      " 52  52      15932 non-null  float64\n",
      " 53  53      15932 non-null  float64\n",
      " 54  54      15932 non-null  float64\n",
      " 55  55      15932 non-null  float64\n",
      " 56  56      15932 non-null  float64\n",
      " 57  57      15932 non-null  float64\n",
      " 58  58      15932 non-null  float64\n",
      " 59  59      15932 non-null  float64\n",
      " 60  60      15932 non-null  float64\n",
      " 61  61      15932 non-null  float64\n",
      " 62  62      15932 non-null  float64\n",
      " 63  63      15932 non-null  float64\n",
      " 64  64      15932 non-null  float64\n",
      " 65  65      15932 non-null  float64\n",
      " 66  66      15932 non-null  float64\n",
      " 67  67      15932 non-null  float64\n",
      " 68  68      15932 non-null  float64\n",
      "dtypes: float64(69)\n",
      "memory usage: 8.4 MB\n"
     ]
    }
   ],
   "source": [
    "pd.DataFrame(preprocessor.fit_transform(X_train, y_train)).info()"
   ]
  },
  {
   "cell_type": "markdown",
   "id": "9ce4659b",
   "metadata": {},
   "source": [
    "### Initial Out of Box XGB Model1"
   ]
  },
  {
   "cell_type": "code",
   "execution_count": 559,
   "id": "e52d81ff",
   "metadata": {},
   "outputs": [],
   "source": [
    "# Default parameters set to multi-classification\n",
    "params = {\n",
    "    'objective':'multi:softmax',\n",
    "    'eval_metric':'mlogloss',\n",
    "    'use_label_encoder':False,\n",
    "    'seed':123\n",
    "}"
   ]
  },
  {
   "cell_type": "code",
   "execution_count": 560,
   "id": "ba0ba367",
   "metadata": {},
   "outputs": [
    {
     "name": "stdout",
     "output_type": "stream",
     "text": [
      "96.10218428320361\n",
      "36.50514687421541\n"
     ]
    }
   ],
   "source": [
    "pipe_1 = Pipeline(steps=[('preprocessor', preprocessor),\n",
    "                         ('xgb_model', xgb.XGBClassifier(**params))])\n",
    "\n",
    "pipe_1.fit(X_train, y_train)\n",
    "\n",
    "predTrain_1 = pipe_1.predict(X_train)\n",
    "predTest_1 = pipe_1.predict(X_test)\n",
    "\n",
    "print(accuracy_score(y_train, predTrain_1) * 100)\n",
    "print(accuracy_score(y_test, predTest_1) * 100)"
   ]
  },
  {
   "cell_type": "code",
   "execution_count": 448,
   "id": "a75ddad2",
   "metadata": {},
   "outputs": [
    {
     "name": "stdout",
     "output_type": "stream",
     "text": [
      "Scores: [37.6215877  36.33511139 39.10860013 35.96986817 36.78593848]\n",
      "Mean: 37.16422117394288\n",
      "Standard Deviation: 0.01117747159832257\n"
     ]
    }
   ],
   "source": [
    "# Cross Validation Score\n",
    "scores = cross_val_score(pipe_1, X_train, y_train, cv=5, scoring=\"accuracy\")\n",
    "print(\"Scores:\", scores * 100)\n",
    "print(\"Mean:\", scores.mean() * 100)\n",
    "print(\"Standard Deviation:\", scores.std())"
   ]
  },
  {
   "cell_type": "code",
   "execution_count": 449,
   "id": "4beffeaa",
   "metadata": {},
   "outputs": [
    {
     "name": "stdout",
     "output_type": "stream",
     "text": [
      "              precision    recall  f1-score   support\n",
      "\n",
      "           0       0.25      0.07      0.11        29\n",
      "           1       0.75      0.13      0.22        23\n",
      "           2       0.40      0.52      0.45       647\n",
      "           3       0.33      0.24      0.28       346\n",
      "           4       0.33      0.24      0.28       266\n",
      "           5       0.26      0.14      0.18       126\n",
      "           6       0.40      0.41      0.41      1072\n",
      "           7       0.35      0.38      0.37       901\n",
      "           8       0.31      0.28      0.29       573\n",
      "\n",
      "    accuracy                           0.37      3983\n",
      "   macro avg       0.37      0.27      0.29      3983\n",
      "weighted avg       0.36      0.37      0.36      3983\n",
      "\n"
     ]
    }
   ],
   "source": [
    "print(classification_report(y_test, predTest_1))"
   ]
  },
  {
   "cell_type": "code",
   "execution_count": 450,
   "id": "16b82c06",
   "metadata": {},
   "outputs": [
    {
     "name": "stdout",
     "output_type": "stream",
     "text": [
      "0 Alzheimer's\n",
      "1 Cancer\n",
      "2 Cystic fibrosis\n",
      "3 Diabetes\n",
      "4 Hemochromatosis\n",
      "5 Leber's hereditary optic neuropathy\n",
      "6 Leigh syndrome\n",
      "7 Mitochondrial myopathy\n",
      "8 Tay-Sachs\n"
     ]
    }
   ],
   "source": [
    "for i, val in enumerate(le.inverse_transform([0, 1, 2, 3, 4, 5, 6, 7, 8])):\n",
    "    print(i, val)"
   ]
  },
  {
   "cell_type": "markdown",
   "id": "41ca7abd",
   "metadata": {},
   "source": [
    "The default parameters for XGBoost looks to be overfitting given that the score for the train split has a score around 96, while the test split has a score around 37. This is supported by the cross validation with a mean score of 37. Hyperparameter tuning will hopefully reduce the overfitting and increase the accuracy on the test split."
   ]
  },
  {
   "cell_type": "code",
   "execution_count": null,
   "id": "73b5536f",
   "metadata": {},
   "outputs": [],
   "source": []
  },
  {
   "cell_type": "code",
   "execution_count": null,
   "id": "9459e16a",
   "metadata": {},
   "outputs": [],
   "source": [
    "### TO BE DELETED, PLACE HOLDER"
   ]
  },
  {
   "cell_type": "code",
   "execution_count": null,
   "id": "01ede179",
   "metadata": {},
   "outputs": [],
   "source": [
    "hype_params = {\n",
    "    'xgb_model__learning_rate': [0.0001, 0.001, 0.01, 0.1, 0.2, 0.3, 0.4, 0.5],\n",
    "    'xgb_model__n_estimators': range(50, 500),\n",
    "    'xgb_model__max_depth': range(2, 16, 2),\n",
    "    'xgb_model__min_child_weight': range(1,6,2),\n",
    "    'xgb_model__gamma':[i/10.0 for i in range(0,5)],\n",
    "    'xgb_model__subsample':[i/10.0 for i in range(6,10)],\n",
    "    'xgb_model__colsample_bytree':[i/10.0 for i in range(6,10)],\n",
    "    lambda':[i/10.0 for i in range(7,16)]\n",
    "}"
   ]
  },
  {
   "cell_type": "code",
   "execution_count": null,
   "id": "aa2cecfb",
   "metadata": {},
   "outputs": [],
   "source": []
  },
  {
   "cell_type": "markdown",
   "id": "f1614e93",
   "metadata": {},
   "source": [
    "### Hyperparameter Tuning"
   ]
  },
  {
   "cell_type": "code",
   "execution_count": 238,
   "id": "544b89f5",
   "metadata": {},
   "outputs": [],
   "source": [
    "pipe_2 = Pipeline(steps=[('preprocessor', preprocessor),\n",
    "                         ('xgb_model', xgb.XGBClassifier(**params))])"
   ]
  },
  {
   "cell_type": "markdown",
   "id": "10f2b002",
   "metadata": {},
   "source": [
    "Initial parameter ranges were chosen based on articles about tuning parameters as a starting point."
   ]
  },
  {
   "cell_type": "markdown",
   "id": "2125e741",
   "metadata": {},
   "source": [
    "#### learning_rate and n_estimators"
   ]
  },
  {
   "cell_type": "markdown",
   "id": "f20dc731",
   "metadata": {},
   "source": [
    "Defining initial learning_rate to be 0.1 to find initial optimal n_estimators."
   ]
  },
  {
   "cell_type": "code",
   "execution_count": 239,
   "id": "a98993ac",
   "metadata": {},
   "outputs": [],
   "source": [
    "hype_params = {\n",
    "    'xgb_model__learning_rate': [0.1],\n",
    "    'xgb_model__n_estimators': range(50, 500),\n",
    "}"
   ]
  },
  {
   "cell_type": "code",
   "execution_count": 242,
   "id": "72dcd943",
   "metadata": {},
   "outputs": [],
   "source": [
    "rand_search = RandomizedSearchCV(\n",
    "    estimator=pipe_2,\n",
    "    param_distributions=hype_params,\n",
    "    scoring = 'f1_macro',\n",
    "    n_iter = 10,\n",
    "    cv = 5,\n",
    "    verbose=True,\n",
    "    random_state=123\n",
    ")"
   ]
  },
  {
   "cell_type": "code",
   "execution_count": 243,
   "id": "5a6dd110",
   "metadata": {},
   "outputs": [
    {
     "name": "stdout",
     "output_type": "stream",
     "text": [
      "Fitting 5 folds for each of 10 candidates, totalling 50 fits\n"
     ]
    },
    {
     "data": {
      "text/plain": [
       "RandomizedSearchCV(cv=5,\n",
       "                   estimator=Pipeline(steps=[('preprocessor',\n",
       "                                              ColumnTransformer(transformers=[('num_transformer',\n",
       "                                                                               SimpleImputer(fill_value=-99,\n",
       "                                                                                             strategy='constant'),\n",
       "                                                                               Index(['Patient_Age', 'Blood_Cell', 'Mother_Age', 'Father_Age',\n",
       "       'Previous_Abortions', 'White_Blood_Cell', 'Symptom_1', 'Symptom_2',\n",
       "       'Symptom_3', 'Symptom_4', 'Symptom_5'],\n",
       "      dtype='object')),\n",
       "                                                                              ('cat...\n",
       "                                                            num_parallel_tree=None,\n",
       "                                                            objective='multi:softmax',\n",
       "                                                            predictor=None,\n",
       "                                                            random_state=None,\n",
       "                                                            reg_alpha=None,\n",
       "                                                            reg_lambda=None,\n",
       "                                                            scale_pos_weight=None,\n",
       "                                                            seed=123,\n",
       "                                                            subsample=None,\n",
       "                                                            tree_method=None,\n",
       "                                                            use_label_encoder=False, ...))]),\n",
       "                   param_distributions={'xgb_model__learning_rate': [0.1],\n",
       "                                        'xgb_model__n_estimators': range(50, 500)},\n",
       "                   random_state=123, scoring='f1_macro', verbose=True)"
      ]
     },
     "execution_count": 243,
     "metadata": {},
     "output_type": "execute_result"
    }
   ],
   "source": [
    "rand_search.fit(X_train, y_train)"
   ]
  },
  {
   "cell_type": "code",
   "execution_count": 286,
   "id": "cb5581eb",
   "metadata": {},
   "outputs": [
    {
     "data": {
      "text/plain": [
       "{'xgb_model__n_estimators': 99, 'xgb_model__learning_rate': 0.1}"
      ]
     },
     "execution_count": 286,
     "metadata": {},
     "output_type": "execute_result"
    }
   ],
   "source": [
    "rand_search.best_params_"
   ]
  },
  {
   "cell_type": "code",
   "execution_count": 287,
   "id": "8b5be718",
   "metadata": {},
   "outputs": [
    {
     "data": {
      "text/plain": [
       "0.2862296154566371"
      ]
     },
     "execution_count": 287,
     "metadata": {},
     "output_type": "execute_result"
    }
   ],
   "source": [
    "rand_search.best_score_"
   ]
  },
  {
   "cell_type": "code",
   "execution_count": 284,
   "id": "ef9a5026",
   "metadata": {},
   "outputs": [],
   "source": [
    "n_est = [x['xgb_model__n_estimators'] for x in rand_search.cv_results_['params']]\n",
    "mean_score = list(rand_search.cv_results_['mean_test_score'])\n",
    "stds_score = list(rand_search.cv_results_['std_test_score'])\n",
    "results = zip(n_est, mean_score, stds_score)\n",
    "results_df = pd.DataFrame(list(results)).sort_values(by=0)"
   ]
  },
  {
   "cell_type": "code",
   "execution_count": 296,
   "id": "15590bde",
   "metadata": {},
   "outputs": [
    {
     "data": {
      "image/png": "[encoded data removed]",
      "text/plain": [
       "<Figure size 432x288 with 1 Axes>"
      ]
     },
     "metadata": {
      "needs_background": "light"
     },
     "output_type": "display_data"
    }
   ],
   "source": [
    "n_est = results_df[0]\n",
    "mean_score = results_df[1]\n",
    "stds_score = results_df[2]\n",
    "\n",
    "plt.errorbar(n_est, mean_score, yerr=stds_score)\n",
    "plt.title(\"N_Estimator vs F1_Macro Score\")\n",
    "plt.xlabel(\"n_estimator\")\n",
    "plt.ylabel(\"f1_score\")\n",
    "plt.show()"
   ]
  },
  {
   "cell_type": "markdown",
   "id": "c435f6fd",
   "metadata": {},
   "source": [
    "Looking at the graph, the f1_score peaks at 0.286 with a n_estimator of 99. And then it only declines from there.\n",
    "I will fine tune the parameters with GridSearchCV for n_estimator around that area."
   ]
  },
  {
   "cell_type": "code",
   "execution_count": 288,
   "id": "cf1cbd3b",
   "metadata": {},
   "outputs": [],
   "source": [
    "hype_params = {\n",
    "    'xgb_model__learning_rate': [0.1],\n",
    "    'xgb_model__n_estimators': range(80, 130, 10),\n",
    "}"
   ]
  },
  {
   "cell_type": "code",
   "execution_count": 290,
   "id": "451ffde1",
   "metadata": {},
   "outputs": [],
   "source": [
    "grid_search = GridSearchCV(\n",
    "    estimator=pipe_2,\n",
    "    param_grid=hype_params,\n",
    "    scoring = 'f1_macro',\n",
    "    cv = 5,\n",
    "    verbose=True,\n",
    ")"
   ]
  },
  {
   "cell_type": "code",
   "execution_count": 291,
   "id": "5f7026a3",
   "metadata": {},
   "outputs": [
    {
     "name": "stdout",
     "output_type": "stream",
     "text": [
      "Fitting 5 folds for each of 5 candidates, totalling 25 fits\n"
     ]
    },
    {
     "data": {
      "text/plain": [
       "GridSearchCV(cv=5,\n",
       "             estimator=Pipeline(steps=[('preprocessor',\n",
       "                                        ColumnTransformer(transformers=[('num_transformer',\n",
       "                                                                         SimpleImputer(fill_value=-99,\n",
       "                                                                                       strategy='constant'),\n",
       "                                                                         Index(['Patient_Age', 'Blood_Cell', 'Mother_Age', 'Father_Age',\n",
       "       'Previous_Abortions', 'White_Blood_Cell', 'Symptom_1', 'Symptom_2',\n",
       "       'Symptom_3', 'Symptom_4', 'Symptom_5'],\n",
       "      dtype='object')),\n",
       "                                                                        ('cat_trans...\n",
       "                                                      n_estimators=100,\n",
       "                                                      n_jobs=None,\n",
       "                                                      num_parallel_tree=None,\n",
       "                                                      objective='multi:softmax',\n",
       "                                                      predictor=None,\n",
       "                                                      random_state=None,\n",
       "                                                      reg_alpha=None,\n",
       "                                                      reg_lambda=None,\n",
       "                                                      scale_pos_weight=None,\n",
       "                                                      seed=123, subsample=None,\n",
       "                                                      tree_method=None,\n",
       "                                                      use_label_encoder=False, ...))]),\n",
       "             param_grid={'xgb_model__learning_rate': [0.1],\n",
       "                         'xgb_model__n_estimators': range(80, 130, 10)},\n",
       "             scoring='f1_macro', verbose=True)"
      ]
     },
     "execution_count": 291,
     "metadata": {},
     "output_type": "execute_result"
    }
   ],
   "source": [
    "grid_search.fit(X_train, y_train)"
   ]
  },
  {
   "cell_type": "code",
   "execution_count": 292,
   "id": "37233905",
   "metadata": {},
   "outputs": [
    {
     "data": {
      "text/plain": [
       "{'xgb_model__learning_rate': 0.1, 'xgb_model__n_estimators': 100}"
      ]
     },
     "execution_count": 292,
     "metadata": {},
     "output_type": "execute_result"
    }
   ],
   "source": [
    "grid_search.best_params_"
   ]
  },
  {
   "cell_type": "code",
   "execution_count": 297,
   "id": "23971f96",
   "metadata": {},
   "outputs": [
    {
     "data": {
      "text/plain": [
       "0.28755950357396737"
      ]
     },
     "execution_count": 297,
     "metadata": {},
     "output_type": "execute_result"
    }
   ],
   "source": [
    "grid_search.best_score_"
   ]
  },
  {
   "cell_type": "code",
   "execution_count": 293,
   "id": "980b6dc1",
   "metadata": {},
   "outputs": [],
   "source": [
    "n_est = [x['xgb_model__n_estimators'] for x in grid_search.cv_results_['params']]\n",
    "mean_score = list(grid_search.cv_results_['mean_test_score'])\n",
    "stds_score = list(grid_search.cv_results_['std_test_score'])\n",
    "results = zip(n_est, mean_score, stds_score)\n",
    "results_df = pd.DataFrame(list(results)).sort_values(by=0)"
   ]
  },
  {
   "cell_type": "code",
   "execution_count": 295,
   "id": "0d7e6f61",
   "metadata": {},
   "outputs": [
    {
     "data": {
      "image/png": "[encoded data removed]",
      "text/plain": [
       "<Figure size 432x288 with 1 Axes>"
      ]
     },
     "metadata": {
      "needs_background": "light"
     },
     "output_type": "display_data"
    }
   ],
   "source": [
    "n_est = results_df[0]\n",
    "mean_score = results_df[1]\n",
    "stds_score = results_df[2]\n",
    "\n",
    "plt.errorbar(n_est, mean_score, yerr=stds_score)\n",
    "plt.title(\"N_Estimator vs F1_Macro Score\")\n",
    "plt.xlabel(\"n_estimator\")\n",
    "plt.ylabel(\"f1_score\")\n",
    "plt.show()"
   ]
  },
  {
   "cell_type": "code",
   "execution_count": 308,
   "id": "c8a526d4",
   "metadata": {},
   "outputs": [],
   "source": [
    "hype_params['xgb_model__learning_rate'] = [0.1]\n",
    "hype_params['xgb_model__n_estimators'] = [100]"
   ]
  },
  {
   "cell_type": "markdown",
   "id": "13242136",
   "metadata": {},
   "source": [
    "Set the initial tuned parameters for learning_rate and n_estimators, and then continue with tuning the tree parameters. I will come back to the learning_rate and n_estimator one more time at the end of the optimization."
   ]
  },
  {
   "cell_type": "markdown",
   "id": "78ea58ed",
   "metadata": {},
   "source": [
    "#### Tree Parameters: max_depth, min_child_weight, gamma"
   ]
  },
  {
   "cell_type": "code",
   "execution_count": 309,
   "id": "dbb48eef",
   "metadata": {},
   "outputs": [],
   "source": [
    "hype_params['xgb_model__max_depth'] = range(2, 16, 2)\n",
    "hype_params['xgb_model__min_child_weight'] = range(1,6,2)\n",
    "hype_params['xgb_model__gamma'] = [i/10.0 for i in range(0,5)]"
   ]
  },
  {
   "cell_type": "code",
   "execution_count": 310,
   "id": "b8ec8886",
   "metadata": {},
   "outputs": [],
   "source": [
    "rand_search = RandomizedSearchCV(\n",
    "    estimator=pipe_2,\n",
    "    param_distributions=hype_params,\n",
    "    scoring = 'f1_macro',\n",
    "    n_iter = 10,\n",
    "    cv = 5,\n",
    "    verbose=True,\n",
    "    random_state=123\n",
    ")"
   ]
  },
  {
   "cell_type": "code",
   "execution_count": 311,
   "id": "949b3aef",
   "metadata": {},
   "outputs": [
    {
     "name": "stdout",
     "output_type": "stream",
     "text": [
      "Fitting 5 folds for each of 10 candidates, totalling 50 fits\n"
     ]
    },
    {
     "data": {
      "text/plain": [
       "RandomizedSearchCV(cv=5,\n",
       "                   estimator=Pipeline(steps=[('preprocessor',\n",
       "                                              ColumnTransformer(transformers=[('num_transformer',\n",
       "                                                                               SimpleImputer(fill_value=-99,\n",
       "                                                                                             strategy='constant'),\n",
       "                                                                               Index(['Patient_Age', 'Blood_Cell', 'Mother_Age', 'Father_Age',\n",
       "       'Previous_Abortions', 'White_Blood_Cell', 'Symptom_1', 'Symptom_2',\n",
       "       'Symptom_3', 'Symptom_4', 'Symptom_5'],\n",
       "      dtype='object')),\n",
       "                                                                              ('cat...\n",
       "                                                            scale_pos_weight=None,\n",
       "                                                            seed=123,\n",
       "                                                            subsample=None,\n",
       "                                                            tree_method=None,\n",
       "                                                            use_label_encoder=False, ...))]),\n",
       "                   param_distributions={'xgb_model__gamma': [0.0, 0.1, 0.2, 0.3,\n",
       "                                                             0.4],\n",
       "                                        'xgb_model__learning_rate': [0.1],\n",
       "                                        'xgb_model__max_depth': range(2, 16, 2),\n",
       "                                        'xgb_model__min_child_weight': range(1, 6, 2),\n",
       "                                        'xgb_model__n_estimators': [100]},\n",
       "                   random_state=123, scoring='f1_macro', verbose=True)"
      ]
     },
     "execution_count": 311,
     "metadata": {},
     "output_type": "execute_result"
    }
   ],
   "source": [
    "rand_search.fit(X_train, y_train)"
   ]
  },
  {
   "cell_type": "code",
   "execution_count": 312,
   "id": "908d12ad",
   "metadata": {},
   "outputs": [
    {
     "data": {
      "text/plain": [
       "{'xgb_model__n_estimators': 100,\n",
       " 'xgb_model__min_child_weight': 5,\n",
       " 'xgb_model__max_depth': 8,\n",
       " 'xgb_model__learning_rate': 0.1,\n",
       " 'xgb_model__gamma': 0.2}"
      ]
     },
     "execution_count": 312,
     "metadata": {},
     "output_type": "execute_result"
    }
   ],
   "source": [
    "rand_search.best_params_"
   ]
  },
  {
   "cell_type": "code",
   "execution_count": 315,
   "id": "be9c15c1",
   "metadata": {},
   "outputs": [
    {
     "data": {
      "text/plain": [
       "0.2953408328269985"
      ]
     },
     "execution_count": 315,
     "metadata": {},
     "output_type": "execute_result"
    }
   ],
   "source": [
    "rand_search.best_score_"
   ]
  },
  {
   "cell_type": "code",
   "execution_count": 327,
   "id": "ecebf0f9",
   "metadata": {},
   "outputs": [],
   "source": [
    "mean_score = list(rand_search.cv_results_['mean_test_score'])\n",
    "stds_score = list(rand_search.cv_results_['std_test_score'])"
   ]
  },
  {
   "cell_type": "code",
   "execution_count": 330,
   "id": "f6d07177",
   "metadata": {},
   "outputs": [
    {
     "data": {
      "image/png": "[encoded data removed]",
      "text/plain": [
       "<Figure size 432x288 with 1 Axes>"
      ]
     },
     "metadata": {
      "needs_background": "light"
     },
     "output_type": "display_data"
    }
   ],
   "source": [
    "plt.errorbar(list(range(0,len(mean_score))), mean_score, yerr=stds_score)\n",
    "plt.title(\"Rand_Search Iteration vs F1_Macro Score\")\n",
    "plt.xlabel(\"Iteration\")\n",
    "plt.ylabel(\"f1_score\")\n",
    "plt.show()"
   ]
  },
  {
   "cell_type": "markdown",
   "id": "e2b79b79",
   "metadata": {},
   "source": [
    "Iteration 0 and 6 looks to have the highest scores with their randomized parameters."
   ]
  },
  {
   "cell_type": "code",
   "execution_count": 337,
   "id": "d17d5983",
   "metadata": {},
   "outputs": [
    {
     "data": {
      "text/plain": [
       "{'xgb_model__n_estimators': 100,\n",
       " 'xgb_model__min_child_weight': 5,\n",
       " 'xgb_model__max_depth': 8,\n",
       " 'xgb_model__learning_rate': 0.1,\n",
       " 'xgb_model__gamma': 0.2}"
      ]
     },
     "execution_count": 337,
     "metadata": {},
     "output_type": "execute_result"
    }
   ],
   "source": [
    "rand_search.cv_results_['params'][0]"
   ]
  },
  {
   "cell_type": "code",
   "execution_count": 338,
   "id": "e2c6e376",
   "metadata": {},
   "outputs": [
    {
     "data": {
      "text/plain": [
       "{'xgb_model__n_estimators': 100,\n",
       " 'xgb_model__min_child_weight': 5,\n",
       " 'xgb_model__max_depth': 6,\n",
       " 'xgb_model__learning_rate': 0.1,\n",
       " 'xgb_model__gamma': 0.0}"
      ]
     },
     "execution_count": 338,
     "metadata": {},
     "output_type": "execute_result"
    }
   ],
   "source": [
    "rand_search.cv_results_['params'][6]"
   ]
  },
  {
   "cell_type": "markdown",
   "id": "3f10a449",
   "metadata": {},
   "source": [
    "My new grid_search parameters will include both rand_search parameters that had the best scores."
   ]
  },
  {
   "cell_type": "code",
   "execution_count": 358,
   "id": "5e9bf2cb",
   "metadata": {},
   "outputs": [],
   "source": [
    "hype_params['xgb_model__max_depth'] = range(5, 10)\n",
    "hype_params['xgb_model__min_child_weight'] = range(4,7)\n",
    "hype_params['xgb_model__gamma'] = np.arange(0, 0.4, 0.1)"
   ]
  },
  {
   "cell_type": "code",
   "execution_count": 359,
   "id": "02c908a3",
   "metadata": {},
   "outputs": [],
   "source": [
    "grid_search = GridSearchCV(\n",
    "    estimator=pipe_2,\n",
    "    param_grid=hype_params,\n",
    "    scoring = 'f1_macro',\n",
    "    cv = 5,\n",
    "    verbose=True,\n",
    ")"
   ]
  },
  {
   "cell_type": "code",
   "execution_count": 360,
   "id": "0e8ae996",
   "metadata": {},
   "outputs": [
    {
     "name": "stdout",
     "output_type": "stream",
     "text": [
      "Fitting 5 folds for each of 60 candidates, totalling 300 fits\n"
     ]
    },
    {
     "data": {
      "text/plain": [
       "GridSearchCV(cv=5,\n",
       "             estimator=Pipeline(steps=[('preprocessor',\n",
       "                                        ColumnTransformer(transformers=[('num_transformer',\n",
       "                                                                         SimpleImputer(fill_value=-99,\n",
       "                                                                                       strategy='constant'),\n",
       "                                                                         Index(['Patient_Age', 'Blood_Cell', 'Mother_Age', 'Father_Age',\n",
       "       'Previous_Abortions', 'White_Blood_Cell', 'Symptom_1', 'Symptom_2',\n",
       "       'Symptom_3', 'Symptom_4', 'Symptom_5'],\n",
       "      dtype='object')),\n",
       "                                                                        ('cat_trans...\n",
       "                                                      reg_alpha=None,\n",
       "                                                      reg_lambda=None,\n",
       "                                                      scale_pos_weight=None,\n",
       "                                                      seed=123, subsample=None,\n",
       "                                                      tree_method=None,\n",
       "                                                      use_label_encoder=False, ...))]),\n",
       "             param_grid={'xgb_model__gamma': array([0. , 0.1, 0.2, 0.3]),\n",
       "                         'xgb_model__learning_rate': [0.1],\n",
       "                         'xgb_model__max_depth': range(5, 10),\n",
       "                         'xgb_model__min_child_weight': range(4, 7),\n",
       "                         'xgb_model__n_estimators': [100]},\n",
       "             scoring='f1_macro', verbose=True)"
      ]
     },
     "execution_count": 360,
     "metadata": {},
     "output_type": "execute_result"
    }
   ],
   "source": [
    "grid_search.fit(X_train, y_train)"
   ]
  },
  {
   "cell_type": "code",
   "execution_count": 364,
   "id": "128ebb10",
   "metadata": {},
   "outputs": [],
   "source": [
    "mean_score = list(grid_search.cv_results_['mean_test_score'])\n",
    "stds_score = list(grid_search.cv_results_['std_test_score'])"
   ]
  },
  {
   "cell_type": "code",
   "execution_count": 365,
   "id": "a217cfb9",
   "metadata": {},
   "outputs": [
    {
     "data": {
      "image/png": "[encoded data removed]",
      "text/plain": [
       "<Figure size 432x288 with 1 Axes>"
      ]
     },
     "metadata": {
      "needs_background": "light"
     },
     "output_type": "display_data"
    }
   ],
   "source": [
    "plt.errorbar(list(range(0,len(mean_score))), mean_score, yerr=stds_score)\n",
    "plt.title(\"Grid_Search Iteration vs F1_Macro Score\")\n",
    "plt.xlabel(\"Iteration\")\n",
    "plt.ylabel(\"f1_score\")\n",
    "plt.show()"
   ]
  },
  {
   "cell_type": "code",
   "execution_count": 377,
   "id": "411bb5ce",
   "metadata": {},
   "outputs": [
    {
     "data": {
      "text/plain": [
       "[(7, 0.29850871072905855),\n",
       " (52, 0.2979692659309125),\n",
       " (53, 0.2978607889157467),\n",
       " (37, 0.2967703665223703),\n",
       " (38, 0.29646386364126975)]"
      ]
     },
     "execution_count": 377,
     "metadata": {},
     "output_type": "execute_result"
    }
   ],
   "source": [
    "sorted(list(enumerate(mean_score)), key=lambda x: x[1], reverse=True)[0:5]"
   ]
  },
  {
   "cell_type": "code",
   "execution_count": 378,
   "id": "ef159ebf",
   "metadata": {},
   "outputs": [
    {
     "data": {
      "text/plain": [
       "{'xgb_model__gamma': 0.0,\n",
       " 'xgb_model__learning_rate': 0.1,\n",
       " 'xgb_model__max_depth': 7,\n",
       " 'xgb_model__min_child_weight': 5,\n",
       " 'xgb_model__n_estimators': 100}"
      ]
     },
     "execution_count": 378,
     "metadata": {},
     "output_type": "execute_result"
    }
   ],
   "source": [
    "grid_search.cv_results_['params'][7]"
   ]
  },
  {
   "cell_type": "code",
   "execution_count": 379,
   "id": "5e1a8055",
   "metadata": {},
   "outputs": [
    {
     "data": {
      "text/plain": [
       "{'xgb_model__gamma': 0.30000000000000004,\n",
       " 'xgb_model__learning_rate': 0.1,\n",
       " 'xgb_model__max_depth': 7,\n",
       " 'xgb_model__min_child_weight': 5,\n",
       " 'xgb_model__n_estimators': 100}"
      ]
     },
     "execution_count": 379,
     "metadata": {},
     "output_type": "execute_result"
    }
   ],
   "source": [
    "grid_search.cv_results_['params'][52]"
   ]
  },
  {
   "cell_type": "code",
   "execution_count": 380,
   "id": "9f1b7b26",
   "metadata": {},
   "outputs": [
    {
     "data": {
      "text/plain": [
       "{'xgb_model__gamma': 0.30000000000000004,\n",
       " 'xgb_model__learning_rate': 0.1,\n",
       " 'xgb_model__max_depth': 7,\n",
       " 'xgb_model__min_child_weight': 6,\n",
       " 'xgb_model__n_estimators': 100}"
      ]
     },
     "execution_count": 380,
     "metadata": {},
     "output_type": "execute_result"
    }
   ],
   "source": [
    "grid_search.cv_results_['params'][53]"
   ]
  },
  {
   "cell_type": "code",
   "execution_count": 381,
   "id": "3b7ce0b2",
   "metadata": {},
   "outputs": [
    {
     "data": {
      "text/plain": [
       "{'xgb_model__gamma': 0.2,\n",
       " 'xgb_model__learning_rate': 0.1,\n",
       " 'xgb_model__max_depth': 7,\n",
       " 'xgb_model__min_child_weight': 5,\n",
       " 'xgb_model__n_estimators': 100}"
      ]
     },
     "execution_count": 381,
     "metadata": {},
     "output_type": "execute_result"
    }
   ],
   "source": [
    "grid_search.cv_results_['params'][37]"
   ]
  },
  {
   "cell_type": "code",
   "execution_count": 382,
   "id": "cfd335f3",
   "metadata": {},
   "outputs": [
    {
     "data": {
      "text/plain": [
       "{'xgb_model__gamma': 0.2,\n",
       " 'xgb_model__learning_rate': 0.1,\n",
       " 'xgb_model__max_depth': 7,\n",
       " 'xgb_model__min_child_weight': 6,\n",
       " 'xgb_model__n_estimators': 100}"
      ]
     },
     "execution_count": 382,
     "metadata": {},
     "output_type": "execute_result"
    }
   ],
   "source": [
    "grid_search.cv_results_['params'][38]"
   ]
  },
  {
   "cell_type": "code",
   "execution_count": 361,
   "id": "56bc3c0c",
   "metadata": {},
   "outputs": [
    {
     "data": {
      "text/plain": [
       "{'xgb_model__gamma': 0.0,\n",
       " 'xgb_model__learning_rate': 0.1,\n",
       " 'xgb_model__max_depth': 7,\n",
       " 'xgb_model__min_child_weight': 5,\n",
       " 'xgb_model__n_estimators': 100}"
      ]
     },
     "execution_count": 361,
     "metadata": {},
     "output_type": "execute_result"
    }
   ],
   "source": [
    "grid_search.best_params_"
   ]
  },
  {
   "cell_type": "code",
   "execution_count": 363,
   "id": "6923cdfd",
   "metadata": {},
   "outputs": [
    {
     "data": {
      "text/plain": [
       "0.29850871072905855"
      ]
     },
     "execution_count": 363,
     "metadata": {},
     "output_type": "execute_result"
    }
   ],
   "source": [
    "grid_search.best_score_"
   ]
  },
  {
   "cell_type": "markdown",
   "id": "566b6f25",
   "metadata": {},
   "source": [
    "The best model generated is only slightly better compared to the 2nd rate model, but is technicially better relativity when 2nd and 3rd rate models are compared."
   ]
  },
  {
   "cell_type": "code",
   "execution_count": 385,
   "id": "d7bdaf53",
   "metadata": {},
   "outputs": [],
   "source": [
    "hype_params['xgb_model__learning_rate'] = [0.1]\n",
    "hype_params['xgb_model__n_estimators'] = [100]\n",
    "hype_params['xgb_model__gamma'] = [0.2]\n",
    "hype_params['xgb_model__max_depth'] = [7]\n",
    "hype_params['xgb_model__min_child_weight'] = [6]"
   ]
  },
  {
   "cell_type": "markdown",
   "id": "11fa4716",
   "metadata": {},
   "source": [
    "The optimal parameters for gamma, max_depth, and min_child_weight are set for the hyperparameters. The next set of parameters to tune will be subsample and colsample_bytree."
   ]
  },
  {
   "cell_type": "markdown",
   "id": "f24ee20d",
   "metadata": {},
   "source": [
    "#### subsample and colsample_bytree"
   ]
  },
  {
   "cell_type": "code",
   "execution_count": 386,
   "id": "7a34ffa3",
   "metadata": {},
   "outputs": [],
   "source": [
    "hype_params['xgb_model__subsample'] = [i/10.0 for i in range(6,10)]\n",
    "hype_params['xgb_model__colsample_bytree'] = [i/10.0 for i in range(6,10)]"
   ]
  },
  {
   "cell_type": "code",
   "execution_count": 387,
   "id": "d8b51e12",
   "metadata": {},
   "outputs": [],
   "source": [
    "rand_search = RandomizedSearchCV(\n",
    "    estimator=pipe_2,\n",
    "    param_distributions=hype_params,\n",
    "    scoring = 'f1_macro',\n",
    "    n_iter = 10,\n",
    "    cv = 5,\n",
    "    verbose=True,\n",
    "    random_state=123\n",
    ")"
   ]
  },
  {
   "cell_type": "code",
   "execution_count": 388,
   "id": "3fb87f67",
   "metadata": {},
   "outputs": [
    {
     "name": "stdout",
     "output_type": "stream",
     "text": [
      "Fitting 5 folds for each of 10 candidates, totalling 50 fits\n"
     ]
    },
    {
     "data": {
      "text/plain": [
       "RandomizedSearchCV(cv=5,\n",
       "                   estimator=Pipeline(steps=[('preprocessor',\n",
       "                                              ColumnTransformer(transformers=[('num_transformer',\n",
       "                                                                               SimpleImputer(fill_value=-99,\n",
       "                                                                                             strategy='constant'),\n",
       "                                                                               Index(['Patient_Age', 'Blood_Cell', 'Mother_Age', 'Father_Age',\n",
       "       'Previous_Abortions', 'White_Blood_Cell', 'Symptom_1', 'Symptom_2',\n",
       "       'Symptom_3', 'Symptom_4', 'Symptom_5'],\n",
       "      dtype='object')),\n",
       "                                                                              ('cat...\n",
       "                                                            tree_method=None,\n",
       "                                                            use_label_encoder=False, ...))]),\n",
       "                   param_distributions={'xgb_model__colsample_bytree': [0.6,\n",
       "                                                                        0.7,\n",
       "                                                                        0.8,\n",
       "                                                                        0.9],\n",
       "                                        'xgb_model__gamma': [0.2],\n",
       "                                        'xgb_model__learning_rate': [0.1],\n",
       "                                        'xgb_model__max_depth': [7],\n",
       "                                        'xgb_model__min_child_weight': [6],\n",
       "                                        'xgb_model__n_estimators': [100],\n",
       "                                        'xgb_model__subsample': [0.6, 0.7, 0.8,\n",
       "                                                                 0.9]},\n",
       "                   random_state=123, scoring='f1_macro', verbose=True)"
      ]
     },
     "execution_count": 388,
     "metadata": {},
     "output_type": "execute_result"
    }
   ],
   "source": [
    "rand_search.fit(X_train, y_train)"
   ]
  },
  {
   "cell_type": "code",
   "execution_count": 389,
   "id": "99e3b9e1",
   "metadata": {},
   "outputs": [
    {
     "data": {
      "text/plain": [
       "{'xgb_model__subsample': 0.6,\n",
       " 'xgb_model__n_estimators': 100,\n",
       " 'xgb_model__min_child_weight': 6,\n",
       " 'xgb_model__max_depth': 7,\n",
       " 'xgb_model__learning_rate': 0.1,\n",
       " 'xgb_model__gamma': 0.2,\n",
       " 'xgb_model__colsample_bytree': 0.8}"
      ]
     },
     "execution_count": 389,
     "metadata": {},
     "output_type": "execute_result"
    }
   ],
   "source": [
    "rand_search.best_params_"
   ]
  },
  {
   "cell_type": "code",
   "execution_count": 390,
   "id": "a28bfdbd",
   "metadata": {},
   "outputs": [
    {
     "data": {
      "text/plain": [
       "0.2921600581675424"
      ]
     },
     "execution_count": 390,
     "metadata": {},
     "output_type": "execute_result"
    }
   ],
   "source": [
    "rand_search.best_score_"
   ]
  },
  {
   "cell_type": "code",
   "execution_count": 391,
   "id": "c8b61bf6",
   "metadata": {},
   "outputs": [],
   "source": [
    "mean_score = list(rand_search.cv_results_['mean_test_score'])\n",
    "stds_score = list(rand_search.cv_results_['std_test_score'])"
   ]
  },
  {
   "cell_type": "code",
   "execution_count": 392,
   "id": "dea387d3",
   "metadata": {},
   "outputs": [
    {
     "data": {
      "image/png": "[encoded data removed]",
      "text/plain": [
       "<Figure size 432x288 with 1 Axes>"
      ]
     },
     "metadata": {
      "needs_background": "light"
     },
     "output_type": "display_data"
    }
   ],
   "source": [
    "plt.errorbar(list(range(0,len(mean_score))), mean_score, yerr=stds_score)\n",
    "plt.title(\"Rand_Search Iteration vs F1_Macro Score\")\n",
    "plt.xlabel(\"Iteration\")\n",
    "plt.ylabel(\"f1_score\")\n",
    "plt.show()"
   ]
  },
  {
   "cell_type": "code",
   "execution_count": 393,
   "id": "9802c690",
   "metadata": {},
   "outputs": [
    {
     "data": {
      "text/plain": [
       "{'xgb_model__subsample': 0.8,\n",
       " 'xgb_model__n_estimators': 100,\n",
       " 'xgb_model__min_child_weight': 6,\n",
       " 'xgb_model__max_depth': 7,\n",
       " 'xgb_model__learning_rate': 0.1,\n",
       " 'xgb_model__gamma': 0.2,\n",
       " 'xgb_model__colsample_bytree': 0.8}"
      ]
     },
     "execution_count": 393,
     "metadata": {},
     "output_type": "execute_result"
    }
   ],
   "source": [
    "rand_search.cv_results_['params'][1]"
   ]
  },
  {
   "cell_type": "code",
   "execution_count": 394,
   "id": "ae1a9626",
   "metadata": {},
   "outputs": [
    {
     "data": {
      "text/plain": [
       "{'xgb_model__subsample': 0.7,\n",
       " 'xgb_model__n_estimators': 100,\n",
       " 'xgb_model__min_child_weight': 6,\n",
       " 'xgb_model__max_depth': 7,\n",
       " 'xgb_model__learning_rate': 0.1,\n",
       " 'xgb_model__gamma': 0.2,\n",
       " 'xgb_model__colsample_bytree': 0.8}"
      ]
     },
     "execution_count": 394,
     "metadata": {},
     "output_type": "execute_result"
    }
   ],
   "source": [
    "rand_search.cv_results_['params'][5]"
   ]
  },
  {
   "cell_type": "code",
   "execution_count": 395,
   "id": "ac6c8c29",
   "metadata": {},
   "outputs": [
    {
     "data": {
      "text/plain": [
       "{'xgb_model__subsample': 0.6,\n",
       " 'xgb_model__n_estimators': 100,\n",
       " 'xgb_model__min_child_weight': 6,\n",
       " 'xgb_model__max_depth': 7,\n",
       " 'xgb_model__learning_rate': 0.1,\n",
       " 'xgb_model__gamma': 0.2,\n",
       " 'xgb_model__colsample_bytree': 0.8}"
      ]
     },
     "execution_count": 395,
     "metadata": {},
     "output_type": "execute_result"
    }
   ],
   "source": [
    "rand_search.cv_results_['params'][6]"
   ]
  },
  {
   "cell_type": "markdown",
   "id": "a61afb9d",
   "metadata": {},
   "source": [
    "My new grid_search parameters will cover the top 3 model parameters and a bit on either ends."
   ]
  },
  {
   "cell_type": "code",
   "execution_count": 415,
   "id": "b7fd409c",
   "metadata": {},
   "outputs": [],
   "source": [
    "hype_params['xgb_model__subsample'] = [0.4, 0.5, 0.6, 0.7, 0.8, 0.9, 1]\n",
    "hype_params['xgb_model__colsample_bytree'] = [0.6, 0.7, 0.8, 0.9, 1]"
   ]
  },
  {
   "cell_type": "code",
   "execution_count": 416,
   "id": "2f58041c",
   "metadata": {},
   "outputs": [],
   "source": [
    "grid_search = GridSearchCV(\n",
    "    estimator=pipe_2,\n",
    "    param_grid=hype_params,\n",
    "    scoring = 'f1_macro',\n",
    "    cv = 5,\n",
    "    verbose=True,\n",
    ")"
   ]
  },
  {
   "cell_type": "code",
   "execution_count": 417,
   "id": "8c99ae43",
   "metadata": {},
   "outputs": [
    {
     "name": "stdout",
     "output_type": "stream",
     "text": [
      "Fitting 5 folds for each of 35 candidates, totalling 175 fits\n"
     ]
    },
    {
     "data": {
      "text/plain": [
       "GridSearchCV(cv=5,\n",
       "             estimator=Pipeline(steps=[('preprocessor',\n",
       "                                        ColumnTransformer(transformers=[('num_transformer',\n",
       "                                                                         SimpleImputer(fill_value=-99,\n",
       "                                                                                       strategy='constant'),\n",
       "                                                                         Index(['Patient_Age', 'Blood_Cell', 'Mother_Age', 'Father_Age',\n",
       "       'Previous_Abortions', 'White_Blood_Cell', 'Symptom_1', 'Symptom_2',\n",
       "       'Symptom_3', 'Symptom_4', 'Symptom_5'],\n",
       "      dtype='object')),\n",
       "                                                                        ('cat_trans...\n",
       "                                                      seed=123, subsample=None,\n",
       "                                                      tree_method=None,\n",
       "                                                      use_label_encoder=False, ...))]),\n",
       "             param_grid={'xgb_model__colsample_bytree': [0.6, 0.7, 0.8, 0.9, 1],\n",
       "                         'xgb_model__gamma': [0.2],\n",
       "                         'xgb_model__learning_rate': [0.1],\n",
       "                         'xgb_model__max_depth': [7],\n",
       "                         'xgb_model__min_child_weight': [6],\n",
       "                         'xgb_model__n_estimators': [100],\n",
       "                         'xgb_model__subsample': [0.4, 0.5, 0.6, 0.7, 0.8, 0.9,\n",
       "                                                  1]},\n",
       "             scoring='f1_macro', verbose=True)"
      ]
     },
     "execution_count": 417,
     "metadata": {},
     "output_type": "execute_result"
    }
   ],
   "source": [
    "grid_search.fit(X_train, y_train)"
   ]
  },
  {
   "cell_type": "code",
   "execution_count": 418,
   "id": "38924c50",
   "metadata": {},
   "outputs": [],
   "source": [
    "mean_score = list(grid_search.cv_results_['mean_test_score'])\n",
    "stds_score = list(grid_search.cv_results_['std_test_score'])"
   ]
  },
  {
   "cell_type": "code",
   "execution_count": 419,
   "id": "fda4e83b",
   "metadata": {},
   "outputs": [
    {
     "data": {
      "image/png": "[encoded data removed]",
      "text/plain": [
       "<Figure size 432x288 with 1 Axes>"
      ]
     },
     "metadata": {
      "needs_background": "light"
     },
     "output_type": "display_data"
    }
   ],
   "source": [
    "plt.errorbar(list(range(0,len(mean_score))), mean_score, yerr=stds_score)\n",
    "plt.title(\"Grid_Search Iteration vs F1_Macro Score\")\n",
    "plt.xlabel(\"Iteration\")\n",
    "plt.ylabel(\"f1_score\")\n",
    "plt.show()"
   ]
  },
  {
   "cell_type": "code",
   "execution_count": 420,
   "id": "87e817c4",
   "metadata": {},
   "outputs": [
    {
     "data": {
      "text/plain": [
       "[(34, 0.29646386364126975),\n",
       " (23, 0.29629694030904036),\n",
       " (33, 0.2957800749686245),\n",
       " (32, 0.2951665080024468),\n",
       " (30, 0.2948239103298115)]"
      ]
     },
     "execution_count": 420,
     "metadata": {},
     "output_type": "execute_result"
    }
   ],
   "source": [
    "sorted(list(enumerate(mean_score)), key=lambda x: x[1], reverse=True)[0:5]"
   ]
  },
  {
   "cell_type": "code",
   "execution_count": 421,
   "id": "fd950d18",
   "metadata": {},
   "outputs": [
    {
     "data": {
      "text/plain": [
       "{'xgb_model__colsample_bytree': 1,\n",
       " 'xgb_model__gamma': 0.2,\n",
       " 'xgb_model__learning_rate': 0.1,\n",
       " 'xgb_model__max_depth': 7,\n",
       " 'xgb_model__min_child_weight': 6,\n",
       " 'xgb_model__n_estimators': 100,\n",
       " 'xgb_model__subsample': 1}"
      ]
     },
     "execution_count": 421,
     "metadata": {},
     "output_type": "execute_result"
    }
   ],
   "source": [
    "grid_search.best_params_"
   ]
  },
  {
   "cell_type": "code",
   "execution_count": 426,
   "id": "874dd97b",
   "metadata": {},
   "outputs": [
    {
     "data": {
      "text/plain": [
       "0.29646386364126975"
      ]
     },
     "execution_count": 426,
     "metadata": {},
     "output_type": "execute_result"
    }
   ],
   "source": [
    "grid_search.best_score_"
   ]
  },
  {
   "cell_type": "markdown",
   "id": "50fca8e2",
   "metadata": {},
   "source": [
    "Although there is a positive trend in the metric graph for increased colsample_bytree and subsample, both parameters are maximized at 1. So these will be my values for these parameters. This could be something to revisit if other parameters are adjusted."
   ]
  },
  {
   "cell_type": "code",
   "execution_count": 451,
   "id": "a48685a0",
   "metadata": {},
   "outputs": [],
   "source": [
    "hype_params['xgb_model__subsample'] = [1]\n",
    "hype_params['xgb_model__colsample_bytree'] = [1]"
   ]
  },
  {
   "cell_type": "markdown",
   "id": "1b268c36",
   "metadata": {},
   "source": [
    "#### Tuning Regularization: reg_lambda"
   ]
  },
  {
   "cell_type": "markdown",
   "id": "21f17197",
   "metadata": {},
   "source": [
    "I will be tuning lambda rather then alpha since the amount of features I have for my data is relatively small and does not need dimensional reduction."
   ]
  },
  {
   "cell_type": "code",
   "execution_count": 463,
   "id": "3fb4fb22",
   "metadata": {},
   "outputs": [],
   "source": [
    "hype_params['xgb_model__reg_lambda'] = [i/10.0 for i in range(7,16)]"
   ]
  },
  {
   "cell_type": "code",
   "execution_count": 464,
   "id": "3f188fc7",
   "metadata": {},
   "outputs": [],
   "source": [
    "rand_search = RandomizedSearchCV(\n",
    "    estimator=pipe_2,\n",
    "    param_distributions=hype_params,\n",
    "    scoring = 'f1_macro',\n",
    "    n_iter = 10,\n",
    "    cv = 5,\n",
    "    verbose=True,\n",
    "    random_state=123\n",
    ")"
   ]
  },
  {
   "cell_type": "code",
   "execution_count": 465,
   "id": "6c588b7d",
   "metadata": {},
   "outputs": [
    {
     "name": "stdout",
     "output_type": "stream",
     "text": [
      "Fitting 5 folds for each of 9 candidates, totalling 45 fits\n"
     ]
    },
    {
     "data": {
      "text/plain": [
       "RandomizedSearchCV(cv=5,\n",
       "                   estimator=Pipeline(steps=[('preprocessor',\n",
       "                                              ColumnTransformer(transformers=[('num_transformer',\n",
       "                                                                               SimpleImputer(fill_value=-99,\n",
       "                                                                                             strategy='constant'),\n",
       "                                                                               Index(['Patient_Age', 'Blood_Cell', 'Mother_Age', 'Father_Age',\n",
       "       'Previous_Abortions', 'White_Blood_Cell', 'Symptom_1', 'Symptom_2',\n",
       "       'Symptom_3', 'Symptom_4', 'Symptom_5'],\n",
       "      dtype='object')),\n",
       "                                                                              ('cat...\n",
       "                                                            use_label_encoder=False, ...))]),\n",
       "                   param_distributions={'xgb_model__colsample_bytree': [1],\n",
       "                                        'xgb_model__gamma': [0.2],\n",
       "                                        'xgb_model__learning_rate': [0.1],\n",
       "                                        'xgb_model__max_depth': [7],\n",
       "                                        'xgb_model__min_child_weight': [6],\n",
       "                                        'xgb_model__n_estimators': [100],\n",
       "                                        'xgb_model__reg_lambda': [0.7, 0.8, 0.9,\n",
       "                                                                  1.0, 1.1, 1.2,\n",
       "                                                                  1.3, 1.4,\n",
       "                                                                  1.5],\n",
       "                                        'xgb_model__subsample': [1]},\n",
       "                   random_state=123, scoring='f1_macro', verbose=True)"
      ]
     },
     "execution_count": 465,
     "metadata": {},
     "output_type": "execute_result"
    }
   ],
   "source": [
    "rand_search.fit(X_train, y_train)"
   ]
  },
  {
   "cell_type": "code",
   "execution_count": 466,
   "id": "c2204b2e",
   "metadata": {},
   "outputs": [
    {
     "data": {
      "text/plain": [
       "{'xgb_model__subsample': 1,\n",
       " 'xgb_model__reg_lambda': 1.2,\n",
       " 'xgb_model__n_estimators': 100,\n",
       " 'xgb_model__min_child_weight': 6,\n",
       " 'xgb_model__max_depth': 7,\n",
       " 'xgb_model__learning_rate': 0.1,\n",
       " 'xgb_model__gamma': 0.2,\n",
       " 'xgb_model__colsample_bytree': 1}"
      ]
     },
     "execution_count": 466,
     "metadata": {},
     "output_type": "execute_result"
    }
   ],
   "source": [
    "rand_search.best_params_"
   ]
  },
  {
   "cell_type": "code",
   "execution_count": 467,
   "id": "d45e7cc0",
   "metadata": {},
   "outputs": [
    {
     "data": {
      "text/plain": [
       "0.2993398217140989"
      ]
     },
     "execution_count": 467,
     "metadata": {},
     "output_type": "execute_result"
    }
   ],
   "source": [
    "rand_search.best_score_"
   ]
  },
  {
   "cell_type": "code",
   "execution_count": 468,
   "id": "c1d36f42",
   "metadata": {},
   "outputs": [],
   "source": [
    "mean_score = list(rand_search.cv_results_['mean_test_score'])\n",
    "stds_score = list(rand_search.cv_results_['std_test_score'])"
   ]
  },
  {
   "cell_type": "code",
   "execution_count": 469,
   "id": "47cd9e34",
   "metadata": {},
   "outputs": [
    {
     "data": {
      "image/png": "[encoded data removed]",
      "text/plain": [
       "<Figure size 432x288 with 1 Axes>"
      ]
     },
     "metadata": {
      "needs_background": "light"
     },
     "output_type": "display_data"
    }
   ],
   "source": [
    "plt.errorbar(list(range(0,len(mean_score))), mean_score, yerr=stds_score)\n",
    "plt.title(\"Rand_Search Iteration vs F1_Macro Score\")\n",
    "plt.xlabel(\"Iteration\")\n",
    "plt.ylabel(\"f1_score\")\n",
    "plt.show()"
   ]
  },
  {
   "cell_type": "code",
   "execution_count": 470,
   "id": "c82955ed",
   "metadata": {},
   "outputs": [],
   "source": [
    "hype_params['xgb_model__reg_lambda'] = [0.9, 1.0, 1.1, 1.2, 1.3, 1.4, 1.5, 1.6]"
   ]
  },
  {
   "cell_type": "code",
   "execution_count": 471,
   "id": "5a5cf822",
   "metadata": {},
   "outputs": [],
   "source": [
    "grid_search = GridSearchCV(\n",
    "    estimator=pipe_2,\n",
    "    param_grid=hype_params,\n",
    "    scoring = 'f1_macro',\n",
    "    cv = 5,\n",
    "    verbose=True,\n",
    ")"
   ]
  },
  {
   "cell_type": "code",
   "execution_count": 472,
   "id": "f45f7895",
   "metadata": {},
   "outputs": [
    {
     "name": "stdout",
     "output_type": "stream",
     "text": [
      "Fitting 5 folds for each of 8 candidates, totalling 40 fits\n"
     ]
    },
    {
     "data": {
      "text/plain": [
       "GridSearchCV(cv=5,\n",
       "             estimator=Pipeline(steps=[('preprocessor',\n",
       "                                        ColumnTransformer(transformers=[('num_transformer',\n",
       "                                                                         SimpleImputer(fill_value=-99,\n",
       "                                                                                       strategy='constant'),\n",
       "                                                                         Index(['Patient_Age', 'Blood_Cell', 'Mother_Age', 'Father_Age',\n",
       "       'Previous_Abortions', 'White_Blood_Cell', 'Symptom_1', 'Symptom_2',\n",
       "       'Symptom_3', 'Symptom_4', 'Symptom_5'],\n",
       "      dtype='object')),\n",
       "                                                                        ('cat_trans...\n",
       "                                                      tree_method=None,\n",
       "                                                      use_label_encoder=False, ...))]),\n",
       "             param_grid={'xgb_model__colsample_bytree': [1],\n",
       "                         'xgb_model__gamma': [0.2],\n",
       "                         'xgb_model__learning_rate': [0.1],\n",
       "                         'xgb_model__max_depth': [7],\n",
       "                         'xgb_model__min_child_weight': [6],\n",
       "                         'xgb_model__n_estimators': [100],\n",
       "                         'xgb_model__reg_lambda': [0.9, 1.0, 1.1, 1.2, 1.3, 1.4,\n",
       "                                                   1.5, 1.6],\n",
       "                         'xgb_model__subsample': [1]},\n",
       "             scoring='f1_macro', verbose=True)"
      ]
     },
     "execution_count": 472,
     "metadata": {},
     "output_type": "execute_result"
    }
   ],
   "source": [
    "grid_search.fit(X_train, y_train)"
   ]
  },
  {
   "cell_type": "code",
   "execution_count": 473,
   "id": "3a7fc1e9",
   "metadata": {},
   "outputs": [],
   "source": [
    "mean_score = list(grid_search.cv_results_['mean_test_score'])\n",
    "stds_score = list(grid_search.cv_results_['std_test_score'])"
   ]
  },
  {
   "cell_type": "code",
   "execution_count": 474,
   "id": "40c5ccef",
   "metadata": {},
   "outputs": [
    {
     "data": {
      "image/png": "[encoded data removed]",
      "text/plain": [
       "<Figure size 432x288 with 1 Axes>"
      ]
     },
     "metadata": {
      "needs_background": "light"
     },
     "output_type": "display_data"
    }
   ],
   "source": [
    "plt.errorbar(list(range(0,len(mean_score))), mean_score, yerr=stds_score)\n",
    "plt.title(\"Grid_Search Iteration vs F1_Macro Score\")\n",
    "plt.xlabel(\"Iteration\")\n",
    "plt.ylabel(\"f1_score\")\n",
    "plt.show()"
   ]
  },
  {
   "cell_type": "markdown",
   "id": "7c241c2d",
   "metadata": {},
   "source": [
    "Performing Gridsearch again, but with an increased upper limit."
   ]
  },
  {
   "cell_type": "code",
   "execution_count": 478,
   "id": "f0ec7c75",
   "metadata": {},
   "outputs": [],
   "source": [
    "hype_params['xgb_model__reg_lambda'] = [1.2, 1.3, 1.4, 1.5, 1.6, 1.7, 1.8, 1.9, 2.0]"
   ]
  },
  {
   "cell_type": "code",
   "execution_count": 479,
   "id": "156001de",
   "metadata": {},
   "outputs": [],
   "source": [
    "grid_search = GridSearchCV(\n",
    "    estimator=pipe_2,\n",
    "    param_grid=hype_params,\n",
    "    scoring = 'f1_macro',\n",
    "    cv = 5,\n",
    "    verbose=True,\n",
    ")"
   ]
  },
  {
   "cell_type": "code",
   "execution_count": 480,
   "id": "18b88096",
   "metadata": {},
   "outputs": [
    {
     "name": "stdout",
     "output_type": "stream",
     "text": [
      "Fitting 5 folds for each of 9 candidates, totalling 45 fits\n"
     ]
    },
    {
     "data": {
      "text/plain": [
       "GridSearchCV(cv=5,\n",
       "             estimator=Pipeline(steps=[('preprocessor',\n",
       "                                        ColumnTransformer(transformers=[('num_transformer',\n",
       "                                                                         SimpleImputer(fill_value=-99,\n",
       "                                                                                       strategy='constant'),\n",
       "                                                                         Index(['Patient_Age', 'Blood_Cell', 'Mother_Age', 'Father_Age',\n",
       "       'Previous_Abortions', 'White_Blood_Cell', 'Symptom_1', 'Symptom_2',\n",
       "       'Symptom_3', 'Symptom_4', 'Symptom_5'],\n",
       "      dtype='object')),\n",
       "                                                                        ('cat_trans...\n",
       "                                                      use_label_encoder=False, ...))]),\n",
       "             param_grid={'xgb_model__colsample_bytree': [1],\n",
       "                         'xgb_model__gamma': [0.2],\n",
       "                         'xgb_model__learning_rate': [0.1],\n",
       "                         'xgb_model__max_depth': [7],\n",
       "                         'xgb_model__min_child_weight': [6],\n",
       "                         'xgb_model__n_estimators': [100],\n",
       "                         'xgb_model__reg_lambda': [1.2, 1.3, 1.4, 1.5, 1.6, 1.7,\n",
       "                                                   1.8, 1.9, 2.0],\n",
       "                         'xgb_model__subsample': [1]},\n",
       "             scoring='f1_macro', verbose=True)"
      ]
     },
     "execution_count": 480,
     "metadata": {},
     "output_type": "execute_result"
    }
   ],
   "source": [
    "grid_search.fit(X_train, y_train)"
   ]
  },
  {
   "cell_type": "code",
   "execution_count": 481,
   "id": "082dd925",
   "metadata": {},
   "outputs": [],
   "source": [
    "mean_score = list(grid_search.cv_results_['mean_test_score'])\n",
    "stds_score = list(grid_search.cv_results_['std_test_score'])"
   ]
  },
  {
   "cell_type": "code",
   "execution_count": 482,
   "id": "00e00c42",
   "metadata": {},
   "outputs": [
    {
     "data": {
      "image/png": "[encoded data removed]",
      "text/plain": [
       "<Figure size 432x288 with 1 Axes>"
      ]
     },
     "metadata": {
      "needs_background": "light"
     },
     "output_type": "display_data"
    }
   ],
   "source": [
    "plt.errorbar(list(range(0,len(mean_score))), mean_score, yerr=stds_score)\n",
    "plt.title(\"Grid_Search Iteration vs F1_Macro Score\")\n",
    "plt.xlabel(\"Iteration\")\n",
    "plt.ylabel(\"f1_score\")\n",
    "plt.show()"
   ]
  },
  {
   "cell_type": "code",
   "execution_count": 483,
   "id": "bafbfb59",
   "metadata": {},
   "outputs": [
    {
     "data": {
      "text/plain": [
       "[(0, 0.2993398217140989),\n",
       " (1, 0.2919537690629776),\n",
       " (2, 0.29188154860908266),\n",
       " (3, 0.2896231864394682),\n",
       " (4, 0.30099208953950723),\n",
       " (5, 0.290369422919334),\n",
       " (6, 0.2915137776739861),\n",
       " (7, 0.297255037997548),\n",
       " (8, 0.2988785625319179)]"
      ]
     },
     "execution_count": 483,
     "metadata": {},
     "output_type": "execute_result"
    }
   ],
   "source": [
    "list(enumerate(mean_score))"
   ]
  },
  {
   "cell_type": "code",
   "execution_count": 484,
   "id": "46b9dd6b",
   "metadata": {},
   "outputs": [
    {
     "data": {
      "text/plain": [
       "0.30099208953950723"
      ]
     },
     "execution_count": 484,
     "metadata": {},
     "output_type": "execute_result"
    }
   ],
   "source": [
    "grid_search.best_score_"
   ]
  },
  {
   "cell_type": "code",
   "execution_count": 485,
   "id": "36574b88",
   "metadata": {},
   "outputs": [
    {
     "data": {
      "text/plain": [
       "{'xgb_model__colsample_bytree': 1,\n",
       " 'xgb_model__gamma': 0.2,\n",
       " 'xgb_model__learning_rate': 0.1,\n",
       " 'xgb_model__max_depth': 7,\n",
       " 'xgb_model__min_child_weight': 6,\n",
       " 'xgb_model__n_estimators': 100,\n",
       " 'xgb_model__reg_lambda': 1.6,\n",
       " 'xgb_model__subsample': 1}"
      ]
     },
     "execution_count": 485,
     "metadata": {},
     "output_type": "execute_result"
    }
   ],
   "source": [
    "grid_search.best_params_"
   ]
  },
  {
   "cell_type": "code",
   "execution_count": 486,
   "id": "f7be6335",
   "metadata": {},
   "outputs": [],
   "source": [
    "hype_params['xgb_model__reg_lambda'] = [1.6]"
   ]
  },
  {
   "cell_type": "markdown",
   "id": "bdfc3831",
   "metadata": {},
   "source": [
    "#### Checking back on learning_rate and n_estimator"
   ]
  },
  {
   "cell_type": "markdown",
   "id": "f30b2152",
   "metadata": {},
   "source": [
    "After all other parameters have been set to optimal values, I am going to re-evaluate the learning_rate and n_estimator to see if there are impovements with deeper learning parameters. Lower value for learning_rate and higher value for n_estimator. I will be going straight to GridSearch given I have initial parameters and range to work with."
   ]
  },
  {
   "cell_type": "code",
   "execution_count": 490,
   "id": "06c03b2f",
   "metadata": {},
   "outputs": [],
   "source": [
    "hype_params['xgb_model__learning_rate'] = [0.001, 0.01, 0.05, 0.1, 1.5, 0.2, 0.3]\n",
    "hype_params['xgb_model__n_estimators'] = [70, 80, 90, 100, 110, 120, 130]"
   ]
  },
  {
   "cell_type": "code",
   "execution_count": 491,
   "id": "9ddf0be8",
   "metadata": {},
   "outputs": [],
   "source": [
    "grid_search = GridSearchCV(\n",
    "    estimator=pipe_2,\n",
    "    param_grid=hype_params,\n",
    "    scoring = 'f1_macro',\n",
    "    cv = 5,\n",
    "    verbose=True,\n",
    ")"
   ]
  },
  {
   "cell_type": "code",
   "execution_count": 492,
   "id": "b3198f02",
   "metadata": {},
   "outputs": [
    {
     "name": "stdout",
     "output_type": "stream",
     "text": [
      "Fitting 5 folds for each of 49 candidates, totalling 245 fits\n"
     ]
    },
    {
     "data": {
      "text/plain": [
       "GridSearchCV(cv=5,\n",
       "             estimator=Pipeline(steps=[('preprocessor',\n",
       "                                        ColumnTransformer(transformers=[('num_transformer',\n",
       "                                                                         SimpleImputer(fill_value=-99,\n",
       "                                                                                       strategy='constant'),\n",
       "                                                                         Index(['Patient_Age', 'Blood_Cell', 'Mother_Age', 'Father_Age',\n",
       "       'Previous_Abortions', 'White_Blood_Cell', 'Symptom_1', 'Symptom_2',\n",
       "       'Symptom_3', 'Symptom_4', 'Symptom_5'],\n",
       "      dtype='object')),\n",
       "                                                                        ('cat_trans...\n",
       "                                                      use_label_encoder=False, ...))]),\n",
       "             param_grid={'xgb_model__colsample_bytree': [1],\n",
       "                         'xgb_model__gamma': [0.2],\n",
       "                         'xgb_model__learning_rate': [0.001, 0.01, 0.05, 0.1,\n",
       "                                                      1.5, 0.2, 0.3],\n",
       "                         'xgb_model__max_depth': [7],\n",
       "                         'xgb_model__min_child_weight': [6],\n",
       "                         'xgb_model__n_estimators': [70, 80, 90, 100, 110, 120,\n",
       "                                                     130],\n",
       "                         'xgb_model__reg_lambda': [1.6],\n",
       "                         'xgb_model__subsample': [1]},\n",
       "             scoring='f1_macro', verbose=True)"
      ]
     },
     "execution_count": 492,
     "metadata": {},
     "output_type": "execute_result"
    }
   ],
   "source": [
    "grid_search.fit(X_train, y_train)"
   ]
  },
  {
   "cell_type": "code",
   "execution_count": 493,
   "id": "a073b03c",
   "metadata": {},
   "outputs": [],
   "source": [
    "mean_score = list(grid_search.cv_results_['mean_test_score'])\n",
    "stds_score = list(grid_search.cv_results_['std_test_score'])"
   ]
  },
  {
   "cell_type": "code",
   "execution_count": 494,
   "id": "8b5d7b24",
   "metadata": {},
   "outputs": [
    {
     "data": {
      "image/png": "[encoded data removed]",
      "text/plain": [
       "<Figure size 432x288 with 1 Axes>"
      ]
     },
     "metadata": {
      "needs_background": "light"
     },
     "output_type": "display_data"
    }
   ],
   "source": [
    "plt.errorbar(list(range(0,len(mean_score))), mean_score, yerr=stds_score)\n",
    "plt.title(\"Grid_Search Iteration vs F1_Macro Score\")\n",
    "plt.xlabel(\"Iteration\")\n",
    "plt.ylabel(\"f1_score\")\n",
    "plt.show()"
   ]
  },
  {
   "cell_type": "code",
   "execution_count": 495,
   "id": "c714cacc",
   "metadata": {},
   "outputs": [
    {
     "data": {
      "text/plain": [
       "{'xgb_model__colsample_bytree': 1,\n",
       " 'xgb_model__gamma': 0.2,\n",
       " 'xgb_model__learning_rate': 0.1,\n",
       " 'xgb_model__max_depth': 7,\n",
       " 'xgb_model__min_child_weight': 6,\n",
       " 'xgb_model__n_estimators': 120,\n",
       " 'xgb_model__reg_lambda': 1.6,\n",
       " 'xgb_model__subsample': 1}"
      ]
     },
     "execution_count": 495,
     "metadata": {},
     "output_type": "execute_result"
    }
   ],
   "source": [
    "grid_search.best_params_"
   ]
  },
  {
   "cell_type": "code",
   "execution_count": 496,
   "id": "0a23ae22",
   "metadata": {},
   "outputs": [
    {
     "data": {
      "text/plain": [
       "0.30235761740568246"
      ]
     },
     "execution_count": 496,
     "metadata": {},
     "output_type": "execute_result"
    }
   ],
   "source": [
    "grid_search.best_score_"
   ]
  },
  {
   "cell_type": "code",
   "execution_count": null,
   "id": "8a5bfa0c",
   "metadata": {},
   "outputs": [],
   "source": []
  },
  {
   "cell_type": "code",
   "execution_count": null,
   "id": "db55bf06",
   "metadata": {},
   "outputs": [],
   "source": []
  },
  {
   "cell_type": "code",
   "execution_count": null,
   "id": "bcb62318",
   "metadata": {},
   "outputs": [],
   "source": []
  },
  {
   "cell_type": "code",
   "execution_count": null,
   "id": "844e6172",
   "metadata": {},
   "outputs": [],
   "source": []
  },
  {
   "cell_type": "code",
   "execution_count": null,
   "id": "16eff789",
   "metadata": {},
   "outputs": [],
   "source": []
  },
  {
   "cell_type": "code",
   "execution_count": null,
   "id": "ea2af07a",
   "metadata": {},
   "outputs": [],
   "source": []
  },
  {
   "cell_type": "code",
   "execution_count": null,
   "id": "2e882508",
   "metadata": {},
   "outputs": [],
   "source": []
  },
  {
   "cell_type": "code",
   "execution_count": 498,
   "id": "4d58b5dc",
   "metadata": {},
   "outputs": [
    {
     "name": "stdout",
     "output_type": "stream",
     "text": [
      "89.68742154155159\n",
      "37.258347978910365\n"
     ]
    }
   ],
   "source": [
    "final_model = xgb.XGBClassifier(objective='Multi:softmax', eval_metric=\"mlogloss\", use_label_encoder=False, seed=123,\n",
    "                            colsample_bytree=1,\n",
    "                            gamma=0.2,\n",
    "                            learning_rate=0.1,\n",
    "                            max_depth=7,\n",
    "                            min_child_weight=6,\n",
    "                            n_estimators=120,\n",
    "                            reg_lambda=1.6,\n",
    "                            subsample=1\n",
    ")\n",
    "\n",
    "pipe_3 = Pipeline(steps=[('preprocessor', preprocessor),\n",
    "                         ('xgb_model', final_model)])\n",
    "\n",
    "pipe_3.fit(X_train, y_train)\n",
    "\n",
    "predTrain_3 = pipe_3.predict(X_train)\n",
    "predTest_3 = pipe_3.predict(X_test)\n",
    "\n",
    "print(accuracy_score(y_train, predTrain_3) * 100)\n",
    "print(accuracy_score(y_test, predTest_3) * 100)"
   ]
  },
  {
   "cell_type": "code",
   "execution_count": 558,
   "id": "da5f2edc",
   "metadata": {},
   "outputs": [
    {
     "name": "stdout",
     "output_type": "stream",
     "text": [
      "Scores: [30.23203331 31.8954115  31.68237625 27.55833453 29.81065312]\n",
      "Mean: 30.235761740568247\n",
      "Standard Deviation: 0.015618244822954147\n"
     ]
    }
   ],
   "source": [
    "# Cross Validation Score\n",
    "scores = cross_val_score(pipe_3, X_train, y_train, cv=5, scoring=\"accuracy\")\n",
    "print(\"Scores:\", scores * 100)\n",
    "print(\"Mean:\", scores.mean() * 100)\n",
    "print(\"Standard Deviation:\", scores.std())"
   ]
  },
  {
   "cell_type": "code",
   "execution_count": 211,
   "id": "6a922ab0",
   "metadata": {},
   "outputs": [
    {
     "name": "stdout",
     "output_type": "stream",
     "text": [
      "              precision    recall  f1-score   support\n",
      "\n",
      "           0       0.20      0.03      0.06        29\n",
      "           1       0.75      0.13      0.22        23\n",
      "           2       0.42      0.56      0.48       647\n",
      "           3       0.33      0.23      0.27       346\n",
      "           4       0.37      0.26      0.30       266\n",
      "           5       0.35      0.20      0.25       126\n",
      "           6       0.43      0.45      0.44      1072\n",
      "           7       0.36      0.39      0.37       901\n",
      "           8       0.33      0.30      0.32       573\n",
      "\n",
      "    accuracy                           0.39      3983\n",
      "   macro avg       0.39      0.28      0.30      3983\n",
      "weighted avg       0.38      0.39      0.38      3983\n",
      "\n"
     ]
    }
   ],
   "source": [
    "print(classification_report(y_test, predTest_1))"
   ]
  },
  {
   "cell_type": "code",
   "execution_count": null,
   "id": "f4b3f66f",
   "metadata": {},
   "outputs": [],
   "source": []
  },
  {
   "cell_type": "code",
   "execution_count": null,
   "id": "8dc71fd1",
   "metadata": {},
   "outputs": [],
   "source": []
  },
  {
   "cell_type": "code",
   "execution_count": 561,
   "id": "9991052a",
   "metadata": {},
   "outputs": [
    {
     "data": {
      "text/plain": [
       "Pipeline(steps=[('preprocessor',\n",
       "                 ColumnTransformer(transformers=[('num_transformer',\n",
       "                                                  SimpleImputer(fill_value=-99,\n",
       "                                                                strategy='constant'),\n",
       "                                                  Index(['Patient_Age', 'Blood_Cell', 'Mother_Age', 'Father_Age',\n",
       "       'Previous_Abortions', 'White_Blood_Cell', 'Symptom_1', 'Symptom_2',\n",
       "       'Symptom_3', 'Symptom_4', 'Symptom_5'],\n",
       "      dtype='object')),\n",
       "                                                 ('cat_transformer',\n",
       "                                                  Pipeline(steps=[('im...\n",
       "                               importance_type=None, interaction_constraints='',\n",
       "                               learning_rate=0.300000012, max_delta_step=0,\n",
       "                               max_depth=6, min_child_weight=1, missing=nan,\n",
       "                               monotone_constraints='()', n_estimators=100,\n",
       "                               n_jobs=6, num_parallel_tree=1,\n",
       "                               objective='multi:softprob', predictor='auto',\n",
       "                               random_state=123, reg_alpha=0, reg_lambda=1,\n",
       "                               scale_pos_weight=None, seed=123, subsample=1,\n",
       "                               tree_method='exact', use_label_encoder=False, ...))])"
      ]
     },
     "execution_count": 561,
     "metadata": {},
     "output_type": "execute_result"
    }
   ],
   "source": [
    "pipe_1.fit(X, encoded_y)"
   ]
  },
  {
   "cell_type": "code",
   "execution_count": 512,
   "id": "5b7b50d7",
   "metadata": {},
   "outputs": [],
   "source": [
    "test_data = pd.read_csv(\"..\\\\Data\\\\test_data_cleaned.csv\", index_col=0)"
   ]
  },
  {
   "cell_type": "code",
   "execution_count": 513,
   "id": "8becb305",
   "metadata": {},
   "outputs": [
    {
     "data": {
      "text/html": [
       "<div>\n",
       "<style scoped>\n",
       "    .dataframe tbody tr th:only-of-type {\n",
       "        vertical-align: middle;\n",
       "    }\n",
       "\n",
       "    .dataframe tbody tr th {\n",
       "        vertical-align: top;\n",
       "    }\n",
       "\n",
       "    .dataframe thead th {\n",
       "        text-align: right;\n",
       "    }\n",
       "</style>\n",
       "<table border=\"1\" class=\"dataframe\">\n",
       "  <thead>\n",
       "    <tr style=\"text-align: right;\">\n",
       "      <th></th>\n",
       "      <th>Patient_Age</th>\n",
       "      <th>Mother_Gene</th>\n",
       "      <th>Father_Gene</th>\n",
       "      <th>Maternal_Gene</th>\n",
       "      <th>Paternal_Gene</th>\n",
       "      <th>Blood_Cell</th>\n",
       "      <th>Mother_Age</th>\n",
       "      <th>Father_Age</th>\n",
       "      <th>Status</th>\n",
       "      <th>Respiratory_Rate</th>\n",
       "      <th>...</th>\n",
       "      <th>History_Pregnancies</th>\n",
       "      <th>Previous_Abortions</th>\n",
       "      <th>Birth_Defects</th>\n",
       "      <th>White_Blood_Cell</th>\n",
       "      <th>Blood_Test</th>\n",
       "      <th>Symptom_1</th>\n",
       "      <th>Symptom_2</th>\n",
       "      <th>Symptom_3</th>\n",
       "      <th>Symptom_4</th>\n",
       "      <th>Symptom_5</th>\n",
       "    </tr>\n",
       "  </thead>\n",
       "  <tbody>\n",
       "    <tr>\n",
       "      <th>0</th>\n",
       "      <td>6</td>\n",
       "      <td>No</td>\n",
       "      <td>Yes</td>\n",
       "      <td>No</td>\n",
       "      <td>No</td>\n",
       "      <td>4.981655</td>\n",
       "      <td>38</td>\n",
       "      <td>61</td>\n",
       "      <td>Alive</td>\n",
       "      <td>Tachypnea</td>\n",
       "      <td>...</td>\n",
       "      <td>NaN</td>\n",
       "      <td>2.0</td>\n",
       "      <td>Multiple</td>\n",
       "      <td>NaN</td>\n",
       "      <td>slightly abnormal</td>\n",
       "      <td>True</td>\n",
       "      <td>True</td>\n",
       "      <td>True</td>\n",
       "      <td>True</td>\n",
       "      <td>True</td>\n",
       "    </tr>\n",
       "    <tr>\n",
       "      <th>1</th>\n",
       "      <td>10</td>\n",
       "      <td>Yes</td>\n",
       "      <td>No</td>\n",
       "      <td>NaN</td>\n",
       "      <td>Yes</td>\n",
       "      <td>5.118890</td>\n",
       "      <td>33</td>\n",
       "      <td>53</td>\n",
       "      <td>Alive</td>\n",
       "      <td>NaN</td>\n",
       "      <td>...</td>\n",
       "      <td>Yes</td>\n",
       "      <td>NaN</td>\n",
       "      <td>Multiple</td>\n",
       "      <td>8.179584</td>\n",
       "      <td>normal</td>\n",
       "      <td>False</td>\n",
       "      <td>False</td>\n",
       "      <td>False</td>\n",
       "      <td>True</td>\n",
       "      <td>False</td>\n",
       "    </tr>\n",
       "    <tr>\n",
       "      <th>2</th>\n",
       "      <td>5</td>\n",
       "      <td>No</td>\n",
       "      <td>NaN</td>\n",
       "      <td>No</td>\n",
       "      <td>No</td>\n",
       "      <td>4.876204</td>\n",
       "      <td>48</td>\n",
       "      <td>60</td>\n",
       "      <td>Deceased</td>\n",
       "      <td>NaN</td>\n",
       "      <td>...</td>\n",
       "      <td>No</td>\n",
       "      <td>0.0</td>\n",
       "      <td>Singular</td>\n",
       "      <td>NaN</td>\n",
       "      <td>slightly abnormal</td>\n",
       "      <td>False</td>\n",
       "      <td>False</td>\n",
       "      <td>True</td>\n",
       "      <td>True</td>\n",
       "      <td>False</td>\n",
       "    </tr>\n",
       "    <tr>\n",
       "      <th>3</th>\n",
       "      <td>13</td>\n",
       "      <td>No</td>\n",
       "      <td>Yes</td>\n",
       "      <td>Yes</td>\n",
       "      <td>No</td>\n",
       "      <td>4.687767</td>\n",
       "      <td>25</td>\n",
       "      <td>55</td>\n",
       "      <td>Alive</td>\n",
       "      <td>NaN</td>\n",
       "      <td>...</td>\n",
       "      <td>Yes</td>\n",
       "      <td>NaN</td>\n",
       "      <td>Singular</td>\n",
       "      <td>6.884071</td>\n",
       "      <td>normal</td>\n",
       "      <td>True</td>\n",
       "      <td>False</td>\n",
       "      <td>True</td>\n",
       "      <td>False</td>\n",
       "      <td>True</td>\n",
       "    </tr>\n",
       "    <tr>\n",
       "      <th>4</th>\n",
       "      <td>5</td>\n",
       "      <td>No</td>\n",
       "      <td>NaN</td>\n",
       "      <td>NaN</td>\n",
       "      <td>Yes</td>\n",
       "      <td>5.152362</td>\n",
       "      <td>41</td>\n",
       "      <td>38</td>\n",
       "      <td>Deceased</td>\n",
       "      <td>Tachypnea</td>\n",
       "      <td>...</td>\n",
       "      <td>No</td>\n",
       "      <td>NaN</td>\n",
       "      <td>Multiple</td>\n",
       "      <td>6.195178</td>\n",
       "      <td>normal</td>\n",
       "      <td>True</td>\n",
       "      <td>True</td>\n",
       "      <td>True</td>\n",
       "      <td>True</td>\n",
       "      <td>False</td>\n",
       "    </tr>\n",
       "    <tr>\n",
       "      <th>...</th>\n",
       "      <td>...</td>\n",
       "      <td>...</td>\n",
       "      <td>...</td>\n",
       "      <td>...</td>\n",
       "      <td>...</td>\n",
       "      <td>...</td>\n",
       "      <td>...</td>\n",
       "      <td>...</td>\n",
       "      <td>...</td>\n",
       "      <td>...</td>\n",
       "      <td>...</td>\n",
       "      <td>...</td>\n",
       "      <td>...</td>\n",
       "      <td>...</td>\n",
       "      <td>...</td>\n",
       "      <td>...</td>\n",
       "      <td>...</td>\n",
       "      <td>...</td>\n",
       "      <td>...</td>\n",
       "      <td>...</td>\n",
       "      <td>...</td>\n",
       "    </tr>\n",
       "    <tr>\n",
       "      <th>9460</th>\n",
       "      <td>9</td>\n",
       "      <td>Yes</td>\n",
       "      <td>Yes</td>\n",
       "      <td>NaN</td>\n",
       "      <td>No</td>\n",
       "      <td>4.878335</td>\n",
       "      <td>28</td>\n",
       "      <td>63</td>\n",
       "      <td>Alive</td>\n",
       "      <td>NaN</td>\n",
       "      <td>...</td>\n",
       "      <td>Yes</td>\n",
       "      <td>2.0</td>\n",
       "      <td>Multiple</td>\n",
       "      <td>7.234960</td>\n",
       "      <td>abnormal</td>\n",
       "      <td>False</td>\n",
       "      <td>True</td>\n",
       "      <td>True</td>\n",
       "      <td>True</td>\n",
       "      <td>False</td>\n",
       "    </tr>\n",
       "    <tr>\n",
       "      <th>9461</th>\n",
       "      <td>1</td>\n",
       "      <td>Yes</td>\n",
       "      <td>No</td>\n",
       "      <td>NaN</td>\n",
       "      <td>Yes</td>\n",
       "      <td>4.927151</td>\n",
       "      <td>37</td>\n",
       "      <td>62</td>\n",
       "      <td>Deceased</td>\n",
       "      <td>NaN</td>\n",
       "      <td>...</td>\n",
       "      <td>No</td>\n",
       "      <td>NaN</td>\n",
       "      <td>Singular</td>\n",
       "      <td>4.859536</td>\n",
       "      <td>abnormal</td>\n",
       "      <td>False</td>\n",
       "      <td>True</td>\n",
       "      <td>False</td>\n",
       "      <td>True</td>\n",
       "      <td>True</td>\n",
       "    </tr>\n",
       "    <tr>\n",
       "      <th>9462</th>\n",
       "      <td>2</td>\n",
       "      <td>No</td>\n",
       "      <td>Yes</td>\n",
       "      <td>No</td>\n",
       "      <td>No</td>\n",
       "      <td>4.898352</td>\n",
       "      <td>24</td>\n",
       "      <td>32</td>\n",
       "      <td>Deceased</td>\n",
       "      <td>Tachypnea</td>\n",
       "      <td>...</td>\n",
       "      <td>No</td>\n",
       "      <td>3.0</td>\n",
       "      <td>NaN</td>\n",
       "      <td>5.696062</td>\n",
       "      <td>normal</td>\n",
       "      <td>False</td>\n",
       "      <td>True</td>\n",
       "      <td>False</td>\n",
       "      <td>False</td>\n",
       "      <td>True</td>\n",
       "    </tr>\n",
       "    <tr>\n",
       "      <th>9463</th>\n",
       "      <td>13</td>\n",
       "      <td>No</td>\n",
       "      <td>Yes</td>\n",
       "      <td>No</td>\n",
       "      <td>No</td>\n",
       "      <td>4.804840</td>\n",
       "      <td>36</td>\n",
       "      <td>56</td>\n",
       "      <td>Alive</td>\n",
       "      <td>NaN</td>\n",
       "      <td>...</td>\n",
       "      <td>NaN</td>\n",
       "      <td>1.0</td>\n",
       "      <td>Singular</td>\n",
       "      <td>3.000000</td>\n",
       "      <td>NaN</td>\n",
       "      <td>True</td>\n",
       "      <td>True</td>\n",
       "      <td>True</td>\n",
       "      <td>True</td>\n",
       "      <td>True</td>\n",
       "    </tr>\n",
       "    <tr>\n",
       "      <th>9464</th>\n",
       "      <td>12</td>\n",
       "      <td>No</td>\n",
       "      <td>No</td>\n",
       "      <td>Yes</td>\n",
       "      <td>Yes</td>\n",
       "      <td>5.421236</td>\n",
       "      <td>40</td>\n",
       "      <td>35</td>\n",
       "      <td>Deceased</td>\n",
       "      <td>Normal (30-60)</td>\n",
       "      <td>...</td>\n",
       "      <td>No</td>\n",
       "      <td>0.0</td>\n",
       "      <td>Singular</td>\n",
       "      <td>7.492765</td>\n",
       "      <td>abnormal</td>\n",
       "      <td>True</td>\n",
       "      <td>True</td>\n",
       "      <td>True</td>\n",
       "      <td>True</td>\n",
       "      <td>True</td>\n",
       "    </tr>\n",
       "  </tbody>\n",
       "</table>\n",
       "<p>9465 rows × 31 columns</p>\n",
       "</div>"
      ],
      "text/plain": [
       "      Patient_Age Mother_Gene Father_Gene Maternal_Gene Paternal_Gene  \\\n",
       "0               6          No         Yes            No            No   \n",
       "1              10         Yes          No           NaN           Yes   \n",
       "2               5          No         NaN            No            No   \n",
       "3              13          No         Yes           Yes            No   \n",
       "4               5          No         NaN           NaN           Yes   \n",
       "...           ...         ...         ...           ...           ...   \n",
       "9460            9         Yes         Yes           NaN            No   \n",
       "9461            1         Yes          No           NaN           Yes   \n",
       "9462            2          No         Yes            No            No   \n",
       "9463           13          No         Yes            No            No   \n",
       "9464           12          No          No           Yes           Yes   \n",
       "\n",
       "      Blood_Cell  Mother_Age  Father_Age    Status Respiratory_Rate  ...  \\\n",
       "0       4.981655          38          61     Alive        Tachypnea  ...   \n",
       "1       5.118890          33          53     Alive              NaN  ...   \n",
       "2       4.876204          48          60  Deceased              NaN  ...   \n",
       "3       4.687767          25          55     Alive              NaN  ...   \n",
       "4       5.152362          41          38  Deceased        Tachypnea  ...   \n",
       "...          ...         ...         ...       ...              ...  ...   \n",
       "9460    4.878335          28          63     Alive              NaN  ...   \n",
       "9461    4.927151          37          62  Deceased              NaN  ...   \n",
       "9462    4.898352          24          32  Deceased        Tachypnea  ...   \n",
       "9463    4.804840          36          56     Alive              NaN  ...   \n",
       "9464    5.421236          40          35  Deceased   Normal (30-60)  ...   \n",
       "\n",
       "     History_Pregnancies Previous_Abortions Birth_Defects White_Blood_Cell  \\\n",
       "0                    NaN                2.0      Multiple              NaN   \n",
       "1                    Yes                NaN      Multiple         8.179584   \n",
       "2                     No                0.0      Singular              NaN   \n",
       "3                    Yes                NaN      Singular         6.884071   \n",
       "4                     No                NaN      Multiple         6.195178   \n",
       "...                  ...                ...           ...              ...   \n",
       "9460                 Yes                2.0      Multiple         7.234960   \n",
       "9461                  No                NaN      Singular         4.859536   \n",
       "9462                  No                3.0           NaN         5.696062   \n",
       "9463                 NaN                1.0      Singular         3.000000   \n",
       "9464                  No                0.0      Singular         7.492765   \n",
       "\n",
       "             Blood_Test Symptom_1 Symptom_2 Symptom_3 Symptom_4 Symptom_5  \n",
       "0     slightly abnormal      True      True      True      True      True  \n",
       "1                normal     False     False     False      True     False  \n",
       "2     slightly abnormal     False     False      True      True     False  \n",
       "3                normal      True     False      True     False      True  \n",
       "4                normal      True      True      True      True     False  \n",
       "...                 ...       ...       ...       ...       ...       ...  \n",
       "9460           abnormal     False      True      True      True     False  \n",
       "9461           abnormal     False      True     False      True      True  \n",
       "9462             normal     False      True     False     False      True  \n",
       "9463                NaN      True      True      True      True      True  \n",
       "9464           abnormal      True      True      True      True      True  \n",
       "\n",
       "[9465 rows x 31 columns]"
      ]
     },
     "execution_count": 513,
     "metadata": {},
     "output_type": "execute_result"
    }
   ],
   "source": [
    "test_data"
   ]
  },
  {
   "cell_type": "code",
   "execution_count": 562,
   "id": "8defcbfe",
   "metadata": {},
   "outputs": [],
   "source": [
    "outputData = pipe_1.predict(test_data)"
   ]
  },
  {
   "cell_type": "code",
   "execution_count": 563,
   "id": "6539c8ff",
   "metadata": {},
   "outputs": [],
   "source": [
    "output_df = pd.DataFrame(le.inverse_transform(outputData))"
   ]
  },
  {
   "cell_type": "code",
   "execution_count": 564,
   "id": "0993155c",
   "metadata": {},
   "outputs": [],
   "source": [
    "Disorder_Subclass = []\n",
    "\n",
    "for val in output_df[0]:\n",
    "    if val == \"Cystic fibrosis\":\n",
    "        Disorder_Subclass.append(\"Single-gene inheritance diseases\")\n",
    "    elif val == \"Hemochromatosis\":\n",
    "        Disorder_Subclass.append(\"Single-gene inheritance diseases\")\n",
    "    elif val == \"Tay-Sachs\":\n",
    "        Disorder_Subclass.append(\"Single-gene inheritance diseases\")\n",
    "    elif val == \"Diabetes\":\n",
    "        Disorder_Subclass.append(\"Multifactorial genetic inheritance disorders\")\n",
    "    elif val == \"Cancer\":\n",
    "        Disorder_Subclass.append(\"Multifactorial genetic inheritance disorders\")\n",
    "    elif val == \"Alzheimer's\":\n",
    "        Disorder_Subclass.append(\"Multifactorial genetic inheritance disorders\")\n",
    "    else: Disorder_Subclass.append(\"Mitochondrial genetic inheritance disorders\")\n",
    "        "
   ]
  },
  {
   "cell_type": "code",
   "execution_count": 553,
   "id": "609ae6ef",
   "metadata": {},
   "outputs": [
    {
     "data": {
      "text/plain": [
       "['Single-gene inheritance diseases',\n",
       " 'Single-gene inheritance diseases',\n",
       " 'Mitochondrial genetic inheritance disorders',\n",
       " 'Mitochondrial genetic inheritance disorders',\n",
       " 'Single-gene inheritance diseases',\n",
       " 'Single-gene inheritance diseases',\n",
       " 'Single-gene inheritance diseases',\n",
       " 'Multifactorial genetic inheritance disorders',\n",
       " 'Mitochondrial genetic inheritance disorders',\n",
       " 'Mitochondrial genetic inheritance disorders',\n",
       " 'Mitochondrial genetic inheritance disorders',\n",
       " 'Mitochondrial genetic inheritance disorders',\n",
       " 'Mitochondrial genetic inheritance disorders',\n",
       " 'Multifactorial genetic inheritance disorders',\n",
       " 'Single-gene inheritance diseases',\n",
       " 'Mitochondrial genetic inheritance disorders',\n",
       " 'Mitochondrial genetic inheritance disorders',\n",
       " 'Multifactorial genetic inheritance disorders',\n",
       " 'Mitochondrial genetic inheritance disorders',\n",
       " 'Single-gene inheritance diseases',\n",
       " 'Mitochondrial genetic inheritance disorders',\n",
       " 'Single-gene inheritance diseases',\n",
       " 'Multifactorial genetic inheritance disorders',\n",
       " 'Mitochondrial genetic inheritance disorders',\n",
       " 'Single-gene inheritance diseases',\n",
       " 'Single-gene inheritance diseases',\n",
       " 'Single-gene inheritance diseases',\n",
       " 'Single-gene inheritance diseases',\n",
       " 'Single-gene inheritance diseases',\n",
       " 'Multifactorial genetic inheritance disorders',\n",
       " 'Multifactorial genetic inheritance disorders',\n",
       " 'Single-gene inheritance diseases',\n",
       " 'Multifactorial genetic inheritance disorders',\n",
       " 'Mitochondrial genetic inheritance disorders',\n",
       " 'Mitochondrial genetic inheritance disorders',\n",
       " 'Single-gene inheritance diseases',\n",
       " 'Multifactorial genetic inheritance disorders',\n",
       " 'Mitochondrial genetic inheritance disorders',\n",
       " 'Single-gene inheritance diseases',\n",
       " 'Mitochondrial genetic inheritance disorders',\n",
       " 'Single-gene inheritance diseases',\n",
       " 'Mitochondrial genetic inheritance disorders',\n",
       " 'Mitochondrial genetic inheritance disorders',\n",
       " 'Multifactorial genetic inheritance disorders',\n",
       " 'Mitochondrial genetic inheritance disorders',\n",
       " 'Mitochondrial genetic inheritance disorders',\n",
       " 'Single-gene inheritance diseases',\n",
       " 'Single-gene inheritance diseases',\n",
       " 'Multifactorial genetic inheritance disorders',\n",
       " 'Single-gene inheritance diseases',\n",
       " 'Mitochondrial genetic inheritance disorders',\n",
       " 'Single-gene inheritance diseases',\n",
       " 'Mitochondrial genetic inheritance disorders',\n",
       " 'Single-gene inheritance diseases',\n",
       " 'Mitochondrial genetic inheritance disorders',\n",
       " 'Multifactorial genetic inheritance disorders',\n",
       " 'Single-gene inheritance diseases',\n",
       " 'Mitochondrial genetic inheritance disorders',\n",
       " 'Mitochondrial genetic inheritance disorders',\n",
       " 'Single-gene inheritance diseases',\n",
       " 'Single-gene inheritance diseases',\n",
       " 'Mitochondrial genetic inheritance disorders',\n",
       " 'Single-gene inheritance diseases',\n",
       " 'Single-gene inheritance diseases',\n",
       " 'Single-gene inheritance diseases',\n",
       " 'Multifactorial genetic inheritance disorders',\n",
       " 'Multifactorial genetic inheritance disorders',\n",
       " 'Single-gene inheritance diseases',\n",
       " 'Mitochondrial genetic inheritance disorders',\n",
       " 'Mitochondrial genetic inheritance disorders',\n",
       " 'Single-gene inheritance diseases',\n",
       " 'Single-gene inheritance diseases',\n",
       " 'Mitochondrial genetic inheritance disorders',\n",
       " 'Mitochondrial genetic inheritance disorders',\n",
       " 'Multifactorial genetic inheritance disorders',\n",
       " 'Single-gene inheritance diseases',\n",
       " 'Mitochondrial genetic inheritance disorders',\n",
       " 'Multifactorial genetic inheritance disorders',\n",
       " 'Single-gene inheritance diseases',\n",
       " 'Mitochondrial genetic inheritance disorders',\n",
       " 'Single-gene inheritance diseases',\n",
       " 'Single-gene inheritance diseases',\n",
       " 'Single-gene inheritance diseases',\n",
       " 'Mitochondrial genetic inheritance disorders',\n",
       " 'Single-gene inheritance diseases',\n",
       " 'Single-gene inheritance diseases',\n",
       " 'Multifactorial genetic inheritance disorders',\n",
       " 'Mitochondrial genetic inheritance disorders',\n",
       " 'Mitochondrial genetic inheritance disorders',\n",
       " 'Multifactorial genetic inheritance disorders',\n",
       " 'Mitochondrial genetic inheritance disorders',\n",
       " 'Single-gene inheritance diseases',\n",
       " 'Single-gene inheritance diseases',\n",
       " 'Mitochondrial genetic inheritance disorders',\n",
       " 'Single-gene inheritance diseases',\n",
       " 'Mitochondrial genetic inheritance disorders',\n",
       " 'Mitochondrial genetic inheritance disorders',\n",
       " 'Single-gene inheritance diseases',\n",
       " 'Mitochondrial genetic inheritance disorders',\n",
       " 'Single-gene inheritance diseases',\n",
       " 'Mitochondrial genetic inheritance disorders',\n",
       " 'Mitochondrial genetic inheritance disorders',\n",
       " 'Single-gene inheritance diseases',\n",
       " 'Single-gene inheritance diseases',\n",
       " 'Mitochondrial genetic inheritance disorders',\n",
       " 'Mitochondrial genetic inheritance disorders',\n",
       " 'Mitochondrial genetic inheritance disorders',\n",
       " 'Single-gene inheritance diseases',\n",
       " 'Single-gene inheritance diseases',\n",
       " 'Single-gene inheritance diseases',\n",
       " 'Single-gene inheritance diseases',\n",
       " 'Single-gene inheritance diseases',\n",
       " 'Single-gene inheritance diseases',\n",
       " 'Single-gene inheritance diseases',\n",
       " 'Multifactorial genetic inheritance disorders',\n",
       " 'Multifactorial genetic inheritance disorders',\n",
       " 'Single-gene inheritance diseases',\n",
       " 'Mitochondrial genetic inheritance disorders',\n",
       " 'Mitochondrial genetic inheritance disorders',\n",
       " 'Single-gene inheritance diseases',\n",
       " 'Single-gene inheritance diseases',\n",
       " 'Mitochondrial genetic inheritance disorders',\n",
       " 'Single-gene inheritance diseases',\n",
       " 'Single-gene inheritance diseases',\n",
       " 'Single-gene inheritance diseases',\n",
       " 'Mitochondrial genetic inheritance disorders',\n",
       " 'Mitochondrial genetic inheritance disorders',\n",
       " 'Mitochondrial genetic inheritance disorders',\n",
       " 'Single-gene inheritance diseases',\n",
       " 'Single-gene inheritance diseases',\n",
       " 'Single-gene inheritance diseases',\n",
       " 'Multifactorial genetic inheritance disorders',\n",
       " 'Mitochondrial genetic inheritance disorders',\n",
       " 'Single-gene inheritance diseases',\n",
       " 'Single-gene inheritance diseases',\n",
       " 'Mitochondrial genetic inheritance disorders',\n",
       " 'Mitochondrial genetic inheritance disorders',\n",
       " 'Single-gene inheritance diseases',\n",
       " 'Mitochondrial genetic inheritance disorders',\n",
       " 'Single-gene inheritance diseases',\n",
       " 'Single-gene inheritance diseases',\n",
       " 'Multifactorial genetic inheritance disorders',\n",
       " 'Multifactorial genetic inheritance disorders',\n",
       " 'Single-gene inheritance diseases',\n",
       " 'Multifactorial genetic inheritance disorders',\n",
       " 'Mitochondrial genetic inheritance disorders',\n",
       " 'Mitochondrial genetic inheritance disorders',\n",
       " 'Single-gene inheritance diseases',\n",
       " 'Mitochondrial genetic inheritance disorders',\n",
       " 'Single-gene inheritance diseases',\n",
       " 'Multifactorial genetic inheritance disorders',\n",
       " 'Single-gene inheritance diseases',\n",
       " 'Mitochondrial genetic inheritance disorders',\n",
       " 'Single-gene inheritance diseases',\n",
       " 'Mitochondrial genetic inheritance disorders',\n",
       " 'Multifactorial genetic inheritance disorders',\n",
       " 'Mitochondrial genetic inheritance disorders',\n",
       " 'Mitochondrial genetic inheritance disorders',\n",
       " 'Mitochondrial genetic inheritance disorders',\n",
       " 'Mitochondrial genetic inheritance disorders',\n",
       " 'Single-gene inheritance diseases',\n",
       " 'Multifactorial genetic inheritance disorders',\n",
       " 'Mitochondrial genetic inheritance disorders',\n",
       " 'Mitochondrial genetic inheritance disorders',\n",
       " 'Single-gene inheritance diseases',\n",
       " 'Single-gene inheritance diseases',\n",
       " 'Mitochondrial genetic inheritance disorders',\n",
       " 'Single-gene inheritance diseases',\n",
       " 'Single-gene inheritance diseases',\n",
       " 'Single-gene inheritance diseases',\n",
       " 'Multifactorial genetic inheritance disorders',\n",
       " 'Mitochondrial genetic inheritance disorders',\n",
       " 'Single-gene inheritance diseases',\n",
       " 'Multifactorial genetic inheritance disorders',\n",
       " 'Mitochondrial genetic inheritance disorders',\n",
       " 'Single-gene inheritance diseases',\n",
       " 'Mitochondrial genetic inheritance disorders',\n",
       " 'Single-gene inheritance diseases',\n",
       " 'Mitochondrial genetic inheritance disorders',\n",
       " 'Multifactorial genetic inheritance disorders',\n",
       " 'Single-gene inheritance diseases',\n",
       " 'Mitochondrial genetic inheritance disorders',\n",
       " 'Single-gene inheritance diseases',\n",
       " 'Single-gene inheritance diseases',\n",
       " 'Multifactorial genetic inheritance disorders',\n",
       " 'Mitochondrial genetic inheritance disorders',\n",
       " 'Single-gene inheritance diseases',\n",
       " 'Mitochondrial genetic inheritance disorders',\n",
       " 'Single-gene inheritance diseases',\n",
       " 'Mitochondrial genetic inheritance disorders',\n",
       " 'Mitochondrial genetic inheritance disorders',\n",
       " 'Mitochondrial genetic inheritance disorders',\n",
       " 'Single-gene inheritance diseases',\n",
       " 'Single-gene inheritance diseases',\n",
       " 'Single-gene inheritance diseases',\n",
       " 'Single-gene inheritance diseases',\n",
       " 'Mitochondrial genetic inheritance disorders',\n",
       " 'Mitochondrial genetic inheritance disorders',\n",
       " 'Single-gene inheritance diseases',\n",
       " 'Mitochondrial genetic inheritance disorders',\n",
       " 'Mitochondrial genetic inheritance disorders',\n",
       " 'Mitochondrial genetic inheritance disorders',\n",
       " 'Mitochondrial genetic inheritance disorders',\n",
       " 'Single-gene inheritance diseases',\n",
       " 'Mitochondrial genetic inheritance disorders',\n",
       " 'Mitochondrial genetic inheritance disorders',\n",
       " 'Mitochondrial genetic inheritance disorders',\n",
       " 'Mitochondrial genetic inheritance disorders',\n",
       " 'Single-gene inheritance diseases',\n",
       " 'Single-gene inheritance diseases',\n",
       " 'Mitochondrial genetic inheritance disorders',\n",
       " 'Multifactorial genetic inheritance disorders',\n",
       " 'Multifactorial genetic inheritance disorders',\n",
       " 'Single-gene inheritance diseases',\n",
       " 'Multifactorial genetic inheritance disorders',\n",
       " 'Single-gene inheritance diseases',\n",
       " 'Single-gene inheritance diseases',\n",
       " 'Multifactorial genetic inheritance disorders',\n",
       " 'Single-gene inheritance diseases',\n",
       " 'Multifactorial genetic inheritance disorders',\n",
       " 'Multifactorial genetic inheritance disorders',\n",
       " 'Single-gene inheritance diseases',\n",
       " 'Mitochondrial genetic inheritance disorders',\n",
       " 'Single-gene inheritance diseases',\n",
       " 'Mitochondrial genetic inheritance disorders',\n",
       " 'Mitochondrial genetic inheritance disorders',\n",
       " 'Mitochondrial genetic inheritance disorders',\n",
       " 'Mitochondrial genetic inheritance disorders',\n",
       " 'Single-gene inheritance diseases',\n",
       " 'Single-gene inheritance diseases',\n",
       " 'Multifactorial genetic inheritance disorders',\n",
       " 'Mitochondrial genetic inheritance disorders',\n",
       " 'Multifactorial genetic inheritance disorders',\n",
       " 'Mitochondrial genetic inheritance disorders',\n",
       " 'Single-gene inheritance diseases',\n",
       " 'Mitochondrial genetic inheritance disorders',\n",
       " 'Mitochondrial genetic inheritance disorders',\n",
       " 'Mitochondrial genetic inheritance disorders',\n",
       " 'Single-gene inheritance diseases',\n",
       " 'Multifactorial genetic inheritance disorders',\n",
       " 'Single-gene inheritance diseases',\n",
       " 'Multifactorial genetic inheritance disorders',\n",
       " 'Mitochondrial genetic inheritance disorders',\n",
       " 'Multifactorial genetic inheritance disorders',\n",
       " 'Mitochondrial genetic inheritance disorders',\n",
       " 'Mitochondrial genetic inheritance disorders',\n",
       " 'Multifactorial genetic inheritance disorders',\n",
       " 'Mitochondrial genetic inheritance disorders',\n",
       " 'Mitochondrial genetic inheritance disorders',\n",
       " 'Single-gene inheritance diseases',\n",
       " 'Mitochondrial genetic inheritance disorders',\n",
       " 'Mitochondrial genetic inheritance disorders',\n",
       " 'Single-gene inheritance diseases',\n",
       " 'Single-gene inheritance diseases',\n",
       " 'Single-gene inheritance diseases',\n",
       " 'Multifactorial genetic inheritance disorders',\n",
       " 'Mitochondrial genetic inheritance disorders',\n",
       " 'Multifactorial genetic inheritance disorders',\n",
       " 'Multifactorial genetic inheritance disorders',\n",
       " 'Mitochondrial genetic inheritance disorders',\n",
       " 'Mitochondrial genetic inheritance disorders',\n",
       " 'Single-gene inheritance diseases',\n",
       " 'Mitochondrial genetic inheritance disorders',\n",
       " 'Single-gene inheritance diseases',\n",
       " 'Mitochondrial genetic inheritance disorders',\n",
       " 'Single-gene inheritance diseases',\n",
       " 'Single-gene inheritance diseases',\n",
       " 'Multifactorial genetic inheritance disorders',\n",
       " 'Mitochondrial genetic inheritance disorders',\n",
       " 'Single-gene inheritance diseases',\n",
       " 'Single-gene inheritance diseases',\n",
       " 'Single-gene inheritance diseases',\n",
       " 'Mitochondrial genetic inheritance disorders',\n",
       " 'Mitochondrial genetic inheritance disorders',\n",
       " 'Multifactorial genetic inheritance disorders',\n",
       " 'Multifactorial genetic inheritance disorders',\n",
       " 'Single-gene inheritance diseases',\n",
       " 'Mitochondrial genetic inheritance disorders',\n",
       " 'Single-gene inheritance diseases',\n",
       " 'Mitochondrial genetic inheritance disorders',\n",
       " 'Mitochondrial genetic inheritance disorders',\n",
       " 'Mitochondrial genetic inheritance disorders',\n",
       " 'Mitochondrial genetic inheritance disorders',\n",
       " 'Mitochondrial genetic inheritance disorders',\n",
       " 'Mitochondrial genetic inheritance disorders',\n",
       " 'Single-gene inheritance diseases',\n",
       " 'Multifactorial genetic inheritance disorders',\n",
       " 'Mitochondrial genetic inheritance disorders',\n",
       " 'Multifactorial genetic inheritance disorders',\n",
       " 'Single-gene inheritance diseases',\n",
       " 'Single-gene inheritance diseases',\n",
       " 'Mitochondrial genetic inheritance disorders',\n",
       " 'Mitochondrial genetic inheritance disorders',\n",
       " 'Multifactorial genetic inheritance disorders',\n",
       " 'Single-gene inheritance diseases',\n",
       " 'Mitochondrial genetic inheritance disorders',\n",
       " 'Mitochondrial genetic inheritance disorders',\n",
       " 'Mitochondrial genetic inheritance disorders',\n",
       " 'Single-gene inheritance diseases',\n",
       " 'Single-gene inheritance diseases',\n",
       " 'Mitochondrial genetic inheritance disorders',\n",
       " 'Single-gene inheritance diseases',\n",
       " 'Single-gene inheritance diseases',\n",
       " 'Single-gene inheritance diseases',\n",
       " 'Mitochondrial genetic inheritance disorders',\n",
       " 'Single-gene inheritance diseases',\n",
       " 'Multifactorial genetic inheritance disorders',\n",
       " 'Single-gene inheritance diseases',\n",
       " 'Single-gene inheritance diseases',\n",
       " 'Mitochondrial genetic inheritance disorders',\n",
       " 'Single-gene inheritance diseases',\n",
       " 'Single-gene inheritance diseases',\n",
       " 'Single-gene inheritance diseases',\n",
       " 'Mitochondrial genetic inheritance disorders',\n",
       " 'Single-gene inheritance diseases',\n",
       " 'Mitochondrial genetic inheritance disorders',\n",
       " 'Multifactorial genetic inheritance disorders',\n",
       " 'Mitochondrial genetic inheritance disorders',\n",
       " 'Mitochondrial genetic inheritance disorders',\n",
       " 'Single-gene inheritance diseases',\n",
       " 'Single-gene inheritance diseases',\n",
       " 'Mitochondrial genetic inheritance disorders',\n",
       " 'Single-gene inheritance diseases',\n",
       " 'Mitochondrial genetic inheritance disorders',\n",
       " 'Mitochondrial genetic inheritance disorders',\n",
       " 'Single-gene inheritance diseases',\n",
       " 'Single-gene inheritance diseases',\n",
       " 'Mitochondrial genetic inheritance disorders',\n",
       " 'Mitochondrial genetic inheritance disorders',\n",
       " 'Single-gene inheritance diseases',\n",
       " 'Mitochondrial genetic inheritance disorders',\n",
       " 'Mitochondrial genetic inheritance disorders',\n",
       " 'Mitochondrial genetic inheritance disorders',\n",
       " 'Single-gene inheritance diseases',\n",
       " 'Mitochondrial genetic inheritance disorders',\n",
       " 'Single-gene inheritance diseases',\n",
       " 'Multifactorial genetic inheritance disorders',\n",
       " 'Mitochondrial genetic inheritance disorders',\n",
       " 'Mitochondrial genetic inheritance disorders',\n",
       " 'Single-gene inheritance diseases',\n",
       " 'Mitochondrial genetic inheritance disorders',\n",
       " 'Single-gene inheritance diseases',\n",
       " 'Single-gene inheritance diseases',\n",
       " 'Single-gene inheritance diseases',\n",
       " 'Single-gene inheritance diseases',\n",
       " 'Single-gene inheritance diseases',\n",
       " 'Multifactorial genetic inheritance disorders',\n",
       " 'Single-gene inheritance diseases',\n",
       " 'Mitochondrial genetic inheritance disorders',\n",
       " 'Single-gene inheritance diseases',\n",
       " 'Mitochondrial genetic inheritance disorders',\n",
       " 'Single-gene inheritance diseases',\n",
       " 'Mitochondrial genetic inheritance disorders',\n",
       " 'Mitochondrial genetic inheritance disorders',\n",
       " 'Mitochondrial genetic inheritance disorders',\n",
       " 'Mitochondrial genetic inheritance disorders',\n",
       " 'Multifactorial genetic inheritance disorders',\n",
       " 'Mitochondrial genetic inheritance disorders',\n",
       " 'Single-gene inheritance diseases',\n",
       " 'Mitochondrial genetic inheritance disorders',\n",
       " 'Single-gene inheritance diseases',\n",
       " 'Single-gene inheritance diseases',\n",
       " 'Multifactorial genetic inheritance disorders',\n",
       " 'Mitochondrial genetic inheritance disorders',\n",
       " 'Single-gene inheritance diseases',\n",
       " 'Mitochondrial genetic inheritance disorders',\n",
       " 'Mitochondrial genetic inheritance disorders',\n",
       " 'Single-gene inheritance diseases',\n",
       " 'Mitochondrial genetic inheritance disorders',\n",
       " 'Mitochondrial genetic inheritance disorders',\n",
       " 'Multifactorial genetic inheritance disorders',\n",
       " 'Single-gene inheritance diseases',\n",
       " 'Single-gene inheritance diseases',\n",
       " 'Single-gene inheritance diseases',\n",
       " 'Single-gene inheritance diseases',\n",
       " 'Single-gene inheritance diseases',\n",
       " 'Multifactorial genetic inheritance disorders',\n",
       " 'Mitochondrial genetic inheritance disorders',\n",
       " 'Mitochondrial genetic inheritance disorders',\n",
       " 'Single-gene inheritance diseases',\n",
       " 'Single-gene inheritance diseases',\n",
       " 'Multifactorial genetic inheritance disorders',\n",
       " 'Mitochondrial genetic inheritance disorders',\n",
       " 'Mitochondrial genetic inheritance disorders',\n",
       " 'Mitochondrial genetic inheritance disorders',\n",
       " 'Mitochondrial genetic inheritance disorders',\n",
       " 'Single-gene inheritance diseases',\n",
       " 'Single-gene inheritance diseases',\n",
       " 'Mitochondrial genetic inheritance disorders',\n",
       " 'Mitochondrial genetic inheritance disorders',\n",
       " 'Mitochondrial genetic inheritance disorders',\n",
       " 'Mitochondrial genetic inheritance disorders',\n",
       " 'Single-gene inheritance diseases',\n",
       " 'Single-gene inheritance diseases',\n",
       " 'Multifactorial genetic inheritance disorders',\n",
       " 'Mitochondrial genetic inheritance disorders',\n",
       " 'Mitochondrial genetic inheritance disorders',\n",
       " 'Multifactorial genetic inheritance disorders',\n",
       " 'Single-gene inheritance diseases',\n",
       " 'Mitochondrial genetic inheritance disorders',\n",
       " 'Single-gene inheritance diseases',\n",
       " 'Single-gene inheritance diseases',\n",
       " 'Mitochondrial genetic inheritance disorders',\n",
       " 'Single-gene inheritance diseases',\n",
       " 'Multifactorial genetic inheritance disorders',\n",
       " 'Multifactorial genetic inheritance disorders',\n",
       " 'Mitochondrial genetic inheritance disorders',\n",
       " 'Multifactorial genetic inheritance disorders',\n",
       " 'Single-gene inheritance diseases',\n",
       " 'Single-gene inheritance diseases',\n",
       " 'Single-gene inheritance diseases',\n",
       " 'Mitochondrial genetic inheritance disorders',\n",
       " 'Mitochondrial genetic inheritance disorders',\n",
       " 'Mitochondrial genetic inheritance disorders',\n",
       " 'Single-gene inheritance diseases',\n",
       " 'Mitochondrial genetic inheritance disorders',\n",
       " 'Single-gene inheritance diseases',\n",
       " 'Mitochondrial genetic inheritance disorders',\n",
       " 'Mitochondrial genetic inheritance disorders',\n",
       " 'Single-gene inheritance diseases',\n",
       " 'Single-gene inheritance diseases',\n",
       " 'Single-gene inheritance diseases',\n",
       " 'Single-gene inheritance diseases',\n",
       " 'Single-gene inheritance diseases',\n",
       " 'Mitochondrial genetic inheritance disorders',\n",
       " 'Mitochondrial genetic inheritance disorders',\n",
       " 'Single-gene inheritance diseases',\n",
       " 'Mitochondrial genetic inheritance disorders',\n",
       " 'Single-gene inheritance diseases',\n",
       " 'Multifactorial genetic inheritance disorders',\n",
       " 'Single-gene inheritance diseases',\n",
       " 'Mitochondrial genetic inheritance disorders',\n",
       " 'Single-gene inheritance diseases',\n",
       " 'Multifactorial genetic inheritance disorders',\n",
       " 'Mitochondrial genetic inheritance disorders',\n",
       " 'Mitochondrial genetic inheritance disorders',\n",
       " 'Single-gene inheritance diseases',\n",
       " 'Mitochondrial genetic inheritance disorders',\n",
       " 'Mitochondrial genetic inheritance disorders',\n",
       " 'Single-gene inheritance diseases',\n",
       " 'Single-gene inheritance diseases',\n",
       " 'Mitochondrial genetic inheritance disorders',\n",
       " 'Single-gene inheritance diseases',\n",
       " 'Single-gene inheritance diseases',\n",
       " 'Single-gene inheritance diseases',\n",
       " 'Single-gene inheritance diseases',\n",
       " 'Multifactorial genetic inheritance disorders',\n",
       " 'Mitochondrial genetic inheritance disorders',\n",
       " 'Single-gene inheritance diseases',\n",
       " 'Single-gene inheritance diseases',\n",
       " 'Mitochondrial genetic inheritance disorders',\n",
       " 'Single-gene inheritance diseases',\n",
       " 'Single-gene inheritance diseases',\n",
       " 'Multifactorial genetic inheritance disorders',\n",
       " 'Single-gene inheritance diseases',\n",
       " 'Multifactorial genetic inheritance disorders',\n",
       " 'Mitochondrial genetic inheritance disorders',\n",
       " 'Single-gene inheritance diseases',\n",
       " 'Multifactorial genetic inheritance disorders',\n",
       " 'Mitochondrial genetic inheritance disorders',\n",
       " 'Single-gene inheritance diseases',\n",
       " 'Single-gene inheritance diseases',\n",
       " 'Single-gene inheritance diseases',\n",
       " 'Mitochondrial genetic inheritance disorders',\n",
       " 'Single-gene inheritance diseases',\n",
       " 'Mitochondrial genetic inheritance disorders',\n",
       " 'Single-gene inheritance diseases',\n",
       " 'Mitochondrial genetic inheritance disorders',\n",
       " 'Single-gene inheritance diseases',\n",
       " 'Mitochondrial genetic inheritance disorders',\n",
       " 'Mitochondrial genetic inheritance disorders',\n",
       " 'Single-gene inheritance diseases',\n",
       " 'Mitochondrial genetic inheritance disorders',\n",
       " 'Mitochondrial genetic inheritance disorders',\n",
       " 'Single-gene inheritance diseases',\n",
       " 'Multifactorial genetic inheritance disorders',\n",
       " 'Single-gene inheritance diseases',\n",
       " 'Single-gene inheritance diseases',\n",
       " 'Multifactorial genetic inheritance disorders',\n",
       " 'Single-gene inheritance diseases',\n",
       " 'Mitochondrial genetic inheritance disorders',\n",
       " 'Single-gene inheritance diseases',\n",
       " 'Mitochondrial genetic inheritance disorders',\n",
       " 'Mitochondrial genetic inheritance disorders',\n",
       " 'Mitochondrial genetic inheritance disorders',\n",
       " 'Single-gene inheritance diseases',\n",
       " 'Single-gene inheritance diseases',\n",
       " 'Mitochondrial genetic inheritance disorders',\n",
       " 'Multifactorial genetic inheritance disorders',\n",
       " 'Single-gene inheritance diseases',\n",
       " 'Single-gene inheritance diseases',\n",
       " 'Mitochondrial genetic inheritance disorders',\n",
       " 'Mitochondrial genetic inheritance disorders',\n",
       " 'Multifactorial genetic inheritance disorders',\n",
       " 'Mitochondrial genetic inheritance disorders',\n",
       " 'Single-gene inheritance diseases',\n",
       " 'Mitochondrial genetic inheritance disorders',\n",
       " 'Mitochondrial genetic inheritance disorders',\n",
       " 'Mitochondrial genetic inheritance disorders',\n",
       " 'Multifactorial genetic inheritance disorders',\n",
       " 'Multifactorial genetic inheritance disorders',\n",
       " 'Single-gene inheritance diseases',\n",
       " 'Mitochondrial genetic inheritance disorders',\n",
       " 'Mitochondrial genetic inheritance disorders',\n",
       " 'Multifactorial genetic inheritance disorders',\n",
       " 'Mitochondrial genetic inheritance disorders',\n",
       " 'Mitochondrial genetic inheritance disorders',\n",
       " 'Mitochondrial genetic inheritance disorders',\n",
       " 'Mitochondrial genetic inheritance disorders',\n",
       " 'Mitochondrial genetic inheritance disorders',\n",
       " 'Mitochondrial genetic inheritance disorders',\n",
       " 'Single-gene inheritance diseases',\n",
       " 'Mitochondrial genetic inheritance disorders',\n",
       " 'Single-gene inheritance diseases',\n",
       " 'Single-gene inheritance diseases',\n",
       " 'Mitochondrial genetic inheritance disorders',\n",
       " 'Single-gene inheritance diseases',\n",
       " 'Mitochondrial genetic inheritance disorders',\n",
       " 'Single-gene inheritance diseases',\n",
       " 'Mitochondrial genetic inheritance disorders',\n",
       " 'Single-gene inheritance diseases',\n",
       " 'Mitochondrial genetic inheritance disorders',\n",
       " 'Mitochondrial genetic inheritance disorders',\n",
       " 'Mitochondrial genetic inheritance disorders',\n",
       " 'Single-gene inheritance diseases',\n",
       " 'Mitochondrial genetic inheritance disorders',\n",
       " 'Single-gene inheritance diseases',\n",
       " 'Single-gene inheritance diseases',\n",
       " 'Single-gene inheritance diseases',\n",
       " 'Multifactorial genetic inheritance disorders',\n",
       " 'Mitochondrial genetic inheritance disorders',\n",
       " 'Single-gene inheritance diseases',\n",
       " 'Mitochondrial genetic inheritance disorders',\n",
       " 'Single-gene inheritance diseases',\n",
       " 'Single-gene inheritance diseases',\n",
       " 'Single-gene inheritance diseases',\n",
       " 'Mitochondrial genetic inheritance disorders',\n",
       " 'Single-gene inheritance diseases',\n",
       " 'Multifactorial genetic inheritance disorders',\n",
       " 'Single-gene inheritance diseases',\n",
       " 'Mitochondrial genetic inheritance disorders',\n",
       " 'Single-gene inheritance diseases',\n",
       " 'Single-gene inheritance diseases',\n",
       " 'Multifactorial genetic inheritance disorders',\n",
       " 'Single-gene inheritance diseases',\n",
       " 'Single-gene inheritance diseases',\n",
       " 'Single-gene inheritance diseases',\n",
       " 'Mitochondrial genetic inheritance disorders',\n",
       " 'Multifactorial genetic inheritance disorders',\n",
       " 'Mitochondrial genetic inheritance disorders',\n",
       " 'Mitochondrial genetic inheritance disorders',\n",
       " 'Multifactorial genetic inheritance disorders',\n",
       " 'Mitochondrial genetic inheritance disorders',\n",
       " 'Single-gene inheritance diseases',\n",
       " 'Mitochondrial genetic inheritance disorders',\n",
       " 'Multifactorial genetic inheritance disorders',\n",
       " 'Single-gene inheritance diseases',\n",
       " 'Mitochondrial genetic inheritance disorders',\n",
       " 'Mitochondrial genetic inheritance disorders',\n",
       " 'Single-gene inheritance diseases',\n",
       " 'Mitochondrial genetic inheritance disorders',\n",
       " 'Mitochondrial genetic inheritance disorders',\n",
       " 'Multifactorial genetic inheritance disorders',\n",
       " 'Single-gene inheritance diseases',\n",
       " 'Mitochondrial genetic inheritance disorders',\n",
       " 'Mitochondrial genetic inheritance disorders',\n",
       " 'Mitochondrial genetic inheritance disorders',\n",
       " 'Mitochondrial genetic inheritance disorders',\n",
       " 'Mitochondrial genetic inheritance disorders',\n",
       " 'Single-gene inheritance diseases',\n",
       " 'Single-gene inheritance diseases',\n",
       " 'Single-gene inheritance diseases',\n",
       " 'Single-gene inheritance diseases',\n",
       " 'Single-gene inheritance diseases',\n",
       " 'Mitochondrial genetic inheritance disorders',\n",
       " 'Multifactorial genetic inheritance disorders',\n",
       " 'Mitochondrial genetic inheritance disorders',\n",
       " 'Single-gene inheritance diseases',\n",
       " 'Single-gene inheritance diseases',\n",
       " 'Mitochondrial genetic inheritance disorders',\n",
       " 'Mitochondrial genetic inheritance disorders',\n",
       " 'Multifactorial genetic inheritance disorders',\n",
       " 'Mitochondrial genetic inheritance disorders',\n",
       " 'Single-gene inheritance diseases',\n",
       " 'Single-gene inheritance diseases',\n",
       " 'Single-gene inheritance diseases',\n",
       " 'Mitochondrial genetic inheritance disorders',\n",
       " 'Mitochondrial genetic inheritance disorders',\n",
       " 'Multifactorial genetic inheritance disorders',\n",
       " 'Mitochondrial genetic inheritance disorders',\n",
       " 'Single-gene inheritance diseases',\n",
       " 'Single-gene inheritance diseases',\n",
       " 'Single-gene inheritance diseases',\n",
       " 'Single-gene inheritance diseases',\n",
       " 'Mitochondrial genetic inheritance disorders',\n",
       " 'Mitochondrial genetic inheritance disorders',\n",
       " 'Single-gene inheritance diseases',\n",
       " 'Multifactorial genetic inheritance disorders',\n",
       " 'Multifactorial genetic inheritance disorders',\n",
       " 'Mitochondrial genetic inheritance disorders',\n",
       " 'Single-gene inheritance diseases',\n",
       " 'Mitochondrial genetic inheritance disorders',\n",
       " 'Mitochondrial genetic inheritance disorders',\n",
       " 'Single-gene inheritance diseases',\n",
       " 'Single-gene inheritance diseases',\n",
       " 'Single-gene inheritance diseases',\n",
       " 'Mitochondrial genetic inheritance disorders',\n",
       " 'Mitochondrial genetic inheritance disorders',\n",
       " 'Single-gene inheritance diseases',\n",
       " 'Mitochondrial genetic inheritance disorders',\n",
       " 'Mitochondrial genetic inheritance disorders',\n",
       " 'Single-gene inheritance diseases',\n",
       " 'Multifactorial genetic inheritance disorders',\n",
       " 'Mitochondrial genetic inheritance disorders',\n",
       " 'Multifactorial genetic inheritance disorders',\n",
       " 'Mitochondrial genetic inheritance disorders',\n",
       " 'Mitochondrial genetic inheritance disorders',\n",
       " 'Multifactorial genetic inheritance disorders',\n",
       " 'Mitochondrial genetic inheritance disorders',\n",
       " 'Mitochondrial genetic inheritance disorders',\n",
       " 'Single-gene inheritance diseases',\n",
       " 'Multifactorial genetic inheritance disorders',\n",
       " 'Mitochondrial genetic inheritance disorders',\n",
       " 'Single-gene inheritance diseases',\n",
       " 'Single-gene inheritance diseases',\n",
       " 'Single-gene inheritance diseases',\n",
       " 'Mitochondrial genetic inheritance disorders',\n",
       " 'Multifactorial genetic inheritance disorders',\n",
       " 'Single-gene inheritance diseases',\n",
       " 'Multifactorial genetic inheritance disorders',\n",
       " 'Multifactorial genetic inheritance disorders',\n",
       " 'Multifactorial genetic inheritance disorders',\n",
       " 'Single-gene inheritance diseases',\n",
       " 'Single-gene inheritance diseases',\n",
       " 'Single-gene inheritance diseases',\n",
       " 'Single-gene inheritance diseases',\n",
       " 'Mitochondrial genetic inheritance disorders',\n",
       " 'Mitochondrial genetic inheritance disorders',\n",
       " 'Mitochondrial genetic inheritance disorders',\n",
       " 'Single-gene inheritance diseases',\n",
       " 'Mitochondrial genetic inheritance disorders',\n",
       " 'Mitochondrial genetic inheritance disorders',\n",
       " 'Single-gene inheritance diseases',\n",
       " 'Mitochondrial genetic inheritance disorders',\n",
       " 'Single-gene inheritance diseases',\n",
       " 'Single-gene inheritance diseases',\n",
       " 'Mitochondrial genetic inheritance disorders',\n",
       " 'Mitochondrial genetic inheritance disorders',\n",
       " 'Multifactorial genetic inheritance disorders',\n",
       " 'Mitochondrial genetic inheritance disorders',\n",
       " 'Single-gene inheritance diseases',\n",
       " 'Single-gene inheritance diseases',\n",
       " 'Mitochondrial genetic inheritance disorders',\n",
       " 'Single-gene inheritance diseases',\n",
       " 'Mitochondrial genetic inheritance disorders',\n",
       " 'Single-gene inheritance diseases',\n",
       " 'Single-gene inheritance diseases',\n",
       " 'Mitochondrial genetic inheritance disorders',\n",
       " 'Multifactorial genetic inheritance disorders',\n",
       " 'Single-gene inheritance diseases',\n",
       " 'Single-gene inheritance diseases',\n",
       " 'Single-gene inheritance diseases',\n",
       " 'Mitochondrial genetic inheritance disorders',\n",
       " 'Multifactorial genetic inheritance disorders',\n",
       " 'Single-gene inheritance diseases',\n",
       " 'Single-gene inheritance diseases',\n",
       " 'Mitochondrial genetic inheritance disorders',\n",
       " 'Single-gene inheritance diseases',\n",
       " 'Mitochondrial genetic inheritance disorders',\n",
       " 'Single-gene inheritance diseases',\n",
       " 'Mitochondrial genetic inheritance disorders',\n",
       " 'Mitochondrial genetic inheritance disorders',\n",
       " 'Mitochondrial genetic inheritance disorders',\n",
       " 'Single-gene inheritance diseases',\n",
       " 'Mitochondrial genetic inheritance disorders',\n",
       " 'Mitochondrial genetic inheritance disorders',\n",
       " 'Multifactorial genetic inheritance disorders',\n",
       " 'Mitochondrial genetic inheritance disorders',\n",
       " 'Single-gene inheritance diseases',\n",
       " 'Multifactorial genetic inheritance disorders',\n",
       " 'Mitochondrial genetic inheritance disorders',\n",
       " 'Single-gene inheritance diseases',\n",
       " 'Multifactorial genetic inheritance disorders',\n",
       " 'Single-gene inheritance diseases',\n",
       " 'Single-gene inheritance diseases',\n",
       " 'Mitochondrial genetic inheritance disorders',\n",
       " 'Multifactorial genetic inheritance disorders',\n",
       " 'Multifactorial genetic inheritance disorders',\n",
       " 'Single-gene inheritance diseases',\n",
       " 'Multifactorial genetic inheritance disorders',\n",
       " 'Mitochondrial genetic inheritance disorders',\n",
       " 'Single-gene inheritance diseases',\n",
       " 'Single-gene inheritance diseases',\n",
       " 'Single-gene inheritance diseases',\n",
       " 'Single-gene inheritance diseases',\n",
       " 'Mitochondrial genetic inheritance disorders',\n",
       " 'Single-gene inheritance diseases',\n",
       " 'Mitochondrial genetic inheritance disorders',\n",
       " 'Mitochondrial genetic inheritance disorders',\n",
       " 'Mitochondrial genetic inheritance disorders',\n",
       " 'Mitochondrial genetic inheritance disorders',\n",
       " 'Mitochondrial genetic inheritance disorders',\n",
       " 'Mitochondrial genetic inheritance disorders',\n",
       " 'Mitochondrial genetic inheritance disorders',\n",
       " 'Single-gene inheritance diseases',\n",
       " 'Single-gene inheritance diseases',\n",
       " 'Single-gene inheritance diseases',\n",
       " 'Mitochondrial genetic inheritance disorders',\n",
       " 'Multifactorial genetic inheritance disorders',\n",
       " 'Mitochondrial genetic inheritance disorders',\n",
       " 'Single-gene inheritance diseases',\n",
       " 'Single-gene inheritance diseases',\n",
       " 'Single-gene inheritance diseases',\n",
       " 'Single-gene inheritance diseases',\n",
       " 'Single-gene inheritance diseases',\n",
       " 'Mitochondrial genetic inheritance disorders',\n",
       " 'Mitochondrial genetic inheritance disorders',\n",
       " 'Multifactorial genetic inheritance disorders',\n",
       " 'Mitochondrial genetic inheritance disorders',\n",
       " 'Multifactorial genetic inheritance disorders',\n",
       " 'Single-gene inheritance diseases',\n",
       " 'Multifactorial genetic inheritance disorders',\n",
       " 'Mitochondrial genetic inheritance disorders',\n",
       " 'Mitochondrial genetic inheritance disorders',\n",
       " 'Single-gene inheritance diseases',\n",
       " 'Single-gene inheritance diseases',\n",
       " 'Single-gene inheritance diseases',\n",
       " 'Mitochondrial genetic inheritance disorders',\n",
       " 'Multifactorial genetic inheritance disorders',\n",
       " 'Multifactorial genetic inheritance disorders',\n",
       " 'Single-gene inheritance diseases',\n",
       " 'Single-gene inheritance diseases',\n",
       " 'Mitochondrial genetic inheritance disorders',\n",
       " 'Multifactorial genetic inheritance disorders',\n",
       " 'Single-gene inheritance diseases',\n",
       " 'Multifactorial genetic inheritance disorders',\n",
       " 'Multifactorial genetic inheritance disorders',\n",
       " 'Single-gene inheritance diseases',\n",
       " 'Mitochondrial genetic inheritance disorders',\n",
       " 'Multifactorial genetic inheritance disorders',\n",
       " 'Mitochondrial genetic inheritance disorders',\n",
       " 'Multifactorial genetic inheritance disorders',\n",
       " 'Mitochondrial genetic inheritance disorders',\n",
       " 'Mitochondrial genetic inheritance disorders',\n",
       " 'Single-gene inheritance diseases',\n",
       " 'Mitochondrial genetic inheritance disorders',\n",
       " 'Mitochondrial genetic inheritance disorders',\n",
       " 'Mitochondrial genetic inheritance disorders',\n",
       " 'Mitochondrial genetic inheritance disorders',\n",
       " 'Single-gene inheritance diseases',\n",
       " 'Multifactorial genetic inheritance disorders',\n",
       " 'Single-gene inheritance diseases',\n",
       " 'Single-gene inheritance diseases',\n",
       " 'Single-gene inheritance diseases',\n",
       " 'Single-gene inheritance diseases',\n",
       " 'Mitochondrial genetic inheritance disorders',\n",
       " 'Single-gene inheritance diseases',\n",
       " 'Mitochondrial genetic inheritance disorders',\n",
       " 'Single-gene inheritance diseases',\n",
       " 'Mitochondrial genetic inheritance disorders',\n",
       " 'Single-gene inheritance diseases',\n",
       " 'Mitochondrial genetic inheritance disorders',\n",
       " 'Mitochondrial genetic inheritance disorders',\n",
       " 'Single-gene inheritance diseases',\n",
       " 'Mitochondrial genetic inheritance disorders',\n",
       " 'Multifactorial genetic inheritance disorders',\n",
       " 'Single-gene inheritance diseases',\n",
       " 'Mitochondrial genetic inheritance disorders',\n",
       " 'Single-gene inheritance diseases',\n",
       " 'Multifactorial genetic inheritance disorders',\n",
       " 'Mitochondrial genetic inheritance disorders',\n",
       " 'Mitochondrial genetic inheritance disorders',\n",
       " 'Mitochondrial genetic inheritance disorders',\n",
       " 'Multifactorial genetic inheritance disorders',\n",
       " 'Mitochondrial genetic inheritance disorders',\n",
       " 'Single-gene inheritance diseases',\n",
       " 'Single-gene inheritance diseases',\n",
       " 'Single-gene inheritance diseases',\n",
       " 'Mitochondrial genetic inheritance disorders',\n",
       " 'Multifactorial genetic inheritance disorders',\n",
       " 'Single-gene inheritance diseases',\n",
       " 'Mitochondrial genetic inheritance disorders',\n",
       " 'Single-gene inheritance diseases',\n",
       " 'Mitochondrial genetic inheritance disorders',\n",
       " 'Single-gene inheritance diseases',\n",
       " 'Single-gene inheritance diseases',\n",
       " 'Mitochondrial genetic inheritance disorders',\n",
       " 'Multifactorial genetic inheritance disorders',\n",
       " 'Single-gene inheritance diseases',\n",
       " 'Single-gene inheritance diseases',\n",
       " 'Single-gene inheritance diseases',\n",
       " 'Mitochondrial genetic inheritance disorders',\n",
       " 'Mitochondrial genetic inheritance disorders',\n",
       " 'Mitochondrial genetic inheritance disorders',\n",
       " 'Single-gene inheritance diseases',\n",
       " 'Single-gene inheritance diseases',\n",
       " 'Mitochondrial genetic inheritance disorders',\n",
       " 'Single-gene inheritance diseases',\n",
       " 'Multifactorial genetic inheritance disorders',\n",
       " 'Single-gene inheritance diseases',\n",
       " 'Single-gene inheritance diseases',\n",
       " 'Single-gene inheritance diseases',\n",
       " 'Mitochondrial genetic inheritance disorders',\n",
       " 'Mitochondrial genetic inheritance disorders',\n",
       " 'Mitochondrial genetic inheritance disorders',\n",
       " 'Mitochondrial genetic inheritance disorders',\n",
       " 'Multifactorial genetic inheritance disorders',\n",
       " 'Mitochondrial genetic inheritance disorders',\n",
       " 'Multifactorial genetic inheritance disorders',\n",
       " 'Mitochondrial genetic inheritance disorders',\n",
       " 'Mitochondrial genetic inheritance disorders',\n",
       " 'Multifactorial genetic inheritance disorders',\n",
       " 'Single-gene inheritance diseases',\n",
       " 'Mitochondrial genetic inheritance disorders',\n",
       " 'Mitochondrial genetic inheritance disorders',\n",
       " 'Mitochondrial genetic inheritance disorders',\n",
       " 'Mitochondrial genetic inheritance disorders',\n",
       " 'Single-gene inheritance diseases',\n",
       " 'Multifactorial genetic inheritance disorders',\n",
       " 'Single-gene inheritance diseases',\n",
       " 'Multifactorial genetic inheritance disorders',\n",
       " 'Mitochondrial genetic inheritance disorders',\n",
       " 'Mitochondrial genetic inheritance disorders',\n",
       " 'Single-gene inheritance diseases',\n",
       " 'Mitochondrial genetic inheritance disorders',\n",
       " 'Mitochondrial genetic inheritance disorders',\n",
       " 'Single-gene inheritance diseases',\n",
       " 'Mitochondrial genetic inheritance disorders',\n",
       " 'Single-gene inheritance diseases',\n",
       " 'Mitochondrial genetic inheritance disorders',\n",
       " 'Single-gene inheritance diseases',\n",
       " 'Mitochondrial genetic inheritance disorders',\n",
       " 'Single-gene inheritance diseases',\n",
       " 'Single-gene inheritance diseases',\n",
       " 'Mitochondrial genetic inheritance disorders',\n",
       " 'Mitochondrial genetic inheritance disorders',\n",
       " 'Single-gene inheritance diseases',\n",
       " 'Mitochondrial genetic inheritance disorders',\n",
       " 'Multifactorial genetic inheritance disorders',\n",
       " 'Single-gene inheritance diseases',\n",
       " 'Mitochondrial genetic inheritance disorders',\n",
       " 'Multifactorial genetic inheritance disorders',\n",
       " 'Mitochondrial genetic inheritance disorders',\n",
       " 'Mitochondrial genetic inheritance disorders',\n",
       " 'Mitochondrial genetic inheritance disorders',\n",
       " 'Single-gene inheritance diseases',\n",
       " 'Multifactorial genetic inheritance disorders',\n",
       " 'Multifactorial genetic inheritance disorders',\n",
       " 'Mitochondrial genetic inheritance disorders',\n",
       " 'Mitochondrial genetic inheritance disorders',\n",
       " 'Single-gene inheritance diseases',\n",
       " 'Multifactorial genetic inheritance disorders',\n",
       " 'Single-gene inheritance diseases',\n",
       " 'Multifactorial genetic inheritance disorders',\n",
       " 'Mitochondrial genetic inheritance disorders',\n",
       " 'Mitochondrial genetic inheritance disorders',\n",
       " 'Mitochondrial genetic inheritance disorders',\n",
       " 'Mitochondrial genetic inheritance disorders',\n",
       " 'Single-gene inheritance diseases',\n",
       " 'Multifactorial genetic inheritance disorders',\n",
       " 'Multifactorial genetic inheritance disorders',\n",
       " 'Multifactorial genetic inheritance disorders',\n",
       " 'Multifactorial genetic inheritance disorders',\n",
       " 'Single-gene inheritance diseases',\n",
       " 'Mitochondrial genetic inheritance disorders',\n",
       " 'Mitochondrial genetic inheritance disorders',\n",
       " 'Single-gene inheritance diseases',\n",
       " 'Single-gene inheritance diseases',\n",
       " 'Single-gene inheritance diseases',\n",
       " 'Single-gene inheritance diseases',\n",
       " 'Mitochondrial genetic inheritance disorders',\n",
       " 'Mitochondrial genetic inheritance disorders',\n",
       " 'Multifactorial genetic inheritance disorders',\n",
       " 'Mitochondrial genetic inheritance disorders',\n",
       " 'Single-gene inheritance diseases',\n",
       " 'Mitochondrial genetic inheritance disorders',\n",
       " 'Mitochondrial genetic inheritance disorders',\n",
       " 'Mitochondrial genetic inheritance disorders',\n",
       " 'Multifactorial genetic inheritance disorders',\n",
       " 'Mitochondrial genetic inheritance disorders',\n",
       " 'Mitochondrial genetic inheritance disorders',\n",
       " 'Single-gene inheritance diseases',\n",
       " 'Mitochondrial genetic inheritance disorders',\n",
       " 'Single-gene inheritance diseases',\n",
       " 'Single-gene inheritance diseases',\n",
       " 'Single-gene inheritance diseases',\n",
       " 'Mitochondrial genetic inheritance disorders',\n",
       " 'Single-gene inheritance diseases',\n",
       " 'Single-gene inheritance diseases',\n",
       " 'Mitochondrial genetic inheritance disorders',\n",
       " 'Mitochondrial genetic inheritance disorders',\n",
       " 'Multifactorial genetic inheritance disorders',\n",
       " 'Single-gene inheritance diseases',\n",
       " 'Mitochondrial genetic inheritance disorders',\n",
       " 'Multifactorial genetic inheritance disorders',\n",
       " 'Single-gene inheritance diseases',\n",
       " 'Single-gene inheritance diseases',\n",
       " 'Single-gene inheritance diseases',\n",
       " 'Single-gene inheritance diseases',\n",
       " 'Mitochondrial genetic inheritance disorders',\n",
       " 'Single-gene inheritance diseases',\n",
       " 'Mitochondrial genetic inheritance disorders',\n",
       " 'Single-gene inheritance diseases',\n",
       " 'Mitochondrial genetic inheritance disorders',\n",
       " 'Single-gene inheritance diseases',\n",
       " 'Mitochondrial genetic inheritance disorders',\n",
       " 'Mitochondrial genetic inheritance disorders',\n",
       " 'Single-gene inheritance diseases',\n",
       " 'Mitochondrial genetic inheritance disorders',\n",
       " 'Multifactorial genetic inheritance disorders',\n",
       " 'Single-gene inheritance diseases',\n",
       " 'Mitochondrial genetic inheritance disorders',\n",
       " 'Mitochondrial genetic inheritance disorders',\n",
       " 'Single-gene inheritance diseases',\n",
       " 'Single-gene inheritance diseases',\n",
       " 'Multifactorial genetic inheritance disorders',\n",
       " 'Single-gene inheritance diseases',\n",
       " 'Single-gene inheritance diseases',\n",
       " 'Single-gene inheritance diseases',\n",
       " 'Mitochondrial genetic inheritance disorders',\n",
       " 'Single-gene inheritance diseases',\n",
       " 'Mitochondrial genetic inheritance disorders',\n",
       " 'Single-gene inheritance diseases',\n",
       " 'Multifactorial genetic inheritance disorders',\n",
       " 'Mitochondrial genetic inheritance disorders',\n",
       " 'Mitochondrial genetic inheritance disorders',\n",
       " 'Mitochondrial genetic inheritance disorders',\n",
       " 'Single-gene inheritance diseases',\n",
       " 'Mitochondrial genetic inheritance disorders',\n",
       " 'Single-gene inheritance diseases',\n",
       " 'Mitochondrial genetic inheritance disorders',\n",
       " 'Mitochondrial genetic inheritance disorders',\n",
       " 'Mitochondrial genetic inheritance disorders',\n",
       " 'Single-gene inheritance diseases',\n",
       " 'Mitochondrial genetic inheritance disorders',\n",
       " 'Single-gene inheritance diseases',\n",
       " 'Mitochondrial genetic inheritance disorders',\n",
       " 'Mitochondrial genetic inheritance disorders',\n",
       " 'Single-gene inheritance diseases',\n",
       " 'Single-gene inheritance diseases',\n",
       " 'Multifactorial genetic inheritance disorders',\n",
       " 'Single-gene inheritance diseases',\n",
       " 'Single-gene inheritance diseases',\n",
       " 'Mitochondrial genetic inheritance disorders',\n",
       " 'Mitochondrial genetic inheritance disorders',\n",
       " 'Single-gene inheritance diseases',\n",
       " 'Mitochondrial genetic inheritance disorders',\n",
       " 'Mitochondrial genetic inheritance disorders',\n",
       " 'Mitochondrial genetic inheritance disorders',\n",
       " 'Single-gene inheritance diseases',\n",
       " 'Mitochondrial genetic inheritance disorders',\n",
       " 'Single-gene inheritance diseases',\n",
       " 'Single-gene inheritance diseases',\n",
       " 'Single-gene inheritance diseases',\n",
       " 'Single-gene inheritance diseases',\n",
       " 'Multifactorial genetic inheritance disorders',\n",
       " 'Single-gene inheritance diseases',\n",
       " 'Mitochondrial genetic inheritance disorders',\n",
       " 'Mitochondrial genetic inheritance disorders',\n",
       " 'Mitochondrial genetic inheritance disorders',\n",
       " 'Single-gene inheritance diseases',\n",
       " 'Mitochondrial genetic inheritance disorders',\n",
       " 'Multifactorial genetic inheritance disorders',\n",
       " 'Single-gene inheritance diseases',\n",
       " 'Single-gene inheritance diseases',\n",
       " 'Single-gene inheritance diseases',\n",
       " 'Mitochondrial genetic inheritance disorders',\n",
       " 'Mitochondrial genetic inheritance disorders',\n",
       " 'Single-gene inheritance diseases',\n",
       " 'Mitochondrial genetic inheritance disorders',\n",
       " 'Mitochondrial genetic inheritance disorders',\n",
       " 'Single-gene inheritance diseases',\n",
       " 'Mitochondrial genetic inheritance disorders',\n",
       " 'Mitochondrial genetic inheritance disorders',\n",
       " 'Multifactorial genetic inheritance disorders',\n",
       " 'Mitochondrial genetic inheritance disorders',\n",
       " 'Mitochondrial genetic inheritance disorders',\n",
       " 'Single-gene inheritance diseases',\n",
       " 'Single-gene inheritance diseases',\n",
       " 'Mitochondrial genetic inheritance disorders',\n",
       " 'Mitochondrial genetic inheritance disorders',\n",
       " 'Single-gene inheritance diseases',\n",
       " 'Mitochondrial genetic inheritance disorders',\n",
       " 'Mitochondrial genetic inheritance disorders',\n",
       " 'Mitochondrial genetic inheritance disorders',\n",
       " 'Single-gene inheritance diseases',\n",
       " 'Mitochondrial genetic inheritance disorders',\n",
       " 'Single-gene inheritance diseases',\n",
       " 'Mitochondrial genetic inheritance disorders',\n",
       " 'Single-gene inheritance diseases',\n",
       " 'Mitochondrial genetic inheritance disorders',\n",
       " 'Single-gene inheritance diseases',\n",
       " 'Single-gene inheritance diseases',\n",
       " 'Mitochondrial genetic inheritance disorders',\n",
       " 'Single-gene inheritance diseases',\n",
       " 'Single-gene inheritance diseases',\n",
       " 'Single-gene inheritance diseases',\n",
       " 'Mitochondrial genetic inheritance disorders',\n",
       " 'Mitochondrial genetic inheritance disorders',\n",
       " 'Multifactorial genetic inheritance disorders',\n",
       " ...]"
      ]
     },
     "execution_count": 553,
     "metadata": {},
     "output_type": "execute_result"
    }
   ],
   "source": [
    "Disorder_Subclass"
   ]
  },
  {
   "cell_type": "code",
   "execution_count": 568,
   "id": "d602181b",
   "metadata": {},
   "outputs": [
    {
     "data": {
      "text/html": [
       "<div>\n",
       "<style scoped>\n",
       "    .dataframe tbody tr th:only-of-type {\n",
       "        vertical-align: middle;\n",
       "    }\n",
       "\n",
       "    .dataframe tbody tr th {\n",
       "        vertical-align: top;\n",
       "    }\n",
       "\n",
       "    .dataframe thead th {\n",
       "        text-align: right;\n",
       "    }\n",
       "</style>\n",
       "<table border=\"1\" class=\"dataframe\">\n",
       "  <thead>\n",
       "    <tr style=\"text-align: right;\">\n",
       "      <th></th>\n",
       "      <th>0</th>\n",
       "      <th>1</th>\n",
       "    </tr>\n",
       "  </thead>\n",
       "  <tbody>\n",
       "    <tr>\n",
       "      <th>0</th>\n",
       "      <td>Cystic fibrosis</td>\n",
       "      <td>Single-gene inheritance diseases</td>\n",
       "    </tr>\n",
       "    <tr>\n",
       "      <th>1</th>\n",
       "      <td>Mitochondrial myopathy</td>\n",
       "      <td>Mitochondrial genetic inheritance disorders</td>\n",
       "    </tr>\n",
       "    <tr>\n",
       "      <th>2</th>\n",
       "      <td>Tay-Sachs</td>\n",
       "      <td>Single-gene inheritance diseases</td>\n",
       "    </tr>\n",
       "    <tr>\n",
       "      <th>3</th>\n",
       "      <td>Cystic fibrosis</td>\n",
       "      <td>Single-gene inheritance diseases</td>\n",
       "    </tr>\n",
       "    <tr>\n",
       "      <th>4</th>\n",
       "      <td>Diabetes</td>\n",
       "      <td>Multifactorial genetic inheritance disorders</td>\n",
       "    </tr>\n",
       "    <tr>\n",
       "      <th>...</th>\n",
       "      <td>...</td>\n",
       "      <td>...</td>\n",
       "    </tr>\n",
       "    <tr>\n",
       "      <th>9460</th>\n",
       "      <td>Cystic fibrosis</td>\n",
       "      <td>Single-gene inheritance diseases</td>\n",
       "    </tr>\n",
       "    <tr>\n",
       "      <th>9461</th>\n",
       "      <td>Diabetes</td>\n",
       "      <td>Multifactorial genetic inheritance disorders</td>\n",
       "    </tr>\n",
       "    <tr>\n",
       "      <th>9462</th>\n",
       "      <td>Leigh syndrome</td>\n",
       "      <td>Mitochondrial genetic inheritance disorders</td>\n",
       "    </tr>\n",
       "    <tr>\n",
       "      <th>9463</th>\n",
       "      <td>Diabetes</td>\n",
       "      <td>Multifactorial genetic inheritance disorders</td>\n",
       "    </tr>\n",
       "    <tr>\n",
       "      <th>9464</th>\n",
       "      <td>Cystic fibrosis</td>\n",
       "      <td>Single-gene inheritance diseases</td>\n",
       "    </tr>\n",
       "  </tbody>\n",
       "</table>\n",
       "<p>9465 rows × 2 columns</p>\n",
       "</div>"
      ],
      "text/plain": [
       "                           0                                             1\n",
       "0            Cystic fibrosis              Single-gene inheritance diseases\n",
       "1     Mitochondrial myopathy   Mitochondrial genetic inheritance disorders\n",
       "2                  Tay-Sachs              Single-gene inheritance diseases\n",
       "3            Cystic fibrosis              Single-gene inheritance diseases\n",
       "4                   Diabetes  Multifactorial genetic inheritance disorders\n",
       "...                      ...                                           ...\n",
       "9460         Cystic fibrosis              Single-gene inheritance diseases\n",
       "9461                Diabetes  Multifactorial genetic inheritance disorders\n",
       "9462          Leigh syndrome   Mitochondrial genetic inheritance disorders\n",
       "9463                Diabetes  Multifactorial genetic inheritance disorders\n",
       "9464         Cystic fibrosis              Single-gene inheritance diseases\n",
       "\n",
       "[9465 rows x 2 columns]"
      ]
     },
     "execution_count": 568,
     "metadata": {},
     "output_type": "execute_result"
    }
   ],
   "source": [
    "output_df[1] = Disorder_Subclass\n",
    "output_df"
   ]
  },
  {
   "cell_type": "code",
   "execution_count": 569,
   "id": "0da395dd",
   "metadata": {},
   "outputs": [],
   "source": [
    "output_df.to_csv('../Data/outputPredicted.csv')"
   ]
  },
  {
   "cell_type": "code",
   "execution_count": null,
   "id": "7e1d697f",
   "metadata": {},
   "outputs": [],
   "source": []
  },
  {
   "cell_type": "code",
   "execution_count": null,
   "id": "3887f5c2",
   "metadata": {},
   "outputs": [],
   "source": []
  },
  {
   "cell_type": "code",
   "execution_count": null,
   "id": "059fe919",
   "metadata": {},
   "outputs": [],
   "source": []
  },
  {
   "cell_type": "code",
   "execution_count": null,
   "id": "774a9bab",
   "metadata": {},
   "outputs": [],
   "source": []
  },
  {
   "cell_type": "code",
   "execution_count": null,
   "id": "9d9341d9",
   "metadata": {},
   "outputs": [],
   "source": []
  },
  {
   "cell_type": "code",
   "execution_count": null,
   "id": "8d420c6b",
   "metadata": {},
   "outputs": [],
   "source": []
  },
  {
   "cell_type": "code",
   "execution_count": 12,
   "id": "5e26fcef",
   "metadata": {},
   "outputs": [],
   "source": [
    "D_train = xgb.DMatrix(preprocessor.fit_transform(X_train), label=y_train)\n",
    "D_test = xgb.DMatrix(preprocessor.fit_transform(X_test), label=y_test)"
   ]
  },
  {
   "cell_type": "code",
   "execution_count": null,
   "id": "4b32e02a",
   "metadata": {},
   "outputs": [],
   "source": []
  },
  {
   "cell_type": "markdown",
   "id": "74a0854c",
   "metadata": {},
   "source": [
    "#### max_depth and min_child_weight"
   ]
  },
  {
   "cell_type": "code",
   "execution_count": null,
   "id": "cc69e81c",
   "metadata": {},
   "outputs": [],
   "source": [
    "gs_params={}}"
   ]
  },
  {
   "cell_type": "code",
   "execution_count": null,
   "id": "662613e3",
   "metadata": {},
   "outputs": [],
   "source": []
  },
  {
   "cell_type": "code",
   "execution_count": null,
   "id": "4b2fdb38",
   "metadata": {},
   "outputs": [],
   "source": []
  },
  {
   "cell_type": "code",
   "execution_count": null,
   "id": "b276ec14",
   "metadata": {},
   "outputs": [],
   "source": []
  },
  {
   "cell_type": "code",
   "execution_count": null,
   "id": "471a77c7",
   "metadata": {},
   "outputs": [],
   "source": []
  },
  {
   "cell_type": "code",
   "execution_count": null,
   "id": "f6ae33a9",
   "metadata": {},
   "outputs": [],
   "source": []
  },
  {
   "cell_type": "markdown",
   "id": "15128d63",
   "metadata": {},
   "source": [
    "#### Learning_Rate"
   ]
  },
  {
   "cell_type": "code",
   "execution_count": 17,
   "id": "47da9a7f",
   "metadata": {},
   "outputs": [
    {
     "name": "stdout",
     "output_type": "stream",
     "text": [
      "       eta   mlogloss\n",
      "0    0.001   2.175206\n",
      "1    0.010   2.012427\n",
      "2    0.100   1.505617\n",
      "3   10.000   5.070488\n",
      "4  100.000  20.860645\n"
     ]
    }
   ],
   "source": [
    "# Create list of eta values and empty list to store final round mlogloss per xgboost model\n",
    "eta_vals = [0.001, 0.01, 0.1, 10, 100]\n",
    "best_mlogloss = []\n",
    "\n",
    "# Systematically vary the eta \n",
    "for curr_val in eta_vals:\n",
    "\n",
    "    params[\"eta\"] = curr_val\n",
    "    \n",
    "    # Perform cross-validation: cv_results\n",
    "    cv_results = xgb.cv(dtrain=D_train, metrics=\"mlogloss\", early_stopping_rounds=5, \n",
    "                    params=params, nfold=3, num_boost_round=50, as_pandas=True)\n",
    "    \n",
    "    # Append the final round mlogloss to best_mlogloss\n",
    "    best_mlogloss.append(cv_results[\"test-mlogloss-mean\"].tail().values[-1])\n",
    "\n",
    "# Print the resultant DataFrame\n",
    "print(pd.DataFrame(list(zip(eta_vals, best_mlogloss)), columns=[\"eta\",\"mlogloss\"]))"
   ]
  },
  {
   "cell_type": "code",
   "execution_count": 20,
   "id": "00f963b0",
   "metadata": {},
   "outputs": [],
   "source": [
    "params[\"eta\"] = 0.1"
   ]
  },
  {
   "cell_type": "markdown",
   "id": "56712c2f",
   "metadata": {},
   "source": [
    "#### Max_Depth"
   ]
  },
  {
   "cell_type": "code",
   "execution_count": 22,
   "id": "f6f795d6",
   "metadata": {},
   "outputs": [
    {
     "name": "stdout",
     "output_type": "stream",
     "text": [
      "   max_depth  best_mlogloss\n",
      "0          2       1.649320\n",
      "1          4       1.547621\n",
      "2          6       1.505617\n",
      "3          8       1.524360\n",
      "4         10       1.568893\n",
      "5         15       1.625428\n",
      "6         20       1.640452\n"
     ]
    }
   ],
   "source": [
    "max_depths = [2, 4, 6, 8, 10, 15, 20]\n",
    "best_mlogloss = []\n",
    "\n",
    "# Systematically vary the max_depth\n",
    "for curr_val in max_depths:\n",
    "\n",
    "    params[\"max_depth\"] = curr_val\n",
    "    \n",
    "    # Perform cross-validation\n",
    "    cv_results = xgb.cv(dtrain=D_train, metrics=\"mlogloss\", early_stopping_rounds=5, \n",
    "                    params=params, nfold=3, num_boost_round=30, as_pandas=True)\n",
    "    \n",
    "    # Append the final round mlogloss to best_mlogloss\n",
    "    best_mlogloss.append(cv_results[\"test-mlogloss-mean\"].tail().values[-1])\n",
    "\n",
    "# Print the resultant DataFrame\n",
    "max_depth_df = pd.DataFrame(list(zip(max_depths, best_mlogloss)),columns=[\"max_depth\",\"best_mlogloss\"])\n",
    "print(max_depth_df)"
   ]
  },
  {
   "cell_type": "code",
   "execution_count": 27,
   "id": "23669847",
   "metadata": {},
   "outputs": [
    {
     "data": {
      "text/plain": [
       "Text(0, 0.5, 'mlogloss')"
      ]
     },
     "execution_count": 27,
     "metadata": {},
     "output_type": "execute_result"
    },
    {
     "data": {
      "image/png": "[encoded data removed]",
      "text/plain": [
       "<Figure size 432x288 with 1 Axes>"
      ]
     },
     "metadata": {
      "needs_background": "light"
     },
     "output_type": "display_data"
    }
   ],
   "source": [
    "plt.plot(max_depth_df[\"max_depth\"], max_depth_df[\"best_mlogloss\"])\n",
    "plt.xlabel(\"Max_Depth\")\n",
    "plt.ylabel(\"mlogloss\")"
   ]
  },
  {
   "cell_type": "code",
   "execution_count": 28,
   "id": "9ca2dfc9",
   "metadata": {},
   "outputs": [
    {
     "name": "stdout",
     "output_type": "stream",
     "text": [
      "   max_depth  best_mlogloss\n",
      "0          4       1.547621\n",
      "1          5       1.517368\n",
      "2          6       1.505617\n",
      "3          7       1.509131\n",
      "4          8       1.524360\n"
     ]
    }
   ],
   "source": [
    "# Second round max_depth optimization\n",
    "max_depths = [4, 5, 6, 7, 8]\n",
    "best_mlogloss = []\n",
    "\n",
    "# Systematically vary the max_depth\n",
    "for curr_val in max_depths:\n",
    "\n",
    "    params[\"max_depth\"] = curr_val\n",
    "    \n",
    "    # Perform cross-validation\n",
    "    cv_results = xgb.cv(dtrain=D_train, metrics=\"mlogloss\", early_stopping_rounds=5, \n",
    "                    params=params, nfold=3, num_boost_round=30, as_pandas=True)\n",
    "    \n",
    "    # Append the final round mlogloss to best_mlogloss\n",
    "    best_mlogloss.append(cv_results[\"test-mlogloss-mean\"].tail().values[-1])\n",
    "\n",
    "# Print the resultant DataFrame\n",
    "max_depth_df = pd.DataFrame(list(zip(max_depths, best_mlogloss)),columns=[\"max_depth\",\"best_mlogloss\"])\n",
    "print(max_depth_df)"
   ]
  },
  {
   "cell_type": "code",
   "execution_count": 29,
   "id": "820d3ece",
   "metadata": {},
   "outputs": [
    {
     "data": {
      "text/plain": [
       "Text(0, 0.5, 'mlogloss')"
      ]
     },
     "execution_count": 29,
     "metadata": {},
     "output_type": "execute_result"
    },
    {
     "data": {
      "image/png": "[encoded data removed]",
      "text/plain": [
       "<Figure size 432x288 with 1 Axes>"
      ]
     },
     "metadata": {
      "needs_background": "light"
     },
     "output_type": "display_data"
    }
   ],
   "source": [
    "plt.plot(max_depth_df[\"max_depth\"], max_depth_df[\"best_mlogloss\"])\n",
    "plt.xlabel(\"Max_Depth\")\n",
    "plt.ylabel(\"mlogloss\")"
   ]
  },
  {
   "cell_type": "code",
   "execution_count": 30,
   "id": "293a1f8f",
   "metadata": {},
   "outputs": [],
   "source": [
    "params[\"max_depth\"] = 6"
   ]
  },
  {
   "cell_type": "markdown",
   "id": "907db373",
   "metadata": {},
   "source": [
    "#### colsample_bytree"
   ]
  },
  {
   "cell_type": "code",
   "execution_count": 32,
   "id": "03f840f5",
   "metadata": {},
   "outputs": [
    {
     "name": "stdout",
     "output_type": "stream",
     "text": [
      "   colsample_bytree  best_mlogloss\n",
      "0               0.1       1.762221\n",
      "1               0.5       1.565242\n",
      "2               0.8       1.513763\n",
      "3               1.0       1.505617\n"
     ]
    }
   ],
   "source": [
    "colsample_bytree_vals = [0.1, 0.5, 0.8, 1]\n",
    "best_mlogloss = []\n",
    "\n",
    "# Systematically vary the hyperparameter value \n",
    "for curr_val in colsample_bytree_vals:\n",
    "\n",
    "    params[\"colsample_bytree\"] = curr_val\n",
    "    \n",
    "    # Perform cross-validation\n",
    "    cv_results = xgb.cv(dtrain=D_train, metrics=\"mlogloss\", early_stopping_rounds=5, \n",
    "                    params=params, nfold=3, num_boost_round=30, as_pandas=True)\n",
    "    \n",
    "    # Append the final round mlogloss to best_mlogloss\n",
    "    best_mlogloss.append(cv_results[\"test-mlogloss-mean\"].tail().values[-1])\n",
    "\n",
    "# Print the resultant DataFrame\n",
    "print(pd.DataFrame(list(zip(colsample_bytree_vals, best_mlogloss)), columns=[\"colsample_bytree\",\"best_mlogloss\"]))"
   ]
  },
  {
   "cell_type": "code",
   "execution_count": 33,
   "id": "e1d4884b",
   "metadata": {},
   "outputs": [],
   "source": [
    "params[\"colsample_bytree\"] = 1"
   ]
  },
  {
   "cell_type": "code",
   "execution_count": 35,
   "id": "7b655a57",
   "metadata": {},
   "outputs": [
    {
     "data": {
      "text/plain": [
       "{'objective': 'multi:softmax',\n",
       " 'num_class': 9,\n",
       " 'eta': 0.1,\n",
       " 'max_depth': 6,\n",
       " 'colsample_bytree': 1}"
      ]
     },
     "execution_count": 35,
     "metadata": {},
     "output_type": "execute_result"
    }
   ],
   "source": [
    "params"
   ]
  },
  {
   "cell_type": "code",
   "execution_count": 36,
   "id": "e1ea12c6",
   "metadata": {},
   "outputs": [
    {
     "name": "stdout",
     "output_type": "stream",
     "text": [
      "76.25533517449159\n",
      "37.911122269646\n"
     ]
    }
   ],
   "source": [
    "xgb_model2 = xgb.XGBClassifier(objective='Multi:softmax', eval_metric=\"mlogloss\", use_label_encoder=False, \n",
    "                               num_class=9, eta=0.1, max_depth=6,colsample_bytree=1)\n",
    "\n",
    "xgb_pipeline2 = Pipeline(steps=[('preprocessor', preprocessor),\n",
    "                                ('xgb_model', xgb_model2)])\n",
    "\n",
    "xgb_pipeline2.fit(X_train, y_train)\n",
    "\n",
    "pred2_train = xgb_pipeline2.predict(X_train)\n",
    "pred2_test = xgb_pipeline2.predict(X_test)\n",
    "\n",
    "print(accuracy_score(y_train, pred2_train) * 100)\n",
    "print(accuracy_score(y_test, pred2_test) * 100)"
   ]
  },
  {
   "cell_type": "code",
   "execution_count": null,
   "id": "49718ac2",
   "metadata": {},
   "outputs": [],
   "source": []
  },
  {
   "cell_type": "code",
   "execution_count": null,
   "id": "38e01fe7",
   "metadata": {},
   "outputs": [],
   "source": []
  },
  {
   "cell_type": "code",
   "execution_count": null,
   "id": "0729875b",
   "metadata": {},
   "outputs": [],
   "source": []
  },
  {
   "cell_type": "code",
   "execution_count": null,
   "id": "de32b235",
   "metadata": {},
   "outputs": [],
   "source": []
  },
  {
   "cell_type": "code",
   "execution_count": null,
   "id": "58e12b23",
   "metadata": {},
   "outputs": [],
   "source": []
  },
  {
   "cell_type": "code",
   "execution_count": null,
   "id": "c7fd66b9",
   "metadata": {},
   "outputs": [],
   "source": []
  },
  {
   "cell_type": "code",
   "execution_count": null,
   "id": "057cbdcc",
   "metadata": {},
   "outputs": [],
   "source": []
  },
  {
   "cell_type": "code",
   "execution_count": 214,
   "id": "0cf01868",
   "metadata": {},
   "outputs": [
    {
     "name": "stdout",
     "output_type": "stream",
     "text": [
      "[[  2   0   3  16   0   7   1   0   0]\n",
      " [  0   3   0   0  13   0   0   0   7]\n",
      " [  1   0 336  90   0  19 162  37   2]\n",
      " [  2   0 183  84   0  24  45   6   2]\n",
      " [  0   1   0   0  65   0  21  62 117]\n",
      " [  3   0  60  40   0  18   4   1   0]\n",
      " [  0   0 222  20  13   2 442 299  74]\n",
      " [  0   0  44   5  41   0 307 343 161]\n",
      " [  0   0   2   0  64   0 125 221 161]]\n"
     ]
    }
   ],
   "source": [
    "print(confusion_matrix(y_test, pred1))"
   ]
  },
  {
   "cell_type": "code",
   "execution_count": 215,
   "id": "c00a993a",
   "metadata": {},
   "outputs": [
    {
     "name": "stdout",
     "output_type": "stream",
     "text": [
      "              precision    recall  f1-score   support\n",
      "\n",
      "           0       0.25      0.07      0.11        29\n",
      "           1       0.75      0.13      0.22        23\n",
      "           2       0.40      0.52      0.45       647\n",
      "           3       0.33      0.24      0.28       346\n",
      "           4       0.33      0.24      0.28       266\n",
      "           5       0.26      0.14      0.18       126\n",
      "           6       0.40      0.41      0.41      1072\n",
      "           7       0.35      0.38      0.37       901\n",
      "           8       0.31      0.28      0.29       573\n",
      "\n",
      "    accuracy                           0.37      3983\n",
      "   macro avg       0.37      0.27      0.29      3983\n",
      "weighted avg       0.36      0.37      0.36      3983\n",
      "\n"
     ]
    }
   ],
   "source": [
    "print(classification_report(y_test, pred1))"
   ]
  },
  {
   "cell_type": "markdown",
   "id": "2355d897",
   "metadata": {},
   "source": [
    "The cross validation score shows that the initial out of the box model performs poorly with a mean of 0.37 accuracy."
   ]
  },
  {
   "cell_type": "code",
   "execution_count": 209,
   "id": "0c6a0c23",
   "metadata": {},
   "outputs": [
    {
     "data": {
      "text/plain": [
       "array([\"Alzheimer's\", 'Cancer', 'Cystic fibrosis', 'Diabetes',\n",
       "       'Hemochromatosis', \"Leber's hereditary optic neuropathy\",\n",
       "       'Leigh syndrome', 'Mitochondrial myopathy', 'Tay-Sachs'],\n",
       "      dtype=object)"
      ]
     },
     "execution_count": 209,
     "metadata": {},
     "output_type": "execute_result"
    }
   ],
   "source": [
    "le.inverse_transform([0, 1, 2, 3, 4, 5, 6, 7, 8])"
   ]
  },
  {
   "cell_type": "code",
   "execution_count": null,
   "id": "170bafc2",
   "metadata": {},
   "outputs": [],
   "source": []
  },
  {
   "cell_type": "code",
   "execution_count": null,
   "id": "bc402a8d",
   "metadata": {},
   "outputs": [],
   "source": []
  },
  {
   "cell_type": "code",
   "execution_count": null,
   "id": "30598d5b",
   "metadata": {},
   "outputs": [],
   "source": []
  },
  {
   "cell_type": "code",
   "execution_count": null,
   "id": "5de2a1a7",
   "metadata": {},
   "outputs": [],
   "source": []
  },
  {
   "cell_type": "code",
   "execution_count": null,
   "id": "0576266c",
   "metadata": {},
   "outputs": [],
   "source": []
  },
  {
   "cell_type": "code",
   "execution_count": null,
   "id": "fe7a09fb",
   "metadata": {},
   "outputs": [],
   "source": []
  },
  {
   "cell_type": "code",
   "execution_count": null,
   "id": "5982709b",
   "metadata": {},
   "outputs": [],
   "source": []
  },
  {
   "cell_type": "code",
   "execution_count": null,
   "id": "836183de",
   "metadata": {},
   "outputs": [],
   "source": []
  },
  {
   "cell_type": "code",
   "execution_count": null,
   "id": "e158d1f8",
   "metadata": {},
   "outputs": [],
   "source": []
  },
  {
   "cell_type": "code",
   "execution_count": 165,
   "id": "4910cd15",
   "metadata": {
    "scrolled": true
   },
   "outputs": [
    {
     "data": {
      "text/plain": [
       "<Figure size 1080x1080 with 0 Axes>"
      ]
     },
     "metadata": {},
     "output_type": "display_data"
    },
    {
     "data": {
      "image/png": "[encoded data removed]",
      "text/plain": [
       "<Figure size 432x288 with 1 Axes>"
      ]
     },
     "metadata": {
      "needs_background": "light"
     },
     "output_type": "display_data"
    }
   ],
   "source": [
    "plt.figure(figsize=(15,15))\n",
    "xgb.plot_importance(xgb_model1)\n",
    "plt.show()\n"
   ]
  },
  {
   "cell_type": "code",
   "execution_count": 177,
   "id": "e94a6fd8",
   "metadata": {},
   "outputs": [
    {
     "data": {
      "text/html": [
       "<div>\n",
       "<style scoped>\n",
       "    .dataframe tbody tr th:only-of-type {\n",
       "        vertical-align: middle;\n",
       "    }\n",
       "\n",
       "    .dataframe tbody tr th {\n",
       "        vertical-align: top;\n",
       "    }\n",
       "\n",
       "    .dataframe thead th {\n",
       "        text-align: right;\n",
       "    }\n",
       "</style>\n",
       "<table border=\"1\" class=\"dataframe\">\n",
       "  <thead>\n",
       "    <tr style=\"text-align: right;\">\n",
       "      <th></th>\n",
       "      <th>0</th>\n",
       "    </tr>\n",
       "  </thead>\n",
       "  <tbody>\n",
       "    <tr>\n",
       "      <th>10</th>\n",
       "      <td>0.064576</td>\n",
       "    </tr>\n",
       "    <tr>\n",
       "      <th>9</th>\n",
       "      <td>0.051650</td>\n",
       "    </tr>\n",
       "    <tr>\n",
       "      <th>8</th>\n",
       "      <td>0.045588</td>\n",
       "    </tr>\n",
       "    <tr>\n",
       "      <th>7</th>\n",
       "      <td>0.034802</td>\n",
       "    </tr>\n",
       "    <tr>\n",
       "      <th>6</th>\n",
       "      <td>0.028784</td>\n",
       "    </tr>\n",
       "    <tr>\n",
       "      <th>...</th>\n",
       "      <td>...</td>\n",
       "    </tr>\n",
       "    <tr>\n",
       "      <th>65</th>\n",
       "      <td>0.010200</td>\n",
       "    </tr>\n",
       "    <tr>\n",
       "      <th>13</th>\n",
       "      <td>0.009154</td>\n",
       "    </tr>\n",
       "    <tr>\n",
       "      <th>22</th>\n",
       "      <td>0.000000</td>\n",
       "    </tr>\n",
       "    <tr>\n",
       "      <th>20</th>\n",
       "      <td>0.000000</td>\n",
       "    </tr>\n",
       "    <tr>\n",
       "      <th>12</th>\n",
       "      <td>0.000000</td>\n",
       "    </tr>\n",
       "  </tbody>\n",
       "</table>\n",
       "<p>69 rows × 1 columns</p>\n",
       "</div>"
      ],
      "text/plain": [
       "           0\n",
       "10  0.064576\n",
       "9   0.051650\n",
       "8   0.045588\n",
       "7   0.034802\n",
       "6   0.028784\n",
       "..       ...\n",
       "65  0.010200\n",
       "13  0.009154\n",
       "22  0.000000\n",
       "20  0.000000\n",
       "12  0.000000\n",
       "\n",
       "[69 rows x 1 columns]"
      ]
     },
     "execution_count": 177,
     "metadata": {},
     "output_type": "execute_result"
    }
   ],
   "source": [
    "pd.DataFrame(xgb_model1.feature_importances_).sort_values(by=0, ascending=False)"
   ]
  },
  {
   "cell_type": "code",
   "execution_count": 166,
   "id": "0bac52e7",
   "metadata": {},
   "outputs": [
    {
     "ename": "ValueError",
     "evalue": "All arrays must be of the same length",
     "output_type": "error",
     "traceback": [
      "\u001b[1;31m---------------------------------------------------------------------------\u001b[0m",
      "\u001b[1;31mValueError\u001b[0m                                Traceback (most recent call last)",
      "\u001b[1;32m~\\AppData\\Local\\Temp/ipykernel_15328/3467216364.py\u001b[0m in \u001b[0;36m<module>\u001b[1;34m\u001b[0m\n\u001b[1;32m----> 1\u001b[1;33m importances = pd.DataFrame({\n\u001b[0m\u001b[0;32m      2\u001b[0m     \u001b[1;34m'Feature'\u001b[0m\u001b[1;33m:\u001b[0m \u001b[0mtrain_data\u001b[0m\u001b[1;33m.\u001b[0m\u001b[0mdrop\u001b[0m\u001b[1;33m(\u001b[0m\u001b[1;34m'Disorder_Subclass'\u001b[0m\u001b[1;33m,\u001b[0m \u001b[0maxis\u001b[0m\u001b[1;33m=\u001b[0m\u001b[1;36m1\u001b[0m\u001b[1;33m)\u001b[0m\u001b[1;33m.\u001b[0m\u001b[0mcolumns\u001b[0m\u001b[1;33m,\u001b[0m\u001b[1;33m\u001b[0m\u001b[1;33m\u001b[0m\u001b[0m\n\u001b[0;32m      3\u001b[0m     \u001b[1;34m'Importance'\u001b[0m\u001b[1;33m:\u001b[0m \u001b[0mxgb_model1\u001b[0m\u001b[1;33m.\u001b[0m\u001b[0mfeature_importances_\u001b[0m\u001b[1;33m\u001b[0m\u001b[1;33m\u001b[0m\u001b[0m\n\u001b[0;32m      4\u001b[0m })\n\u001b[0;32m      5\u001b[0m \u001b[0mimportances\u001b[0m \u001b[1;33m=\u001b[0m \u001b[0mimportances\u001b[0m\u001b[1;33m.\u001b[0m\u001b[0msort_values\u001b[0m\u001b[1;33m(\u001b[0m\u001b[0mby\u001b[0m\u001b[1;33m=\u001b[0m\u001b[1;34m'Importance'\u001b[0m\u001b[1;33m,\u001b[0m \u001b[0mascending\u001b[0m\u001b[1;33m=\u001b[0m\u001b[1;32mFalse\u001b[0m\u001b[1;33m)\u001b[0m\u001b[1;33m\u001b[0m\u001b[1;33m\u001b[0m\u001b[0m\n",
      "\u001b[1;32m~\\Anaconda-Python\\lib\\site-packages\\pandas\\core\\frame.py\u001b[0m in \u001b[0;36m__init__\u001b[1;34m(self, data, index, columns, dtype, copy)\u001b[0m\n\u001b[0;32m    612\u001b[0m         \u001b[1;32melif\u001b[0m \u001b[0misinstance\u001b[0m\u001b[1;33m(\u001b[0m\u001b[0mdata\u001b[0m\u001b[1;33m,\u001b[0m \u001b[0mdict\u001b[0m\u001b[1;33m)\u001b[0m\u001b[1;33m:\u001b[0m\u001b[1;33m\u001b[0m\u001b[1;33m\u001b[0m\u001b[0m\n\u001b[0;32m    613\u001b[0m             \u001b[1;31m# GH#38939 de facto copy defaults to False only in non-dict cases\u001b[0m\u001b[1;33m\u001b[0m\u001b[1;33m\u001b[0m\u001b[1;33m\u001b[0m\u001b[0m\n\u001b[1;32m--> 614\u001b[1;33m             \u001b[0mmgr\u001b[0m \u001b[1;33m=\u001b[0m \u001b[0mdict_to_mgr\u001b[0m\u001b[1;33m(\u001b[0m\u001b[0mdata\u001b[0m\u001b[1;33m,\u001b[0m \u001b[0mindex\u001b[0m\u001b[1;33m,\u001b[0m \u001b[0mcolumns\u001b[0m\u001b[1;33m,\u001b[0m \u001b[0mdtype\u001b[0m\u001b[1;33m=\u001b[0m\u001b[0mdtype\u001b[0m\u001b[1;33m,\u001b[0m \u001b[0mcopy\u001b[0m\u001b[1;33m=\u001b[0m\u001b[0mcopy\u001b[0m\u001b[1;33m,\u001b[0m \u001b[0mtyp\u001b[0m\u001b[1;33m=\u001b[0m\u001b[0mmanager\u001b[0m\u001b[1;33m)\u001b[0m\u001b[1;33m\u001b[0m\u001b[1;33m\u001b[0m\u001b[0m\n\u001b[0m\u001b[0;32m    615\u001b[0m         \u001b[1;32melif\u001b[0m \u001b[0misinstance\u001b[0m\u001b[1;33m(\u001b[0m\u001b[0mdata\u001b[0m\u001b[1;33m,\u001b[0m \u001b[0mma\u001b[0m\u001b[1;33m.\u001b[0m\u001b[0mMaskedArray\u001b[0m\u001b[1;33m)\u001b[0m\u001b[1;33m:\u001b[0m\u001b[1;33m\u001b[0m\u001b[1;33m\u001b[0m\u001b[0m\n\u001b[0;32m    616\u001b[0m             \u001b[1;32mimport\u001b[0m \u001b[0mnumpy\u001b[0m\u001b[1;33m.\u001b[0m\u001b[0mma\u001b[0m\u001b[1;33m.\u001b[0m\u001b[0mmrecords\u001b[0m \u001b[1;32mas\u001b[0m \u001b[0mmrecords\u001b[0m\u001b[1;33m\u001b[0m\u001b[1;33m\u001b[0m\u001b[0m\n",
      "\u001b[1;32m~\\Anaconda-Python\\lib\\site-packages\\pandas\\core\\internals\\construction.py\u001b[0m in \u001b[0;36mdict_to_mgr\u001b[1;34m(data, index, columns, dtype, typ, copy)\u001b[0m\n\u001b[0;32m    462\u001b[0m         \u001b[1;31m# TODO: can we get rid of the dt64tz special case above?\u001b[0m\u001b[1;33m\u001b[0m\u001b[1;33m\u001b[0m\u001b[1;33m\u001b[0m\u001b[0m\n\u001b[0;32m    463\u001b[0m \u001b[1;33m\u001b[0m\u001b[0m\n\u001b[1;32m--> 464\u001b[1;33m     return arrays_to_mgr(\n\u001b[0m\u001b[0;32m    465\u001b[0m         \u001b[0marrays\u001b[0m\u001b[1;33m,\u001b[0m \u001b[0mdata_names\u001b[0m\u001b[1;33m,\u001b[0m \u001b[0mindex\u001b[0m\u001b[1;33m,\u001b[0m \u001b[0mcolumns\u001b[0m\u001b[1;33m,\u001b[0m \u001b[0mdtype\u001b[0m\u001b[1;33m=\u001b[0m\u001b[0mdtype\u001b[0m\u001b[1;33m,\u001b[0m \u001b[0mtyp\u001b[0m\u001b[1;33m=\u001b[0m\u001b[0mtyp\u001b[0m\u001b[1;33m,\u001b[0m \u001b[0mconsolidate\u001b[0m\u001b[1;33m=\u001b[0m\u001b[0mcopy\u001b[0m\u001b[1;33m\u001b[0m\u001b[1;33m\u001b[0m\u001b[0m\n\u001b[0;32m    466\u001b[0m     )\n",
      "\u001b[1;32m~\\Anaconda-Python\\lib\\site-packages\\pandas\\core\\internals\\construction.py\u001b[0m in \u001b[0;36marrays_to_mgr\u001b[1;34m(arrays, arr_names, index, columns, dtype, verify_integrity, typ, consolidate)\u001b[0m\n\u001b[0;32m    117\u001b[0m         \u001b[1;31m# figure out the index, if necessary\u001b[0m\u001b[1;33m\u001b[0m\u001b[1;33m\u001b[0m\u001b[1;33m\u001b[0m\u001b[0m\n\u001b[0;32m    118\u001b[0m         \u001b[1;32mif\u001b[0m \u001b[0mindex\u001b[0m \u001b[1;32mis\u001b[0m \u001b[1;32mNone\u001b[0m\u001b[1;33m:\u001b[0m\u001b[1;33m\u001b[0m\u001b[1;33m\u001b[0m\u001b[0m\n\u001b[1;32m--> 119\u001b[1;33m             \u001b[0mindex\u001b[0m \u001b[1;33m=\u001b[0m \u001b[0m_extract_index\u001b[0m\u001b[1;33m(\u001b[0m\u001b[0marrays\u001b[0m\u001b[1;33m)\u001b[0m\u001b[1;33m\u001b[0m\u001b[1;33m\u001b[0m\u001b[0m\n\u001b[0m\u001b[0;32m    120\u001b[0m         \u001b[1;32melse\u001b[0m\u001b[1;33m:\u001b[0m\u001b[1;33m\u001b[0m\u001b[1;33m\u001b[0m\u001b[0m\n\u001b[0;32m    121\u001b[0m             \u001b[0mindex\u001b[0m \u001b[1;33m=\u001b[0m \u001b[0mensure_index\u001b[0m\u001b[1;33m(\u001b[0m\u001b[0mindex\u001b[0m\u001b[1;33m)\u001b[0m\u001b[1;33m\u001b[0m\u001b[1;33m\u001b[0m\u001b[0m\n",
      "\u001b[1;32m~\\Anaconda-Python\\lib\\site-packages\\pandas\\core\\internals\\construction.py\u001b[0m in \u001b[0;36m_extract_index\u001b[1;34m(data)\u001b[0m\n\u001b[0;32m    633\u001b[0m             \u001b[0mlengths\u001b[0m \u001b[1;33m=\u001b[0m \u001b[0mlist\u001b[0m\u001b[1;33m(\u001b[0m\u001b[0mset\u001b[0m\u001b[1;33m(\u001b[0m\u001b[0mraw_lengths\u001b[0m\u001b[1;33m)\u001b[0m\u001b[1;33m)\u001b[0m\u001b[1;33m\u001b[0m\u001b[1;33m\u001b[0m\u001b[0m\n\u001b[0;32m    634\u001b[0m             \u001b[1;32mif\u001b[0m \u001b[0mlen\u001b[0m\u001b[1;33m(\u001b[0m\u001b[0mlengths\u001b[0m\u001b[1;33m)\u001b[0m \u001b[1;33m>\u001b[0m \u001b[1;36m1\u001b[0m\u001b[1;33m:\u001b[0m\u001b[1;33m\u001b[0m\u001b[1;33m\u001b[0m\u001b[0m\n\u001b[1;32m--> 635\u001b[1;33m                 \u001b[1;32mraise\u001b[0m \u001b[0mValueError\u001b[0m\u001b[1;33m(\u001b[0m\u001b[1;34m\"All arrays must be of the same length\"\u001b[0m\u001b[1;33m)\u001b[0m\u001b[1;33m\u001b[0m\u001b[1;33m\u001b[0m\u001b[0m\n\u001b[0m\u001b[0;32m    636\u001b[0m \u001b[1;33m\u001b[0m\u001b[0m\n\u001b[0;32m    637\u001b[0m             \u001b[1;32mif\u001b[0m \u001b[0mhave_dicts\u001b[0m\u001b[1;33m:\u001b[0m\u001b[1;33m\u001b[0m\u001b[1;33m\u001b[0m\u001b[0m\n",
      "\u001b[1;31mValueError\u001b[0m: All arrays must be of the same length"
     ]
    }
   ],
   "source": [
    "importances = pd.DataFrame({\n",
    "    'Feature': train_data.drop('Disorder_Subclass', axis=1).columns,\n",
    "    'Importance': xgb_model1.feature_importances_\n",
    "})\n",
    "importances = importances.sort_values(by='Importance', ascending=False)\n",
    "importances = importances.set_index('Feature')\n",
    "importances"
   ]
  },
  {
   "cell_type": "code",
   "execution_count": null,
   "id": "ade81afa",
   "metadata": {},
   "outputs": [],
   "source": []
  },
  {
   "cell_type": "code",
   "execution_count": null,
   "id": "f506e305",
   "metadata": {},
   "outputs": [],
   "source": []
  },
  {
   "cell_type": "code",
   "execution_count": null,
   "id": "3b87f5ba",
   "metadata": {},
   "outputs": [],
   "source": []
  },
  {
   "cell_type": "code",
   "execution_count": null,
   "id": "6cde1e39",
   "metadata": {},
   "outputs": [],
   "source": []
  },
  {
   "cell_type": "code",
   "execution_count": null,
   "id": "9798d162",
   "metadata": {},
   "outputs": [],
   "source": []
  },
  {
   "cell_type": "code",
   "execution_count": null,
   "id": "4efe73f1",
   "metadata": {},
   "outputs": [],
   "source": []
  },
  {
   "cell_type": "code",
   "execution_count": 126,
   "id": "58211b6b",
   "metadata": {},
   "outputs": [
    {
     "name": "stdout",
     "output_type": "stream",
     "text": [
      "[13:12:59] WARNING: D:\\bld\\xgboost-split_1637426510059\\work\\src\\learner.cc:576: \n",
      "Parameters: { \"scale_pos_weight\" } might not be used.\n",
      "\n",
      "  This could be a false alarm, with some parameters getting used by language bindings but\n",
      "  then being mistakenly passed down to XGBoost core, or some parameter actually being used\n",
      "  but getting flagged wrongly here. Please open an issue if you find any such cases.\n",
      "\n",
      "\n",
      "[13:12:59] WARNING: D:\\bld\\xgboost-split_1637426510059\\work\\src\\learner.cc:1115: Starting in XGBoost 1.3.0, the default evaluation metric used with the objective 'multi:softprob' was changed from 'merror' to 'mlogloss'. Explicitly set eval_metric if you'd like to restore the old behavior.\n",
      "Accuracy for model 3: 37.26\n"
     ]
    }
   ],
   "source": [
    "xgb_pipeline3 = Pipeline(steps=[('preprocessor', preprocessor),\n",
    "                               ('xgb_model', model3)])\n",
    "\n",
    "xgb_pipeline3.fit(X_train, y_train)\n",
    "\n",
    "pred3 = xgb_pipeline3.predict(X_test)\n",
    "print(\"Accuracy for model 3: %.2f\" % (accuracy_score(y_test, pred3) * 100))"
   ]
  },
  {
   "cell_type": "code",
   "execution_count": null,
   "id": "be974737",
   "metadata": {},
   "outputs": [],
   "source": []
  },
  {
   "cell_type": "code",
   "execution_count": null,
   "id": "3ce72bbe",
   "metadata": {},
   "outputs": [],
   "source": []
  },
  {
   "cell_type": "code",
   "execution_count": null,
   "id": "20a027e1",
   "metadata": {},
   "outputs": [],
   "source": []
  },
  {
   "cell_type": "code",
   "execution_count": null,
   "id": "6d54fa01",
   "metadata": {},
   "outputs": [],
   "source": []
  },
  {
   "cell_type": "code",
   "execution_count": null,
   "id": "98e5553e",
   "metadata": {},
   "outputs": [],
   "source": []
  },
  {
   "cell_type": "code",
   "execution_count": 128,
   "id": "72eff8b3",
   "metadata": {},
   "outputs": [
    {
     "name": "stdout",
     "output_type": "stream",
     "text": [
      "Accuracy for model 3: 37.26\n"
     ]
    }
   ],
   "source": [
    "print(\"Accuracy for model 3: %.2f\" % (accuracy_score(y_test, pred3) * 100))"
   ]
  },
  {
   "cell_type": "code",
   "execution_count": 89,
   "id": "bf079083",
   "metadata": {},
   "outputs": [],
   "source": [
    "gbm_param_grid = {\n",
    "    'clf__learning_rate': np.arange(0.05, 1, 0.05),\n",
    "    'clf__max_depth': np.arange(3, 10, 1),\n",
    "    'clf__n_estimators': np.arange(50, 100, 50)\n",
    "}"
   ]
  },
  {
   "cell_type": "code",
   "execution_count": 87,
   "id": "e4c43037",
   "metadata": {},
   "outputs": [],
   "source": [
    "randomized_roc_auc = RandomizedSearchCV(estimator=xgb_pipeline, n_iter=2, verbose=1, \n",
    "                                        param_distributions=gbm_param_grid, scoring=\"roc_auc\", cv=2)"
   ]
  },
  {
   "cell_type": "code",
   "execution_count": 90,
   "id": "d72202a1",
   "metadata": {},
   "outputs": [
    {
     "name": "stdout",
     "output_type": "stream",
     "text": [
      "Fitting 2 folds for each of 2 candidates, totalling 4 fits\n"
     ]
    },
    {
     "ename": "ValueError",
     "evalue": "Invalid parameter clf for estimator Pipeline(steps=[('preprocessor',\n                 ColumnTransformer(transformers=[('num_transformer',\n                                                  SimpleImputer(fill_value=-99,\n                                                                strategy='constant'),\n                                                  Index(['Patient_Age', 'Blood_Cell', 'Mother_Age', 'Father_Age',\n       'Previous_Abortions', 'White_Blood_Cell', 'Symptom_1', 'Symptom_2',\n       'Symptom_3', 'Symptom_4', 'Symptom_5'],\n      dtype='object')),\n                                                 ('cat_transformer',\n                                                  Pipeline(steps=[('im...\n                               learning_rate=0.300000012, max_delta_step=0,\n                               max_depth=6, min_child_weight=1, missing=nan,\n                               monotone_constraints='()', n_estimators=100,\n                               n_jobs=6, num_parallel_tree=1,\n                               objective='multi:softprob', predictor='auto',\n                               random_state=0, reg_alpha=0, reg_lambda=1,\n                               scale_pos_weight=None, subsample=1,\n                               tree_method='exact', use_label_encoder=False,\n                               validate_parameters=1, verbosity=None))]). Check the list of available parameters with `estimator.get_params().keys()`.",
     "output_type": "error",
     "traceback": [
      "\u001b[1;31m---------------------------------------------------------------------------\u001b[0m",
      "\u001b[1;31mValueError\u001b[0m                                Traceback (most recent call last)",
      "\u001b[1;32m~\\AppData\\Local\\Temp/ipykernel_15328/4239710608.py\u001b[0m in \u001b[0;36m<module>\u001b[1;34m\u001b[0m\n\u001b[1;32m----> 1\u001b[1;33m \u001b[0mrandomized_roc_auc\u001b[0m\u001b[1;33m.\u001b[0m\u001b[0mfit\u001b[0m\u001b[1;33m(\u001b[0m\u001b[0mX\u001b[0m\u001b[1;33m,\u001b[0m \u001b[0mencoded_y\u001b[0m\u001b[1;33m)\u001b[0m\u001b[1;33m\u001b[0m\u001b[1;33m\u001b[0m\u001b[0m\n\u001b[0m",
      "\u001b[1;32m~\\Anaconda-Python\\lib\\site-packages\\sklearn\\utils\\validation.py\u001b[0m in \u001b[0;36minner_f\u001b[1;34m(*args, **kwargs)\u001b[0m\n\u001b[0;32m     61\u001b[0m             \u001b[0mextra_args\u001b[0m \u001b[1;33m=\u001b[0m \u001b[0mlen\u001b[0m\u001b[1;33m(\u001b[0m\u001b[0margs\u001b[0m\u001b[1;33m)\u001b[0m \u001b[1;33m-\u001b[0m \u001b[0mlen\u001b[0m\u001b[1;33m(\u001b[0m\u001b[0mall_args\u001b[0m\u001b[1;33m)\u001b[0m\u001b[1;33m\u001b[0m\u001b[1;33m\u001b[0m\u001b[0m\n\u001b[0;32m     62\u001b[0m             \u001b[1;32mif\u001b[0m \u001b[0mextra_args\u001b[0m \u001b[1;33m<=\u001b[0m \u001b[1;36m0\u001b[0m\u001b[1;33m:\u001b[0m\u001b[1;33m\u001b[0m\u001b[1;33m\u001b[0m\u001b[0m\n\u001b[1;32m---> 63\u001b[1;33m                 \u001b[1;32mreturn\u001b[0m \u001b[0mf\u001b[0m\u001b[1;33m(\u001b[0m\u001b[1;33m*\u001b[0m\u001b[0margs\u001b[0m\u001b[1;33m,\u001b[0m \u001b[1;33m**\u001b[0m\u001b[0mkwargs\u001b[0m\u001b[1;33m)\u001b[0m\u001b[1;33m\u001b[0m\u001b[1;33m\u001b[0m\u001b[0m\n\u001b[0m\u001b[0;32m     64\u001b[0m \u001b[1;33m\u001b[0m\u001b[0m\n\u001b[0;32m     65\u001b[0m             \u001b[1;31m# extra_args > 0\u001b[0m\u001b[1;33m\u001b[0m\u001b[1;33m\u001b[0m\u001b[1;33m\u001b[0m\u001b[0m\n",
      "\u001b[1;32m~\\Anaconda-Python\\lib\\site-packages\\sklearn\\model_selection\\_search.py\u001b[0m in \u001b[0;36mfit\u001b[1;34m(self, X, y, groups, **fit_params)\u001b[0m\n\u001b[0;32m    839\u001b[0m                 \u001b[1;32mreturn\u001b[0m \u001b[0mresults\u001b[0m\u001b[1;33m\u001b[0m\u001b[1;33m\u001b[0m\u001b[0m\n\u001b[0;32m    840\u001b[0m \u001b[1;33m\u001b[0m\u001b[0m\n\u001b[1;32m--> 841\u001b[1;33m             \u001b[0mself\u001b[0m\u001b[1;33m.\u001b[0m\u001b[0m_run_search\u001b[0m\u001b[1;33m(\u001b[0m\u001b[0mevaluate_candidates\u001b[0m\u001b[1;33m)\u001b[0m\u001b[1;33m\u001b[0m\u001b[1;33m\u001b[0m\u001b[0m\n\u001b[0m\u001b[0;32m    842\u001b[0m \u001b[1;33m\u001b[0m\u001b[0m\n\u001b[0;32m    843\u001b[0m             \u001b[1;31m# multimetric is determined here because in the case of a callable\u001b[0m\u001b[1;33m\u001b[0m\u001b[1;33m\u001b[0m\u001b[1;33m\u001b[0m\u001b[0m\n",
      "\u001b[1;32m~\\Anaconda-Python\\lib\\site-packages\\sklearn\\model_selection\\_search.py\u001b[0m in \u001b[0;36m_run_search\u001b[1;34m(self, evaluate_candidates)\u001b[0m\n\u001b[0;32m   1631\u001b[0m     \u001b[1;32mdef\u001b[0m \u001b[0m_run_search\u001b[0m\u001b[1;33m(\u001b[0m\u001b[0mself\u001b[0m\u001b[1;33m,\u001b[0m \u001b[0mevaluate_candidates\u001b[0m\u001b[1;33m)\u001b[0m\u001b[1;33m:\u001b[0m\u001b[1;33m\u001b[0m\u001b[1;33m\u001b[0m\u001b[0m\n\u001b[0;32m   1632\u001b[0m         \u001b[1;34m\"\"\"Search n_iter candidates from param_distributions\"\"\"\u001b[0m\u001b[1;33m\u001b[0m\u001b[1;33m\u001b[0m\u001b[0m\n\u001b[1;32m-> 1633\u001b[1;33m         evaluate_candidates(ParameterSampler(\n\u001b[0m\u001b[0;32m   1634\u001b[0m             \u001b[0mself\u001b[0m\u001b[1;33m.\u001b[0m\u001b[0mparam_distributions\u001b[0m\u001b[1;33m,\u001b[0m \u001b[0mself\u001b[0m\u001b[1;33m.\u001b[0m\u001b[0mn_iter\u001b[0m\u001b[1;33m,\u001b[0m\u001b[1;33m\u001b[0m\u001b[1;33m\u001b[0m\u001b[0m\n\u001b[0;32m   1635\u001b[0m             random_state=self.random_state))\n",
      "\u001b[1;32m~\\Anaconda-Python\\lib\\site-packages\\sklearn\\model_selection\\_search.py\u001b[0m in \u001b[0;36mevaluate_candidates\u001b[1;34m(candidate_params, cv, more_results)\u001b[0m\n\u001b[0;32m    793\u001b[0m                               n_splits, n_candidates, n_candidates * n_splits))\n\u001b[0;32m    794\u001b[0m \u001b[1;33m\u001b[0m\u001b[0m\n\u001b[1;32m--> 795\u001b[1;33m                 out = parallel(delayed(_fit_and_score)(clone(base_estimator),\n\u001b[0m\u001b[0;32m    796\u001b[0m                                                        \u001b[0mX\u001b[0m\u001b[1;33m,\u001b[0m \u001b[0my\u001b[0m\u001b[1;33m,\u001b[0m\u001b[1;33m\u001b[0m\u001b[1;33m\u001b[0m\u001b[0m\n\u001b[0;32m    797\u001b[0m                                                        \u001b[0mtrain\u001b[0m\u001b[1;33m=\u001b[0m\u001b[0mtrain\u001b[0m\u001b[1;33m,\u001b[0m \u001b[0mtest\u001b[0m\u001b[1;33m=\u001b[0m\u001b[0mtest\u001b[0m\u001b[1;33m,\u001b[0m\u001b[1;33m\u001b[0m\u001b[1;33m\u001b[0m\u001b[0m\n",
      "\u001b[1;32m~\\Anaconda-Python\\lib\\site-packages\\joblib\\parallel.py\u001b[0m in \u001b[0;36m__call__\u001b[1;34m(self, iterable)\u001b[0m\n\u001b[0;32m   1039\u001b[0m             \u001b[1;31m# remaining jobs.\u001b[0m\u001b[1;33m\u001b[0m\u001b[1;33m\u001b[0m\u001b[1;33m\u001b[0m\u001b[0m\n\u001b[0;32m   1040\u001b[0m             \u001b[0mself\u001b[0m\u001b[1;33m.\u001b[0m\u001b[0m_iterating\u001b[0m \u001b[1;33m=\u001b[0m \u001b[1;32mFalse\u001b[0m\u001b[1;33m\u001b[0m\u001b[1;33m\u001b[0m\u001b[0m\n\u001b[1;32m-> 1041\u001b[1;33m             \u001b[1;32mif\u001b[0m \u001b[0mself\u001b[0m\u001b[1;33m.\u001b[0m\u001b[0mdispatch_one_batch\u001b[0m\u001b[1;33m(\u001b[0m\u001b[0miterator\u001b[0m\u001b[1;33m)\u001b[0m\u001b[1;33m:\u001b[0m\u001b[1;33m\u001b[0m\u001b[1;33m\u001b[0m\u001b[0m\n\u001b[0m\u001b[0;32m   1042\u001b[0m                 \u001b[0mself\u001b[0m\u001b[1;33m.\u001b[0m\u001b[0m_iterating\u001b[0m \u001b[1;33m=\u001b[0m \u001b[0mself\u001b[0m\u001b[1;33m.\u001b[0m\u001b[0m_original_iterator\u001b[0m \u001b[1;32mis\u001b[0m \u001b[1;32mnot\u001b[0m \u001b[1;32mNone\u001b[0m\u001b[1;33m\u001b[0m\u001b[1;33m\u001b[0m\u001b[0m\n\u001b[0;32m   1043\u001b[0m \u001b[1;33m\u001b[0m\u001b[0m\n",
      "\u001b[1;32m~\\Anaconda-Python\\lib\\site-packages\\joblib\\parallel.py\u001b[0m in \u001b[0;36mdispatch_one_batch\u001b[1;34m(self, iterator)\u001b[0m\n\u001b[0;32m    857\u001b[0m                 \u001b[1;32mreturn\u001b[0m \u001b[1;32mFalse\u001b[0m\u001b[1;33m\u001b[0m\u001b[1;33m\u001b[0m\u001b[0m\n\u001b[0;32m    858\u001b[0m             \u001b[1;32melse\u001b[0m\u001b[1;33m:\u001b[0m\u001b[1;33m\u001b[0m\u001b[1;33m\u001b[0m\u001b[0m\n\u001b[1;32m--> 859\u001b[1;33m                 \u001b[0mself\u001b[0m\u001b[1;33m.\u001b[0m\u001b[0m_dispatch\u001b[0m\u001b[1;33m(\u001b[0m\u001b[0mtasks\u001b[0m\u001b[1;33m)\u001b[0m\u001b[1;33m\u001b[0m\u001b[1;33m\u001b[0m\u001b[0m\n\u001b[0m\u001b[0;32m    860\u001b[0m                 \u001b[1;32mreturn\u001b[0m \u001b[1;32mTrue\u001b[0m\u001b[1;33m\u001b[0m\u001b[1;33m\u001b[0m\u001b[0m\n\u001b[0;32m    861\u001b[0m \u001b[1;33m\u001b[0m\u001b[0m\n",
      "\u001b[1;32m~\\Anaconda-Python\\lib\\site-packages\\joblib\\parallel.py\u001b[0m in \u001b[0;36m_dispatch\u001b[1;34m(self, batch)\u001b[0m\n\u001b[0;32m    775\u001b[0m         \u001b[1;32mwith\u001b[0m \u001b[0mself\u001b[0m\u001b[1;33m.\u001b[0m\u001b[0m_lock\u001b[0m\u001b[1;33m:\u001b[0m\u001b[1;33m\u001b[0m\u001b[1;33m\u001b[0m\u001b[0m\n\u001b[0;32m    776\u001b[0m             \u001b[0mjob_idx\u001b[0m \u001b[1;33m=\u001b[0m \u001b[0mlen\u001b[0m\u001b[1;33m(\u001b[0m\u001b[0mself\u001b[0m\u001b[1;33m.\u001b[0m\u001b[0m_jobs\u001b[0m\u001b[1;33m)\u001b[0m\u001b[1;33m\u001b[0m\u001b[1;33m\u001b[0m\u001b[0m\n\u001b[1;32m--> 777\u001b[1;33m             \u001b[0mjob\u001b[0m \u001b[1;33m=\u001b[0m \u001b[0mself\u001b[0m\u001b[1;33m.\u001b[0m\u001b[0m_backend\u001b[0m\u001b[1;33m.\u001b[0m\u001b[0mapply_async\u001b[0m\u001b[1;33m(\u001b[0m\u001b[0mbatch\u001b[0m\u001b[1;33m,\u001b[0m \u001b[0mcallback\u001b[0m\u001b[1;33m=\u001b[0m\u001b[0mcb\u001b[0m\u001b[1;33m)\u001b[0m\u001b[1;33m\u001b[0m\u001b[1;33m\u001b[0m\u001b[0m\n\u001b[0m\u001b[0;32m    778\u001b[0m             \u001b[1;31m# A job can complete so quickly than its callback is\u001b[0m\u001b[1;33m\u001b[0m\u001b[1;33m\u001b[0m\u001b[1;33m\u001b[0m\u001b[0m\n\u001b[0;32m    779\u001b[0m             \u001b[1;31m# called before we get here, causing self._jobs to\u001b[0m\u001b[1;33m\u001b[0m\u001b[1;33m\u001b[0m\u001b[1;33m\u001b[0m\u001b[0m\n",
      "\u001b[1;32m~\\Anaconda-Python\\lib\\site-packages\\joblib\\_parallel_backends.py\u001b[0m in \u001b[0;36mapply_async\u001b[1;34m(self, func, callback)\u001b[0m\n\u001b[0;32m    206\u001b[0m     \u001b[1;32mdef\u001b[0m \u001b[0mapply_async\u001b[0m\u001b[1;33m(\u001b[0m\u001b[0mself\u001b[0m\u001b[1;33m,\u001b[0m \u001b[0mfunc\u001b[0m\u001b[1;33m,\u001b[0m \u001b[0mcallback\u001b[0m\u001b[1;33m=\u001b[0m\u001b[1;32mNone\u001b[0m\u001b[1;33m)\u001b[0m\u001b[1;33m:\u001b[0m\u001b[1;33m\u001b[0m\u001b[1;33m\u001b[0m\u001b[0m\n\u001b[0;32m    207\u001b[0m         \u001b[1;34m\"\"\"Schedule a func to be run\"\"\"\u001b[0m\u001b[1;33m\u001b[0m\u001b[1;33m\u001b[0m\u001b[0m\n\u001b[1;32m--> 208\u001b[1;33m         \u001b[0mresult\u001b[0m \u001b[1;33m=\u001b[0m \u001b[0mImmediateResult\u001b[0m\u001b[1;33m(\u001b[0m\u001b[0mfunc\u001b[0m\u001b[1;33m)\u001b[0m\u001b[1;33m\u001b[0m\u001b[1;33m\u001b[0m\u001b[0m\n\u001b[0m\u001b[0;32m    209\u001b[0m         \u001b[1;32mif\u001b[0m \u001b[0mcallback\u001b[0m\u001b[1;33m:\u001b[0m\u001b[1;33m\u001b[0m\u001b[1;33m\u001b[0m\u001b[0m\n\u001b[0;32m    210\u001b[0m             \u001b[0mcallback\u001b[0m\u001b[1;33m(\u001b[0m\u001b[0mresult\u001b[0m\u001b[1;33m)\u001b[0m\u001b[1;33m\u001b[0m\u001b[1;33m\u001b[0m\u001b[0m\n",
      "\u001b[1;32m~\\Anaconda-Python\\lib\\site-packages\\joblib\\_parallel_backends.py\u001b[0m in \u001b[0;36m__init__\u001b[1;34m(self, batch)\u001b[0m\n\u001b[0;32m    570\u001b[0m         \u001b[1;31m# Don't delay the application, to avoid keeping the input\u001b[0m\u001b[1;33m\u001b[0m\u001b[1;33m\u001b[0m\u001b[1;33m\u001b[0m\u001b[0m\n\u001b[0;32m    571\u001b[0m         \u001b[1;31m# arguments in memory\u001b[0m\u001b[1;33m\u001b[0m\u001b[1;33m\u001b[0m\u001b[1;33m\u001b[0m\u001b[0m\n\u001b[1;32m--> 572\u001b[1;33m         \u001b[0mself\u001b[0m\u001b[1;33m.\u001b[0m\u001b[0mresults\u001b[0m \u001b[1;33m=\u001b[0m \u001b[0mbatch\u001b[0m\u001b[1;33m(\u001b[0m\u001b[1;33m)\u001b[0m\u001b[1;33m\u001b[0m\u001b[1;33m\u001b[0m\u001b[0m\n\u001b[0m\u001b[0;32m    573\u001b[0m \u001b[1;33m\u001b[0m\u001b[0m\n\u001b[0;32m    574\u001b[0m     \u001b[1;32mdef\u001b[0m \u001b[0mget\u001b[0m\u001b[1;33m(\u001b[0m\u001b[0mself\u001b[0m\u001b[1;33m)\u001b[0m\u001b[1;33m:\u001b[0m\u001b[1;33m\u001b[0m\u001b[1;33m\u001b[0m\u001b[0m\n",
      "\u001b[1;32m~\\Anaconda-Python\\lib\\site-packages\\joblib\\parallel.py\u001b[0m in \u001b[0;36m__call__\u001b[1;34m(self)\u001b[0m\n\u001b[0;32m    260\u001b[0m         \u001b[1;31m# change the default number of processes to -1\u001b[0m\u001b[1;33m\u001b[0m\u001b[1;33m\u001b[0m\u001b[1;33m\u001b[0m\u001b[0m\n\u001b[0;32m    261\u001b[0m         \u001b[1;32mwith\u001b[0m \u001b[0mparallel_backend\u001b[0m\u001b[1;33m(\u001b[0m\u001b[0mself\u001b[0m\u001b[1;33m.\u001b[0m\u001b[0m_backend\u001b[0m\u001b[1;33m,\u001b[0m \u001b[0mn_jobs\u001b[0m\u001b[1;33m=\u001b[0m\u001b[0mself\u001b[0m\u001b[1;33m.\u001b[0m\u001b[0m_n_jobs\u001b[0m\u001b[1;33m)\u001b[0m\u001b[1;33m:\u001b[0m\u001b[1;33m\u001b[0m\u001b[1;33m\u001b[0m\u001b[0m\n\u001b[1;32m--> 262\u001b[1;33m             return [func(*args, **kwargs)\n\u001b[0m\u001b[0;32m    263\u001b[0m                     for func, args, kwargs in self.items]\n\u001b[0;32m    264\u001b[0m \u001b[1;33m\u001b[0m\u001b[0m\n",
      "\u001b[1;32m~\\Anaconda-Python\\lib\\site-packages\\joblib\\parallel.py\u001b[0m in \u001b[0;36m<listcomp>\u001b[1;34m(.0)\u001b[0m\n\u001b[0;32m    260\u001b[0m         \u001b[1;31m# change the default number of processes to -1\u001b[0m\u001b[1;33m\u001b[0m\u001b[1;33m\u001b[0m\u001b[1;33m\u001b[0m\u001b[0m\n\u001b[0;32m    261\u001b[0m         \u001b[1;32mwith\u001b[0m \u001b[0mparallel_backend\u001b[0m\u001b[1;33m(\u001b[0m\u001b[0mself\u001b[0m\u001b[1;33m.\u001b[0m\u001b[0m_backend\u001b[0m\u001b[1;33m,\u001b[0m \u001b[0mn_jobs\u001b[0m\u001b[1;33m=\u001b[0m\u001b[0mself\u001b[0m\u001b[1;33m.\u001b[0m\u001b[0m_n_jobs\u001b[0m\u001b[1;33m)\u001b[0m\u001b[1;33m:\u001b[0m\u001b[1;33m\u001b[0m\u001b[1;33m\u001b[0m\u001b[0m\n\u001b[1;32m--> 262\u001b[1;33m             return [func(*args, **kwargs)\n\u001b[0m\u001b[0;32m    263\u001b[0m                     for func, args, kwargs in self.items]\n\u001b[0;32m    264\u001b[0m \u001b[1;33m\u001b[0m\u001b[0m\n",
      "\u001b[1;32m~\\Anaconda-Python\\lib\\site-packages\\sklearn\\utils\\fixes.py\u001b[0m in \u001b[0;36m__call__\u001b[1;34m(self, *args, **kwargs)\u001b[0m\n\u001b[0;32m    220\u001b[0m     \u001b[1;32mdef\u001b[0m \u001b[0m__call__\u001b[0m\u001b[1;33m(\u001b[0m\u001b[0mself\u001b[0m\u001b[1;33m,\u001b[0m \u001b[1;33m*\u001b[0m\u001b[0margs\u001b[0m\u001b[1;33m,\u001b[0m \u001b[1;33m**\u001b[0m\u001b[0mkwargs\u001b[0m\u001b[1;33m)\u001b[0m\u001b[1;33m:\u001b[0m\u001b[1;33m\u001b[0m\u001b[1;33m\u001b[0m\u001b[0m\n\u001b[0;32m    221\u001b[0m         \u001b[1;32mwith\u001b[0m \u001b[0mconfig_context\u001b[0m\u001b[1;33m(\u001b[0m\u001b[1;33m**\u001b[0m\u001b[0mself\u001b[0m\u001b[1;33m.\u001b[0m\u001b[0mconfig\u001b[0m\u001b[1;33m)\u001b[0m\u001b[1;33m:\u001b[0m\u001b[1;33m\u001b[0m\u001b[1;33m\u001b[0m\u001b[0m\n\u001b[1;32m--> 222\u001b[1;33m             \u001b[1;32mreturn\u001b[0m \u001b[0mself\u001b[0m\u001b[1;33m.\u001b[0m\u001b[0mfunction\u001b[0m\u001b[1;33m(\u001b[0m\u001b[1;33m*\u001b[0m\u001b[0margs\u001b[0m\u001b[1;33m,\u001b[0m \u001b[1;33m**\u001b[0m\u001b[0mkwargs\u001b[0m\u001b[1;33m)\u001b[0m\u001b[1;33m\u001b[0m\u001b[1;33m\u001b[0m\u001b[0m\n\u001b[0m",
      "\u001b[1;32m~\\Anaconda-Python\\lib\\site-packages\\sklearn\\model_selection\\_validation.py\u001b[0m in \u001b[0;36m_fit_and_score\u001b[1;34m(estimator, X, y, scorer, train, test, verbose, parameters, fit_params, return_train_score, return_parameters, return_n_test_samples, return_times, return_estimator, split_progress, candidate_progress, error_score)\u001b[0m\n\u001b[0;32m    584\u001b[0m             \u001b[0mcloned_parameters\u001b[0m\u001b[1;33m[\u001b[0m\u001b[0mk\u001b[0m\u001b[1;33m]\u001b[0m \u001b[1;33m=\u001b[0m \u001b[0mclone\u001b[0m\u001b[1;33m(\u001b[0m\u001b[0mv\u001b[0m\u001b[1;33m,\u001b[0m \u001b[0msafe\u001b[0m\u001b[1;33m=\u001b[0m\u001b[1;32mFalse\u001b[0m\u001b[1;33m)\u001b[0m\u001b[1;33m\u001b[0m\u001b[1;33m\u001b[0m\u001b[0m\n\u001b[0;32m    585\u001b[0m \u001b[1;33m\u001b[0m\u001b[0m\n\u001b[1;32m--> 586\u001b[1;33m         \u001b[0mestimator\u001b[0m \u001b[1;33m=\u001b[0m \u001b[0mestimator\u001b[0m\u001b[1;33m.\u001b[0m\u001b[0mset_params\u001b[0m\u001b[1;33m(\u001b[0m\u001b[1;33m**\u001b[0m\u001b[0mcloned_parameters\u001b[0m\u001b[1;33m)\u001b[0m\u001b[1;33m\u001b[0m\u001b[1;33m\u001b[0m\u001b[0m\n\u001b[0m\u001b[0;32m    587\u001b[0m \u001b[1;33m\u001b[0m\u001b[0m\n\u001b[0;32m    588\u001b[0m     \u001b[0mstart_time\u001b[0m \u001b[1;33m=\u001b[0m \u001b[0mtime\u001b[0m\u001b[1;33m.\u001b[0m\u001b[0mtime\u001b[0m\u001b[1;33m(\u001b[0m\u001b[1;33m)\u001b[0m\u001b[1;33m\u001b[0m\u001b[1;33m\u001b[0m\u001b[0m\n",
      "\u001b[1;32m~\\Anaconda-Python\\lib\\site-packages\\sklearn\\pipeline.py\u001b[0m in \u001b[0;36mset_params\u001b[1;34m(self, **kwargs)\u001b[0m\n\u001b[0;32m    148\u001b[0m         \u001b[0mself\u001b[0m\u001b[1;33m\u001b[0m\u001b[1;33m\u001b[0m\u001b[0m\n\u001b[0;32m    149\u001b[0m         \"\"\"\n\u001b[1;32m--> 150\u001b[1;33m         \u001b[0mself\u001b[0m\u001b[1;33m.\u001b[0m\u001b[0m_set_params\u001b[0m\u001b[1;33m(\u001b[0m\u001b[1;34m'steps'\u001b[0m\u001b[1;33m,\u001b[0m \u001b[1;33m**\u001b[0m\u001b[0mkwargs\u001b[0m\u001b[1;33m)\u001b[0m\u001b[1;33m\u001b[0m\u001b[1;33m\u001b[0m\u001b[0m\n\u001b[0m\u001b[0;32m    151\u001b[0m         \u001b[1;32mreturn\u001b[0m \u001b[0mself\u001b[0m\u001b[1;33m\u001b[0m\u001b[1;33m\u001b[0m\u001b[0m\n\u001b[0;32m    152\u001b[0m \u001b[1;33m\u001b[0m\u001b[0m\n",
      "\u001b[1;32m~\\Anaconda-Python\\lib\\site-packages\\sklearn\\utils\\metaestimators.py\u001b[0m in \u001b[0;36m_set_params\u001b[1;34m(self, attr, **params)\u001b[0m\n\u001b[0;32m     52\u001b[0m                 \u001b[0mself\u001b[0m\u001b[1;33m.\u001b[0m\u001b[0m_replace_estimator\u001b[0m\u001b[1;33m(\u001b[0m\u001b[0mattr\u001b[0m\u001b[1;33m,\u001b[0m \u001b[0mname\u001b[0m\u001b[1;33m,\u001b[0m \u001b[0mparams\u001b[0m\u001b[1;33m.\u001b[0m\u001b[0mpop\u001b[0m\u001b[1;33m(\u001b[0m\u001b[0mname\u001b[0m\u001b[1;33m)\u001b[0m\u001b[1;33m)\u001b[0m\u001b[1;33m\u001b[0m\u001b[1;33m\u001b[0m\u001b[0m\n\u001b[0;32m     53\u001b[0m         \u001b[1;31m# 3. Step parameters and other initialisation arguments\u001b[0m\u001b[1;33m\u001b[0m\u001b[1;33m\u001b[0m\u001b[1;33m\u001b[0m\u001b[0m\n\u001b[1;32m---> 54\u001b[1;33m         \u001b[0msuper\u001b[0m\u001b[1;33m(\u001b[0m\u001b[1;33m)\u001b[0m\u001b[1;33m.\u001b[0m\u001b[0mset_params\u001b[0m\u001b[1;33m(\u001b[0m\u001b[1;33m**\u001b[0m\u001b[0mparams\u001b[0m\u001b[1;33m)\u001b[0m\u001b[1;33m\u001b[0m\u001b[1;33m\u001b[0m\u001b[0m\n\u001b[0m\u001b[0;32m     55\u001b[0m         \u001b[1;32mreturn\u001b[0m \u001b[0mself\u001b[0m\u001b[1;33m\u001b[0m\u001b[1;33m\u001b[0m\u001b[0m\n\u001b[0;32m     56\u001b[0m \u001b[1;33m\u001b[0m\u001b[0m\n",
      "\u001b[1;32m~\\Anaconda-Python\\lib\\site-packages\\sklearn\\base.py\u001b[0m in \u001b[0;36mset_params\u001b[1;34m(self, **params)\u001b[0m\n\u001b[0;32m    228\u001b[0m             \u001b[0mkey\u001b[0m\u001b[1;33m,\u001b[0m \u001b[0mdelim\u001b[0m\u001b[1;33m,\u001b[0m \u001b[0msub_key\u001b[0m \u001b[1;33m=\u001b[0m \u001b[0mkey\u001b[0m\u001b[1;33m.\u001b[0m\u001b[0mpartition\u001b[0m\u001b[1;33m(\u001b[0m\u001b[1;34m'__'\u001b[0m\u001b[1;33m)\u001b[0m\u001b[1;33m\u001b[0m\u001b[1;33m\u001b[0m\u001b[0m\n\u001b[0;32m    229\u001b[0m             \u001b[1;32mif\u001b[0m \u001b[0mkey\u001b[0m \u001b[1;32mnot\u001b[0m \u001b[1;32min\u001b[0m \u001b[0mvalid_params\u001b[0m\u001b[1;33m:\u001b[0m\u001b[1;33m\u001b[0m\u001b[1;33m\u001b[0m\u001b[0m\n\u001b[1;32m--> 230\u001b[1;33m                 raise ValueError('Invalid parameter %s for estimator %s. '\n\u001b[0m\u001b[0;32m    231\u001b[0m                                  \u001b[1;34m'Check the list of available parameters '\u001b[0m\u001b[1;33m\u001b[0m\u001b[1;33m\u001b[0m\u001b[0m\n\u001b[0;32m    232\u001b[0m                                  \u001b[1;34m'with `estimator.get_params().keys()`.'\u001b[0m \u001b[1;33m%\u001b[0m\u001b[1;33m\u001b[0m\u001b[1;33m\u001b[0m\u001b[0m\n",
      "\u001b[1;31mValueError\u001b[0m: Invalid parameter clf for estimator Pipeline(steps=[('preprocessor',\n                 ColumnTransformer(transformers=[('num_transformer',\n                                                  SimpleImputer(fill_value=-99,\n                                                                strategy='constant'),\n                                                  Index(['Patient_Age', 'Blood_Cell', 'Mother_Age', 'Father_Age',\n       'Previous_Abortions', 'White_Blood_Cell', 'Symptom_1', 'Symptom_2',\n       'Symptom_3', 'Symptom_4', 'Symptom_5'],\n      dtype='object')),\n                                                 ('cat_transformer',\n                                                  Pipeline(steps=[('im...\n                               learning_rate=0.300000012, max_delta_step=0,\n                               max_depth=6, min_child_weight=1, missing=nan,\n                               monotone_constraints='()', n_estimators=100,\n                               n_jobs=6, num_parallel_tree=1,\n                               objective='multi:softprob', predictor='auto',\n                               random_state=0, reg_alpha=0, reg_lambda=1,\n                               scale_pos_weight=None, subsample=1,\n                               tree_method='exact', use_label_encoder=False,\n                               validate_parameters=1, verbosity=None))]). Check the list of available parameters with `estimator.get_params().keys()`."
     ]
    }
   ],
   "source": [
    "randomized_roc_auc.fit(X, encoded_y)"
   ]
  },
  {
   "cell_type": "code",
   "execution_count": 90,
   "id": "574bb7d8",
   "metadata": {},
   "outputs": [
    {
     "ename": "NameError",
     "evalue": "name 'estimator' is not defined",
     "output_type": "error",
     "traceback": [
      "\u001b[1;31m---------------------------------------------------------------------------\u001b[0m",
      "\u001b[1;31mNameError\u001b[0m                                 Traceback (most recent call last)",
      "\u001b[1;32m~\\AppData\\Local\\Temp/ipykernel_2736/2616873292.py\u001b[0m in \u001b[0;36m<module>\u001b[1;34m\u001b[0m\n\u001b[1;32m----> 1\u001b[1;33m \u001b[0mestimator\u001b[0m\u001b[1;33m.\u001b[0m\u001b[0mget_params\u001b[0m\u001b[1;33m(\u001b[0m\u001b[1;33m)\u001b[0m\u001b[1;33m.\u001b[0m\u001b[0mkeys\u001b[0m\u001b[1;33m(\u001b[0m\u001b[1;33m)\u001b[0m\u001b[1;33m\u001b[0m\u001b[1;33m\u001b[0m\u001b[0m\n\u001b[0m",
      "\u001b[1;31mNameError\u001b[0m: name 'estimator' is not defined"
     ]
    }
   ],
   "source": [
    "estimator.get_params().keys()"
   ]
  },
  {
   "cell_type": "code",
   "execution_count": 68,
   "id": "b71346fd",
   "metadata": {},
   "outputs": [
    {
     "data": {
      "text/plain": [
       "array([nan, nan, nan])"
      ]
     },
     "execution_count": 68,
     "metadata": {},
     "output_type": "execute_result"
    }
   ],
   "source": [
    "cross_val_scores"
   ]
  },
  {
   "cell_type": "code",
   "execution_count": 20,
   "id": "d9ac9a71",
   "metadata": {},
   "outputs": [],
   "source": [
    "y_pred = xgb_pipeline.predict(X_test)"
   ]
  },
  {
   "cell_type": "code",
   "execution_count": 21,
   "id": "fbff25b7",
   "metadata": {},
   "outputs": [
    {
     "data": {
      "text/plain": [
       "0.36505146874215416"
      ]
     },
     "execution_count": 21,
     "metadata": {},
     "output_type": "execute_result"
    }
   ],
   "source": [
    "acc = accuracy_score(y_test, y_pred)\n",
    "acc"
   ]
  },
  {
   "cell_type": "code",
   "execution_count": 65,
   "id": "1edb2346",
   "metadata": {},
   "outputs": [
    {
     "data": {
      "text/plain": [
       "array(['Leigh syndrome', 'Mitochondrial myopathy', 'Cystic fibrosis', ...,\n",
       "       'Tay-Sachs', 'Diabetes', 'Cystic fibrosis'], dtype=object)"
      ]
     },
     "execution_count": 65,
     "metadata": {},
     "output_type": "execute_result"
    }
   ],
   "source": [
    "le.inverse_transform(y_pred)"
   ]
  },
  {
   "cell_type": "code",
   "execution_count": null,
   "id": "05e9e460",
   "metadata": {},
   "outputs": [],
   "source": []
  },
  {
   "cell_type": "code",
   "execution_count": null,
   "id": "6560941d",
   "metadata": {},
   "outputs": [],
   "source": []
  },
  {
   "cell_type": "code",
   "execution_count": null,
   "id": "16bae2a3",
   "metadata": {},
   "outputs": [],
   "source": []
  },
  {
   "cell_type": "code",
   "execution_count": null,
   "id": "b3dc13ae",
   "metadata": {},
   "outputs": [],
   "source": []
  },
  {
   "cell_type": "code",
   "execution_count": null,
   "id": "1255384b",
   "metadata": {},
   "outputs": [],
   "source": []
  },
  {
   "cell_type": "code",
   "execution_count": null,
   "id": "9b46afe5",
   "metadata": {},
   "outputs": [],
   "source": []
  },
  {
   "cell_type": "code",
   "execution_count": 29,
   "id": "8039f35a",
   "metadata": {},
   "outputs": [],
   "source": [
    "dmatrix = xgb.DMatrix(data=X_pre, label=encoded_y)"
   ]
  },
  {
   "cell_type": "code",
   "execution_count": 30,
   "id": "bdcd861f",
   "metadata": {},
   "outputs": [
    {
     "ename": "ValueError",
     "evalue": "tree must be Booster, XGBModel or dict instance",
     "output_type": "error",
     "traceback": [
      "\u001b[1;31m---------------------------------------------------------------------------\u001b[0m",
      "\u001b[1;31mValueError\u001b[0m                                Traceback (most recent call last)",
      "\u001b[1;32m~\\AppData\\Local\\Temp/ipykernel_2736/444942741.py\u001b[0m in \u001b[0;36m<module>\u001b[1;34m\u001b[0m\n\u001b[1;32m----> 1\u001b[1;33m \u001b[0mxgb\u001b[0m\u001b[1;33m.\u001b[0m\u001b[0mplot_importance\u001b[0m\u001b[1;33m(\u001b[0m\u001b[0mmodel_pipeline\u001b[0m\u001b[1;33m)\u001b[0m\u001b[1;33m\u001b[0m\u001b[1;33m\u001b[0m\u001b[0m\n\u001b[0m",
      "\u001b[1;32m~\\Anaconda-Python\\lib\\site-packages\\xgboost\\plotting.py\u001b[0m in \u001b[0;36mplot_importance\u001b[1;34m(booster, ax, height, xlim, ylim, title, xlabel, ylabel, fmap, importance_type, max_num_features, grid, show_values, **kwargs)\u001b[0m\n\u001b[0;32m     69\u001b[0m         \u001b[0mimportance\u001b[0m \u001b[1;33m=\u001b[0m \u001b[0mbooster\u001b[0m\u001b[1;33m\u001b[0m\u001b[1;33m\u001b[0m\u001b[0m\n\u001b[0;32m     70\u001b[0m     \u001b[1;32melse\u001b[0m\u001b[1;33m:\u001b[0m\u001b[1;33m\u001b[0m\u001b[1;33m\u001b[0m\u001b[0m\n\u001b[1;32m---> 71\u001b[1;33m         \u001b[1;32mraise\u001b[0m \u001b[0mValueError\u001b[0m\u001b[1;33m(\u001b[0m\u001b[1;34m'tree must be Booster, XGBModel or dict instance'\u001b[0m\u001b[1;33m)\u001b[0m\u001b[1;33m\u001b[0m\u001b[1;33m\u001b[0m\u001b[0m\n\u001b[0m\u001b[0;32m     72\u001b[0m \u001b[1;33m\u001b[0m\u001b[0m\n\u001b[0;32m     73\u001b[0m     \u001b[1;32mif\u001b[0m \u001b[1;32mnot\u001b[0m \u001b[0mimportance\u001b[0m\u001b[1;33m:\u001b[0m\u001b[1;33m\u001b[0m\u001b[1;33m\u001b[0m\u001b[0m\n",
      "\u001b[1;31mValueError\u001b[0m: tree must be Booster, XGBModel or dict instance"
     ]
    }
   ],
   "source": [
    "\n",
    "xgb.plot_importance(model_pipeline)"
   ]
  },
  {
   "cell_type": "code",
   "execution_count": 32,
   "id": "6945aebf",
   "metadata": {},
   "outputs": [
    {
     "name": "stdout",
     "output_type": "stream",
     "text": [
      "<xgboost.core.DMatrix object at 0x000001D524524BE0>\n"
     ]
    }
   ],
   "source": [
    "print(dmatrix)"
   ]
  },
  {
   "cell_type": "code",
   "execution_count": null,
   "id": "75622b17",
   "metadata": {},
   "outputs": [],
   "source": [
    "sudo apt-get install graphviz"
   ]
  }
 ],
 "metadata": {
  "kernelspec": {
   "display_name": "Python 3 (ipykernel)",
   "language": "python",
   "name": "python3"
  },
  "language_info": {
   "codemirror_mode": {
    "name": "ipython",
    "version": 3
   },
   "file_extension": ".py",
   "mimetype": "text/x-python",
   "name": "python",
   "nbconvert_exporter": "python",
   "pygments_lexer": "ipython3",
   "version": "3.8.8"
  }
 },
 "nbformat": 4,
 "nbformat_minor": 5
}
