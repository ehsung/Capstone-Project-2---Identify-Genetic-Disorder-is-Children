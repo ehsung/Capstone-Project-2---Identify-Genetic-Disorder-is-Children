{
  "nbformat": 4,
  "nbformat_minor": 0,
  "metadata": {
    "colab": {
      "provenance": [],
      "authorship_tag": "ABX9TyPzFaHPLbAL5TUru/FGQ2/I",
      "include_colab_link": true
    },
    "kernelspec": {
      "name": "ir",
      "display_name": "R"
    },
    "language_info": {
      "name": "R"
    }
  },
  "cells": [
    {
      "cell_type": "markdown",
      "metadata": {
        "id": "view-in-github",
        "colab_type": "text"
      },
      "source": [
        "<a href=\"https://colab.research.google.com/github/ehsung/Capstone_Project_2-Predicting_Genetic_Disorder_in_Children/blob/master/PUBH_6851_LabAssignment_1.ipynb\" target=\"_parent\"><img src=\"https://colab.research.google.com/assets/colab-badge.svg\" alt=\"Open In Colab\"/></a>"
      ]
    },
    {
      "cell_type": "markdown",
      "source": [
        "# PUBH_6851 - Lab Assignment 1\n",
        "\n",
        "# 10/2/24\n",
        "\n",
        "# Edward Sung"
      ],
      "metadata": {
        "id": "UZXEqPMZq7dx"
      }
    },
    {
      "cell_type": "markdown",
      "source": [
        "# Section 1"
      ],
      "metadata": {
        "id": "kVvxUC5NrLwF"
      }
    },
    {
      "cell_type": "code",
      "execution_count": 1,
      "metadata": {
        "colab": {
          "base_uri": "https://localhost:8080/",
          "height": 34
        },
        "id": "NVv5NdRoq3bl",
        "outputId": "43477bf5-e336-40d2-b32f-2dafd6cd7d65"
      },
      "outputs": [
        {
          "output_type": "display_data",
          "data": {
            "text/html": [
              "18.3846153846154"
            ],
            "text/markdown": "18.3846153846154",
            "text/latex": "18.3846153846154",
            "text/plain": [
              "[1] 18.38462"
            ]
          },
          "metadata": {}
        }
      ],
      "source": [
        "3 * 4 + 7 - 8 / 13"
      ]
    },
    {
      "cell_type": "code",
      "source": [
        "exp(-3)"
      ],
      "metadata": {
        "colab": {
          "base_uri": "https://localhost:8080/",
          "height": 34
        },
        "id": "LYrs4f2os0ED",
        "outputId": "316c9d41-cbd6-4b49-b2ac-3028cf46cb86"
      },
      "execution_count": 6,
      "outputs": [
        {
          "output_type": "display_data",
          "data": {
            "text/html": [
              "0.0497870683678639"
            ],
            "text/markdown": "0.0497870683678639",
            "text/latex": "0.0497870683678639",
            "text/plain": [
              "[1] 0.04978707"
            ]
          },
          "metadata": {}
        }
      ]
    },
    {
      "cell_type": "code",
      "source": [
        "100^(1/4)"
      ],
      "metadata": {
        "colab": {
          "base_uri": "https://localhost:8080/",
          "height": 34
        },
        "id": "vD8-MB_Ds7BV",
        "outputId": "a9509e31-9b04-4bd1-f558-c5655f8d97f1"
      },
      "execution_count": 8,
      "outputs": [
        {
          "output_type": "display_data",
          "data": {
            "text/html": [
              "3.16227766016838"
            ],
            "text/markdown": "3.16227766016838",
            "text/latex": "3.16227766016838",
            "text/plain": [
              "[1] 3.162278"
            ]
          },
          "metadata": {}
        }
      ]
    },
    {
      "cell_type": "code",
      "source": [
        "# R defaults to loge for log()\n",
        "log(15.8)"
      ],
      "metadata": {
        "colab": {
          "base_uri": "https://localhost:8080/",
          "height": 34
        },
        "id": "Wz3gNp9ds80i",
        "outputId": "baad1431-1ed6-4a9e-c3f9-9cc379732777"
      },
      "execution_count": 10,
      "outputs": [
        {
          "output_type": "display_data",
          "data": {
            "text/html": [
              "2.76000994003292"
            ],
            "text/markdown": "2.76000994003292",
            "text/latex": "2.76000994003292",
            "text/plain": [
              "[1] 2.76001"
            ]
          },
          "metadata": {}
        }
      ]
    },
    {
      "cell_type": "code",
      "source": [
        "sin(pi / 6)"
      ],
      "metadata": {
        "colab": {
          "base_uri": "https://localhost:8080/",
          "height": 34
        },
        "id": "5KSgQEm5tBOz",
        "outputId": "ee37ee84-ae2d-44a7-fa06-b30214590365"
      },
      "execution_count": 1,
      "outputs": [
        {
          "output_type": "display_data",
          "data": {
            "text/html": [
              "0.5"
            ],
            "text/markdown": "0.5",
            "text/latex": "0.5",
            "text/plain": [
              "[1] 0.5"
            ]
          },
          "metadata": {}
        }
      ]
    },
    {
      "cell_type": "markdown",
      "source": [
        "# Section 2"
      ],
      "metadata": {
        "id": "mWnyGtG65JxW"
      }
    },
    {
      "cell_type": "code",
      "source": [
        "x = 2\n",
        "y = 2\n",
        "x + Y"
      ],
      "metadata": {
        "colab": {
          "base_uri": "https://localhost:8080/",
          "height": 72
        },
        "id": "cV-u_xZ85KgL",
        "outputId": "934da859-f426-487b-cb95-150e7aa5e93a"
      },
      "execution_count": 2,
      "outputs": [
        {
          "output_type": "error",
          "ename": "ERROR",
          "evalue": "Error: object 'Y' not found\n",
          "traceback": [
            "Error: object 'Y' not found\nTraceback:\n"
          ]
        }
      ]
    },
    {
      "cell_type": "markdown",
      "source": [
        "This code block generates an error because the variable used is lower case y, while the expression uses upper case Y."
      ],
      "metadata": {
        "id": "MHCJjaOg5UXc"
      }
    },
    {
      "cell_type": "code",
      "source": [],
      "metadata": {
        "id": "o5qnFdG-5RPG"
      },
      "execution_count": null,
      "outputs": []
    }
  ]
}